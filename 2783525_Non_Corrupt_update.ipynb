{
 "cells": [
  {
   "cell_type": "code",
   "execution_count": 1,
   "id": "fd205617",
   "metadata": {},
   "outputs": [],
   "source": [
    "import mesa\n",
    "import numpy as np\n",
    "import pandas as pd\n",
    "import matplotlib.pyplot as plt\n",
    "import seaborn as sns\n",
    "import math\n",
    "from mesa.visualization.modules import CanvasGrid, ChartModule\n",
    "from mesa.visualization.ModularVisualization import ModularServer\n",
    "from mesa.visualization.modules import TextElement\n",
    "from mesa.datacollection import DataCollector\n",
    "import random"
   ]
  },
  {
   "cell_type": "code",
   "execution_count": 2,
   "id": "8d19ca1d-249b-4059-b5e3-e2629220f4d1",
   "metadata": {},
   "outputs": [],
   "source": [
    "#global seed\n",
    "# Set a global seed\n",
    "global_seed = 100\n",
    "random.seed(global_seed)\n",
    "np.random.seed(global_seed)"
   ]
  },
  {
   "cell_type": "code",
   "execution_count": 3,
   "id": "7dffec29-2337-49ae-99f5-7c678518de21",
   "metadata": {},
   "outputs": [],
   "source": [
    "class AgentCountElement(TextElement):\n",
    "    def __init__(self):\n",
    "        pass\n",
    "\n",
    "    def render(self, model):\n",
    "        agents_count = model.schedule.get_type_count(Non_corrupt_agent)\n",
    "        sugar_agents_count = model.schedule.get_type_count(Sugar)\n",
    "        return f\"Non Corrupt Agents: {agents_count} | Sugar Agents: {sugar_agents_count}\"\n",
    "\n",
    "class AverageWealthElement(TextElement):\n",
    "    def render(self, model):\n",
    "        # Calculate the average wealth of alive corrupt agents\n",
    "        agents = [agent for agent in model.schedule.agents_by_type[Non_corrupt_agent].values()]\n",
    "        if agents:\n",
    "            average_wealth = sum(agent.sugar_agent for agent in agents) / len(agents)\n",
    "        else:\n",
    "            average_wealth = 0\n",
    "        return f\"Average Wealth of Agents: {average_wealth:.2f}\""
   ]
  },
  {
   "cell_type": "code",
   "execution_count": 4,
   "id": "d0c280c5-c87f-4457-ab2b-94d10b09596d",
   "metadata": {},
   "outputs": [],
   "source": [
    "# Helper functions\n",
    "\n",
    "# Calculate the Euclidean distance between cells\n",
    "def distance(dist1, dist2):\n",
    "    x1, y1 = dist1\n",
    "    x2, y2 = dist2\n",
    "    dist_x = x1 - x2\n",
    "    dist_y = y1 - y2\n",
    "\n",
    "    dist = math.sqrt((dist_x ** 2) + (dist_y ** 2))\n",
    "    return dist"
   ]
  },
  {
   "cell_type": "code",
   "execution_count": 5,
   "id": "3b06c041",
   "metadata": {},
   "outputs": [],
   "source": [
    "#This is a class for sugar patches. Each sugar patch is treated as an agent\n",
    "class Sugar(mesa.Agent):\n",
    "    def __init__(self, unique_id, model, position, sugar_capacity):\n",
    "        super().__init__(unique_id, model)\n",
    "        self.position = position #position of sugar patche in the grid\n",
    "        self.curr_amount = sugar_capacity #the current amount of sugar in a patch. Can be reduced if an agent eats the sugar\n",
    "        self.sugar_capacity = sugar_capacity #maximum sugar for a patch\n",
    "        self.step_counter = 0  # Counter for steps\n",
    "\n",
    "    #The step function is going to add one unit of sugar per step until sugar is at its maximum capacity\n",
    "    def step(self):\n",
    "        #self.step_counter += 1\n",
    "        #if self.step_counter % 2 == 0:\n",
    "        self.curr_amount = min([self.sugar_capacity, self.curr_amount + 1])\n",
    "        #self.curr_amount = min([self.sugar_capacity, 10])\n",
    "        #print(self.unique_id, self.curr_amount, self.sugar_capacity)"
   ]
  },
  {
   "cell_type": "code",
   "execution_count": 6,
   "id": "a59895f7",
   "metadata": {},
   "outputs": [],
   "source": [
    "#Class for corrupt agents\n",
    "class Non_corrupt_agent(mesa.Agent):\n",
    "    def __init__(self, unique_id, model, position, moore = False, sugar_agent = 0, sugar_metabolism = 0, sugar_vision = 0):\n",
    "        super().__init__(unique_id, model)\n",
    "        self.position = position #position of sugar patch in the grid\n",
    "        self.moore = moore\n",
    "        self.sugar_agent = sugar_agent\n",
    "        self.sugar_metabolism = sugar_metabolism\n",
    "        self.sugar_vision = sugar_vision\n",
    "        self.shared_with_count = 0  # Counter for tracking sharing actions\n",
    "        self.share_amount = 0\n",
    "        self.steal_amount = 0 \n",
    "        self.share_total = 0\n",
    "        self.eat_total = 0 \n",
    "        self.moved = False\n",
    "        self.dead = False\n",
    "        self.survival = 0\n",
    "\n",
    "    #determines if the neigbouring cell is a sugar patch\n",
    "    def is_sugar(self, position):\n",
    "        cell = self.model.grid.get_cell_list_contents(position) # Gets the contents of a cell in a given position\n",
    "        for agent in cell:\n",
    "            if type(agent) is Sugar: # referes to the sugar class\n",
    "                return agent\n",
    "            return None\n",
    "    \n",
    "    # Get Sugar amount in the next cell\n",
    "    def sugar_amount(self, position):\n",
    "        sugar = self.is_sugar(position)\n",
    "        if sugar:\n",
    "            return sugar.curr_amount\n",
    "        return 0\n",
    "\n",
    "    def get_neighbours(self, position):\n",
    "        '''\n",
    "        This is a helper function for share_with_neighbours()\n",
    "        '''\n",
    "        cell = self.model.grid.get_cell_list_contents(position) # Gets the contents of a cell in a given position \n",
    "        \n",
    "        for agent in cell:\n",
    "            if isinstance(agent, Non_corrupt_agent): #if cell has corrupt agent\n",
    "                return agent\n",
    "    \n",
    "    # the following function helps move() to determine if a cell has been occupied\n",
    "    def cell_occupied(self, position):\n",
    "        if position == self.position: # Agents are allowed to stay in the same position\n",
    "           return False #not occupied\n",
    "        # Now we cater for a situation in which a cell is occupied\n",
    "        cell = self.model.grid.get_cell_list_contents(position) # Gets the contents of a cell in a given position\n",
    "        for j in cell: #going through all neihgbourhoot cells\n",
    "            if isinstance(j, Non_corrupt_agent): #if cell has corrupt agent\n",
    "                return True\n",
    "        return False\n",
    "\n",
    "    # This function calculates welfares non corrupt_agents\n",
    "    def calculate_welfare(self, sugar):\n",
    "        welfare = sugar/self.sugar_metabolism\n",
    "        return welfare\n",
    "\n",
    "    # This function calculates needs of non corrupt_agents\n",
    "    def calculate_need(self):\n",
    "        need = self.sugar_agent/self.sugar_metabolism\n",
    "        return need\n",
    "    \n",
    "    # This function etermines whether an agent is starved or not\n",
    "    def starved(self):\n",
    "        return (self.sugar_agent <= 0)\n",
    "    \n",
    "    def fair_share(self, other):\n",
    "\n",
    "        # Ensure both agents have sugar to share\n",
    "        assert self.sugar_agent > 0\n",
    "        assert other.sugar_agent > 0\n",
    "\n",
    "        # Calculate the needs of both agents\n",
    "        need_self = self.calculate_need()\n",
    "        need_other = other.calculate_need()\n",
    "\n",
    "        # Share if the other agent's need is greater and the difference in wealth is reasonable\n",
    "        if need_other > need_self:\n",
    "            share_amount = self.sugar_agent // 4  # Share half the difference\n",
    "            self.sugar_agent -= share_amount\n",
    "            other.sugar_agent += share_amount\n",
    "            self.shared_with_count += 1\n",
    "            self.share_total += share_amount\n",
    "            #print(f\"Agent {self.unique_id} has shared a total of {self.share_total}\")\n",
    "            print(f\"Agent {other.unique_id} with {need_other} has received {share_amount} from {self.unique_id} with {self.sugar_agent}\")\n",
    "        else:\n",
    "            # Do nothing if sharing would be unfair or unnecessary\n",
    "            pass\n",
    "\n",
    "        \n",
    "    def calculate_need(self):\n",
    "        '''\n",
    "        Calculates the need for sugar based on metabolism and current sugar levels.\n",
    "        A higher value indicates a greater need.\n",
    "        '''\n",
    "        return max(1, self.sugar_metabolism / self.sugar_agent) \n",
    "        \n",
    "    # This function moves agents in the grid\n",
    "    def move(self, exploration_prob=0.1):\n",
    "        '''\n",
    "        #1 Identify possible moves\n",
    "        #2 Determine move that maximizes welfare\n",
    "        #3 Find closest best option\n",
    "        #4 Move\n",
    "        '''\n",
    "    \n",
    "        #1 Identifying possible moves\n",
    "        neighborhood = [i\n",
    "                        for i in self.model.grid.get_neighborhood(self.position, self.moore, True, self.sugar_vision)\n",
    "                        if not self.cell_occupied(i)  # Ensure that multiple corrupt agents are not in the same cell\n",
    "                        ]\n",
    "    \n",
    "        # If the neighborhood is empty, return early\n",
    "        if not neighborhood:\n",
    "            return\n",
    "\n",
    "        #2 Randomly decide whether to explore\n",
    "        if self.random.random() < exploration_prob:\n",
    "            # Exploration: Choose a random position from the neighborhood\n",
    "            cell_final = [self.random.choice(neighborhood)]\n",
    "        else:\n",
    "            #3 Determine which neighbors provide maximum welfare\n",
    "            welfare = [self.calculate_welfare(self.sugar_agent + self.sugar_amount(position)) for position in neighborhood]\n",
    "            max_welfare = max(welfare)\n",
    "    \n",
    "            # Index of max welfare cells\n",
    "            cell_indices = [i for i in range(len(welfare))\n",
    "                            if math.isclose(welfare[i], max_welfare, rel_tol=1e-02)\n",
    "                            ]\n",
    "    \n",
    "            # Converting indexes to cell positions\n",
    "            cell_position = [neighborhood[i] for i in cell_indices]\n",
    "    \n",
    "            # Find the closest best option\n",
    "            shortest_dist = min(distance(self.position, position) for position in cell_position)\n",
    "            cell_final = [pos for pos in cell_position\n",
    "                          if math.isclose(distance(self.pos, pos), shortest_dist, rel_tol=1e-02)\n",
    "                          ]\n",
    "\n",
    "        # If no valid move is found (e.g., all welfare values are equal), explore randomly\n",
    "        if not cell_final or cell_final[0] == self.position:\n",
    "            # Choose a random position from the neighborhood to ensure the agent moves\n",
    "            cell_final = [self.random.choice(neighborhood)]\n",
    "    \n",
    "        self.random.shuffle(cell_final)  # Randomize choice if multiple equal options\n",
    "    \n",
    "        if cell_final[0] != self.position:\n",
    "            self.moved = True\n",
    "    \n",
    "        #4 Move agent\n",
    "        self.model.grid.move_agent(self, cell_final[0])\n",
    "    \n",
    "    # This function is for agents to consume resources\n",
    "    def eat(self):\n",
    "        sugar_patch = self.is_sugar(self.position)\n",
    "        if sugar_patch:\n",
    "            self.sugar_agent += sugar_patch.curr_amount\n",
    "            self.eat_total += sugar_patch.curr_amount\n",
    "            print(f\"Agent {self.unique_id} has eaten {sugar_patch.curr_amount} sugar from sugar {sugar_patch.unique_id}\")\n",
    "            sugar_patch.curr_amount = 0\n",
    "\n",
    "    def metabolize(self):\n",
    "        self.sugar_agent -= self.sugar_metabolism\n",
    "\n",
    "\n",
    "    # This function kills off agents who have usedup all their sugar\n",
    "    def agent_die(self):\n",
    "        if self.dead == False:\n",
    "                self.survival+=1\n",
    "        if self.starved():\n",
    "            #print(self.unique_id, self.sugar_agent, self.model.schedule.get_type_count(Corrupt_agent))\n",
    "            self.model.grid.remove_agent(self)\n",
    "            self.model.schedule.remove(self)\n",
    "            self.model.dead_agents += 1  # Increment the dead agents counter in the model\n",
    "            self.dead = True\n",
    "            #print(self.unique_id, self.sugar_agent, self.model.schedule.get_type_count(Corrupt_agent))\n",
    "        #elif not self.starved():\n",
    "        #    print(self.unique_id, self.sugar_agent, self.sugar_vision, self.model.schedule.get_type_count(Corrupt_agent))\n",
    "\n",
    "    #this is the function that corrupt agents will use to share resources\n",
    "    def share_with_neighbours(self):\n",
    "        '''\n",
    "        This will be in three parts:\n",
    "        1. Identify neighbours to share with\n",
    "        2. Share with those\n",
    "        3. Collect data\n",
    "        ''' \n",
    "        \n",
    "        #Neighbors below help us create a list of agents we can share with\n",
    "        ##get_neighbours() is ahelper function\n",
    "        neighbors = [self.get_neighbours(position) for position in self.model.grid.get_neighborhood(self.position, self.moore, False, self.sugar_vision)\n",
    "                    if self.cell_occupied(position)\n",
    "                   ]\n",
    "\n",
    "        if len(neighbors) == 0:\n",
    "            return [],[] #return 2 empty lists if an agent doesn't have neighbors\n",
    "        \n",
    "        #iterate through neighbours and share \n",
    "        for i in neighbors:\n",
    "            if i:\n",
    "                self.fair_share(i)\n",
    "  \n",
    "    "
   ]
  },
  {
   "cell_type": "code",
   "execution_count": 12,
   "id": "56d35ce0-1264-454c-afeb-70b65142f134",
   "metadata": {},
   "outputs": [],
   "source": [
    "#This class belongs to the main model, the engine of the project.\n",
    "class Model(mesa.Model):\n",
    "    def __init__(self, X = 50, Y = 50, init_population = 100, init_resource_min = 10, init_resource_max = 20, metabolism_min = 1, metabolism_max = 5, vision_min = 1, vision_max = 5, seed=None):\n",
    "        #grid-space width and height \n",
    "        self.X = X\n",
    "        self.Y = Y\n",
    "\n",
    "        # Set the global seed if provided\n",
    "        if seed is not None:\n",
    "            self.seed = seed\n",
    "            random.seed(self.seed)\n",
    "            np.random.seed(self.seed)\n",
    "        \n",
    "        #initializing population attributes\n",
    "        self.init_population = init_population\n",
    "        self.init_resource_min = init_resource_min\n",
    "        self.init_resource_max = init_resource_max\n",
    "        self.metabolism_min = metabolism_min\n",
    "        self.metabolism_max = metabolism_max\n",
    "        self.vision_min = vision_min\n",
    "        self.vision_max = vision_max\n",
    "        self.running = True\n",
    "        self.dead_agents = 0\n",
    "        self.cycle = 0\n",
    "\n",
    "        #initiate mesa grid\n",
    "        self.grid = mesa.space.MultiGrid(self.X, self.Y, torus = False)\n",
    "        self.schedule = mesa.time.RandomActivationByType(self) #randomizes the sequence in which agents perform actions\n",
    "        sugar_distro = np.genfromtxt(\"random.txt\")   \n",
    "        #plt.imshow(sugar_distro, origin = \"lower\") #Shows the grid\n",
    "\n",
    "        # Initialize the DataCollector\n",
    "        self.datacollector = mesa.DataCollector(\n",
    "            model_reporters = {\n",
    "                \"Step\": lambda model: model.schedule.steps,\n",
    "                \"Agents\": lambda model: model.schedule.get_type_count(Non_corrupt_agent),\n",
    "                \"Average Wealth\": lambda model: model.avg_wealth()\n",
    "            },\n",
    "\n",
    "            agent_reporters = {\n",
    "                \"Unique ID\": lambda agent: agent.unique_id if isinstance(agent, Non_corrupt_agent) else 0,\n",
    "                \"Wealth\": lambda agent: agent.sugar_agent if isinstance(agent, Non_corrupt_agent) else 0,\n",
    "                \"Survival\": lambda agent: agent.survival if isinstance(agent, Non_corrupt_agent) else 0,\n",
    "                \"Collection Efficiency\": lambda agent: agent.sugar_vision if isinstance(agent, Non_corrupt_agent) else 0,\n",
    "                \"Consumption\": lambda agent: agent.sugar_metabolism if isinstance(agent, Non_corrupt_agent) else 0,\n",
    "                \"Share Amount\": lambda agent: agent.share_amount if isinstance(agent, Non_corrupt_agent) else 0,\n",
    "                \"Stolen Amount\": lambda agent: agent.steal_amount if isinstance(agent, Non_corrupt_agent) else 0,\n",
    "                \"Moved\": lambda agent: agent.moved if isinstance(agent, Non_corrupt_agent) else 0,\n",
    "                \"Total Shared\": lambda agent: agent.share_total if isinstance(agent, Non_corrupt_agent) else 0,\n",
    "                \"Total Eaten\": lambda agent: agent.eat_total if isinstance(agent, Non_corrupt_agent) else 0,\n",
    "                \"Share count\": lambda agent: agent.shared_with_count if isinstance(agent, Non_corrupt_agent) else 0\n",
    "            }\n",
    "        )\n",
    "        \n",
    "        #The for loop is used to create sugar agents in the grid\n",
    "        all_agent_id = 0\n",
    "        for _, (x,y) in self.grid.coord_iter():\n",
    "            max_sugar = sugar_distro[x,y] #getting sugar levels from the sugar distribution\n",
    "            if max_sugar > 0:\n",
    "                sugar_agent = Sugar(all_agent_id, self, (x,y), max_sugar) #creating an a sugar agent\n",
    "                self.grid.place_agent(sugar_agent, (x,y)) #places an agent in the grid wherever there is a sugar level greater than 0\n",
    "                self.schedule.add(sugar_agent)\n",
    "                #print(sugar_agent.unique_id, sugar_agent.position,sugar_agent.sugar_capacity)\n",
    "                all_agent_id = all_agent_id + 1\n",
    "        #for _, (x,y) in self.grid.coord_iter():\n",
    "        #    print(_, (x,y))\n",
    "\n",
    "        # For loop for creating corrupt agents\n",
    "        for each in range(self.init_population):\n",
    "            #placing the polulation at random x y coordinates in the grid\n",
    "            x = self.random.randrange(self.X)\n",
    "            y = self.random.randrange(self.Y)\n",
    "\n",
    "            #uniform distribution of initial resources, vision and metabolism for sugar agents\n",
    "            sugar_agent = int(self.random.uniform(self.init_resource_min, self.init_resource_max + 1))\n",
    "            sugar_metabolism = int(self.random.uniform(self.metabolism_min, self.metabolism_max + 1))\n",
    "            sugar_vision = int(self.random.uniform(self.vision_min, self.vision_max + 1))\n",
    "\n",
    "            #creating a corrupt agent\n",
    "            non_corrupt_agent = Non_corrupt_agent(all_agent_id, self, (x,y), moore = False, sugar_agent = sugar_agent, sugar_metabolism = sugar_metabolism, sugar_vision = sugar_vision)\n",
    "\n",
    "            #place agent in the grid\n",
    "            self.grid.place_agent(non_corrupt_agent, (x,y))\n",
    "            self.schedule.add(non_corrupt_agent)\n",
    "            #print(\"ID\", \"Position\", \"Initial Amount\", \"Metabolism\", \"Vision\")\n",
    "            #print(corrupt_agent.unique_id, corrupt_agent.position, corrupt_agent.sugar_agent, corrupt_agent.sugar_metabolism, corrupt_agent.sugar_vision)\n",
    "            all_agent_id = all_agent_id + 1\n",
    "            \n",
    "    def avg_wealth(self):\n",
    "        \"\"\"Calculate the average wealth of all living corrupt agents.\"\"\"\n",
    "        agents = [agent for agent in self.schedule.agents_by_type[Non_corrupt_agent].values()]\n",
    "        if agents:\n",
    "            average_wealth = sum(agent.sugar_agent for agent in agents) / len(agents)\n",
    "        else:\n",
    "            average_wealth = 0\n",
    "        return average_wealth\n",
    "\n",
    "    \n",
    "    # This is a helper function for the step function that randomizes the movement of agents (Which agent oes first) \n",
    "    def randomize_agents(self):\n",
    "        non_corrupt_agents_shuffle = list(self.schedule.agents_by_type[Non_corrupt_agent].values())\n",
    "        self.random.shuffle(non_corrupt_agents_shuffle)\n",
    "        return non_corrupt_agents_shuffle\n",
    "        \n",
    "    # What the model does in each step    \n",
    "    def step(self):\n",
    "        self.schedule.step()\n",
    "        # Sugar patch steps\n",
    "        for sugar_agent in self.schedule.agents_by_type[Sugar].values():\n",
    "            sugar_agent.step()\n",
    "\n",
    "        # Corrupt Agents steps\n",
    "        non_corrupt_agents_shuffle = self.randomize_agents()\n",
    "        \n",
    "        for i in non_corrupt_agents_shuffle:\n",
    "            i.move()\n",
    "            i.metabolize()\n",
    "            i.agent_die()\n",
    "\n",
    "         # Case-like structure based on the cycle counter\n",
    "        if self.cycle == 0:\n",
    "            for i in non_corrupt_agents_shuffle:\n",
    "                i.eat()\n",
    "                \n",
    "        elif self.cycle == 1:\n",
    "            non_corrupt_agents_shuffle = self.randomize_agents() # Re-shuffle after agents have died\n",
    "            for i in non_corrupt_agents_shuffle:  # Remaining agents after death\n",
    "                i.share_with_neighbours()\n",
    "        \n",
    "        self.datacollector.collect(self)\n",
    "        self.schedule.steps += 1 # Important for data collector\n",
    "        self.cycle = (self.cycle + 1) % 2\n",
    "        \n",
    "    def run_model(self, step_count):\n",
    "        for i in range(step_count):\n",
    "            self.step() \n",
    "            print(self.schedule.steps)\n",
    "            agent_results = self.datacollector.get_agent_vars_dataframe()\n",
    "            agent_results_filtered = agent_results[agent_results[\"Unique ID\"] >= 2069]\n",
    "            #print(agent_results_filtered)\n",
    "            if i == 99 or i == 199:\n",
    "                agent_results_filtered.to_csv(f\"Data/non_corrupt_agent_results_{self.schedule.steps}.csv\")"
   ]
  },
  {
   "cell_type": "code",
   "execution_count": 13,
   "id": "868d4dc5-85f1-4538-b16f-1d877b35b40c",
   "metadata": {
    "scrolled": true
   },
   "outputs": [
    {
     "name": "stderr",
     "output_type": "stream",
     "text": [
      "C:\\Users\\DELL\\AppData\\Local\\Temp\\ipykernel_484\\3470171674.py:4: FutureWarning: The Mesa Model class was not initialized. In the future, you need to explicitly initialize the Model by calling super().__init__() on initialization.\n",
      "C:\\Users\\DELL\\AppData\\Local\\Temp\\ipykernel_484\\329254329.py:109: DeprecationWarning: Because of the shift to using AgentSet, in the future this attribute will return a dict withtype as key as AgentSet as value. Future behavior is available via RandomActivationByType._agents_by_type\n",
      "  for sugar_agent in self.schedule.agents_by_type[Sugar].values():\n",
      "C:\\Users\\DELL\\AppData\\Local\\Temp\\ipykernel_484\\329254329.py:101: DeprecationWarning: Because of the shift to using AgentSet, in the future this attribute will return a dict withtype as key as AgentSet as value. Future behavior is available via RandomActivationByType._agents_by_type\n",
      "  non_corrupt_agents_shuffle = list(self.schedule.agents_by_type[Non_corrupt_agent].values())\n",
      "C:\\Users\\DELL\\AppData\\Local\\Temp\\ipykernel_484\\329254329.py:91: DeprecationWarning: Because of the shift to using AgentSet, in the future this attribute will return a dict withtype as key as AgentSet as value. Future behavior is available via RandomActivationByType._agents_by_type\n",
      "  agents = [agent for agent in self.schedule.agents_by_type[Non_corrupt_agent].values()]\n",
      "C:\\Users\\DELL\\AppData\\Local\\Temp\\ipykernel_484\\329254329.py:109: DeprecationWarning: Because of the shift to using AgentSet, in the future this attribute will return a dict withtype as key as AgentSet as value. Future behavior is available via RandomActivationByType._agents_by_type\n",
      "  for sugar_agent in self.schedule.agents_by_type[Sugar].values():\n",
      "C:\\Users\\DELL\\AppData\\Local\\Temp\\ipykernel_484\\329254329.py:101: DeprecationWarning: Because of the shift to using AgentSet, in the future this attribute will return a dict withtype as key as AgentSet as value. Future behavior is available via RandomActivationByType._agents_by_type\n",
      "  non_corrupt_agents_shuffle = list(self.schedule.agents_by_type[Non_corrupt_agent].values())\n",
      "C:\\Users\\DELL\\AppData\\Local\\Temp\\ipykernel_484\\329254329.py:91: DeprecationWarning: Because of the shift to using AgentSet, in the future this attribute will return a dict withtype as key as AgentSet as value. Future behavior is available via RandomActivationByType._agents_by_type\n",
      "  agents = [agent for agent in self.schedule.agents_by_type[Non_corrupt_agent].values()]\n",
      "C:\\Users\\DELL\\AppData\\Local\\Temp\\ipykernel_484\\329254329.py:109: DeprecationWarning: Because of the shift to using AgentSet, in the future this attribute will return a dict withtype as key as AgentSet as value. Future behavior is available via RandomActivationByType._agents_by_type\n",
      "  for sugar_agent in self.schedule.agents_by_type[Sugar].values():\n",
      "C:\\Users\\DELL\\AppData\\Local\\Temp\\ipykernel_484\\329254329.py:101: DeprecationWarning: Because of the shift to using AgentSet, in the future this attribute will return a dict withtype as key as AgentSet as value. Future behavior is available via RandomActivationByType._agents_by_type\n",
      "  non_corrupt_agents_shuffle = list(self.schedule.agents_by_type[Non_corrupt_agent].values())\n",
      "C:\\Users\\DELL\\AppData\\Local\\Temp\\ipykernel_484\\329254329.py:91: DeprecationWarning: Because of the shift to using AgentSet, in the future this attribute will return a dict withtype as key as AgentSet as value. Future behavior is available via RandomActivationByType._agents_by_type\n",
      "  agents = [agent for agent in self.schedule.agents_by_type[Non_corrupt_agent].values()]\n",
      "C:\\Users\\DELL\\AppData\\Local\\Temp\\ipykernel_484\\329254329.py:109: DeprecationWarning: Because of the shift to using AgentSet, in the future this attribute will return a dict withtype as key as AgentSet as value. Future behavior is available via RandomActivationByType._agents_by_type\n",
      "  for sugar_agent in self.schedule.agents_by_type[Sugar].values():\n",
      "C:\\Users\\DELL\\AppData\\Local\\Temp\\ipykernel_484\\329254329.py:101: DeprecationWarning: Because of the shift to using AgentSet, in the future this attribute will return a dict withtype as key as AgentSet as value. Future behavior is available via RandomActivationByType._agents_by_type\n",
      "  non_corrupt_agents_shuffle = list(self.schedule.agents_by_type[Non_corrupt_agent].values())\n",
      "C:\\Users\\DELL\\AppData\\Local\\Temp\\ipykernel_484\\329254329.py:91: DeprecationWarning: Because of the shift to using AgentSet, in the future this attribute will return a dict withtype as key as AgentSet as value. Future behavior is available via RandomActivationByType._agents_by_type\n",
      "  agents = [agent for agent in self.schedule.agents_by_type[Non_corrupt_agent].values()]\n"
     ]
    },
    {
     "name": "stdout",
     "output_type": "stream",
     "text": [
      "Agent 2323 has eaten 6.0 sugar from sugar 620\n",
      "Agent 2312 has eaten 4.0 sugar from sugar 175\n",
      "Agent 2345 has eaten 9.0 sugar from sugar 94\n",
      "Agent 2383 has eaten 8.0 sugar from sugar 1315\n",
      "Agent 2375 has eaten 8.0 sugar from sugar 2159\n",
      "Agent 2348 has eaten 3.0 sugar from sugar 1504\n",
      "Agent 2359 has eaten 9.0 sugar from sugar 1261\n",
      "Agent 2324 has eaten 5.0 sugar from sugar 1174\n",
      "Agent 2331 has eaten 9.0 sugar from sugar 1615\n",
      "Agent 2318 has eaten 3.0 sugar from sugar 167\n",
      "Agent 2298 has eaten 8.0 sugar from sugar 615\n",
      "Agent 2338 has eaten 8.0 sugar from sugar 235\n",
      "Agent 2346 has eaten 7.0 sugar from sugar 1417\n",
      "Agent 2295 has eaten 7.0 sugar from sugar 441\n",
      "Agent 2377 has eaten 8.0 sugar from sugar 2208\n",
      "Agent 2297 has eaten 8.0 sugar from sugar 277\n",
      "Agent 2364 has eaten 2.0 sugar from sugar 969\n",
      "Agent 2307 has eaten 10.0 sugar from sugar 1089\n",
      "Agent 2354 has eaten 9.0 sugar from sugar 2095\n",
      "Agent 2368 has eaten 5.0 sugar from sugar 1470\n",
      "Agent 2322 has eaten 7.0 sugar from sugar 584\n",
      "Agent 2342 has eaten 1.0 sugar from sugar 2196\n",
      "Agent 2362 has eaten 7.0 sugar from sugar 332\n",
      "Agent 2387 has eaten 5.0 sugar from sugar 1165\n",
      "Agent 2321 has eaten 4.0 sugar from sugar 1584\n",
      "Agent 2336 has eaten 9.0 sugar from sugar 1910\n",
      "Agent 2315 has eaten 1.0 sugar from sugar 365\n",
      "Agent 2373 has eaten 6.0 sugar from sugar 1843\n",
      "Agent 2344 has eaten 4.0 sugar from sugar 845\n",
      "Agent 2365 has eaten 3.0 sugar from sugar 206\n",
      "Agent 2380 has eaten 7.0 sugar from sugar 251\n",
      "Agent 2301 has eaten 9.0 sugar from sugar 1119\n",
      "Agent 2327 has eaten 1.0 sugar from sugar 40\n",
      "Agent 2356 has eaten 4.0 sugar from sugar 60\n",
      "Agent 2335 has eaten 4.0 sugar from sugar 2169\n",
      "Agent 2299 has eaten 9.0 sugar from sugar 514\n",
      "Agent 2367 has eaten 9.0 sugar from sugar 1080\n",
      "Agent 2296 has eaten 2.0 sugar from sugar 2135\n",
      "Agent 2352 has eaten 7.0 sugar from sugar 2049\n",
      "Agent 2358 has eaten 2.0 sugar from sugar 261\n",
      "Agent 2355 has eaten 4.0 sugar from sugar 794\n",
      "Agent 2343 has eaten 9.0 sugar from sugar 1443\n",
      "Agent 2361 has eaten 7.0 sugar from sugar 1527\n",
      "Agent 2308 has eaten 7.0 sugar from sugar 916\n",
      "Agent 2304 has eaten 10.0 sugar from sugar 1867\n",
      "Agent 2300 has eaten 2.0 sugar from sugar 619\n",
      "Agent 2319 has eaten 9.0 sugar from sugar 700\n",
      "Agent 2320 has eaten 3.0 sugar from sugar 338\n",
      "Agent 2353 has eaten 3.0 sugar from sugar 1002\n",
      "Agent 2369 has eaten 10.0 sugar from sugar 2167\n",
      "Agent 2303 has eaten 5.0 sugar from sugar 462\n",
      "Agent 2370 has eaten 7.0 sugar from sugar 84\n",
      "Agent 2313 has eaten 10.0 sugar from sugar 635\n",
      "Agent 2333 has eaten 6.0 sugar from sugar 2139\n",
      "Agent 2385 has eaten 9.0 sugar from sugar 1462\n",
      "Agent 2384 has eaten 5.0 sugar from sugar 1335\n",
      "Agent 2376 has eaten 3.0 sugar from sugar 822\n",
      "Agent 2314 has eaten 9.0 sugar from sugar 1340\n",
      "Agent 2363 has eaten 1.0 sugar from sugar 1969\n",
      "Agent 2329 has eaten 10.0 sugar from sugar 2008\n",
      "Agent 2340 has eaten 1.0 sugar from sugar 311\n",
      "Agent 2391 has eaten 4.0 sugar from sugar 355\n",
      "Agent 2306 has eaten 5.0 sugar from sugar 872\n",
      "Agent 2374 has eaten 8.0 sugar from sugar 1253\n",
      "Agent 2339 has eaten 5.0 sugar from sugar 442\n",
      "Agent 2337 has eaten 7.0 sugar from sugar 162\n",
      "Agent 2381 has eaten 9.0 sugar from sugar 116\n",
      "Agent 2388 has eaten 8.0 sugar from sugar 1668\n",
      "Agent 2378 has eaten 1.0 sugar from sugar 1465\n",
      "Agent 2305 has eaten 8.0 sugar from sugar 1765\n",
      "Agent 2357 has eaten 7.0 sugar from sugar 1940\n",
      "Agent 2394 has eaten 7.0 sugar from sugar 1559\n",
      "Agent 2350 has eaten 5.0 sugar from sugar 670\n",
      "Agent 2310 has eaten 1.0 sugar from sugar 1719\n",
      "Agent 2309 has eaten 7.0 sugar from sugar 2113\n",
      "Agent 2325 has eaten 4.0 sugar from sugar 161\n",
      "Agent 2371 has eaten 1.0 sugar from sugar 992\n",
      "Agent 2382 has eaten 3.0 sugar from sugar 1265\n",
      "Agent 2360 has eaten 1.0 sugar from sugar 1183\n",
      "Agent 2372 has eaten 8.0 sugar from sugar 2042\n",
      "Agent 2390 has eaten 6.0 sugar from sugar 1133\n",
      "Agent 2332 has eaten 4.0 sugar from sugar 44\n",
      "Agent 2386 has eaten 5.0 sugar from sugar 427\n",
      "Agent 2379 has eaten 4.0 sugar from sugar 2234\n",
      "Agent 2341 has eaten 9.0 sugar from sugar 2238\n",
      "Agent 2316 has eaten 10.0 sugar from sugar 302\n",
      "Agent 2392 has eaten 3.0 sugar from sugar 2164\n",
      "Agent 2334 has eaten 9.0 sugar from sugar 1688\n",
      "Agent 2393 has eaten 2.0 sugar from sugar 54\n",
      "2\n",
      "Agent 2302 with 5.0 has received 3.0 from 2304 with 12.0\n",
      "Agent 2358 with 2.5 has received 3.0 from 2339 with 11.0\n",
      "4\n",
      "Agent 2393 has eaten 2.0 sugar from sugar 54\n",
      "Agent 2392 has eaten 3.0 sugar from sugar 2164\n",
      "Agent 2363 has eaten 1.0 sugar from sugar 1969\n",
      "Agent 2373 has eaten 4 sugar from sugar 1843\n",
      "Agent 2359 has eaten 4 sugar from sugar 1261\n",
      "Agent 2338 has eaten 4 sugar from sugar 235\n",
      "Agent 2333 has eaten 4 sugar from sugar 2139\n",
      "Agent 2329 has eaten 4 sugar from sugar 2008\n",
      "Agent 2360 has eaten 1.0 sugar from sugar 1183\n",
      "Agent 2348 has eaten 3.0 sugar from sugar 1504\n",
      "Agent 2307 has eaten 4 sugar from sugar 1089\n",
      "Agent 2339 has eaten 4 sugar from sugar 442\n",
      "Agent 2361 has eaten 4 sugar from sugar 1527\n",
      "Agent 2350 has eaten 4 sugar from sugar 670\n",
      "Agent 2357 has eaten 4 sugar from sugar 1940\n",
      "Agent 2365 has eaten 3.0 sugar from sugar 206\n",
      "Agent 2297 has eaten 4 sugar from sugar 277\n",
      "Agent 2368 has eaten 4 sugar from sugar 1470\n",
      "Agent 2353 has eaten 3.0 sugar from sugar 1002\n",
      "Agent 2332 has eaten 4.0 sugar from sugar 44\n",
      "Agent 2304 has eaten 4 sugar from sugar 1867\n",
      "Agent 2377 has eaten 4 sugar from sugar 2208\n",
      "Agent 2309 has eaten 4 sugar from sugar 2113\n",
      "Agent 2385 has eaten 4 sugar from sugar 1462\n",
      "Agent 2362 has eaten 4 sugar from sugar 332\n",
      "Agent 2372 has eaten 4 sugar from sugar 2042\n",
      "Agent 2320 has eaten 3.0 sugar from sugar 338\n",
      "Agent 2378 has eaten 1.0 sugar from sugar 1465\n",
      "Agent 2388 has eaten 4 sugar from sugar 1668\n",
      "Agent 2313 has eaten 4 sugar from sugar 635\n",
      "Agent 2356 has eaten 4.0 sugar from sugar 60\n",
      "Agent 2335 has eaten 4.0 sugar from sugar 2169\n",
      "Agent 2334 has eaten 4 sugar from sugar 1688\n",
      "Agent 2394 has eaten 4 sugar from sugar 1559\n",
      "Agent 2327 has eaten 1.0 sugar from sugar 40\n",
      "Agent 2382 has eaten 3.0 sugar from sugar 1265\n",
      "Agent 2301 has eaten 4 sugar from sugar 1119\n",
      "Agent 2331 has eaten 4 sugar from sugar 1615\n",
      "Agent 2344 has eaten 4.0 sugar from sugar 845\n",
      "Agent 2364 has eaten 2.0 sugar from sugar 969\n",
      "Agent 2367 has eaten 4 sugar from sugar 1080\n",
      "Agent 2323 has eaten 4 sugar from sugar 620\n",
      "Agent 2305 has eaten 4 sugar from sugar 1765\n",
      "Agent 2336 has eaten 4 sugar from sugar 1910\n",
      "Agent 2384 has eaten 4 sugar from sugar 1335\n",
      "Agent 2306 has eaten 4 sugar from sugar 872\n",
      "Agent 2298 has eaten 4 sugar from sugar 615\n",
      "Agent 2387 has eaten 4 sugar from sugar 1165\n",
      "Agent 2314 has eaten 4 sugar from sugar 1340\n",
      "Agent 2337 has eaten 4 sugar from sugar 162\n",
      "Agent 2381 has eaten 4 sugar from sugar 116\n",
      "Agent 2369 has eaten 4 sugar from sugar 2167\n",
      "Agent 2391 has eaten 4.0 sugar from sugar 355\n",
      "Agent 2324 has eaten 4 sugar from sugar 1174\n",
      "Agent 2390 has eaten 4 sugar from sugar 1133\n",
      "Agent 2379 has eaten 4.0 sugar from sugar 2234\n",
      "Agent 2308 has eaten 4 sugar from sugar 916\n",
      "Agent 2321 has eaten 4.0 sugar from sugar 1584\n",
      "Agent 2318 has eaten 3.0 sugar from sugar 167\n",
      "Agent 2303 has eaten 4 sugar from sugar 462\n",
      "Agent 2319 has eaten 4 sugar from sugar 700\n",
      "Agent 2376 has eaten 3.0 sugar from sugar 822\n",
      "Agent 2325 has eaten 4.0 sugar from sugar 161\n",
      "Agent 2343 has eaten 4 sugar from sugar 1443\n",
      "Agent 2383 has eaten 4 sugar from sugar 1315\n",
      "Agent 2374 has eaten 4 sugar from sugar 1253\n",
      "Agent 2315 has eaten 1.0 sugar from sugar 365\n",
      "Agent 2346 has eaten 4 sugar from sugar 1417\n",
      "Agent 2358 has eaten 2.0 sugar from sugar 261\n",
      "Agent 2370 has eaten 4 sugar from sugar 84\n",
      "Agent 2299 has eaten 4 sugar from sugar 514\n",
      "Agent 2375 has eaten 4 sugar from sugar 2159\n",
      "Agent 2316 has eaten 4 sugar from sugar 302\n",
      "Agent 2352 has eaten 4 sugar from sugar 2049\n",
      "Agent 2386 has eaten 4 sugar from sugar 427\n",
      "Agent 2296 has eaten 2.0 sugar from sugar 2135\n",
      "Agent 2322 has eaten 4 sugar from sugar 584\n",
      "Agent 2312 has eaten 4.0 sugar from sugar 175\n",
      "Agent 2300 has eaten 2.0 sugar from sugar 619\n",
      "Agent 2354 has eaten 4 sugar from sugar 2095\n",
      "Agent 2341 has eaten 4 sugar from sugar 2238\n",
      "Agent 2310 has eaten 1.0 sugar from sugar 1719\n",
      "Agent 2355 has eaten 4.0 sugar from sugar 794\n",
      "Agent 2380 has eaten 4 sugar from sugar 251\n",
      "Agent 2295 has eaten 4 sugar from sugar 441\n",
      "Agent 2340 has eaten 1.0 sugar from sugar 311\n",
      "Agent 2371 has eaten 1.0 sugar from sugar 992\n",
      "Agent 2342 has eaten 1.0 sugar from sugar 2196\n",
      "Agent 2345 has eaten 4 sugar from sugar 94\n",
      "6\n",
      "Agent 2311 with 2.0 has received 5.0 from 2303 with 16.0\n",
      "Agent 2388 with 1.6666666666666667 has received 3.0 from 2305 with 10.0\n",
      "Agent 2298 with 1.25 has received 3.0 from 2300 with 9.0\n",
      "Agent 2335 with 2.5 has received 3 from 2349 with 10\n",
      "8\n",
      "Agent 2374 has eaten 4 sugar from sugar 1253\n",
      "Agent 2373 has eaten 4 sugar from sugar 1843\n",
      "Agent 2392 has eaten 3.0 sugar from sugar 2164\n",
      "Agent 2379 has eaten 4.0 sugar from sugar 2234\n",
      "Agent 2383 has eaten 4 sugar from sugar 1315\n",
      "Agent 2385 has eaten 4 sugar from sugar 1462\n",
      "Agent 2380 has eaten 4 sugar from sugar 251\n",
      "Agent 2324 has eaten 4 sugar from sugar 1174\n",
      "Agent 2309 has eaten 4 sugar from sugar 2113\n",
      "Agent 2318 has eaten 3.0 sugar from sugar 167\n",
      "Agent 2321 has eaten 4.0 sugar from sugar 1584\n",
      "Agent 2300 has eaten 2.0 sugar from sugar 619\n",
      "Agent 2394 has eaten 4 sugar from sugar 1559\n",
      "Agent 2341 has eaten 4 sugar from sugar 2238\n",
      "Agent 2384 has eaten 4 sugar from sugar 1335\n",
      "Agent 2368 has eaten 4 sugar from sugar 1470\n",
      "Agent 2316 has eaten 4 sugar from sugar 302\n",
      "Agent 2360 has eaten 1.0 sugar from sugar 1183\n",
      "Agent 2331 has eaten 4 sugar from sugar 1615\n",
      "Agent 2355 has eaten 4.0 sugar from sugar 794\n",
      "Agent 2386 has eaten 4 sugar from sugar 427\n",
      "Agent 2337 has eaten 4 sugar from sugar 162\n",
      "Agent 2305 has eaten 4 sugar from sugar 1765\n",
      "Agent 2354 has eaten 4 sugar from sugar 2095\n",
      "Agent 2356 has eaten 4.0 sugar from sugar 60\n",
      "Agent 2361 has eaten 4 sugar from sugar 1527\n",
      "Agent 2357 has eaten 4 sugar from sugar 1940\n",
      "Agent 2295 has eaten 4 sugar from sugar 441\n",
      "Agent 2362 has eaten 4 sugar from sugar 332\n",
      "Agent 2336 has eaten 4 sugar from sugar 1910\n",
      "Agent 2350 has eaten 4 sugar from sugar 670\n",
      "Agent 2304 has eaten 4 sugar from sugar 1867\n",
      "Agent 2325 has eaten 4.0 sugar from sugar 161\n",
      "Agent 2372 has eaten 4 sugar from sugar 2042\n",
      "Agent 2359 has eaten 4 sugar from sugar 1261\n",
      "Agent 2369 has eaten 4 sugar from sugar 2167\n",
      "Agent 2344 has eaten 4.0 sugar from sugar 845\n",
      "Agent 2346 has eaten 4 sugar from sugar 1417\n",
      "Agent 2387 has eaten 4 sugar from sugar 1165\n",
      "Agent 2332 has eaten 4.0 sugar from sugar 44\n",
      "Agent 2371 has eaten 1.0 sugar from sugar 992\n",
      "Agent 2334 has eaten 4 sugar from sugar 1688\n",
      "Agent 2322 has eaten 4 sugar from sugar 584\n",
      "Agent 2308 has eaten 4 sugar from sugar 916\n",
      "Agent 2335 has eaten 4.0 sugar from sugar 2169\n",
      "Agent 2367 has eaten 4 sugar from sugar 1080\n",
      "Agent 2345 has eaten 4 sugar from sugar 94\n",
      "Agent 2329 has eaten 4 sugar from sugar 2008\n",
      "Agent 2313 has eaten 4 sugar from sugar 635\n",
      "Agent 2381 has eaten 4 sugar from sugar 116\n",
      "Agent 2315 has eaten 1.0 sugar from sugar 365\n",
      "Agent 2388 has eaten 4 sugar from sugar 1668\n",
      "Agent 2391 has eaten 4.0 sugar from sugar 355\n",
      "Agent 2299 has eaten 4 sugar from sugar 514\n",
      "Agent 2390 has eaten 4 sugar from sugar 1133\n",
      "Agent 2370 has eaten 4 sugar from sugar 84\n",
      "Agent 2352 has eaten 4 sugar from sugar 2049\n",
      "Agent 2348 has eaten 3.0 sugar from sugar 1504\n",
      "Agent 2377 has eaten 4 sugar from sugar 2208\n",
      "Agent 2353 has eaten 3.0 sugar from sugar 1002\n",
      "Agent 2301 has eaten 4 sugar from sugar 1119\n",
      "Agent 2298 has eaten 4 sugar from sugar 615\n",
      "Agent 2303 has eaten 4 sugar from sugar 462\n",
      "Agent 2343 has eaten 4 sugar from sugar 1443\n",
      "Agent 2314 has eaten 4 sugar from sugar 1340\n",
      "Agent 2306 has eaten 4 sugar from sugar 872\n",
      "Agent 2382 has eaten 3.0 sugar from sugar 1265\n",
      "Agent 2333 has eaten 4 sugar from sugar 2139\n",
      "Agent 2339 has eaten 4 sugar from sugar 442\n",
      "Agent 2364 has eaten 2.0 sugar from sugar 969\n",
      "Agent 2327 has eaten 1.0 sugar from sugar 40\n",
      "Agent 2375 has eaten 4 sugar from sugar 2159\n",
      "Agent 2319 has eaten 4 sugar from sugar 700\n",
      "Agent 2312 has eaten 4.0 sugar from sugar 175\n",
      "Agent 2307 has eaten 4 sugar from sugar 1089\n",
      "Agent 2297 has eaten 4 sugar from sugar 277\n",
      "Agent 2338 has eaten 4 sugar from sugar 235\n",
      "Agent 2378 has eaten 1.0 sugar from sugar 1465\n",
      "10\n"
     ]
    },
    {
     "name": "stderr",
     "output_type": "stream",
     "text": [
      "C:\\Users\\DELL\\AppData\\Local\\Temp\\ipykernel_484\\329254329.py:109: DeprecationWarning: Because of the shift to using AgentSet, in the future this attribute will return a dict withtype as key as AgentSet as value. Future behavior is available via RandomActivationByType._agents_by_type\n",
      "  for sugar_agent in self.schedule.agents_by_type[Sugar].values():\n",
      "C:\\Users\\DELL\\AppData\\Local\\Temp\\ipykernel_484\\329254329.py:101: DeprecationWarning: Because of the shift to using AgentSet, in the future this attribute will return a dict withtype as key as AgentSet as value. Future behavior is available via RandomActivationByType._agents_by_type\n",
      "  non_corrupt_agents_shuffle = list(self.schedule.agents_by_type[Non_corrupt_agent].values())\n",
      "C:\\Users\\DELL\\AppData\\Local\\Temp\\ipykernel_484\\329254329.py:91: DeprecationWarning: Because of the shift to using AgentSet, in the future this attribute will return a dict withtype as key as AgentSet as value. Future behavior is available via RandomActivationByType._agents_by_type\n",
      "  agents = [agent for agent in self.schedule.agents_by_type[Non_corrupt_agent].values()]\n",
      "C:\\Users\\DELL\\AppData\\Local\\Temp\\ipykernel_484\\329254329.py:109: DeprecationWarning: Because of the shift to using AgentSet, in the future this attribute will return a dict withtype as key as AgentSet as value. Future behavior is available via RandomActivationByType._agents_by_type\n",
      "  for sugar_agent in self.schedule.agents_by_type[Sugar].values():\n",
      "C:\\Users\\DELL\\AppData\\Local\\Temp\\ipykernel_484\\329254329.py:101: DeprecationWarning: Because of the shift to using AgentSet, in the future this attribute will return a dict withtype as key as AgentSet as value. Future behavior is available via RandomActivationByType._agents_by_type\n",
      "  non_corrupt_agents_shuffle = list(self.schedule.agents_by_type[Non_corrupt_agent].values())\n",
      "C:\\Users\\DELL\\AppData\\Local\\Temp\\ipykernel_484\\329254329.py:91: DeprecationWarning: Because of the shift to using AgentSet, in the future this attribute will return a dict withtype as key as AgentSet as value. Future behavior is available via RandomActivationByType._agents_by_type\n",
      "  agents = [agent for agent in self.schedule.agents_by_type[Non_corrupt_agent].values()]\n",
      "C:\\Users\\DELL\\AppData\\Local\\Temp\\ipykernel_484\\329254329.py:109: DeprecationWarning: Because of the shift to using AgentSet, in the future this attribute will return a dict withtype as key as AgentSet as value. Future behavior is available via RandomActivationByType._agents_by_type\n",
      "  for sugar_agent in self.schedule.agents_by_type[Sugar].values():\n",
      "C:\\Users\\DELL\\AppData\\Local\\Temp\\ipykernel_484\\329254329.py:101: DeprecationWarning: Because of the shift to using AgentSet, in the future this attribute will return a dict withtype as key as AgentSet as value. Future behavior is available via RandomActivationByType._agents_by_type\n",
      "  non_corrupt_agents_shuffle = list(self.schedule.agents_by_type[Non_corrupt_agent].values())\n",
      "C:\\Users\\DELL\\AppData\\Local\\Temp\\ipykernel_484\\329254329.py:91: DeprecationWarning: Because of the shift to using AgentSet, in the future this attribute will return a dict withtype as key as AgentSet as value. Future behavior is available via RandomActivationByType._agents_by_type\n",
      "  agents = [agent for agent in self.schedule.agents_by_type[Non_corrupt_agent].values()]\n"
     ]
    },
    {
     "name": "stdout",
     "output_type": "stream",
     "text": [
      "Agent 2394 with 2.0 has received 2.0 from 2368 with 7.0\n",
      "Agent 2327 with 2.0 has received 5.0 from 2370 with 16.0\n",
      "Agent 2312 with 5.0 has received 4.0 from 2370 with 12.0\n",
      "Agent 2385 with 1.25 has received 2.0 from 2346 with 8.0\n",
      "Agent 2382 with 1.3333333333333333 has received 6.0 from 2324 with 20.0\n",
      "Agent 2387 with 5.0 has received 2 from 2351 with 8\n",
      "Agent 2326 with 1.5 has received 5.0 from 2345 with 18.0\n",
      "Agent 2371 with 1.5 has received 1.0 from 2390 with 3.0\n",
      "Agent 2353 with 1.3333333333333333 has received 4.0 from 2308 with 13.0\n",
      "Agent 2390 with 1.3333333333333333 has received 2.0 from 2360 with 7.0\n",
      "Agent 2389 with 3.0 has received 6.0 from 2350 with 21.0\n",
      "12\n",
      "Agent 2327 has eaten 1.0 sugar from sugar 40\n",
      "Agent 2372 has eaten 4 sugar from sugar 2042\n",
      "Agent 2394 has eaten 4 sugar from sugar 1559\n",
      "Agent 2315 has eaten 1.0 sugar from sugar 365\n",
      "Agent 2305 has eaten 4 sugar from sugar 1765\n",
      "Agent 2392 has eaten 3.0 sugar from sugar 2164\n",
      "Agent 2380 has eaten 4 sugar from sugar 251\n",
      "Agent 2387 has eaten 4 sugar from sugar 1165\n",
      "Agent 2377 has eaten 4 sugar from sugar 2208\n",
      "Agent 2316 has eaten 4 sugar from sugar 302\n",
      "Agent 2338 has eaten 4 sugar from sugar 235\n",
      "Agent 2361 has eaten 4 sugar from sugar 1527\n",
      "Agent 2356 has eaten 4.0 sugar from sugar 60\n",
      "Agent 2313 has eaten 4 sugar from sugar 635\n",
      "Agent 2350 has eaten 4 sugar from sugar 670\n",
      "Agent 2371 has eaten 1.0 sugar from sugar 992\n",
      "Agent 2312 has eaten 4.0 sugar from sugar 175\n",
      "Agent 2359 has eaten 4 sugar from sugar 1261\n",
      "Agent 2369 has eaten 4 sugar from sugar 2167\n",
      "Agent 2383 has eaten 4 sugar from sugar 1315\n",
      "Agent 2352 has eaten 4 sugar from sugar 2049\n",
      "Agent 2319 has eaten 4 sugar from sugar 700\n",
      "Agent 2300 has eaten 2.0 sugar from sugar 619\n",
      "Agent 2382 has eaten 3.0 sugar from sugar 1265\n",
      "Agent 2378 has eaten 1.0 sugar from sugar 1465\n",
      "Agent 2385 has eaten 4 sugar from sugar 1462\n",
      "Agent 2354 has eaten 4 sugar from sugar 2095\n",
      "Agent 2298 has eaten 4 sugar from sugar 615\n",
      "Agent 2386 has eaten 4 sugar from sugar 427\n",
      "Agent 2370 has eaten 4 sugar from sugar 84\n",
      "Agent 2355 has eaten 4.0 sugar from sugar 794\n",
      "Agent 2332 has eaten 4.0 sugar from sugar 44\n",
      "Agent 2321 has eaten 4.0 sugar from sugar 1584\n",
      "Agent 2374 has eaten 4 sugar from sugar 1253\n",
      "Agent 2295 has eaten 4 sugar from sugar 441\n",
      "Agent 2341 has eaten 4 sugar from sugar 2238\n",
      "Agent 2390 has eaten 4 sugar from sugar 1133\n",
      "Agent 2299 has eaten 4 sugar from sugar 514\n",
      "Agent 2345 has eaten 4 sugar from sugar 94\n",
      "Agent 2373 has eaten 4 sugar from sugar 1843\n",
      "Agent 2334 has eaten 4 sugar from sugar 1688\n",
      "Agent 2353 has eaten 3.0 sugar from sugar 1002\n",
      "Agent 2307 has eaten 4 sugar from sugar 1089\n",
      "Agent 2314 has eaten 4 sugar from sugar 1340\n",
      "Agent 2391 has eaten 4.0 sugar from sugar 355\n",
      "Agent 2336 has eaten 4 sugar from sugar 1910\n",
      "Agent 2306 has eaten 4 sugar from sugar 872\n",
      "Agent 2367 has eaten 4 sugar from sugar 1080\n",
      "Agent 2337 has eaten 4 sugar from sugar 162\n",
      "Agent 2362 has eaten 4 sugar from sugar 332\n",
      "Agent 2339 has eaten 4 sugar from sugar 442\n",
      "Agent 2322 has eaten 4 sugar from sugar 584\n",
      "Agent 2303 has eaten 4 sugar from sugar 462\n",
      "Agent 2375 has eaten 4 sugar from sugar 2159\n",
      "Agent 2304 has eaten 4 sugar from sugar 1867\n",
      "Agent 2329 has eaten 4 sugar from sugar 2008\n",
      "Agent 2346 has eaten 4 sugar from sugar 1417\n",
      "Agent 2308 has eaten 4 sugar from sugar 916\n",
      "Agent 2360 has eaten 1.0 sugar from sugar 1183\n",
      "Agent 2368 has eaten 4 sugar from sugar 1470\n",
      "Agent 2344 has eaten 4.0 sugar from sugar 845\n",
      "Agent 2331 has eaten 4 sugar from sugar 1615\n",
      "Agent 2301 has eaten 4 sugar from sugar 1119\n",
      "Agent 2297 has eaten 4 sugar from sugar 277\n",
      "Agent 2357 has eaten 4 sugar from sugar 1940\n",
      "Agent 2318 has eaten 3.0 sugar from sugar 167\n",
      "Agent 2324 has eaten 4 sugar from sugar 1174\n",
      "Agent 2381 has eaten 4 sugar from sugar 116\n",
      "Agent 2325 has eaten 4.0 sugar from sugar 161\n",
      "14\n",
      "Agent 2326 with 3.0 has received 5.0 from 2345 with 15.0\n",
      "Agent 2353 with 2.0 has received 3.0 from 2308 with 10.0\n",
      "Agent 2295 with 2.0 has received 7.0 from 2316 with 24.0\n",
      "Agent 2300 with 3.0 has received 5.0 from 2350 with 18.0\n",
      "Agent 2389 with 3.0 has received 4.0 from 2350 with 14.0\n",
      "16\n"
     ]
    },
    {
     "name": "stderr",
     "output_type": "stream",
     "text": [
      "C:\\Users\\DELL\\AppData\\Local\\Temp\\ipykernel_484\\329254329.py:109: DeprecationWarning: Because of the shift to using AgentSet, in the future this attribute will return a dict withtype as key as AgentSet as value. Future behavior is available via RandomActivationByType._agents_by_type\n",
      "  for sugar_agent in self.schedule.agents_by_type[Sugar].values():\n",
      "C:\\Users\\DELL\\AppData\\Local\\Temp\\ipykernel_484\\329254329.py:101: DeprecationWarning: Because of the shift to using AgentSet, in the future this attribute will return a dict withtype as key as AgentSet as value. Future behavior is available via RandomActivationByType._agents_by_type\n",
      "  non_corrupt_agents_shuffle = list(self.schedule.agents_by_type[Non_corrupt_agent].values())\n",
      "C:\\Users\\DELL\\AppData\\Local\\Temp\\ipykernel_484\\329254329.py:91: DeprecationWarning: Because of the shift to using AgentSet, in the future this attribute will return a dict withtype as key as AgentSet as value. Future behavior is available via RandomActivationByType._agents_by_type\n",
      "  agents = [agent for agent in self.schedule.agents_by_type[Non_corrupt_agent].values()]\n",
      "C:\\Users\\DELL\\AppData\\Local\\Temp\\ipykernel_484\\329254329.py:109: DeprecationWarning: Because of the shift to using AgentSet, in the future this attribute will return a dict withtype as key as AgentSet as value. Future behavior is available via RandomActivationByType._agents_by_type\n",
      "  for sugar_agent in self.schedule.agents_by_type[Sugar].values():\n",
      "C:\\Users\\DELL\\AppData\\Local\\Temp\\ipykernel_484\\329254329.py:101: DeprecationWarning: Because of the shift to using AgentSet, in the future this attribute will return a dict withtype as key as AgentSet as value. Future behavior is available via RandomActivationByType._agents_by_type\n",
      "  non_corrupt_agents_shuffle = list(self.schedule.agents_by_type[Non_corrupt_agent].values())\n",
      "C:\\Users\\DELL\\AppData\\Local\\Temp\\ipykernel_484\\329254329.py:91: DeprecationWarning: Because of the shift to using AgentSet, in the future this attribute will return a dict withtype as key as AgentSet as value. Future behavior is available via RandomActivationByType._agents_by_type\n",
      "  agents = [agent for agent in self.schedule.agents_by_type[Non_corrupt_agent].values()]\n",
      "C:\\Users\\DELL\\AppData\\Local\\Temp\\ipykernel_484\\329254329.py:109: DeprecationWarning: Because of the shift to using AgentSet, in the future this attribute will return a dict withtype as key as AgentSet as value. Future behavior is available via RandomActivationByType._agents_by_type\n",
      "  for sugar_agent in self.schedule.agents_by_type[Sugar].values():\n",
      "C:\\Users\\DELL\\AppData\\Local\\Temp\\ipykernel_484\\329254329.py:101: DeprecationWarning: Because of the shift to using AgentSet, in the future this attribute will return a dict withtype as key as AgentSet as value. Future behavior is available via RandomActivationByType._agents_by_type\n",
      "  non_corrupt_agents_shuffle = list(self.schedule.agents_by_type[Non_corrupt_agent].values())\n",
      "C:\\Users\\DELL\\AppData\\Local\\Temp\\ipykernel_484\\329254329.py:91: DeprecationWarning: Because of the shift to using AgentSet, in the future this attribute will return a dict withtype as key as AgentSet as value. Future behavior is available via RandomActivationByType._agents_by_type\n",
      "  agents = [agent for agent in self.schedule.agents_by_type[Non_corrupt_agent].values()]\n"
     ]
    },
    {
     "name": "stdout",
     "output_type": "stream",
     "text": [
      "Agent 2308 has eaten 4 sugar from sugar 916\n",
      "Agent 2372 has eaten 4 sugar from sugar 2042\n",
      "Agent 2382 has eaten 3.0 sugar from sugar 1265\n",
      "Agent 2369 has eaten 4 sugar from sugar 2167\n",
      "Agent 2362 has eaten 4 sugar from sugar 332\n",
      "Agent 2301 has eaten 4 sugar from sugar 1119\n",
      "Agent 2322 has eaten 4 sugar from sugar 584\n",
      "Agent 2383 has eaten 4 sugar from sugar 1315\n",
      "Agent 2352 has eaten 4 sugar from sugar 2049\n",
      "Agent 2368 has eaten 4 sugar from sugar 1470\n",
      "Agent 2336 has eaten 4 sugar from sugar 1910\n",
      "Agent 2353 has eaten 3.0 sugar from sugar 1002\n",
      "Agent 2361 has eaten 4 sugar from sugar 1527\n",
      "Agent 2306 has eaten 4 sugar from sugar 872\n",
      "Agent 2378 has eaten 1.0 sugar from sugar 1465\n",
      "Agent 2345 has eaten 4 sugar from sugar 94\n",
      "Agent 2305 has eaten 4 sugar from sugar 1765\n",
      "Agent 2350 has eaten 4 sugar from sugar 670\n",
      "Agent 2334 has eaten 4 sugar from sugar 1688\n",
      "Agent 2316 has eaten 4 sugar from sugar 302\n",
      "Agent 2303 has eaten 4 sugar from sugar 462\n",
      "Agent 2318 has eaten 3.0 sugar from sugar 167\n",
      "Agent 2339 has eaten 4 sugar from sugar 442\n",
      "Agent 2359 has eaten 4 sugar from sugar 1261\n",
      "Agent 2344 has eaten 4.0 sugar from sugar 845\n",
      "Agent 2332 has eaten 4.0 sugar from sugar 44\n",
      "Agent 2355 has eaten 4.0 sugar from sugar 794\n",
      "Agent 2325 has eaten 4.0 sugar from sugar 161\n",
      "Agent 2315 has eaten 1.0 sugar from sugar 365\n",
      "Agent 2373 has eaten 4 sugar from sugar 1843\n",
      "Agent 2299 has eaten 4 sugar from sugar 514\n",
      "Agent 2386 has eaten 4 sugar from sugar 427\n",
      "Agent 2313 has eaten 4 sugar from sugar 635\n",
      "Agent 2354 has eaten 4 sugar from sugar 2095\n",
      "Agent 2337 has eaten 4 sugar from sugar 162\n",
      "Agent 2327 has eaten 1.0 sugar from sugar 40\n",
      "Agent 2321 has eaten 4.0 sugar from sugar 1584\n",
      "Agent 2367 has eaten 4 sugar from sugar 1080\n",
      "Agent 2319 has eaten 4 sugar from sugar 700\n",
      "Agent 2307 has eaten 4 sugar from sugar 1089\n",
      "Agent 2381 has eaten 4 sugar from sugar 116\n",
      "Agent 2346 has eaten 4 sugar from sugar 1417\n",
      "Agent 2297 has eaten 4 sugar from sugar 277\n",
      "Agent 2356 has eaten 4.0 sugar from sugar 60\n",
      "Agent 2357 has eaten 4 sugar from sugar 1940\n",
      "Agent 2304 has eaten 4 sugar from sugar 1867\n",
      "Agent 2374 has eaten 4 sugar from sugar 1253\n",
      "Agent 2377 has eaten 4 sugar from sugar 2208\n",
      "Agent 2341 has eaten 4 sugar from sugar 2238\n",
      "Agent 2360 has eaten 1.0 sugar from sugar 1183\n",
      "Agent 2338 has eaten 4 sugar from sugar 235\n",
      "Agent 2324 has eaten 4 sugar from sugar 1174\n",
      "Agent 2295 has eaten 4 sugar from sugar 441\n",
      "Agent 2314 has eaten 4 sugar from sugar 1340\n",
      "Agent 2390 has eaten 4 sugar from sugar 1133\n",
      "Agent 2370 has eaten 4 sugar from sugar 84\n",
      "Agent 2300 has eaten 2.0 sugar from sugar 619\n",
      "Agent 2380 has eaten 4 sugar from sugar 251\n",
      "18\n",
      "Agent 2372 with 1.3333333333333333 has received 6.0 from 2336 with 20.0\n",
      "20\n"
     ]
    },
    {
     "name": "stderr",
     "output_type": "stream",
     "text": [
      "C:\\Users\\DELL\\AppData\\Local\\Temp\\ipykernel_484\\329254329.py:109: DeprecationWarning: Because of the shift to using AgentSet, in the future this attribute will return a dict withtype as key as AgentSet as value. Future behavior is available via RandomActivationByType._agents_by_type\n",
      "  for sugar_agent in self.schedule.agents_by_type[Sugar].values():\n",
      "C:\\Users\\DELL\\AppData\\Local\\Temp\\ipykernel_484\\329254329.py:101: DeprecationWarning: Because of the shift to using AgentSet, in the future this attribute will return a dict withtype as key as AgentSet as value. Future behavior is available via RandomActivationByType._agents_by_type\n",
      "  non_corrupt_agents_shuffle = list(self.schedule.agents_by_type[Non_corrupt_agent].values())\n",
      "C:\\Users\\DELL\\AppData\\Local\\Temp\\ipykernel_484\\329254329.py:91: DeprecationWarning: Because of the shift to using AgentSet, in the future this attribute will return a dict withtype as key as AgentSet as value. Future behavior is available via RandomActivationByType._agents_by_type\n",
      "  agents = [agent for agent in self.schedule.agents_by_type[Non_corrupt_agent].values()]\n",
      "C:\\Users\\DELL\\AppData\\Local\\Temp\\ipykernel_484\\329254329.py:109: DeprecationWarning: Because of the shift to using AgentSet, in the future this attribute will return a dict withtype as key as AgentSet as value. Future behavior is available via RandomActivationByType._agents_by_type\n",
      "  for sugar_agent in self.schedule.agents_by_type[Sugar].values():\n",
      "C:\\Users\\DELL\\AppData\\Local\\Temp\\ipykernel_484\\329254329.py:101: DeprecationWarning: Because of the shift to using AgentSet, in the future this attribute will return a dict withtype as key as AgentSet as value. Future behavior is available via RandomActivationByType._agents_by_type\n",
      "  non_corrupt_agents_shuffle = list(self.schedule.agents_by_type[Non_corrupt_agent].values())\n",
      "C:\\Users\\DELL\\AppData\\Local\\Temp\\ipykernel_484\\329254329.py:91: DeprecationWarning: Because of the shift to using AgentSet, in the future this attribute will return a dict withtype as key as AgentSet as value. Future behavior is available via RandomActivationByType._agents_by_type\n",
      "  agents = [agent for agent in self.schedule.agents_by_type[Non_corrupt_agent].values()]\n"
     ]
    },
    {
     "name": "stdout",
     "output_type": "stream",
     "text": [
      "Agent 2295 has eaten 4 sugar from sugar 441\n",
      "Agent 2381 has eaten 4 sugar from sugar 116\n",
      "Agent 2319 has eaten 4 sugar from sugar 700\n",
      "Agent 2372 has eaten 4 sugar from sugar 2042\n",
      "Agent 2325 has eaten 4.0 sugar from sugar 161\n",
      "Agent 2308 has eaten 4 sugar from sugar 916\n",
      "Agent 2334 has eaten 4 sugar from sugar 1688\n",
      "Agent 2299 has eaten 4 sugar from sugar 514\n",
      "Agent 2300 has eaten 2.0 sugar from sugar 619\n",
      "Agent 2374 has eaten 4 sugar from sugar 1253\n",
      "Agent 2359 has eaten 4 sugar from sugar 1261\n",
      "Agent 2307 has eaten 4 sugar from sugar 1089\n",
      "Agent 2332 has eaten 4.0 sugar from sugar 44\n",
      "Agent 2380 has eaten 4 sugar from sugar 251\n",
      "Agent 2314 has eaten 4 sugar from sugar 1340\n",
      "Agent 2383 has eaten 4 sugar from sugar 1315\n",
      "Agent 2304 has eaten 4 sugar from sugar 1867\n",
      "Agent 2301 has eaten 4 sugar from sugar 1119\n",
      "Agent 2297 has eaten 4 sugar from sugar 277\n",
      "Agent 2368 has eaten 4 sugar from sugar 1470\n",
      "Agent 2341 has eaten 4 sugar from sugar 2238\n",
      "Agent 2360 has eaten 1.0 sugar from sugar 1183\n",
      "Agent 2337 has eaten 4 sugar from sugar 162\n",
      "Agent 2313 has eaten 4 sugar from sugar 635\n",
      "Agent 2373 has eaten 4 sugar from sugar 1843\n",
      "Agent 2303 has eaten 4 sugar from sugar 462\n",
      "Agent 2361 has eaten 4 sugar from sugar 1527\n",
      "Agent 2355 has eaten 4.0 sugar from sugar 794\n",
      "Agent 2324 has eaten 4 sugar from sugar 1174\n",
      "Agent 2339 has eaten 4 sugar from sugar 442\n",
      "Agent 2386 has eaten 4 sugar from sugar 427\n",
      "Agent 2316 has eaten 4 sugar from sugar 302\n",
      "Agent 2306 has eaten 4 sugar from sugar 872\n",
      "Agent 2356 has eaten 4.0 sugar from sugar 60\n",
      "Agent 2321 has eaten 4.0 sugar from sugar 1584\n",
      "Agent 2352 has eaten 4 sugar from sugar 2049\n",
      "Agent 2336 has eaten 4 sugar from sugar 1910\n",
      "Agent 2354 has eaten 4 sugar from sugar 2095\n",
      "Agent 2357 has eaten 4 sugar from sugar 1940\n",
      "Agent 2369 has eaten 4 sugar from sugar 2167\n",
      "Agent 2318 has eaten 3.0 sugar from sugar 167\n",
      "Agent 2378 has eaten 1.0 sugar from sugar 1465\n",
      "Agent 2367 has eaten 4 sugar from sugar 1080\n",
      "Agent 2345 has eaten 4 sugar from sugar 94\n",
      "Agent 2350 has eaten 4 sugar from sugar 670\n",
      "Agent 2322 has eaten 4 sugar from sugar 584\n",
      "Agent 2315 has eaten 1.0 sugar from sugar 365\n",
      "Agent 2362 has eaten 4 sugar from sugar 332\n",
      "Agent 2338 has eaten 4 sugar from sugar 235\n",
      "Agent 2370 has eaten 4 sugar from sugar 84\n",
      "22\n",
      "Agent 2295 with 4.0 has received 5.0 from 2339 with 16.0\n",
      "24\n"
     ]
    },
    {
     "name": "stderr",
     "output_type": "stream",
     "text": [
      "C:\\Users\\DELL\\AppData\\Local\\Temp\\ipykernel_484\\329254329.py:109: DeprecationWarning: Because of the shift to using AgentSet, in the future this attribute will return a dict withtype as key as AgentSet as value. Future behavior is available via RandomActivationByType._agents_by_type\n",
      "  for sugar_agent in self.schedule.agents_by_type[Sugar].values():\n",
      "C:\\Users\\DELL\\AppData\\Local\\Temp\\ipykernel_484\\329254329.py:101: DeprecationWarning: Because of the shift to using AgentSet, in the future this attribute will return a dict withtype as key as AgentSet as value. Future behavior is available via RandomActivationByType._agents_by_type\n",
      "  non_corrupt_agents_shuffle = list(self.schedule.agents_by_type[Non_corrupt_agent].values())\n",
      "C:\\Users\\DELL\\AppData\\Local\\Temp\\ipykernel_484\\329254329.py:91: DeprecationWarning: Because of the shift to using AgentSet, in the future this attribute will return a dict withtype as key as AgentSet as value. Future behavior is available via RandomActivationByType._agents_by_type\n",
      "  agents = [agent for agent in self.schedule.agents_by_type[Non_corrupt_agent].values()]\n",
      "C:\\Users\\DELL\\AppData\\Local\\Temp\\ipykernel_484\\329254329.py:109: DeprecationWarning: Because of the shift to using AgentSet, in the future this attribute will return a dict withtype as key as AgentSet as value. Future behavior is available via RandomActivationByType._agents_by_type\n",
      "  for sugar_agent in self.schedule.agents_by_type[Sugar].values():\n",
      "C:\\Users\\DELL\\AppData\\Local\\Temp\\ipykernel_484\\329254329.py:101: DeprecationWarning: Because of the shift to using AgentSet, in the future this attribute will return a dict withtype as key as AgentSet as value. Future behavior is available via RandomActivationByType._agents_by_type\n",
      "  non_corrupt_agents_shuffle = list(self.schedule.agents_by_type[Non_corrupt_agent].values())\n",
      "C:\\Users\\DELL\\AppData\\Local\\Temp\\ipykernel_484\\329254329.py:91: DeprecationWarning: Because of the shift to using AgentSet, in the future this attribute will return a dict withtype as key as AgentSet as value. Future behavior is available via RandomActivationByType._agents_by_type\n",
      "  agents = [agent for agent in self.schedule.agents_by_type[Non_corrupt_agent].values()]\n"
     ]
    },
    {
     "name": "stdout",
     "output_type": "stream",
     "text": [
      "Agent 2339 has eaten 4 sugar from sugar 442\n",
      "Agent 2297 has eaten 4 sugar from sugar 277\n",
      "Agent 2354 has eaten 4 sugar from sugar 2095\n",
      "Agent 2356 has eaten 4.0 sugar from sugar 60\n",
      "Agent 2308 has eaten 4 sugar from sugar 916\n",
      "Agent 2367 has eaten 4 sugar from sugar 1080\n",
      "Agent 2345 has eaten 4 sugar from sugar 94\n",
      "Agent 2381 has eaten 4 sugar from sugar 116\n",
      "Agent 2370 has eaten 4 sugar from sugar 84\n",
      "Agent 2359 has eaten 4 sugar from sugar 1261\n",
      "Agent 2325 has eaten 4.0 sugar from sugar 161\n",
      "Agent 2295 has eaten 4 sugar from sugar 441\n",
      "Agent 2357 has eaten 4 sugar from sugar 1940\n",
      "Agent 2369 has eaten 4 sugar from sugar 2167\n",
      "Agent 2334 has eaten 4 sugar from sugar 1688\n",
      "Agent 2316 has eaten 4 sugar from sugar 302\n",
      "Agent 2355 has eaten 4.0 sugar from sugar 794\n",
      "Agent 2314 has eaten 4 sugar from sugar 1340\n",
      "Agent 2373 has eaten 4 sugar from sugar 1843\n",
      "Agent 2336 has eaten 4 sugar from sugar 1910\n",
      "Agent 2303 has eaten 4 sugar from sugar 462\n",
      "Agent 2315 has eaten 1.0 sugar from sugar 365\n",
      "Agent 2321 has eaten 4.0 sugar from sugar 1584\n",
      "Agent 2338 has eaten 4 sugar from sugar 235\n",
      "Agent 2380 has eaten 4 sugar from sugar 251\n",
      "Agent 2383 has eaten 4 sugar from sugar 1315\n",
      "Agent 2352 has eaten 4 sugar from sugar 2049\n",
      "Agent 2304 has eaten 4 sugar from sugar 1867\n",
      "Agent 2319 has eaten 4 sugar from sugar 700\n",
      "Agent 2386 has eaten 4 sugar from sugar 427\n",
      "Agent 2360 has eaten 1.0 sugar from sugar 1183\n",
      "Agent 2374 has eaten 4 sugar from sugar 1253\n",
      "Agent 2350 has eaten 4 sugar from sugar 670\n",
      "Agent 2372 has eaten 4 sugar from sugar 2042\n",
      "Agent 2306 has eaten 4 sugar from sugar 872\n",
      "Agent 2322 has eaten 4 sugar from sugar 584\n",
      "Agent 2324 has eaten 4 sugar from sugar 1174\n",
      "Agent 2332 has eaten 4.0 sugar from sugar 44\n",
      "Agent 2341 has eaten 4 sugar from sugar 2238\n",
      "Agent 2362 has eaten 4 sugar from sugar 332\n",
      "Agent 2299 has eaten 4 sugar from sugar 514\n",
      "Agent 2307 has eaten 4 sugar from sugar 1089\n",
      "Agent 2318 has eaten 3.0 sugar from sugar 167\n",
      "Agent 2337 has eaten 4 sugar from sugar 162\n",
      "26\n",
      "Agent 2295 with 2.0 has received 4.0 from 2339 with 14.0\n",
      "28\n"
     ]
    },
    {
     "name": "stderr",
     "output_type": "stream",
     "text": [
      "C:\\Users\\DELL\\AppData\\Local\\Temp\\ipykernel_484\\329254329.py:109: DeprecationWarning: Because of the shift to using AgentSet, in the future this attribute will return a dict withtype as key as AgentSet as value. Future behavior is available via RandomActivationByType._agents_by_type\n",
      "  for sugar_agent in self.schedule.agents_by_type[Sugar].values():\n",
      "C:\\Users\\DELL\\AppData\\Local\\Temp\\ipykernel_484\\329254329.py:101: DeprecationWarning: Because of the shift to using AgentSet, in the future this attribute will return a dict withtype as key as AgentSet as value. Future behavior is available via RandomActivationByType._agents_by_type\n",
      "  non_corrupt_agents_shuffle = list(self.schedule.agents_by_type[Non_corrupt_agent].values())\n",
      "C:\\Users\\DELL\\AppData\\Local\\Temp\\ipykernel_484\\329254329.py:91: DeprecationWarning: Because of the shift to using AgentSet, in the future this attribute will return a dict withtype as key as AgentSet as value. Future behavior is available via RandomActivationByType._agents_by_type\n",
      "  agents = [agent for agent in self.schedule.agents_by_type[Non_corrupt_agent].values()]\n",
      "C:\\Users\\DELL\\AppData\\Local\\Temp\\ipykernel_484\\329254329.py:109: DeprecationWarning: Because of the shift to using AgentSet, in the future this attribute will return a dict withtype as key as AgentSet as value. Future behavior is available via RandomActivationByType._agents_by_type\n",
      "  for sugar_agent in self.schedule.agents_by_type[Sugar].values():\n",
      "C:\\Users\\DELL\\AppData\\Local\\Temp\\ipykernel_484\\329254329.py:101: DeprecationWarning: Because of the shift to using AgentSet, in the future this attribute will return a dict withtype as key as AgentSet as value. Future behavior is available via RandomActivationByType._agents_by_type\n",
      "  non_corrupt_agents_shuffle = list(self.schedule.agents_by_type[Non_corrupt_agent].values())\n",
      "C:\\Users\\DELL\\AppData\\Local\\Temp\\ipykernel_484\\329254329.py:91: DeprecationWarning: Because of the shift to using AgentSet, in the future this attribute will return a dict withtype as key as AgentSet as value. Future behavior is available via RandomActivationByType._agents_by_type\n",
      "  agents = [agent for agent in self.schedule.agents_by_type[Non_corrupt_agent].values()]\n"
     ]
    },
    {
     "name": "stdout",
     "output_type": "stream",
     "text": [
      "Agent 2350 has eaten 4 sugar from sugar 670\n",
      "Agent 2334 has eaten 4 sugar from sugar 1688\n",
      "Agent 2324 has eaten 4 sugar from sugar 1174\n",
      "Agent 2359 has eaten 4 sugar from sugar 1261\n",
      "Agent 2308 has eaten 4 sugar from sugar 916\n",
      "Agent 2321 has eaten 4.0 sugar from sugar 1584\n",
      "Agent 2352 has eaten 4 sugar from sugar 2049\n",
      "Agent 2337 has eaten 4 sugar from sugar 162\n",
      "Agent 2357 has eaten 4 sugar from sugar 1940\n",
      "Agent 2381 has eaten 4 sugar from sugar 116\n",
      "Agent 2307 has eaten 4 sugar from sugar 1089\n",
      "Agent 2316 has eaten 4 sugar from sugar 302\n",
      "Agent 2380 has eaten 4 sugar from sugar 251\n",
      "Agent 2314 has eaten 4 sugar from sugar 1340\n",
      "Agent 2383 has eaten 4 sugar from sugar 1315\n",
      "Agent 2356 has eaten 4.0 sugar from sugar 60\n",
      "Agent 2336 has eaten 4 sugar from sugar 1910\n",
      "Agent 2354 has eaten 4 sugar from sugar 2095\n",
      "Agent 2318 has eaten 3.0 sugar from sugar 167\n",
      "Agent 2372 has eaten 4 sugar from sugar 2042\n",
      "Agent 2325 has eaten 4.0 sugar from sugar 161\n",
      "Agent 2303 has eaten 4 sugar from sugar 462\n",
      "Agent 2319 has eaten 4 sugar from sugar 700\n",
      "Agent 2386 has eaten 4 sugar from sugar 427\n",
      "Agent 2341 has eaten 4 sugar from sugar 2238\n",
      "Agent 2370 has eaten 4 sugar from sugar 84\n",
      "Agent 2299 has eaten 4 sugar from sugar 514\n",
      "Agent 2306 has eaten 4 sugar from sugar 872\n",
      "Agent 2355 has eaten 4.0 sugar from sugar 794\n",
      "Agent 2369 has eaten 4 sugar from sugar 2167\n",
      "Agent 2332 has eaten 4.0 sugar from sugar 44\n",
      "Agent 2295 has eaten 4 sugar from sugar 441\n",
      "Agent 2345 has eaten 4 sugar from sugar 94\n",
      "Agent 2360 has eaten 1.0 sugar from sugar 1183\n",
      "Agent 2297 has eaten 4 sugar from sugar 277\n",
      "Agent 2339 has eaten 4 sugar from sugar 442\n",
      "Agent 2367 has eaten 4 sugar from sugar 1080\n",
      "Agent 2373 has eaten 4 sugar from sugar 1843\n",
      "Agent 2362 has eaten 4 sugar from sugar 332\n",
      "Agent 2374 has eaten 4 sugar from sugar 1253\n",
      "Agent 2322 has eaten 4 sugar from sugar 584\n",
      "Agent 2315 has eaten 1.0 sugar from sugar 365\n",
      "30\n",
      "Agent 2381 with 1.5 has received 9.0 from 2325 with 27.0\n",
      "Agent 2295 with 2.0 has received 4.0 from 2339 with 12.0\n",
      "32\n"
     ]
    },
    {
     "name": "stderr",
     "output_type": "stream",
     "text": [
      "C:\\Users\\DELL\\AppData\\Local\\Temp\\ipykernel_484\\329254329.py:109: DeprecationWarning: Because of the shift to using AgentSet, in the future this attribute will return a dict withtype as key as AgentSet as value. Future behavior is available via RandomActivationByType._agents_by_type\n",
      "  for sugar_agent in self.schedule.agents_by_type[Sugar].values():\n",
      "C:\\Users\\DELL\\AppData\\Local\\Temp\\ipykernel_484\\329254329.py:101: DeprecationWarning: Because of the shift to using AgentSet, in the future this attribute will return a dict withtype as key as AgentSet as value. Future behavior is available via RandomActivationByType._agents_by_type\n",
      "  non_corrupt_agents_shuffle = list(self.schedule.agents_by_type[Non_corrupt_agent].values())\n",
      "C:\\Users\\DELL\\AppData\\Local\\Temp\\ipykernel_484\\329254329.py:91: DeprecationWarning: Because of the shift to using AgentSet, in the future this attribute will return a dict withtype as key as AgentSet as value. Future behavior is available via RandomActivationByType._agents_by_type\n",
      "  agents = [agent for agent in self.schedule.agents_by_type[Non_corrupt_agent].values()]\n",
      "C:\\Users\\DELL\\AppData\\Local\\Temp\\ipykernel_484\\329254329.py:109: DeprecationWarning: Because of the shift to using AgentSet, in the future this attribute will return a dict withtype as key as AgentSet as value. Future behavior is available via RandomActivationByType._agents_by_type\n",
      "  for sugar_agent in self.schedule.agents_by_type[Sugar].values():\n",
      "C:\\Users\\DELL\\AppData\\Local\\Temp\\ipykernel_484\\329254329.py:101: DeprecationWarning: Because of the shift to using AgentSet, in the future this attribute will return a dict withtype as key as AgentSet as value. Future behavior is available via RandomActivationByType._agents_by_type\n",
      "  non_corrupt_agents_shuffle = list(self.schedule.agents_by_type[Non_corrupt_agent].values())\n",
      "C:\\Users\\DELL\\AppData\\Local\\Temp\\ipykernel_484\\329254329.py:91: DeprecationWarning: Because of the shift to using AgentSet, in the future this attribute will return a dict withtype as key as AgentSet as value. Future behavior is available via RandomActivationByType._agents_by_type\n",
      "  agents = [agent for agent in self.schedule.agents_by_type[Non_corrupt_agent].values()]\n"
     ]
    },
    {
     "name": "stdout",
     "output_type": "stream",
     "text": [
      "Agent 2386 has eaten 4 sugar from sugar 427\n",
      "Agent 2357 has eaten 4 sugar from sugar 1940\n",
      "Agent 2297 has eaten 4 sugar from sugar 277\n",
      "Agent 2321 has eaten 4.0 sugar from sugar 1584\n",
      "Agent 2337 has eaten 4 sugar from sugar 162\n",
      "Agent 2324 has eaten 4 sugar from sugar 1174\n",
      "Agent 2356 has eaten 4.0 sugar from sugar 60\n",
      "Agent 2367 has eaten 4 sugar from sugar 1080\n",
      "Agent 2383 has eaten 4 sugar from sugar 1315\n",
      "Agent 2352 has eaten 4 sugar from sugar 2049\n",
      "Agent 2315 has eaten 1.0 sugar from sugar 365\n",
      "Agent 2322 has eaten 4 sugar from sugar 584\n",
      "Agent 2350 has eaten 4 sugar from sugar 670\n",
      "Agent 2359 has eaten 4 sugar from sugar 1261\n",
      "Agent 2314 has eaten 4 sugar from sugar 1340\n",
      "Agent 2360 has eaten 1.0 sugar from sugar 1183\n",
      "Agent 2336 has eaten 4 sugar from sugar 1910\n",
      "Agent 2325 has eaten 4.0 sugar from sugar 161\n",
      "Agent 2295 has eaten 4 sugar from sugar 441\n",
      "Agent 2316 has eaten 4 sugar from sugar 302\n",
      "Agent 2332 has eaten 4.0 sugar from sugar 44\n",
      "Agent 2380 has eaten 4 sugar from sugar 251\n",
      "Agent 2341 has eaten 4 sugar from sugar 2238\n",
      "Agent 2362 has eaten 4 sugar from sugar 332\n",
      "Agent 2308 has eaten 4 sugar from sugar 916\n",
      "Agent 2374 has eaten 4 sugar from sugar 1253\n",
      "Agent 2319 has eaten 4 sugar from sugar 700\n",
      "Agent 2307 has eaten 4 sugar from sugar 1089\n",
      "Agent 2370 has eaten 4 sugar from sugar 84\n",
      "Agent 2345 has eaten 4 sugar from sugar 94\n",
      "Agent 2369 has eaten 4 sugar from sugar 2167\n",
      "Agent 2303 has eaten 4 sugar from sugar 462\n",
      "Agent 2354 has eaten 4 sugar from sugar 2095\n",
      "Agent 2373 has eaten 4 sugar from sugar 1843\n",
      "Agent 2381 has eaten 4 sugar from sugar 116\n",
      "Agent 2299 has eaten 4 sugar from sugar 514\n",
      "Agent 2334 has eaten 4 sugar from sugar 1688\n",
      "Agent 2339 has eaten 4 sugar from sugar 442\n",
      "Agent 2318 has eaten 3.0 sugar from sugar 167\n",
      "34\n",
      "Agent 2295 with 2.0 has received 3.0 from 2339 with 11.0\n",
      "36\n"
     ]
    },
    {
     "name": "stderr",
     "output_type": "stream",
     "text": [
      "C:\\Users\\DELL\\AppData\\Local\\Temp\\ipykernel_484\\329254329.py:109: DeprecationWarning: Because of the shift to using AgentSet, in the future this attribute will return a dict withtype as key as AgentSet as value. Future behavior is available via RandomActivationByType._agents_by_type\n",
      "  for sugar_agent in self.schedule.agents_by_type[Sugar].values():\n",
      "C:\\Users\\DELL\\AppData\\Local\\Temp\\ipykernel_484\\329254329.py:101: DeprecationWarning: Because of the shift to using AgentSet, in the future this attribute will return a dict withtype as key as AgentSet as value. Future behavior is available via RandomActivationByType._agents_by_type\n",
      "  non_corrupt_agents_shuffle = list(self.schedule.agents_by_type[Non_corrupt_agent].values())\n",
      "C:\\Users\\DELL\\AppData\\Local\\Temp\\ipykernel_484\\329254329.py:91: DeprecationWarning: Because of the shift to using AgentSet, in the future this attribute will return a dict withtype as key as AgentSet as value. Future behavior is available via RandomActivationByType._agents_by_type\n",
      "  agents = [agent for agent in self.schedule.agents_by_type[Non_corrupt_agent].values()]\n",
      "C:\\Users\\DELL\\AppData\\Local\\Temp\\ipykernel_484\\329254329.py:109: DeprecationWarning: Because of the shift to using AgentSet, in the future this attribute will return a dict withtype as key as AgentSet as value. Future behavior is available via RandomActivationByType._agents_by_type\n",
      "  for sugar_agent in self.schedule.agents_by_type[Sugar].values():\n",
      "C:\\Users\\DELL\\AppData\\Local\\Temp\\ipykernel_484\\329254329.py:101: DeprecationWarning: Because of the shift to using AgentSet, in the future this attribute will return a dict withtype as key as AgentSet as value. Future behavior is available via RandomActivationByType._agents_by_type\n",
      "  non_corrupt_agents_shuffle = list(self.schedule.agents_by_type[Non_corrupt_agent].values())\n",
      "C:\\Users\\DELL\\AppData\\Local\\Temp\\ipykernel_484\\329254329.py:91: DeprecationWarning: Because of the shift to using AgentSet, in the future this attribute will return a dict withtype as key as AgentSet as value. Future behavior is available via RandomActivationByType._agents_by_type\n",
      "  agents = [agent for agent in self.schedule.agents_by_type[Non_corrupt_agent].values()]\n"
     ]
    },
    {
     "name": "stdout",
     "output_type": "stream",
     "text": [
      "Agent 2334 has eaten 4 sugar from sugar 1688\n",
      "Agent 2339 has eaten 4 sugar from sugar 442\n",
      "Agent 2374 has eaten 4 sugar from sugar 1253\n",
      "Agent 2360 has eaten 1.0 sugar from sugar 1183\n",
      "Agent 2316 has eaten 4 sugar from sugar 302\n",
      "Agent 2325 has eaten 4.0 sugar from sugar 161\n",
      "Agent 2324 has eaten 4 sugar from sugar 1174\n",
      "Agent 2370 has eaten 4 sugar from sugar 84\n",
      "Agent 2308 has eaten 4 sugar from sugar 916\n",
      "Agent 2332 has eaten 4.0 sugar from sugar 44\n",
      "Agent 2297 has eaten 4 sugar from sugar 277\n",
      "Agent 2322 has eaten 4 sugar from sugar 584\n",
      "Agent 2295 has eaten 4 sugar from sugar 441\n",
      "Agent 2386 has eaten 4 sugar from sugar 427\n",
      "Agent 2373 has eaten 4 sugar from sugar 1843\n",
      "Agent 2367 has eaten 4 sugar from sugar 1080\n",
      "Agent 2336 has eaten 4 sugar from sugar 1910\n",
      "Agent 2359 has eaten 4 sugar from sugar 1261\n",
      "Agent 2318 has eaten 3.0 sugar from sugar 167\n",
      "Agent 2354 has eaten 4 sugar from sugar 2095\n",
      "Agent 2345 has eaten 4 sugar from sugar 94\n",
      "Agent 2341 has eaten 4 sugar from sugar 2238\n",
      "Agent 2381 has eaten 4 sugar from sugar 116\n",
      "Agent 2356 has eaten 4.0 sugar from sugar 60\n",
      "Agent 2315 has eaten 1.0 sugar from sugar 365\n",
      "Agent 2303 has eaten 4 sugar from sugar 462\n",
      "Agent 2369 has eaten 4 sugar from sugar 2167\n",
      "Agent 2321 has eaten 4.0 sugar from sugar 1584\n",
      "Agent 2319 has eaten 4 sugar from sugar 700\n",
      "Agent 2337 has eaten 4 sugar from sugar 162\n",
      "Agent 2380 has eaten 4 sugar from sugar 251\n",
      "Agent 2352 has eaten 4 sugar from sugar 2049\n",
      "Agent 2350 has eaten 4 sugar from sugar 670\n",
      "Agent 2299 has eaten 4 sugar from sugar 514\n",
      "Agent 2383 has eaten 4 sugar from sugar 1315\n",
      "Agent 2357 has eaten 4 sugar from sugar 1940\n",
      "Agent 2307 has eaten 4 sugar from sugar 1089\n",
      "Agent 2362 has eaten 4 sugar from sugar 332\n",
      "Agent 2314 has eaten 4 sugar from sugar 1340\n",
      "38\n",
      "Agent 2295 with 4.0 has received 3.0 from 2339 with 10.0\n",
      "40\n"
     ]
    },
    {
     "name": "stderr",
     "output_type": "stream",
     "text": [
      "C:\\Users\\DELL\\AppData\\Local\\Temp\\ipykernel_484\\329254329.py:109: DeprecationWarning: Because of the shift to using AgentSet, in the future this attribute will return a dict withtype as key as AgentSet as value. Future behavior is available via RandomActivationByType._agents_by_type\n",
      "  for sugar_agent in self.schedule.agents_by_type[Sugar].values():\n",
      "C:\\Users\\DELL\\AppData\\Local\\Temp\\ipykernel_484\\329254329.py:101: DeprecationWarning: Because of the shift to using AgentSet, in the future this attribute will return a dict withtype as key as AgentSet as value. Future behavior is available via RandomActivationByType._agents_by_type\n",
      "  non_corrupt_agents_shuffle = list(self.schedule.agents_by_type[Non_corrupt_agent].values())\n",
      "C:\\Users\\DELL\\AppData\\Local\\Temp\\ipykernel_484\\329254329.py:91: DeprecationWarning: Because of the shift to using AgentSet, in the future this attribute will return a dict withtype as key as AgentSet as value. Future behavior is available via RandomActivationByType._agents_by_type\n",
      "  agents = [agent for agent in self.schedule.agents_by_type[Non_corrupt_agent].values()]\n",
      "C:\\Users\\DELL\\AppData\\Local\\Temp\\ipykernel_484\\329254329.py:109: DeprecationWarning: Because of the shift to using AgentSet, in the future this attribute will return a dict withtype as key as AgentSet as value. Future behavior is available via RandomActivationByType._agents_by_type\n",
      "  for sugar_agent in self.schedule.agents_by_type[Sugar].values():\n",
      "C:\\Users\\DELL\\AppData\\Local\\Temp\\ipykernel_484\\329254329.py:101: DeprecationWarning: Because of the shift to using AgentSet, in the future this attribute will return a dict withtype as key as AgentSet as value. Future behavior is available via RandomActivationByType._agents_by_type\n",
      "  non_corrupt_agents_shuffle = list(self.schedule.agents_by_type[Non_corrupt_agent].values())\n",
      "C:\\Users\\DELL\\AppData\\Local\\Temp\\ipykernel_484\\329254329.py:91: DeprecationWarning: Because of the shift to using AgentSet, in the future this attribute will return a dict withtype as key as AgentSet as value. Future behavior is available via RandomActivationByType._agents_by_type\n",
      "  agents = [agent for agent in self.schedule.agents_by_type[Non_corrupt_agent].values()]\n"
     ]
    },
    {
     "name": "stdout",
     "output_type": "stream",
     "text": [
      "Agent 2383 has eaten 4 sugar from sugar 1315\n",
      "Agent 2318 has eaten 3.0 sugar from sugar 167\n",
      "Agent 2354 has eaten 4 sugar from sugar 2095\n",
      "Agent 2339 has eaten 4 sugar from sugar 442\n",
      "Agent 2295 has eaten 4 sugar from sugar 441\n",
      "Agent 2350 has eaten 4 sugar from sugar 670\n",
      "Agent 2357 has eaten 4 sugar from sugar 1940\n",
      "Agent 2336 has eaten 4 sugar from sugar 1910\n",
      "Agent 2370 has eaten 4 sugar from sugar 84\n",
      "Agent 2373 has eaten 4 sugar from sugar 1843\n",
      "Agent 2299 has eaten 4 sugar from sugar 514\n",
      "Agent 2324 has eaten 4 sugar from sugar 1174\n",
      "Agent 2314 has eaten 4 sugar from sugar 1340\n",
      "Agent 2352 has eaten 4 sugar from sugar 2049\n",
      "Agent 2332 has eaten 4.0 sugar from sugar 44\n",
      "Agent 2316 has eaten 4 sugar from sugar 302\n",
      "Agent 2297 has eaten 4 sugar from sugar 277\n",
      "Agent 2325 has eaten 4.0 sugar from sugar 161\n",
      "Agent 2369 has eaten 4 sugar from sugar 2167\n",
      "Agent 2334 has eaten 4 sugar from sugar 1688\n",
      "Agent 2380 has eaten 4 sugar from sugar 251\n",
      "Agent 2367 has eaten 4 sugar from sugar 1080\n",
      "Agent 2307 has eaten 4 sugar from sugar 1089\n",
      "Agent 2315 has eaten 1.0 sugar from sugar 365\n",
      "Agent 2359 has eaten 4 sugar from sugar 1261\n",
      "Agent 2308 has eaten 4 sugar from sugar 916\n",
      "Agent 2386 has eaten 4 sugar from sugar 427\n",
      "Agent 2303 has eaten 4 sugar from sugar 462\n",
      "Agent 2356 has eaten 4.0 sugar from sugar 60\n",
      "Agent 2345 has eaten 4 sugar from sugar 94\n",
      "Agent 2322 has eaten 4 sugar from sugar 584\n",
      "Agent 2381 has eaten 4 sugar from sugar 116\n",
      "Agent 2319 has eaten 4 sugar from sugar 700\n",
      "Agent 2374 has eaten 4 sugar from sugar 1253\n",
      "Agent 2321 has eaten 4.0 sugar from sugar 1584\n",
      "Agent 2341 has eaten 4 sugar from sugar 2238\n",
      "42\n",
      "44\n"
     ]
    },
    {
     "name": "stderr",
     "output_type": "stream",
     "text": [
      "C:\\Users\\DELL\\AppData\\Local\\Temp\\ipykernel_484\\329254329.py:109: DeprecationWarning: Because of the shift to using AgentSet, in the future this attribute will return a dict withtype as key as AgentSet as value. Future behavior is available via RandomActivationByType._agents_by_type\n",
      "  for sugar_agent in self.schedule.agents_by_type[Sugar].values():\n",
      "C:\\Users\\DELL\\AppData\\Local\\Temp\\ipykernel_484\\329254329.py:101: DeprecationWarning: Because of the shift to using AgentSet, in the future this attribute will return a dict withtype as key as AgentSet as value. Future behavior is available via RandomActivationByType._agents_by_type\n",
      "  non_corrupt_agents_shuffle = list(self.schedule.agents_by_type[Non_corrupt_agent].values())\n",
      "C:\\Users\\DELL\\AppData\\Local\\Temp\\ipykernel_484\\329254329.py:91: DeprecationWarning: Because of the shift to using AgentSet, in the future this attribute will return a dict withtype as key as AgentSet as value. Future behavior is available via RandomActivationByType._agents_by_type\n",
      "  agents = [agent for agent in self.schedule.agents_by_type[Non_corrupt_agent].values()]\n",
      "C:\\Users\\DELL\\AppData\\Local\\Temp\\ipykernel_484\\329254329.py:109: DeprecationWarning: Because of the shift to using AgentSet, in the future this attribute will return a dict withtype as key as AgentSet as value. Future behavior is available via RandomActivationByType._agents_by_type\n",
      "  for sugar_agent in self.schedule.agents_by_type[Sugar].values():\n",
      "C:\\Users\\DELL\\AppData\\Local\\Temp\\ipykernel_484\\329254329.py:101: DeprecationWarning: Because of the shift to using AgentSet, in the future this attribute will return a dict withtype as key as AgentSet as value. Future behavior is available via RandomActivationByType._agents_by_type\n",
      "  non_corrupt_agents_shuffle = list(self.schedule.agents_by_type[Non_corrupt_agent].values())\n",
      "C:\\Users\\DELL\\AppData\\Local\\Temp\\ipykernel_484\\329254329.py:91: DeprecationWarning: Because of the shift to using AgentSet, in the future this attribute will return a dict withtype as key as AgentSet as value. Future behavior is available via RandomActivationByType._agents_by_type\n",
      "  agents = [agent for agent in self.schedule.agents_by_type[Non_corrupt_agent].values()]\n"
     ]
    },
    {
     "name": "stdout",
     "output_type": "stream",
     "text": [
      "Agent 2383 has eaten 4 sugar from sugar 1315\n",
      "Agent 2321 has eaten 4.0 sugar from sugar 1584\n",
      "Agent 2324 has eaten 4 sugar from sugar 1174\n",
      "Agent 2367 has eaten 4 sugar from sugar 1080\n",
      "Agent 2336 has eaten 4 sugar from sugar 1910\n",
      "Agent 2299 has eaten 4 sugar from sugar 514\n",
      "Agent 2354 has eaten 4 sugar from sugar 2095\n",
      "Agent 2345 has eaten 4 sugar from sugar 94\n",
      "Agent 2352 has eaten 4 sugar from sugar 2049\n",
      "Agent 2381 has eaten 4 sugar from sugar 116\n",
      "Agent 2332 has eaten 4.0 sugar from sugar 44\n",
      "Agent 2307 has eaten 4 sugar from sugar 1089\n",
      "Agent 2339 has eaten 4 sugar from sugar 442\n",
      "Agent 2297 has eaten 4 sugar from sugar 277\n",
      "Agent 2373 has eaten 4 sugar from sugar 1843\n",
      "Agent 2374 has eaten 4 sugar from sugar 1253\n",
      "Agent 2380 has eaten 4 sugar from sugar 251\n",
      "Agent 2386 has eaten 4 sugar from sugar 427\n",
      "Agent 2325 has eaten 4.0 sugar from sugar 161\n",
      "Agent 2318 has eaten 3.0 sugar from sugar 167\n",
      "Agent 2370 has eaten 4 sugar from sugar 84\n",
      "Agent 2319 has eaten 4 sugar from sugar 700\n",
      "Agent 2341 has eaten 4 sugar from sugar 2238\n",
      "Agent 2359 has eaten 4 sugar from sugar 1261\n",
      "Agent 2308 has eaten 4 sugar from sugar 916\n",
      "Agent 2356 has eaten 4.0 sugar from sugar 60\n",
      "Agent 2316 has eaten 4 sugar from sugar 302\n",
      "Agent 2322 has eaten 4 sugar from sugar 584\n",
      "Agent 2303 has eaten 4 sugar from sugar 462\n",
      "Agent 2315 has eaten 1.0 sugar from sugar 365\n",
      "Agent 2369 has eaten 4 sugar from sugar 2167\n",
      "Agent 2334 has eaten 4 sugar from sugar 1688\n",
      "Agent 2350 has eaten 4 sugar from sugar 670\n",
      "46\n",
      "48\n"
     ]
    },
    {
     "name": "stderr",
     "output_type": "stream",
     "text": [
      "C:\\Users\\DELL\\AppData\\Local\\Temp\\ipykernel_484\\329254329.py:109: DeprecationWarning: Because of the shift to using AgentSet, in the future this attribute will return a dict withtype as key as AgentSet as value. Future behavior is available via RandomActivationByType._agents_by_type\n",
      "  for sugar_agent in self.schedule.agents_by_type[Sugar].values():\n",
      "C:\\Users\\DELL\\AppData\\Local\\Temp\\ipykernel_484\\329254329.py:101: DeprecationWarning: Because of the shift to using AgentSet, in the future this attribute will return a dict withtype as key as AgentSet as value. Future behavior is available via RandomActivationByType._agents_by_type\n",
      "  non_corrupt_agents_shuffle = list(self.schedule.agents_by_type[Non_corrupt_agent].values())\n",
      "C:\\Users\\DELL\\AppData\\Local\\Temp\\ipykernel_484\\329254329.py:91: DeprecationWarning: Because of the shift to using AgentSet, in the future this attribute will return a dict withtype as key as AgentSet as value. Future behavior is available via RandomActivationByType._agents_by_type\n",
      "  agents = [agent for agent in self.schedule.agents_by_type[Non_corrupt_agent].values()]\n",
      "C:\\Users\\DELL\\AppData\\Local\\Temp\\ipykernel_484\\329254329.py:109: DeprecationWarning: Because of the shift to using AgentSet, in the future this attribute will return a dict withtype as key as AgentSet as value. Future behavior is available via RandomActivationByType._agents_by_type\n",
      "  for sugar_agent in self.schedule.agents_by_type[Sugar].values():\n",
      "C:\\Users\\DELL\\AppData\\Local\\Temp\\ipykernel_484\\329254329.py:101: DeprecationWarning: Because of the shift to using AgentSet, in the future this attribute will return a dict withtype as key as AgentSet as value. Future behavior is available via RandomActivationByType._agents_by_type\n",
      "  non_corrupt_agents_shuffle = list(self.schedule.agents_by_type[Non_corrupt_agent].values())\n",
      "C:\\Users\\DELL\\AppData\\Local\\Temp\\ipykernel_484\\329254329.py:91: DeprecationWarning: Because of the shift to using AgentSet, in the future this attribute will return a dict withtype as key as AgentSet as value. Future behavior is available via RandomActivationByType._agents_by_type\n",
      "  agents = [agent for agent in self.schedule.agents_by_type[Non_corrupt_agent].values()]\n"
     ]
    },
    {
     "name": "stdout",
     "output_type": "stream",
     "text": [
      "Agent 2370 has eaten 4 sugar from sugar 84\n",
      "Agent 2297 has eaten 4 sugar from sugar 277\n",
      "Agent 2381 has eaten 4 sugar from sugar 116\n",
      "Agent 2324 has eaten 4 sugar from sugar 1174\n",
      "Agent 2367 has eaten 4 sugar from sugar 1080\n",
      "Agent 2373 has eaten 4 sugar from sugar 1843\n",
      "Agent 2334 has eaten 4 sugar from sugar 1688\n",
      "Agent 2316 has eaten 4 sugar from sugar 302\n",
      "Agent 2352 has eaten 4 sugar from sugar 2049\n",
      "Agent 2386 has eaten 4 sugar from sugar 427\n",
      "Agent 2341 has eaten 4 sugar from sugar 2238\n",
      "Agent 2354 has eaten 4 sugar from sugar 2095\n",
      "Agent 2350 has eaten 4 sugar from sugar 670\n",
      "Agent 2299 has eaten 4 sugar from sugar 514\n",
      "Agent 2345 has eaten 4 sugar from sugar 94\n",
      "Agent 2307 has eaten 4 sugar from sugar 1089\n",
      "Agent 2322 has eaten 4 sugar from sugar 584\n",
      "Agent 2369 has eaten 4 sugar from sugar 2167\n",
      "Agent 2359 has eaten 4 sugar from sugar 1261\n",
      "Agent 2339 has eaten 4 sugar from sugar 442\n",
      "Agent 2325 has eaten 4.0 sugar from sugar 161\n",
      "Agent 2332 has eaten 4.0 sugar from sugar 44\n",
      "Agent 2321 has eaten 4.0 sugar from sugar 1584\n",
      "Agent 2308 has eaten 4 sugar from sugar 916\n",
      "Agent 2380 has eaten 4 sugar from sugar 251\n",
      "Agent 2336 has eaten 4 sugar from sugar 1910\n",
      "Agent 2319 has eaten 4 sugar from sugar 700\n",
      "Agent 2374 has eaten 4 sugar from sugar 1253\n",
      "Agent 2318 has eaten 3.0 sugar from sugar 167\n",
      "Agent 2356 has eaten 4.0 sugar from sugar 60\n",
      "Agent 2303 has eaten 4 sugar from sugar 462\n",
      "Agent 2383 has eaten 4 sugar from sugar 1315\n",
      "Agent 2315 has eaten 1.0 sugar from sugar 365\n",
      "50\n",
      "52\n"
     ]
    },
    {
     "name": "stderr",
     "output_type": "stream",
     "text": [
      "C:\\Users\\DELL\\AppData\\Local\\Temp\\ipykernel_484\\329254329.py:109: DeprecationWarning: Because of the shift to using AgentSet, in the future this attribute will return a dict withtype as key as AgentSet as value. Future behavior is available via RandomActivationByType._agents_by_type\n",
      "  for sugar_agent in self.schedule.agents_by_type[Sugar].values():\n",
      "C:\\Users\\DELL\\AppData\\Local\\Temp\\ipykernel_484\\329254329.py:101: DeprecationWarning: Because of the shift to using AgentSet, in the future this attribute will return a dict withtype as key as AgentSet as value. Future behavior is available via RandomActivationByType._agents_by_type\n",
      "  non_corrupt_agents_shuffle = list(self.schedule.agents_by_type[Non_corrupt_agent].values())\n",
      "C:\\Users\\DELL\\AppData\\Local\\Temp\\ipykernel_484\\329254329.py:91: DeprecationWarning: Because of the shift to using AgentSet, in the future this attribute will return a dict withtype as key as AgentSet as value. Future behavior is available via RandomActivationByType._agents_by_type\n",
      "  agents = [agent for agent in self.schedule.agents_by_type[Non_corrupt_agent].values()]\n"
     ]
    },
    {
     "name": "stdout",
     "output_type": "stream",
     "text": [
      "Agent 2345 has eaten 4 sugar from sugar 94\n",
      "Agent 2316 has eaten 4 sugar from sugar 302\n",
      "Agent 2350 has eaten 4 sugar from sugar 670\n",
      "Agent 2380 has eaten 4 sugar from sugar 251\n",
      "Agent 2334 has eaten 4 sugar from sugar 1688\n",
      "Agent 2308 has eaten 4 sugar from sugar 916\n",
      "Agent 2341 has eaten 4 sugar from sugar 2238\n",
      "Agent 2359 has eaten 4 sugar from sugar 1261\n",
      "Agent 2307 has eaten 4 sugar from sugar 1089\n",
      "Agent 2322 has eaten 4 sugar from sugar 584\n",
      "Agent 2352 has eaten 4 sugar from sugar 2049\n",
      "Agent 2324 has eaten 4 sugar from sugar 1174\n",
      "Agent 2356 has eaten 4.0 sugar from sugar 60\n",
      "Agent 2318 has eaten 3.0 sugar from sugar 167\n",
      "Agent 2339 has eaten 4 sugar from sugar 442\n",
      "Agent 2321 has eaten 4.0 sugar from sugar 1584\n",
      "Agent 2383 has eaten 4 sugar from sugar 1315\n",
      "Agent 2373 has eaten 4 sugar from sugar 1843\n",
      "Agent 2303 has eaten 4 sugar from sugar 462\n",
      "Agent 2354 has eaten 4 sugar from sugar 2095\n",
      "Agent 2386 has eaten 4 sugar from sugar 427\n",
      "Agent 2374 has eaten 4 sugar from sugar 1253\n",
      "Agent 2315 has eaten 1.0 sugar from sugar 365\n",
      "Agent 2299 has eaten 4 sugar from sugar 514\n",
      "Agent 2370 has eaten 4 sugar from sugar 84\n",
      "Agent 2297 has eaten 4 sugar from sugar 277\n",
      "Agent 2325 has eaten 4.0 sugar from sugar 161\n",
      "Agent 2367 has eaten 4 sugar from sugar 1080\n",
      "Agent 2332 has eaten 4.0 sugar from sugar 44\n",
      "Agent 2319 has eaten 4 sugar from sugar 700\n",
      "Agent 2336 has eaten 4 sugar from sugar 1910\n",
      "Agent 2369 has eaten 4 sugar from sugar 2167\n",
      "54\n"
     ]
    },
    {
     "name": "stderr",
     "output_type": "stream",
     "text": [
      "C:\\Users\\DELL\\AppData\\Local\\Temp\\ipykernel_484\\329254329.py:109: DeprecationWarning: Because of the shift to using AgentSet, in the future this attribute will return a dict withtype as key as AgentSet as value. Future behavior is available via RandomActivationByType._agents_by_type\n",
      "  for sugar_agent in self.schedule.agents_by_type[Sugar].values():\n",
      "C:\\Users\\DELL\\AppData\\Local\\Temp\\ipykernel_484\\329254329.py:101: DeprecationWarning: Because of the shift to using AgentSet, in the future this attribute will return a dict withtype as key as AgentSet as value. Future behavior is available via RandomActivationByType._agents_by_type\n",
      "  non_corrupt_agents_shuffle = list(self.schedule.agents_by_type[Non_corrupt_agent].values())\n",
      "C:\\Users\\DELL\\AppData\\Local\\Temp\\ipykernel_484\\329254329.py:91: DeprecationWarning: Because of the shift to using AgentSet, in the future this attribute will return a dict withtype as key as AgentSet as value. Future behavior is available via RandomActivationByType._agents_by_type\n",
      "  agents = [agent for agent in self.schedule.agents_by_type[Non_corrupt_agent].values()]\n"
     ]
    },
    {
     "name": "stdout",
     "output_type": "stream",
     "text": [
      "56\n",
      "Agent 2354 has eaten 4 sugar from sugar 2095\n",
      "Agent 2307 has eaten 4 sugar from sugar 1089\n",
      "Agent 2383 has eaten 4 sugar from sugar 1315\n",
      "Agent 2319 has eaten 4 sugar from sugar 700\n",
      "Agent 2367 has eaten 4 sugar from sugar 1080\n",
      "Agent 2321 has eaten 4.0 sugar from sugar 1584\n",
      "Agent 2380 has eaten 4 sugar from sugar 251\n",
      "Agent 2322 has eaten 4 sugar from sugar 584\n",
      "Agent 2341 has eaten 4 sugar from sugar 2238\n",
      "Agent 2324 has eaten 4 sugar from sugar 1174\n",
      "Agent 2386 has eaten 4 sugar from sugar 427\n",
      "Agent 2374 has eaten 4 sugar from sugar 1253\n",
      "Agent 2352 has eaten 4 sugar from sugar 2049\n",
      "Agent 2370 has eaten 4 sugar from sugar 84\n",
      "Agent 2359 has eaten 4 sugar from sugar 1261\n",
      "Agent 2369 has eaten 4 sugar from sugar 2167\n",
      "Agent 2318 has eaten 3.0 sugar from sugar 167\n",
      "Agent 2316 has eaten 4 sugar from sugar 302\n",
      "Agent 2325 has eaten 4.0 sugar from sugar 161\n",
      "Agent 2373 has eaten 4 sugar from sugar 1843\n",
      "Agent 2345 has eaten 4 sugar from sugar 94\n",
      "Agent 2339 has eaten 4 sugar from sugar 442\n",
      "Agent 2315 has eaten 1.0 sugar from sugar 365\n",
      "Agent 2299 has eaten 4 sugar from sugar 514\n",
      "Agent 2308 has eaten 4 sugar from sugar 916\n",
      "Agent 2303 has eaten 4 sugar from sugar 462\n",
      "Agent 2356 has eaten 4.0 sugar from sugar 60\n",
      "Agent 2332 has eaten 4.0 sugar from sugar 44\n",
      "Agent 2350 has eaten 4 sugar from sugar 670\n",
      "Agent 2336 has eaten 4 sugar from sugar 1910\n",
      "Agent 2297 has eaten 4 sugar from sugar 277\n",
      "Agent 2334 has eaten 4 sugar from sugar 1688\n",
      "58\n"
     ]
    },
    {
     "name": "stderr",
     "output_type": "stream",
     "text": [
      "C:\\Users\\DELL\\AppData\\Local\\Temp\\ipykernel_484\\329254329.py:109: DeprecationWarning: Because of the shift to using AgentSet, in the future this attribute will return a dict withtype as key as AgentSet as value. Future behavior is available via RandomActivationByType._agents_by_type\n",
      "  for sugar_agent in self.schedule.agents_by_type[Sugar].values():\n",
      "C:\\Users\\DELL\\AppData\\Local\\Temp\\ipykernel_484\\329254329.py:101: DeprecationWarning: Because of the shift to using AgentSet, in the future this attribute will return a dict withtype as key as AgentSet as value. Future behavior is available via RandomActivationByType._agents_by_type\n",
      "  non_corrupt_agents_shuffle = list(self.schedule.agents_by_type[Non_corrupt_agent].values())\n",
      "C:\\Users\\DELL\\AppData\\Local\\Temp\\ipykernel_484\\329254329.py:91: DeprecationWarning: Because of the shift to using AgentSet, in the future this attribute will return a dict withtype as key as AgentSet as value. Future behavior is available via RandomActivationByType._agents_by_type\n",
      "  agents = [agent for agent in self.schedule.agents_by_type[Non_corrupt_agent].values()]\n",
      "C:\\Users\\DELL\\AppData\\Local\\Temp\\ipykernel_484\\329254329.py:109: DeprecationWarning: Because of the shift to using AgentSet, in the future this attribute will return a dict withtype as key as AgentSet as value. Future behavior is available via RandomActivationByType._agents_by_type\n",
      "  for sugar_agent in self.schedule.agents_by_type[Sugar].values():\n",
      "C:\\Users\\DELL\\AppData\\Local\\Temp\\ipykernel_484\\329254329.py:101: DeprecationWarning: Because of the shift to using AgentSet, in the future this attribute will return a dict withtype as key as AgentSet as value. Future behavior is available via RandomActivationByType._agents_by_type\n",
      "  non_corrupt_agents_shuffle = list(self.schedule.agents_by_type[Non_corrupt_agent].values())\n",
      "C:\\Users\\DELL\\AppData\\Local\\Temp\\ipykernel_484\\329254329.py:91: DeprecationWarning: Because of the shift to using AgentSet, in the future this attribute will return a dict withtype as key as AgentSet as value. Future behavior is available via RandomActivationByType._agents_by_type\n",
      "  agents = [agent for agent in self.schedule.agents_by_type[Non_corrupt_agent].values()]\n",
      "C:\\Users\\DELL\\AppData\\Local\\Temp\\ipykernel_484\\329254329.py:109: DeprecationWarning: Because of the shift to using AgentSet, in the future this attribute will return a dict withtype as key as AgentSet as value. Future behavior is available via RandomActivationByType._agents_by_type\n",
      "  for sugar_agent in self.schedule.agents_by_type[Sugar].values():\n",
      "C:\\Users\\DELL\\AppData\\Local\\Temp\\ipykernel_484\\329254329.py:101: DeprecationWarning: Because of the shift to using AgentSet, in the future this attribute will return a dict withtype as key as AgentSet as value. Future behavior is available via RandomActivationByType._agents_by_type\n",
      "  non_corrupt_agents_shuffle = list(self.schedule.agents_by_type[Non_corrupt_agent].values())\n",
      "C:\\Users\\DELL\\AppData\\Local\\Temp\\ipykernel_484\\329254329.py:91: DeprecationWarning: Because of the shift to using AgentSet, in the future this attribute will return a dict withtype as key as AgentSet as value. Future behavior is available via RandomActivationByType._agents_by_type\n",
      "  agents = [agent for agent in self.schedule.agents_by_type[Non_corrupt_agent].values()]\n"
     ]
    },
    {
     "name": "stdout",
     "output_type": "stream",
     "text": [
      "60\n",
      "Agent 2307 has eaten 4 sugar from sugar 1089\n",
      "Agent 2316 has eaten 4 sugar from sugar 302\n",
      "Agent 2325 has eaten 4.0 sugar from sugar 161\n",
      "Agent 2303 has eaten 4 sugar from sugar 462\n",
      "Agent 2321 has eaten 4.0 sugar from sugar 1584\n",
      "Agent 2383 has eaten 4 sugar from sugar 1315\n",
      "Agent 2322 has eaten 4 sugar from sugar 584\n",
      "Agent 2299 has eaten 4 sugar from sugar 514\n",
      "Agent 2341 has eaten 4 sugar from sugar 2238\n",
      "Agent 2350 has eaten 4 sugar from sugar 670\n",
      "Agent 2370 has eaten 4 sugar from sugar 84\n",
      "Agent 2359 has eaten 4 sugar from sugar 1261\n",
      "Agent 2297 has eaten 4 sugar from sugar 277\n",
      "Agent 2318 has eaten 3.0 sugar from sugar 167\n",
      "Agent 2374 has eaten 4 sugar from sugar 1253\n",
      "Agent 2367 has eaten 4 sugar from sugar 1080\n",
      "Agent 2380 has eaten 4 sugar from sugar 251\n",
      "Agent 2324 has eaten 4 sugar from sugar 1174\n",
      "Agent 2386 has eaten 4 sugar from sugar 427\n",
      "Agent 2334 has eaten 4 sugar from sugar 1688\n",
      "Agent 2354 has eaten 4 sugar from sugar 2095\n",
      "Agent 2332 has eaten 4.0 sugar from sugar 44\n",
      "Agent 2373 has eaten 4 sugar from sugar 1843\n",
      "Agent 2308 has eaten 4 sugar from sugar 916\n",
      "Agent 2336 has eaten 4 sugar from sugar 1910\n",
      "Agent 2369 has eaten 4 sugar from sugar 2167\n",
      "Agent 2356 has eaten 4.0 sugar from sugar 60\n",
      "Agent 2315 has eaten 1.0 sugar from sugar 365\n",
      "Agent 2319 has eaten 4 sugar from sugar 700\n",
      "Agent 2345 has eaten 4 sugar from sugar 94\n",
      "Agent 2339 has eaten 4 sugar from sugar 442\n",
      "Agent 2352 has eaten 4 sugar from sugar 2049\n",
      "62\n"
     ]
    },
    {
     "name": "stderr",
     "output_type": "stream",
     "text": [
      "C:\\Users\\DELL\\AppData\\Local\\Temp\\ipykernel_484\\329254329.py:109: DeprecationWarning: Because of the shift to using AgentSet, in the future this attribute will return a dict withtype as key as AgentSet as value. Future behavior is available via RandomActivationByType._agents_by_type\n",
      "  for sugar_agent in self.schedule.agents_by_type[Sugar].values():\n",
      "C:\\Users\\DELL\\AppData\\Local\\Temp\\ipykernel_484\\329254329.py:101: DeprecationWarning: Because of the shift to using AgentSet, in the future this attribute will return a dict withtype as key as AgentSet as value. Future behavior is available via RandomActivationByType._agents_by_type\n",
      "  non_corrupt_agents_shuffle = list(self.schedule.agents_by_type[Non_corrupt_agent].values())\n",
      "C:\\Users\\DELL\\AppData\\Local\\Temp\\ipykernel_484\\329254329.py:91: DeprecationWarning: Because of the shift to using AgentSet, in the future this attribute will return a dict withtype as key as AgentSet as value. Future behavior is available via RandomActivationByType._agents_by_type\n",
      "  agents = [agent for agent in self.schedule.agents_by_type[Non_corrupt_agent].values()]\n"
     ]
    },
    {
     "name": "stdout",
     "output_type": "stream",
     "text": [
      "64\n"
     ]
    },
    {
     "name": "stderr",
     "output_type": "stream",
     "text": [
      "C:\\Users\\DELL\\AppData\\Local\\Temp\\ipykernel_484\\329254329.py:109: DeprecationWarning: Because of the shift to using AgentSet, in the future this attribute will return a dict withtype as key as AgentSet as value. Future behavior is available via RandomActivationByType._agents_by_type\n",
      "  for sugar_agent in self.schedule.agents_by_type[Sugar].values():\n",
      "C:\\Users\\DELL\\AppData\\Local\\Temp\\ipykernel_484\\329254329.py:101: DeprecationWarning: Because of the shift to using AgentSet, in the future this attribute will return a dict withtype as key as AgentSet as value. Future behavior is available via RandomActivationByType._agents_by_type\n",
      "  non_corrupt_agents_shuffle = list(self.schedule.agents_by_type[Non_corrupt_agent].values())\n",
      "C:\\Users\\DELL\\AppData\\Local\\Temp\\ipykernel_484\\329254329.py:91: DeprecationWarning: Because of the shift to using AgentSet, in the future this attribute will return a dict withtype as key as AgentSet as value. Future behavior is available via RandomActivationByType._agents_by_type\n",
      "  agents = [agent for agent in self.schedule.agents_by_type[Non_corrupt_agent].values()]\n"
     ]
    },
    {
     "name": "stdout",
     "output_type": "stream",
     "text": [
      "Agent 2297 has eaten 4 sugar from sugar 277\n",
      "Agent 2339 has eaten 4 sugar from sugar 442\n",
      "Agent 2308 has eaten 4 sugar from sugar 916\n",
      "Agent 2307 has eaten 4 sugar from sugar 1089\n",
      "Agent 2322 has eaten 4 sugar from sugar 584\n",
      "Agent 2321 has eaten 4.0 sugar from sugar 1584\n",
      "Agent 2356 has eaten 4.0 sugar from sugar 60\n",
      "Agent 2325 has eaten 4.0 sugar from sugar 161\n",
      "Agent 2373 has eaten 4 sugar from sugar 1843\n",
      "Agent 2383 has eaten 4 sugar from sugar 1315\n",
      "Agent 2324 has eaten 4 sugar from sugar 1174\n",
      "Agent 2380 has eaten 4 sugar from sugar 251\n",
      "Agent 2354 has eaten 4 sugar from sugar 2095\n",
      "Agent 2369 has eaten 4 sugar from sugar 2167\n",
      "Agent 2299 has eaten 4 sugar from sugar 514\n",
      "Agent 2318 has eaten 3.0 sugar from sugar 167\n",
      "Agent 2359 has eaten 4 sugar from sugar 1261\n",
      "Agent 2303 has eaten 4 sugar from sugar 462\n",
      "Agent 2334 has eaten 4 sugar from sugar 1688\n",
      "Agent 2352 has eaten 4 sugar from sugar 2049\n",
      "Agent 2345 has eaten 4 sugar from sugar 94\n",
      "Agent 2319 has eaten 4 sugar from sugar 700\n",
      "Agent 2370 has eaten 4 sugar from sugar 84\n",
      "Agent 2336 has eaten 4 sugar from sugar 1910\n",
      "Agent 2316 has eaten 4 sugar from sugar 302\n",
      "Agent 2332 has eaten 4.0 sugar from sugar 44\n",
      "Agent 2386 has eaten 4 sugar from sugar 427\n",
      "Agent 2374 has eaten 4 sugar from sugar 1253\n",
      "Agent 2367 has eaten 4 sugar from sugar 1080\n",
      "Agent 2341 has eaten 4 sugar from sugar 2238\n",
      "Agent 2350 has eaten 4 sugar from sugar 670\n",
      "66\n"
     ]
    },
    {
     "name": "stderr",
     "output_type": "stream",
     "text": [
      "C:\\Users\\DELL\\AppData\\Local\\Temp\\ipykernel_484\\329254329.py:109: DeprecationWarning: Because of the shift to using AgentSet, in the future this attribute will return a dict withtype as key as AgentSet as value. Future behavior is available via RandomActivationByType._agents_by_type\n",
      "  for sugar_agent in self.schedule.agents_by_type[Sugar].values():\n",
      "C:\\Users\\DELL\\AppData\\Local\\Temp\\ipykernel_484\\329254329.py:101: DeprecationWarning: Because of the shift to using AgentSet, in the future this attribute will return a dict withtype as key as AgentSet as value. Future behavior is available via RandomActivationByType._agents_by_type\n",
      "  non_corrupt_agents_shuffle = list(self.schedule.agents_by_type[Non_corrupt_agent].values())\n",
      "C:\\Users\\DELL\\AppData\\Local\\Temp\\ipykernel_484\\329254329.py:91: DeprecationWarning: Because of the shift to using AgentSet, in the future this attribute will return a dict withtype as key as AgentSet as value. Future behavior is available via RandomActivationByType._agents_by_type\n",
      "  agents = [agent for agent in self.schedule.agents_by_type[Non_corrupt_agent].values()]\n"
     ]
    },
    {
     "name": "stdout",
     "output_type": "stream",
     "text": [
      "68\n"
     ]
    },
    {
     "name": "stderr",
     "output_type": "stream",
     "text": [
      "C:\\Users\\DELL\\AppData\\Local\\Temp\\ipykernel_484\\329254329.py:109: DeprecationWarning: Because of the shift to using AgentSet, in the future this attribute will return a dict withtype as key as AgentSet as value. Future behavior is available via RandomActivationByType._agents_by_type\n",
      "  for sugar_agent in self.schedule.agents_by_type[Sugar].values():\n",
      "C:\\Users\\DELL\\AppData\\Local\\Temp\\ipykernel_484\\329254329.py:101: DeprecationWarning: Because of the shift to using AgentSet, in the future this attribute will return a dict withtype as key as AgentSet as value. Future behavior is available via RandomActivationByType._agents_by_type\n",
      "  non_corrupt_agents_shuffle = list(self.schedule.agents_by_type[Non_corrupt_agent].values())\n",
      "C:\\Users\\DELL\\AppData\\Local\\Temp\\ipykernel_484\\329254329.py:91: DeprecationWarning: Because of the shift to using AgentSet, in the future this attribute will return a dict withtype as key as AgentSet as value. Future behavior is available via RandomActivationByType._agents_by_type\n",
      "  agents = [agent for agent in self.schedule.agents_by_type[Non_corrupt_agent].values()]\n"
     ]
    },
    {
     "name": "stdout",
     "output_type": "stream",
     "text": [
      "Agent 2307 has eaten 4 sugar from sugar 1089\n",
      "Agent 2297 has eaten 4 sugar from sugar 277\n",
      "Agent 2339 has eaten 4 sugar from sugar 442\n",
      "Agent 2383 has eaten 4 sugar from sugar 1315\n",
      "Agent 2380 has eaten 4 sugar from sugar 251\n",
      "Agent 2322 has eaten 4 sugar from sugar 584\n",
      "Agent 2334 has eaten 4 sugar from sugar 1688\n",
      "Agent 2325 has eaten 4.0 sugar from sugar 161\n",
      "Agent 2373 has eaten 4 sugar from sugar 1843\n",
      "Agent 2303 has eaten 4 sugar from sugar 462\n",
      "Agent 2308 has eaten 4 sugar from sugar 916\n",
      "Agent 2369 has eaten 4 sugar from sugar 2167\n",
      "Agent 2386 has eaten 4 sugar from sugar 427\n",
      "Agent 2332 has eaten 4.0 sugar from sugar 44\n",
      "Agent 2359 has eaten 4 sugar from sugar 1261\n",
      "Agent 2341 has eaten 4 sugar from sugar 2238\n",
      "Agent 2336 has eaten 4 sugar from sugar 1910\n",
      "Agent 2318 has eaten 3.0 sugar from sugar 167\n",
      "Agent 2374 has eaten 4 sugar from sugar 1253\n",
      "Agent 2356 has eaten 4.0 sugar from sugar 60\n",
      "Agent 2354 has eaten 4 sugar from sugar 2095\n",
      "Agent 2367 has eaten 4 sugar from sugar 1080\n",
      "Agent 2350 has eaten 4 sugar from sugar 670\n",
      "Agent 2345 has eaten 4 sugar from sugar 94\n",
      "Agent 2352 has eaten 4 sugar from sugar 2049\n",
      "Agent 2370 has eaten 4 sugar from sugar 84\n",
      "Agent 2324 has eaten 4 sugar from sugar 1174\n",
      "Agent 2321 has eaten 4.0 sugar from sugar 1584\n",
      "Agent 2299 has eaten 4 sugar from sugar 514\n",
      "Agent 2316 has eaten 4 sugar from sugar 302\n",
      "Agent 2319 has eaten 4 sugar from sugar 700\n",
      "70\n"
     ]
    },
    {
     "name": "stderr",
     "output_type": "stream",
     "text": [
      "C:\\Users\\DELL\\AppData\\Local\\Temp\\ipykernel_484\\329254329.py:109: DeprecationWarning: Because of the shift to using AgentSet, in the future this attribute will return a dict withtype as key as AgentSet as value. Future behavior is available via RandomActivationByType._agents_by_type\n",
      "  for sugar_agent in self.schedule.agents_by_type[Sugar].values():\n",
      "C:\\Users\\DELL\\AppData\\Local\\Temp\\ipykernel_484\\329254329.py:101: DeprecationWarning: Because of the shift to using AgentSet, in the future this attribute will return a dict withtype as key as AgentSet as value. Future behavior is available via RandomActivationByType._agents_by_type\n",
      "  non_corrupt_agents_shuffle = list(self.schedule.agents_by_type[Non_corrupt_agent].values())\n",
      "C:\\Users\\DELL\\AppData\\Local\\Temp\\ipykernel_484\\329254329.py:91: DeprecationWarning: Because of the shift to using AgentSet, in the future this attribute will return a dict withtype as key as AgentSet as value. Future behavior is available via RandomActivationByType._agents_by_type\n",
      "  agents = [agent for agent in self.schedule.agents_by_type[Non_corrupt_agent].values()]\n"
     ]
    },
    {
     "name": "stdout",
     "output_type": "stream",
     "text": [
      "72\n"
     ]
    },
    {
     "name": "stderr",
     "output_type": "stream",
     "text": [
      "C:\\Users\\DELL\\AppData\\Local\\Temp\\ipykernel_484\\329254329.py:109: DeprecationWarning: Because of the shift to using AgentSet, in the future this attribute will return a dict withtype as key as AgentSet as value. Future behavior is available via RandomActivationByType._agents_by_type\n",
      "  for sugar_agent in self.schedule.agents_by_type[Sugar].values():\n",
      "C:\\Users\\DELL\\AppData\\Local\\Temp\\ipykernel_484\\329254329.py:101: DeprecationWarning: Because of the shift to using AgentSet, in the future this attribute will return a dict withtype as key as AgentSet as value. Future behavior is available via RandomActivationByType._agents_by_type\n",
      "  non_corrupt_agents_shuffle = list(self.schedule.agents_by_type[Non_corrupt_agent].values())\n",
      "C:\\Users\\DELL\\AppData\\Local\\Temp\\ipykernel_484\\329254329.py:91: DeprecationWarning: Because of the shift to using AgentSet, in the future this attribute will return a dict withtype as key as AgentSet as value. Future behavior is available via RandomActivationByType._agents_by_type\n",
      "  agents = [agent for agent in self.schedule.agents_by_type[Non_corrupt_agent].values()]\n"
     ]
    },
    {
     "name": "stdout",
     "output_type": "stream",
     "text": [
      "Agent 2352 has eaten 4 sugar from sugar 2049\n",
      "Agent 2374 has eaten 4 sugar from sugar 1253\n",
      "Agent 2341 has eaten 4 sugar from sugar 2238\n",
      "Agent 2307 has eaten 4 sugar from sugar 1089\n",
      "Agent 2299 has eaten 4 sugar from sugar 514\n",
      "Agent 2324 has eaten 4 sugar from sugar 1174\n",
      "Agent 2367 has eaten 4 sugar from sugar 1080\n",
      "Agent 2380 has eaten 4 sugar from sugar 251\n",
      "Agent 2332 has eaten 4.0 sugar from sugar 44\n",
      "Agent 2297 has eaten 4 sugar from sugar 277\n",
      "Agent 2356 has eaten 4.0 sugar from sugar 60\n",
      "Agent 2316 has eaten 4 sugar from sugar 302\n",
      "Agent 2345 has eaten 4 sugar from sugar 94\n",
      "Agent 2354 has eaten 4 sugar from sugar 2095\n",
      "Agent 2321 has eaten 4.0 sugar from sugar 1584\n",
      "Agent 2386 has eaten 4 sugar from sugar 427\n",
      "Agent 2369 has eaten 4 sugar from sugar 2167\n",
      "Agent 2334 has eaten 4 sugar from sugar 1688\n",
      "Agent 2339 has eaten 4 sugar from sugar 442\n",
      "Agent 2318 has eaten 3.0 sugar from sugar 167\n",
      "Agent 2308 has eaten 4 sugar from sugar 916\n",
      "Agent 2319 has eaten 4 sugar from sugar 700\n",
      "Agent 2350 has eaten 4 sugar from sugar 670\n",
      "Agent 2303 has eaten 4 sugar from sugar 462\n",
      "Agent 2325 has eaten 4.0 sugar from sugar 161\n",
      "Agent 2373 has eaten 4 sugar from sugar 1843\n",
      "Agent 2322 has eaten 4 sugar from sugar 584\n",
      "Agent 2383 has eaten 4 sugar from sugar 1315\n",
      "Agent 2336 has eaten 4 sugar from sugar 1910\n",
      "Agent 2370 has eaten 4 sugar from sugar 84\n",
      "Agent 2359 has eaten 4 sugar from sugar 1261\n",
      "74\n"
     ]
    },
    {
     "name": "stderr",
     "output_type": "stream",
     "text": [
      "C:\\Users\\DELL\\AppData\\Local\\Temp\\ipykernel_484\\329254329.py:109: DeprecationWarning: Because of the shift to using AgentSet, in the future this attribute will return a dict withtype as key as AgentSet as value. Future behavior is available via RandomActivationByType._agents_by_type\n",
      "  for sugar_agent in self.schedule.agents_by_type[Sugar].values():\n",
      "C:\\Users\\DELL\\AppData\\Local\\Temp\\ipykernel_484\\329254329.py:101: DeprecationWarning: Because of the shift to using AgentSet, in the future this attribute will return a dict withtype as key as AgentSet as value. Future behavior is available via RandomActivationByType._agents_by_type\n",
      "  non_corrupt_agents_shuffle = list(self.schedule.agents_by_type[Non_corrupt_agent].values())\n",
      "C:\\Users\\DELL\\AppData\\Local\\Temp\\ipykernel_484\\329254329.py:91: DeprecationWarning: Because of the shift to using AgentSet, in the future this attribute will return a dict withtype as key as AgentSet as value. Future behavior is available via RandomActivationByType._agents_by_type\n",
      "  agents = [agent for agent in self.schedule.agents_by_type[Non_corrupt_agent].values()]\n"
     ]
    },
    {
     "name": "stdout",
     "output_type": "stream",
     "text": [
      "76\n"
     ]
    },
    {
     "name": "stderr",
     "output_type": "stream",
     "text": [
      "C:\\Users\\DELL\\AppData\\Local\\Temp\\ipykernel_484\\329254329.py:109: DeprecationWarning: Because of the shift to using AgentSet, in the future this attribute will return a dict withtype as key as AgentSet as value. Future behavior is available via RandomActivationByType._agents_by_type\n",
      "  for sugar_agent in self.schedule.agents_by_type[Sugar].values():\n",
      "C:\\Users\\DELL\\AppData\\Local\\Temp\\ipykernel_484\\329254329.py:101: DeprecationWarning: Because of the shift to using AgentSet, in the future this attribute will return a dict withtype as key as AgentSet as value. Future behavior is available via RandomActivationByType._agents_by_type\n",
      "  non_corrupt_agents_shuffle = list(self.schedule.agents_by_type[Non_corrupt_agent].values())\n",
      "C:\\Users\\DELL\\AppData\\Local\\Temp\\ipykernel_484\\329254329.py:91: DeprecationWarning: Because of the shift to using AgentSet, in the future this attribute will return a dict withtype as key as AgentSet as value. Future behavior is available via RandomActivationByType._agents_by_type\n",
      "  agents = [agent for agent in self.schedule.agents_by_type[Non_corrupt_agent].values()]\n"
     ]
    },
    {
     "name": "stdout",
     "output_type": "stream",
     "text": [
      "Agent 2367 has eaten 4 sugar from sugar 1080\n",
      "Agent 2341 has eaten 4 sugar from sugar 2238\n",
      "Agent 2319 has eaten 4 sugar from sugar 700\n",
      "Agent 2359 has eaten 4 sugar from sugar 1261\n",
      "Agent 2308 has eaten 4 sugar from sugar 916\n",
      "Agent 2325 has eaten 4.0 sugar from sugar 161\n",
      "Agent 2339 has eaten 4 sugar from sugar 442\n",
      "Agent 2373 has eaten 4 sugar from sugar 1843\n",
      "Agent 2307 has eaten 4 sugar from sugar 1089\n",
      "Agent 2316 has eaten 4 sugar from sugar 302\n",
      "Agent 2383 has eaten 4 sugar from sugar 1315\n",
      "Agent 2324 has eaten 4 sugar from sugar 1174\n",
      "Agent 2386 has eaten 4 sugar from sugar 427\n",
      "Agent 2334 has eaten 4 sugar from sugar 1688\n",
      "Agent 2299 has eaten 4 sugar from sugar 514\n",
      "Agent 2321 has eaten 4.0 sugar from sugar 1584\n",
      "Agent 2356 has eaten 4.0 sugar from sugar 60\n",
      "Agent 2369 has eaten 4 sugar from sugar 2167\n",
      "Agent 2350 has eaten 4 sugar from sugar 670\n",
      "Agent 2352 has eaten 4 sugar from sugar 2049\n",
      "Agent 2303 has eaten 4 sugar from sugar 462\n",
      "Agent 2318 has eaten 3.0 sugar from sugar 167\n",
      "Agent 2322 has eaten 4 sugar from sugar 584\n",
      "Agent 2336 has eaten 4 sugar from sugar 1910\n",
      "Agent 2345 has eaten 4 sugar from sugar 94\n",
      "Agent 2332 has eaten 4.0 sugar from sugar 44\n",
      "Agent 2354 has eaten 4 sugar from sugar 2095\n",
      "Agent 2374 has eaten 4 sugar from sugar 1253\n",
      "Agent 2370 has eaten 4 sugar from sugar 84\n",
      "Agent 2380 has eaten 4 sugar from sugar 251\n",
      "Agent 2297 has eaten 4 sugar from sugar 277\n",
      "78\n"
     ]
    },
    {
     "name": "stderr",
     "output_type": "stream",
     "text": [
      "C:\\Users\\DELL\\AppData\\Local\\Temp\\ipykernel_484\\329254329.py:109: DeprecationWarning: Because of the shift to using AgentSet, in the future this attribute will return a dict withtype as key as AgentSet as value. Future behavior is available via RandomActivationByType._agents_by_type\n",
      "  for sugar_agent in self.schedule.agents_by_type[Sugar].values():\n",
      "C:\\Users\\DELL\\AppData\\Local\\Temp\\ipykernel_484\\329254329.py:101: DeprecationWarning: Because of the shift to using AgentSet, in the future this attribute will return a dict withtype as key as AgentSet as value. Future behavior is available via RandomActivationByType._agents_by_type\n",
      "  non_corrupt_agents_shuffle = list(self.schedule.agents_by_type[Non_corrupt_agent].values())\n",
      "C:\\Users\\DELL\\AppData\\Local\\Temp\\ipykernel_484\\329254329.py:91: DeprecationWarning: Because of the shift to using AgentSet, in the future this attribute will return a dict withtype as key as AgentSet as value. Future behavior is available via RandomActivationByType._agents_by_type\n",
      "  agents = [agent for agent in self.schedule.agents_by_type[Non_corrupt_agent].values()]\n"
     ]
    },
    {
     "name": "stdout",
     "output_type": "stream",
     "text": [
      "80\n"
     ]
    },
    {
     "name": "stderr",
     "output_type": "stream",
     "text": [
      "C:\\Users\\DELL\\AppData\\Local\\Temp\\ipykernel_484\\329254329.py:109: DeprecationWarning: Because of the shift to using AgentSet, in the future this attribute will return a dict withtype as key as AgentSet as value. Future behavior is available via RandomActivationByType._agents_by_type\n",
      "  for sugar_agent in self.schedule.agents_by_type[Sugar].values():\n",
      "C:\\Users\\DELL\\AppData\\Local\\Temp\\ipykernel_484\\329254329.py:101: DeprecationWarning: Because of the shift to using AgentSet, in the future this attribute will return a dict withtype as key as AgentSet as value. Future behavior is available via RandomActivationByType._agents_by_type\n",
      "  non_corrupt_agents_shuffle = list(self.schedule.agents_by_type[Non_corrupt_agent].values())\n",
      "C:\\Users\\DELL\\AppData\\Local\\Temp\\ipykernel_484\\329254329.py:91: DeprecationWarning: Because of the shift to using AgentSet, in the future this attribute will return a dict withtype as key as AgentSet as value. Future behavior is available via RandomActivationByType._agents_by_type\n",
      "  agents = [agent for agent in self.schedule.agents_by_type[Non_corrupt_agent].values()]\n"
     ]
    },
    {
     "name": "stdout",
     "output_type": "stream",
     "text": [
      "Agent 2322 has eaten 4 sugar from sugar 584\n",
      "Agent 2352 has eaten 4 sugar from sugar 2049\n",
      "Agent 2367 has eaten 4 sugar from sugar 1080\n",
      "Agent 2374 has eaten 4 sugar from sugar 1253\n",
      "Agent 2299 has eaten 4 sugar from sugar 514\n",
      "Agent 2308 has eaten 4 sugar from sugar 916\n",
      "Agent 2332 has eaten 4.0 sugar from sugar 44\n",
      "Agent 2336 has eaten 4 sugar from sugar 1910\n",
      "Agent 2354 has eaten 4 sugar from sugar 2095\n",
      "Agent 2319 has eaten 4 sugar from sugar 700\n",
      "Agent 2359 has eaten 4 sugar from sugar 1261\n",
      "Agent 2386 has eaten 4 sugar from sugar 427\n",
      "Agent 2321 has eaten 4.0 sugar from sugar 1584\n",
      "Agent 2325 has eaten 4.0 sugar from sugar 161\n",
      "Agent 2373 has eaten 4 sugar from sugar 1843\n",
      "Agent 2324 has eaten 4 sugar from sugar 1174\n",
      "Agent 2345 has eaten 4 sugar from sugar 94\n",
      "Agent 2307 has eaten 4 sugar from sugar 1089\n",
      "Agent 2316 has eaten 4 sugar from sugar 302\n",
      "Agent 2370 has eaten 4 sugar from sugar 84\n",
      "Agent 2350 has eaten 4 sugar from sugar 670\n",
      "Agent 2334 has eaten 4 sugar from sugar 1688\n",
      "Agent 2383 has eaten 4 sugar from sugar 1315\n",
      "Agent 2369 has eaten 4 sugar from sugar 2167\n",
      "Agent 2356 has eaten 4.0 sugar from sugar 60\n",
      "Agent 2318 has eaten 3.0 sugar from sugar 167\n",
      "Agent 2339 has eaten 4 sugar from sugar 442\n",
      "Agent 2341 has eaten 4 sugar from sugar 2238\n",
      "Agent 2297 has eaten 4 sugar from sugar 277\n",
      "Agent 2380 has eaten 4 sugar from sugar 251\n",
      "Agent 2303 has eaten 4 sugar from sugar 462\n",
      "82\n"
     ]
    },
    {
     "name": "stderr",
     "output_type": "stream",
     "text": [
      "C:\\Users\\DELL\\AppData\\Local\\Temp\\ipykernel_484\\329254329.py:109: DeprecationWarning: Because of the shift to using AgentSet, in the future this attribute will return a dict withtype as key as AgentSet as value. Future behavior is available via RandomActivationByType._agents_by_type\n",
      "  for sugar_agent in self.schedule.agents_by_type[Sugar].values():\n",
      "C:\\Users\\DELL\\AppData\\Local\\Temp\\ipykernel_484\\329254329.py:101: DeprecationWarning: Because of the shift to using AgentSet, in the future this attribute will return a dict withtype as key as AgentSet as value. Future behavior is available via RandomActivationByType._agents_by_type\n",
      "  non_corrupt_agents_shuffle = list(self.schedule.agents_by_type[Non_corrupt_agent].values())\n",
      "C:\\Users\\DELL\\AppData\\Local\\Temp\\ipykernel_484\\329254329.py:91: DeprecationWarning: Because of the shift to using AgentSet, in the future this attribute will return a dict withtype as key as AgentSet as value. Future behavior is available via RandomActivationByType._agents_by_type\n",
      "  agents = [agent for agent in self.schedule.agents_by_type[Non_corrupt_agent].values()]\n"
     ]
    },
    {
     "name": "stdout",
     "output_type": "stream",
     "text": [
      "84\n"
     ]
    },
    {
     "name": "stderr",
     "output_type": "stream",
     "text": [
      "C:\\Users\\DELL\\AppData\\Local\\Temp\\ipykernel_484\\329254329.py:109: DeprecationWarning: Because of the shift to using AgentSet, in the future this attribute will return a dict withtype as key as AgentSet as value. Future behavior is available via RandomActivationByType._agents_by_type\n",
      "  for sugar_agent in self.schedule.agents_by_type[Sugar].values():\n",
      "C:\\Users\\DELL\\AppData\\Local\\Temp\\ipykernel_484\\329254329.py:101: DeprecationWarning: Because of the shift to using AgentSet, in the future this attribute will return a dict withtype as key as AgentSet as value. Future behavior is available via RandomActivationByType._agents_by_type\n",
      "  non_corrupt_agents_shuffle = list(self.schedule.agents_by_type[Non_corrupt_agent].values())\n",
      "C:\\Users\\DELL\\AppData\\Local\\Temp\\ipykernel_484\\329254329.py:91: DeprecationWarning: Because of the shift to using AgentSet, in the future this attribute will return a dict withtype as key as AgentSet as value. Future behavior is available via RandomActivationByType._agents_by_type\n",
      "  agents = [agent for agent in self.schedule.agents_by_type[Non_corrupt_agent].values()]\n"
     ]
    },
    {
     "name": "stdout",
     "output_type": "stream",
     "text": [
      "Agent 2332 has eaten 4.0 sugar from sugar 44\n",
      "Agent 2383 has eaten 4 sugar from sugar 1315\n",
      "Agent 2325 has eaten 4.0 sugar from sugar 161\n",
      "Agent 2359 has eaten 4 sugar from sugar 1261\n",
      "Agent 2352 has eaten 4 sugar from sugar 2049\n",
      "Agent 2316 has eaten 4 sugar from sugar 302\n",
      "Agent 2321 has eaten 4.0 sugar from sugar 1584\n",
      "Agent 2308 has eaten 4 sugar from sugar 916\n",
      "Agent 2354 has eaten 4 sugar from sugar 2095\n",
      "Agent 2322 has eaten 4 sugar from sugar 584\n",
      "Agent 2373 has eaten 4 sugar from sugar 1843\n",
      "Agent 2318 has eaten 3.0 sugar from sugar 167\n",
      "Agent 2380 has eaten 4 sugar from sugar 251\n",
      "Agent 2341 has eaten 4 sugar from sugar 2238\n",
      "Agent 2299 has eaten 4 sugar from sugar 514\n",
      "Agent 2345 has eaten 4 sugar from sugar 94\n",
      "Agent 2303 has eaten 4 sugar from sugar 462\n",
      "Agent 2367 has eaten 4 sugar from sugar 1080\n",
      "Agent 2307 has eaten 4 sugar from sugar 1089\n",
      "Agent 2334 has eaten 4 sugar from sugar 1688\n",
      "Agent 2319 has eaten 4 sugar from sugar 700\n",
      "Agent 2386 has eaten 4 sugar from sugar 427\n",
      "Agent 2297 has eaten 4 sugar from sugar 277\n",
      "Agent 2374 has eaten 4 sugar from sugar 1253\n",
      "Agent 2350 has eaten 4 sugar from sugar 670\n",
      "Agent 2370 has eaten 4 sugar from sugar 84\n",
      "Agent 2336 has eaten 4 sugar from sugar 1910\n",
      "Agent 2339 has eaten 4 sugar from sugar 442\n",
      "Agent 2356 has eaten 4.0 sugar from sugar 60\n",
      "Agent 2369 has eaten 4 sugar from sugar 2167\n",
      "Agent 2324 has eaten 4 sugar from sugar 1174\n",
      "86\n"
     ]
    },
    {
     "name": "stderr",
     "output_type": "stream",
     "text": [
      "C:\\Users\\DELL\\AppData\\Local\\Temp\\ipykernel_484\\329254329.py:109: DeprecationWarning: Because of the shift to using AgentSet, in the future this attribute will return a dict withtype as key as AgentSet as value. Future behavior is available via RandomActivationByType._agents_by_type\n",
      "  for sugar_agent in self.schedule.agents_by_type[Sugar].values():\n",
      "C:\\Users\\DELL\\AppData\\Local\\Temp\\ipykernel_484\\329254329.py:101: DeprecationWarning: Because of the shift to using AgentSet, in the future this attribute will return a dict withtype as key as AgentSet as value. Future behavior is available via RandomActivationByType._agents_by_type\n",
      "  non_corrupt_agents_shuffle = list(self.schedule.agents_by_type[Non_corrupt_agent].values())\n",
      "C:\\Users\\DELL\\AppData\\Local\\Temp\\ipykernel_484\\329254329.py:91: DeprecationWarning: Because of the shift to using AgentSet, in the future this attribute will return a dict withtype as key as AgentSet as value. Future behavior is available via RandomActivationByType._agents_by_type\n",
      "  agents = [agent for agent in self.schedule.agents_by_type[Non_corrupt_agent].values()]\n"
     ]
    },
    {
     "name": "stdout",
     "output_type": "stream",
     "text": [
      "88\n"
     ]
    },
    {
     "name": "stderr",
     "output_type": "stream",
     "text": [
      "C:\\Users\\DELL\\AppData\\Local\\Temp\\ipykernel_484\\329254329.py:109: DeprecationWarning: Because of the shift to using AgentSet, in the future this attribute will return a dict withtype as key as AgentSet as value. Future behavior is available via RandomActivationByType._agents_by_type\n",
      "  for sugar_agent in self.schedule.agents_by_type[Sugar].values():\n",
      "C:\\Users\\DELL\\AppData\\Local\\Temp\\ipykernel_484\\329254329.py:101: DeprecationWarning: Because of the shift to using AgentSet, in the future this attribute will return a dict withtype as key as AgentSet as value. Future behavior is available via RandomActivationByType._agents_by_type\n",
      "  non_corrupt_agents_shuffle = list(self.schedule.agents_by_type[Non_corrupt_agent].values())\n",
      "C:\\Users\\DELL\\AppData\\Local\\Temp\\ipykernel_484\\329254329.py:91: DeprecationWarning: Because of the shift to using AgentSet, in the future this attribute will return a dict withtype as key as AgentSet as value. Future behavior is available via RandomActivationByType._agents_by_type\n",
      "  agents = [agent for agent in self.schedule.agents_by_type[Non_corrupt_agent].values()]\n"
     ]
    },
    {
     "name": "stdout",
     "output_type": "stream",
     "text": [
      "Agent 2339 has eaten 4 sugar from sugar 442\n",
      "Agent 2386 has eaten 4 sugar from sugar 427\n",
      "Agent 2345 has eaten 4 sugar from sugar 94\n",
      "Agent 2336 has eaten 4 sugar from sugar 1910\n",
      "Agent 2322 has eaten 4 sugar from sugar 584\n",
      "Agent 2352 has eaten 4 sugar from sugar 2049\n",
      "Agent 2334 has eaten 4 sugar from sugar 1688\n",
      "Agent 2325 has eaten 4.0 sugar from sugar 161\n",
      "Agent 2374 has eaten 4 sugar from sugar 1253\n",
      "Agent 2307 has eaten 4 sugar from sugar 1089\n",
      "Agent 2319 has eaten 4 sugar from sugar 700\n",
      "Agent 2299 has eaten 4 sugar from sugar 514\n",
      "Agent 2373 has eaten 4 sugar from sugar 1843\n",
      "Agent 2359 has eaten 4 sugar from sugar 1261\n",
      "Agent 2367 has eaten 4 sugar from sugar 1080\n",
      "Agent 2332 has eaten 4.0 sugar from sugar 44\n",
      "Agent 2318 has eaten 3.0 sugar from sugar 167\n",
      "Agent 2321 has eaten 4.0 sugar from sugar 1584\n",
      "Agent 2350 has eaten 4 sugar from sugar 670\n",
      "Agent 2370 has eaten 4 sugar from sugar 84\n",
      "Agent 2383 has eaten 4 sugar from sugar 1315\n",
      "Agent 2324 has eaten 4 sugar from sugar 1174\n",
      "Agent 2303 has eaten 4 sugar from sugar 462\n",
      "Agent 2356 has eaten 4.0 sugar from sugar 60\n",
      "Agent 2341 has eaten 4 sugar from sugar 2238\n",
      "Agent 2297 has eaten 4 sugar from sugar 277\n",
      "Agent 2308 has eaten 4 sugar from sugar 916\n",
      "Agent 2380 has eaten 4 sugar from sugar 251\n",
      "Agent 2316 has eaten 4 sugar from sugar 302\n",
      "Agent 2354 has eaten 4 sugar from sugar 2095\n",
      "Agent 2369 has eaten 4 sugar from sugar 2167\n",
      "90\n"
     ]
    },
    {
     "name": "stderr",
     "output_type": "stream",
     "text": [
      "C:\\Users\\DELL\\AppData\\Local\\Temp\\ipykernel_484\\329254329.py:109: DeprecationWarning: Because of the shift to using AgentSet, in the future this attribute will return a dict withtype as key as AgentSet as value. Future behavior is available via RandomActivationByType._agents_by_type\n",
      "  for sugar_agent in self.schedule.agents_by_type[Sugar].values():\n",
      "C:\\Users\\DELL\\AppData\\Local\\Temp\\ipykernel_484\\329254329.py:101: DeprecationWarning: Because of the shift to using AgentSet, in the future this attribute will return a dict withtype as key as AgentSet as value. Future behavior is available via RandomActivationByType._agents_by_type\n",
      "  non_corrupt_agents_shuffle = list(self.schedule.agents_by_type[Non_corrupt_agent].values())\n",
      "C:\\Users\\DELL\\AppData\\Local\\Temp\\ipykernel_484\\329254329.py:91: DeprecationWarning: Because of the shift to using AgentSet, in the future this attribute will return a dict withtype as key as AgentSet as value. Future behavior is available via RandomActivationByType._agents_by_type\n",
      "  agents = [agent for agent in self.schedule.agents_by_type[Non_corrupt_agent].values()]\n"
     ]
    },
    {
     "name": "stdout",
     "output_type": "stream",
     "text": [
      "92\n"
     ]
    },
    {
     "name": "stderr",
     "output_type": "stream",
     "text": [
      "C:\\Users\\DELL\\AppData\\Local\\Temp\\ipykernel_484\\329254329.py:109: DeprecationWarning: Because of the shift to using AgentSet, in the future this attribute will return a dict withtype as key as AgentSet as value. Future behavior is available via RandomActivationByType._agents_by_type\n",
      "  for sugar_agent in self.schedule.agents_by_type[Sugar].values():\n",
      "C:\\Users\\DELL\\AppData\\Local\\Temp\\ipykernel_484\\329254329.py:101: DeprecationWarning: Because of the shift to using AgentSet, in the future this attribute will return a dict withtype as key as AgentSet as value. Future behavior is available via RandomActivationByType._agents_by_type\n",
      "  non_corrupt_agents_shuffle = list(self.schedule.agents_by_type[Non_corrupt_agent].values())\n",
      "C:\\Users\\DELL\\AppData\\Local\\Temp\\ipykernel_484\\329254329.py:91: DeprecationWarning: Because of the shift to using AgentSet, in the future this attribute will return a dict withtype as key as AgentSet as value. Future behavior is available via RandomActivationByType._agents_by_type\n",
      "  agents = [agent for agent in self.schedule.agents_by_type[Non_corrupt_agent].values()]\n"
     ]
    },
    {
     "name": "stdout",
     "output_type": "stream",
     "text": [
      "Agent 2339 has eaten 4 sugar from sugar 442\n",
      "Agent 2336 has eaten 4 sugar from sugar 1910\n",
      "Agent 2345 has eaten 4 sugar from sugar 94\n",
      "Agent 2370 has eaten 4 sugar from sugar 84\n",
      "Agent 2356 has eaten 4.0 sugar from sugar 60\n",
      "Agent 2359 has eaten 4 sugar from sugar 1261\n",
      "Agent 2380 has eaten 4 sugar from sugar 251\n",
      "Agent 2334 has eaten 4 sugar from sugar 1688\n",
      "Agent 2316 has eaten 4 sugar from sugar 302\n",
      "Agent 2350 has eaten 4 sugar from sugar 670\n",
      "Agent 2386 has eaten 4 sugar from sugar 427\n",
      "Agent 2319 has eaten 4 sugar from sugar 700\n",
      "Agent 2325 has eaten 4.0 sugar from sugar 161\n",
      "Agent 2374 has eaten 4 sugar from sugar 1253\n",
      "Agent 2354 has eaten 4 sugar from sugar 2095\n",
      "Agent 2352 has eaten 4 sugar from sugar 2049\n",
      "Agent 2297 has eaten 4 sugar from sugar 277\n",
      "Agent 2383 has eaten 4 sugar from sugar 1315\n",
      "Agent 2367 has eaten 4 sugar from sugar 1080\n",
      "Agent 2308 has eaten 4 sugar from sugar 916\n",
      "Agent 2373 has eaten 4 sugar from sugar 1843\n",
      "Agent 2322 has eaten 4 sugar from sugar 584\n",
      "Agent 2318 has eaten 3.0 sugar from sugar 167\n",
      "Agent 2324 has eaten 4 sugar from sugar 1174\n",
      "Agent 2341 has eaten 4 sugar from sugar 2238\n",
      "Agent 2303 has eaten 4 sugar from sugar 462\n",
      "Agent 2307 has eaten 4 sugar from sugar 1089\n",
      "Agent 2321 has eaten 4.0 sugar from sugar 1584\n",
      "Agent 2332 has eaten 4.0 sugar from sugar 44\n",
      "Agent 2369 has eaten 4 sugar from sugar 2167\n",
      "Agent 2299 has eaten 4 sugar from sugar 514\n",
      "94\n"
     ]
    },
    {
     "name": "stderr",
     "output_type": "stream",
     "text": [
      "C:\\Users\\DELL\\AppData\\Local\\Temp\\ipykernel_484\\329254329.py:109: DeprecationWarning: Because of the shift to using AgentSet, in the future this attribute will return a dict withtype as key as AgentSet as value. Future behavior is available via RandomActivationByType._agents_by_type\n",
      "  for sugar_agent in self.schedule.agents_by_type[Sugar].values():\n",
      "C:\\Users\\DELL\\AppData\\Local\\Temp\\ipykernel_484\\329254329.py:101: DeprecationWarning: Because of the shift to using AgentSet, in the future this attribute will return a dict withtype as key as AgentSet as value. Future behavior is available via RandomActivationByType._agents_by_type\n",
      "  non_corrupt_agents_shuffle = list(self.schedule.agents_by_type[Non_corrupt_agent].values())\n",
      "C:\\Users\\DELL\\AppData\\Local\\Temp\\ipykernel_484\\329254329.py:91: DeprecationWarning: Because of the shift to using AgentSet, in the future this attribute will return a dict withtype as key as AgentSet as value. Future behavior is available via RandomActivationByType._agents_by_type\n",
      "  agents = [agent for agent in self.schedule.agents_by_type[Non_corrupt_agent].values()]\n"
     ]
    },
    {
     "name": "stdout",
     "output_type": "stream",
     "text": [
      "96\n"
     ]
    },
    {
     "name": "stderr",
     "output_type": "stream",
     "text": [
      "C:\\Users\\DELL\\AppData\\Local\\Temp\\ipykernel_484\\329254329.py:109: DeprecationWarning: Because of the shift to using AgentSet, in the future this attribute will return a dict withtype as key as AgentSet as value. Future behavior is available via RandomActivationByType._agents_by_type\n",
      "  for sugar_agent in self.schedule.agents_by_type[Sugar].values():\n",
      "C:\\Users\\DELL\\AppData\\Local\\Temp\\ipykernel_484\\329254329.py:101: DeprecationWarning: Because of the shift to using AgentSet, in the future this attribute will return a dict withtype as key as AgentSet as value. Future behavior is available via RandomActivationByType._agents_by_type\n",
      "  non_corrupt_agents_shuffle = list(self.schedule.agents_by_type[Non_corrupt_agent].values())\n",
      "C:\\Users\\DELL\\AppData\\Local\\Temp\\ipykernel_484\\329254329.py:91: DeprecationWarning: Because of the shift to using AgentSet, in the future this attribute will return a dict withtype as key as AgentSet as value. Future behavior is available via RandomActivationByType._agents_by_type\n",
      "  agents = [agent for agent in self.schedule.agents_by_type[Non_corrupt_agent].values()]\n"
     ]
    },
    {
     "name": "stdout",
     "output_type": "stream",
     "text": [
      "Agent 2325 has eaten 4.0 sugar from sugar 161\n",
      "Agent 2308 has eaten 4 sugar from sugar 916\n",
      "Agent 2307 has eaten 4 sugar from sugar 1089\n",
      "Agent 2316 has eaten 4 sugar from sugar 302\n",
      "Agent 2352 has eaten 4 sugar from sugar 2049\n",
      "Agent 2380 has eaten 4 sugar from sugar 251\n",
      "Agent 2386 has eaten 4 sugar from sugar 427\n",
      "Agent 2299 has eaten 4 sugar from sugar 514\n",
      "Agent 2303 has eaten 4 sugar from sugar 462\n",
      "Agent 2339 has eaten 4 sugar from sugar 442\n",
      "Agent 2324 has eaten 4 sugar from sugar 1174\n",
      "Agent 2367 has eaten 4 sugar from sugar 1080\n",
      "Agent 2332 has eaten 4.0 sugar from sugar 44\n",
      "Agent 2369 has eaten 4 sugar from sugar 2167\n",
      "Agent 2341 has eaten 4 sugar from sugar 2238\n",
      "Agent 2374 has eaten 4 sugar from sugar 1253\n",
      "Agent 2318 has eaten 3.0 sugar from sugar 167\n",
      "Agent 2345 has eaten 4 sugar from sugar 94\n",
      "Agent 2336 has eaten 4 sugar from sugar 1910\n",
      "Agent 2354 has eaten 4 sugar from sugar 2095\n",
      "Agent 2373 has eaten 4 sugar from sugar 1843\n",
      "Agent 2322 has eaten 4 sugar from sugar 584\n",
      "Agent 2383 has eaten 4 sugar from sugar 1315\n",
      "Agent 2321 has eaten 4.0 sugar from sugar 1584\n",
      "Agent 2334 has eaten 4 sugar from sugar 1688\n",
      "Agent 2356 has eaten 4.0 sugar from sugar 60\n",
      "Agent 2297 has eaten 4 sugar from sugar 277\n",
      "Agent 2350 has eaten 4 sugar from sugar 670\n",
      "Agent 2319 has eaten 4 sugar from sugar 700\n",
      "Agent 2359 has eaten 4 sugar from sugar 1261\n",
      "Agent 2370 has eaten 4 sugar from sugar 84\n",
      "98\n"
     ]
    },
    {
     "name": "stderr",
     "output_type": "stream",
     "text": [
      "C:\\Users\\DELL\\AppData\\Local\\Temp\\ipykernel_484\\329254329.py:109: DeprecationWarning: Because of the shift to using AgentSet, in the future this attribute will return a dict withtype as key as AgentSet as value. Future behavior is available via RandomActivationByType._agents_by_type\n",
      "  for sugar_agent in self.schedule.agents_by_type[Sugar].values():\n",
      "C:\\Users\\DELL\\AppData\\Local\\Temp\\ipykernel_484\\329254329.py:101: DeprecationWarning: Because of the shift to using AgentSet, in the future this attribute will return a dict withtype as key as AgentSet as value. Future behavior is available via RandomActivationByType._agents_by_type\n",
      "  non_corrupt_agents_shuffle = list(self.schedule.agents_by_type[Non_corrupt_agent].values())\n",
      "C:\\Users\\DELL\\AppData\\Local\\Temp\\ipykernel_484\\329254329.py:91: DeprecationWarning: Because of the shift to using AgentSet, in the future this attribute will return a dict withtype as key as AgentSet as value. Future behavior is available via RandomActivationByType._agents_by_type\n",
      "  agents = [agent for agent in self.schedule.agents_by_type[Non_corrupt_agent].values()]\n"
     ]
    },
    {
     "name": "stdout",
     "output_type": "stream",
     "text": [
      "100\n"
     ]
    },
    {
     "name": "stderr",
     "output_type": "stream",
     "text": [
      "C:\\Users\\DELL\\AppData\\Local\\Temp\\ipykernel_484\\329254329.py:109: DeprecationWarning: Because of the shift to using AgentSet, in the future this attribute will return a dict withtype as key as AgentSet as value. Future behavior is available via RandomActivationByType._agents_by_type\n",
      "  for sugar_agent in self.schedule.agents_by_type[Sugar].values():\n",
      "C:\\Users\\DELL\\AppData\\Local\\Temp\\ipykernel_484\\329254329.py:101: DeprecationWarning: Because of the shift to using AgentSet, in the future this attribute will return a dict withtype as key as AgentSet as value. Future behavior is available via RandomActivationByType._agents_by_type\n",
      "  non_corrupt_agents_shuffle = list(self.schedule.agents_by_type[Non_corrupt_agent].values())\n",
      "C:\\Users\\DELL\\AppData\\Local\\Temp\\ipykernel_484\\329254329.py:91: DeprecationWarning: Because of the shift to using AgentSet, in the future this attribute will return a dict withtype as key as AgentSet as value. Future behavior is available via RandomActivationByType._agents_by_type\n",
      "  agents = [agent for agent in self.schedule.agents_by_type[Non_corrupt_agent].values()]\n"
     ]
    },
    {
     "name": "stdout",
     "output_type": "stream",
     "text": [
      "Agent 2325 has eaten 4.0 sugar from sugar 161\n",
      "Agent 2297 has eaten 4 sugar from sugar 277\n",
      "Agent 2359 has eaten 4 sugar from sugar 1261\n",
      "Agent 2354 has eaten 4 sugar from sugar 2095\n",
      "Agent 2383 has eaten 4 sugar from sugar 1315\n",
      "Agent 2386 has eaten 4 sugar from sugar 427\n",
      "Agent 2369 has eaten 4 sugar from sugar 2167\n",
      "Agent 2303 has eaten 4 sugar from sugar 462\n",
      "Agent 2308 has eaten 4 sugar from sugar 916\n",
      "Agent 2352 has eaten 4 sugar from sugar 2049\n",
      "Agent 2356 has eaten 4.0 sugar from sugar 60\n",
      "Agent 2322 has eaten 4 sugar from sugar 584\n",
      "Agent 2321 has eaten 4.0 sugar from sugar 1584\n",
      "Agent 2374 has eaten 4 sugar from sugar 1253\n",
      "Agent 2334 has eaten 4 sugar from sugar 1688\n",
      "Agent 2332 has eaten 4.0 sugar from sugar 44\n",
      "Agent 2324 has eaten 4 sugar from sugar 1174\n",
      "Agent 2319 has eaten 4 sugar from sugar 700\n",
      "Agent 2307 has eaten 4 sugar from sugar 1089\n",
      "Agent 2345 has eaten 4 sugar from sugar 94\n",
      "Agent 2336 has eaten 4 sugar from sugar 1910\n",
      "Agent 2318 has eaten 3.0 sugar from sugar 167\n",
      "Agent 2367 has eaten 4 sugar from sugar 1080\n",
      "Agent 2373 has eaten 4 sugar from sugar 1843\n",
      "Agent 2380 has eaten 4 sugar from sugar 251\n",
      "Agent 2350 has eaten 4 sugar from sugar 670\n",
      "Agent 2339 has eaten 4 sugar from sugar 442\n",
      "Agent 2341 has eaten 4 sugar from sugar 2238\n",
      "Agent 2299 has eaten 4 sugar from sugar 514\n",
      "Agent 2316 has eaten 4 sugar from sugar 302\n",
      "Agent 2370 has eaten 4 sugar from sugar 84\n",
      "102\n"
     ]
    },
    {
     "name": "stderr",
     "output_type": "stream",
     "text": [
      "C:\\Users\\DELL\\AppData\\Local\\Temp\\ipykernel_484\\329254329.py:109: DeprecationWarning: Because of the shift to using AgentSet, in the future this attribute will return a dict withtype as key as AgentSet as value. Future behavior is available via RandomActivationByType._agents_by_type\n",
      "  for sugar_agent in self.schedule.agents_by_type[Sugar].values():\n",
      "C:\\Users\\DELL\\AppData\\Local\\Temp\\ipykernel_484\\329254329.py:101: DeprecationWarning: Because of the shift to using AgentSet, in the future this attribute will return a dict withtype as key as AgentSet as value. Future behavior is available via RandomActivationByType._agents_by_type\n",
      "  non_corrupt_agents_shuffle = list(self.schedule.agents_by_type[Non_corrupt_agent].values())\n",
      "C:\\Users\\DELL\\AppData\\Local\\Temp\\ipykernel_484\\329254329.py:91: DeprecationWarning: Because of the shift to using AgentSet, in the future this attribute will return a dict withtype as key as AgentSet as value. Future behavior is available via RandomActivationByType._agents_by_type\n",
      "  agents = [agent for agent in self.schedule.agents_by_type[Non_corrupt_agent].values()]\n"
     ]
    },
    {
     "name": "stdout",
     "output_type": "stream",
     "text": [
      "104\n"
     ]
    },
    {
     "name": "stderr",
     "output_type": "stream",
     "text": [
      "C:\\Users\\DELL\\AppData\\Local\\Temp\\ipykernel_484\\329254329.py:109: DeprecationWarning: Because of the shift to using AgentSet, in the future this attribute will return a dict withtype as key as AgentSet as value. Future behavior is available via RandomActivationByType._agents_by_type\n",
      "  for sugar_agent in self.schedule.agents_by_type[Sugar].values():\n",
      "C:\\Users\\DELL\\AppData\\Local\\Temp\\ipykernel_484\\329254329.py:101: DeprecationWarning: Because of the shift to using AgentSet, in the future this attribute will return a dict withtype as key as AgentSet as value. Future behavior is available via RandomActivationByType._agents_by_type\n",
      "  non_corrupt_agents_shuffle = list(self.schedule.agents_by_type[Non_corrupt_agent].values())\n",
      "C:\\Users\\DELL\\AppData\\Local\\Temp\\ipykernel_484\\329254329.py:91: DeprecationWarning: Because of the shift to using AgentSet, in the future this attribute will return a dict withtype as key as AgentSet as value. Future behavior is available via RandomActivationByType._agents_by_type\n",
      "  agents = [agent for agent in self.schedule.agents_by_type[Non_corrupt_agent].values()]\n"
     ]
    },
    {
     "name": "stdout",
     "output_type": "stream",
     "text": [
      "Agent 2386 has eaten 4 sugar from sugar 427\n",
      "Agent 2373 has eaten 4 sugar from sugar 1843\n",
      "Agent 2350 has eaten 4 sugar from sugar 670\n",
      "Agent 2380 has eaten 4 sugar from sugar 251\n",
      "Agent 2324 has eaten 4 sugar from sugar 1174\n",
      "Agent 2299 has eaten 4 sugar from sugar 514\n",
      "Agent 2322 has eaten 4 sugar from sugar 584\n",
      "Agent 2341 has eaten 4 sugar from sugar 2238\n",
      "Agent 2318 has eaten 3.0 sugar from sugar 167\n",
      "Agent 2383 has eaten 4 sugar from sugar 1315\n",
      "Agent 2297 has eaten 4 sugar from sugar 277\n",
      "Agent 2307 has eaten 4 sugar from sugar 1089\n",
      "Agent 2369 has eaten 4 sugar from sugar 2167\n",
      "Agent 2303 has eaten 4 sugar from sugar 462\n",
      "Agent 2325 has eaten 4.0 sugar from sugar 161\n",
      "Agent 2316 has eaten 4 sugar from sugar 302\n",
      "Agent 2367 has eaten 4 sugar from sugar 1080\n",
      "Agent 2308 has eaten 4 sugar from sugar 916\n",
      "Agent 2374 has eaten 4 sugar from sugar 1253\n",
      "Agent 2345 has eaten 4 sugar from sugar 94\n",
      "Agent 2334 has eaten 4 sugar from sugar 1688\n",
      "Agent 2336 has eaten 4 sugar from sugar 1910\n",
      "Agent 2370 has eaten 4 sugar from sugar 84\n",
      "Agent 2332 has eaten 4.0 sugar from sugar 44\n",
      "Agent 2321 has eaten 4.0 sugar from sugar 1584\n",
      "Agent 2359 has eaten 4 sugar from sugar 1261\n",
      "Agent 2356 has eaten 4.0 sugar from sugar 60\n",
      "Agent 2352 has eaten 4 sugar from sugar 2049\n",
      "Agent 2354 has eaten 4 sugar from sugar 2095\n",
      "Agent 2339 has eaten 4 sugar from sugar 442\n",
      "Agent 2319 has eaten 4 sugar from sugar 700\n",
      "106\n"
     ]
    },
    {
     "name": "stderr",
     "output_type": "stream",
     "text": [
      "C:\\Users\\DELL\\AppData\\Local\\Temp\\ipykernel_484\\329254329.py:109: DeprecationWarning: Because of the shift to using AgentSet, in the future this attribute will return a dict withtype as key as AgentSet as value. Future behavior is available via RandomActivationByType._agents_by_type\n",
      "  for sugar_agent in self.schedule.agents_by_type[Sugar].values():\n",
      "C:\\Users\\DELL\\AppData\\Local\\Temp\\ipykernel_484\\329254329.py:101: DeprecationWarning: Because of the shift to using AgentSet, in the future this attribute will return a dict withtype as key as AgentSet as value. Future behavior is available via RandomActivationByType._agents_by_type\n",
      "  non_corrupt_agents_shuffle = list(self.schedule.agents_by_type[Non_corrupt_agent].values())\n",
      "C:\\Users\\DELL\\AppData\\Local\\Temp\\ipykernel_484\\329254329.py:91: DeprecationWarning: Because of the shift to using AgentSet, in the future this attribute will return a dict withtype as key as AgentSet as value. Future behavior is available via RandomActivationByType._agents_by_type\n",
      "  agents = [agent for agent in self.schedule.agents_by_type[Non_corrupt_agent].values()]\n"
     ]
    },
    {
     "name": "stdout",
     "output_type": "stream",
     "text": [
      "108\n"
     ]
    },
    {
     "name": "stderr",
     "output_type": "stream",
     "text": [
      "C:\\Users\\DELL\\AppData\\Local\\Temp\\ipykernel_484\\329254329.py:109: DeprecationWarning: Because of the shift to using AgentSet, in the future this attribute will return a dict withtype as key as AgentSet as value. Future behavior is available via RandomActivationByType._agents_by_type\n",
      "  for sugar_agent in self.schedule.agents_by_type[Sugar].values():\n",
      "C:\\Users\\DELL\\AppData\\Local\\Temp\\ipykernel_484\\329254329.py:101: DeprecationWarning: Because of the shift to using AgentSet, in the future this attribute will return a dict withtype as key as AgentSet as value. Future behavior is available via RandomActivationByType._agents_by_type\n",
      "  non_corrupt_agents_shuffle = list(self.schedule.agents_by_type[Non_corrupt_agent].values())\n",
      "C:\\Users\\DELL\\AppData\\Local\\Temp\\ipykernel_484\\329254329.py:91: DeprecationWarning: Because of the shift to using AgentSet, in the future this attribute will return a dict withtype as key as AgentSet as value. Future behavior is available via RandomActivationByType._agents_by_type\n",
      "  agents = [agent for agent in self.schedule.agents_by_type[Non_corrupt_agent].values()]\n"
     ]
    },
    {
     "name": "stdout",
     "output_type": "stream",
     "text": [
      "Agent 2370 has eaten 4 sugar from sugar 84\n",
      "Agent 2374 has eaten 4 sugar from sugar 1253\n",
      "Agent 2359 has eaten 4 sugar from sugar 1261\n",
      "Agent 2339 has eaten 4 sugar from sugar 442\n",
      "Agent 2334 has eaten 4 sugar from sugar 1688\n",
      "Agent 2386 has eaten 4 sugar from sugar 427\n",
      "Agent 2307 has eaten 4 sugar from sugar 1089\n",
      "Agent 2369 has eaten 4 sugar from sugar 2167\n",
      "Agent 2319 has eaten 4 sugar from sugar 700\n",
      "Agent 2297 has eaten 4 sugar from sugar 277\n",
      "Agent 2373 has eaten 4 sugar from sugar 1843\n",
      "Agent 2299 has eaten 4 sugar from sugar 514\n",
      "Agent 2325 has eaten 4.0 sugar from sugar 161\n",
      "Agent 2308 has eaten 4 sugar from sugar 916\n",
      "Agent 2345 has eaten 4 sugar from sugar 94\n",
      "Agent 2316 has eaten 4 sugar from sugar 302\n",
      "Agent 2354 has eaten 4 sugar from sugar 2095\n",
      "Agent 2303 has eaten 4 sugar from sugar 462\n",
      "Agent 2367 has eaten 4 sugar from sugar 1080\n",
      "Agent 2336 has eaten 4 sugar from sugar 1910\n",
      "Agent 2356 has eaten 4.0 sugar from sugar 60\n",
      "Agent 2341 has eaten 4 sugar from sugar 2238\n",
      "Agent 2383 has eaten 4 sugar from sugar 1315\n",
      "Agent 2324 has eaten 4 sugar from sugar 1174\n",
      "Agent 2321 has eaten 4.0 sugar from sugar 1584\n",
      "Agent 2322 has eaten 4 sugar from sugar 584\n",
      "Agent 2380 has eaten 4 sugar from sugar 251\n",
      "Agent 2318 has eaten 3.0 sugar from sugar 167\n",
      "Agent 2350 has eaten 4 sugar from sugar 670\n",
      "Agent 2352 has eaten 4 sugar from sugar 2049\n",
      "Agent 2332 has eaten 4.0 sugar from sugar 44\n",
      "110\n"
     ]
    },
    {
     "name": "stderr",
     "output_type": "stream",
     "text": [
      "C:\\Users\\DELL\\AppData\\Local\\Temp\\ipykernel_484\\329254329.py:109: DeprecationWarning: Because of the shift to using AgentSet, in the future this attribute will return a dict withtype as key as AgentSet as value. Future behavior is available via RandomActivationByType._agents_by_type\n",
      "  for sugar_agent in self.schedule.agents_by_type[Sugar].values():\n",
      "C:\\Users\\DELL\\AppData\\Local\\Temp\\ipykernel_484\\329254329.py:101: DeprecationWarning: Because of the shift to using AgentSet, in the future this attribute will return a dict withtype as key as AgentSet as value. Future behavior is available via RandomActivationByType._agents_by_type\n",
      "  non_corrupt_agents_shuffle = list(self.schedule.agents_by_type[Non_corrupt_agent].values())\n",
      "C:\\Users\\DELL\\AppData\\Local\\Temp\\ipykernel_484\\329254329.py:91: DeprecationWarning: Because of the shift to using AgentSet, in the future this attribute will return a dict withtype as key as AgentSet as value. Future behavior is available via RandomActivationByType._agents_by_type\n",
      "  agents = [agent for agent in self.schedule.agents_by_type[Non_corrupt_agent].values()]\n"
     ]
    },
    {
     "name": "stdout",
     "output_type": "stream",
     "text": [
      "112\n"
     ]
    },
    {
     "name": "stderr",
     "output_type": "stream",
     "text": [
      "C:\\Users\\DELL\\AppData\\Local\\Temp\\ipykernel_484\\329254329.py:109: DeprecationWarning: Because of the shift to using AgentSet, in the future this attribute will return a dict withtype as key as AgentSet as value. Future behavior is available via RandomActivationByType._agents_by_type\n",
      "  for sugar_agent in self.schedule.agents_by_type[Sugar].values():\n",
      "C:\\Users\\DELL\\AppData\\Local\\Temp\\ipykernel_484\\329254329.py:101: DeprecationWarning: Because of the shift to using AgentSet, in the future this attribute will return a dict withtype as key as AgentSet as value. Future behavior is available via RandomActivationByType._agents_by_type\n",
      "  non_corrupt_agents_shuffle = list(self.schedule.agents_by_type[Non_corrupt_agent].values())\n",
      "C:\\Users\\DELL\\AppData\\Local\\Temp\\ipykernel_484\\329254329.py:91: DeprecationWarning: Because of the shift to using AgentSet, in the future this attribute will return a dict withtype as key as AgentSet as value. Future behavior is available via RandomActivationByType._agents_by_type\n",
      "  agents = [agent for agent in self.schedule.agents_by_type[Non_corrupt_agent].values()]\n"
     ]
    },
    {
     "name": "stdout",
     "output_type": "stream",
     "text": [
      "Agent 2324 has eaten 4 sugar from sugar 1174\n",
      "Agent 2308 has eaten 4 sugar from sugar 916\n",
      "Agent 2354 has eaten 4 sugar from sugar 2095\n",
      "Agent 2373 has eaten 4 sugar from sugar 1843\n",
      "Agent 2383 has eaten 4 sugar from sugar 1315\n",
      "Agent 2321 has eaten 4.0 sugar from sugar 1584\n",
      "Agent 2359 has eaten 4 sugar from sugar 1261\n",
      "Agent 2370 has eaten 4 sugar from sugar 84\n",
      "Agent 2369 has eaten 4 sugar from sugar 2167\n",
      "Agent 2339 has eaten 4 sugar from sugar 442\n",
      "Agent 2299 has eaten 4 sugar from sugar 514\n",
      "Agent 2345 has eaten 4 sugar from sugar 94\n",
      "Agent 2307 has eaten 4 sugar from sugar 1089\n",
      "Agent 2336 has eaten 4 sugar from sugar 1910\n",
      "Agent 2374 has eaten 4 sugar from sugar 1253\n",
      "Agent 2352 has eaten 4 sugar from sugar 2049\n",
      "Agent 2318 has eaten 3.0 sugar from sugar 167\n",
      "Agent 2319 has eaten 4 sugar from sugar 700\n",
      "Agent 2380 has eaten 4 sugar from sugar 251\n",
      "Agent 2322 has eaten 4 sugar from sugar 584\n",
      "Agent 2325 has eaten 4.0 sugar from sugar 161\n",
      "Agent 2386 has eaten 4 sugar from sugar 427\n",
      "Agent 2332 has eaten 4.0 sugar from sugar 44\n",
      "Agent 2341 has eaten 4 sugar from sugar 2238\n",
      "Agent 2350 has eaten 4 sugar from sugar 670\n",
      "Agent 2334 has eaten 4 sugar from sugar 1688\n",
      "Agent 2356 has eaten 4.0 sugar from sugar 60\n",
      "Agent 2367 has eaten 4 sugar from sugar 1080\n",
      "Agent 2316 has eaten 4 sugar from sugar 302\n",
      "Agent 2297 has eaten 4 sugar from sugar 277\n",
      "Agent 2303 has eaten 4 sugar from sugar 462\n",
      "114\n"
     ]
    },
    {
     "name": "stderr",
     "output_type": "stream",
     "text": [
      "C:\\Users\\DELL\\AppData\\Local\\Temp\\ipykernel_484\\329254329.py:109: DeprecationWarning: Because of the shift to using AgentSet, in the future this attribute will return a dict withtype as key as AgentSet as value. Future behavior is available via RandomActivationByType._agents_by_type\n",
      "  for sugar_agent in self.schedule.agents_by_type[Sugar].values():\n",
      "C:\\Users\\DELL\\AppData\\Local\\Temp\\ipykernel_484\\329254329.py:101: DeprecationWarning: Because of the shift to using AgentSet, in the future this attribute will return a dict withtype as key as AgentSet as value. Future behavior is available via RandomActivationByType._agents_by_type\n",
      "  non_corrupt_agents_shuffle = list(self.schedule.agents_by_type[Non_corrupt_agent].values())\n",
      "C:\\Users\\DELL\\AppData\\Local\\Temp\\ipykernel_484\\329254329.py:91: DeprecationWarning: Because of the shift to using AgentSet, in the future this attribute will return a dict withtype as key as AgentSet as value. Future behavior is available via RandomActivationByType._agents_by_type\n",
      "  agents = [agent for agent in self.schedule.agents_by_type[Non_corrupt_agent].values()]\n"
     ]
    },
    {
     "name": "stdout",
     "output_type": "stream",
     "text": [
      "116\n"
     ]
    },
    {
     "name": "stderr",
     "output_type": "stream",
     "text": [
      "C:\\Users\\DELL\\AppData\\Local\\Temp\\ipykernel_484\\329254329.py:109: DeprecationWarning: Because of the shift to using AgentSet, in the future this attribute will return a dict withtype as key as AgentSet as value. Future behavior is available via RandomActivationByType._agents_by_type\n",
      "  for sugar_agent in self.schedule.agents_by_type[Sugar].values():\n",
      "C:\\Users\\DELL\\AppData\\Local\\Temp\\ipykernel_484\\329254329.py:101: DeprecationWarning: Because of the shift to using AgentSet, in the future this attribute will return a dict withtype as key as AgentSet as value. Future behavior is available via RandomActivationByType._agents_by_type\n",
      "  non_corrupt_agents_shuffle = list(self.schedule.agents_by_type[Non_corrupt_agent].values())\n",
      "C:\\Users\\DELL\\AppData\\Local\\Temp\\ipykernel_484\\329254329.py:91: DeprecationWarning: Because of the shift to using AgentSet, in the future this attribute will return a dict withtype as key as AgentSet as value. Future behavior is available via RandomActivationByType._agents_by_type\n",
      "  agents = [agent for agent in self.schedule.agents_by_type[Non_corrupt_agent].values()]\n"
     ]
    },
    {
     "name": "stdout",
     "output_type": "stream",
     "text": [
      "Agent 2322 has eaten 4 sugar from sugar 584\n",
      "Agent 2367 has eaten 4 sugar from sugar 1080\n",
      "Agent 2324 has eaten 4 sugar from sugar 1174\n",
      "Agent 2339 has eaten 4 sugar from sugar 442\n",
      "Agent 2316 has eaten 4 sugar from sugar 302\n",
      "Agent 2334 has eaten 4 sugar from sugar 1688\n",
      "Agent 2383 has eaten 4 sugar from sugar 1315\n",
      "Agent 2345 has eaten 4 sugar from sugar 94\n",
      "Agent 2370 has eaten 4 sugar from sugar 84\n",
      "Agent 2359 has eaten 4 sugar from sugar 1261\n",
      "Agent 2386 has eaten 4 sugar from sugar 427\n",
      "Agent 2318 has eaten 3.0 sugar from sugar 167\n",
      "Agent 2369 has eaten 4 sugar from sugar 2167\n",
      "Agent 2380 has eaten 4 sugar from sugar 251\n",
      "Agent 2374 has eaten 4 sugar from sugar 1253\n",
      "Agent 2319 has eaten 4 sugar from sugar 700\n",
      "Agent 2299 has eaten 4 sugar from sugar 514\n",
      "Agent 2356 has eaten 4.0 sugar from sugar 60\n",
      "Agent 2373 has eaten 4 sugar from sugar 1843\n",
      "Agent 2336 has eaten 4 sugar from sugar 1910\n",
      "Agent 2352 has eaten 4 sugar from sugar 2049\n",
      "Agent 2308 has eaten 4 sugar from sugar 916\n",
      "Agent 2325 has eaten 4.0 sugar from sugar 161\n",
      "Agent 2332 has eaten 4.0 sugar from sugar 44\n",
      "Agent 2321 has eaten 4.0 sugar from sugar 1584\n",
      "Agent 2350 has eaten 4 sugar from sugar 670\n",
      "Agent 2297 has eaten 4 sugar from sugar 277\n",
      "Agent 2354 has eaten 4 sugar from sugar 2095\n",
      "Agent 2307 has eaten 4 sugar from sugar 1089\n",
      "Agent 2303 has eaten 4 sugar from sugar 462\n",
      "Agent 2341 has eaten 4 sugar from sugar 2238\n",
      "118\n"
     ]
    },
    {
     "name": "stderr",
     "output_type": "stream",
     "text": [
      "C:\\Users\\DELL\\AppData\\Local\\Temp\\ipykernel_484\\329254329.py:109: DeprecationWarning: Because of the shift to using AgentSet, in the future this attribute will return a dict withtype as key as AgentSet as value. Future behavior is available via RandomActivationByType._agents_by_type\n",
      "  for sugar_agent in self.schedule.agents_by_type[Sugar].values():\n",
      "C:\\Users\\DELL\\AppData\\Local\\Temp\\ipykernel_484\\329254329.py:101: DeprecationWarning: Because of the shift to using AgentSet, in the future this attribute will return a dict withtype as key as AgentSet as value. Future behavior is available via RandomActivationByType._agents_by_type\n",
      "  non_corrupt_agents_shuffle = list(self.schedule.agents_by_type[Non_corrupt_agent].values())\n",
      "C:\\Users\\DELL\\AppData\\Local\\Temp\\ipykernel_484\\329254329.py:91: DeprecationWarning: Because of the shift to using AgentSet, in the future this attribute will return a dict withtype as key as AgentSet as value. Future behavior is available via RandomActivationByType._agents_by_type\n",
      "  agents = [agent for agent in self.schedule.agents_by_type[Non_corrupt_agent].values()]\n"
     ]
    },
    {
     "name": "stdout",
     "output_type": "stream",
     "text": [
      "120\n"
     ]
    },
    {
     "name": "stderr",
     "output_type": "stream",
     "text": [
      "C:\\Users\\DELL\\AppData\\Local\\Temp\\ipykernel_484\\329254329.py:109: DeprecationWarning: Because of the shift to using AgentSet, in the future this attribute will return a dict withtype as key as AgentSet as value. Future behavior is available via RandomActivationByType._agents_by_type\n",
      "  for sugar_agent in self.schedule.agents_by_type[Sugar].values():\n",
      "C:\\Users\\DELL\\AppData\\Local\\Temp\\ipykernel_484\\329254329.py:101: DeprecationWarning: Because of the shift to using AgentSet, in the future this attribute will return a dict withtype as key as AgentSet as value. Future behavior is available via RandomActivationByType._agents_by_type\n",
      "  non_corrupt_agents_shuffle = list(self.schedule.agents_by_type[Non_corrupt_agent].values())\n",
      "C:\\Users\\DELL\\AppData\\Local\\Temp\\ipykernel_484\\329254329.py:91: DeprecationWarning: Because of the shift to using AgentSet, in the future this attribute will return a dict withtype as key as AgentSet as value. Future behavior is available via RandomActivationByType._agents_by_type\n",
      "  agents = [agent for agent in self.schedule.agents_by_type[Non_corrupt_agent].values()]\n"
     ]
    },
    {
     "name": "stdout",
     "output_type": "stream",
     "text": [
      "Agent 2321 has eaten 4.0 sugar from sugar 1584\n",
      "Agent 2316 has eaten 4 sugar from sugar 302\n",
      "Agent 2297 has eaten 4 sugar from sugar 277\n",
      "Agent 2370 has eaten 4 sugar from sugar 84\n",
      "Agent 2325 has eaten 4.0 sugar from sugar 161\n",
      "Agent 2307 has eaten 4 sugar from sugar 1089\n",
      "Agent 2303 has eaten 4 sugar from sugar 462\n",
      "Agent 2367 has eaten 4 sugar from sugar 1080\n",
      "Agent 2350 has eaten 4 sugar from sugar 670\n",
      "Agent 2373 has eaten 4 sugar from sugar 1843\n",
      "Agent 2369 has eaten 4 sugar from sugar 2167\n",
      "Agent 2374 has eaten 4 sugar from sugar 1253\n",
      "Agent 2341 has eaten 4 sugar from sugar 2238\n",
      "Agent 2386 has eaten 4 sugar from sugar 427\n",
      "Agent 2359 has eaten 4 sugar from sugar 1261\n",
      "Agent 2380 has eaten 4 sugar from sugar 251\n",
      "Agent 2299 has eaten 4 sugar from sugar 514\n",
      "Agent 2318 has eaten 3.0 sugar from sugar 167\n",
      "Agent 2345 has eaten 4 sugar from sugar 94\n",
      "Agent 2339 has eaten 4 sugar from sugar 442\n",
      "Agent 2354 has eaten 4 sugar from sugar 2095\n",
      "Agent 2332 has eaten 4.0 sugar from sugar 44\n",
      "Agent 2308 has eaten 4 sugar from sugar 916\n",
      "Agent 2322 has eaten 4 sugar from sugar 584\n",
      "Agent 2336 has eaten 4 sugar from sugar 1910\n",
      "Agent 2352 has eaten 4 sugar from sugar 2049\n",
      "Agent 2319 has eaten 4 sugar from sugar 700\n",
      "Agent 2324 has eaten 4 sugar from sugar 1174\n",
      "Agent 2383 has eaten 4 sugar from sugar 1315\n",
      "Agent 2334 has eaten 4 sugar from sugar 1688\n",
      "Agent 2356 has eaten 4.0 sugar from sugar 60\n",
      "122\n"
     ]
    },
    {
     "name": "stderr",
     "output_type": "stream",
     "text": [
      "C:\\Users\\DELL\\AppData\\Local\\Temp\\ipykernel_484\\329254329.py:109: DeprecationWarning: Because of the shift to using AgentSet, in the future this attribute will return a dict withtype as key as AgentSet as value. Future behavior is available via RandomActivationByType._agents_by_type\n",
      "  for sugar_agent in self.schedule.agents_by_type[Sugar].values():\n",
      "C:\\Users\\DELL\\AppData\\Local\\Temp\\ipykernel_484\\329254329.py:101: DeprecationWarning: Because of the shift to using AgentSet, in the future this attribute will return a dict withtype as key as AgentSet as value. Future behavior is available via RandomActivationByType._agents_by_type\n",
      "  non_corrupt_agents_shuffle = list(self.schedule.agents_by_type[Non_corrupt_agent].values())\n",
      "C:\\Users\\DELL\\AppData\\Local\\Temp\\ipykernel_484\\329254329.py:91: DeprecationWarning: Because of the shift to using AgentSet, in the future this attribute will return a dict withtype as key as AgentSet as value. Future behavior is available via RandomActivationByType._agents_by_type\n",
      "  agents = [agent for agent in self.schedule.agents_by_type[Non_corrupt_agent].values()]\n"
     ]
    },
    {
     "name": "stdout",
     "output_type": "stream",
     "text": [
      "124\n"
     ]
    },
    {
     "name": "stderr",
     "output_type": "stream",
     "text": [
      "C:\\Users\\DELL\\AppData\\Local\\Temp\\ipykernel_484\\329254329.py:109: DeprecationWarning: Because of the shift to using AgentSet, in the future this attribute will return a dict withtype as key as AgentSet as value. Future behavior is available via RandomActivationByType._agents_by_type\n",
      "  for sugar_agent in self.schedule.agents_by_type[Sugar].values():\n",
      "C:\\Users\\DELL\\AppData\\Local\\Temp\\ipykernel_484\\329254329.py:101: DeprecationWarning: Because of the shift to using AgentSet, in the future this attribute will return a dict withtype as key as AgentSet as value. Future behavior is available via RandomActivationByType._agents_by_type\n",
      "  non_corrupt_agents_shuffle = list(self.schedule.agents_by_type[Non_corrupt_agent].values())\n",
      "C:\\Users\\DELL\\AppData\\Local\\Temp\\ipykernel_484\\329254329.py:91: DeprecationWarning: Because of the shift to using AgentSet, in the future this attribute will return a dict withtype as key as AgentSet as value. Future behavior is available via RandomActivationByType._agents_by_type\n",
      "  agents = [agent for agent in self.schedule.agents_by_type[Non_corrupt_agent].values()]\n"
     ]
    },
    {
     "name": "stdout",
     "output_type": "stream",
     "text": [
      "Agent 2322 has eaten 4 sugar from sugar 584\n",
      "Agent 2367 has eaten 4 sugar from sugar 1080\n",
      "Agent 2303 has eaten 4 sugar from sugar 462\n",
      "Agent 2383 has eaten 4 sugar from sugar 1315\n",
      "Agent 2336 has eaten 4 sugar from sugar 1910\n",
      "Agent 2380 has eaten 4 sugar from sugar 251\n",
      "Agent 2341 has eaten 4 sugar from sugar 2238\n",
      "Agent 2334 has eaten 4 sugar from sugar 1688\n",
      "Agent 2339 has eaten 4 sugar from sugar 442\n",
      "Agent 2345 has eaten 4 sugar from sugar 94\n",
      "Agent 2352 has eaten 4 sugar from sugar 2049\n",
      "Agent 2318 has eaten 3.0 sugar from sugar 167\n",
      "Agent 2350 has eaten 4 sugar from sugar 670\n",
      "Agent 2332 has eaten 4.0 sugar from sugar 44\n",
      "Agent 2354 has eaten 4 sugar from sugar 2095\n",
      "Agent 2370 has eaten 4 sugar from sugar 84\n",
      "Agent 2373 has eaten 4 sugar from sugar 1843\n",
      "Agent 2316 has eaten 4 sugar from sugar 302\n",
      "Agent 2321 has eaten 4.0 sugar from sugar 1584\n",
      "Agent 2319 has eaten 4 sugar from sugar 700\n",
      "Agent 2297 has eaten 4 sugar from sugar 277\n",
      "Agent 2299 has eaten 4 sugar from sugar 514\n",
      "Agent 2374 has eaten 4 sugar from sugar 1253\n",
      "Agent 2308 has eaten 4 sugar from sugar 916\n",
      "Agent 2307 has eaten 4 sugar from sugar 1089\n",
      "Agent 2356 has eaten 4.0 sugar from sugar 60\n",
      "Agent 2325 has eaten 4.0 sugar from sugar 161\n",
      "Agent 2324 has eaten 4 sugar from sugar 1174\n",
      "Agent 2359 has eaten 4 sugar from sugar 1261\n",
      "Agent 2386 has eaten 4 sugar from sugar 427\n",
      "Agent 2369 has eaten 4 sugar from sugar 2167\n",
      "126\n"
     ]
    },
    {
     "name": "stderr",
     "output_type": "stream",
     "text": [
      "C:\\Users\\DELL\\AppData\\Local\\Temp\\ipykernel_484\\329254329.py:109: DeprecationWarning: Because of the shift to using AgentSet, in the future this attribute will return a dict withtype as key as AgentSet as value. Future behavior is available via RandomActivationByType._agents_by_type\n",
      "  for sugar_agent in self.schedule.agents_by_type[Sugar].values():\n",
      "C:\\Users\\DELL\\AppData\\Local\\Temp\\ipykernel_484\\329254329.py:101: DeprecationWarning: Because of the shift to using AgentSet, in the future this attribute will return a dict withtype as key as AgentSet as value. Future behavior is available via RandomActivationByType._agents_by_type\n",
      "  non_corrupt_agents_shuffle = list(self.schedule.agents_by_type[Non_corrupt_agent].values())\n",
      "C:\\Users\\DELL\\AppData\\Local\\Temp\\ipykernel_484\\329254329.py:91: DeprecationWarning: Because of the shift to using AgentSet, in the future this attribute will return a dict withtype as key as AgentSet as value. Future behavior is available via RandomActivationByType._agents_by_type\n",
      "  agents = [agent for agent in self.schedule.agents_by_type[Non_corrupt_agent].values()]\n"
     ]
    },
    {
     "name": "stdout",
     "output_type": "stream",
     "text": [
      "128\n"
     ]
    },
    {
     "name": "stderr",
     "output_type": "stream",
     "text": [
      "C:\\Users\\DELL\\AppData\\Local\\Temp\\ipykernel_484\\329254329.py:109: DeprecationWarning: Because of the shift to using AgentSet, in the future this attribute will return a dict withtype as key as AgentSet as value. Future behavior is available via RandomActivationByType._agents_by_type\n",
      "  for sugar_agent in self.schedule.agents_by_type[Sugar].values():\n",
      "C:\\Users\\DELL\\AppData\\Local\\Temp\\ipykernel_484\\329254329.py:101: DeprecationWarning: Because of the shift to using AgentSet, in the future this attribute will return a dict withtype as key as AgentSet as value. Future behavior is available via RandomActivationByType._agents_by_type\n",
      "  non_corrupt_agents_shuffle = list(self.schedule.agents_by_type[Non_corrupt_agent].values())\n",
      "C:\\Users\\DELL\\AppData\\Local\\Temp\\ipykernel_484\\329254329.py:91: DeprecationWarning: Because of the shift to using AgentSet, in the future this attribute will return a dict withtype as key as AgentSet as value. Future behavior is available via RandomActivationByType._agents_by_type\n",
      "  agents = [agent for agent in self.schedule.agents_by_type[Non_corrupt_agent].values()]\n"
     ]
    },
    {
     "name": "stdout",
     "output_type": "stream",
     "text": [
      "Agent 2318 has eaten 3.0 sugar from sugar 167\n",
      "Agent 2322 has eaten 4 sugar from sugar 584\n",
      "Agent 2299 has eaten 4 sugar from sugar 514\n",
      "Agent 2325 has eaten 4.0 sugar from sugar 161\n",
      "Agent 2356 has eaten 4.0 sugar from sugar 60\n",
      "Agent 2308 has eaten 4 sugar from sugar 916\n",
      "Agent 2341 has eaten 4 sugar from sugar 2238\n",
      "Agent 2303 has eaten 4 sugar from sugar 462\n",
      "Agent 2316 has eaten 4 sugar from sugar 302\n",
      "Agent 2307 has eaten 4 sugar from sugar 1089\n",
      "Agent 2334 has eaten 4 sugar from sugar 1688\n",
      "Agent 2324 has eaten 4 sugar from sugar 1174\n",
      "Agent 2370 has eaten 4 sugar from sugar 84\n",
      "Agent 2367 has eaten 4 sugar from sugar 1080\n",
      "Agent 2336 has eaten 4 sugar from sugar 1910\n",
      "Agent 2369 has eaten 4 sugar from sugar 2167\n",
      "Agent 2386 has eaten 4 sugar from sugar 427\n",
      "Agent 2383 has eaten 4 sugar from sugar 1315\n",
      "Agent 2380 has eaten 4 sugar from sugar 251\n",
      "Agent 2352 has eaten 4 sugar from sugar 2049\n",
      "Agent 2373 has eaten 4 sugar from sugar 1843\n",
      "Agent 2319 has eaten 4 sugar from sugar 700\n",
      "Agent 2374 has eaten 4 sugar from sugar 1253\n",
      "Agent 2354 has eaten 4 sugar from sugar 2095\n",
      "Agent 2345 has eaten 4 sugar from sugar 94\n",
      "Agent 2359 has eaten 4 sugar from sugar 1261\n",
      "Agent 2332 has eaten 4.0 sugar from sugar 44\n",
      "Agent 2339 has eaten 4 sugar from sugar 442\n",
      "Agent 2321 has eaten 4.0 sugar from sugar 1584\n",
      "Agent 2350 has eaten 4 sugar from sugar 670\n",
      "Agent 2297 has eaten 4 sugar from sugar 277\n",
      "130\n"
     ]
    },
    {
     "name": "stderr",
     "output_type": "stream",
     "text": [
      "C:\\Users\\DELL\\AppData\\Local\\Temp\\ipykernel_484\\329254329.py:109: DeprecationWarning: Because of the shift to using AgentSet, in the future this attribute will return a dict withtype as key as AgentSet as value. Future behavior is available via RandomActivationByType._agents_by_type\n",
      "  for sugar_agent in self.schedule.agents_by_type[Sugar].values():\n",
      "C:\\Users\\DELL\\AppData\\Local\\Temp\\ipykernel_484\\329254329.py:101: DeprecationWarning: Because of the shift to using AgentSet, in the future this attribute will return a dict withtype as key as AgentSet as value. Future behavior is available via RandomActivationByType._agents_by_type\n",
      "  non_corrupt_agents_shuffle = list(self.schedule.agents_by_type[Non_corrupt_agent].values())\n",
      "C:\\Users\\DELL\\AppData\\Local\\Temp\\ipykernel_484\\329254329.py:91: DeprecationWarning: Because of the shift to using AgentSet, in the future this attribute will return a dict withtype as key as AgentSet as value. Future behavior is available via RandomActivationByType._agents_by_type\n",
      "  agents = [agent for agent in self.schedule.agents_by_type[Non_corrupt_agent].values()]\n"
     ]
    },
    {
     "name": "stdout",
     "output_type": "stream",
     "text": [
      "132\n"
     ]
    },
    {
     "name": "stderr",
     "output_type": "stream",
     "text": [
      "C:\\Users\\DELL\\AppData\\Local\\Temp\\ipykernel_484\\329254329.py:109: DeprecationWarning: Because of the shift to using AgentSet, in the future this attribute will return a dict withtype as key as AgentSet as value. Future behavior is available via RandomActivationByType._agents_by_type\n",
      "  for sugar_agent in self.schedule.agents_by_type[Sugar].values():\n",
      "C:\\Users\\DELL\\AppData\\Local\\Temp\\ipykernel_484\\329254329.py:101: DeprecationWarning: Because of the shift to using AgentSet, in the future this attribute will return a dict withtype as key as AgentSet as value. Future behavior is available via RandomActivationByType._agents_by_type\n",
      "  non_corrupt_agents_shuffle = list(self.schedule.agents_by_type[Non_corrupt_agent].values())\n",
      "C:\\Users\\DELL\\AppData\\Local\\Temp\\ipykernel_484\\329254329.py:91: DeprecationWarning: Because of the shift to using AgentSet, in the future this attribute will return a dict withtype as key as AgentSet as value. Future behavior is available via RandomActivationByType._agents_by_type\n",
      "  agents = [agent for agent in self.schedule.agents_by_type[Non_corrupt_agent].values()]\n"
     ]
    },
    {
     "name": "stdout",
     "output_type": "stream",
     "text": [
      "Agent 2332 has eaten 4.0 sugar from sugar 44\n",
      "Agent 2334 has eaten 4 sugar from sugar 1688\n",
      "Agent 2308 has eaten 4 sugar from sugar 916\n",
      "Agent 2374 has eaten 4 sugar from sugar 1253\n",
      "Agent 2352 has eaten 4 sugar from sugar 2049\n",
      "Agent 2303 has eaten 4 sugar from sugar 462\n",
      "Agent 2336 has eaten 4 sugar from sugar 1910\n",
      "Agent 2341 has eaten 4 sugar from sugar 2238\n",
      "Agent 2386 has eaten 4 sugar from sugar 427\n",
      "Agent 2299 has eaten 4 sugar from sugar 514\n",
      "Agent 2325 has eaten 4.0 sugar from sugar 161\n",
      "Agent 2370 has eaten 4 sugar from sugar 84\n",
      "Agent 2319 has eaten 4 sugar from sugar 700\n",
      "Agent 2316 has eaten 4 sugar from sugar 302\n",
      "Agent 2359 has eaten 4 sugar from sugar 1261\n",
      "Agent 2345 has eaten 4 sugar from sugar 94\n",
      "Agent 2380 has eaten 4 sugar from sugar 251\n",
      "Agent 2369 has eaten 4 sugar from sugar 2167\n",
      "Agent 2350 has eaten 4 sugar from sugar 670\n",
      "Agent 2318 has eaten 3.0 sugar from sugar 167\n",
      "Agent 2321 has eaten 4.0 sugar from sugar 1584\n",
      "Agent 2354 has eaten 4 sugar from sugar 2095\n",
      "Agent 2356 has eaten 4.0 sugar from sugar 60\n",
      "Agent 2307 has eaten 4 sugar from sugar 1089\n",
      "Agent 2373 has eaten 4 sugar from sugar 1843\n",
      "Agent 2322 has eaten 4 sugar from sugar 584\n",
      "Agent 2297 has eaten 4 sugar from sugar 277\n",
      "Agent 2324 has eaten 4 sugar from sugar 1174\n",
      "Agent 2367 has eaten 4 sugar from sugar 1080\n",
      "Agent 2383 has eaten 4 sugar from sugar 1315\n",
      "Agent 2339 has eaten 4 sugar from sugar 442\n",
      "134\n"
     ]
    },
    {
     "name": "stderr",
     "output_type": "stream",
     "text": [
      "C:\\Users\\DELL\\AppData\\Local\\Temp\\ipykernel_484\\329254329.py:109: DeprecationWarning: Because of the shift to using AgentSet, in the future this attribute will return a dict withtype as key as AgentSet as value. Future behavior is available via RandomActivationByType._agents_by_type\n",
      "  for sugar_agent in self.schedule.agents_by_type[Sugar].values():\n",
      "C:\\Users\\DELL\\AppData\\Local\\Temp\\ipykernel_484\\329254329.py:101: DeprecationWarning: Because of the shift to using AgentSet, in the future this attribute will return a dict withtype as key as AgentSet as value. Future behavior is available via RandomActivationByType._agents_by_type\n",
      "  non_corrupt_agents_shuffle = list(self.schedule.agents_by_type[Non_corrupt_agent].values())\n",
      "C:\\Users\\DELL\\AppData\\Local\\Temp\\ipykernel_484\\329254329.py:91: DeprecationWarning: Because of the shift to using AgentSet, in the future this attribute will return a dict withtype as key as AgentSet as value. Future behavior is available via RandomActivationByType._agents_by_type\n",
      "  agents = [agent for agent in self.schedule.agents_by_type[Non_corrupt_agent].values()]\n"
     ]
    },
    {
     "name": "stdout",
     "output_type": "stream",
     "text": [
      "136\n"
     ]
    },
    {
     "name": "stderr",
     "output_type": "stream",
     "text": [
      "C:\\Users\\DELL\\AppData\\Local\\Temp\\ipykernel_484\\329254329.py:109: DeprecationWarning: Because of the shift to using AgentSet, in the future this attribute will return a dict withtype as key as AgentSet as value. Future behavior is available via RandomActivationByType._agents_by_type\n",
      "  for sugar_agent in self.schedule.agents_by_type[Sugar].values():\n",
      "C:\\Users\\DELL\\AppData\\Local\\Temp\\ipykernel_484\\329254329.py:101: DeprecationWarning: Because of the shift to using AgentSet, in the future this attribute will return a dict withtype as key as AgentSet as value. Future behavior is available via RandomActivationByType._agents_by_type\n",
      "  non_corrupt_agents_shuffle = list(self.schedule.agents_by_type[Non_corrupt_agent].values())\n",
      "C:\\Users\\DELL\\AppData\\Local\\Temp\\ipykernel_484\\329254329.py:91: DeprecationWarning: Because of the shift to using AgentSet, in the future this attribute will return a dict withtype as key as AgentSet as value. Future behavior is available via RandomActivationByType._agents_by_type\n",
      "  agents = [agent for agent in self.schedule.agents_by_type[Non_corrupt_agent].values()]\n"
     ]
    },
    {
     "name": "stdout",
     "output_type": "stream",
     "text": [
      "Agent 2336 has eaten 4 sugar from sugar 1910\n",
      "Agent 2341 has eaten 4 sugar from sugar 2238\n",
      "Agent 2345 has eaten 4 sugar from sugar 94\n",
      "Agent 2373 has eaten 4 sugar from sugar 1843\n",
      "Agent 2339 has eaten 4 sugar from sugar 442\n",
      "Agent 2380 has eaten 4 sugar from sugar 251\n",
      "Agent 2369 has eaten 4 sugar from sugar 2167\n",
      "Agent 2299 has eaten 4 sugar from sugar 514\n",
      "Agent 2356 has eaten 4.0 sugar from sugar 60\n",
      "Agent 2332 has eaten 4.0 sugar from sugar 44\n",
      "Agent 2319 has eaten 4 sugar from sugar 700\n",
      "Agent 2322 has eaten 4 sugar from sugar 584\n",
      "Agent 2359 has eaten 4 sugar from sugar 1261\n",
      "Agent 2321 has eaten 4.0 sugar from sugar 1584\n",
      "Agent 2297 has eaten 4 sugar from sugar 277\n",
      "Agent 2334 has eaten 4 sugar from sugar 1688\n",
      "Agent 2303 has eaten 4 sugar from sugar 462\n",
      "Agent 2308 has eaten 4 sugar from sugar 916\n",
      "Agent 2316 has eaten 4 sugar from sugar 302\n",
      "Agent 2318 has eaten 3.0 sugar from sugar 167\n",
      "Agent 2307 has eaten 4 sugar from sugar 1089\n",
      "Agent 2367 has eaten 4 sugar from sugar 1080\n",
      "Agent 2386 has eaten 4 sugar from sugar 427\n",
      "Agent 2374 has eaten 4 sugar from sugar 1253\n",
      "Agent 2354 has eaten 4 sugar from sugar 2095\n",
      "Agent 2370 has eaten 4 sugar from sugar 84\n",
      "Agent 2324 has eaten 4 sugar from sugar 1174\n",
      "Agent 2325 has eaten 4.0 sugar from sugar 161\n",
      "Agent 2350 has eaten 4 sugar from sugar 670\n",
      "Agent 2352 has eaten 4 sugar from sugar 2049\n",
      "Agent 2383 has eaten 4 sugar from sugar 1315\n",
      "138\n"
     ]
    },
    {
     "name": "stderr",
     "output_type": "stream",
     "text": [
      "C:\\Users\\DELL\\AppData\\Local\\Temp\\ipykernel_484\\329254329.py:109: DeprecationWarning: Because of the shift to using AgentSet, in the future this attribute will return a dict withtype as key as AgentSet as value. Future behavior is available via RandomActivationByType._agents_by_type\n",
      "  for sugar_agent in self.schedule.agents_by_type[Sugar].values():\n",
      "C:\\Users\\DELL\\AppData\\Local\\Temp\\ipykernel_484\\329254329.py:101: DeprecationWarning: Because of the shift to using AgentSet, in the future this attribute will return a dict withtype as key as AgentSet as value. Future behavior is available via RandomActivationByType._agents_by_type\n",
      "  non_corrupt_agents_shuffle = list(self.schedule.agents_by_type[Non_corrupt_agent].values())\n",
      "C:\\Users\\DELL\\AppData\\Local\\Temp\\ipykernel_484\\329254329.py:91: DeprecationWarning: Because of the shift to using AgentSet, in the future this attribute will return a dict withtype as key as AgentSet as value. Future behavior is available via RandomActivationByType._agents_by_type\n",
      "  agents = [agent for agent in self.schedule.agents_by_type[Non_corrupt_agent].values()]\n"
     ]
    },
    {
     "name": "stdout",
     "output_type": "stream",
     "text": [
      "140\n"
     ]
    },
    {
     "name": "stderr",
     "output_type": "stream",
     "text": [
      "C:\\Users\\DELL\\AppData\\Local\\Temp\\ipykernel_484\\329254329.py:109: DeprecationWarning: Because of the shift to using AgentSet, in the future this attribute will return a dict withtype as key as AgentSet as value. Future behavior is available via RandomActivationByType._agents_by_type\n",
      "  for sugar_agent in self.schedule.agents_by_type[Sugar].values():\n",
      "C:\\Users\\DELL\\AppData\\Local\\Temp\\ipykernel_484\\329254329.py:101: DeprecationWarning: Because of the shift to using AgentSet, in the future this attribute will return a dict withtype as key as AgentSet as value. Future behavior is available via RandomActivationByType._agents_by_type\n",
      "  non_corrupt_agents_shuffle = list(self.schedule.agents_by_type[Non_corrupt_agent].values())\n",
      "C:\\Users\\DELL\\AppData\\Local\\Temp\\ipykernel_484\\329254329.py:91: DeprecationWarning: Because of the shift to using AgentSet, in the future this attribute will return a dict withtype as key as AgentSet as value. Future behavior is available via RandomActivationByType._agents_by_type\n",
      "  agents = [agent for agent in self.schedule.agents_by_type[Non_corrupt_agent].values()]\n"
     ]
    },
    {
     "name": "stdout",
     "output_type": "stream",
     "text": [
      "Agent 2321 has eaten 4.0 sugar from sugar 1584\n",
      "Agent 2354 has eaten 4 sugar from sugar 2095\n",
      "Agent 2383 has eaten 4 sugar from sugar 1315\n",
      "Agent 2336 has eaten 4 sugar from sugar 1910\n",
      "Agent 2386 has eaten 4 sugar from sugar 427\n",
      "Agent 2319 has eaten 4 sugar from sugar 700\n",
      "Agent 2374 has eaten 4 sugar from sugar 1253\n",
      "Agent 2332 has eaten 4.0 sugar from sugar 44\n",
      "Agent 2322 has eaten 4 sugar from sugar 584\n",
      "Agent 2307 has eaten 4 sugar from sugar 1089\n",
      "Agent 2380 has eaten 4 sugar from sugar 251\n",
      "Agent 2318 has eaten 3.0 sugar from sugar 167\n",
      "Agent 2324 has eaten 4 sugar from sugar 1174\n",
      "Agent 2339 has eaten 4 sugar from sugar 442\n",
      "Agent 2303 has eaten 4 sugar from sugar 462\n",
      "Agent 2334 has eaten 4 sugar from sugar 1688\n",
      "Agent 2370 has eaten 4 sugar from sugar 84\n",
      "Agent 2373 has eaten 4 sugar from sugar 1843\n",
      "Agent 2299 has eaten 4 sugar from sugar 514\n",
      "Agent 2316 has eaten 4 sugar from sugar 302\n",
      "Agent 2352 has eaten 4 sugar from sugar 2049\n",
      "Agent 2367 has eaten 4 sugar from sugar 1080\n",
      "Agent 2297 has eaten 4 sugar from sugar 277\n",
      "Agent 2359 has eaten 4 sugar from sugar 1261\n",
      "Agent 2356 has eaten 4.0 sugar from sugar 60\n",
      "Agent 2350 has eaten 4 sugar from sugar 670\n",
      "Agent 2341 has eaten 4 sugar from sugar 2238\n",
      "Agent 2308 has eaten 4 sugar from sugar 916\n",
      "Agent 2345 has eaten 4 sugar from sugar 94\n",
      "Agent 2325 has eaten 4.0 sugar from sugar 161\n",
      "Agent 2369 has eaten 4 sugar from sugar 2167\n",
      "142\n"
     ]
    },
    {
     "name": "stderr",
     "output_type": "stream",
     "text": [
      "C:\\Users\\DELL\\AppData\\Local\\Temp\\ipykernel_484\\329254329.py:109: DeprecationWarning: Because of the shift to using AgentSet, in the future this attribute will return a dict withtype as key as AgentSet as value. Future behavior is available via RandomActivationByType._agents_by_type\n",
      "  for sugar_agent in self.schedule.agents_by_type[Sugar].values():\n",
      "C:\\Users\\DELL\\AppData\\Local\\Temp\\ipykernel_484\\329254329.py:101: DeprecationWarning: Because of the shift to using AgentSet, in the future this attribute will return a dict withtype as key as AgentSet as value. Future behavior is available via RandomActivationByType._agents_by_type\n",
      "  non_corrupt_agents_shuffle = list(self.schedule.agents_by_type[Non_corrupt_agent].values())\n",
      "C:\\Users\\DELL\\AppData\\Local\\Temp\\ipykernel_484\\329254329.py:91: DeprecationWarning: Because of the shift to using AgentSet, in the future this attribute will return a dict withtype as key as AgentSet as value. Future behavior is available via RandomActivationByType._agents_by_type\n",
      "  agents = [agent for agent in self.schedule.agents_by_type[Non_corrupt_agent].values()]\n"
     ]
    },
    {
     "name": "stdout",
     "output_type": "stream",
     "text": [
      "144\n"
     ]
    },
    {
     "name": "stderr",
     "output_type": "stream",
     "text": [
      "C:\\Users\\DELL\\AppData\\Local\\Temp\\ipykernel_484\\329254329.py:109: DeprecationWarning: Because of the shift to using AgentSet, in the future this attribute will return a dict withtype as key as AgentSet as value. Future behavior is available via RandomActivationByType._agents_by_type\n",
      "  for sugar_agent in self.schedule.agents_by_type[Sugar].values():\n",
      "C:\\Users\\DELL\\AppData\\Local\\Temp\\ipykernel_484\\329254329.py:101: DeprecationWarning: Because of the shift to using AgentSet, in the future this attribute will return a dict withtype as key as AgentSet as value. Future behavior is available via RandomActivationByType._agents_by_type\n",
      "  non_corrupt_agents_shuffle = list(self.schedule.agents_by_type[Non_corrupt_agent].values())\n",
      "C:\\Users\\DELL\\AppData\\Local\\Temp\\ipykernel_484\\329254329.py:91: DeprecationWarning: Because of the shift to using AgentSet, in the future this attribute will return a dict withtype as key as AgentSet as value. Future behavior is available via RandomActivationByType._agents_by_type\n",
      "  agents = [agent for agent in self.schedule.agents_by_type[Non_corrupt_agent].values()]\n"
     ]
    },
    {
     "name": "stdout",
     "output_type": "stream",
     "text": [
      "Agent 2374 has eaten 4 sugar from sugar 1253\n",
      "Agent 2303 has eaten 4 sugar from sugar 462\n",
      "Agent 2319 has eaten 4 sugar from sugar 700\n",
      "Agent 2299 has eaten 4 sugar from sugar 514\n",
      "Agent 2336 has eaten 4 sugar from sugar 1910\n",
      "Agent 2350 has eaten 4 sugar from sugar 670\n",
      "Agent 2386 has eaten 4 sugar from sugar 427\n",
      "Agent 2339 has eaten 4 sugar from sugar 442\n",
      "Agent 2359 has eaten 4 sugar from sugar 1261\n",
      "Agent 2356 has eaten 4.0 sugar from sugar 60\n",
      "Agent 2373 has eaten 4 sugar from sugar 1843\n",
      "Agent 2334 has eaten 4 sugar from sugar 1688\n",
      "Agent 2367 has eaten 4 sugar from sugar 1080\n",
      "Agent 2318 has eaten 3.0 sugar from sugar 167\n",
      "Agent 2352 has eaten 4 sugar from sugar 2049\n",
      "Agent 2307 has eaten 4 sugar from sugar 1089\n",
      "Agent 2370 has eaten 4 sugar from sugar 84\n",
      "Agent 2345 has eaten 4 sugar from sugar 94\n",
      "Agent 2369 has eaten 4 sugar from sugar 2167\n",
      "Agent 2297 has eaten 4 sugar from sugar 277\n",
      "Agent 2332 has eaten 4.0 sugar from sugar 44\n",
      "Agent 2383 has eaten 4 sugar from sugar 1315\n",
      "Agent 2324 has eaten 4 sugar from sugar 1174\n",
      "Agent 2316 has eaten 4 sugar from sugar 302\n",
      "Agent 2321 has eaten 4.0 sugar from sugar 1584\n",
      "Agent 2354 has eaten 4 sugar from sugar 2095\n",
      "Agent 2341 has eaten 4 sugar from sugar 2238\n",
      "Agent 2308 has eaten 4 sugar from sugar 916\n",
      "Agent 2380 has eaten 4 sugar from sugar 251\n",
      "Agent 2322 has eaten 4 sugar from sugar 584\n",
      "Agent 2325 has eaten 4.0 sugar from sugar 161\n",
      "146\n"
     ]
    },
    {
     "name": "stderr",
     "output_type": "stream",
     "text": [
      "C:\\Users\\DELL\\AppData\\Local\\Temp\\ipykernel_484\\329254329.py:109: DeprecationWarning: Because of the shift to using AgentSet, in the future this attribute will return a dict withtype as key as AgentSet as value. Future behavior is available via RandomActivationByType._agents_by_type\n",
      "  for sugar_agent in self.schedule.agents_by_type[Sugar].values():\n",
      "C:\\Users\\DELL\\AppData\\Local\\Temp\\ipykernel_484\\329254329.py:101: DeprecationWarning: Because of the shift to using AgentSet, in the future this attribute will return a dict withtype as key as AgentSet as value. Future behavior is available via RandomActivationByType._agents_by_type\n",
      "  non_corrupt_agents_shuffle = list(self.schedule.agents_by_type[Non_corrupt_agent].values())\n",
      "C:\\Users\\DELL\\AppData\\Local\\Temp\\ipykernel_484\\329254329.py:91: DeprecationWarning: Because of the shift to using AgentSet, in the future this attribute will return a dict withtype as key as AgentSet as value. Future behavior is available via RandomActivationByType._agents_by_type\n",
      "  agents = [agent for agent in self.schedule.agents_by_type[Non_corrupt_agent].values()]\n"
     ]
    },
    {
     "name": "stdout",
     "output_type": "stream",
     "text": [
      "148\n"
     ]
    },
    {
     "name": "stderr",
     "output_type": "stream",
     "text": [
      "C:\\Users\\DELL\\AppData\\Local\\Temp\\ipykernel_484\\329254329.py:109: DeprecationWarning: Because of the shift to using AgentSet, in the future this attribute will return a dict withtype as key as AgentSet as value. Future behavior is available via RandomActivationByType._agents_by_type\n",
      "  for sugar_agent in self.schedule.agents_by_type[Sugar].values():\n",
      "C:\\Users\\DELL\\AppData\\Local\\Temp\\ipykernel_484\\329254329.py:101: DeprecationWarning: Because of the shift to using AgentSet, in the future this attribute will return a dict withtype as key as AgentSet as value. Future behavior is available via RandomActivationByType._agents_by_type\n",
      "  non_corrupt_agents_shuffle = list(self.schedule.agents_by_type[Non_corrupt_agent].values())\n",
      "C:\\Users\\DELL\\AppData\\Local\\Temp\\ipykernel_484\\329254329.py:91: DeprecationWarning: Because of the shift to using AgentSet, in the future this attribute will return a dict withtype as key as AgentSet as value. Future behavior is available via RandomActivationByType._agents_by_type\n",
      "  agents = [agent for agent in self.schedule.agents_by_type[Non_corrupt_agent].values()]\n"
     ]
    },
    {
     "name": "stdout",
     "output_type": "stream",
     "text": [
      "Agent 2367 has eaten 4 sugar from sugar 1080\n",
      "Agent 2334 has eaten 4 sugar from sugar 1688\n",
      "Agent 2345 has eaten 4 sugar from sugar 94\n",
      "Agent 2332 has eaten 4.0 sugar from sugar 44\n",
      "Agent 2350 has eaten 4 sugar from sugar 670\n",
      "Agent 2380 has eaten 4 sugar from sugar 251\n",
      "Agent 2308 has eaten 4 sugar from sugar 916\n",
      "Agent 2307 has eaten 4 sugar from sugar 1089\n",
      "Agent 2369 has eaten 4 sugar from sugar 2167\n",
      "Agent 2297 has eaten 4 sugar from sugar 277\n",
      "Agent 2354 has eaten 4 sugar from sugar 2095\n",
      "Agent 2359 has eaten 4 sugar from sugar 1261\n",
      "Agent 2321 has eaten 4.0 sugar from sugar 1584\n",
      "Agent 2370 has eaten 4 sugar from sugar 84\n",
      "Agent 2316 has eaten 4 sugar from sugar 302\n",
      "Agent 2318 has eaten 3.0 sugar from sugar 167\n",
      "Agent 2373 has eaten 4 sugar from sugar 1843\n",
      "Agent 2383 has eaten 4 sugar from sugar 1315\n",
      "Agent 2352 has eaten 4 sugar from sugar 2049\n",
      "Agent 2386 has eaten 4 sugar from sugar 427\n",
      "Agent 2336 has eaten 4 sugar from sugar 1910\n",
      "Agent 2356 has eaten 4.0 sugar from sugar 60\n",
      "Agent 2299 has eaten 4 sugar from sugar 514\n",
      "Agent 2374 has eaten 4 sugar from sugar 1253\n",
      "Agent 2341 has eaten 4 sugar from sugar 2238\n",
      "Agent 2325 has eaten 4.0 sugar from sugar 161\n",
      "Agent 2319 has eaten 4 sugar from sugar 700\n",
      "Agent 2339 has eaten 4 sugar from sugar 442\n",
      "Agent 2322 has eaten 4 sugar from sugar 584\n",
      "Agent 2324 has eaten 4 sugar from sugar 1174\n",
      "Agent 2303 has eaten 4 sugar from sugar 462\n",
      "150\n"
     ]
    },
    {
     "name": "stderr",
     "output_type": "stream",
     "text": [
      "C:\\Users\\DELL\\AppData\\Local\\Temp\\ipykernel_484\\329254329.py:109: DeprecationWarning: Because of the shift to using AgentSet, in the future this attribute will return a dict withtype as key as AgentSet as value. Future behavior is available via RandomActivationByType._agents_by_type\n",
      "  for sugar_agent in self.schedule.agents_by_type[Sugar].values():\n",
      "C:\\Users\\DELL\\AppData\\Local\\Temp\\ipykernel_484\\329254329.py:101: DeprecationWarning: Because of the shift to using AgentSet, in the future this attribute will return a dict withtype as key as AgentSet as value. Future behavior is available via RandomActivationByType._agents_by_type\n",
      "  non_corrupt_agents_shuffle = list(self.schedule.agents_by_type[Non_corrupt_agent].values())\n",
      "C:\\Users\\DELL\\AppData\\Local\\Temp\\ipykernel_484\\329254329.py:91: DeprecationWarning: Because of the shift to using AgentSet, in the future this attribute will return a dict withtype as key as AgentSet as value. Future behavior is available via RandomActivationByType._agents_by_type\n",
      "  agents = [agent for agent in self.schedule.agents_by_type[Non_corrupt_agent].values()]\n"
     ]
    },
    {
     "name": "stdout",
     "output_type": "stream",
     "text": [
      "152\n"
     ]
    },
    {
     "name": "stderr",
     "output_type": "stream",
     "text": [
      "C:\\Users\\DELL\\AppData\\Local\\Temp\\ipykernel_484\\329254329.py:109: DeprecationWarning: Because of the shift to using AgentSet, in the future this attribute will return a dict withtype as key as AgentSet as value. Future behavior is available via RandomActivationByType._agents_by_type\n",
      "  for sugar_agent in self.schedule.agents_by_type[Sugar].values():\n",
      "C:\\Users\\DELL\\AppData\\Local\\Temp\\ipykernel_484\\329254329.py:101: DeprecationWarning: Because of the shift to using AgentSet, in the future this attribute will return a dict withtype as key as AgentSet as value. Future behavior is available via RandomActivationByType._agents_by_type\n",
      "  non_corrupt_agents_shuffle = list(self.schedule.agents_by_type[Non_corrupt_agent].values())\n",
      "C:\\Users\\DELL\\AppData\\Local\\Temp\\ipykernel_484\\329254329.py:91: DeprecationWarning: Because of the shift to using AgentSet, in the future this attribute will return a dict withtype as key as AgentSet as value. Future behavior is available via RandomActivationByType._agents_by_type\n",
      "  agents = [agent for agent in self.schedule.agents_by_type[Non_corrupt_agent].values()]\n"
     ]
    },
    {
     "name": "stdout",
     "output_type": "stream",
     "text": [
      "Agent 2356 has eaten 4.0 sugar from sugar 60\n",
      "Agent 2359 has eaten 4 sugar from sugar 1261\n",
      "Agent 2373 has eaten 4 sugar from sugar 1843\n",
      "Agent 2319 has eaten 4 sugar from sugar 700\n",
      "Agent 2321 has eaten 4.0 sugar from sugar 1584\n",
      "Agent 2367 has eaten 4 sugar from sugar 1080\n",
      "Agent 2374 has eaten 4 sugar from sugar 1253\n",
      "Agent 2336 has eaten 4 sugar from sugar 1910\n",
      "Agent 2303 has eaten 4 sugar from sugar 462\n",
      "Agent 2322 has eaten 4 sugar from sugar 584\n",
      "Agent 2339 has eaten 4 sugar from sugar 442\n",
      "Agent 2383 has eaten 4 sugar from sugar 1315\n",
      "Agent 2307 has eaten 4 sugar from sugar 1089\n",
      "Agent 2380 has eaten 4 sugar from sugar 251\n",
      "Agent 2308 has eaten 4 sugar from sugar 916\n",
      "Agent 2316 has eaten 4 sugar from sugar 302\n",
      "Agent 2297 has eaten 4 sugar from sugar 277\n",
      "Agent 2386 has eaten 4 sugar from sugar 427\n",
      "Agent 2324 has eaten 4 sugar from sugar 1174\n",
      "Agent 2325 has eaten 4.0 sugar from sugar 161\n",
      "Agent 2369 has eaten 4 sugar from sugar 2167\n",
      "Agent 2354 has eaten 4 sugar from sugar 2095\n",
      "Agent 2332 has eaten 4.0 sugar from sugar 44\n",
      "Agent 2334 has eaten 4 sugar from sugar 1688\n",
      "Agent 2318 has eaten 3.0 sugar from sugar 167\n",
      "Agent 2299 has eaten 4 sugar from sugar 514\n",
      "Agent 2345 has eaten 4 sugar from sugar 94\n",
      "Agent 2350 has eaten 4 sugar from sugar 670\n",
      "Agent 2352 has eaten 4 sugar from sugar 2049\n",
      "Agent 2341 has eaten 4 sugar from sugar 2238\n",
      "Agent 2370 has eaten 4 sugar from sugar 84\n",
      "154\n"
     ]
    },
    {
     "name": "stderr",
     "output_type": "stream",
     "text": [
      "C:\\Users\\DELL\\AppData\\Local\\Temp\\ipykernel_484\\329254329.py:109: DeprecationWarning: Because of the shift to using AgentSet, in the future this attribute will return a dict withtype as key as AgentSet as value. Future behavior is available via RandomActivationByType._agents_by_type\n",
      "  for sugar_agent in self.schedule.agents_by_type[Sugar].values():\n",
      "C:\\Users\\DELL\\AppData\\Local\\Temp\\ipykernel_484\\329254329.py:101: DeprecationWarning: Because of the shift to using AgentSet, in the future this attribute will return a dict withtype as key as AgentSet as value. Future behavior is available via RandomActivationByType._agents_by_type\n",
      "  non_corrupt_agents_shuffle = list(self.schedule.agents_by_type[Non_corrupt_agent].values())\n",
      "C:\\Users\\DELL\\AppData\\Local\\Temp\\ipykernel_484\\329254329.py:91: DeprecationWarning: Because of the shift to using AgentSet, in the future this attribute will return a dict withtype as key as AgentSet as value. Future behavior is available via RandomActivationByType._agents_by_type\n",
      "  agents = [agent for agent in self.schedule.agents_by_type[Non_corrupt_agent].values()]\n"
     ]
    },
    {
     "name": "stdout",
     "output_type": "stream",
     "text": [
      "156\n"
     ]
    },
    {
     "name": "stderr",
     "output_type": "stream",
     "text": [
      "C:\\Users\\DELL\\AppData\\Local\\Temp\\ipykernel_484\\329254329.py:109: DeprecationWarning: Because of the shift to using AgentSet, in the future this attribute will return a dict withtype as key as AgentSet as value. Future behavior is available via RandomActivationByType._agents_by_type\n",
      "  for sugar_agent in self.schedule.agents_by_type[Sugar].values():\n",
      "C:\\Users\\DELL\\AppData\\Local\\Temp\\ipykernel_484\\329254329.py:101: DeprecationWarning: Because of the shift to using AgentSet, in the future this attribute will return a dict withtype as key as AgentSet as value. Future behavior is available via RandomActivationByType._agents_by_type\n",
      "  non_corrupt_agents_shuffle = list(self.schedule.agents_by_type[Non_corrupt_agent].values())\n",
      "C:\\Users\\DELL\\AppData\\Local\\Temp\\ipykernel_484\\329254329.py:91: DeprecationWarning: Because of the shift to using AgentSet, in the future this attribute will return a dict withtype as key as AgentSet as value. Future behavior is available via RandomActivationByType._agents_by_type\n",
      "  agents = [agent for agent in self.schedule.agents_by_type[Non_corrupt_agent].values()]\n"
     ]
    },
    {
     "name": "stdout",
     "output_type": "stream",
     "text": [
      "Agent 2350 has eaten 4 sugar from sugar 670\n",
      "Agent 2356 has eaten 4.0 sugar from sugar 60\n",
      "Agent 2325 has eaten 4.0 sugar from sugar 161\n",
      "Agent 2299 has eaten 4 sugar from sugar 514\n",
      "Agent 2341 has eaten 4 sugar from sugar 2238\n",
      "Agent 2316 has eaten 4 sugar from sugar 302\n",
      "Agent 2319 has eaten 4 sugar from sugar 700\n",
      "Agent 2339 has eaten 4 sugar from sugar 442\n",
      "Agent 2336 has eaten 4 sugar from sugar 1910\n",
      "Agent 2321 has eaten 4.0 sugar from sugar 1584\n",
      "Agent 2374 has eaten 4 sugar from sugar 1253\n",
      "Agent 2345 has eaten 4 sugar from sugar 94\n",
      "Agent 2332 has eaten 4.0 sugar from sugar 44\n",
      "Agent 2352 has eaten 4 sugar from sugar 2049\n",
      "Agent 2373 has eaten 4 sugar from sugar 1843\n",
      "Agent 2370 has eaten 4 sugar from sugar 84\n",
      "Agent 2380 has eaten 4 sugar from sugar 251\n",
      "Agent 2383 has eaten 4 sugar from sugar 1315\n",
      "Agent 2322 has eaten 4 sugar from sugar 584\n",
      "Agent 2318 has eaten 3.0 sugar from sugar 167\n",
      "Agent 2297 has eaten 4 sugar from sugar 277\n",
      "Agent 2367 has eaten 4 sugar from sugar 1080\n",
      "Agent 2303 has eaten 4 sugar from sugar 462\n",
      "Agent 2369 has eaten 4 sugar from sugar 2167\n",
      "Agent 2308 has eaten 4 sugar from sugar 916\n",
      "Agent 2307 has eaten 4 sugar from sugar 1089\n",
      "Agent 2354 has eaten 4 sugar from sugar 2095\n",
      "Agent 2324 has eaten 4 sugar from sugar 1174\n",
      "Agent 2386 has eaten 4 sugar from sugar 427\n",
      "Agent 2359 has eaten 4 sugar from sugar 1261\n",
      "Agent 2334 has eaten 4 sugar from sugar 1688\n",
      "158\n"
     ]
    },
    {
     "name": "stderr",
     "output_type": "stream",
     "text": [
      "C:\\Users\\DELL\\AppData\\Local\\Temp\\ipykernel_484\\329254329.py:109: DeprecationWarning: Because of the shift to using AgentSet, in the future this attribute will return a dict withtype as key as AgentSet as value. Future behavior is available via RandomActivationByType._agents_by_type\n",
      "  for sugar_agent in self.schedule.agents_by_type[Sugar].values():\n",
      "C:\\Users\\DELL\\AppData\\Local\\Temp\\ipykernel_484\\329254329.py:101: DeprecationWarning: Because of the shift to using AgentSet, in the future this attribute will return a dict withtype as key as AgentSet as value. Future behavior is available via RandomActivationByType._agents_by_type\n",
      "  non_corrupt_agents_shuffle = list(self.schedule.agents_by_type[Non_corrupt_agent].values())\n",
      "C:\\Users\\DELL\\AppData\\Local\\Temp\\ipykernel_484\\329254329.py:91: DeprecationWarning: Because of the shift to using AgentSet, in the future this attribute will return a dict withtype as key as AgentSet as value. Future behavior is available via RandomActivationByType._agents_by_type\n",
      "  agents = [agent for agent in self.schedule.agents_by_type[Non_corrupt_agent].values()]\n"
     ]
    },
    {
     "name": "stdout",
     "output_type": "stream",
     "text": [
      "160\n"
     ]
    },
    {
     "name": "stderr",
     "output_type": "stream",
     "text": [
      "C:\\Users\\DELL\\AppData\\Local\\Temp\\ipykernel_484\\329254329.py:109: DeprecationWarning: Because of the shift to using AgentSet, in the future this attribute will return a dict withtype as key as AgentSet as value. Future behavior is available via RandomActivationByType._agents_by_type\n",
      "  for sugar_agent in self.schedule.agents_by_type[Sugar].values():\n",
      "C:\\Users\\DELL\\AppData\\Local\\Temp\\ipykernel_484\\329254329.py:101: DeprecationWarning: Because of the shift to using AgentSet, in the future this attribute will return a dict withtype as key as AgentSet as value. Future behavior is available via RandomActivationByType._agents_by_type\n",
      "  non_corrupt_agents_shuffle = list(self.schedule.agents_by_type[Non_corrupt_agent].values())\n",
      "C:\\Users\\DELL\\AppData\\Local\\Temp\\ipykernel_484\\329254329.py:91: DeprecationWarning: Because of the shift to using AgentSet, in the future this attribute will return a dict withtype as key as AgentSet as value. Future behavior is available via RandomActivationByType._agents_by_type\n",
      "  agents = [agent for agent in self.schedule.agents_by_type[Non_corrupt_agent].values()]\n"
     ]
    },
    {
     "name": "stdout",
     "output_type": "stream",
     "text": [
      "Agent 2356 has eaten 4.0 sugar from sugar 60\n",
      "Agent 2308 has eaten 4 sugar from sugar 916\n",
      "Agent 2297 has eaten 4 sugar from sugar 277\n",
      "Agent 2345 has eaten 4 sugar from sugar 94\n",
      "Agent 2341 has eaten 4 sugar from sugar 2238\n",
      "Agent 2318 has eaten 3.0 sugar from sugar 167\n",
      "Agent 2359 has eaten 4 sugar from sugar 1261\n",
      "Agent 2322 has eaten 4 sugar from sugar 584\n",
      "Agent 2350 has eaten 4 sugar from sugar 670\n",
      "Agent 2336 has eaten 4 sugar from sugar 1910\n",
      "Agent 2324 has eaten 4 sugar from sugar 1174\n",
      "Agent 2383 has eaten 4 sugar from sugar 1315\n",
      "Agent 2374 has eaten 4 sugar from sugar 1253\n",
      "Agent 2319 has eaten 4 sugar from sugar 700\n",
      "Agent 2321 has eaten 4.0 sugar from sugar 1584\n",
      "Agent 2369 has eaten 4 sugar from sugar 2167\n",
      "Agent 2354 has eaten 4 sugar from sugar 2095\n",
      "Agent 2367 has eaten 4 sugar from sugar 1080\n",
      "Agent 2303 has eaten 4 sugar from sugar 462\n",
      "Agent 2370 has eaten 4 sugar from sugar 84\n",
      "Agent 2386 has eaten 4 sugar from sugar 427\n",
      "Agent 2339 has eaten 4 sugar from sugar 442\n",
      "Agent 2373 has eaten 4 sugar from sugar 1843\n",
      "Agent 2316 has eaten 4 sugar from sugar 302\n",
      "Agent 2352 has eaten 4 sugar from sugar 2049\n",
      "Agent 2332 has eaten 4.0 sugar from sugar 44\n",
      "Agent 2307 has eaten 4 sugar from sugar 1089\n",
      "Agent 2380 has eaten 4 sugar from sugar 251\n",
      "Agent 2334 has eaten 4 sugar from sugar 1688\n",
      "Agent 2325 has eaten 4.0 sugar from sugar 161\n",
      "Agent 2299 has eaten 4 sugar from sugar 514\n",
      "162\n"
     ]
    },
    {
     "name": "stderr",
     "output_type": "stream",
     "text": [
      "C:\\Users\\DELL\\AppData\\Local\\Temp\\ipykernel_484\\329254329.py:109: DeprecationWarning: Because of the shift to using AgentSet, in the future this attribute will return a dict withtype as key as AgentSet as value. Future behavior is available via RandomActivationByType._agents_by_type\n",
      "  for sugar_agent in self.schedule.agents_by_type[Sugar].values():\n",
      "C:\\Users\\DELL\\AppData\\Local\\Temp\\ipykernel_484\\329254329.py:101: DeprecationWarning: Because of the shift to using AgentSet, in the future this attribute will return a dict withtype as key as AgentSet as value. Future behavior is available via RandomActivationByType._agents_by_type\n",
      "  non_corrupt_agents_shuffle = list(self.schedule.agents_by_type[Non_corrupt_agent].values())\n",
      "C:\\Users\\DELL\\AppData\\Local\\Temp\\ipykernel_484\\329254329.py:91: DeprecationWarning: Because of the shift to using AgentSet, in the future this attribute will return a dict withtype as key as AgentSet as value. Future behavior is available via RandomActivationByType._agents_by_type\n",
      "  agents = [agent for agent in self.schedule.agents_by_type[Non_corrupt_agent].values()]\n"
     ]
    },
    {
     "name": "stdout",
     "output_type": "stream",
     "text": [
      "164\n"
     ]
    },
    {
     "name": "stderr",
     "output_type": "stream",
     "text": [
      "C:\\Users\\DELL\\AppData\\Local\\Temp\\ipykernel_484\\329254329.py:109: DeprecationWarning: Because of the shift to using AgentSet, in the future this attribute will return a dict withtype as key as AgentSet as value. Future behavior is available via RandomActivationByType._agents_by_type\n",
      "  for sugar_agent in self.schedule.agents_by_type[Sugar].values():\n",
      "C:\\Users\\DELL\\AppData\\Local\\Temp\\ipykernel_484\\329254329.py:101: DeprecationWarning: Because of the shift to using AgentSet, in the future this attribute will return a dict withtype as key as AgentSet as value. Future behavior is available via RandomActivationByType._agents_by_type\n",
      "  non_corrupt_agents_shuffle = list(self.schedule.agents_by_type[Non_corrupt_agent].values())\n",
      "C:\\Users\\DELL\\AppData\\Local\\Temp\\ipykernel_484\\329254329.py:91: DeprecationWarning: Because of the shift to using AgentSet, in the future this attribute will return a dict withtype as key as AgentSet as value. Future behavior is available via RandomActivationByType._agents_by_type\n",
      "  agents = [agent for agent in self.schedule.agents_by_type[Non_corrupt_agent].values()]\n"
     ]
    },
    {
     "name": "stdout",
     "output_type": "stream",
     "text": [
      "Agent 2307 has eaten 4 sugar from sugar 1089\n",
      "Agent 2324 has eaten 4 sugar from sugar 1174\n",
      "Agent 2316 has eaten 4 sugar from sugar 302\n",
      "Agent 2308 has eaten 4 sugar from sugar 916\n",
      "Agent 2297 has eaten 4 sugar from sugar 277\n",
      "Agent 2369 has eaten 4 sugar from sugar 2167\n",
      "Agent 2352 has eaten 4 sugar from sugar 2049\n",
      "Agent 2322 has eaten 4 sugar from sugar 584\n",
      "Agent 2383 has eaten 4 sugar from sugar 1315\n",
      "Agent 2334 has eaten 4 sugar from sugar 1688\n",
      "Agent 2380 has eaten 4 sugar from sugar 251\n",
      "Agent 2325 has eaten 4.0 sugar from sugar 161\n",
      "Agent 2345 has eaten 4 sugar from sugar 94\n",
      "Agent 2339 has eaten 4 sugar from sugar 442\n",
      "Agent 2350 has eaten 4 sugar from sugar 670\n",
      "Agent 2373 has eaten 4 sugar from sugar 1843\n",
      "Agent 2386 has eaten 4 sugar from sugar 427\n",
      "Agent 2356 has eaten 4.0 sugar from sugar 60\n",
      "Agent 2354 has eaten 4 sugar from sugar 2095\n",
      "Agent 2299 has eaten 4 sugar from sugar 514\n",
      "Agent 2341 has eaten 4 sugar from sugar 2238\n",
      "Agent 2303 has eaten 4 sugar from sugar 462\n",
      "Agent 2318 has eaten 3.0 sugar from sugar 167\n",
      "Agent 2321 has eaten 4.0 sugar from sugar 1584\n",
      "Agent 2374 has eaten 4 sugar from sugar 1253\n",
      "Agent 2359 has eaten 4 sugar from sugar 1261\n",
      "Agent 2332 has eaten 4.0 sugar from sugar 44\n",
      "Agent 2336 has eaten 4 sugar from sugar 1910\n",
      "Agent 2370 has eaten 4 sugar from sugar 84\n",
      "Agent 2367 has eaten 4 sugar from sugar 1080\n",
      "Agent 2319 has eaten 4 sugar from sugar 700\n",
      "166\n"
     ]
    },
    {
     "name": "stderr",
     "output_type": "stream",
     "text": [
      "C:\\Users\\DELL\\AppData\\Local\\Temp\\ipykernel_484\\329254329.py:109: DeprecationWarning: Because of the shift to using AgentSet, in the future this attribute will return a dict withtype as key as AgentSet as value. Future behavior is available via RandomActivationByType._agents_by_type\n",
      "  for sugar_agent in self.schedule.agents_by_type[Sugar].values():\n",
      "C:\\Users\\DELL\\AppData\\Local\\Temp\\ipykernel_484\\329254329.py:101: DeprecationWarning: Because of the shift to using AgentSet, in the future this attribute will return a dict withtype as key as AgentSet as value. Future behavior is available via RandomActivationByType._agents_by_type\n",
      "  non_corrupt_agents_shuffle = list(self.schedule.agents_by_type[Non_corrupt_agent].values())\n",
      "C:\\Users\\DELL\\AppData\\Local\\Temp\\ipykernel_484\\329254329.py:91: DeprecationWarning: Because of the shift to using AgentSet, in the future this attribute will return a dict withtype as key as AgentSet as value. Future behavior is available via RandomActivationByType._agents_by_type\n",
      "  agents = [agent for agent in self.schedule.agents_by_type[Non_corrupt_agent].values()]\n"
     ]
    },
    {
     "name": "stdout",
     "output_type": "stream",
     "text": [
      "168\n"
     ]
    },
    {
     "name": "stderr",
     "output_type": "stream",
     "text": [
      "C:\\Users\\DELL\\AppData\\Local\\Temp\\ipykernel_484\\329254329.py:109: DeprecationWarning: Because of the shift to using AgentSet, in the future this attribute will return a dict withtype as key as AgentSet as value. Future behavior is available via RandomActivationByType._agents_by_type\n",
      "  for sugar_agent in self.schedule.agents_by_type[Sugar].values():\n",
      "C:\\Users\\DELL\\AppData\\Local\\Temp\\ipykernel_484\\329254329.py:101: DeprecationWarning: Because of the shift to using AgentSet, in the future this attribute will return a dict withtype as key as AgentSet as value. Future behavior is available via RandomActivationByType._agents_by_type\n",
      "  non_corrupt_agents_shuffle = list(self.schedule.agents_by_type[Non_corrupt_agent].values())\n",
      "C:\\Users\\DELL\\AppData\\Local\\Temp\\ipykernel_484\\329254329.py:91: DeprecationWarning: Because of the shift to using AgentSet, in the future this attribute will return a dict withtype as key as AgentSet as value. Future behavior is available via RandomActivationByType._agents_by_type\n",
      "  agents = [agent for agent in self.schedule.agents_by_type[Non_corrupt_agent].values()]\n"
     ]
    },
    {
     "name": "stdout",
     "output_type": "stream",
     "text": [
      "Agent 2319 has eaten 4 sugar from sugar 700\n",
      "Agent 2322 has eaten 4 sugar from sugar 584\n",
      "Agent 2339 has eaten 4 sugar from sugar 442\n",
      "Agent 2370 has eaten 4 sugar from sugar 84\n",
      "Agent 2321 has eaten 4.0 sugar from sugar 1584\n",
      "Agent 2324 has eaten 4 sugar from sugar 1174\n",
      "Agent 2380 has eaten 4 sugar from sugar 251\n",
      "Agent 2299 has eaten 4 sugar from sugar 514\n",
      "Agent 2374 has eaten 4 sugar from sugar 1253\n",
      "Agent 2386 has eaten 4 sugar from sugar 427\n",
      "Agent 2332 has eaten 4.0 sugar from sugar 44\n",
      "Agent 2334 has eaten 4 sugar from sugar 1688\n",
      "Agent 2373 has eaten 4 sugar from sugar 1843\n",
      "Agent 2307 has eaten 4 sugar from sugar 1089\n",
      "Agent 2359 has eaten 4 sugar from sugar 1261\n",
      "Agent 2297 has eaten 4 sugar from sugar 277\n",
      "Agent 2352 has eaten 4 sugar from sugar 2049\n",
      "Agent 2318 has eaten 3.0 sugar from sugar 167\n",
      "Agent 2369 has eaten 4 sugar from sugar 2167\n",
      "Agent 2367 has eaten 4 sugar from sugar 1080\n",
      "Agent 2350 has eaten 4 sugar from sugar 670\n",
      "Agent 2354 has eaten 4 sugar from sugar 2095\n",
      "Agent 2341 has eaten 4 sugar from sugar 2238\n",
      "Agent 2345 has eaten 4 sugar from sugar 94\n",
      "Agent 2383 has eaten 4 sugar from sugar 1315\n",
      "Agent 2356 has eaten 4.0 sugar from sugar 60\n",
      "Agent 2336 has eaten 4 sugar from sugar 1910\n",
      "Agent 2325 has eaten 4.0 sugar from sugar 161\n",
      "Agent 2316 has eaten 4 sugar from sugar 302\n",
      "Agent 2308 has eaten 4 sugar from sugar 916\n",
      "Agent 2303 has eaten 4 sugar from sugar 462\n",
      "170\n"
     ]
    },
    {
     "name": "stderr",
     "output_type": "stream",
     "text": [
      "C:\\Users\\DELL\\AppData\\Local\\Temp\\ipykernel_484\\329254329.py:109: DeprecationWarning: Because of the shift to using AgentSet, in the future this attribute will return a dict withtype as key as AgentSet as value. Future behavior is available via RandomActivationByType._agents_by_type\n",
      "  for sugar_agent in self.schedule.agents_by_type[Sugar].values():\n",
      "C:\\Users\\DELL\\AppData\\Local\\Temp\\ipykernel_484\\329254329.py:101: DeprecationWarning: Because of the shift to using AgentSet, in the future this attribute will return a dict withtype as key as AgentSet as value. Future behavior is available via RandomActivationByType._agents_by_type\n",
      "  non_corrupt_agents_shuffle = list(self.schedule.agents_by_type[Non_corrupt_agent].values())\n",
      "C:\\Users\\DELL\\AppData\\Local\\Temp\\ipykernel_484\\329254329.py:91: DeprecationWarning: Because of the shift to using AgentSet, in the future this attribute will return a dict withtype as key as AgentSet as value. Future behavior is available via RandomActivationByType._agents_by_type\n",
      "  agents = [agent for agent in self.schedule.agents_by_type[Non_corrupt_agent].values()]\n"
     ]
    },
    {
     "name": "stdout",
     "output_type": "stream",
     "text": [
      "172\n"
     ]
    },
    {
     "name": "stderr",
     "output_type": "stream",
     "text": [
      "C:\\Users\\DELL\\AppData\\Local\\Temp\\ipykernel_484\\329254329.py:109: DeprecationWarning: Because of the shift to using AgentSet, in the future this attribute will return a dict withtype as key as AgentSet as value. Future behavior is available via RandomActivationByType._agents_by_type\n",
      "  for sugar_agent in self.schedule.agents_by_type[Sugar].values():\n",
      "C:\\Users\\DELL\\AppData\\Local\\Temp\\ipykernel_484\\329254329.py:101: DeprecationWarning: Because of the shift to using AgentSet, in the future this attribute will return a dict withtype as key as AgentSet as value. Future behavior is available via RandomActivationByType._agents_by_type\n",
      "  non_corrupt_agents_shuffle = list(self.schedule.agents_by_type[Non_corrupt_agent].values())\n",
      "C:\\Users\\DELL\\AppData\\Local\\Temp\\ipykernel_484\\329254329.py:91: DeprecationWarning: Because of the shift to using AgentSet, in the future this attribute will return a dict withtype as key as AgentSet as value. Future behavior is available via RandomActivationByType._agents_by_type\n",
      "  agents = [agent for agent in self.schedule.agents_by_type[Non_corrupt_agent].values()]\n"
     ]
    },
    {
     "name": "stdout",
     "output_type": "stream",
     "text": [
      "Agent 2374 has eaten 4 sugar from sugar 1253\n",
      "Agent 2324 has eaten 4 sugar from sugar 1174\n",
      "Agent 2383 has eaten 4 sugar from sugar 1315\n",
      "Agent 2369 has eaten 4 sugar from sugar 2167\n",
      "Agent 2322 has eaten 4 sugar from sugar 584\n",
      "Agent 2354 has eaten 4 sugar from sugar 2095\n",
      "Agent 2380 has eaten 4 sugar from sugar 251\n",
      "Agent 2297 has eaten 4 sugar from sugar 277\n",
      "Agent 2370 has eaten 4 sugar from sugar 84\n",
      "Agent 2339 has eaten 4 sugar from sugar 442\n",
      "Agent 2308 has eaten 4 sugar from sugar 916\n",
      "Agent 2345 has eaten 4 sugar from sugar 94\n",
      "Agent 2367 has eaten 4 sugar from sugar 1080\n",
      "Agent 2386 has eaten 4 sugar from sugar 427\n",
      "Agent 2341 has eaten 4 sugar from sugar 2238\n",
      "Agent 2356 has eaten 4.0 sugar from sugar 60\n",
      "Agent 2350 has eaten 4 sugar from sugar 670\n",
      "Agent 2332 has eaten 4.0 sugar from sugar 44\n",
      "Agent 2303 has eaten 4 sugar from sugar 462\n",
      "Agent 2325 has eaten 4.0 sugar from sugar 161\n",
      "Agent 2316 has eaten 4 sugar from sugar 302\n",
      "Agent 2352 has eaten 4 sugar from sugar 2049\n",
      "Agent 2318 has eaten 3.0 sugar from sugar 167\n",
      "Agent 2336 has eaten 4 sugar from sugar 1910\n",
      "Agent 2307 has eaten 4 sugar from sugar 1089\n",
      "Agent 2334 has eaten 4 sugar from sugar 1688\n",
      "Agent 2299 has eaten 4 sugar from sugar 514\n",
      "Agent 2321 has eaten 4.0 sugar from sugar 1584\n",
      "Agent 2373 has eaten 4 sugar from sugar 1843\n",
      "Agent 2359 has eaten 4 sugar from sugar 1261\n",
      "Agent 2319 has eaten 4 sugar from sugar 700\n",
      "174\n"
     ]
    },
    {
     "name": "stderr",
     "output_type": "stream",
     "text": [
      "C:\\Users\\DELL\\AppData\\Local\\Temp\\ipykernel_484\\329254329.py:109: DeprecationWarning: Because of the shift to using AgentSet, in the future this attribute will return a dict withtype as key as AgentSet as value. Future behavior is available via RandomActivationByType._agents_by_type\n",
      "  for sugar_agent in self.schedule.agents_by_type[Sugar].values():\n",
      "C:\\Users\\DELL\\AppData\\Local\\Temp\\ipykernel_484\\329254329.py:101: DeprecationWarning: Because of the shift to using AgentSet, in the future this attribute will return a dict withtype as key as AgentSet as value. Future behavior is available via RandomActivationByType._agents_by_type\n",
      "  non_corrupt_agents_shuffle = list(self.schedule.agents_by_type[Non_corrupt_agent].values())\n",
      "C:\\Users\\DELL\\AppData\\Local\\Temp\\ipykernel_484\\329254329.py:91: DeprecationWarning: Because of the shift to using AgentSet, in the future this attribute will return a dict withtype as key as AgentSet as value. Future behavior is available via RandomActivationByType._agents_by_type\n",
      "  agents = [agent for agent in self.schedule.agents_by_type[Non_corrupt_agent].values()]\n"
     ]
    },
    {
     "name": "stdout",
     "output_type": "stream",
     "text": [
      "176\n"
     ]
    },
    {
     "name": "stderr",
     "output_type": "stream",
     "text": [
      "C:\\Users\\DELL\\AppData\\Local\\Temp\\ipykernel_484\\329254329.py:109: DeprecationWarning: Because of the shift to using AgentSet, in the future this attribute will return a dict withtype as key as AgentSet as value. Future behavior is available via RandomActivationByType._agents_by_type\n",
      "  for sugar_agent in self.schedule.agents_by_type[Sugar].values():\n",
      "C:\\Users\\DELL\\AppData\\Local\\Temp\\ipykernel_484\\329254329.py:101: DeprecationWarning: Because of the shift to using AgentSet, in the future this attribute will return a dict withtype as key as AgentSet as value. Future behavior is available via RandomActivationByType._agents_by_type\n",
      "  non_corrupt_agents_shuffle = list(self.schedule.agents_by_type[Non_corrupt_agent].values())\n",
      "C:\\Users\\DELL\\AppData\\Local\\Temp\\ipykernel_484\\329254329.py:91: DeprecationWarning: Because of the shift to using AgentSet, in the future this attribute will return a dict withtype as key as AgentSet as value. Future behavior is available via RandomActivationByType._agents_by_type\n",
      "  agents = [agent for agent in self.schedule.agents_by_type[Non_corrupt_agent].values()]\n"
     ]
    },
    {
     "name": "stdout",
     "output_type": "stream",
     "text": [
      "Agent 2324 has eaten 4 sugar from sugar 1174\n",
      "Agent 2334 has eaten 4 sugar from sugar 1688\n",
      "Agent 2322 has eaten 4 sugar from sugar 584\n",
      "Agent 2380 has eaten 4 sugar from sugar 251\n",
      "Agent 2321 has eaten 4.0 sugar from sugar 1584\n",
      "Agent 2303 has eaten 4 sugar from sugar 462\n",
      "Agent 2325 has eaten 4.0 sugar from sugar 161\n",
      "Agent 2369 has eaten 4 sugar from sugar 2167\n",
      "Agent 2356 has eaten 4.0 sugar from sugar 60\n",
      "Agent 2370 has eaten 4 sugar from sugar 84\n",
      "Agent 2354 has eaten 4 sugar from sugar 2095\n",
      "Agent 2319 has eaten 4 sugar from sugar 700\n",
      "Agent 2383 has eaten 4 sugar from sugar 1315\n",
      "Agent 2316 has eaten 4 sugar from sugar 302\n",
      "Agent 2373 has eaten 4 sugar from sugar 1843\n",
      "Agent 2339 has eaten 4 sugar from sugar 442\n",
      "Agent 2350 has eaten 4 sugar from sugar 670\n",
      "Agent 2318 has eaten 3.0 sugar from sugar 167\n",
      "Agent 2345 has eaten 4 sugar from sugar 94\n",
      "Agent 2299 has eaten 4 sugar from sugar 514\n",
      "Agent 2374 has eaten 4 sugar from sugar 1253\n",
      "Agent 2332 has eaten 4.0 sugar from sugar 44\n",
      "Agent 2336 has eaten 4 sugar from sugar 1910\n",
      "Agent 2352 has eaten 4 sugar from sugar 2049\n",
      "Agent 2307 has eaten 4 sugar from sugar 1089\n",
      "Agent 2297 has eaten 4 sugar from sugar 277\n",
      "Agent 2359 has eaten 4 sugar from sugar 1261\n",
      "Agent 2341 has eaten 4 sugar from sugar 2238\n",
      "Agent 2367 has eaten 4 sugar from sugar 1080\n",
      "Agent 2308 has eaten 4 sugar from sugar 916\n",
      "Agent 2386 has eaten 4 sugar from sugar 427\n",
      "178\n"
     ]
    },
    {
     "name": "stderr",
     "output_type": "stream",
     "text": [
      "C:\\Users\\DELL\\AppData\\Local\\Temp\\ipykernel_484\\329254329.py:109: DeprecationWarning: Because of the shift to using AgentSet, in the future this attribute will return a dict withtype as key as AgentSet as value. Future behavior is available via RandomActivationByType._agents_by_type\n",
      "  for sugar_agent in self.schedule.agents_by_type[Sugar].values():\n",
      "C:\\Users\\DELL\\AppData\\Local\\Temp\\ipykernel_484\\329254329.py:101: DeprecationWarning: Because of the shift to using AgentSet, in the future this attribute will return a dict withtype as key as AgentSet as value. Future behavior is available via RandomActivationByType._agents_by_type\n",
      "  non_corrupt_agents_shuffle = list(self.schedule.agents_by_type[Non_corrupt_agent].values())\n",
      "C:\\Users\\DELL\\AppData\\Local\\Temp\\ipykernel_484\\329254329.py:91: DeprecationWarning: Because of the shift to using AgentSet, in the future this attribute will return a dict withtype as key as AgentSet as value. Future behavior is available via RandomActivationByType._agents_by_type\n",
      "  agents = [agent for agent in self.schedule.agents_by_type[Non_corrupt_agent].values()]\n"
     ]
    },
    {
     "name": "stdout",
     "output_type": "stream",
     "text": [
      "180\n"
     ]
    },
    {
     "name": "stderr",
     "output_type": "stream",
     "text": [
      "C:\\Users\\DELL\\AppData\\Local\\Temp\\ipykernel_484\\329254329.py:109: DeprecationWarning: Because of the shift to using AgentSet, in the future this attribute will return a dict withtype as key as AgentSet as value. Future behavior is available via RandomActivationByType._agents_by_type\n",
      "  for sugar_agent in self.schedule.agents_by_type[Sugar].values():\n",
      "C:\\Users\\DELL\\AppData\\Local\\Temp\\ipykernel_484\\329254329.py:101: DeprecationWarning: Because of the shift to using AgentSet, in the future this attribute will return a dict withtype as key as AgentSet as value. Future behavior is available via RandomActivationByType._agents_by_type\n",
      "  non_corrupt_agents_shuffle = list(self.schedule.agents_by_type[Non_corrupt_agent].values())\n",
      "C:\\Users\\DELL\\AppData\\Local\\Temp\\ipykernel_484\\329254329.py:91: DeprecationWarning: Because of the shift to using AgentSet, in the future this attribute will return a dict withtype as key as AgentSet as value. Future behavior is available via RandomActivationByType._agents_by_type\n",
      "  agents = [agent for agent in self.schedule.agents_by_type[Non_corrupt_agent].values()]\n"
     ]
    },
    {
     "name": "stdout",
     "output_type": "stream",
     "text": [
      "Agent 2299 has eaten 4 sugar from sugar 514\n",
      "Agent 2339 has eaten 4 sugar from sugar 442\n",
      "Agent 2332 has eaten 4.0 sugar from sugar 44\n",
      "Agent 2354 has eaten 4 sugar from sugar 2095\n",
      "Agent 2367 has eaten 4 sugar from sugar 1080\n",
      "Agent 2373 has eaten 4 sugar from sugar 1843\n",
      "Agent 2386 has eaten 4 sugar from sugar 427\n",
      "Agent 2356 has eaten 4.0 sugar from sugar 60\n",
      "Agent 2334 has eaten 4 sugar from sugar 1688\n",
      "Agent 2369 has eaten 4 sugar from sugar 2167\n",
      "Agent 2307 has eaten 4 sugar from sugar 1089\n",
      "Agent 2359 has eaten 4 sugar from sugar 1261\n",
      "Agent 2341 has eaten 4 sugar from sugar 2238\n",
      "Agent 2352 has eaten 4 sugar from sugar 2049\n",
      "Agent 2324 has eaten 4 sugar from sugar 1174\n",
      "Agent 2316 has eaten 4 sugar from sugar 302\n",
      "Agent 2303 has eaten 4 sugar from sugar 462\n",
      "Agent 2319 has eaten 4 sugar from sugar 700\n",
      "Agent 2308 has eaten 4 sugar from sugar 916\n",
      "Agent 2336 has eaten 4 sugar from sugar 1910\n",
      "Agent 2370 has eaten 4 sugar from sugar 84\n",
      "Agent 2321 has eaten 4.0 sugar from sugar 1584\n",
      "Agent 2322 has eaten 4 sugar from sugar 584\n",
      "Agent 2318 has eaten 3.0 sugar from sugar 167\n",
      "Agent 2380 has eaten 4 sugar from sugar 251\n",
      "Agent 2383 has eaten 4 sugar from sugar 1315\n",
      "Agent 2374 has eaten 4 sugar from sugar 1253\n",
      "Agent 2345 has eaten 4 sugar from sugar 94\n",
      "Agent 2297 has eaten 4 sugar from sugar 277\n",
      "Agent 2350 has eaten 4 sugar from sugar 670\n",
      "Agent 2325 has eaten 4.0 sugar from sugar 161\n",
      "182\n"
     ]
    },
    {
     "name": "stderr",
     "output_type": "stream",
     "text": [
      "C:\\Users\\DELL\\AppData\\Local\\Temp\\ipykernel_484\\329254329.py:109: DeprecationWarning: Because of the shift to using AgentSet, in the future this attribute will return a dict withtype as key as AgentSet as value. Future behavior is available via RandomActivationByType._agents_by_type\n",
      "  for sugar_agent in self.schedule.agents_by_type[Sugar].values():\n",
      "C:\\Users\\DELL\\AppData\\Local\\Temp\\ipykernel_484\\329254329.py:101: DeprecationWarning: Because of the shift to using AgentSet, in the future this attribute will return a dict withtype as key as AgentSet as value. Future behavior is available via RandomActivationByType._agents_by_type\n",
      "  non_corrupt_agents_shuffle = list(self.schedule.agents_by_type[Non_corrupt_agent].values())\n",
      "C:\\Users\\DELL\\AppData\\Local\\Temp\\ipykernel_484\\329254329.py:91: DeprecationWarning: Because of the shift to using AgentSet, in the future this attribute will return a dict withtype as key as AgentSet as value. Future behavior is available via RandomActivationByType._agents_by_type\n",
      "  agents = [agent for agent in self.schedule.agents_by_type[Non_corrupt_agent].values()]\n"
     ]
    },
    {
     "name": "stdout",
     "output_type": "stream",
     "text": [
      "184\n"
     ]
    },
    {
     "name": "stderr",
     "output_type": "stream",
     "text": [
      "C:\\Users\\DELL\\AppData\\Local\\Temp\\ipykernel_484\\329254329.py:109: DeprecationWarning: Because of the shift to using AgentSet, in the future this attribute will return a dict withtype as key as AgentSet as value. Future behavior is available via RandomActivationByType._agents_by_type\n",
      "  for sugar_agent in self.schedule.agents_by_type[Sugar].values():\n",
      "C:\\Users\\DELL\\AppData\\Local\\Temp\\ipykernel_484\\329254329.py:101: DeprecationWarning: Because of the shift to using AgentSet, in the future this attribute will return a dict withtype as key as AgentSet as value. Future behavior is available via RandomActivationByType._agents_by_type\n",
      "  non_corrupt_agents_shuffle = list(self.schedule.agents_by_type[Non_corrupt_agent].values())\n",
      "C:\\Users\\DELL\\AppData\\Local\\Temp\\ipykernel_484\\329254329.py:91: DeprecationWarning: Because of the shift to using AgentSet, in the future this attribute will return a dict withtype as key as AgentSet as value. Future behavior is available via RandomActivationByType._agents_by_type\n",
      "  agents = [agent for agent in self.schedule.agents_by_type[Non_corrupt_agent].values()]\n"
     ]
    },
    {
     "name": "stdout",
     "output_type": "stream",
     "text": [
      "Agent 2370 has eaten 4 sugar from sugar 84\n",
      "Agent 2380 has eaten 4 sugar from sugar 251\n",
      "Agent 2318 has eaten 3.0 sugar from sugar 167\n",
      "Agent 2373 has eaten 4 sugar from sugar 1843\n",
      "Agent 2383 has eaten 4 sugar from sugar 1315\n",
      "Agent 2308 has eaten 4 sugar from sugar 916\n",
      "Agent 2324 has eaten 4 sugar from sugar 1174\n",
      "Agent 2350 has eaten 4 sugar from sugar 670\n",
      "Agent 2386 has eaten 4 sugar from sugar 427\n",
      "Agent 2303 has eaten 4 sugar from sugar 462\n",
      "Agent 2359 has eaten 4 sugar from sugar 1261\n",
      "Agent 2334 has eaten 4 sugar from sugar 1688\n",
      "Agent 2369 has eaten 4 sugar from sugar 2167\n",
      "Agent 2354 has eaten 4 sugar from sugar 2095\n",
      "Agent 2307 has eaten 4 sugar from sugar 1089\n",
      "Agent 2332 has eaten 4.0 sugar from sugar 44\n",
      "Agent 2325 has eaten 4.0 sugar from sugar 161\n",
      "Agent 2319 has eaten 4 sugar from sugar 700\n",
      "Agent 2374 has eaten 4 sugar from sugar 1253\n",
      "Agent 2299 has eaten 4 sugar from sugar 514\n",
      "Agent 2336 has eaten 4 sugar from sugar 1910\n",
      "Agent 2345 has eaten 4 sugar from sugar 94\n",
      "Agent 2322 has eaten 4 sugar from sugar 584\n",
      "Agent 2297 has eaten 4 sugar from sugar 277\n",
      "Agent 2321 has eaten 4.0 sugar from sugar 1584\n",
      "Agent 2352 has eaten 4 sugar from sugar 2049\n",
      "Agent 2341 has eaten 4 sugar from sugar 2238\n",
      "Agent 2356 has eaten 4.0 sugar from sugar 60\n",
      "Agent 2339 has eaten 4 sugar from sugar 442\n",
      "Agent 2316 has eaten 4 sugar from sugar 302\n",
      "Agent 2367 has eaten 4 sugar from sugar 1080\n",
      "186\n"
     ]
    },
    {
     "name": "stderr",
     "output_type": "stream",
     "text": [
      "C:\\Users\\DELL\\AppData\\Local\\Temp\\ipykernel_484\\329254329.py:109: DeprecationWarning: Because of the shift to using AgentSet, in the future this attribute will return a dict withtype as key as AgentSet as value. Future behavior is available via RandomActivationByType._agents_by_type\n",
      "  for sugar_agent in self.schedule.agents_by_type[Sugar].values():\n",
      "C:\\Users\\DELL\\AppData\\Local\\Temp\\ipykernel_484\\329254329.py:101: DeprecationWarning: Because of the shift to using AgentSet, in the future this attribute will return a dict withtype as key as AgentSet as value. Future behavior is available via RandomActivationByType._agents_by_type\n",
      "  non_corrupt_agents_shuffle = list(self.schedule.agents_by_type[Non_corrupt_agent].values())\n",
      "C:\\Users\\DELL\\AppData\\Local\\Temp\\ipykernel_484\\329254329.py:91: DeprecationWarning: Because of the shift to using AgentSet, in the future this attribute will return a dict withtype as key as AgentSet as value. Future behavior is available via RandomActivationByType._agents_by_type\n",
      "  agents = [agent for agent in self.schedule.agents_by_type[Non_corrupt_agent].values()]\n"
     ]
    },
    {
     "name": "stdout",
     "output_type": "stream",
     "text": [
      "188\n"
     ]
    },
    {
     "name": "stderr",
     "output_type": "stream",
     "text": [
      "C:\\Users\\DELL\\AppData\\Local\\Temp\\ipykernel_484\\329254329.py:109: DeprecationWarning: Because of the shift to using AgentSet, in the future this attribute will return a dict withtype as key as AgentSet as value. Future behavior is available via RandomActivationByType._agents_by_type\n",
      "  for sugar_agent in self.schedule.agents_by_type[Sugar].values():\n",
      "C:\\Users\\DELL\\AppData\\Local\\Temp\\ipykernel_484\\329254329.py:101: DeprecationWarning: Because of the shift to using AgentSet, in the future this attribute will return a dict withtype as key as AgentSet as value. Future behavior is available via RandomActivationByType._agents_by_type\n",
      "  non_corrupt_agents_shuffle = list(self.schedule.agents_by_type[Non_corrupt_agent].values())\n",
      "C:\\Users\\DELL\\AppData\\Local\\Temp\\ipykernel_484\\329254329.py:91: DeprecationWarning: Because of the shift to using AgentSet, in the future this attribute will return a dict withtype as key as AgentSet as value. Future behavior is available via RandomActivationByType._agents_by_type\n",
      "  agents = [agent for agent in self.schedule.agents_by_type[Non_corrupt_agent].values()]\n"
     ]
    },
    {
     "name": "stdout",
     "output_type": "stream",
     "text": [
      "Agent 2307 has eaten 4 sugar from sugar 1089\n",
      "Agent 2299 has eaten 4 sugar from sugar 514\n",
      "Agent 2332 has eaten 4.0 sugar from sugar 44\n",
      "Agent 2339 has eaten 4 sugar from sugar 442\n",
      "Agent 2370 has eaten 4 sugar from sugar 84\n",
      "Agent 2356 has eaten 4.0 sugar from sugar 60\n",
      "Agent 2341 has eaten 4 sugar from sugar 2238\n",
      "Agent 2369 has eaten 4 sugar from sugar 2167\n",
      "Agent 2308 has eaten 4 sugar from sugar 916\n",
      "Agent 2297 has eaten 4 sugar from sugar 277\n",
      "Agent 2374 has eaten 4 sugar from sugar 1253\n",
      "Agent 2373 has eaten 4 sugar from sugar 1843\n",
      "Agent 2352 has eaten 4 sugar from sugar 2049\n",
      "Agent 2367 has eaten 4 sugar from sugar 1080\n",
      "Agent 2325 has eaten 4.0 sugar from sugar 161\n",
      "Agent 2350 has eaten 4 sugar from sugar 670\n",
      "Agent 2316 has eaten 4 sugar from sugar 302\n",
      "Agent 2336 has eaten 4 sugar from sugar 1910\n",
      "Agent 2318 has eaten 3.0 sugar from sugar 167\n",
      "Agent 2359 has eaten 4 sugar from sugar 1261\n",
      "Agent 2386 has eaten 4 sugar from sugar 427\n",
      "Agent 2334 has eaten 4 sugar from sugar 1688\n",
      "Agent 2303 has eaten 4 sugar from sugar 462\n",
      "Agent 2354 has eaten 4 sugar from sugar 2095\n",
      "Agent 2319 has eaten 4 sugar from sugar 700\n",
      "Agent 2345 has eaten 4 sugar from sugar 94\n",
      "Agent 2380 has eaten 4 sugar from sugar 251\n",
      "Agent 2324 has eaten 4 sugar from sugar 1174\n",
      "Agent 2322 has eaten 4 sugar from sugar 584\n",
      "Agent 2321 has eaten 4.0 sugar from sugar 1584\n",
      "Agent 2383 has eaten 4 sugar from sugar 1315\n",
      "190\n"
     ]
    },
    {
     "name": "stderr",
     "output_type": "stream",
     "text": [
      "C:\\Users\\DELL\\AppData\\Local\\Temp\\ipykernel_484\\329254329.py:109: DeprecationWarning: Because of the shift to using AgentSet, in the future this attribute will return a dict withtype as key as AgentSet as value. Future behavior is available via RandomActivationByType._agents_by_type\n",
      "  for sugar_agent in self.schedule.agents_by_type[Sugar].values():\n",
      "C:\\Users\\DELL\\AppData\\Local\\Temp\\ipykernel_484\\329254329.py:101: DeprecationWarning: Because of the shift to using AgentSet, in the future this attribute will return a dict withtype as key as AgentSet as value. Future behavior is available via RandomActivationByType._agents_by_type\n",
      "  non_corrupt_agents_shuffle = list(self.schedule.agents_by_type[Non_corrupt_agent].values())\n",
      "C:\\Users\\DELL\\AppData\\Local\\Temp\\ipykernel_484\\329254329.py:91: DeprecationWarning: Because of the shift to using AgentSet, in the future this attribute will return a dict withtype as key as AgentSet as value. Future behavior is available via RandomActivationByType._agents_by_type\n",
      "  agents = [agent for agent in self.schedule.agents_by_type[Non_corrupt_agent].values()]\n"
     ]
    },
    {
     "name": "stdout",
     "output_type": "stream",
     "text": [
      "192\n"
     ]
    },
    {
     "name": "stderr",
     "output_type": "stream",
     "text": [
      "C:\\Users\\DELL\\AppData\\Local\\Temp\\ipykernel_484\\329254329.py:109: DeprecationWarning: Because of the shift to using AgentSet, in the future this attribute will return a dict withtype as key as AgentSet as value. Future behavior is available via RandomActivationByType._agents_by_type\n",
      "  for sugar_agent in self.schedule.agents_by_type[Sugar].values():\n",
      "C:\\Users\\DELL\\AppData\\Local\\Temp\\ipykernel_484\\329254329.py:101: DeprecationWarning: Because of the shift to using AgentSet, in the future this attribute will return a dict withtype as key as AgentSet as value. Future behavior is available via RandomActivationByType._agents_by_type\n",
      "  non_corrupt_agents_shuffle = list(self.schedule.agents_by_type[Non_corrupt_agent].values())\n",
      "C:\\Users\\DELL\\AppData\\Local\\Temp\\ipykernel_484\\329254329.py:91: DeprecationWarning: Because of the shift to using AgentSet, in the future this attribute will return a dict withtype as key as AgentSet as value. Future behavior is available via RandomActivationByType._agents_by_type\n",
      "  agents = [agent for agent in self.schedule.agents_by_type[Non_corrupt_agent].values()]\n"
     ]
    },
    {
     "name": "stdout",
     "output_type": "stream",
     "text": [
      "Agent 2332 has eaten 4.0 sugar from sugar 44\n",
      "Agent 2383 has eaten 4 sugar from sugar 1315\n",
      "Agent 2369 has eaten 4 sugar from sugar 2167\n",
      "Agent 2319 has eaten 4 sugar from sugar 700\n",
      "Agent 2386 has eaten 4 sugar from sugar 427\n",
      "Agent 2345 has eaten 4 sugar from sugar 94\n",
      "Agent 2321 has eaten 4.0 sugar from sugar 1584\n",
      "Agent 2336 has eaten 4 sugar from sugar 1910\n",
      "Agent 2318 has eaten 3.0 sugar from sugar 167\n",
      "Agent 2297 has eaten 4 sugar from sugar 277\n",
      "Agent 2308 has eaten 4 sugar from sugar 916\n",
      "Agent 2303 has eaten 4 sugar from sugar 462\n",
      "Agent 2352 has eaten 4 sugar from sugar 2049\n",
      "Agent 2316 has eaten 4 sugar from sugar 302\n",
      "Agent 2334 has eaten 4 sugar from sugar 1688\n",
      "Agent 2380 has eaten 4 sugar from sugar 251\n",
      "Agent 2325 has eaten 4.0 sugar from sugar 161\n",
      "Agent 2354 has eaten 4 sugar from sugar 2095\n",
      "Agent 2307 has eaten 4 sugar from sugar 1089\n",
      "Agent 2359 has eaten 4 sugar from sugar 1261\n",
      "Agent 2350 has eaten 4 sugar from sugar 670\n",
      "Agent 2374 has eaten 4 sugar from sugar 1253\n",
      "Agent 2322 has eaten 4 sugar from sugar 584\n",
      "Agent 2367 has eaten 4 sugar from sugar 1080\n",
      "Agent 2299 has eaten 4 sugar from sugar 514\n",
      "Agent 2324 has eaten 4 sugar from sugar 1174\n",
      "Agent 2370 has eaten 4 sugar from sugar 84\n",
      "Agent 2373 has eaten 4 sugar from sugar 1843\n",
      "Agent 2341 has eaten 4 sugar from sugar 2238\n",
      "Agent 2356 has eaten 4.0 sugar from sugar 60\n",
      "Agent 2339 has eaten 4 sugar from sugar 442\n",
      "194\n"
     ]
    },
    {
     "name": "stderr",
     "output_type": "stream",
     "text": [
      "C:\\Users\\DELL\\AppData\\Local\\Temp\\ipykernel_484\\329254329.py:109: DeprecationWarning: Because of the shift to using AgentSet, in the future this attribute will return a dict withtype as key as AgentSet as value. Future behavior is available via RandomActivationByType._agents_by_type\n",
      "  for sugar_agent in self.schedule.agents_by_type[Sugar].values():\n",
      "C:\\Users\\DELL\\AppData\\Local\\Temp\\ipykernel_484\\329254329.py:101: DeprecationWarning: Because of the shift to using AgentSet, in the future this attribute will return a dict withtype as key as AgentSet as value. Future behavior is available via RandomActivationByType._agents_by_type\n",
      "  non_corrupt_agents_shuffle = list(self.schedule.agents_by_type[Non_corrupt_agent].values())\n",
      "C:\\Users\\DELL\\AppData\\Local\\Temp\\ipykernel_484\\329254329.py:91: DeprecationWarning: Because of the shift to using AgentSet, in the future this attribute will return a dict withtype as key as AgentSet as value. Future behavior is available via RandomActivationByType._agents_by_type\n",
      "  agents = [agent for agent in self.schedule.agents_by_type[Non_corrupt_agent].values()]\n"
     ]
    },
    {
     "name": "stdout",
     "output_type": "stream",
     "text": [
      "196\n"
     ]
    },
    {
     "name": "stderr",
     "output_type": "stream",
     "text": [
      "C:\\Users\\DELL\\AppData\\Local\\Temp\\ipykernel_484\\329254329.py:109: DeprecationWarning: Because of the shift to using AgentSet, in the future this attribute will return a dict withtype as key as AgentSet as value. Future behavior is available via RandomActivationByType._agents_by_type\n",
      "  for sugar_agent in self.schedule.agents_by_type[Sugar].values():\n",
      "C:\\Users\\DELL\\AppData\\Local\\Temp\\ipykernel_484\\329254329.py:101: DeprecationWarning: Because of the shift to using AgentSet, in the future this attribute will return a dict withtype as key as AgentSet as value. Future behavior is available via RandomActivationByType._agents_by_type\n",
      "  non_corrupt_agents_shuffle = list(self.schedule.agents_by_type[Non_corrupt_agent].values())\n",
      "C:\\Users\\DELL\\AppData\\Local\\Temp\\ipykernel_484\\329254329.py:91: DeprecationWarning: Because of the shift to using AgentSet, in the future this attribute will return a dict withtype as key as AgentSet as value. Future behavior is available via RandomActivationByType._agents_by_type\n",
      "  agents = [agent for agent in self.schedule.agents_by_type[Non_corrupt_agent].values()]\n"
     ]
    },
    {
     "name": "stdout",
     "output_type": "stream",
     "text": [
      "Agent 2332 has eaten 4.0 sugar from sugar 44\n",
      "Agent 2370 has eaten 4 sugar from sugar 84\n",
      "Agent 2307 has eaten 4 sugar from sugar 1089\n",
      "Agent 2303 has eaten 4 sugar from sugar 462\n",
      "Agent 2345 has eaten 4 sugar from sugar 94\n",
      "Agent 2356 has eaten 4.0 sugar from sugar 60\n",
      "Agent 2316 has eaten 4 sugar from sugar 302\n",
      "Agent 2297 has eaten 4 sugar from sugar 277\n",
      "Agent 2321 has eaten 4.0 sugar from sugar 1584\n",
      "Agent 2308 has eaten 4 sugar from sugar 916\n",
      "Agent 2367 has eaten 4 sugar from sugar 1080\n",
      "Agent 2373 has eaten 4 sugar from sugar 1843\n",
      "Agent 2354 has eaten 4 sugar from sugar 2095\n",
      "Agent 2350 has eaten 4 sugar from sugar 670\n",
      "Agent 2380 has eaten 4 sugar from sugar 251\n",
      "Agent 2352 has eaten 4 sugar from sugar 2049\n",
      "Agent 2341 has eaten 4 sugar from sugar 2238\n",
      "Agent 2359 has eaten 4 sugar from sugar 1261\n",
      "Agent 2334 has eaten 4 sugar from sugar 1688\n",
      "Agent 2386 has eaten 4 sugar from sugar 427\n",
      "Agent 2369 has eaten 4 sugar from sugar 2167\n",
      "Agent 2319 has eaten 4 sugar from sugar 700\n",
      "Agent 2374 has eaten 4 sugar from sugar 1253\n",
      "Agent 2336 has eaten 4 sugar from sugar 1910\n",
      "Agent 2383 has eaten 4 sugar from sugar 1315\n",
      "Agent 2339 has eaten 4 sugar from sugar 442\n",
      "Agent 2299 has eaten 4 sugar from sugar 514\n",
      "Agent 2322 has eaten 4 sugar from sugar 584\n",
      "Agent 2324 has eaten 4 sugar from sugar 1174\n",
      "Agent 2318 has eaten 3.0 sugar from sugar 167\n",
      "Agent 2325 has eaten 4.0 sugar from sugar 161\n",
      "198\n"
     ]
    },
    {
     "name": "stderr",
     "output_type": "stream",
     "text": [
      "C:\\Users\\DELL\\AppData\\Local\\Temp\\ipykernel_484\\329254329.py:109: DeprecationWarning: Because of the shift to using AgentSet, in the future this attribute will return a dict withtype as key as AgentSet as value. Future behavior is available via RandomActivationByType._agents_by_type\n",
      "  for sugar_agent in self.schedule.agents_by_type[Sugar].values():\n",
      "C:\\Users\\DELL\\AppData\\Local\\Temp\\ipykernel_484\\329254329.py:101: DeprecationWarning: Because of the shift to using AgentSet, in the future this attribute will return a dict withtype as key as AgentSet as value. Future behavior is available via RandomActivationByType._agents_by_type\n",
      "  non_corrupt_agents_shuffle = list(self.schedule.agents_by_type[Non_corrupt_agent].values())\n",
      "C:\\Users\\DELL\\AppData\\Local\\Temp\\ipykernel_484\\329254329.py:91: DeprecationWarning: Because of the shift to using AgentSet, in the future this attribute will return a dict withtype as key as AgentSet as value. Future behavior is available via RandomActivationByType._agents_by_type\n",
      "  agents = [agent for agent in self.schedule.agents_by_type[Non_corrupt_agent].values()]\n"
     ]
    },
    {
     "name": "stdout",
     "output_type": "stream",
     "text": [
      "200\n"
     ]
    },
    {
     "name": "stderr",
     "output_type": "stream",
     "text": [
      "C:\\Users\\DELL\\AppData\\Local\\Temp\\ipykernel_484\\329254329.py:109: DeprecationWarning: Because of the shift to using AgentSet, in the future this attribute will return a dict withtype as key as AgentSet as value. Future behavior is available via RandomActivationByType._agents_by_type\n",
      "  for sugar_agent in self.schedule.agents_by_type[Sugar].values():\n",
      "C:\\Users\\DELL\\AppData\\Local\\Temp\\ipykernel_484\\329254329.py:101: DeprecationWarning: Because of the shift to using AgentSet, in the future this attribute will return a dict withtype as key as AgentSet as value. Future behavior is available via RandomActivationByType._agents_by_type\n",
      "  non_corrupt_agents_shuffle = list(self.schedule.agents_by_type[Non_corrupt_agent].values())\n",
      "C:\\Users\\DELL\\AppData\\Local\\Temp\\ipykernel_484\\329254329.py:91: DeprecationWarning: Because of the shift to using AgentSet, in the future this attribute will return a dict withtype as key as AgentSet as value. Future behavior is available via RandomActivationByType._agents_by_type\n",
      "  agents = [agent for agent in self.schedule.agents_by_type[Non_corrupt_agent].values()]\n"
     ]
    },
    {
     "name": "stdout",
     "output_type": "stream",
     "text": [
      "Agent 2332 has eaten 4.0 sugar from sugar 44\n",
      "Agent 2370 has eaten 4 sugar from sugar 84\n",
      "Agent 2383 has eaten 4 sugar from sugar 1315\n",
      "Agent 2321 has eaten 4.0 sugar from sugar 1584\n",
      "Agent 2352 has eaten 4 sugar from sugar 2049\n",
      "Agent 2374 has eaten 4 sugar from sugar 1253\n",
      "Agent 2386 has eaten 4 sugar from sugar 427\n",
      "Agent 2334 has eaten 4 sugar from sugar 1688\n",
      "Agent 2336 has eaten 4 sugar from sugar 1910\n",
      "Agent 2345 has eaten 4 sugar from sugar 94\n",
      "Agent 2354 has eaten 4 sugar from sugar 2095\n",
      "Agent 2307 has eaten 4 sugar from sugar 1089\n",
      "Agent 2299 has eaten 4 sugar from sugar 514\n",
      "Agent 2373 has eaten 4 sugar from sugar 1843\n",
      "Agent 2356 has eaten 4.0 sugar from sugar 60\n",
      "Agent 2318 has eaten 3.0 sugar from sugar 167\n",
      "Agent 2350 has eaten 4 sugar from sugar 670\n",
      "Agent 2369 has eaten 4 sugar from sugar 2167\n",
      "Agent 2308 has eaten 4 sugar from sugar 916\n",
      "Agent 2324 has eaten 4 sugar from sugar 1174\n",
      "Agent 2325 has eaten 4.0 sugar from sugar 161\n",
      "Agent 2339 has eaten 4 sugar from sugar 442\n",
      "Agent 2303 has eaten 4 sugar from sugar 462\n",
      "Agent 2341 has eaten 4 sugar from sugar 2238\n",
      "Agent 2322 has eaten 4 sugar from sugar 584\n",
      "Agent 2359 has eaten 4 sugar from sugar 1261\n",
      "Agent 2367 has eaten 4 sugar from sugar 1080\n",
      "Agent 2319 has eaten 4 sugar from sugar 700\n",
      "Agent 2297 has eaten 4 sugar from sugar 277\n",
      "Agent 2316 has eaten 4 sugar from sugar 302\n",
      "Agent 2380 has eaten 4 sugar from sugar 251\n",
      "202\n"
     ]
    },
    {
     "name": "stderr",
     "output_type": "stream",
     "text": [
      "C:\\Users\\DELL\\AppData\\Local\\Temp\\ipykernel_484\\329254329.py:109: DeprecationWarning: Because of the shift to using AgentSet, in the future this attribute will return a dict withtype as key as AgentSet as value. Future behavior is available via RandomActivationByType._agents_by_type\n",
      "  for sugar_agent in self.schedule.agents_by_type[Sugar].values():\n",
      "C:\\Users\\DELL\\AppData\\Local\\Temp\\ipykernel_484\\329254329.py:101: DeprecationWarning: Because of the shift to using AgentSet, in the future this attribute will return a dict withtype as key as AgentSet as value. Future behavior is available via RandomActivationByType._agents_by_type\n",
      "  non_corrupt_agents_shuffle = list(self.schedule.agents_by_type[Non_corrupt_agent].values())\n",
      "C:\\Users\\DELL\\AppData\\Local\\Temp\\ipykernel_484\\329254329.py:91: DeprecationWarning: Because of the shift to using AgentSet, in the future this attribute will return a dict withtype as key as AgentSet as value. Future behavior is available via RandomActivationByType._agents_by_type\n",
      "  agents = [agent for agent in self.schedule.agents_by_type[Non_corrupt_agent].values()]\n"
     ]
    },
    {
     "name": "stdout",
     "output_type": "stream",
     "text": [
      "204\n"
     ]
    },
    {
     "name": "stderr",
     "output_type": "stream",
     "text": [
      "C:\\Users\\DELL\\AppData\\Local\\Temp\\ipykernel_484\\329254329.py:109: DeprecationWarning: Because of the shift to using AgentSet, in the future this attribute will return a dict withtype as key as AgentSet as value. Future behavior is available via RandomActivationByType._agents_by_type\n",
      "  for sugar_agent in self.schedule.agents_by_type[Sugar].values():\n",
      "C:\\Users\\DELL\\AppData\\Local\\Temp\\ipykernel_484\\329254329.py:101: DeprecationWarning: Because of the shift to using AgentSet, in the future this attribute will return a dict withtype as key as AgentSet as value. Future behavior is available via RandomActivationByType._agents_by_type\n",
      "  non_corrupt_agents_shuffle = list(self.schedule.agents_by_type[Non_corrupt_agent].values())\n",
      "C:\\Users\\DELL\\AppData\\Local\\Temp\\ipykernel_484\\329254329.py:91: DeprecationWarning: Because of the shift to using AgentSet, in the future this attribute will return a dict withtype as key as AgentSet as value. Future behavior is available via RandomActivationByType._agents_by_type\n",
      "  agents = [agent for agent in self.schedule.agents_by_type[Non_corrupt_agent].values()]\n"
     ]
    },
    {
     "name": "stdout",
     "output_type": "stream",
     "text": [
      "Agent 2303 has eaten 4 sugar from sugar 462\n",
      "Agent 2324 has eaten 4 sugar from sugar 1174\n",
      "Agent 2374 has eaten 4 sugar from sugar 1253\n",
      "Agent 2334 has eaten 4 sugar from sugar 1688\n",
      "Agent 2316 has eaten 4 sugar from sugar 302\n",
      "Agent 2325 has eaten 4.0 sugar from sugar 161\n",
      "Agent 2369 has eaten 4 sugar from sugar 2167\n",
      "Agent 2373 has eaten 4 sugar from sugar 1843\n",
      "Agent 2336 has eaten 4 sugar from sugar 1910\n",
      "Agent 2299 has eaten 4 sugar from sugar 514\n",
      "Agent 2332 has eaten 4.0 sugar from sugar 44\n",
      "Agent 2321 has eaten 4.0 sugar from sugar 1584\n",
      "Agent 2318 has eaten 3.0 sugar from sugar 167\n",
      "Agent 2345 has eaten 4 sugar from sugar 94\n",
      "Agent 2339 has eaten 4 sugar from sugar 442\n",
      "Agent 2307 has eaten 4 sugar from sugar 1089\n",
      "Agent 2383 has eaten 4 sugar from sugar 1315\n",
      "Agent 2367 has eaten 4 sugar from sugar 1080\n",
      "Agent 2356 has eaten 4.0 sugar from sugar 60\n",
      "Agent 2380 has eaten 4 sugar from sugar 251\n",
      "Agent 2354 has eaten 4 sugar from sugar 2095\n",
      "Agent 2352 has eaten 4 sugar from sugar 2049\n",
      "Agent 2308 has eaten 4 sugar from sugar 916\n",
      "Agent 2297 has eaten 4 sugar from sugar 277\n",
      "Agent 2341 has eaten 4 sugar from sugar 2238\n",
      "Agent 2359 has eaten 4 sugar from sugar 1261\n",
      "Agent 2322 has eaten 4 sugar from sugar 584\n",
      "Agent 2370 has eaten 4 sugar from sugar 84\n",
      "Agent 2386 has eaten 4 sugar from sugar 427\n",
      "Agent 2350 has eaten 4 sugar from sugar 670\n",
      "Agent 2319 has eaten 4 sugar from sugar 700\n",
      "206\n"
     ]
    },
    {
     "name": "stderr",
     "output_type": "stream",
     "text": [
      "C:\\Users\\DELL\\AppData\\Local\\Temp\\ipykernel_484\\329254329.py:109: DeprecationWarning: Because of the shift to using AgentSet, in the future this attribute will return a dict withtype as key as AgentSet as value. Future behavior is available via RandomActivationByType._agents_by_type\n",
      "  for sugar_agent in self.schedule.agents_by_type[Sugar].values():\n",
      "C:\\Users\\DELL\\AppData\\Local\\Temp\\ipykernel_484\\329254329.py:101: DeprecationWarning: Because of the shift to using AgentSet, in the future this attribute will return a dict withtype as key as AgentSet as value. Future behavior is available via RandomActivationByType._agents_by_type\n",
      "  non_corrupt_agents_shuffle = list(self.schedule.agents_by_type[Non_corrupt_agent].values())\n",
      "C:\\Users\\DELL\\AppData\\Local\\Temp\\ipykernel_484\\329254329.py:91: DeprecationWarning: Because of the shift to using AgentSet, in the future this attribute will return a dict withtype as key as AgentSet as value. Future behavior is available via RandomActivationByType._agents_by_type\n",
      "  agents = [agent for agent in self.schedule.agents_by_type[Non_corrupt_agent].values()]\n"
     ]
    },
    {
     "name": "stdout",
     "output_type": "stream",
     "text": [
      "208\n"
     ]
    },
    {
     "name": "stderr",
     "output_type": "stream",
     "text": [
      "C:\\Users\\DELL\\AppData\\Local\\Temp\\ipykernel_484\\329254329.py:109: DeprecationWarning: Because of the shift to using AgentSet, in the future this attribute will return a dict withtype as key as AgentSet as value. Future behavior is available via RandomActivationByType._agents_by_type\n",
      "  for sugar_agent in self.schedule.agents_by_type[Sugar].values():\n",
      "C:\\Users\\DELL\\AppData\\Local\\Temp\\ipykernel_484\\329254329.py:101: DeprecationWarning: Because of the shift to using AgentSet, in the future this attribute will return a dict withtype as key as AgentSet as value. Future behavior is available via RandomActivationByType._agents_by_type\n",
      "  non_corrupt_agents_shuffle = list(self.schedule.agents_by_type[Non_corrupt_agent].values())\n",
      "C:\\Users\\DELL\\AppData\\Local\\Temp\\ipykernel_484\\329254329.py:91: DeprecationWarning: Because of the shift to using AgentSet, in the future this attribute will return a dict withtype as key as AgentSet as value. Future behavior is available via RandomActivationByType._agents_by_type\n",
      "  agents = [agent for agent in self.schedule.agents_by_type[Non_corrupt_agent].values()]\n"
     ]
    },
    {
     "name": "stdout",
     "output_type": "stream",
     "text": [
      "Agent 2356 has eaten 4.0 sugar from sugar 60\n",
      "Agent 2386 has eaten 4 sugar from sugar 427\n",
      "Agent 2299 has eaten 4 sugar from sugar 514\n",
      "Agent 2380 has eaten 4 sugar from sugar 251\n",
      "Agent 2383 has eaten 4 sugar from sugar 1315\n",
      "Agent 2308 has eaten 4 sugar from sugar 916\n",
      "Agent 2373 has eaten 4 sugar from sugar 1843\n",
      "Agent 2345 has eaten 4 sugar from sugar 94\n",
      "Agent 2297 has eaten 4 sugar from sugar 277\n",
      "Agent 2354 has eaten 4 sugar from sugar 2095\n",
      "Agent 2307 has eaten 4 sugar from sugar 1089\n",
      "Agent 2350 has eaten 4 sugar from sugar 670\n",
      "Agent 2318 has eaten 3.0 sugar from sugar 167\n",
      "Agent 2370 has eaten 4 sugar from sugar 84\n",
      "Agent 2334 has eaten 4 sugar from sugar 1688\n",
      "Agent 2339 has eaten 4 sugar from sugar 442\n",
      "Agent 2324 has eaten 4 sugar from sugar 1174\n",
      "Agent 2332 has eaten 4.0 sugar from sugar 44\n",
      "Agent 2367 has eaten 4 sugar from sugar 1080\n",
      "Agent 2321 has eaten 4.0 sugar from sugar 1584\n",
      "Agent 2322 has eaten 4 sugar from sugar 584\n",
      "Agent 2359 has eaten 4 sugar from sugar 1261\n",
      "Agent 2316 has eaten 4 sugar from sugar 302\n",
      "Agent 2369 has eaten 4 sugar from sugar 2167\n",
      "Agent 2352 has eaten 4 sugar from sugar 2049\n",
      "Agent 2341 has eaten 4 sugar from sugar 2238\n",
      "Agent 2325 has eaten 4.0 sugar from sugar 161\n",
      "Agent 2319 has eaten 4 sugar from sugar 700\n",
      "Agent 2303 has eaten 4 sugar from sugar 462\n",
      "Agent 2374 has eaten 4 sugar from sugar 1253\n",
      "Agent 2336 has eaten 4 sugar from sugar 1910\n",
      "210\n"
     ]
    },
    {
     "name": "stderr",
     "output_type": "stream",
     "text": [
      "C:\\Users\\DELL\\AppData\\Local\\Temp\\ipykernel_484\\329254329.py:109: DeprecationWarning: Because of the shift to using AgentSet, in the future this attribute will return a dict withtype as key as AgentSet as value. Future behavior is available via RandomActivationByType._agents_by_type\n",
      "  for sugar_agent in self.schedule.agents_by_type[Sugar].values():\n",
      "C:\\Users\\DELL\\AppData\\Local\\Temp\\ipykernel_484\\329254329.py:101: DeprecationWarning: Because of the shift to using AgentSet, in the future this attribute will return a dict withtype as key as AgentSet as value. Future behavior is available via RandomActivationByType._agents_by_type\n",
      "  non_corrupt_agents_shuffle = list(self.schedule.agents_by_type[Non_corrupt_agent].values())\n",
      "C:\\Users\\DELL\\AppData\\Local\\Temp\\ipykernel_484\\329254329.py:91: DeprecationWarning: Because of the shift to using AgentSet, in the future this attribute will return a dict withtype as key as AgentSet as value. Future behavior is available via RandomActivationByType._agents_by_type\n",
      "  agents = [agent for agent in self.schedule.agents_by_type[Non_corrupt_agent].values()]\n"
     ]
    },
    {
     "name": "stdout",
     "output_type": "stream",
     "text": [
      "212\n"
     ]
    },
    {
     "name": "stderr",
     "output_type": "stream",
     "text": [
      "C:\\Users\\DELL\\AppData\\Local\\Temp\\ipykernel_484\\329254329.py:109: DeprecationWarning: Because of the shift to using AgentSet, in the future this attribute will return a dict withtype as key as AgentSet as value. Future behavior is available via RandomActivationByType._agents_by_type\n",
      "  for sugar_agent in self.schedule.agents_by_type[Sugar].values():\n",
      "C:\\Users\\DELL\\AppData\\Local\\Temp\\ipykernel_484\\329254329.py:101: DeprecationWarning: Because of the shift to using AgentSet, in the future this attribute will return a dict withtype as key as AgentSet as value. Future behavior is available via RandomActivationByType._agents_by_type\n",
      "  non_corrupt_agents_shuffle = list(self.schedule.agents_by_type[Non_corrupt_agent].values())\n",
      "C:\\Users\\DELL\\AppData\\Local\\Temp\\ipykernel_484\\329254329.py:91: DeprecationWarning: Because of the shift to using AgentSet, in the future this attribute will return a dict withtype as key as AgentSet as value. Future behavior is available via RandomActivationByType._agents_by_type\n",
      "  agents = [agent for agent in self.schedule.agents_by_type[Non_corrupt_agent].values()]\n"
     ]
    },
    {
     "name": "stdout",
     "output_type": "stream",
     "text": [
      "Agent 2334 has eaten 4 sugar from sugar 1688\n",
      "Agent 2332 has eaten 4.0 sugar from sugar 44\n",
      "Agent 2352 has eaten 4 sugar from sugar 2049\n",
      "Agent 2383 has eaten 4 sugar from sugar 1315\n",
      "Agent 2370 has eaten 4 sugar from sugar 84\n",
      "Agent 2374 has eaten 4 sugar from sugar 1253\n",
      "Agent 2339 has eaten 4 sugar from sugar 442\n",
      "Agent 2303 has eaten 4 sugar from sugar 462\n",
      "Agent 2359 has eaten 4 sugar from sugar 1261\n",
      "Agent 2299 has eaten 4 sugar from sugar 514\n",
      "Agent 2354 has eaten 4 sugar from sugar 2095\n",
      "Agent 2350 has eaten 4 sugar from sugar 670\n",
      "Agent 2321 has eaten 4.0 sugar from sugar 1584\n",
      "Agent 2324 has eaten 4 sugar from sugar 1174\n",
      "Agent 2386 has eaten 4 sugar from sugar 427\n",
      "Agent 2380 has eaten 4 sugar from sugar 251\n",
      "Agent 2316 has eaten 4 sugar from sugar 302\n",
      "Agent 2336 has eaten 4 sugar from sugar 1910\n",
      "Agent 2307 has eaten 4 sugar from sugar 1089\n",
      "Agent 2356 has eaten 4.0 sugar from sugar 60\n",
      "Agent 2325 has eaten 4.0 sugar from sugar 161\n",
      "Agent 2318 has eaten 3.0 sugar from sugar 167\n",
      "Agent 2345 has eaten 4 sugar from sugar 94\n",
      "Agent 2297 has eaten 4 sugar from sugar 277\n",
      "Agent 2319 has eaten 4 sugar from sugar 700\n",
      "Agent 2341 has eaten 4 sugar from sugar 2238\n",
      "Agent 2322 has eaten 4 sugar from sugar 584\n",
      "Agent 2373 has eaten 4 sugar from sugar 1843\n",
      "Agent 2369 has eaten 4 sugar from sugar 2167\n",
      "Agent 2367 has eaten 4 sugar from sugar 1080\n",
      "Agent 2308 has eaten 4 sugar from sugar 916\n",
      "214\n"
     ]
    },
    {
     "name": "stderr",
     "output_type": "stream",
     "text": [
      "C:\\Users\\DELL\\AppData\\Local\\Temp\\ipykernel_484\\329254329.py:109: DeprecationWarning: Because of the shift to using AgentSet, in the future this attribute will return a dict withtype as key as AgentSet as value. Future behavior is available via RandomActivationByType._agents_by_type\n",
      "  for sugar_agent in self.schedule.agents_by_type[Sugar].values():\n",
      "C:\\Users\\DELL\\AppData\\Local\\Temp\\ipykernel_484\\329254329.py:101: DeprecationWarning: Because of the shift to using AgentSet, in the future this attribute will return a dict withtype as key as AgentSet as value. Future behavior is available via RandomActivationByType._agents_by_type\n",
      "  non_corrupt_agents_shuffle = list(self.schedule.agents_by_type[Non_corrupt_agent].values())\n",
      "C:\\Users\\DELL\\AppData\\Local\\Temp\\ipykernel_484\\329254329.py:91: DeprecationWarning: Because of the shift to using AgentSet, in the future this attribute will return a dict withtype as key as AgentSet as value. Future behavior is available via RandomActivationByType._agents_by_type\n",
      "  agents = [agent for agent in self.schedule.agents_by_type[Non_corrupt_agent].values()]\n"
     ]
    },
    {
     "name": "stdout",
     "output_type": "stream",
     "text": [
      "216\n"
     ]
    },
    {
     "name": "stderr",
     "output_type": "stream",
     "text": [
      "C:\\Users\\DELL\\AppData\\Local\\Temp\\ipykernel_484\\329254329.py:109: DeprecationWarning: Because of the shift to using AgentSet, in the future this attribute will return a dict withtype as key as AgentSet as value. Future behavior is available via RandomActivationByType._agents_by_type\n",
      "  for sugar_agent in self.schedule.agents_by_type[Sugar].values():\n",
      "C:\\Users\\DELL\\AppData\\Local\\Temp\\ipykernel_484\\329254329.py:101: DeprecationWarning: Because of the shift to using AgentSet, in the future this attribute will return a dict withtype as key as AgentSet as value. Future behavior is available via RandomActivationByType._agents_by_type\n",
      "  non_corrupt_agents_shuffle = list(self.schedule.agents_by_type[Non_corrupt_agent].values())\n",
      "C:\\Users\\DELL\\AppData\\Local\\Temp\\ipykernel_484\\329254329.py:91: DeprecationWarning: Because of the shift to using AgentSet, in the future this attribute will return a dict withtype as key as AgentSet as value. Future behavior is available via RandomActivationByType._agents_by_type\n",
      "  agents = [agent for agent in self.schedule.agents_by_type[Non_corrupt_agent].values()]\n"
     ]
    },
    {
     "name": "stdout",
     "output_type": "stream",
     "text": [
      "Agent 2374 has eaten 4 sugar from sugar 1253\n",
      "Agent 2319 has eaten 4 sugar from sugar 700\n",
      "Agent 2350 has eaten 4 sugar from sugar 670\n",
      "Agent 2322 has eaten 4 sugar from sugar 584\n",
      "Agent 2352 has eaten 4 sugar from sugar 2049\n",
      "Agent 2354 has eaten 4 sugar from sugar 2095\n",
      "Agent 2383 has eaten 4 sugar from sugar 1315\n",
      "Agent 2386 has eaten 4 sugar from sugar 427\n",
      "Agent 2332 has eaten 4.0 sugar from sugar 44\n",
      "Agent 2373 has eaten 4 sugar from sugar 1843\n",
      "Agent 2316 has eaten 4 sugar from sugar 302\n",
      "Agent 2339 has eaten 4 sugar from sugar 442\n",
      "Agent 2367 has eaten 4 sugar from sugar 1080\n",
      "Agent 2359 has eaten 4 sugar from sugar 1261\n",
      "Agent 2297 has eaten 4 sugar from sugar 277\n",
      "Agent 2318 has eaten 3.0 sugar from sugar 167\n",
      "Agent 2370 has eaten 4 sugar from sugar 84\n",
      "Agent 2336 has eaten 4 sugar from sugar 1910\n",
      "Agent 2325 has eaten 4.0 sugar from sugar 161\n",
      "Agent 2308 has eaten 4 sugar from sugar 916\n",
      "Agent 2369 has eaten 4 sugar from sugar 2167\n",
      "Agent 2307 has eaten 4 sugar from sugar 1089\n",
      "Agent 2299 has eaten 4 sugar from sugar 514\n",
      "Agent 2321 has eaten 4.0 sugar from sugar 1584\n",
      "Agent 2356 has eaten 4.0 sugar from sugar 60\n",
      "Agent 2303 has eaten 4 sugar from sugar 462\n",
      "Agent 2341 has eaten 4 sugar from sugar 2238\n",
      "Agent 2324 has eaten 4 sugar from sugar 1174\n",
      "Agent 2345 has eaten 4 sugar from sugar 94\n",
      "Agent 2380 has eaten 4 sugar from sugar 251\n",
      "Agent 2334 has eaten 4 sugar from sugar 1688\n",
      "218\n"
     ]
    },
    {
     "name": "stderr",
     "output_type": "stream",
     "text": [
      "C:\\Users\\DELL\\AppData\\Local\\Temp\\ipykernel_484\\329254329.py:109: DeprecationWarning: Because of the shift to using AgentSet, in the future this attribute will return a dict withtype as key as AgentSet as value. Future behavior is available via RandomActivationByType._agents_by_type\n",
      "  for sugar_agent in self.schedule.agents_by_type[Sugar].values():\n",
      "C:\\Users\\DELL\\AppData\\Local\\Temp\\ipykernel_484\\329254329.py:101: DeprecationWarning: Because of the shift to using AgentSet, in the future this attribute will return a dict withtype as key as AgentSet as value. Future behavior is available via RandomActivationByType._agents_by_type\n",
      "  non_corrupt_agents_shuffle = list(self.schedule.agents_by_type[Non_corrupt_agent].values())\n",
      "C:\\Users\\DELL\\AppData\\Local\\Temp\\ipykernel_484\\329254329.py:91: DeprecationWarning: Because of the shift to using AgentSet, in the future this attribute will return a dict withtype as key as AgentSet as value. Future behavior is available via RandomActivationByType._agents_by_type\n",
      "  agents = [agent for agent in self.schedule.agents_by_type[Non_corrupt_agent].values()]\n"
     ]
    },
    {
     "name": "stdout",
     "output_type": "stream",
     "text": [
      "220\n"
     ]
    },
    {
     "name": "stderr",
     "output_type": "stream",
     "text": [
      "C:\\Users\\DELL\\AppData\\Local\\Temp\\ipykernel_484\\329254329.py:109: DeprecationWarning: Because of the shift to using AgentSet, in the future this attribute will return a dict withtype as key as AgentSet as value. Future behavior is available via RandomActivationByType._agents_by_type\n",
      "  for sugar_agent in self.schedule.agents_by_type[Sugar].values():\n",
      "C:\\Users\\DELL\\AppData\\Local\\Temp\\ipykernel_484\\329254329.py:101: DeprecationWarning: Because of the shift to using AgentSet, in the future this attribute will return a dict withtype as key as AgentSet as value. Future behavior is available via RandomActivationByType._agents_by_type\n",
      "  non_corrupt_agents_shuffle = list(self.schedule.agents_by_type[Non_corrupt_agent].values())\n",
      "C:\\Users\\DELL\\AppData\\Local\\Temp\\ipykernel_484\\329254329.py:91: DeprecationWarning: Because of the shift to using AgentSet, in the future this attribute will return a dict withtype as key as AgentSet as value. Future behavior is available via RandomActivationByType._agents_by_type\n",
      "  agents = [agent for agent in self.schedule.agents_by_type[Non_corrupt_agent].values()]\n"
     ]
    },
    {
     "name": "stdout",
     "output_type": "stream",
     "text": [
      "Agent 2356 has eaten 4.0 sugar from sugar 60\n",
      "Agent 2307 has eaten 4 sugar from sugar 1089\n",
      "Agent 2297 has eaten 4 sugar from sugar 277\n",
      "Agent 2332 has eaten 4.0 sugar from sugar 44\n",
      "Agent 2374 has eaten 4 sugar from sugar 1253\n",
      "Agent 2299 has eaten 4 sugar from sugar 514\n",
      "Agent 2334 has eaten 4 sugar from sugar 1688\n",
      "Agent 2386 has eaten 4 sugar from sugar 427\n",
      "Agent 2321 has eaten 4.0 sugar from sugar 1584\n",
      "Agent 2316 has eaten 4 sugar from sugar 302\n",
      "Agent 2350 has eaten 4 sugar from sugar 670\n",
      "Agent 2373 has eaten 4 sugar from sugar 1843\n",
      "Agent 2322 has eaten 4 sugar from sugar 584\n",
      "Agent 2318 has eaten 3.0 sugar from sugar 167\n",
      "Agent 2341 has eaten 4 sugar from sugar 2238\n",
      "Agent 2325 has eaten 4.0 sugar from sugar 161\n",
      "Agent 2336 has eaten 4 sugar from sugar 1910\n",
      "Agent 2345 has eaten 4 sugar from sugar 94\n",
      "Agent 2303 has eaten 4 sugar from sugar 462\n",
      "Agent 2319 has eaten 4 sugar from sugar 700\n",
      "Agent 2324 has eaten 4 sugar from sugar 1174\n",
      "Agent 2367 has eaten 4 sugar from sugar 1080\n",
      "Agent 2339 has eaten 4 sugar from sugar 442\n",
      "Agent 2369 has eaten 4 sugar from sugar 2167\n",
      "Agent 2383 has eaten 4 sugar from sugar 1315\n",
      "Agent 2352 has eaten 4 sugar from sugar 2049\n",
      "Agent 2380 has eaten 4 sugar from sugar 251\n",
      "Agent 2370 has eaten 4 sugar from sugar 84\n",
      "Agent 2354 has eaten 4 sugar from sugar 2095\n",
      "Agent 2359 has eaten 4 sugar from sugar 1261\n",
      "Agent 2308 has eaten 4 sugar from sugar 916\n",
      "222\n"
     ]
    },
    {
     "name": "stderr",
     "output_type": "stream",
     "text": [
      "C:\\Users\\DELL\\AppData\\Local\\Temp\\ipykernel_484\\329254329.py:109: DeprecationWarning: Because of the shift to using AgentSet, in the future this attribute will return a dict withtype as key as AgentSet as value. Future behavior is available via RandomActivationByType._agents_by_type\n",
      "  for sugar_agent in self.schedule.agents_by_type[Sugar].values():\n",
      "C:\\Users\\DELL\\AppData\\Local\\Temp\\ipykernel_484\\329254329.py:101: DeprecationWarning: Because of the shift to using AgentSet, in the future this attribute will return a dict withtype as key as AgentSet as value. Future behavior is available via RandomActivationByType._agents_by_type\n",
      "  non_corrupt_agents_shuffle = list(self.schedule.agents_by_type[Non_corrupt_agent].values())\n",
      "C:\\Users\\DELL\\AppData\\Local\\Temp\\ipykernel_484\\329254329.py:91: DeprecationWarning: Because of the shift to using AgentSet, in the future this attribute will return a dict withtype as key as AgentSet as value. Future behavior is available via RandomActivationByType._agents_by_type\n",
      "  agents = [agent for agent in self.schedule.agents_by_type[Non_corrupt_agent].values()]\n"
     ]
    },
    {
     "name": "stdout",
     "output_type": "stream",
     "text": [
      "224\n"
     ]
    },
    {
     "name": "stderr",
     "output_type": "stream",
     "text": [
      "C:\\Users\\DELL\\AppData\\Local\\Temp\\ipykernel_484\\329254329.py:109: DeprecationWarning: Because of the shift to using AgentSet, in the future this attribute will return a dict withtype as key as AgentSet as value. Future behavior is available via RandomActivationByType._agents_by_type\n",
      "  for sugar_agent in self.schedule.agents_by_type[Sugar].values():\n",
      "C:\\Users\\DELL\\AppData\\Local\\Temp\\ipykernel_484\\329254329.py:101: DeprecationWarning: Because of the shift to using AgentSet, in the future this attribute will return a dict withtype as key as AgentSet as value. Future behavior is available via RandomActivationByType._agents_by_type\n",
      "  non_corrupt_agents_shuffle = list(self.schedule.agents_by_type[Non_corrupt_agent].values())\n",
      "C:\\Users\\DELL\\AppData\\Local\\Temp\\ipykernel_484\\329254329.py:91: DeprecationWarning: Because of the shift to using AgentSet, in the future this attribute will return a dict withtype as key as AgentSet as value. Future behavior is available via RandomActivationByType._agents_by_type\n",
      "  agents = [agent for agent in self.schedule.agents_by_type[Non_corrupt_agent].values()]\n"
     ]
    },
    {
     "name": "stdout",
     "output_type": "stream",
     "text": [
      "Agent 2367 has eaten 4 sugar from sugar 1080\n",
      "Agent 2386 has eaten 4 sugar from sugar 427\n",
      "Agent 2319 has eaten 4 sugar from sugar 700\n",
      "Agent 2374 has eaten 4 sugar from sugar 1253\n",
      "Agent 2383 has eaten 4 sugar from sugar 1315\n",
      "Agent 2324 has eaten 4 sugar from sugar 1174\n",
      "Agent 2303 has eaten 4 sugar from sugar 462\n",
      "Agent 2307 has eaten 4 sugar from sugar 1089\n",
      "Agent 2322 has eaten 4 sugar from sugar 584\n",
      "Agent 2373 has eaten 4 sugar from sugar 1843\n",
      "Agent 2359 has eaten 4 sugar from sugar 1261\n",
      "Agent 2299 has eaten 4 sugar from sugar 514\n",
      "Agent 2354 has eaten 4 sugar from sugar 2095\n",
      "Agent 2370 has eaten 4 sugar from sugar 84\n",
      "Agent 2325 has eaten 4.0 sugar from sugar 161\n",
      "Agent 2308 has eaten 4 sugar from sugar 916\n",
      "Agent 2297 has eaten 4 sugar from sugar 277\n",
      "Agent 2350 has eaten 4 sugar from sugar 670\n",
      "Agent 2339 has eaten 4 sugar from sugar 442\n",
      "Agent 2318 has eaten 3.0 sugar from sugar 167\n",
      "Agent 2332 has eaten 4.0 sugar from sugar 44\n",
      "Agent 2369 has eaten 4 sugar from sugar 2167\n",
      "Agent 2316 has eaten 4 sugar from sugar 302\n",
      "Agent 2345 has eaten 4 sugar from sugar 94\n",
      "Agent 2356 has eaten 4.0 sugar from sugar 60\n",
      "Agent 2334 has eaten 4 sugar from sugar 1688\n",
      "Agent 2380 has eaten 4 sugar from sugar 251\n",
      "Agent 2352 has eaten 4 sugar from sugar 2049\n",
      "Agent 2336 has eaten 4 sugar from sugar 1910\n",
      "Agent 2321 has eaten 4.0 sugar from sugar 1584\n",
      "Agent 2341 has eaten 4 sugar from sugar 2238\n",
      "226\n"
     ]
    },
    {
     "name": "stderr",
     "output_type": "stream",
     "text": [
      "C:\\Users\\DELL\\AppData\\Local\\Temp\\ipykernel_484\\329254329.py:109: DeprecationWarning: Because of the shift to using AgentSet, in the future this attribute will return a dict withtype as key as AgentSet as value. Future behavior is available via RandomActivationByType._agents_by_type\n",
      "  for sugar_agent in self.schedule.agents_by_type[Sugar].values():\n",
      "C:\\Users\\DELL\\AppData\\Local\\Temp\\ipykernel_484\\329254329.py:101: DeprecationWarning: Because of the shift to using AgentSet, in the future this attribute will return a dict withtype as key as AgentSet as value. Future behavior is available via RandomActivationByType._agents_by_type\n",
      "  non_corrupt_agents_shuffle = list(self.schedule.agents_by_type[Non_corrupt_agent].values())\n",
      "C:\\Users\\DELL\\AppData\\Local\\Temp\\ipykernel_484\\329254329.py:91: DeprecationWarning: Because of the shift to using AgentSet, in the future this attribute will return a dict withtype as key as AgentSet as value. Future behavior is available via RandomActivationByType._agents_by_type\n",
      "  agents = [agent for agent in self.schedule.agents_by_type[Non_corrupt_agent].values()]\n"
     ]
    },
    {
     "name": "stdout",
     "output_type": "stream",
     "text": [
      "228\n"
     ]
    },
    {
     "name": "stderr",
     "output_type": "stream",
     "text": [
      "C:\\Users\\DELL\\AppData\\Local\\Temp\\ipykernel_484\\329254329.py:109: DeprecationWarning: Because of the shift to using AgentSet, in the future this attribute will return a dict withtype as key as AgentSet as value. Future behavior is available via RandomActivationByType._agents_by_type\n",
      "  for sugar_agent in self.schedule.agents_by_type[Sugar].values():\n",
      "C:\\Users\\DELL\\AppData\\Local\\Temp\\ipykernel_484\\329254329.py:101: DeprecationWarning: Because of the shift to using AgentSet, in the future this attribute will return a dict withtype as key as AgentSet as value. Future behavior is available via RandomActivationByType._agents_by_type\n",
      "  non_corrupt_agents_shuffle = list(self.schedule.agents_by_type[Non_corrupt_agent].values())\n",
      "C:\\Users\\DELL\\AppData\\Local\\Temp\\ipykernel_484\\329254329.py:91: DeprecationWarning: Because of the shift to using AgentSet, in the future this attribute will return a dict withtype as key as AgentSet as value. Future behavior is available via RandomActivationByType._agents_by_type\n",
      "  agents = [agent for agent in self.schedule.agents_by_type[Non_corrupt_agent].values()]\n"
     ]
    },
    {
     "name": "stdout",
     "output_type": "stream",
     "text": [
      "Agent 2308 has eaten 4 sugar from sugar 916\n",
      "Agent 2345 has eaten 4 sugar from sugar 94\n",
      "Agent 2297 has eaten 4 sugar from sugar 277\n",
      "Agent 2332 has eaten 4.0 sugar from sugar 44\n",
      "Agent 2322 has eaten 4 sugar from sugar 584\n",
      "Agent 2373 has eaten 4 sugar from sugar 1843\n",
      "Agent 2316 has eaten 4 sugar from sugar 302\n",
      "Agent 2367 has eaten 4 sugar from sugar 1080\n",
      "Agent 2369 has eaten 4 sugar from sugar 2167\n",
      "Agent 2356 has eaten 4.0 sugar from sugar 60\n",
      "Agent 2336 has eaten 4 sugar from sugar 1910\n",
      "Agent 2341 has eaten 4 sugar from sugar 2238\n",
      "Agent 2339 has eaten 4 sugar from sugar 442\n",
      "Agent 2386 has eaten 4 sugar from sugar 427\n",
      "Agent 2352 has eaten 4 sugar from sugar 2049\n",
      "Agent 2383 has eaten 4 sugar from sugar 1315\n",
      "Agent 2299 has eaten 4 sugar from sugar 514\n",
      "Agent 2370 has eaten 4 sugar from sugar 84\n",
      "Agent 2324 has eaten 4 sugar from sugar 1174\n",
      "Agent 2374 has eaten 4 sugar from sugar 1253\n",
      "Agent 2359 has eaten 4 sugar from sugar 1261\n",
      "Agent 2334 has eaten 4 sugar from sugar 1688\n",
      "Agent 2319 has eaten 4 sugar from sugar 700\n",
      "Agent 2307 has eaten 4 sugar from sugar 1089\n",
      "Agent 2350 has eaten 4 sugar from sugar 670\n",
      "Agent 2318 has eaten 3.0 sugar from sugar 167\n",
      "Agent 2325 has eaten 4.0 sugar from sugar 161\n",
      "Agent 2303 has eaten 4 sugar from sugar 462\n",
      "Agent 2380 has eaten 4 sugar from sugar 251\n",
      "Agent 2321 has eaten 4.0 sugar from sugar 1584\n",
      "Agent 2354 has eaten 4 sugar from sugar 2095\n",
      "230\n"
     ]
    },
    {
     "name": "stderr",
     "output_type": "stream",
     "text": [
      "C:\\Users\\DELL\\AppData\\Local\\Temp\\ipykernel_484\\329254329.py:109: DeprecationWarning: Because of the shift to using AgentSet, in the future this attribute will return a dict withtype as key as AgentSet as value. Future behavior is available via RandomActivationByType._agents_by_type\n",
      "  for sugar_agent in self.schedule.agents_by_type[Sugar].values():\n",
      "C:\\Users\\DELL\\AppData\\Local\\Temp\\ipykernel_484\\329254329.py:101: DeprecationWarning: Because of the shift to using AgentSet, in the future this attribute will return a dict withtype as key as AgentSet as value. Future behavior is available via RandomActivationByType._agents_by_type\n",
      "  non_corrupt_agents_shuffle = list(self.schedule.agents_by_type[Non_corrupt_agent].values())\n",
      "C:\\Users\\DELL\\AppData\\Local\\Temp\\ipykernel_484\\329254329.py:91: DeprecationWarning: Because of the shift to using AgentSet, in the future this attribute will return a dict withtype as key as AgentSet as value. Future behavior is available via RandomActivationByType._agents_by_type\n",
      "  agents = [agent for agent in self.schedule.agents_by_type[Non_corrupt_agent].values()]\n"
     ]
    },
    {
     "name": "stdout",
     "output_type": "stream",
     "text": [
      "232\n"
     ]
    },
    {
     "name": "stderr",
     "output_type": "stream",
     "text": [
      "C:\\Users\\DELL\\AppData\\Local\\Temp\\ipykernel_484\\329254329.py:109: DeprecationWarning: Because of the shift to using AgentSet, in the future this attribute will return a dict withtype as key as AgentSet as value. Future behavior is available via RandomActivationByType._agents_by_type\n",
      "  for sugar_agent in self.schedule.agents_by_type[Sugar].values():\n",
      "C:\\Users\\DELL\\AppData\\Local\\Temp\\ipykernel_484\\329254329.py:101: DeprecationWarning: Because of the shift to using AgentSet, in the future this attribute will return a dict withtype as key as AgentSet as value. Future behavior is available via RandomActivationByType._agents_by_type\n",
      "  non_corrupt_agents_shuffle = list(self.schedule.agents_by_type[Non_corrupt_agent].values())\n",
      "C:\\Users\\DELL\\AppData\\Local\\Temp\\ipykernel_484\\329254329.py:91: DeprecationWarning: Because of the shift to using AgentSet, in the future this attribute will return a dict withtype as key as AgentSet as value. Future behavior is available via RandomActivationByType._agents_by_type\n",
      "  agents = [agent for agent in self.schedule.agents_by_type[Non_corrupt_agent].values()]\n"
     ]
    },
    {
     "name": "stdout",
     "output_type": "stream",
     "text": [
      "Agent 2299 has eaten 4 sugar from sugar 514\n",
      "Agent 2354 has eaten 4 sugar from sugar 2095\n",
      "Agent 2356 has eaten 4.0 sugar from sugar 60\n",
      "Agent 2383 has eaten 4 sugar from sugar 1315\n",
      "Agent 2316 has eaten 4 sugar from sugar 302\n",
      "Agent 2380 has eaten 4 sugar from sugar 251\n",
      "Agent 2319 has eaten 4 sugar from sugar 700\n",
      "Agent 2352 has eaten 4 sugar from sugar 2049\n",
      "Agent 2374 has eaten 4 sugar from sugar 1253\n",
      "Agent 2322 has eaten 4 sugar from sugar 584\n",
      "Agent 2359 has eaten 4 sugar from sugar 1261\n",
      "Agent 2308 has eaten 4 sugar from sugar 916\n",
      "Agent 2369 has eaten 4 sugar from sugar 2167\n",
      "Agent 2350 has eaten 4 sugar from sugar 670\n",
      "Agent 2318 has eaten 3.0 sugar from sugar 167\n",
      "Agent 2307 has eaten 4 sugar from sugar 1089\n",
      "Agent 2370 has eaten 4 sugar from sugar 84\n",
      "Agent 2345 has eaten 4 sugar from sugar 94\n",
      "Agent 2336 has eaten 4 sugar from sugar 1910\n",
      "Agent 2332 has eaten 4.0 sugar from sugar 44\n",
      "Agent 2367 has eaten 4 sugar from sugar 1080\n",
      "Agent 2321 has eaten 4.0 sugar from sugar 1584\n",
      "Agent 2325 has eaten 4.0 sugar from sugar 161\n",
      "Agent 2334 has eaten 4 sugar from sugar 1688\n",
      "Agent 2373 has eaten 4 sugar from sugar 1843\n",
      "Agent 2297 has eaten 4 sugar from sugar 277\n",
      "Agent 2386 has eaten 4 sugar from sugar 427\n",
      "Agent 2303 has eaten 4 sugar from sugar 462\n",
      "Agent 2339 has eaten 4 sugar from sugar 442\n",
      "Agent 2324 has eaten 4 sugar from sugar 1174\n",
      "Agent 2341 has eaten 4 sugar from sugar 2238\n",
      "234\n"
     ]
    },
    {
     "name": "stderr",
     "output_type": "stream",
     "text": [
      "C:\\Users\\DELL\\AppData\\Local\\Temp\\ipykernel_484\\329254329.py:109: DeprecationWarning: Because of the shift to using AgentSet, in the future this attribute will return a dict withtype as key as AgentSet as value. Future behavior is available via RandomActivationByType._agents_by_type\n",
      "  for sugar_agent in self.schedule.agents_by_type[Sugar].values():\n",
      "C:\\Users\\DELL\\AppData\\Local\\Temp\\ipykernel_484\\329254329.py:101: DeprecationWarning: Because of the shift to using AgentSet, in the future this attribute will return a dict withtype as key as AgentSet as value. Future behavior is available via RandomActivationByType._agents_by_type\n",
      "  non_corrupt_agents_shuffle = list(self.schedule.agents_by_type[Non_corrupt_agent].values())\n",
      "C:\\Users\\DELL\\AppData\\Local\\Temp\\ipykernel_484\\329254329.py:91: DeprecationWarning: Because of the shift to using AgentSet, in the future this attribute will return a dict withtype as key as AgentSet as value. Future behavior is available via RandomActivationByType._agents_by_type\n",
      "  agents = [agent for agent in self.schedule.agents_by_type[Non_corrupt_agent].values()]\n"
     ]
    },
    {
     "name": "stdout",
     "output_type": "stream",
     "text": [
      "236\n"
     ]
    },
    {
     "name": "stderr",
     "output_type": "stream",
     "text": [
      "C:\\Users\\DELL\\AppData\\Local\\Temp\\ipykernel_484\\329254329.py:109: DeprecationWarning: Because of the shift to using AgentSet, in the future this attribute will return a dict withtype as key as AgentSet as value. Future behavior is available via RandomActivationByType._agents_by_type\n",
      "  for sugar_agent in self.schedule.agents_by_type[Sugar].values():\n",
      "C:\\Users\\DELL\\AppData\\Local\\Temp\\ipykernel_484\\329254329.py:101: DeprecationWarning: Because of the shift to using AgentSet, in the future this attribute will return a dict withtype as key as AgentSet as value. Future behavior is available via RandomActivationByType._agents_by_type\n",
      "  non_corrupt_agents_shuffle = list(self.schedule.agents_by_type[Non_corrupt_agent].values())\n",
      "C:\\Users\\DELL\\AppData\\Local\\Temp\\ipykernel_484\\329254329.py:91: DeprecationWarning: Because of the shift to using AgentSet, in the future this attribute will return a dict withtype as key as AgentSet as value. Future behavior is available via RandomActivationByType._agents_by_type\n",
      "  agents = [agent for agent in self.schedule.agents_by_type[Non_corrupt_agent].values()]\n"
     ]
    },
    {
     "name": "stdout",
     "output_type": "stream",
     "text": [
      "Agent 2367 has eaten 4 sugar from sugar 1080\n",
      "Agent 2303 has eaten 4 sugar from sugar 462\n",
      "Agent 2380 has eaten 4 sugar from sugar 251\n",
      "Agent 2350 has eaten 4 sugar from sugar 670\n",
      "Agent 2334 has eaten 4 sugar from sugar 1688\n",
      "Agent 2336 has eaten 4 sugar from sugar 1910\n",
      "Agent 2322 has eaten 4 sugar from sugar 584\n",
      "Agent 2345 has eaten 4 sugar from sugar 94\n",
      "Agent 2369 has eaten 4 sugar from sugar 2167\n",
      "Agent 2383 has eaten 4 sugar from sugar 1315\n",
      "Agent 2341 has eaten 4 sugar from sugar 2238\n",
      "Agent 2297 has eaten 4 sugar from sugar 277\n",
      "Agent 2354 has eaten 4 sugar from sugar 2095\n",
      "Agent 2370 has eaten 4 sugar from sugar 84\n",
      "Agent 2307 has eaten 4 sugar from sugar 1089\n",
      "Agent 2308 has eaten 4 sugar from sugar 916\n",
      "Agent 2318 has eaten 3.0 sugar from sugar 167\n",
      "Agent 2325 has eaten 4.0 sugar from sugar 161\n",
      "Agent 2321 has eaten 4.0 sugar from sugar 1584\n",
      "Agent 2299 has eaten 4 sugar from sugar 514\n",
      "Agent 2352 has eaten 4 sugar from sugar 2049\n",
      "Agent 2359 has eaten 4 sugar from sugar 1261\n",
      "Agent 2339 has eaten 4 sugar from sugar 442\n",
      "Agent 2374 has eaten 4 sugar from sugar 1253\n",
      "Agent 2356 has eaten 4.0 sugar from sugar 60\n",
      "Agent 2316 has eaten 4 sugar from sugar 302\n",
      "Agent 2324 has eaten 4 sugar from sugar 1174\n",
      "Agent 2319 has eaten 4 sugar from sugar 700\n",
      "Agent 2386 has eaten 4 sugar from sugar 427\n",
      "Agent 2332 has eaten 4.0 sugar from sugar 44\n",
      "Agent 2373 has eaten 4 sugar from sugar 1843\n",
      "238\n"
     ]
    },
    {
     "name": "stderr",
     "output_type": "stream",
     "text": [
      "C:\\Users\\DELL\\AppData\\Local\\Temp\\ipykernel_484\\329254329.py:109: DeprecationWarning: Because of the shift to using AgentSet, in the future this attribute will return a dict withtype as key as AgentSet as value. Future behavior is available via RandomActivationByType._agents_by_type\n",
      "  for sugar_agent in self.schedule.agents_by_type[Sugar].values():\n",
      "C:\\Users\\DELL\\AppData\\Local\\Temp\\ipykernel_484\\329254329.py:101: DeprecationWarning: Because of the shift to using AgentSet, in the future this attribute will return a dict withtype as key as AgentSet as value. Future behavior is available via RandomActivationByType._agents_by_type\n",
      "  non_corrupt_agents_shuffle = list(self.schedule.agents_by_type[Non_corrupt_agent].values())\n",
      "C:\\Users\\DELL\\AppData\\Local\\Temp\\ipykernel_484\\329254329.py:91: DeprecationWarning: Because of the shift to using AgentSet, in the future this attribute will return a dict withtype as key as AgentSet as value. Future behavior is available via RandomActivationByType._agents_by_type\n",
      "  agents = [agent for agent in self.schedule.agents_by_type[Non_corrupt_agent].values()]\n"
     ]
    },
    {
     "name": "stdout",
     "output_type": "stream",
     "text": [
      "240\n"
     ]
    },
    {
     "name": "stderr",
     "output_type": "stream",
     "text": [
      "C:\\Users\\DELL\\AppData\\Local\\Temp\\ipykernel_484\\329254329.py:109: DeprecationWarning: Because of the shift to using AgentSet, in the future this attribute will return a dict withtype as key as AgentSet as value. Future behavior is available via RandomActivationByType._agents_by_type\n",
      "  for sugar_agent in self.schedule.agents_by_type[Sugar].values():\n",
      "C:\\Users\\DELL\\AppData\\Local\\Temp\\ipykernel_484\\329254329.py:101: DeprecationWarning: Because of the shift to using AgentSet, in the future this attribute will return a dict withtype as key as AgentSet as value. Future behavior is available via RandomActivationByType._agents_by_type\n",
      "  non_corrupt_agents_shuffle = list(self.schedule.agents_by_type[Non_corrupt_agent].values())\n",
      "C:\\Users\\DELL\\AppData\\Local\\Temp\\ipykernel_484\\329254329.py:91: DeprecationWarning: Because of the shift to using AgentSet, in the future this attribute will return a dict withtype as key as AgentSet as value. Future behavior is available via RandomActivationByType._agents_by_type\n",
      "  agents = [agent for agent in self.schedule.agents_by_type[Non_corrupt_agent].values()]\n"
     ]
    },
    {
     "name": "stdout",
     "output_type": "stream",
     "text": [
      "Agent 2383 has eaten 4 sugar from sugar 1315\n",
      "Agent 2354 has eaten 4 sugar from sugar 2095\n",
      "Agent 2356 has eaten 4.0 sugar from sugar 60\n",
      "Agent 2374 has eaten 4 sugar from sugar 1253\n",
      "Agent 2321 has eaten 4.0 sugar from sugar 1584\n",
      "Agent 2299 has eaten 4 sugar from sugar 514\n",
      "Agent 2307 has eaten 4 sugar from sugar 1089\n",
      "Agent 2332 has eaten 4.0 sugar from sugar 44\n",
      "Agent 2370 has eaten 4 sugar from sugar 84\n",
      "Agent 2367 has eaten 4 sugar from sugar 1080\n",
      "Agent 2352 has eaten 4 sugar from sugar 2049\n",
      "Agent 2373 has eaten 4 sugar from sugar 1843\n",
      "Agent 2324 has eaten 4 sugar from sugar 1174\n",
      "Agent 2350 has eaten 4 sugar from sugar 670\n",
      "Agent 2369 has eaten 4 sugar from sugar 2167\n",
      "Agent 2303 has eaten 4 sugar from sugar 462\n",
      "Agent 2339 has eaten 4 sugar from sugar 442\n",
      "Agent 2325 has eaten 4.0 sugar from sugar 161\n",
      "Agent 2336 has eaten 4 sugar from sugar 1910\n",
      "Agent 2297 has eaten 4 sugar from sugar 277\n",
      "Agent 2341 has eaten 4 sugar from sugar 2238\n",
      "Agent 2386 has eaten 4 sugar from sugar 427\n",
      "Agent 2334 has eaten 4 sugar from sugar 1688\n",
      "Agent 2316 has eaten 4 sugar from sugar 302\n",
      "Agent 2319 has eaten 4 sugar from sugar 700\n",
      "Agent 2345 has eaten 4 sugar from sugar 94\n",
      "Agent 2318 has eaten 3.0 sugar from sugar 167\n",
      "Agent 2380 has eaten 4 sugar from sugar 251\n",
      "Agent 2322 has eaten 4 sugar from sugar 584\n",
      "Agent 2308 has eaten 4 sugar from sugar 916\n",
      "Agent 2359 has eaten 4 sugar from sugar 1261\n",
      "242\n"
     ]
    },
    {
     "name": "stderr",
     "output_type": "stream",
     "text": [
      "C:\\Users\\DELL\\AppData\\Local\\Temp\\ipykernel_484\\329254329.py:109: DeprecationWarning: Because of the shift to using AgentSet, in the future this attribute will return a dict withtype as key as AgentSet as value. Future behavior is available via RandomActivationByType._agents_by_type\n",
      "  for sugar_agent in self.schedule.agents_by_type[Sugar].values():\n",
      "C:\\Users\\DELL\\AppData\\Local\\Temp\\ipykernel_484\\329254329.py:101: DeprecationWarning: Because of the shift to using AgentSet, in the future this attribute will return a dict withtype as key as AgentSet as value. Future behavior is available via RandomActivationByType._agents_by_type\n",
      "  non_corrupt_agents_shuffle = list(self.schedule.agents_by_type[Non_corrupt_agent].values())\n",
      "C:\\Users\\DELL\\AppData\\Local\\Temp\\ipykernel_484\\329254329.py:91: DeprecationWarning: Because of the shift to using AgentSet, in the future this attribute will return a dict withtype as key as AgentSet as value. Future behavior is available via RandomActivationByType._agents_by_type\n",
      "  agents = [agent for agent in self.schedule.agents_by_type[Non_corrupt_agent].values()]\n"
     ]
    },
    {
     "name": "stdout",
     "output_type": "stream",
     "text": [
      "244\n"
     ]
    },
    {
     "name": "stderr",
     "output_type": "stream",
     "text": [
      "C:\\Users\\DELL\\AppData\\Local\\Temp\\ipykernel_484\\329254329.py:109: DeprecationWarning: Because of the shift to using AgentSet, in the future this attribute will return a dict withtype as key as AgentSet as value. Future behavior is available via RandomActivationByType._agents_by_type\n",
      "  for sugar_agent in self.schedule.agents_by_type[Sugar].values():\n",
      "C:\\Users\\DELL\\AppData\\Local\\Temp\\ipykernel_484\\329254329.py:101: DeprecationWarning: Because of the shift to using AgentSet, in the future this attribute will return a dict withtype as key as AgentSet as value. Future behavior is available via RandomActivationByType._agents_by_type\n",
      "  non_corrupt_agents_shuffle = list(self.schedule.agents_by_type[Non_corrupt_agent].values())\n",
      "C:\\Users\\DELL\\AppData\\Local\\Temp\\ipykernel_484\\329254329.py:91: DeprecationWarning: Because of the shift to using AgentSet, in the future this attribute will return a dict withtype as key as AgentSet as value. Future behavior is available via RandomActivationByType._agents_by_type\n",
      "  agents = [agent for agent in self.schedule.agents_by_type[Non_corrupt_agent].values()]\n"
     ]
    },
    {
     "name": "stdout",
     "output_type": "stream",
     "text": [
      "Agent 2359 has eaten 4 sugar from sugar 1261\n",
      "Agent 2380 has eaten 4 sugar from sugar 251\n",
      "Agent 2356 has eaten 4.0 sugar from sugar 60\n",
      "Agent 2303 has eaten 4 sugar from sugar 462\n",
      "Agent 2319 has eaten 4 sugar from sugar 700\n",
      "Agent 2352 has eaten 4 sugar from sugar 2049\n",
      "Agent 2325 has eaten 4.0 sugar from sugar 161\n",
      "Agent 2341 has eaten 4 sugar from sugar 2238\n",
      "Agent 2299 has eaten 4 sugar from sugar 514\n",
      "Agent 2297 has eaten 4 sugar from sugar 277\n",
      "Agent 2383 has eaten 4 sugar from sugar 1315\n",
      "Agent 2350 has eaten 4 sugar from sugar 670\n",
      "Agent 2316 has eaten 4 sugar from sugar 302\n",
      "Agent 2307 has eaten 4 sugar from sugar 1089\n",
      "Agent 2336 has eaten 4 sugar from sugar 1910\n",
      "Agent 2373 has eaten 4 sugar from sugar 1843\n",
      "Agent 2308 has eaten 4 sugar from sugar 916\n",
      "Agent 2367 has eaten 4 sugar from sugar 1080\n",
      "Agent 2354 has eaten 4 sugar from sugar 2095\n",
      "Agent 2369 has eaten 4 sugar from sugar 2167\n",
      "Agent 2332 has eaten 4.0 sugar from sugar 44\n",
      "Agent 2374 has eaten 4 sugar from sugar 1253\n",
      "Agent 2386 has eaten 4 sugar from sugar 427\n",
      "Agent 2345 has eaten 4 sugar from sugar 94\n",
      "Agent 2322 has eaten 4 sugar from sugar 584\n",
      "Agent 2370 has eaten 4 sugar from sugar 84\n",
      "Agent 2321 has eaten 4.0 sugar from sugar 1584\n",
      "Agent 2339 has eaten 4 sugar from sugar 442\n",
      "Agent 2324 has eaten 4 sugar from sugar 1174\n",
      "Agent 2318 has eaten 3.0 sugar from sugar 167\n",
      "Agent 2334 has eaten 4 sugar from sugar 1688\n",
      "246\n"
     ]
    },
    {
     "name": "stderr",
     "output_type": "stream",
     "text": [
      "C:\\Users\\DELL\\AppData\\Local\\Temp\\ipykernel_484\\329254329.py:109: DeprecationWarning: Because of the shift to using AgentSet, in the future this attribute will return a dict withtype as key as AgentSet as value. Future behavior is available via RandomActivationByType._agents_by_type\n",
      "  for sugar_agent in self.schedule.agents_by_type[Sugar].values():\n",
      "C:\\Users\\DELL\\AppData\\Local\\Temp\\ipykernel_484\\329254329.py:101: DeprecationWarning: Because of the shift to using AgentSet, in the future this attribute will return a dict withtype as key as AgentSet as value. Future behavior is available via RandomActivationByType._agents_by_type\n",
      "  non_corrupt_agents_shuffle = list(self.schedule.agents_by_type[Non_corrupt_agent].values())\n",
      "C:\\Users\\DELL\\AppData\\Local\\Temp\\ipykernel_484\\329254329.py:91: DeprecationWarning: Because of the shift to using AgentSet, in the future this attribute will return a dict withtype as key as AgentSet as value. Future behavior is available via RandomActivationByType._agents_by_type\n",
      "  agents = [agent for agent in self.schedule.agents_by_type[Non_corrupt_agent].values()]\n"
     ]
    },
    {
     "name": "stdout",
     "output_type": "stream",
     "text": [
      "248\n"
     ]
    },
    {
     "name": "stderr",
     "output_type": "stream",
     "text": [
      "C:\\Users\\DELL\\AppData\\Local\\Temp\\ipykernel_484\\329254329.py:109: DeprecationWarning: Because of the shift to using AgentSet, in the future this attribute will return a dict withtype as key as AgentSet as value. Future behavior is available via RandomActivationByType._agents_by_type\n",
      "  for sugar_agent in self.schedule.agents_by_type[Sugar].values():\n",
      "C:\\Users\\DELL\\AppData\\Local\\Temp\\ipykernel_484\\329254329.py:101: DeprecationWarning: Because of the shift to using AgentSet, in the future this attribute will return a dict withtype as key as AgentSet as value. Future behavior is available via RandomActivationByType._agents_by_type\n",
      "  non_corrupt_agents_shuffle = list(self.schedule.agents_by_type[Non_corrupt_agent].values())\n",
      "C:\\Users\\DELL\\AppData\\Local\\Temp\\ipykernel_484\\329254329.py:91: DeprecationWarning: Because of the shift to using AgentSet, in the future this attribute will return a dict withtype as key as AgentSet as value. Future behavior is available via RandomActivationByType._agents_by_type\n",
      "  agents = [agent for agent in self.schedule.agents_by_type[Non_corrupt_agent].values()]\n"
     ]
    },
    {
     "name": "stdout",
     "output_type": "stream",
     "text": [
      "Agent 2299 has eaten 4 sugar from sugar 514\n",
      "Agent 2322 has eaten 4 sugar from sugar 584\n",
      "Agent 2339 has eaten 4 sugar from sugar 442\n",
      "Agent 2325 has eaten 4.0 sugar from sugar 161\n",
      "Agent 2334 has eaten 4 sugar from sugar 1688\n",
      "Agent 2373 has eaten 4 sugar from sugar 1843\n",
      "Agent 2308 has eaten 4 sugar from sugar 916\n",
      "Agent 2367 has eaten 4 sugar from sugar 1080\n",
      "Agent 2324 has eaten 4 sugar from sugar 1174\n",
      "Agent 2370 has eaten 4 sugar from sugar 84\n",
      "Agent 2356 has eaten 4.0 sugar from sugar 60\n",
      "Agent 2380 has eaten 4 sugar from sugar 251\n",
      "Agent 2369 has eaten 4 sugar from sugar 2167\n",
      "Agent 2297 has eaten 4 sugar from sugar 277\n",
      "Agent 2336 has eaten 4 sugar from sugar 1910\n",
      "Agent 2383 has eaten 4 sugar from sugar 1315\n",
      "Agent 2374 has eaten 4 sugar from sugar 1253\n",
      "Agent 2345 has eaten 4 sugar from sugar 94\n",
      "Agent 2359 has eaten 4 sugar from sugar 1261\n",
      "Agent 2332 has eaten 4.0 sugar from sugar 44\n",
      "Agent 2354 has eaten 4 sugar from sugar 2095\n",
      "Agent 2341 has eaten 4 sugar from sugar 2238\n",
      "Agent 2321 has eaten 4.0 sugar from sugar 1584\n",
      "Agent 2316 has eaten 4 sugar from sugar 302\n",
      "Agent 2307 has eaten 4 sugar from sugar 1089\n",
      "Agent 2319 has eaten 4 sugar from sugar 700\n",
      "Agent 2318 has eaten 3.0 sugar from sugar 167\n",
      "Agent 2352 has eaten 4 sugar from sugar 2049\n",
      "Agent 2350 has eaten 4 sugar from sugar 670\n",
      "Agent 2303 has eaten 4 sugar from sugar 462\n",
      "Agent 2386 has eaten 4 sugar from sugar 427\n",
      "250\n"
     ]
    },
    {
     "name": "stderr",
     "output_type": "stream",
     "text": [
      "C:\\Users\\DELL\\AppData\\Local\\Temp\\ipykernel_484\\329254329.py:109: DeprecationWarning: Because of the shift to using AgentSet, in the future this attribute will return a dict withtype as key as AgentSet as value. Future behavior is available via RandomActivationByType._agents_by_type\n",
      "  for sugar_agent in self.schedule.agents_by_type[Sugar].values():\n",
      "C:\\Users\\DELL\\AppData\\Local\\Temp\\ipykernel_484\\329254329.py:101: DeprecationWarning: Because of the shift to using AgentSet, in the future this attribute will return a dict withtype as key as AgentSet as value. Future behavior is available via RandomActivationByType._agents_by_type\n",
      "  non_corrupt_agents_shuffle = list(self.schedule.agents_by_type[Non_corrupt_agent].values())\n",
      "C:\\Users\\DELL\\AppData\\Local\\Temp\\ipykernel_484\\329254329.py:91: DeprecationWarning: Because of the shift to using AgentSet, in the future this attribute will return a dict withtype as key as AgentSet as value. Future behavior is available via RandomActivationByType._agents_by_type\n",
      "  agents = [agent for agent in self.schedule.agents_by_type[Non_corrupt_agent].values()]\n"
     ]
    },
    {
     "name": "stdout",
     "output_type": "stream",
     "text": [
      "252\n"
     ]
    },
    {
     "name": "stderr",
     "output_type": "stream",
     "text": [
      "C:\\Users\\DELL\\AppData\\Local\\Temp\\ipykernel_484\\329254329.py:109: DeprecationWarning: Because of the shift to using AgentSet, in the future this attribute will return a dict withtype as key as AgentSet as value. Future behavior is available via RandomActivationByType._agents_by_type\n",
      "  for sugar_agent in self.schedule.agents_by_type[Sugar].values():\n",
      "C:\\Users\\DELL\\AppData\\Local\\Temp\\ipykernel_484\\329254329.py:101: DeprecationWarning: Because of the shift to using AgentSet, in the future this attribute will return a dict withtype as key as AgentSet as value. Future behavior is available via RandomActivationByType._agents_by_type\n",
      "  non_corrupt_agents_shuffle = list(self.schedule.agents_by_type[Non_corrupt_agent].values())\n",
      "C:\\Users\\DELL\\AppData\\Local\\Temp\\ipykernel_484\\329254329.py:91: DeprecationWarning: Because of the shift to using AgentSet, in the future this attribute will return a dict withtype as key as AgentSet as value. Future behavior is available via RandomActivationByType._agents_by_type\n",
      "  agents = [agent for agent in self.schedule.agents_by_type[Non_corrupt_agent].values()]\n"
     ]
    },
    {
     "name": "stdout",
     "output_type": "stream",
     "text": [
      "Agent 2359 has eaten 4 sugar from sugar 1261\n",
      "Agent 2383 has eaten 4 sugar from sugar 1315\n",
      "Agent 2339 has eaten 4 sugar from sugar 442\n",
      "Agent 2324 has eaten 4 sugar from sugar 1174\n",
      "Agent 2380 has eaten 4 sugar from sugar 251\n",
      "Agent 2370 has eaten 4 sugar from sugar 84\n",
      "Agent 2352 has eaten 4 sugar from sugar 2049\n",
      "Agent 2318 has eaten 3.0 sugar from sugar 167\n",
      "Agent 2345 has eaten 4 sugar from sugar 94\n",
      "Agent 2369 has eaten 4 sugar from sugar 2167\n",
      "Agent 2303 has eaten 4 sugar from sugar 462\n",
      "Agent 2374 has eaten 4 sugar from sugar 1253\n",
      "Agent 2316 has eaten 4 sugar from sugar 302\n",
      "Agent 2367 has eaten 4 sugar from sugar 1080\n",
      "Agent 2356 has eaten 4.0 sugar from sugar 60\n",
      "Agent 2308 has eaten 4 sugar from sugar 916\n",
      "Agent 2325 has eaten 4.0 sugar from sugar 161\n",
      "Agent 2321 has eaten 4.0 sugar from sugar 1584\n",
      "Agent 2297 has eaten 4 sugar from sugar 277\n",
      "Agent 2299 has eaten 4 sugar from sugar 514\n",
      "Agent 2350 has eaten 4 sugar from sugar 670\n",
      "Agent 2332 has eaten 4.0 sugar from sugar 44\n",
      "Agent 2319 has eaten 4 sugar from sugar 700\n",
      "Agent 2322 has eaten 4 sugar from sugar 584\n",
      "Agent 2354 has eaten 4 sugar from sugar 2095\n",
      "Agent 2341 has eaten 4 sugar from sugar 2238\n",
      "Agent 2307 has eaten 4 sugar from sugar 1089\n",
      "Agent 2336 has eaten 4 sugar from sugar 1910\n",
      "Agent 2334 has eaten 4 sugar from sugar 1688\n",
      "Agent 2386 has eaten 4 sugar from sugar 427\n",
      "Agent 2373 has eaten 4 sugar from sugar 1843\n",
      "254\n"
     ]
    },
    {
     "name": "stderr",
     "output_type": "stream",
     "text": [
      "C:\\Users\\DELL\\AppData\\Local\\Temp\\ipykernel_484\\329254329.py:109: DeprecationWarning: Because of the shift to using AgentSet, in the future this attribute will return a dict withtype as key as AgentSet as value. Future behavior is available via RandomActivationByType._agents_by_type\n",
      "  for sugar_agent in self.schedule.agents_by_type[Sugar].values():\n",
      "C:\\Users\\DELL\\AppData\\Local\\Temp\\ipykernel_484\\329254329.py:101: DeprecationWarning: Because of the shift to using AgentSet, in the future this attribute will return a dict withtype as key as AgentSet as value. Future behavior is available via RandomActivationByType._agents_by_type\n",
      "  non_corrupt_agents_shuffle = list(self.schedule.agents_by_type[Non_corrupt_agent].values())\n",
      "C:\\Users\\DELL\\AppData\\Local\\Temp\\ipykernel_484\\329254329.py:91: DeprecationWarning: Because of the shift to using AgentSet, in the future this attribute will return a dict withtype as key as AgentSet as value. Future behavior is available via RandomActivationByType._agents_by_type\n",
      "  agents = [agent for agent in self.schedule.agents_by_type[Non_corrupt_agent].values()]\n"
     ]
    },
    {
     "name": "stdout",
     "output_type": "stream",
     "text": [
      "256\n"
     ]
    },
    {
     "name": "stderr",
     "output_type": "stream",
     "text": [
      "C:\\Users\\DELL\\AppData\\Local\\Temp\\ipykernel_484\\329254329.py:109: DeprecationWarning: Because of the shift to using AgentSet, in the future this attribute will return a dict withtype as key as AgentSet as value. Future behavior is available via RandomActivationByType._agents_by_type\n",
      "  for sugar_agent in self.schedule.agents_by_type[Sugar].values():\n",
      "C:\\Users\\DELL\\AppData\\Local\\Temp\\ipykernel_484\\329254329.py:101: DeprecationWarning: Because of the shift to using AgentSet, in the future this attribute will return a dict withtype as key as AgentSet as value. Future behavior is available via RandomActivationByType._agents_by_type\n",
      "  non_corrupt_agents_shuffle = list(self.schedule.agents_by_type[Non_corrupt_agent].values())\n",
      "C:\\Users\\DELL\\AppData\\Local\\Temp\\ipykernel_484\\329254329.py:91: DeprecationWarning: Because of the shift to using AgentSet, in the future this attribute will return a dict withtype as key as AgentSet as value. Future behavior is available via RandomActivationByType._agents_by_type\n",
      "  agents = [agent for agent in self.schedule.agents_by_type[Non_corrupt_agent].values()]\n"
     ]
    },
    {
     "name": "stdout",
     "output_type": "stream",
     "text": [
      "Agent 2299 has eaten 4 sugar from sugar 514\n",
      "Agent 2352 has eaten 4 sugar from sugar 2049\n",
      "Agent 2303 has eaten 4 sugar from sugar 462\n",
      "Agent 2341 has eaten 4 sugar from sugar 2238\n",
      "Agent 2370 has eaten 4 sugar from sugar 84\n",
      "Agent 2316 has eaten 4 sugar from sugar 302\n",
      "Agent 2325 has eaten 4.0 sugar from sugar 161\n",
      "Agent 2339 has eaten 4 sugar from sugar 442\n",
      "Agent 2334 has eaten 4 sugar from sugar 1688\n",
      "Agent 2297 has eaten 4 sugar from sugar 277\n",
      "Agent 2374 has eaten 4 sugar from sugar 1253\n",
      "Agent 2318 has eaten 3.0 sugar from sugar 167\n",
      "Agent 2367 has eaten 4 sugar from sugar 1080\n",
      "Agent 2369 has eaten 4 sugar from sugar 2167\n",
      "Agent 2324 has eaten 4 sugar from sugar 1174\n",
      "Agent 2345 has eaten 4 sugar from sugar 94\n",
      "Agent 2356 has eaten 4.0 sugar from sugar 60\n",
      "Agent 2332 has eaten 4.0 sugar from sugar 44\n",
      "Agent 2380 has eaten 4 sugar from sugar 251\n",
      "Agent 2336 has eaten 4 sugar from sugar 1910\n",
      "Agent 2322 has eaten 4 sugar from sugar 584\n",
      "Agent 2319 has eaten 4 sugar from sugar 700\n",
      "Agent 2307 has eaten 4 sugar from sugar 1089\n",
      "Agent 2321 has eaten 4.0 sugar from sugar 1584\n",
      "Agent 2386 has eaten 4 sugar from sugar 427\n",
      "Agent 2308 has eaten 4 sugar from sugar 916\n",
      "Agent 2354 has eaten 4 sugar from sugar 2095\n",
      "Agent 2383 has eaten 4 sugar from sugar 1315\n",
      "Agent 2359 has eaten 4 sugar from sugar 1261\n",
      "Agent 2373 has eaten 4 sugar from sugar 1843\n",
      "Agent 2350 has eaten 4 sugar from sugar 670\n",
      "258\n"
     ]
    },
    {
     "name": "stderr",
     "output_type": "stream",
     "text": [
      "C:\\Users\\DELL\\AppData\\Local\\Temp\\ipykernel_484\\329254329.py:109: DeprecationWarning: Because of the shift to using AgentSet, in the future this attribute will return a dict withtype as key as AgentSet as value. Future behavior is available via RandomActivationByType._agents_by_type\n",
      "  for sugar_agent in self.schedule.agents_by_type[Sugar].values():\n",
      "C:\\Users\\DELL\\AppData\\Local\\Temp\\ipykernel_484\\329254329.py:101: DeprecationWarning: Because of the shift to using AgentSet, in the future this attribute will return a dict withtype as key as AgentSet as value. Future behavior is available via RandomActivationByType._agents_by_type\n",
      "  non_corrupt_agents_shuffle = list(self.schedule.agents_by_type[Non_corrupt_agent].values())\n",
      "C:\\Users\\DELL\\AppData\\Local\\Temp\\ipykernel_484\\329254329.py:91: DeprecationWarning: Because of the shift to using AgentSet, in the future this attribute will return a dict withtype as key as AgentSet as value. Future behavior is available via RandomActivationByType._agents_by_type\n",
      "  agents = [agent for agent in self.schedule.agents_by_type[Non_corrupt_agent].values()]\n"
     ]
    },
    {
     "name": "stdout",
     "output_type": "stream",
     "text": [
      "260\n"
     ]
    },
    {
     "name": "stderr",
     "output_type": "stream",
     "text": [
      "C:\\Users\\DELL\\AppData\\Local\\Temp\\ipykernel_484\\329254329.py:109: DeprecationWarning: Because of the shift to using AgentSet, in the future this attribute will return a dict withtype as key as AgentSet as value. Future behavior is available via RandomActivationByType._agents_by_type\n",
      "  for sugar_agent in self.schedule.agents_by_type[Sugar].values():\n",
      "C:\\Users\\DELL\\AppData\\Local\\Temp\\ipykernel_484\\329254329.py:101: DeprecationWarning: Because of the shift to using AgentSet, in the future this attribute will return a dict withtype as key as AgentSet as value. Future behavior is available via RandomActivationByType._agents_by_type\n",
      "  non_corrupt_agents_shuffle = list(self.schedule.agents_by_type[Non_corrupt_agent].values())\n",
      "C:\\Users\\DELL\\AppData\\Local\\Temp\\ipykernel_484\\329254329.py:91: DeprecationWarning: Because of the shift to using AgentSet, in the future this attribute will return a dict withtype as key as AgentSet as value. Future behavior is available via RandomActivationByType._agents_by_type\n",
      "  agents = [agent for agent in self.schedule.agents_by_type[Non_corrupt_agent].values()]\n"
     ]
    },
    {
     "name": "stdout",
     "output_type": "stream",
     "text": [
      "Agent 2325 has eaten 4.0 sugar from sugar 161\n",
      "Agent 2303 has eaten 4 sugar from sugar 462\n",
      "Agent 2299 has eaten 4 sugar from sugar 514\n",
      "Agent 2373 has eaten 4 sugar from sugar 1843\n",
      "Agent 2321 has eaten 4.0 sugar from sugar 1584\n",
      "Agent 2345 has eaten 4 sugar from sugar 94\n",
      "Agent 2356 has eaten 4.0 sugar from sugar 60\n",
      "Agent 2350 has eaten 4 sugar from sugar 670\n",
      "Agent 2380 has eaten 4 sugar from sugar 251\n",
      "Agent 2386 has eaten 4 sugar from sugar 427\n",
      "Agent 2369 has eaten 4 sugar from sugar 2167\n",
      "Agent 2318 has eaten 3.0 sugar from sugar 167\n",
      "Agent 2332 has eaten 4.0 sugar from sugar 44\n",
      "Agent 2316 has eaten 4 sugar from sugar 302\n",
      "Agent 2324 has eaten 4 sugar from sugar 1174\n",
      "Agent 2297 has eaten 4 sugar from sugar 277\n",
      "Agent 2359 has eaten 4 sugar from sugar 1261\n",
      "Agent 2334 has eaten 4 sugar from sugar 1688\n",
      "Agent 2367 has eaten 4 sugar from sugar 1080\n",
      "Agent 2370 has eaten 4 sugar from sugar 84\n",
      "Agent 2383 has eaten 4 sugar from sugar 1315\n",
      "Agent 2336 has eaten 4 sugar from sugar 1910\n",
      "Agent 2308 has eaten 4 sugar from sugar 916\n",
      "Agent 2319 has eaten 4 sugar from sugar 700\n",
      "Agent 2307 has eaten 4 sugar from sugar 1089\n",
      "Agent 2339 has eaten 4 sugar from sugar 442\n",
      "Agent 2341 has eaten 4 sugar from sugar 2238\n",
      "Agent 2322 has eaten 4 sugar from sugar 584\n",
      "Agent 2354 has eaten 4 sugar from sugar 2095\n",
      "Agent 2352 has eaten 4 sugar from sugar 2049\n",
      "Agent 2374 has eaten 4 sugar from sugar 1253\n",
      "262\n"
     ]
    },
    {
     "name": "stderr",
     "output_type": "stream",
     "text": [
      "C:\\Users\\DELL\\AppData\\Local\\Temp\\ipykernel_484\\329254329.py:109: DeprecationWarning: Because of the shift to using AgentSet, in the future this attribute will return a dict withtype as key as AgentSet as value. Future behavior is available via RandomActivationByType._agents_by_type\n",
      "  for sugar_agent in self.schedule.agents_by_type[Sugar].values():\n",
      "C:\\Users\\DELL\\AppData\\Local\\Temp\\ipykernel_484\\329254329.py:101: DeprecationWarning: Because of the shift to using AgentSet, in the future this attribute will return a dict withtype as key as AgentSet as value. Future behavior is available via RandomActivationByType._agents_by_type\n",
      "  non_corrupt_agents_shuffle = list(self.schedule.agents_by_type[Non_corrupt_agent].values())\n",
      "C:\\Users\\DELL\\AppData\\Local\\Temp\\ipykernel_484\\329254329.py:91: DeprecationWarning: Because of the shift to using AgentSet, in the future this attribute will return a dict withtype as key as AgentSet as value. Future behavior is available via RandomActivationByType._agents_by_type\n",
      "  agents = [agent for agent in self.schedule.agents_by_type[Non_corrupt_agent].values()]\n"
     ]
    },
    {
     "name": "stdout",
     "output_type": "stream",
     "text": [
      "264\n"
     ]
    },
    {
     "name": "stderr",
     "output_type": "stream",
     "text": [
      "C:\\Users\\DELL\\AppData\\Local\\Temp\\ipykernel_484\\329254329.py:109: DeprecationWarning: Because of the shift to using AgentSet, in the future this attribute will return a dict withtype as key as AgentSet as value. Future behavior is available via RandomActivationByType._agents_by_type\n",
      "  for sugar_agent in self.schedule.agents_by_type[Sugar].values():\n",
      "C:\\Users\\DELL\\AppData\\Local\\Temp\\ipykernel_484\\329254329.py:101: DeprecationWarning: Because of the shift to using AgentSet, in the future this attribute will return a dict withtype as key as AgentSet as value. Future behavior is available via RandomActivationByType._agents_by_type\n",
      "  non_corrupt_agents_shuffle = list(self.schedule.agents_by_type[Non_corrupt_agent].values())\n",
      "C:\\Users\\DELL\\AppData\\Local\\Temp\\ipykernel_484\\329254329.py:91: DeprecationWarning: Because of the shift to using AgentSet, in the future this attribute will return a dict withtype as key as AgentSet as value. Future behavior is available via RandomActivationByType._agents_by_type\n",
      "  agents = [agent for agent in self.schedule.agents_by_type[Non_corrupt_agent].values()]\n"
     ]
    },
    {
     "name": "stdout",
     "output_type": "stream",
     "text": [
      "Agent 2303 has eaten 4 sugar from sugar 462\n",
      "Agent 2334 has eaten 4 sugar from sugar 1688\n",
      "Agent 2350 has eaten 4 sugar from sugar 670\n",
      "Agent 2341 has eaten 4 sugar from sugar 2238\n",
      "Agent 2297 has eaten 4 sugar from sugar 277\n",
      "Agent 2369 has eaten 4 sugar from sugar 2167\n",
      "Agent 2356 has eaten 4.0 sugar from sugar 60\n",
      "Agent 2374 has eaten 4 sugar from sugar 1253\n",
      "Agent 2299 has eaten 4 sugar from sugar 514\n",
      "Agent 2307 has eaten 4 sugar from sugar 1089\n",
      "Agent 2325 has eaten 4.0 sugar from sugar 161\n",
      "Agent 2332 has eaten 4.0 sugar from sugar 44\n",
      "Agent 2352 has eaten 4 sugar from sugar 2049\n",
      "Agent 2354 has eaten 4 sugar from sugar 2095\n",
      "Agent 2359 has eaten 4 sugar from sugar 1261\n",
      "Agent 2324 has eaten 4 sugar from sugar 1174\n",
      "Agent 2380 has eaten 4 sugar from sugar 251\n",
      "Agent 2321 has eaten 4.0 sugar from sugar 1584\n",
      "Agent 2308 has eaten 4 sugar from sugar 916\n",
      "Agent 2373 has eaten 4 sugar from sugar 1843\n",
      "Agent 2383 has eaten 4 sugar from sugar 1315\n",
      "Agent 2339 has eaten 4 sugar from sugar 442\n",
      "Agent 2318 has eaten 3.0 sugar from sugar 167\n",
      "Agent 2319 has eaten 4 sugar from sugar 700\n",
      "Agent 2386 has eaten 4 sugar from sugar 427\n",
      "Agent 2322 has eaten 4 sugar from sugar 584\n",
      "Agent 2316 has eaten 4 sugar from sugar 302\n",
      "Agent 2370 has eaten 4 sugar from sugar 84\n",
      "Agent 2336 has eaten 4 sugar from sugar 1910\n",
      "Agent 2345 has eaten 4 sugar from sugar 94\n",
      "Agent 2367 has eaten 4 sugar from sugar 1080\n",
      "266\n"
     ]
    },
    {
     "name": "stderr",
     "output_type": "stream",
     "text": [
      "C:\\Users\\DELL\\AppData\\Local\\Temp\\ipykernel_484\\329254329.py:109: DeprecationWarning: Because of the shift to using AgentSet, in the future this attribute will return a dict withtype as key as AgentSet as value. Future behavior is available via RandomActivationByType._agents_by_type\n",
      "  for sugar_agent in self.schedule.agents_by_type[Sugar].values():\n",
      "C:\\Users\\DELL\\AppData\\Local\\Temp\\ipykernel_484\\329254329.py:101: DeprecationWarning: Because of the shift to using AgentSet, in the future this attribute will return a dict withtype as key as AgentSet as value. Future behavior is available via RandomActivationByType._agents_by_type\n",
      "  non_corrupt_agents_shuffle = list(self.schedule.agents_by_type[Non_corrupt_agent].values())\n",
      "C:\\Users\\DELL\\AppData\\Local\\Temp\\ipykernel_484\\329254329.py:91: DeprecationWarning: Because of the shift to using AgentSet, in the future this attribute will return a dict withtype as key as AgentSet as value. Future behavior is available via RandomActivationByType._agents_by_type\n",
      "  agents = [agent for agent in self.schedule.agents_by_type[Non_corrupt_agent].values()]\n"
     ]
    },
    {
     "name": "stdout",
     "output_type": "stream",
     "text": [
      "268\n"
     ]
    },
    {
     "name": "stderr",
     "output_type": "stream",
     "text": [
      "C:\\Users\\DELL\\AppData\\Local\\Temp\\ipykernel_484\\329254329.py:109: DeprecationWarning: Because of the shift to using AgentSet, in the future this attribute will return a dict withtype as key as AgentSet as value. Future behavior is available via RandomActivationByType._agents_by_type\n",
      "  for sugar_agent in self.schedule.agents_by_type[Sugar].values():\n",
      "C:\\Users\\DELL\\AppData\\Local\\Temp\\ipykernel_484\\329254329.py:101: DeprecationWarning: Because of the shift to using AgentSet, in the future this attribute will return a dict withtype as key as AgentSet as value. Future behavior is available via RandomActivationByType._agents_by_type\n",
      "  non_corrupt_agents_shuffle = list(self.schedule.agents_by_type[Non_corrupt_agent].values())\n",
      "C:\\Users\\DELL\\AppData\\Local\\Temp\\ipykernel_484\\329254329.py:91: DeprecationWarning: Because of the shift to using AgentSet, in the future this attribute will return a dict withtype as key as AgentSet as value. Future behavior is available via RandomActivationByType._agents_by_type\n",
      "  agents = [agent for agent in self.schedule.agents_by_type[Non_corrupt_agent].values()]\n"
     ]
    },
    {
     "name": "stdout",
     "output_type": "stream",
     "text": [
      "Agent 2370 has eaten 4 sugar from sugar 84\n",
      "Agent 2316 has eaten 4 sugar from sugar 302\n",
      "Agent 2303 has eaten 4 sugar from sugar 462\n",
      "Agent 2373 has eaten 4 sugar from sugar 1843\n",
      "Agent 2354 has eaten 4 sugar from sugar 2095\n",
      "Agent 2336 has eaten 4 sugar from sugar 1910\n",
      "Agent 2325 has eaten 4.0 sugar from sugar 161\n",
      "Agent 2319 has eaten 4 sugar from sugar 700\n",
      "Agent 2374 has eaten 4 sugar from sugar 1253\n",
      "Agent 2359 has eaten 4 sugar from sugar 1261\n",
      "Agent 2308 has eaten 4 sugar from sugar 916\n",
      "Agent 2321 has eaten 4.0 sugar from sugar 1584\n",
      "Agent 2307 has eaten 4 sugar from sugar 1089\n",
      "Agent 2339 has eaten 4 sugar from sugar 442\n",
      "Agent 2297 has eaten 4 sugar from sugar 277\n",
      "Agent 2380 has eaten 4 sugar from sugar 251\n",
      "Agent 2322 has eaten 4 sugar from sugar 584\n",
      "Agent 2356 has eaten 4.0 sugar from sugar 60\n",
      "Agent 2334 has eaten 4 sugar from sugar 1688\n",
      "Agent 2350 has eaten 4 sugar from sugar 670\n",
      "Agent 2386 has eaten 4 sugar from sugar 427\n",
      "Agent 2345 has eaten 4 sugar from sugar 94\n",
      "Agent 2299 has eaten 4 sugar from sugar 514\n",
      "Agent 2369 has eaten 4 sugar from sugar 2167\n",
      "Agent 2341 has eaten 4 sugar from sugar 2238\n",
      "Agent 2324 has eaten 4 sugar from sugar 1174\n",
      "Agent 2352 has eaten 4 sugar from sugar 2049\n",
      "Agent 2332 has eaten 4.0 sugar from sugar 44\n",
      "Agent 2383 has eaten 4 sugar from sugar 1315\n",
      "Agent 2318 has eaten 3.0 sugar from sugar 167\n",
      "Agent 2367 has eaten 4 sugar from sugar 1080\n",
      "270\n"
     ]
    },
    {
     "name": "stderr",
     "output_type": "stream",
     "text": [
      "C:\\Users\\DELL\\AppData\\Local\\Temp\\ipykernel_484\\329254329.py:109: DeprecationWarning: Because of the shift to using AgentSet, in the future this attribute will return a dict withtype as key as AgentSet as value. Future behavior is available via RandomActivationByType._agents_by_type\n",
      "  for sugar_agent in self.schedule.agents_by_type[Sugar].values():\n",
      "C:\\Users\\DELL\\AppData\\Local\\Temp\\ipykernel_484\\329254329.py:101: DeprecationWarning: Because of the shift to using AgentSet, in the future this attribute will return a dict withtype as key as AgentSet as value. Future behavior is available via RandomActivationByType._agents_by_type\n",
      "  non_corrupt_agents_shuffle = list(self.schedule.agents_by_type[Non_corrupt_agent].values())\n",
      "C:\\Users\\DELL\\AppData\\Local\\Temp\\ipykernel_484\\329254329.py:91: DeprecationWarning: Because of the shift to using AgentSet, in the future this attribute will return a dict withtype as key as AgentSet as value. Future behavior is available via RandomActivationByType._agents_by_type\n",
      "  agents = [agent for agent in self.schedule.agents_by_type[Non_corrupt_agent].values()]\n"
     ]
    },
    {
     "name": "stdout",
     "output_type": "stream",
     "text": [
      "272\n"
     ]
    },
    {
     "name": "stderr",
     "output_type": "stream",
     "text": [
      "C:\\Users\\DELL\\AppData\\Local\\Temp\\ipykernel_484\\329254329.py:109: DeprecationWarning: Because of the shift to using AgentSet, in the future this attribute will return a dict withtype as key as AgentSet as value. Future behavior is available via RandomActivationByType._agents_by_type\n",
      "  for sugar_agent in self.schedule.agents_by_type[Sugar].values():\n",
      "C:\\Users\\DELL\\AppData\\Local\\Temp\\ipykernel_484\\329254329.py:101: DeprecationWarning: Because of the shift to using AgentSet, in the future this attribute will return a dict withtype as key as AgentSet as value. Future behavior is available via RandomActivationByType._agents_by_type\n",
      "  non_corrupt_agents_shuffle = list(self.schedule.agents_by_type[Non_corrupt_agent].values())\n",
      "C:\\Users\\DELL\\AppData\\Local\\Temp\\ipykernel_484\\329254329.py:91: DeprecationWarning: Because of the shift to using AgentSet, in the future this attribute will return a dict withtype as key as AgentSet as value. Future behavior is available via RandomActivationByType._agents_by_type\n",
      "  agents = [agent for agent in self.schedule.agents_by_type[Non_corrupt_agent].values()]\n"
     ]
    },
    {
     "name": "stdout",
     "output_type": "stream",
     "text": [
      "Agent 2369 has eaten 4 sugar from sugar 2167\n",
      "Agent 2297 has eaten 4 sugar from sugar 277\n",
      "Agent 2299 has eaten 4 sugar from sugar 514\n",
      "Agent 2319 has eaten 4 sugar from sugar 700\n",
      "Agent 2339 has eaten 4 sugar from sugar 442\n",
      "Agent 2383 has eaten 4 sugar from sugar 1315\n",
      "Agent 2341 has eaten 4 sugar from sugar 2238\n",
      "Agent 2308 has eaten 4 sugar from sugar 916\n",
      "Agent 2321 has eaten 4.0 sugar from sugar 1584\n",
      "Agent 2324 has eaten 4 sugar from sugar 1174\n",
      "Agent 2374 has eaten 4 sugar from sugar 1253\n",
      "Agent 2345 has eaten 4 sugar from sugar 94\n",
      "Agent 2356 has eaten 4.0 sugar from sugar 60\n",
      "Agent 2334 has eaten 4 sugar from sugar 1688\n",
      "Agent 2359 has eaten 4 sugar from sugar 1261\n",
      "Agent 2370 has eaten 4 sugar from sugar 84\n",
      "Agent 2373 has eaten 4 sugar from sugar 1843\n",
      "Agent 2354 has eaten 4 sugar from sugar 2095\n",
      "Agent 2350 has eaten 4 sugar from sugar 670\n",
      "Agent 2307 has eaten 4 sugar from sugar 1089\n",
      "Agent 2336 has eaten 4 sugar from sugar 1910\n",
      "Agent 2367 has eaten 4 sugar from sugar 1080\n",
      "Agent 2322 has eaten 4 sugar from sugar 584\n",
      "Agent 2352 has eaten 4 sugar from sugar 2049\n",
      "Agent 2386 has eaten 4 sugar from sugar 427\n",
      "Agent 2303 has eaten 4 sugar from sugar 462\n",
      "Agent 2318 has eaten 3.0 sugar from sugar 167\n",
      "Agent 2316 has eaten 4 sugar from sugar 302\n",
      "Agent 2325 has eaten 4.0 sugar from sugar 161\n",
      "Agent 2380 has eaten 4 sugar from sugar 251\n",
      "Agent 2332 has eaten 4.0 sugar from sugar 44\n",
      "274\n"
     ]
    },
    {
     "name": "stderr",
     "output_type": "stream",
     "text": [
      "C:\\Users\\DELL\\AppData\\Local\\Temp\\ipykernel_484\\329254329.py:109: DeprecationWarning: Because of the shift to using AgentSet, in the future this attribute will return a dict withtype as key as AgentSet as value. Future behavior is available via RandomActivationByType._agents_by_type\n",
      "  for sugar_agent in self.schedule.agents_by_type[Sugar].values():\n",
      "C:\\Users\\DELL\\AppData\\Local\\Temp\\ipykernel_484\\329254329.py:101: DeprecationWarning: Because of the shift to using AgentSet, in the future this attribute will return a dict withtype as key as AgentSet as value. Future behavior is available via RandomActivationByType._agents_by_type\n",
      "  non_corrupt_agents_shuffle = list(self.schedule.agents_by_type[Non_corrupt_agent].values())\n",
      "C:\\Users\\DELL\\AppData\\Local\\Temp\\ipykernel_484\\329254329.py:91: DeprecationWarning: Because of the shift to using AgentSet, in the future this attribute will return a dict withtype as key as AgentSet as value. Future behavior is available via RandomActivationByType._agents_by_type\n",
      "  agents = [agent for agent in self.schedule.agents_by_type[Non_corrupt_agent].values()]\n"
     ]
    },
    {
     "name": "stdout",
     "output_type": "stream",
     "text": [
      "276\n"
     ]
    },
    {
     "name": "stderr",
     "output_type": "stream",
     "text": [
      "C:\\Users\\DELL\\AppData\\Local\\Temp\\ipykernel_484\\329254329.py:109: DeprecationWarning: Because of the shift to using AgentSet, in the future this attribute will return a dict withtype as key as AgentSet as value. Future behavior is available via RandomActivationByType._agents_by_type\n",
      "  for sugar_agent in self.schedule.agents_by_type[Sugar].values():\n",
      "C:\\Users\\DELL\\AppData\\Local\\Temp\\ipykernel_484\\329254329.py:101: DeprecationWarning: Because of the shift to using AgentSet, in the future this attribute will return a dict withtype as key as AgentSet as value. Future behavior is available via RandomActivationByType._agents_by_type\n",
      "  non_corrupt_agents_shuffle = list(self.schedule.agents_by_type[Non_corrupt_agent].values())\n",
      "C:\\Users\\DELL\\AppData\\Local\\Temp\\ipykernel_484\\329254329.py:91: DeprecationWarning: Because of the shift to using AgentSet, in the future this attribute will return a dict withtype as key as AgentSet as value. Future behavior is available via RandomActivationByType._agents_by_type\n",
      "  agents = [agent for agent in self.schedule.agents_by_type[Non_corrupt_agent].values()]\n"
     ]
    },
    {
     "name": "stdout",
     "output_type": "stream",
     "text": [
      "Agent 2352 has eaten 4 sugar from sugar 2049\n",
      "Agent 2386 has eaten 4 sugar from sugar 427\n",
      "Agent 2324 has eaten 4 sugar from sugar 1174\n",
      "Agent 2321 has eaten 4.0 sugar from sugar 1584\n",
      "Agent 2299 has eaten 4 sugar from sugar 514\n",
      "Agent 2345 has eaten 4 sugar from sugar 94\n",
      "Agent 2318 has eaten 3.0 sugar from sugar 167\n",
      "Agent 2336 has eaten 4 sugar from sugar 1910\n",
      "Agent 2383 has eaten 4 sugar from sugar 1315\n",
      "Agent 2303 has eaten 4 sugar from sugar 462\n",
      "Agent 2356 has eaten 4.0 sugar from sugar 60\n",
      "Agent 2359 has eaten 4 sugar from sugar 1261\n",
      "Agent 2374 has eaten 4 sugar from sugar 1253\n",
      "Agent 2370 has eaten 4 sugar from sugar 84\n",
      "Agent 2369 has eaten 4 sugar from sugar 2167\n",
      "Agent 2373 has eaten 4 sugar from sugar 1843\n",
      "Agent 2341 has eaten 4 sugar from sugar 2238\n",
      "Agent 2354 has eaten 4 sugar from sugar 2095\n",
      "Agent 2308 has eaten 4 sugar from sugar 916\n",
      "Agent 2325 has eaten 4.0 sugar from sugar 161\n",
      "Agent 2339 has eaten 4 sugar from sugar 442\n",
      "Agent 2367 has eaten 4 sugar from sugar 1080\n",
      "Agent 2307 has eaten 4 sugar from sugar 1089\n",
      "Agent 2322 has eaten 4 sugar from sugar 584\n",
      "Agent 2316 has eaten 4 sugar from sugar 302\n",
      "Agent 2332 has eaten 4.0 sugar from sugar 44\n",
      "Agent 2350 has eaten 4 sugar from sugar 670\n",
      "Agent 2297 has eaten 4 sugar from sugar 277\n",
      "Agent 2319 has eaten 4 sugar from sugar 700\n",
      "Agent 2380 has eaten 4 sugar from sugar 251\n",
      "Agent 2334 has eaten 4 sugar from sugar 1688\n",
      "278\n"
     ]
    },
    {
     "name": "stderr",
     "output_type": "stream",
     "text": [
      "C:\\Users\\DELL\\AppData\\Local\\Temp\\ipykernel_484\\329254329.py:109: DeprecationWarning: Because of the shift to using AgentSet, in the future this attribute will return a dict withtype as key as AgentSet as value. Future behavior is available via RandomActivationByType._agents_by_type\n",
      "  for sugar_agent in self.schedule.agents_by_type[Sugar].values():\n",
      "C:\\Users\\DELL\\AppData\\Local\\Temp\\ipykernel_484\\329254329.py:101: DeprecationWarning: Because of the shift to using AgentSet, in the future this attribute will return a dict withtype as key as AgentSet as value. Future behavior is available via RandomActivationByType._agents_by_type\n",
      "  non_corrupt_agents_shuffle = list(self.schedule.agents_by_type[Non_corrupt_agent].values())\n",
      "C:\\Users\\DELL\\AppData\\Local\\Temp\\ipykernel_484\\329254329.py:91: DeprecationWarning: Because of the shift to using AgentSet, in the future this attribute will return a dict withtype as key as AgentSet as value. Future behavior is available via RandomActivationByType._agents_by_type\n",
      "  agents = [agent for agent in self.schedule.agents_by_type[Non_corrupt_agent].values()]\n"
     ]
    },
    {
     "name": "stdout",
     "output_type": "stream",
     "text": [
      "280\n"
     ]
    },
    {
     "name": "stderr",
     "output_type": "stream",
     "text": [
      "C:\\Users\\DELL\\AppData\\Local\\Temp\\ipykernel_484\\329254329.py:109: DeprecationWarning: Because of the shift to using AgentSet, in the future this attribute will return a dict withtype as key as AgentSet as value. Future behavior is available via RandomActivationByType._agents_by_type\n",
      "  for sugar_agent in self.schedule.agents_by_type[Sugar].values():\n",
      "C:\\Users\\DELL\\AppData\\Local\\Temp\\ipykernel_484\\329254329.py:101: DeprecationWarning: Because of the shift to using AgentSet, in the future this attribute will return a dict withtype as key as AgentSet as value. Future behavior is available via RandomActivationByType._agents_by_type\n",
      "  non_corrupt_agents_shuffle = list(self.schedule.agents_by_type[Non_corrupt_agent].values())\n",
      "C:\\Users\\DELL\\AppData\\Local\\Temp\\ipykernel_484\\329254329.py:91: DeprecationWarning: Because of the shift to using AgentSet, in the future this attribute will return a dict withtype as key as AgentSet as value. Future behavior is available via RandomActivationByType._agents_by_type\n",
      "  agents = [agent for agent in self.schedule.agents_by_type[Non_corrupt_agent].values()]\n"
     ]
    },
    {
     "name": "stdout",
     "output_type": "stream",
     "text": [
      "Agent 2374 has eaten 4 sugar from sugar 1253\n",
      "Agent 2354 has eaten 4 sugar from sugar 2095\n",
      "Agent 2386 has eaten 4 sugar from sugar 427\n",
      "Agent 2370 has eaten 4 sugar from sugar 84\n",
      "Agent 2367 has eaten 4 sugar from sugar 1080\n",
      "Agent 2336 has eaten 4 sugar from sugar 1910\n",
      "Agent 2383 has eaten 4 sugar from sugar 1315\n",
      "Agent 2307 has eaten 4 sugar from sugar 1089\n",
      "Agent 2322 has eaten 4 sugar from sugar 584\n",
      "Agent 2339 has eaten 4 sugar from sugar 442\n",
      "Agent 2332 has eaten 4.0 sugar from sugar 44\n",
      "Agent 2321 has eaten 4.0 sugar from sugar 1584\n",
      "Agent 2352 has eaten 4 sugar from sugar 2049\n",
      "Agent 2297 has eaten 4 sugar from sugar 277\n",
      "Agent 2319 has eaten 4 sugar from sugar 700\n",
      "Agent 2324 has eaten 4 sugar from sugar 1174\n",
      "Agent 2359 has eaten 4 sugar from sugar 1261\n",
      "Agent 2316 has eaten 4 sugar from sugar 302\n",
      "Agent 2334 has eaten 4 sugar from sugar 1688\n",
      "Agent 2380 has eaten 4 sugar from sugar 251\n",
      "Agent 2303 has eaten 4 sugar from sugar 462\n",
      "Agent 2369 has eaten 4 sugar from sugar 2167\n",
      "Agent 2341 has eaten 4 sugar from sugar 2238\n",
      "Agent 2356 has eaten 4.0 sugar from sugar 60\n",
      "Agent 2373 has eaten 4 sugar from sugar 1843\n",
      "Agent 2308 has eaten 4 sugar from sugar 916\n",
      "Agent 2318 has eaten 3.0 sugar from sugar 167\n",
      "Agent 2345 has eaten 4 sugar from sugar 94\n",
      "Agent 2350 has eaten 4 sugar from sugar 670\n",
      "Agent 2325 has eaten 4.0 sugar from sugar 161\n",
      "Agent 2299 has eaten 4 sugar from sugar 514\n",
      "282\n"
     ]
    },
    {
     "name": "stderr",
     "output_type": "stream",
     "text": [
      "C:\\Users\\DELL\\AppData\\Local\\Temp\\ipykernel_484\\329254329.py:109: DeprecationWarning: Because of the shift to using AgentSet, in the future this attribute will return a dict withtype as key as AgentSet as value. Future behavior is available via RandomActivationByType._agents_by_type\n",
      "  for sugar_agent in self.schedule.agents_by_type[Sugar].values():\n",
      "C:\\Users\\DELL\\AppData\\Local\\Temp\\ipykernel_484\\329254329.py:101: DeprecationWarning: Because of the shift to using AgentSet, in the future this attribute will return a dict withtype as key as AgentSet as value. Future behavior is available via RandomActivationByType._agents_by_type\n",
      "  non_corrupt_agents_shuffle = list(self.schedule.agents_by_type[Non_corrupt_agent].values())\n",
      "C:\\Users\\DELL\\AppData\\Local\\Temp\\ipykernel_484\\329254329.py:91: DeprecationWarning: Because of the shift to using AgentSet, in the future this attribute will return a dict withtype as key as AgentSet as value. Future behavior is available via RandomActivationByType._agents_by_type\n",
      "  agents = [agent for agent in self.schedule.agents_by_type[Non_corrupt_agent].values()]\n"
     ]
    },
    {
     "name": "stdout",
     "output_type": "stream",
     "text": [
      "284\n"
     ]
    },
    {
     "name": "stderr",
     "output_type": "stream",
     "text": [
      "C:\\Users\\DELL\\AppData\\Local\\Temp\\ipykernel_484\\329254329.py:109: DeprecationWarning: Because of the shift to using AgentSet, in the future this attribute will return a dict withtype as key as AgentSet as value. Future behavior is available via RandomActivationByType._agents_by_type\n",
      "  for sugar_agent in self.schedule.agents_by_type[Sugar].values():\n",
      "C:\\Users\\DELL\\AppData\\Local\\Temp\\ipykernel_484\\329254329.py:101: DeprecationWarning: Because of the shift to using AgentSet, in the future this attribute will return a dict withtype as key as AgentSet as value. Future behavior is available via RandomActivationByType._agents_by_type\n",
      "  non_corrupt_agents_shuffle = list(self.schedule.agents_by_type[Non_corrupt_agent].values())\n",
      "C:\\Users\\DELL\\AppData\\Local\\Temp\\ipykernel_484\\329254329.py:91: DeprecationWarning: Because of the shift to using AgentSet, in the future this attribute will return a dict withtype as key as AgentSet as value. Future behavior is available via RandomActivationByType._agents_by_type\n",
      "  agents = [agent for agent in self.schedule.agents_by_type[Non_corrupt_agent].values()]\n"
     ]
    },
    {
     "name": "stdout",
     "output_type": "stream",
     "text": [
      "Agent 2356 has eaten 4.0 sugar from sugar 60\n",
      "Agent 2308 has eaten 4 sugar from sugar 916\n",
      "Agent 2359 has eaten 4 sugar from sugar 1261\n",
      "Agent 2341 has eaten 4 sugar from sugar 2238\n",
      "Agent 2316 has eaten 4 sugar from sugar 302\n",
      "Agent 2345 has eaten 4 sugar from sugar 94\n",
      "Agent 2321 has eaten 4.0 sugar from sugar 1584\n",
      "Agent 2370 has eaten 4 sugar from sugar 84\n",
      "Agent 2339 has eaten 4 sugar from sugar 442\n",
      "Agent 2303 has eaten 4 sugar from sugar 462\n",
      "Agent 2319 has eaten 4 sugar from sugar 700\n",
      "Agent 2383 has eaten 4 sugar from sugar 1315\n",
      "Agent 2352 has eaten 4 sugar from sugar 2049\n",
      "Agent 2373 has eaten 4 sugar from sugar 1843\n",
      "Agent 2354 has eaten 4 sugar from sugar 2095\n",
      "Agent 2332 has eaten 4.0 sugar from sugar 44\n",
      "Agent 2374 has eaten 4 sugar from sugar 1253\n",
      "Agent 2318 has eaten 3.0 sugar from sugar 167\n",
      "Agent 2336 has eaten 4 sugar from sugar 1910\n",
      "Agent 2369 has eaten 4 sugar from sugar 2167\n",
      "Agent 2380 has eaten 4 sugar from sugar 251\n",
      "Agent 2350 has eaten 4 sugar from sugar 670\n",
      "Agent 2324 has eaten 4 sugar from sugar 1174\n",
      "Agent 2307 has eaten 4 sugar from sugar 1089\n",
      "Agent 2334 has eaten 4 sugar from sugar 1688\n",
      "Agent 2325 has eaten 4.0 sugar from sugar 161\n",
      "Agent 2322 has eaten 4 sugar from sugar 584\n",
      "Agent 2297 has eaten 4 sugar from sugar 277\n",
      "Agent 2386 has eaten 4 sugar from sugar 427\n",
      "Agent 2367 has eaten 4 sugar from sugar 1080\n",
      "Agent 2299 has eaten 4 sugar from sugar 514\n",
      "286\n"
     ]
    },
    {
     "name": "stderr",
     "output_type": "stream",
     "text": [
      "C:\\Users\\DELL\\AppData\\Local\\Temp\\ipykernel_484\\329254329.py:109: DeprecationWarning: Because of the shift to using AgentSet, in the future this attribute will return a dict withtype as key as AgentSet as value. Future behavior is available via RandomActivationByType._agents_by_type\n",
      "  for sugar_agent in self.schedule.agents_by_type[Sugar].values():\n",
      "C:\\Users\\DELL\\AppData\\Local\\Temp\\ipykernel_484\\329254329.py:101: DeprecationWarning: Because of the shift to using AgentSet, in the future this attribute will return a dict withtype as key as AgentSet as value. Future behavior is available via RandomActivationByType._agents_by_type\n",
      "  non_corrupt_agents_shuffle = list(self.schedule.agents_by_type[Non_corrupt_agent].values())\n",
      "C:\\Users\\DELL\\AppData\\Local\\Temp\\ipykernel_484\\329254329.py:91: DeprecationWarning: Because of the shift to using AgentSet, in the future this attribute will return a dict withtype as key as AgentSet as value. Future behavior is available via RandomActivationByType._agents_by_type\n",
      "  agents = [agent for agent in self.schedule.agents_by_type[Non_corrupt_agent].values()]\n"
     ]
    },
    {
     "name": "stdout",
     "output_type": "stream",
     "text": [
      "288\n"
     ]
    },
    {
     "name": "stderr",
     "output_type": "stream",
     "text": [
      "C:\\Users\\DELL\\AppData\\Local\\Temp\\ipykernel_484\\329254329.py:109: DeprecationWarning: Because of the shift to using AgentSet, in the future this attribute will return a dict withtype as key as AgentSet as value. Future behavior is available via RandomActivationByType._agents_by_type\n",
      "  for sugar_agent in self.schedule.agents_by_type[Sugar].values():\n",
      "C:\\Users\\DELL\\AppData\\Local\\Temp\\ipykernel_484\\329254329.py:101: DeprecationWarning: Because of the shift to using AgentSet, in the future this attribute will return a dict withtype as key as AgentSet as value. Future behavior is available via RandomActivationByType._agents_by_type\n",
      "  non_corrupt_agents_shuffle = list(self.schedule.agents_by_type[Non_corrupt_agent].values())\n",
      "C:\\Users\\DELL\\AppData\\Local\\Temp\\ipykernel_484\\329254329.py:91: DeprecationWarning: Because of the shift to using AgentSet, in the future this attribute will return a dict withtype as key as AgentSet as value. Future behavior is available via RandomActivationByType._agents_by_type\n",
      "  agents = [agent for agent in self.schedule.agents_by_type[Non_corrupt_agent].values()]\n"
     ]
    },
    {
     "name": "stdout",
     "output_type": "stream",
     "text": [
      "Agent 2297 has eaten 4 sugar from sugar 277\n",
      "Agent 2324 has eaten 4 sugar from sugar 1174\n",
      "Agent 2325 has eaten 4.0 sugar from sugar 161\n",
      "Agent 2359 has eaten 4 sugar from sugar 1261\n",
      "Agent 2341 has eaten 4 sugar from sugar 2238\n",
      "Agent 2318 has eaten 3.0 sugar from sugar 167\n",
      "Agent 2352 has eaten 4 sugar from sugar 2049\n",
      "Agent 2336 has eaten 4 sugar from sugar 1910\n",
      "Agent 2316 has eaten 4 sugar from sugar 302\n",
      "Agent 2303 has eaten 4 sugar from sugar 462\n",
      "Agent 2322 has eaten 4 sugar from sugar 584\n",
      "Agent 2356 has eaten 4.0 sugar from sugar 60\n",
      "Agent 2334 has eaten 4 sugar from sugar 1688\n",
      "Agent 2319 has eaten 4 sugar from sugar 700\n",
      "Agent 2308 has eaten 4 sugar from sugar 916\n",
      "Agent 2373 has eaten 4 sugar from sugar 1843\n",
      "Agent 2345 has eaten 4 sugar from sugar 94\n",
      "Agent 2369 has eaten 4 sugar from sugar 2167\n",
      "Agent 2367 has eaten 4 sugar from sugar 1080\n",
      "Agent 2350 has eaten 4 sugar from sugar 670\n",
      "Agent 2332 has eaten 4.0 sugar from sugar 44\n",
      "Agent 2321 has eaten 4.0 sugar from sugar 1584\n",
      "Agent 2354 has eaten 4 sugar from sugar 2095\n",
      "Agent 2299 has eaten 4 sugar from sugar 514\n",
      "Agent 2386 has eaten 4 sugar from sugar 427\n",
      "Agent 2339 has eaten 4 sugar from sugar 442\n",
      "Agent 2380 has eaten 4 sugar from sugar 251\n",
      "Agent 2374 has eaten 4 sugar from sugar 1253\n",
      "Agent 2383 has eaten 4 sugar from sugar 1315\n",
      "Agent 2370 has eaten 4 sugar from sugar 84\n",
      "Agent 2307 has eaten 4 sugar from sugar 1089\n",
      "290\n"
     ]
    },
    {
     "name": "stderr",
     "output_type": "stream",
     "text": [
      "C:\\Users\\DELL\\AppData\\Local\\Temp\\ipykernel_484\\329254329.py:109: DeprecationWarning: Because of the shift to using AgentSet, in the future this attribute will return a dict withtype as key as AgentSet as value. Future behavior is available via RandomActivationByType._agents_by_type\n",
      "  for sugar_agent in self.schedule.agents_by_type[Sugar].values():\n",
      "C:\\Users\\DELL\\AppData\\Local\\Temp\\ipykernel_484\\329254329.py:101: DeprecationWarning: Because of the shift to using AgentSet, in the future this attribute will return a dict withtype as key as AgentSet as value. Future behavior is available via RandomActivationByType._agents_by_type\n",
      "  non_corrupt_agents_shuffle = list(self.schedule.agents_by_type[Non_corrupt_agent].values())\n",
      "C:\\Users\\DELL\\AppData\\Local\\Temp\\ipykernel_484\\329254329.py:91: DeprecationWarning: Because of the shift to using AgentSet, in the future this attribute will return a dict withtype as key as AgentSet as value. Future behavior is available via RandomActivationByType._agents_by_type\n",
      "  agents = [agent for agent in self.schedule.agents_by_type[Non_corrupt_agent].values()]\n"
     ]
    },
    {
     "name": "stdout",
     "output_type": "stream",
     "text": [
      "292\n"
     ]
    },
    {
     "name": "stderr",
     "output_type": "stream",
     "text": [
      "C:\\Users\\DELL\\AppData\\Local\\Temp\\ipykernel_484\\329254329.py:109: DeprecationWarning: Because of the shift to using AgentSet, in the future this attribute will return a dict withtype as key as AgentSet as value. Future behavior is available via RandomActivationByType._agents_by_type\n",
      "  for sugar_agent in self.schedule.agents_by_type[Sugar].values():\n",
      "C:\\Users\\DELL\\AppData\\Local\\Temp\\ipykernel_484\\329254329.py:101: DeprecationWarning: Because of the shift to using AgentSet, in the future this attribute will return a dict withtype as key as AgentSet as value. Future behavior is available via RandomActivationByType._agents_by_type\n",
      "  non_corrupt_agents_shuffle = list(self.schedule.agents_by_type[Non_corrupt_agent].values())\n",
      "C:\\Users\\DELL\\AppData\\Local\\Temp\\ipykernel_484\\329254329.py:91: DeprecationWarning: Because of the shift to using AgentSet, in the future this attribute will return a dict withtype as key as AgentSet as value. Future behavior is available via RandomActivationByType._agents_by_type\n",
      "  agents = [agent for agent in self.schedule.agents_by_type[Non_corrupt_agent].values()]\n"
     ]
    },
    {
     "name": "stdout",
     "output_type": "stream",
     "text": [
      "Agent 2299 has eaten 4 sugar from sugar 514\n",
      "Agent 2325 has eaten 4.0 sugar from sugar 161\n",
      "Agent 2370 has eaten 4 sugar from sugar 84\n",
      "Agent 2373 has eaten 4 sugar from sugar 1843\n",
      "Agent 2324 has eaten 4 sugar from sugar 1174\n",
      "Agent 2307 has eaten 4 sugar from sugar 1089\n",
      "Agent 2380 has eaten 4 sugar from sugar 251\n",
      "Agent 2356 has eaten 4.0 sugar from sugar 60\n",
      "Agent 2339 has eaten 4 sugar from sugar 442\n",
      "Agent 2308 has eaten 4 sugar from sugar 916\n",
      "Agent 2322 has eaten 4 sugar from sugar 584\n",
      "Agent 2350 has eaten 4 sugar from sugar 670\n",
      "Agent 2354 has eaten 4 sugar from sugar 2095\n",
      "Agent 2316 has eaten 4 sugar from sugar 302\n",
      "Agent 2369 has eaten 4 sugar from sugar 2167\n",
      "Agent 2341 has eaten 4 sugar from sugar 2238\n",
      "Agent 2318 has eaten 3.0 sugar from sugar 167\n",
      "Agent 2383 has eaten 4 sugar from sugar 1315\n",
      "Agent 2352 has eaten 4 sugar from sugar 2049\n",
      "Agent 2359 has eaten 4 sugar from sugar 1261\n",
      "Agent 2336 has eaten 4 sugar from sugar 1910\n",
      "Agent 2386 has eaten 4 sugar from sugar 427\n",
      "Agent 2334 has eaten 4 sugar from sugar 1688\n",
      "Agent 2319 has eaten 4 sugar from sugar 700\n",
      "Agent 2332 has eaten 4.0 sugar from sugar 44\n",
      "Agent 2297 has eaten 4 sugar from sugar 277\n",
      "Agent 2303 has eaten 4 sugar from sugar 462\n",
      "Agent 2321 has eaten 4.0 sugar from sugar 1584\n",
      "Agent 2367 has eaten 4 sugar from sugar 1080\n",
      "Agent 2345 has eaten 4 sugar from sugar 94\n",
      "Agent 2374 has eaten 4 sugar from sugar 1253\n",
      "294\n"
     ]
    },
    {
     "name": "stderr",
     "output_type": "stream",
     "text": [
      "C:\\Users\\DELL\\AppData\\Local\\Temp\\ipykernel_484\\329254329.py:109: DeprecationWarning: Because of the shift to using AgentSet, in the future this attribute will return a dict withtype as key as AgentSet as value. Future behavior is available via RandomActivationByType._agents_by_type\n",
      "  for sugar_agent in self.schedule.agents_by_type[Sugar].values():\n",
      "C:\\Users\\DELL\\AppData\\Local\\Temp\\ipykernel_484\\329254329.py:101: DeprecationWarning: Because of the shift to using AgentSet, in the future this attribute will return a dict withtype as key as AgentSet as value. Future behavior is available via RandomActivationByType._agents_by_type\n",
      "  non_corrupt_agents_shuffle = list(self.schedule.agents_by_type[Non_corrupt_agent].values())\n",
      "C:\\Users\\DELL\\AppData\\Local\\Temp\\ipykernel_484\\329254329.py:91: DeprecationWarning: Because of the shift to using AgentSet, in the future this attribute will return a dict withtype as key as AgentSet as value. Future behavior is available via RandomActivationByType._agents_by_type\n",
      "  agents = [agent for agent in self.schedule.agents_by_type[Non_corrupt_agent].values()]\n"
     ]
    },
    {
     "name": "stdout",
     "output_type": "stream",
     "text": [
      "296\n"
     ]
    },
    {
     "name": "stderr",
     "output_type": "stream",
     "text": [
      "C:\\Users\\DELL\\AppData\\Local\\Temp\\ipykernel_484\\329254329.py:109: DeprecationWarning: Because of the shift to using AgentSet, in the future this attribute will return a dict withtype as key as AgentSet as value. Future behavior is available via RandomActivationByType._agents_by_type\n",
      "  for sugar_agent in self.schedule.agents_by_type[Sugar].values():\n",
      "C:\\Users\\DELL\\AppData\\Local\\Temp\\ipykernel_484\\329254329.py:101: DeprecationWarning: Because of the shift to using AgentSet, in the future this attribute will return a dict withtype as key as AgentSet as value. Future behavior is available via RandomActivationByType._agents_by_type\n",
      "  non_corrupt_agents_shuffle = list(self.schedule.agents_by_type[Non_corrupt_agent].values())\n",
      "C:\\Users\\DELL\\AppData\\Local\\Temp\\ipykernel_484\\329254329.py:91: DeprecationWarning: Because of the shift to using AgentSet, in the future this attribute will return a dict withtype as key as AgentSet as value. Future behavior is available via RandomActivationByType._agents_by_type\n",
      "  agents = [agent for agent in self.schedule.agents_by_type[Non_corrupt_agent].values()]\n"
     ]
    },
    {
     "name": "stdout",
     "output_type": "stream",
     "text": [
      "Agent 2380 has eaten 4 sugar from sugar 251\n",
      "Agent 2322 has eaten 4 sugar from sugar 584\n",
      "Agent 2324 has eaten 4 sugar from sugar 1174\n",
      "Agent 2369 has eaten 4 sugar from sugar 2167\n",
      "Agent 2386 has eaten 4 sugar from sugar 427\n",
      "Agent 2383 has eaten 4 sugar from sugar 1315\n",
      "Agent 2356 has eaten 4.0 sugar from sugar 60\n",
      "Agent 2359 has eaten 4 sugar from sugar 1261\n",
      "Agent 2354 has eaten 4 sugar from sugar 2095\n",
      "Agent 2299 has eaten 4 sugar from sugar 514\n",
      "Agent 2316 has eaten 4 sugar from sugar 302\n",
      "Agent 2341 has eaten 4 sugar from sugar 2238\n",
      "Agent 2350 has eaten 4 sugar from sugar 670\n",
      "Agent 2307 has eaten 4 sugar from sugar 1089\n",
      "Agent 2339 has eaten 4 sugar from sugar 442\n",
      "Agent 2370 has eaten 4 sugar from sugar 84\n",
      "Agent 2336 has eaten 4 sugar from sugar 1910\n",
      "Agent 2297 has eaten 4 sugar from sugar 277\n",
      "Agent 2319 has eaten 4 sugar from sugar 700\n",
      "Agent 2325 has eaten 4.0 sugar from sugar 161\n",
      "Agent 2321 has eaten 4.0 sugar from sugar 1584\n",
      "Agent 2318 has eaten 3.0 sugar from sugar 167\n",
      "Agent 2334 has eaten 4 sugar from sugar 1688\n",
      "Agent 2367 has eaten 4 sugar from sugar 1080\n",
      "Agent 2303 has eaten 4 sugar from sugar 462\n",
      "Agent 2373 has eaten 4 sugar from sugar 1843\n",
      "Agent 2332 has eaten 4.0 sugar from sugar 44\n",
      "Agent 2308 has eaten 4 sugar from sugar 916\n",
      "Agent 2352 has eaten 4 sugar from sugar 2049\n",
      "Agent 2345 has eaten 4 sugar from sugar 94\n",
      "Agent 2374 has eaten 4 sugar from sugar 1253\n",
      "298\n"
     ]
    },
    {
     "name": "stderr",
     "output_type": "stream",
     "text": [
      "C:\\Users\\DELL\\AppData\\Local\\Temp\\ipykernel_484\\329254329.py:109: DeprecationWarning: Because of the shift to using AgentSet, in the future this attribute will return a dict withtype as key as AgentSet as value. Future behavior is available via RandomActivationByType._agents_by_type\n",
      "  for sugar_agent in self.schedule.agents_by_type[Sugar].values():\n",
      "C:\\Users\\DELL\\AppData\\Local\\Temp\\ipykernel_484\\329254329.py:101: DeprecationWarning: Because of the shift to using AgentSet, in the future this attribute will return a dict withtype as key as AgentSet as value. Future behavior is available via RandomActivationByType._agents_by_type\n",
      "  non_corrupt_agents_shuffle = list(self.schedule.agents_by_type[Non_corrupt_agent].values())\n",
      "C:\\Users\\DELL\\AppData\\Local\\Temp\\ipykernel_484\\329254329.py:91: DeprecationWarning: Because of the shift to using AgentSet, in the future this attribute will return a dict withtype as key as AgentSet as value. Future behavior is available via RandomActivationByType._agents_by_type\n",
      "  agents = [agent for agent in self.schedule.agents_by_type[Non_corrupt_agent].values()]\n"
     ]
    },
    {
     "name": "stdout",
     "output_type": "stream",
     "text": [
      "300\n"
     ]
    },
    {
     "name": "stderr",
     "output_type": "stream",
     "text": [
      "C:\\Users\\DELL\\AppData\\Local\\Temp\\ipykernel_484\\329254329.py:109: DeprecationWarning: Because of the shift to using AgentSet, in the future this attribute will return a dict withtype as key as AgentSet as value. Future behavior is available via RandomActivationByType._agents_by_type\n",
      "  for sugar_agent in self.schedule.agents_by_type[Sugar].values():\n",
      "C:\\Users\\DELL\\AppData\\Local\\Temp\\ipykernel_484\\329254329.py:101: DeprecationWarning: Because of the shift to using AgentSet, in the future this attribute will return a dict withtype as key as AgentSet as value. Future behavior is available via RandomActivationByType._agents_by_type\n",
      "  non_corrupt_agents_shuffle = list(self.schedule.agents_by_type[Non_corrupt_agent].values())\n",
      "C:\\Users\\DELL\\AppData\\Local\\Temp\\ipykernel_484\\329254329.py:91: DeprecationWarning: Because of the shift to using AgentSet, in the future this attribute will return a dict withtype as key as AgentSet as value. Future behavior is available via RandomActivationByType._agents_by_type\n",
      "  agents = [agent for agent in self.schedule.agents_by_type[Non_corrupt_agent].values()]\n"
     ]
    },
    {
     "name": "stdout",
     "output_type": "stream",
     "text": [
      "Agent 2319 has eaten 4 sugar from sugar 700\n",
      "Agent 2369 has eaten 4 sugar from sugar 2167\n",
      "Agent 2380 has eaten 4 sugar from sugar 251\n",
      "Agent 2324 has eaten 4 sugar from sugar 1174\n",
      "Agent 2370 has eaten 4 sugar from sugar 84\n",
      "Agent 2299 has eaten 4 sugar from sugar 514\n",
      "Agent 2318 has eaten 3.0 sugar from sugar 167\n",
      "Agent 2321 has eaten 4.0 sugar from sugar 1584\n",
      "Agent 2316 has eaten 4 sugar from sugar 302\n",
      "Agent 2336 has eaten 4 sugar from sugar 1910\n",
      "Agent 2374 has eaten 4 sugar from sugar 1253\n",
      "Agent 2359 has eaten 4 sugar from sugar 1261\n",
      "Agent 2373 has eaten 4 sugar from sugar 1843\n",
      "Agent 2354 has eaten 4 sugar from sugar 2095\n",
      "Agent 2334 has eaten 4 sugar from sugar 1688\n",
      "Agent 2308 has eaten 4 sugar from sugar 916\n",
      "Agent 2325 has eaten 4.0 sugar from sugar 161\n",
      "Agent 2356 has eaten 4.0 sugar from sugar 60\n",
      "Agent 2332 has eaten 4.0 sugar from sugar 44\n",
      "Agent 2386 has eaten 4 sugar from sugar 427\n",
      "Agent 2341 has eaten 4 sugar from sugar 2238\n",
      "Agent 2303 has eaten 4 sugar from sugar 462\n",
      "Agent 2383 has eaten 4 sugar from sugar 1315\n",
      "Agent 2339 has eaten 4 sugar from sugar 442\n",
      "Agent 2352 has eaten 4 sugar from sugar 2049\n",
      "Agent 2297 has eaten 4 sugar from sugar 277\n",
      "Agent 2307 has eaten 4 sugar from sugar 1089\n",
      "Agent 2367 has eaten 4 sugar from sugar 1080\n",
      "Agent 2350 has eaten 4 sugar from sugar 670\n",
      "Agent 2322 has eaten 4 sugar from sugar 584\n",
      "Agent 2345 has eaten 4 sugar from sugar 94\n",
      "302\n"
     ]
    },
    {
     "name": "stderr",
     "output_type": "stream",
     "text": [
      "C:\\Users\\DELL\\AppData\\Local\\Temp\\ipykernel_484\\329254329.py:109: DeprecationWarning: Because of the shift to using AgentSet, in the future this attribute will return a dict withtype as key as AgentSet as value. Future behavior is available via RandomActivationByType._agents_by_type\n",
      "  for sugar_agent in self.schedule.agents_by_type[Sugar].values():\n",
      "C:\\Users\\DELL\\AppData\\Local\\Temp\\ipykernel_484\\329254329.py:101: DeprecationWarning: Because of the shift to using AgentSet, in the future this attribute will return a dict withtype as key as AgentSet as value. Future behavior is available via RandomActivationByType._agents_by_type\n",
      "  non_corrupt_agents_shuffle = list(self.schedule.agents_by_type[Non_corrupt_agent].values())\n",
      "C:\\Users\\DELL\\AppData\\Local\\Temp\\ipykernel_484\\329254329.py:91: DeprecationWarning: Because of the shift to using AgentSet, in the future this attribute will return a dict withtype as key as AgentSet as value. Future behavior is available via RandomActivationByType._agents_by_type\n",
      "  agents = [agent for agent in self.schedule.agents_by_type[Non_corrupt_agent].values()]\n"
     ]
    },
    {
     "name": "stdout",
     "output_type": "stream",
     "text": [
      "304\n"
     ]
    },
    {
     "name": "stderr",
     "output_type": "stream",
     "text": [
      "C:\\Users\\DELL\\AppData\\Local\\Temp\\ipykernel_484\\329254329.py:109: DeprecationWarning: Because of the shift to using AgentSet, in the future this attribute will return a dict withtype as key as AgentSet as value. Future behavior is available via RandomActivationByType._agents_by_type\n",
      "  for sugar_agent in self.schedule.agents_by_type[Sugar].values():\n",
      "C:\\Users\\DELL\\AppData\\Local\\Temp\\ipykernel_484\\329254329.py:101: DeprecationWarning: Because of the shift to using AgentSet, in the future this attribute will return a dict withtype as key as AgentSet as value. Future behavior is available via RandomActivationByType._agents_by_type\n",
      "  non_corrupt_agents_shuffle = list(self.schedule.agents_by_type[Non_corrupt_agent].values())\n",
      "C:\\Users\\DELL\\AppData\\Local\\Temp\\ipykernel_484\\329254329.py:91: DeprecationWarning: Because of the shift to using AgentSet, in the future this attribute will return a dict withtype as key as AgentSet as value. Future behavior is available via RandomActivationByType._agents_by_type\n",
      "  agents = [agent for agent in self.schedule.agents_by_type[Non_corrupt_agent].values()]\n"
     ]
    },
    {
     "name": "stdout",
     "output_type": "stream",
     "text": [
      "Agent 2345 has eaten 4 sugar from sugar 94\n",
      "Agent 2374 has eaten 4 sugar from sugar 1253\n",
      "Agent 2321 has eaten 4.0 sugar from sugar 1584\n",
      "Agent 2308 has eaten 4 sugar from sugar 916\n",
      "Agent 2380 has eaten 4 sugar from sugar 251\n",
      "Agent 2339 has eaten 4 sugar from sugar 442\n",
      "Agent 2369 has eaten 4 sugar from sugar 2167\n",
      "Agent 2319 has eaten 4 sugar from sugar 700\n",
      "Agent 2383 has eaten 4 sugar from sugar 1315\n",
      "Agent 2316 has eaten 4 sugar from sugar 302\n",
      "Agent 2359 has eaten 4 sugar from sugar 1261\n",
      "Agent 2352 has eaten 4 sugar from sugar 2049\n",
      "Agent 2370 has eaten 4 sugar from sugar 84\n",
      "Agent 2336 has eaten 4 sugar from sugar 1910\n",
      "Agent 2356 has eaten 4.0 sugar from sugar 60\n",
      "Agent 2299 has eaten 4 sugar from sugar 514\n",
      "Agent 2350 has eaten 4 sugar from sugar 670\n",
      "Agent 2341 has eaten 4 sugar from sugar 2238\n",
      "Agent 2322 has eaten 4 sugar from sugar 584\n",
      "Agent 2318 has eaten 3.0 sugar from sugar 167\n",
      "Agent 2354 has eaten 4 sugar from sugar 2095\n",
      "Agent 2373 has eaten 4 sugar from sugar 1843\n",
      "Agent 2334 has eaten 4 sugar from sugar 1688\n",
      "Agent 2386 has eaten 4 sugar from sugar 427\n",
      "Agent 2307 has eaten 4 sugar from sugar 1089\n",
      "Agent 2297 has eaten 4 sugar from sugar 277\n",
      "Agent 2367 has eaten 4 sugar from sugar 1080\n",
      "Agent 2325 has eaten 4.0 sugar from sugar 161\n",
      "Agent 2303 has eaten 4 sugar from sugar 462\n",
      "Agent 2332 has eaten 4.0 sugar from sugar 44\n",
      "Agent 2324 has eaten 4 sugar from sugar 1174\n",
      "306\n"
     ]
    },
    {
     "name": "stderr",
     "output_type": "stream",
     "text": [
      "C:\\Users\\DELL\\AppData\\Local\\Temp\\ipykernel_484\\329254329.py:109: DeprecationWarning: Because of the shift to using AgentSet, in the future this attribute will return a dict withtype as key as AgentSet as value. Future behavior is available via RandomActivationByType._agents_by_type\n",
      "  for sugar_agent in self.schedule.agents_by_type[Sugar].values():\n",
      "C:\\Users\\DELL\\AppData\\Local\\Temp\\ipykernel_484\\329254329.py:101: DeprecationWarning: Because of the shift to using AgentSet, in the future this attribute will return a dict withtype as key as AgentSet as value. Future behavior is available via RandomActivationByType._agents_by_type\n",
      "  non_corrupt_agents_shuffle = list(self.schedule.agents_by_type[Non_corrupt_agent].values())\n",
      "C:\\Users\\DELL\\AppData\\Local\\Temp\\ipykernel_484\\329254329.py:91: DeprecationWarning: Because of the shift to using AgentSet, in the future this attribute will return a dict withtype as key as AgentSet as value. Future behavior is available via RandomActivationByType._agents_by_type\n",
      "  agents = [agent for agent in self.schedule.agents_by_type[Non_corrupt_agent].values()]\n"
     ]
    },
    {
     "name": "stdout",
     "output_type": "stream",
     "text": [
      "308\n"
     ]
    },
    {
     "name": "stderr",
     "output_type": "stream",
     "text": [
      "C:\\Users\\DELL\\AppData\\Local\\Temp\\ipykernel_484\\329254329.py:109: DeprecationWarning: Because of the shift to using AgentSet, in the future this attribute will return a dict withtype as key as AgentSet as value. Future behavior is available via RandomActivationByType._agents_by_type\n",
      "  for sugar_agent in self.schedule.agents_by_type[Sugar].values():\n",
      "C:\\Users\\DELL\\AppData\\Local\\Temp\\ipykernel_484\\329254329.py:101: DeprecationWarning: Because of the shift to using AgentSet, in the future this attribute will return a dict withtype as key as AgentSet as value. Future behavior is available via RandomActivationByType._agents_by_type\n",
      "  non_corrupt_agents_shuffle = list(self.schedule.agents_by_type[Non_corrupt_agent].values())\n",
      "C:\\Users\\DELL\\AppData\\Local\\Temp\\ipykernel_484\\329254329.py:91: DeprecationWarning: Because of the shift to using AgentSet, in the future this attribute will return a dict withtype as key as AgentSet as value. Future behavior is available via RandomActivationByType._agents_by_type\n",
      "  agents = [agent for agent in self.schedule.agents_by_type[Non_corrupt_agent].values()]\n"
     ]
    },
    {
     "name": "stdout",
     "output_type": "stream",
     "text": [
      "Agent 2325 has eaten 4.0 sugar from sugar 161\n",
      "Agent 2350 has eaten 4 sugar from sugar 670\n",
      "Agent 2354 has eaten 4 sugar from sugar 2095\n",
      "Agent 2367 has eaten 4 sugar from sugar 1080\n",
      "Agent 2336 has eaten 4 sugar from sugar 1910\n",
      "Agent 2345 has eaten 4 sugar from sugar 94\n",
      "Agent 2324 has eaten 4 sugar from sugar 1174\n",
      "Agent 2383 has eaten 4 sugar from sugar 1315\n",
      "Agent 2370 has eaten 4 sugar from sugar 84\n",
      "Agent 2297 has eaten 4 sugar from sugar 277\n",
      "Agent 2339 has eaten 4 sugar from sugar 442\n",
      "Agent 2308 has eaten 4 sugar from sugar 916\n",
      "Agent 2299 has eaten 4 sugar from sugar 514\n",
      "Agent 2373 has eaten 4 sugar from sugar 1843\n",
      "Agent 2374 has eaten 4 sugar from sugar 1253\n",
      "Agent 2322 has eaten 4 sugar from sugar 584\n",
      "Agent 2334 has eaten 4 sugar from sugar 1688\n",
      "Agent 2352 has eaten 4 sugar from sugar 2049\n",
      "Agent 2356 has eaten 4.0 sugar from sugar 60\n",
      "Agent 2380 has eaten 4 sugar from sugar 251\n",
      "Agent 2332 has eaten 4.0 sugar from sugar 44\n",
      "Agent 2303 has eaten 4 sugar from sugar 462\n",
      "Agent 2369 has eaten 4 sugar from sugar 2167\n",
      "Agent 2316 has eaten 4 sugar from sugar 302\n",
      "Agent 2307 has eaten 4 sugar from sugar 1089\n",
      "Agent 2341 has eaten 4 sugar from sugar 2238\n",
      "Agent 2319 has eaten 4 sugar from sugar 700\n",
      "Agent 2321 has eaten 4.0 sugar from sugar 1584\n",
      "Agent 2386 has eaten 4 sugar from sugar 427\n",
      "Agent 2359 has eaten 4 sugar from sugar 1261\n",
      "Agent 2318 has eaten 3.0 sugar from sugar 167\n",
      "310\n"
     ]
    },
    {
     "name": "stderr",
     "output_type": "stream",
     "text": [
      "C:\\Users\\DELL\\AppData\\Local\\Temp\\ipykernel_484\\329254329.py:109: DeprecationWarning: Because of the shift to using AgentSet, in the future this attribute will return a dict withtype as key as AgentSet as value. Future behavior is available via RandomActivationByType._agents_by_type\n",
      "  for sugar_agent in self.schedule.agents_by_type[Sugar].values():\n",
      "C:\\Users\\DELL\\AppData\\Local\\Temp\\ipykernel_484\\329254329.py:101: DeprecationWarning: Because of the shift to using AgentSet, in the future this attribute will return a dict withtype as key as AgentSet as value. Future behavior is available via RandomActivationByType._agents_by_type\n",
      "  non_corrupt_agents_shuffle = list(self.schedule.agents_by_type[Non_corrupt_agent].values())\n",
      "C:\\Users\\DELL\\AppData\\Local\\Temp\\ipykernel_484\\329254329.py:91: DeprecationWarning: Because of the shift to using AgentSet, in the future this attribute will return a dict withtype as key as AgentSet as value. Future behavior is available via RandomActivationByType._agents_by_type\n",
      "  agents = [agent for agent in self.schedule.agents_by_type[Non_corrupt_agent].values()]\n"
     ]
    },
    {
     "name": "stdout",
     "output_type": "stream",
     "text": [
      "312\n"
     ]
    },
    {
     "name": "stderr",
     "output_type": "stream",
     "text": [
      "C:\\Users\\DELL\\AppData\\Local\\Temp\\ipykernel_484\\329254329.py:109: DeprecationWarning: Because of the shift to using AgentSet, in the future this attribute will return a dict withtype as key as AgentSet as value. Future behavior is available via RandomActivationByType._agents_by_type\n",
      "  for sugar_agent in self.schedule.agents_by_type[Sugar].values():\n",
      "C:\\Users\\DELL\\AppData\\Local\\Temp\\ipykernel_484\\329254329.py:101: DeprecationWarning: Because of the shift to using AgentSet, in the future this attribute will return a dict withtype as key as AgentSet as value. Future behavior is available via RandomActivationByType._agents_by_type\n",
      "  non_corrupt_agents_shuffle = list(self.schedule.agents_by_type[Non_corrupt_agent].values())\n",
      "C:\\Users\\DELL\\AppData\\Local\\Temp\\ipykernel_484\\329254329.py:91: DeprecationWarning: Because of the shift to using AgentSet, in the future this attribute will return a dict withtype as key as AgentSet as value. Future behavior is available via RandomActivationByType._agents_by_type\n",
      "  agents = [agent for agent in self.schedule.agents_by_type[Non_corrupt_agent].values()]\n"
     ]
    },
    {
     "name": "stdout",
     "output_type": "stream",
     "text": [
      "Agent 2307 has eaten 4 sugar from sugar 1089\n",
      "Agent 2345 has eaten 4 sugar from sugar 94\n",
      "Agent 2369 has eaten 4 sugar from sugar 2167\n",
      "Agent 2322 has eaten 4 sugar from sugar 584\n",
      "Agent 2308 has eaten 4 sugar from sugar 916\n",
      "Agent 2341 has eaten 4 sugar from sugar 2238\n",
      "Agent 2373 has eaten 4 sugar from sugar 1843\n",
      "Agent 2354 has eaten 4 sugar from sugar 2095\n",
      "Agent 2339 has eaten 4 sugar from sugar 442\n",
      "Agent 2325 has eaten 4.0 sugar from sugar 161\n",
      "Agent 2350 has eaten 4 sugar from sugar 670\n",
      "Agent 2316 has eaten 4 sugar from sugar 302\n",
      "Agent 2380 has eaten 4 sugar from sugar 251\n",
      "Agent 2324 has eaten 4 sugar from sugar 1174\n",
      "Agent 2319 has eaten 4 sugar from sugar 700\n",
      "Agent 2334 has eaten 4 sugar from sugar 1688\n",
      "Agent 2352 has eaten 4 sugar from sugar 2049\n",
      "Agent 2336 has eaten 4 sugar from sugar 1910\n",
      "Agent 2383 has eaten 4 sugar from sugar 1315\n",
      "Agent 2374 has eaten 4 sugar from sugar 1253\n",
      "Agent 2359 has eaten 4 sugar from sugar 1261\n",
      "Agent 2386 has eaten 4 sugar from sugar 427\n",
      "Agent 2367 has eaten 4 sugar from sugar 1080\n",
      "Agent 2321 has eaten 4.0 sugar from sugar 1584\n",
      "Agent 2297 has eaten 4 sugar from sugar 277\n",
      "Agent 2318 has eaten 3.0 sugar from sugar 167\n",
      "Agent 2370 has eaten 4 sugar from sugar 84\n",
      "Agent 2303 has eaten 4 sugar from sugar 462\n",
      "Agent 2332 has eaten 4.0 sugar from sugar 44\n",
      "Agent 2299 has eaten 4 sugar from sugar 514\n",
      "Agent 2356 has eaten 4.0 sugar from sugar 60\n",
      "314\n"
     ]
    },
    {
     "name": "stderr",
     "output_type": "stream",
     "text": [
      "C:\\Users\\DELL\\AppData\\Local\\Temp\\ipykernel_484\\329254329.py:109: DeprecationWarning: Because of the shift to using AgentSet, in the future this attribute will return a dict withtype as key as AgentSet as value. Future behavior is available via RandomActivationByType._agents_by_type\n",
      "  for sugar_agent in self.schedule.agents_by_type[Sugar].values():\n",
      "C:\\Users\\DELL\\AppData\\Local\\Temp\\ipykernel_484\\329254329.py:101: DeprecationWarning: Because of the shift to using AgentSet, in the future this attribute will return a dict withtype as key as AgentSet as value. Future behavior is available via RandomActivationByType._agents_by_type\n",
      "  non_corrupt_agents_shuffle = list(self.schedule.agents_by_type[Non_corrupt_agent].values())\n",
      "C:\\Users\\DELL\\AppData\\Local\\Temp\\ipykernel_484\\329254329.py:91: DeprecationWarning: Because of the shift to using AgentSet, in the future this attribute will return a dict withtype as key as AgentSet as value. Future behavior is available via RandomActivationByType._agents_by_type\n",
      "  agents = [agent for agent in self.schedule.agents_by_type[Non_corrupt_agent].values()]\n"
     ]
    },
    {
     "name": "stdout",
     "output_type": "stream",
     "text": [
      "316\n"
     ]
    },
    {
     "name": "stderr",
     "output_type": "stream",
     "text": [
      "C:\\Users\\DELL\\AppData\\Local\\Temp\\ipykernel_484\\329254329.py:109: DeprecationWarning: Because of the shift to using AgentSet, in the future this attribute will return a dict withtype as key as AgentSet as value. Future behavior is available via RandomActivationByType._agents_by_type\n",
      "  for sugar_agent in self.schedule.agents_by_type[Sugar].values():\n",
      "C:\\Users\\DELL\\AppData\\Local\\Temp\\ipykernel_484\\329254329.py:101: DeprecationWarning: Because of the shift to using AgentSet, in the future this attribute will return a dict withtype as key as AgentSet as value. Future behavior is available via RandomActivationByType._agents_by_type\n",
      "  non_corrupt_agents_shuffle = list(self.schedule.agents_by_type[Non_corrupt_agent].values())\n",
      "C:\\Users\\DELL\\AppData\\Local\\Temp\\ipykernel_484\\329254329.py:91: DeprecationWarning: Because of the shift to using AgentSet, in the future this attribute will return a dict withtype as key as AgentSet as value. Future behavior is available via RandomActivationByType._agents_by_type\n",
      "  agents = [agent for agent in self.schedule.agents_by_type[Non_corrupt_agent].values()]\n"
     ]
    },
    {
     "name": "stdout",
     "output_type": "stream",
     "text": [
      "Agent 2334 has eaten 4 sugar from sugar 1688\n",
      "Agent 2367 has eaten 4 sugar from sugar 1080\n",
      "Agent 2316 has eaten 4 sugar from sugar 302\n",
      "Agent 2354 has eaten 4 sugar from sugar 2095\n",
      "Agent 2321 has eaten 4.0 sugar from sugar 1584\n",
      "Agent 2383 has eaten 4 sugar from sugar 1315\n",
      "Agent 2374 has eaten 4 sugar from sugar 1253\n",
      "Agent 2319 has eaten 4 sugar from sugar 700\n",
      "Agent 2356 has eaten 4.0 sugar from sugar 60\n",
      "Agent 2336 has eaten 4 sugar from sugar 1910\n",
      "Agent 2380 has eaten 4 sugar from sugar 251\n",
      "Agent 2350 has eaten 4 sugar from sugar 670\n",
      "Agent 2339 has eaten 4 sugar from sugar 442\n",
      "Agent 2318 has eaten 3.0 sugar from sugar 167\n",
      "Agent 2307 has eaten 4 sugar from sugar 1089\n",
      "Agent 2370 has eaten 4 sugar from sugar 84\n",
      "Agent 2345 has eaten 4 sugar from sugar 94\n",
      "Agent 2341 has eaten 4 sugar from sugar 2238\n",
      "Agent 2324 has eaten 4 sugar from sugar 1174\n",
      "Agent 2369 has eaten 4 sugar from sugar 2167\n",
      "Agent 2386 has eaten 4 sugar from sugar 427\n",
      "Agent 2303 has eaten 4 sugar from sugar 462\n",
      "Agent 2299 has eaten 4 sugar from sugar 514\n",
      "Agent 2322 has eaten 4 sugar from sugar 584\n",
      "Agent 2325 has eaten 4.0 sugar from sugar 161\n",
      "Agent 2352 has eaten 4 sugar from sugar 2049\n",
      "Agent 2332 has eaten 4.0 sugar from sugar 44\n",
      "Agent 2297 has eaten 4 sugar from sugar 277\n",
      "Agent 2359 has eaten 4 sugar from sugar 1261\n",
      "Agent 2308 has eaten 4 sugar from sugar 916\n",
      "Agent 2373 has eaten 4 sugar from sugar 1843\n",
      "318\n"
     ]
    },
    {
     "name": "stderr",
     "output_type": "stream",
     "text": [
      "C:\\Users\\DELL\\AppData\\Local\\Temp\\ipykernel_484\\329254329.py:109: DeprecationWarning: Because of the shift to using AgentSet, in the future this attribute will return a dict withtype as key as AgentSet as value. Future behavior is available via RandomActivationByType._agents_by_type\n",
      "  for sugar_agent in self.schedule.agents_by_type[Sugar].values():\n",
      "C:\\Users\\DELL\\AppData\\Local\\Temp\\ipykernel_484\\329254329.py:101: DeprecationWarning: Because of the shift to using AgentSet, in the future this attribute will return a dict withtype as key as AgentSet as value. Future behavior is available via RandomActivationByType._agents_by_type\n",
      "  non_corrupt_agents_shuffle = list(self.schedule.agents_by_type[Non_corrupt_agent].values())\n",
      "C:\\Users\\DELL\\AppData\\Local\\Temp\\ipykernel_484\\329254329.py:91: DeprecationWarning: Because of the shift to using AgentSet, in the future this attribute will return a dict withtype as key as AgentSet as value. Future behavior is available via RandomActivationByType._agents_by_type\n",
      "  agents = [agent for agent in self.schedule.agents_by_type[Non_corrupt_agent].values()]\n"
     ]
    },
    {
     "name": "stdout",
     "output_type": "stream",
     "text": [
      "320\n"
     ]
    },
    {
     "name": "stderr",
     "output_type": "stream",
     "text": [
      "C:\\Users\\DELL\\AppData\\Local\\Temp\\ipykernel_484\\329254329.py:109: DeprecationWarning: Because of the shift to using AgentSet, in the future this attribute will return a dict withtype as key as AgentSet as value. Future behavior is available via RandomActivationByType._agents_by_type\n",
      "  for sugar_agent in self.schedule.agents_by_type[Sugar].values():\n",
      "C:\\Users\\DELL\\AppData\\Local\\Temp\\ipykernel_484\\329254329.py:101: DeprecationWarning: Because of the shift to using AgentSet, in the future this attribute will return a dict withtype as key as AgentSet as value. Future behavior is available via RandomActivationByType._agents_by_type\n",
      "  non_corrupt_agents_shuffle = list(self.schedule.agents_by_type[Non_corrupt_agent].values())\n",
      "C:\\Users\\DELL\\AppData\\Local\\Temp\\ipykernel_484\\329254329.py:91: DeprecationWarning: Because of the shift to using AgentSet, in the future this attribute will return a dict withtype as key as AgentSet as value. Future behavior is available via RandomActivationByType._agents_by_type\n",
      "  agents = [agent for agent in self.schedule.agents_by_type[Non_corrupt_agent].values()]\n"
     ]
    },
    {
     "name": "stdout",
     "output_type": "stream",
     "text": [
      "Agent 2359 has eaten 4 sugar from sugar 1261\n",
      "Agent 2322 has eaten 4 sugar from sugar 584\n",
      "Agent 2332 has eaten 4.0 sugar from sugar 44\n",
      "Agent 2299 has eaten 4 sugar from sugar 514\n",
      "Agent 2316 has eaten 4 sugar from sugar 302\n",
      "Agent 2386 has eaten 4 sugar from sugar 427\n",
      "Agent 2339 has eaten 4 sugar from sugar 442\n",
      "Agent 2356 has eaten 4.0 sugar from sugar 60\n",
      "Agent 2380 has eaten 4 sugar from sugar 251\n",
      "Agent 2319 has eaten 4 sugar from sugar 700\n",
      "Agent 2354 has eaten 4 sugar from sugar 2095\n",
      "Agent 2369 has eaten 4 sugar from sugar 2167\n",
      "Agent 2350 has eaten 4 sugar from sugar 670\n",
      "Agent 2318 has eaten 3.0 sugar from sugar 167\n",
      "Agent 2324 has eaten 4 sugar from sugar 1174\n",
      "Agent 2373 has eaten 4 sugar from sugar 1843\n",
      "Agent 2308 has eaten 4 sugar from sugar 916\n",
      "Agent 2367 has eaten 4 sugar from sugar 1080\n",
      "Agent 2321 has eaten 4.0 sugar from sugar 1584\n",
      "Agent 2341 has eaten 4 sugar from sugar 2238\n",
      "Agent 2370 has eaten 4 sugar from sugar 84\n",
      "Agent 2334 has eaten 4 sugar from sugar 1688\n",
      "Agent 2325 has eaten 4.0 sugar from sugar 161\n",
      "Agent 2307 has eaten 4 sugar from sugar 1089\n",
      "Agent 2345 has eaten 4 sugar from sugar 94\n",
      "Agent 2303 has eaten 4 sugar from sugar 462\n",
      "Agent 2383 has eaten 4 sugar from sugar 1315\n",
      "Agent 2297 has eaten 4 sugar from sugar 277\n",
      "Agent 2336 has eaten 4 sugar from sugar 1910\n",
      "Agent 2352 has eaten 4 sugar from sugar 2049\n",
      "Agent 2374 has eaten 4 sugar from sugar 1253\n",
      "322\n"
     ]
    },
    {
     "name": "stderr",
     "output_type": "stream",
     "text": [
      "C:\\Users\\DELL\\AppData\\Local\\Temp\\ipykernel_484\\329254329.py:109: DeprecationWarning: Because of the shift to using AgentSet, in the future this attribute will return a dict withtype as key as AgentSet as value. Future behavior is available via RandomActivationByType._agents_by_type\n",
      "  for sugar_agent in self.schedule.agents_by_type[Sugar].values():\n",
      "C:\\Users\\DELL\\AppData\\Local\\Temp\\ipykernel_484\\329254329.py:101: DeprecationWarning: Because of the shift to using AgentSet, in the future this attribute will return a dict withtype as key as AgentSet as value. Future behavior is available via RandomActivationByType._agents_by_type\n",
      "  non_corrupt_agents_shuffle = list(self.schedule.agents_by_type[Non_corrupt_agent].values())\n",
      "C:\\Users\\DELL\\AppData\\Local\\Temp\\ipykernel_484\\329254329.py:91: DeprecationWarning: Because of the shift to using AgentSet, in the future this attribute will return a dict withtype as key as AgentSet as value. Future behavior is available via RandomActivationByType._agents_by_type\n",
      "  agents = [agent for agent in self.schedule.agents_by_type[Non_corrupt_agent].values()]\n"
     ]
    },
    {
     "name": "stdout",
     "output_type": "stream",
     "text": [
      "324\n"
     ]
    },
    {
     "name": "stderr",
     "output_type": "stream",
     "text": [
      "C:\\Users\\DELL\\AppData\\Local\\Temp\\ipykernel_484\\329254329.py:109: DeprecationWarning: Because of the shift to using AgentSet, in the future this attribute will return a dict withtype as key as AgentSet as value. Future behavior is available via RandomActivationByType._agents_by_type\n",
      "  for sugar_agent in self.schedule.agents_by_type[Sugar].values():\n",
      "C:\\Users\\DELL\\AppData\\Local\\Temp\\ipykernel_484\\329254329.py:101: DeprecationWarning: Because of the shift to using AgentSet, in the future this attribute will return a dict withtype as key as AgentSet as value. Future behavior is available via RandomActivationByType._agents_by_type\n",
      "  non_corrupt_agents_shuffle = list(self.schedule.agents_by_type[Non_corrupt_agent].values())\n",
      "C:\\Users\\DELL\\AppData\\Local\\Temp\\ipykernel_484\\329254329.py:91: DeprecationWarning: Because of the shift to using AgentSet, in the future this attribute will return a dict withtype as key as AgentSet as value. Future behavior is available via RandomActivationByType._agents_by_type\n",
      "  agents = [agent for agent in self.schedule.agents_by_type[Non_corrupt_agent].values()]\n"
     ]
    },
    {
     "name": "stdout",
     "output_type": "stream",
     "text": [
      "Agent 2359 has eaten 4 sugar from sugar 1261\n",
      "Agent 2369 has eaten 4 sugar from sugar 2167\n",
      "Agent 2334 has eaten 4 sugar from sugar 1688\n",
      "Agent 2356 has eaten 4.0 sugar from sugar 60\n",
      "Agent 2303 has eaten 4 sugar from sugar 462\n",
      "Agent 2299 has eaten 4 sugar from sugar 514\n",
      "Agent 2373 has eaten 4 sugar from sugar 1843\n",
      "Agent 2380 has eaten 4 sugar from sugar 251\n",
      "Agent 2367 has eaten 4 sugar from sugar 1080\n",
      "Agent 2383 has eaten 4 sugar from sugar 1315\n",
      "Agent 2336 has eaten 4 sugar from sugar 1910\n",
      "Agent 2325 has eaten 4.0 sugar from sugar 161\n",
      "Agent 2308 has eaten 4 sugar from sugar 916\n",
      "Agent 2322 has eaten 4 sugar from sugar 584\n",
      "Agent 2321 has eaten 4.0 sugar from sugar 1584\n",
      "Agent 2324 has eaten 4 sugar from sugar 1174\n",
      "Agent 2297 has eaten 4 sugar from sugar 277\n",
      "Agent 2386 has eaten 4 sugar from sugar 427\n",
      "Agent 2350 has eaten 4 sugar from sugar 670\n",
      "Agent 2339 has eaten 4 sugar from sugar 442\n",
      "Agent 2352 has eaten 4 sugar from sugar 2049\n",
      "Agent 2307 has eaten 4 sugar from sugar 1089\n",
      "Agent 2316 has eaten 4 sugar from sugar 302\n",
      "Agent 2319 has eaten 4 sugar from sugar 700\n",
      "Agent 2354 has eaten 4 sugar from sugar 2095\n",
      "Agent 2341 has eaten 4 sugar from sugar 2238\n",
      "Agent 2370 has eaten 4 sugar from sugar 84\n",
      "Agent 2332 has eaten 4.0 sugar from sugar 44\n",
      "Agent 2374 has eaten 4 sugar from sugar 1253\n",
      "Agent 2318 has eaten 3.0 sugar from sugar 167\n",
      "Agent 2345 has eaten 4 sugar from sugar 94\n",
      "326\n"
     ]
    },
    {
     "name": "stderr",
     "output_type": "stream",
     "text": [
      "C:\\Users\\DELL\\AppData\\Local\\Temp\\ipykernel_484\\329254329.py:109: DeprecationWarning: Because of the shift to using AgentSet, in the future this attribute will return a dict withtype as key as AgentSet as value. Future behavior is available via RandomActivationByType._agents_by_type\n",
      "  for sugar_agent in self.schedule.agents_by_type[Sugar].values():\n",
      "C:\\Users\\DELL\\AppData\\Local\\Temp\\ipykernel_484\\329254329.py:101: DeprecationWarning: Because of the shift to using AgentSet, in the future this attribute will return a dict withtype as key as AgentSet as value. Future behavior is available via RandomActivationByType._agents_by_type\n",
      "  non_corrupt_agents_shuffle = list(self.schedule.agents_by_type[Non_corrupt_agent].values())\n",
      "C:\\Users\\DELL\\AppData\\Local\\Temp\\ipykernel_484\\329254329.py:91: DeprecationWarning: Because of the shift to using AgentSet, in the future this attribute will return a dict withtype as key as AgentSet as value. Future behavior is available via RandomActivationByType._agents_by_type\n",
      "  agents = [agent for agent in self.schedule.agents_by_type[Non_corrupt_agent].values()]\n"
     ]
    },
    {
     "name": "stdout",
     "output_type": "stream",
     "text": [
      "328\n"
     ]
    },
    {
     "name": "stderr",
     "output_type": "stream",
     "text": [
      "C:\\Users\\DELL\\AppData\\Local\\Temp\\ipykernel_484\\329254329.py:109: DeprecationWarning: Because of the shift to using AgentSet, in the future this attribute will return a dict withtype as key as AgentSet as value. Future behavior is available via RandomActivationByType._agents_by_type\n",
      "  for sugar_agent in self.schedule.agents_by_type[Sugar].values():\n",
      "C:\\Users\\DELL\\AppData\\Local\\Temp\\ipykernel_484\\329254329.py:101: DeprecationWarning: Because of the shift to using AgentSet, in the future this attribute will return a dict withtype as key as AgentSet as value. Future behavior is available via RandomActivationByType._agents_by_type\n",
      "  non_corrupt_agents_shuffle = list(self.schedule.agents_by_type[Non_corrupt_agent].values())\n",
      "C:\\Users\\DELL\\AppData\\Local\\Temp\\ipykernel_484\\329254329.py:91: DeprecationWarning: Because of the shift to using AgentSet, in the future this attribute will return a dict withtype as key as AgentSet as value. Future behavior is available via RandomActivationByType._agents_by_type\n",
      "  agents = [agent for agent in self.schedule.agents_by_type[Non_corrupt_agent].values()]\n"
     ]
    },
    {
     "name": "stdout",
     "output_type": "stream",
     "text": [
      "Agent 2303 has eaten 4 sugar from sugar 462\n",
      "Agent 2380 has eaten 4 sugar from sugar 251\n",
      "Agent 2316 has eaten 4 sugar from sugar 302\n",
      "Agent 2334 has eaten 4 sugar from sugar 1688\n",
      "Agent 2354 has eaten 4 sugar from sugar 2095\n",
      "Agent 2332 has eaten 4.0 sugar from sugar 44\n",
      "Agent 2341 has eaten 4 sugar from sugar 2238\n",
      "Agent 2370 has eaten 4 sugar from sugar 84\n",
      "Agent 2367 has eaten 4 sugar from sugar 1080\n",
      "Agent 2325 has eaten 4.0 sugar from sugar 161\n",
      "Agent 2373 has eaten 4 sugar from sugar 1843\n",
      "Agent 2319 has eaten 4 sugar from sugar 700\n",
      "Agent 2345 has eaten 4 sugar from sugar 94\n",
      "Agent 2307 has eaten 4 sugar from sugar 1089\n",
      "Agent 2350 has eaten 4 sugar from sugar 670\n",
      "Agent 2386 has eaten 4 sugar from sugar 427\n",
      "Agent 2336 has eaten 4 sugar from sugar 1910\n",
      "Agent 2299 has eaten 4 sugar from sugar 514\n",
      "Agent 2352 has eaten 4 sugar from sugar 2049\n",
      "Agent 2297 has eaten 4 sugar from sugar 277\n",
      "Agent 2339 has eaten 4 sugar from sugar 442\n",
      "Agent 2324 has eaten 4 sugar from sugar 1174\n",
      "Agent 2374 has eaten 4 sugar from sugar 1253\n",
      "Agent 2318 has eaten 3.0 sugar from sugar 167\n",
      "Agent 2356 has eaten 4.0 sugar from sugar 60\n",
      "Agent 2321 has eaten 4.0 sugar from sugar 1584\n",
      "Agent 2308 has eaten 4 sugar from sugar 916\n",
      "Agent 2322 has eaten 4 sugar from sugar 584\n",
      "Agent 2359 has eaten 4 sugar from sugar 1261\n",
      "Agent 2383 has eaten 4 sugar from sugar 1315\n",
      "Agent 2369 has eaten 4 sugar from sugar 2167\n",
      "330\n"
     ]
    },
    {
     "name": "stderr",
     "output_type": "stream",
     "text": [
      "C:\\Users\\DELL\\AppData\\Local\\Temp\\ipykernel_484\\329254329.py:109: DeprecationWarning: Because of the shift to using AgentSet, in the future this attribute will return a dict withtype as key as AgentSet as value. Future behavior is available via RandomActivationByType._agents_by_type\n",
      "  for sugar_agent in self.schedule.agents_by_type[Sugar].values():\n",
      "C:\\Users\\DELL\\AppData\\Local\\Temp\\ipykernel_484\\329254329.py:101: DeprecationWarning: Because of the shift to using AgentSet, in the future this attribute will return a dict withtype as key as AgentSet as value. Future behavior is available via RandomActivationByType._agents_by_type\n",
      "  non_corrupt_agents_shuffle = list(self.schedule.agents_by_type[Non_corrupt_agent].values())\n",
      "C:\\Users\\DELL\\AppData\\Local\\Temp\\ipykernel_484\\329254329.py:91: DeprecationWarning: Because of the shift to using AgentSet, in the future this attribute will return a dict withtype as key as AgentSet as value. Future behavior is available via RandomActivationByType._agents_by_type\n",
      "  agents = [agent for agent in self.schedule.agents_by_type[Non_corrupt_agent].values()]\n"
     ]
    },
    {
     "name": "stdout",
     "output_type": "stream",
     "text": [
      "332\n"
     ]
    },
    {
     "name": "stderr",
     "output_type": "stream",
     "text": [
      "C:\\Users\\DELL\\AppData\\Local\\Temp\\ipykernel_484\\329254329.py:109: DeprecationWarning: Because of the shift to using AgentSet, in the future this attribute will return a dict withtype as key as AgentSet as value. Future behavior is available via RandomActivationByType._agents_by_type\n",
      "  for sugar_agent in self.schedule.agents_by_type[Sugar].values():\n",
      "C:\\Users\\DELL\\AppData\\Local\\Temp\\ipykernel_484\\329254329.py:101: DeprecationWarning: Because of the shift to using AgentSet, in the future this attribute will return a dict withtype as key as AgentSet as value. Future behavior is available via RandomActivationByType._agents_by_type\n",
      "  non_corrupt_agents_shuffle = list(self.schedule.agents_by_type[Non_corrupt_agent].values())\n",
      "C:\\Users\\DELL\\AppData\\Local\\Temp\\ipykernel_484\\329254329.py:91: DeprecationWarning: Because of the shift to using AgentSet, in the future this attribute will return a dict withtype as key as AgentSet as value. Future behavior is available via RandomActivationByType._agents_by_type\n",
      "  agents = [agent for agent in self.schedule.agents_by_type[Non_corrupt_agent].values()]\n"
     ]
    },
    {
     "name": "stdout",
     "output_type": "stream",
     "text": [
      "Agent 2356 has eaten 4.0 sugar from sugar 60\n",
      "Agent 2332 has eaten 4.0 sugar from sugar 44\n",
      "Agent 2334 has eaten 4 sugar from sugar 1688\n",
      "Agent 2383 has eaten 4 sugar from sugar 1315\n",
      "Agent 2319 has eaten 4 sugar from sugar 700\n",
      "Agent 2325 has eaten 4.0 sugar from sugar 161\n",
      "Agent 2303 has eaten 4 sugar from sugar 462\n",
      "Agent 2324 has eaten 4 sugar from sugar 1174\n",
      "Agent 2359 has eaten 4 sugar from sugar 1261\n",
      "Agent 2336 has eaten 4 sugar from sugar 1910\n",
      "Agent 2352 has eaten 4 sugar from sugar 2049\n",
      "Agent 2369 has eaten 4 sugar from sugar 2167\n",
      "Agent 2354 has eaten 4 sugar from sugar 2095\n",
      "Agent 2307 has eaten 4 sugar from sugar 1089\n",
      "Agent 2339 has eaten 4 sugar from sugar 442\n",
      "Agent 2370 has eaten 4 sugar from sugar 84\n",
      "Agent 2386 has eaten 4 sugar from sugar 427\n",
      "Agent 2350 has eaten 4 sugar from sugar 670\n",
      "Agent 2345 has eaten 4 sugar from sugar 94\n",
      "Agent 2373 has eaten 4 sugar from sugar 1843\n",
      "Agent 2299 has eaten 4 sugar from sugar 514\n",
      "Agent 2321 has eaten 4.0 sugar from sugar 1584\n",
      "Agent 2318 has eaten 3.0 sugar from sugar 167\n",
      "Agent 2308 has eaten 4 sugar from sugar 916\n",
      "Agent 2322 has eaten 4 sugar from sugar 584\n",
      "Agent 2380 has eaten 4 sugar from sugar 251\n",
      "Agent 2374 has eaten 4 sugar from sugar 1253\n",
      "Agent 2316 has eaten 4 sugar from sugar 302\n",
      "Agent 2297 has eaten 4 sugar from sugar 277\n",
      "Agent 2367 has eaten 4 sugar from sugar 1080\n",
      "Agent 2341 has eaten 4 sugar from sugar 2238\n",
      "334\n"
     ]
    },
    {
     "name": "stderr",
     "output_type": "stream",
     "text": [
      "C:\\Users\\DELL\\AppData\\Local\\Temp\\ipykernel_484\\329254329.py:109: DeprecationWarning: Because of the shift to using AgentSet, in the future this attribute will return a dict withtype as key as AgentSet as value. Future behavior is available via RandomActivationByType._agents_by_type\n",
      "  for sugar_agent in self.schedule.agents_by_type[Sugar].values():\n",
      "C:\\Users\\DELL\\AppData\\Local\\Temp\\ipykernel_484\\329254329.py:101: DeprecationWarning: Because of the shift to using AgentSet, in the future this attribute will return a dict withtype as key as AgentSet as value. Future behavior is available via RandomActivationByType._agents_by_type\n",
      "  non_corrupt_agents_shuffle = list(self.schedule.agents_by_type[Non_corrupt_agent].values())\n",
      "C:\\Users\\DELL\\AppData\\Local\\Temp\\ipykernel_484\\329254329.py:91: DeprecationWarning: Because of the shift to using AgentSet, in the future this attribute will return a dict withtype as key as AgentSet as value. Future behavior is available via RandomActivationByType._agents_by_type\n",
      "  agents = [agent for agent in self.schedule.agents_by_type[Non_corrupt_agent].values()]\n"
     ]
    },
    {
     "name": "stdout",
     "output_type": "stream",
     "text": [
      "336\n"
     ]
    },
    {
     "name": "stderr",
     "output_type": "stream",
     "text": [
      "C:\\Users\\DELL\\AppData\\Local\\Temp\\ipykernel_484\\329254329.py:109: DeprecationWarning: Because of the shift to using AgentSet, in the future this attribute will return a dict withtype as key as AgentSet as value. Future behavior is available via RandomActivationByType._agents_by_type\n",
      "  for sugar_agent in self.schedule.agents_by_type[Sugar].values():\n",
      "C:\\Users\\DELL\\AppData\\Local\\Temp\\ipykernel_484\\329254329.py:101: DeprecationWarning: Because of the shift to using AgentSet, in the future this attribute will return a dict withtype as key as AgentSet as value. Future behavior is available via RandomActivationByType._agents_by_type\n",
      "  non_corrupt_agents_shuffle = list(self.schedule.agents_by_type[Non_corrupt_agent].values())\n",
      "C:\\Users\\DELL\\AppData\\Local\\Temp\\ipykernel_484\\329254329.py:91: DeprecationWarning: Because of the shift to using AgentSet, in the future this attribute will return a dict withtype as key as AgentSet as value. Future behavior is available via RandomActivationByType._agents_by_type\n",
      "  agents = [agent for agent in self.schedule.agents_by_type[Non_corrupt_agent].values()]\n"
     ]
    },
    {
     "name": "stdout",
     "output_type": "stream",
     "text": [
      "Agent 2307 has eaten 4 sugar from sugar 1089\n",
      "Agent 2325 has eaten 4.0 sugar from sugar 161\n",
      "Agent 2303 has eaten 4 sugar from sugar 462\n",
      "Agent 2356 has eaten 4.0 sugar from sugar 60\n",
      "Agent 2369 has eaten 4 sugar from sugar 2167\n",
      "Agent 2332 has eaten 4.0 sugar from sugar 44\n",
      "Agent 2339 has eaten 4 sugar from sugar 442\n",
      "Agent 2322 has eaten 4 sugar from sugar 584\n",
      "Agent 2386 has eaten 4 sugar from sugar 427\n",
      "Agent 2297 has eaten 4 sugar from sugar 277\n",
      "Agent 2321 has eaten 4.0 sugar from sugar 1584\n",
      "Agent 2308 has eaten 4 sugar from sugar 916\n",
      "Agent 2359 has eaten 4 sugar from sugar 1261\n",
      "Agent 2367 has eaten 4 sugar from sugar 1080\n",
      "Agent 2341 has eaten 4 sugar from sugar 2238\n",
      "Agent 2336 has eaten 4 sugar from sugar 1910\n",
      "Agent 2374 has eaten 4 sugar from sugar 1253\n",
      "Agent 2316 has eaten 4 sugar from sugar 302\n",
      "Agent 2370 has eaten 4 sugar from sugar 84\n",
      "Agent 2345 has eaten 4 sugar from sugar 94\n",
      "Agent 2383 has eaten 4 sugar from sugar 1315\n",
      "Agent 2350 has eaten 4 sugar from sugar 670\n",
      "Agent 2373 has eaten 4 sugar from sugar 1843\n",
      "Agent 2352 has eaten 4 sugar from sugar 2049\n",
      "Agent 2299 has eaten 4 sugar from sugar 514\n",
      "Agent 2334 has eaten 4 sugar from sugar 1688\n",
      "Agent 2319 has eaten 4 sugar from sugar 700\n",
      "Agent 2380 has eaten 4 sugar from sugar 251\n",
      "Agent 2354 has eaten 4 sugar from sugar 2095\n",
      "Agent 2318 has eaten 3.0 sugar from sugar 167\n",
      "Agent 2324 has eaten 4 sugar from sugar 1174\n",
      "338\n"
     ]
    },
    {
     "name": "stderr",
     "output_type": "stream",
     "text": [
      "C:\\Users\\DELL\\AppData\\Local\\Temp\\ipykernel_484\\329254329.py:109: DeprecationWarning: Because of the shift to using AgentSet, in the future this attribute will return a dict withtype as key as AgentSet as value. Future behavior is available via RandomActivationByType._agents_by_type\n",
      "  for sugar_agent in self.schedule.agents_by_type[Sugar].values():\n",
      "C:\\Users\\DELL\\AppData\\Local\\Temp\\ipykernel_484\\329254329.py:101: DeprecationWarning: Because of the shift to using AgentSet, in the future this attribute will return a dict withtype as key as AgentSet as value. Future behavior is available via RandomActivationByType._agents_by_type\n",
      "  non_corrupt_agents_shuffle = list(self.schedule.agents_by_type[Non_corrupt_agent].values())\n",
      "C:\\Users\\DELL\\AppData\\Local\\Temp\\ipykernel_484\\329254329.py:91: DeprecationWarning: Because of the shift to using AgentSet, in the future this attribute will return a dict withtype as key as AgentSet as value. Future behavior is available via RandomActivationByType._agents_by_type\n",
      "  agents = [agent for agent in self.schedule.agents_by_type[Non_corrupt_agent].values()]\n"
     ]
    },
    {
     "name": "stdout",
     "output_type": "stream",
     "text": [
      "340\n"
     ]
    },
    {
     "name": "stderr",
     "output_type": "stream",
     "text": [
      "C:\\Users\\DELL\\AppData\\Local\\Temp\\ipykernel_484\\329254329.py:109: DeprecationWarning: Because of the shift to using AgentSet, in the future this attribute will return a dict withtype as key as AgentSet as value. Future behavior is available via RandomActivationByType._agents_by_type\n",
      "  for sugar_agent in self.schedule.agents_by_type[Sugar].values():\n",
      "C:\\Users\\DELL\\AppData\\Local\\Temp\\ipykernel_484\\329254329.py:101: DeprecationWarning: Because of the shift to using AgentSet, in the future this attribute will return a dict withtype as key as AgentSet as value. Future behavior is available via RandomActivationByType._agents_by_type\n",
      "  non_corrupt_agents_shuffle = list(self.schedule.agents_by_type[Non_corrupt_agent].values())\n",
      "C:\\Users\\DELL\\AppData\\Local\\Temp\\ipykernel_484\\329254329.py:91: DeprecationWarning: Because of the shift to using AgentSet, in the future this attribute will return a dict withtype as key as AgentSet as value. Future behavior is available via RandomActivationByType._agents_by_type\n",
      "  agents = [agent for agent in self.schedule.agents_by_type[Non_corrupt_agent].values()]\n"
     ]
    },
    {
     "name": "stdout",
     "output_type": "stream",
     "text": [
      "Agent 2297 has eaten 4 sugar from sugar 277\n",
      "Agent 2316 has eaten 4 sugar from sugar 302\n",
      "Agent 2336 has eaten 4 sugar from sugar 1910\n",
      "Agent 2308 has eaten 4 sugar from sugar 916\n",
      "Agent 2354 has eaten 4 sugar from sugar 2095\n",
      "Agent 2303 has eaten 4 sugar from sugar 462\n",
      "Agent 2367 has eaten 4 sugar from sugar 1080\n",
      "Agent 2299 has eaten 4 sugar from sugar 514\n",
      "Agent 2373 has eaten 4 sugar from sugar 1843\n",
      "Agent 2370 has eaten 4 sugar from sugar 84\n",
      "Agent 2334 has eaten 4 sugar from sugar 1688\n",
      "Agent 2359 has eaten 4 sugar from sugar 1261\n",
      "Agent 2350 has eaten 4 sugar from sugar 670\n",
      "Agent 2341 has eaten 4 sugar from sugar 2238\n",
      "Agent 2383 has eaten 4 sugar from sugar 1315\n",
      "Agent 2307 has eaten 4 sugar from sugar 1089\n",
      "Agent 2345 has eaten 4 sugar from sugar 94\n",
      "Agent 2352 has eaten 4 sugar from sugar 2049\n",
      "Agent 2322 has eaten 4 sugar from sugar 584\n",
      "Agent 2319 has eaten 4 sugar from sugar 700\n",
      "Agent 2386 has eaten 4 sugar from sugar 427\n",
      "Agent 2339 has eaten 4 sugar from sugar 442\n",
      "Agent 2318 has eaten 3.0 sugar from sugar 167\n",
      "Agent 2324 has eaten 4 sugar from sugar 1174\n",
      "Agent 2380 has eaten 4 sugar from sugar 251\n",
      "Agent 2356 has eaten 4.0 sugar from sugar 60\n",
      "Agent 2369 has eaten 4 sugar from sugar 2167\n",
      "Agent 2332 has eaten 4.0 sugar from sugar 44\n",
      "Agent 2321 has eaten 4.0 sugar from sugar 1584\n",
      "Agent 2374 has eaten 4 sugar from sugar 1253\n",
      "Agent 2325 has eaten 4.0 sugar from sugar 161\n",
      "342\n"
     ]
    },
    {
     "name": "stderr",
     "output_type": "stream",
     "text": [
      "C:\\Users\\DELL\\AppData\\Local\\Temp\\ipykernel_484\\329254329.py:109: DeprecationWarning: Because of the shift to using AgentSet, in the future this attribute will return a dict withtype as key as AgentSet as value. Future behavior is available via RandomActivationByType._agents_by_type\n",
      "  for sugar_agent in self.schedule.agents_by_type[Sugar].values():\n",
      "C:\\Users\\DELL\\AppData\\Local\\Temp\\ipykernel_484\\329254329.py:101: DeprecationWarning: Because of the shift to using AgentSet, in the future this attribute will return a dict withtype as key as AgentSet as value. Future behavior is available via RandomActivationByType._agents_by_type\n",
      "  non_corrupt_agents_shuffle = list(self.schedule.agents_by_type[Non_corrupt_agent].values())\n",
      "C:\\Users\\DELL\\AppData\\Local\\Temp\\ipykernel_484\\329254329.py:91: DeprecationWarning: Because of the shift to using AgentSet, in the future this attribute will return a dict withtype as key as AgentSet as value. Future behavior is available via RandomActivationByType._agents_by_type\n",
      "  agents = [agent for agent in self.schedule.agents_by_type[Non_corrupt_agent].values()]\n"
     ]
    },
    {
     "name": "stdout",
     "output_type": "stream",
     "text": [
      "344\n"
     ]
    },
    {
     "name": "stderr",
     "output_type": "stream",
     "text": [
      "C:\\Users\\DELL\\AppData\\Local\\Temp\\ipykernel_484\\329254329.py:109: DeprecationWarning: Because of the shift to using AgentSet, in the future this attribute will return a dict withtype as key as AgentSet as value. Future behavior is available via RandomActivationByType._agents_by_type\n",
      "  for sugar_agent in self.schedule.agents_by_type[Sugar].values():\n",
      "C:\\Users\\DELL\\AppData\\Local\\Temp\\ipykernel_484\\329254329.py:101: DeprecationWarning: Because of the shift to using AgentSet, in the future this attribute will return a dict withtype as key as AgentSet as value. Future behavior is available via RandomActivationByType._agents_by_type\n",
      "  non_corrupt_agents_shuffle = list(self.schedule.agents_by_type[Non_corrupt_agent].values())\n",
      "C:\\Users\\DELL\\AppData\\Local\\Temp\\ipykernel_484\\329254329.py:91: DeprecationWarning: Because of the shift to using AgentSet, in the future this attribute will return a dict withtype as key as AgentSet as value. Future behavior is available via RandomActivationByType._agents_by_type\n",
      "  agents = [agent for agent in self.schedule.agents_by_type[Non_corrupt_agent].values()]\n"
     ]
    },
    {
     "name": "stdout",
     "output_type": "stream",
     "text": [
      "Agent 2303 has eaten 4 sugar from sugar 462\n",
      "Agent 2308 has eaten 4 sugar from sugar 916\n",
      "Agent 2369 has eaten 4 sugar from sugar 2167\n",
      "Agent 2352 has eaten 4 sugar from sugar 2049\n",
      "Agent 2345 has eaten 4 sugar from sugar 94\n",
      "Agent 2319 has eaten 4 sugar from sugar 700\n",
      "Agent 2341 has eaten 4 sugar from sugar 2238\n",
      "Agent 2383 has eaten 4 sugar from sugar 1315\n",
      "Agent 2359 has eaten 4 sugar from sugar 1261\n",
      "Agent 2380 has eaten 4 sugar from sugar 251\n",
      "Agent 2321 has eaten 4.0 sugar from sugar 1584\n",
      "Agent 2322 has eaten 4 sugar from sugar 584\n",
      "Agent 2325 has eaten 4.0 sugar from sugar 161\n",
      "Agent 2370 has eaten 4 sugar from sugar 84\n",
      "Agent 2316 has eaten 4 sugar from sugar 302\n",
      "Agent 2332 has eaten 4.0 sugar from sugar 44\n",
      "Agent 2307 has eaten 4 sugar from sugar 1089\n",
      "Agent 2373 has eaten 4 sugar from sugar 1843\n",
      "Agent 2374 has eaten 4 sugar from sugar 1253\n",
      "Agent 2324 has eaten 4 sugar from sugar 1174\n",
      "Agent 2354 has eaten 4 sugar from sugar 2095\n",
      "Agent 2339 has eaten 4 sugar from sugar 442\n",
      "Agent 2318 has eaten 3.0 sugar from sugar 167\n",
      "Agent 2299 has eaten 4 sugar from sugar 514\n",
      "Agent 2367 has eaten 4 sugar from sugar 1080\n",
      "Agent 2350 has eaten 4 sugar from sugar 670\n",
      "Agent 2297 has eaten 4 sugar from sugar 277\n",
      "Agent 2336 has eaten 4 sugar from sugar 1910\n",
      "Agent 2334 has eaten 4 sugar from sugar 1688\n",
      "Agent 2356 has eaten 4.0 sugar from sugar 60\n",
      "Agent 2386 has eaten 4 sugar from sugar 427\n",
      "346\n"
     ]
    },
    {
     "name": "stderr",
     "output_type": "stream",
     "text": [
      "C:\\Users\\DELL\\AppData\\Local\\Temp\\ipykernel_484\\329254329.py:109: DeprecationWarning: Because of the shift to using AgentSet, in the future this attribute will return a dict withtype as key as AgentSet as value. Future behavior is available via RandomActivationByType._agents_by_type\n",
      "  for sugar_agent in self.schedule.agents_by_type[Sugar].values():\n",
      "C:\\Users\\DELL\\AppData\\Local\\Temp\\ipykernel_484\\329254329.py:101: DeprecationWarning: Because of the shift to using AgentSet, in the future this attribute will return a dict withtype as key as AgentSet as value. Future behavior is available via RandomActivationByType._agents_by_type\n",
      "  non_corrupt_agents_shuffle = list(self.schedule.agents_by_type[Non_corrupt_agent].values())\n",
      "C:\\Users\\DELL\\AppData\\Local\\Temp\\ipykernel_484\\329254329.py:91: DeprecationWarning: Because of the shift to using AgentSet, in the future this attribute will return a dict withtype as key as AgentSet as value. Future behavior is available via RandomActivationByType._agents_by_type\n",
      "  agents = [agent for agent in self.schedule.agents_by_type[Non_corrupt_agent].values()]\n"
     ]
    },
    {
     "name": "stdout",
     "output_type": "stream",
     "text": [
      "348\n"
     ]
    },
    {
     "name": "stderr",
     "output_type": "stream",
     "text": [
      "C:\\Users\\DELL\\AppData\\Local\\Temp\\ipykernel_484\\329254329.py:109: DeprecationWarning: Because of the shift to using AgentSet, in the future this attribute will return a dict withtype as key as AgentSet as value. Future behavior is available via RandomActivationByType._agents_by_type\n",
      "  for sugar_agent in self.schedule.agents_by_type[Sugar].values():\n",
      "C:\\Users\\DELL\\AppData\\Local\\Temp\\ipykernel_484\\329254329.py:101: DeprecationWarning: Because of the shift to using AgentSet, in the future this attribute will return a dict withtype as key as AgentSet as value. Future behavior is available via RandomActivationByType._agents_by_type\n",
      "  non_corrupt_agents_shuffle = list(self.schedule.agents_by_type[Non_corrupt_agent].values())\n",
      "C:\\Users\\DELL\\AppData\\Local\\Temp\\ipykernel_484\\329254329.py:91: DeprecationWarning: Because of the shift to using AgentSet, in the future this attribute will return a dict withtype as key as AgentSet as value. Future behavior is available via RandomActivationByType._agents_by_type\n",
      "  agents = [agent for agent in self.schedule.agents_by_type[Non_corrupt_agent].values()]\n"
     ]
    },
    {
     "name": "stdout",
     "output_type": "stream",
     "text": [
      "Agent 2308 has eaten 4 sugar from sugar 916\n",
      "Agent 2318 has eaten 3.0 sugar from sugar 167\n",
      "Agent 2303 has eaten 4 sugar from sugar 462\n",
      "Agent 2336 has eaten 4 sugar from sugar 1910\n",
      "Agent 2383 has eaten 4 sugar from sugar 1315\n",
      "Agent 2325 has eaten 4.0 sugar from sugar 161\n",
      "Agent 2374 has eaten 4 sugar from sugar 1253\n",
      "Agent 2370 has eaten 4 sugar from sugar 84\n",
      "Agent 2386 has eaten 4 sugar from sugar 427\n",
      "Agent 2321 has eaten 4.0 sugar from sugar 1584\n",
      "Agent 2319 has eaten 4 sugar from sugar 700\n",
      "Agent 2369 has eaten 4 sugar from sugar 2167\n",
      "Agent 2352 has eaten 4 sugar from sugar 2049\n",
      "Agent 2345 has eaten 4 sugar from sugar 94\n",
      "Agent 2373 has eaten 4 sugar from sugar 1843\n",
      "Agent 2380 has eaten 4 sugar from sugar 251\n",
      "Agent 2324 has eaten 4 sugar from sugar 1174\n",
      "Agent 2299 has eaten 4 sugar from sugar 514\n",
      "Agent 2354 has eaten 4 sugar from sugar 2095\n",
      "Agent 2297 has eaten 4 sugar from sugar 277\n",
      "Agent 2339 has eaten 4 sugar from sugar 442\n",
      "Agent 2322 has eaten 4 sugar from sugar 584\n",
      "Agent 2316 has eaten 4 sugar from sugar 302\n",
      "Agent 2350 has eaten 4 sugar from sugar 670\n",
      "Agent 2334 has eaten 4 sugar from sugar 1688\n",
      "Agent 2307 has eaten 4 sugar from sugar 1089\n",
      "Agent 2367 has eaten 4 sugar from sugar 1080\n",
      "Agent 2332 has eaten 4.0 sugar from sugar 44\n",
      "Agent 2359 has eaten 4 sugar from sugar 1261\n",
      "Agent 2356 has eaten 4.0 sugar from sugar 60\n",
      "Agent 2341 has eaten 4 sugar from sugar 2238\n",
      "350\n"
     ]
    },
    {
     "name": "stderr",
     "output_type": "stream",
     "text": [
      "C:\\Users\\DELL\\AppData\\Local\\Temp\\ipykernel_484\\329254329.py:109: DeprecationWarning: Because of the shift to using AgentSet, in the future this attribute will return a dict withtype as key as AgentSet as value. Future behavior is available via RandomActivationByType._agents_by_type\n",
      "  for sugar_agent in self.schedule.agents_by_type[Sugar].values():\n",
      "C:\\Users\\DELL\\AppData\\Local\\Temp\\ipykernel_484\\329254329.py:101: DeprecationWarning: Because of the shift to using AgentSet, in the future this attribute will return a dict withtype as key as AgentSet as value. Future behavior is available via RandomActivationByType._agents_by_type\n",
      "  non_corrupt_agents_shuffle = list(self.schedule.agents_by_type[Non_corrupt_agent].values())\n",
      "C:\\Users\\DELL\\AppData\\Local\\Temp\\ipykernel_484\\329254329.py:91: DeprecationWarning: Because of the shift to using AgentSet, in the future this attribute will return a dict withtype as key as AgentSet as value. Future behavior is available via RandomActivationByType._agents_by_type\n",
      "  agents = [agent for agent in self.schedule.agents_by_type[Non_corrupt_agent].values()]\n"
     ]
    },
    {
     "name": "stdout",
     "output_type": "stream",
     "text": [
      "352\n"
     ]
    },
    {
     "name": "stderr",
     "output_type": "stream",
     "text": [
      "C:\\Users\\DELL\\AppData\\Local\\Temp\\ipykernel_484\\329254329.py:109: DeprecationWarning: Because of the shift to using AgentSet, in the future this attribute will return a dict withtype as key as AgentSet as value. Future behavior is available via RandomActivationByType._agents_by_type\n",
      "  for sugar_agent in self.schedule.agents_by_type[Sugar].values():\n",
      "C:\\Users\\DELL\\AppData\\Local\\Temp\\ipykernel_484\\329254329.py:101: DeprecationWarning: Because of the shift to using AgentSet, in the future this attribute will return a dict withtype as key as AgentSet as value. Future behavior is available via RandomActivationByType._agents_by_type\n",
      "  non_corrupt_agents_shuffle = list(self.schedule.agents_by_type[Non_corrupt_agent].values())\n",
      "C:\\Users\\DELL\\AppData\\Local\\Temp\\ipykernel_484\\329254329.py:91: DeprecationWarning: Because of the shift to using AgentSet, in the future this attribute will return a dict withtype as key as AgentSet as value. Future behavior is available via RandomActivationByType._agents_by_type\n",
      "  agents = [agent for agent in self.schedule.agents_by_type[Non_corrupt_agent].values()]\n"
     ]
    },
    {
     "name": "stdout",
     "output_type": "stream",
     "text": [
      "Agent 2383 has eaten 4 sugar from sugar 1315\n",
      "Agent 2356 has eaten 4.0 sugar from sugar 60\n",
      "Agent 2307 has eaten 4 sugar from sugar 1089\n",
      "Agent 2345 has eaten 4 sugar from sugar 94\n",
      "Agent 2325 has eaten 4.0 sugar from sugar 161\n",
      "Agent 2319 has eaten 4 sugar from sugar 700\n",
      "Agent 2341 has eaten 4 sugar from sugar 2238\n",
      "Agent 2303 has eaten 4 sugar from sugar 462\n",
      "Agent 2297 has eaten 4 sugar from sugar 277\n",
      "Agent 2354 has eaten 4 sugar from sugar 2095\n",
      "Agent 2299 has eaten 4 sugar from sugar 514\n",
      "Agent 2386 has eaten 4 sugar from sugar 427\n",
      "Agent 2367 has eaten 4 sugar from sugar 1080\n",
      "Agent 2322 has eaten 4 sugar from sugar 584\n",
      "Agent 2321 has eaten 4.0 sugar from sugar 1584\n",
      "Agent 2324 has eaten 4 sugar from sugar 1174\n",
      "Agent 2318 has eaten 3.0 sugar from sugar 167\n",
      "Agent 2339 has eaten 4 sugar from sugar 442\n",
      "Agent 2352 has eaten 4 sugar from sugar 2049\n",
      "Agent 2332 has eaten 4.0 sugar from sugar 44\n",
      "Agent 2308 has eaten 4 sugar from sugar 916\n",
      "Agent 2370 has eaten 4 sugar from sugar 84\n",
      "Agent 2334 has eaten 4 sugar from sugar 1688\n",
      "Agent 2336 has eaten 4 sugar from sugar 1910\n",
      "Agent 2316 has eaten 4 sugar from sugar 302\n",
      "Agent 2350 has eaten 4 sugar from sugar 670\n",
      "Agent 2369 has eaten 4 sugar from sugar 2167\n",
      "Agent 2359 has eaten 4 sugar from sugar 1261\n",
      "Agent 2380 has eaten 4 sugar from sugar 251\n",
      "Agent 2373 has eaten 4 sugar from sugar 1843\n",
      "Agent 2374 has eaten 4 sugar from sugar 1253\n",
      "354\n"
     ]
    },
    {
     "name": "stderr",
     "output_type": "stream",
     "text": [
      "C:\\Users\\DELL\\AppData\\Local\\Temp\\ipykernel_484\\329254329.py:109: DeprecationWarning: Because of the shift to using AgentSet, in the future this attribute will return a dict withtype as key as AgentSet as value. Future behavior is available via RandomActivationByType._agents_by_type\n",
      "  for sugar_agent in self.schedule.agents_by_type[Sugar].values():\n",
      "C:\\Users\\DELL\\AppData\\Local\\Temp\\ipykernel_484\\329254329.py:101: DeprecationWarning: Because of the shift to using AgentSet, in the future this attribute will return a dict withtype as key as AgentSet as value. Future behavior is available via RandomActivationByType._agents_by_type\n",
      "  non_corrupt_agents_shuffle = list(self.schedule.agents_by_type[Non_corrupt_agent].values())\n",
      "C:\\Users\\DELL\\AppData\\Local\\Temp\\ipykernel_484\\329254329.py:91: DeprecationWarning: Because of the shift to using AgentSet, in the future this attribute will return a dict withtype as key as AgentSet as value. Future behavior is available via RandomActivationByType._agents_by_type\n",
      "  agents = [agent for agent in self.schedule.agents_by_type[Non_corrupt_agent].values()]\n"
     ]
    },
    {
     "name": "stdout",
     "output_type": "stream",
     "text": [
      "356\n"
     ]
    },
    {
     "name": "stderr",
     "output_type": "stream",
     "text": [
      "C:\\Users\\DELL\\AppData\\Local\\Temp\\ipykernel_484\\329254329.py:109: DeprecationWarning: Because of the shift to using AgentSet, in the future this attribute will return a dict withtype as key as AgentSet as value. Future behavior is available via RandomActivationByType._agents_by_type\n",
      "  for sugar_agent in self.schedule.agents_by_type[Sugar].values():\n",
      "C:\\Users\\DELL\\AppData\\Local\\Temp\\ipykernel_484\\329254329.py:101: DeprecationWarning: Because of the shift to using AgentSet, in the future this attribute will return a dict withtype as key as AgentSet as value. Future behavior is available via RandomActivationByType._agents_by_type\n",
      "  non_corrupt_agents_shuffle = list(self.schedule.agents_by_type[Non_corrupt_agent].values())\n",
      "C:\\Users\\DELL\\AppData\\Local\\Temp\\ipykernel_484\\329254329.py:91: DeprecationWarning: Because of the shift to using AgentSet, in the future this attribute will return a dict withtype as key as AgentSet as value. Future behavior is available via RandomActivationByType._agents_by_type\n",
      "  agents = [agent for agent in self.schedule.agents_by_type[Non_corrupt_agent].values()]\n"
     ]
    },
    {
     "name": "stdout",
     "output_type": "stream",
     "text": [
      "Agent 2307 has eaten 4 sugar from sugar 1089\n",
      "Agent 2369 has eaten 4 sugar from sugar 2167\n",
      "Agent 2303 has eaten 4 sugar from sugar 462\n",
      "Agent 2380 has eaten 4 sugar from sugar 251\n",
      "Agent 2350 has eaten 4 sugar from sugar 670\n",
      "Agent 2383 has eaten 4 sugar from sugar 1315\n",
      "Agent 2325 has eaten 4.0 sugar from sugar 161\n",
      "Agent 2386 has eaten 4 sugar from sugar 427\n",
      "Agent 2336 has eaten 4 sugar from sugar 1910\n",
      "Agent 2321 has eaten 4.0 sugar from sugar 1584\n",
      "Agent 2374 has eaten 4 sugar from sugar 1253\n",
      "Agent 2339 has eaten 4 sugar from sugar 442\n",
      "Agent 2334 has eaten 4 sugar from sugar 1688\n",
      "Agent 2345 has eaten 4 sugar from sugar 94\n",
      "Agent 2297 has eaten 4 sugar from sugar 277\n",
      "Agent 2318 has eaten 3.0 sugar from sugar 167\n",
      "Agent 2370 has eaten 4 sugar from sugar 84\n",
      "Agent 2352 has eaten 4 sugar from sugar 2049\n",
      "Agent 2356 has eaten 4.0 sugar from sugar 60\n",
      "Agent 2319 has eaten 4 sugar from sugar 700\n",
      "Agent 2332 has eaten 4.0 sugar from sugar 44\n",
      "Agent 2354 has eaten 4 sugar from sugar 2095\n",
      "Agent 2308 has eaten 4 sugar from sugar 916\n",
      "Agent 2367 has eaten 4 sugar from sugar 1080\n",
      "Agent 2373 has eaten 4 sugar from sugar 1843\n",
      "Agent 2324 has eaten 4 sugar from sugar 1174\n",
      "Agent 2316 has eaten 4 sugar from sugar 302\n",
      "Agent 2359 has eaten 4 sugar from sugar 1261\n",
      "Agent 2341 has eaten 4 sugar from sugar 2238\n",
      "Agent 2299 has eaten 4 sugar from sugar 514\n",
      "Agent 2322 has eaten 4 sugar from sugar 584\n",
      "358\n"
     ]
    },
    {
     "name": "stderr",
     "output_type": "stream",
     "text": [
      "C:\\Users\\DELL\\AppData\\Local\\Temp\\ipykernel_484\\329254329.py:109: DeprecationWarning: Because of the shift to using AgentSet, in the future this attribute will return a dict withtype as key as AgentSet as value. Future behavior is available via RandomActivationByType._agents_by_type\n",
      "  for sugar_agent in self.schedule.agents_by_type[Sugar].values():\n",
      "C:\\Users\\DELL\\AppData\\Local\\Temp\\ipykernel_484\\329254329.py:101: DeprecationWarning: Because of the shift to using AgentSet, in the future this attribute will return a dict withtype as key as AgentSet as value. Future behavior is available via RandomActivationByType._agents_by_type\n",
      "  non_corrupt_agents_shuffle = list(self.schedule.agents_by_type[Non_corrupt_agent].values())\n",
      "C:\\Users\\DELL\\AppData\\Local\\Temp\\ipykernel_484\\329254329.py:91: DeprecationWarning: Because of the shift to using AgentSet, in the future this attribute will return a dict withtype as key as AgentSet as value. Future behavior is available via RandomActivationByType._agents_by_type\n",
      "  agents = [agent for agent in self.schedule.agents_by_type[Non_corrupt_agent].values()]\n"
     ]
    },
    {
     "name": "stdout",
     "output_type": "stream",
     "text": [
      "360\n"
     ]
    },
    {
     "name": "stderr",
     "output_type": "stream",
     "text": [
      "C:\\Users\\DELL\\AppData\\Local\\Temp\\ipykernel_484\\329254329.py:109: DeprecationWarning: Because of the shift to using AgentSet, in the future this attribute will return a dict withtype as key as AgentSet as value. Future behavior is available via RandomActivationByType._agents_by_type\n",
      "  for sugar_agent in self.schedule.agents_by_type[Sugar].values():\n",
      "C:\\Users\\DELL\\AppData\\Local\\Temp\\ipykernel_484\\329254329.py:101: DeprecationWarning: Because of the shift to using AgentSet, in the future this attribute will return a dict withtype as key as AgentSet as value. Future behavior is available via RandomActivationByType._agents_by_type\n",
      "  non_corrupt_agents_shuffle = list(self.schedule.agents_by_type[Non_corrupt_agent].values())\n",
      "C:\\Users\\DELL\\AppData\\Local\\Temp\\ipykernel_484\\329254329.py:91: DeprecationWarning: Because of the shift to using AgentSet, in the future this attribute will return a dict withtype as key as AgentSet as value. Future behavior is available via RandomActivationByType._agents_by_type\n",
      "  agents = [agent for agent in self.schedule.agents_by_type[Non_corrupt_agent].values()]\n"
     ]
    },
    {
     "name": "stdout",
     "output_type": "stream",
     "text": [
      "Agent 2370 has eaten 4 sugar from sugar 84\n",
      "Agent 2322 has eaten 4 sugar from sugar 584\n",
      "Agent 2359 has eaten 4 sugar from sugar 1261\n",
      "Agent 2324 has eaten 4 sugar from sugar 1174\n",
      "Agent 2339 has eaten 4 sugar from sugar 442\n",
      "Agent 2386 has eaten 4 sugar from sugar 427\n",
      "Agent 2325 has eaten 4.0 sugar from sugar 161\n",
      "Agent 2356 has eaten 4.0 sugar from sugar 60\n",
      "Agent 2336 has eaten 4 sugar from sugar 1910\n",
      "Agent 2374 has eaten 4 sugar from sugar 1253\n",
      "Agent 2373 has eaten 4 sugar from sugar 1843\n",
      "Agent 2318 has eaten 3.0 sugar from sugar 167\n",
      "Agent 2307 has eaten 4 sugar from sugar 1089\n",
      "Agent 2354 has eaten 4 sugar from sugar 2095\n",
      "Agent 2352 has eaten 4 sugar from sugar 2049\n",
      "Agent 2303 has eaten 4 sugar from sugar 462\n",
      "Agent 2345 has eaten 4 sugar from sugar 94\n",
      "Agent 2316 has eaten 4 sugar from sugar 302\n",
      "Agent 2369 has eaten 4 sugar from sugar 2167\n",
      "Agent 2334 has eaten 4 sugar from sugar 1688\n",
      "Agent 2341 has eaten 4 sugar from sugar 2238\n",
      "Agent 2380 has eaten 4 sugar from sugar 251\n",
      "Agent 2299 has eaten 4 sugar from sugar 514\n",
      "Agent 2297 has eaten 4 sugar from sugar 277\n",
      "Agent 2367 has eaten 4 sugar from sugar 1080\n",
      "Agent 2332 has eaten 4.0 sugar from sugar 44\n",
      "Agent 2321 has eaten 4.0 sugar from sugar 1584\n",
      "Agent 2350 has eaten 4 sugar from sugar 670\n",
      "Agent 2319 has eaten 4 sugar from sugar 700\n",
      "Agent 2308 has eaten 4 sugar from sugar 916\n",
      "Agent 2383 has eaten 4 sugar from sugar 1315\n",
      "362\n"
     ]
    },
    {
     "name": "stderr",
     "output_type": "stream",
     "text": [
      "C:\\Users\\DELL\\AppData\\Local\\Temp\\ipykernel_484\\329254329.py:109: DeprecationWarning: Because of the shift to using AgentSet, in the future this attribute will return a dict withtype as key as AgentSet as value. Future behavior is available via RandomActivationByType._agents_by_type\n",
      "  for sugar_agent in self.schedule.agents_by_type[Sugar].values():\n",
      "C:\\Users\\DELL\\AppData\\Local\\Temp\\ipykernel_484\\329254329.py:101: DeprecationWarning: Because of the shift to using AgentSet, in the future this attribute will return a dict withtype as key as AgentSet as value. Future behavior is available via RandomActivationByType._agents_by_type\n",
      "  non_corrupt_agents_shuffle = list(self.schedule.agents_by_type[Non_corrupt_agent].values())\n",
      "C:\\Users\\DELL\\AppData\\Local\\Temp\\ipykernel_484\\329254329.py:91: DeprecationWarning: Because of the shift to using AgentSet, in the future this attribute will return a dict withtype as key as AgentSet as value. Future behavior is available via RandomActivationByType._agents_by_type\n",
      "  agents = [agent for agent in self.schedule.agents_by_type[Non_corrupt_agent].values()]\n"
     ]
    },
    {
     "name": "stdout",
     "output_type": "stream",
     "text": [
      "364\n"
     ]
    },
    {
     "name": "stderr",
     "output_type": "stream",
     "text": [
      "C:\\Users\\DELL\\AppData\\Local\\Temp\\ipykernel_484\\329254329.py:109: DeprecationWarning: Because of the shift to using AgentSet, in the future this attribute will return a dict withtype as key as AgentSet as value. Future behavior is available via RandomActivationByType._agents_by_type\n",
      "  for sugar_agent in self.schedule.agents_by_type[Sugar].values():\n",
      "C:\\Users\\DELL\\AppData\\Local\\Temp\\ipykernel_484\\329254329.py:101: DeprecationWarning: Because of the shift to using AgentSet, in the future this attribute will return a dict withtype as key as AgentSet as value. Future behavior is available via RandomActivationByType._agents_by_type\n",
      "  non_corrupt_agents_shuffle = list(self.schedule.agents_by_type[Non_corrupt_agent].values())\n",
      "C:\\Users\\DELL\\AppData\\Local\\Temp\\ipykernel_484\\329254329.py:91: DeprecationWarning: Because of the shift to using AgentSet, in the future this attribute will return a dict withtype as key as AgentSet as value. Future behavior is available via RandomActivationByType._agents_by_type\n",
      "  agents = [agent for agent in self.schedule.agents_by_type[Non_corrupt_agent].values()]\n"
     ]
    },
    {
     "name": "stdout",
     "output_type": "stream",
     "text": [
      "Agent 2374 has eaten 4 sugar from sugar 1253\n",
      "Agent 2345 has eaten 4 sugar from sugar 94\n",
      "Agent 2370 has eaten 4 sugar from sugar 84\n",
      "Agent 2297 has eaten 4 sugar from sugar 277\n",
      "Agent 2324 has eaten 4 sugar from sugar 1174\n",
      "Agent 2308 has eaten 4 sugar from sugar 916\n",
      "Agent 2341 has eaten 4 sugar from sugar 2238\n",
      "Agent 2373 has eaten 4 sugar from sugar 1843\n",
      "Agent 2359 has eaten 4 sugar from sugar 1261\n",
      "Agent 2334 has eaten 4 sugar from sugar 1688\n",
      "Agent 2321 has eaten 4.0 sugar from sugar 1584\n",
      "Agent 2307 has eaten 4 sugar from sugar 1089\n",
      "Agent 2350 has eaten 4 sugar from sugar 670\n",
      "Agent 2386 has eaten 4 sugar from sugar 427\n",
      "Agent 2352 has eaten 4 sugar from sugar 2049\n",
      "Agent 2332 has eaten 4.0 sugar from sugar 44\n",
      "Agent 2383 has eaten 4 sugar from sugar 1315\n",
      "Agent 2336 has eaten 4 sugar from sugar 1910\n",
      "Agent 2299 has eaten 4 sugar from sugar 514\n",
      "Agent 2318 has eaten 3.0 sugar from sugar 167\n",
      "Agent 2339 has eaten 4 sugar from sugar 442\n",
      "Agent 2369 has eaten 4 sugar from sugar 2167\n",
      "Agent 2354 has eaten 4 sugar from sugar 2095\n",
      "Agent 2380 has eaten 4 sugar from sugar 251\n",
      "Agent 2325 has eaten 4.0 sugar from sugar 161\n",
      "Agent 2303 has eaten 4 sugar from sugar 462\n",
      "Agent 2316 has eaten 4 sugar from sugar 302\n",
      "Agent 2356 has eaten 4.0 sugar from sugar 60\n",
      "Agent 2319 has eaten 4 sugar from sugar 700\n",
      "Agent 2322 has eaten 4 sugar from sugar 584\n",
      "Agent 2367 has eaten 4 sugar from sugar 1080\n",
      "366\n"
     ]
    },
    {
     "name": "stderr",
     "output_type": "stream",
     "text": [
      "C:\\Users\\DELL\\AppData\\Local\\Temp\\ipykernel_484\\329254329.py:109: DeprecationWarning: Because of the shift to using AgentSet, in the future this attribute will return a dict withtype as key as AgentSet as value. Future behavior is available via RandomActivationByType._agents_by_type\n",
      "  for sugar_agent in self.schedule.agents_by_type[Sugar].values():\n",
      "C:\\Users\\DELL\\AppData\\Local\\Temp\\ipykernel_484\\329254329.py:101: DeprecationWarning: Because of the shift to using AgentSet, in the future this attribute will return a dict withtype as key as AgentSet as value. Future behavior is available via RandomActivationByType._agents_by_type\n",
      "  non_corrupt_agents_shuffle = list(self.schedule.agents_by_type[Non_corrupt_agent].values())\n",
      "C:\\Users\\DELL\\AppData\\Local\\Temp\\ipykernel_484\\329254329.py:91: DeprecationWarning: Because of the shift to using AgentSet, in the future this attribute will return a dict withtype as key as AgentSet as value. Future behavior is available via RandomActivationByType._agents_by_type\n",
      "  agents = [agent for agent in self.schedule.agents_by_type[Non_corrupt_agent].values()]\n"
     ]
    },
    {
     "name": "stdout",
     "output_type": "stream",
     "text": [
      "368\n"
     ]
    },
    {
     "name": "stderr",
     "output_type": "stream",
     "text": [
      "C:\\Users\\DELL\\AppData\\Local\\Temp\\ipykernel_484\\329254329.py:109: DeprecationWarning: Because of the shift to using AgentSet, in the future this attribute will return a dict withtype as key as AgentSet as value. Future behavior is available via RandomActivationByType._agents_by_type\n",
      "  for sugar_agent in self.schedule.agents_by_type[Sugar].values():\n",
      "C:\\Users\\DELL\\AppData\\Local\\Temp\\ipykernel_484\\329254329.py:101: DeprecationWarning: Because of the shift to using AgentSet, in the future this attribute will return a dict withtype as key as AgentSet as value. Future behavior is available via RandomActivationByType._agents_by_type\n",
      "  non_corrupt_agents_shuffle = list(self.schedule.agents_by_type[Non_corrupt_agent].values())\n",
      "C:\\Users\\DELL\\AppData\\Local\\Temp\\ipykernel_484\\329254329.py:91: DeprecationWarning: Because of the shift to using AgentSet, in the future this attribute will return a dict withtype as key as AgentSet as value. Future behavior is available via RandomActivationByType._agents_by_type\n",
      "  agents = [agent for agent in self.schedule.agents_by_type[Non_corrupt_agent].values()]\n"
     ]
    },
    {
     "name": "stdout",
     "output_type": "stream",
     "text": [
      "Agent 2318 has eaten 3.0 sugar from sugar 167\n",
      "Agent 2373 has eaten 4 sugar from sugar 1843\n",
      "Agent 2352 has eaten 4 sugar from sugar 2049\n",
      "Agent 2383 has eaten 4 sugar from sugar 1315\n",
      "Agent 2303 has eaten 4 sugar from sugar 462\n",
      "Agent 2297 has eaten 4 sugar from sugar 277\n",
      "Agent 2336 has eaten 4 sugar from sugar 1910\n",
      "Agent 2370 has eaten 4 sugar from sugar 84\n",
      "Agent 2367 has eaten 4 sugar from sugar 1080\n",
      "Agent 2319 has eaten 4 sugar from sugar 700\n",
      "Agent 2334 has eaten 4 sugar from sugar 1688\n",
      "Agent 2380 has eaten 4 sugar from sugar 251\n",
      "Agent 2369 has eaten 4 sugar from sugar 2167\n",
      "Agent 2339 has eaten 4 sugar from sugar 442\n",
      "Agent 2345 has eaten 4 sugar from sugar 94\n",
      "Agent 2321 has eaten 4.0 sugar from sugar 1584\n",
      "Agent 2386 has eaten 4 sugar from sugar 427\n",
      "Agent 2299 has eaten 4 sugar from sugar 514\n",
      "Agent 2356 has eaten 4.0 sugar from sugar 60\n",
      "Agent 2350 has eaten 4 sugar from sugar 670\n",
      "Agent 2324 has eaten 4 sugar from sugar 1174\n",
      "Agent 2359 has eaten 4 sugar from sugar 1261\n",
      "Agent 2316 has eaten 4 sugar from sugar 302\n",
      "Agent 2332 has eaten 4.0 sugar from sugar 44\n",
      "Agent 2374 has eaten 4 sugar from sugar 1253\n",
      "Agent 2307 has eaten 4 sugar from sugar 1089\n",
      "Agent 2341 has eaten 4 sugar from sugar 2238\n",
      "Agent 2325 has eaten 4.0 sugar from sugar 161\n",
      "Agent 2308 has eaten 4 sugar from sugar 916\n",
      "Agent 2322 has eaten 4 sugar from sugar 584\n",
      "Agent 2354 has eaten 4 sugar from sugar 2095\n",
      "370\n"
     ]
    },
    {
     "name": "stderr",
     "output_type": "stream",
     "text": [
      "C:\\Users\\DELL\\AppData\\Local\\Temp\\ipykernel_484\\329254329.py:109: DeprecationWarning: Because of the shift to using AgentSet, in the future this attribute will return a dict withtype as key as AgentSet as value. Future behavior is available via RandomActivationByType._agents_by_type\n",
      "  for sugar_agent in self.schedule.agents_by_type[Sugar].values():\n",
      "C:\\Users\\DELL\\AppData\\Local\\Temp\\ipykernel_484\\329254329.py:101: DeprecationWarning: Because of the shift to using AgentSet, in the future this attribute will return a dict withtype as key as AgentSet as value. Future behavior is available via RandomActivationByType._agents_by_type\n",
      "  non_corrupt_agents_shuffle = list(self.schedule.agents_by_type[Non_corrupt_agent].values())\n",
      "C:\\Users\\DELL\\AppData\\Local\\Temp\\ipykernel_484\\329254329.py:91: DeprecationWarning: Because of the shift to using AgentSet, in the future this attribute will return a dict withtype as key as AgentSet as value. Future behavior is available via RandomActivationByType._agents_by_type\n",
      "  agents = [agent for agent in self.schedule.agents_by_type[Non_corrupt_agent].values()]\n"
     ]
    },
    {
     "name": "stdout",
     "output_type": "stream",
     "text": [
      "372\n"
     ]
    },
    {
     "name": "stderr",
     "output_type": "stream",
     "text": [
      "C:\\Users\\DELL\\AppData\\Local\\Temp\\ipykernel_484\\329254329.py:109: DeprecationWarning: Because of the shift to using AgentSet, in the future this attribute will return a dict withtype as key as AgentSet as value. Future behavior is available via RandomActivationByType._agents_by_type\n",
      "  for sugar_agent in self.schedule.agents_by_type[Sugar].values():\n",
      "C:\\Users\\DELL\\AppData\\Local\\Temp\\ipykernel_484\\329254329.py:101: DeprecationWarning: Because of the shift to using AgentSet, in the future this attribute will return a dict withtype as key as AgentSet as value. Future behavior is available via RandomActivationByType._agents_by_type\n",
      "  non_corrupt_agents_shuffle = list(self.schedule.agents_by_type[Non_corrupt_agent].values())\n",
      "C:\\Users\\DELL\\AppData\\Local\\Temp\\ipykernel_484\\329254329.py:91: DeprecationWarning: Because of the shift to using AgentSet, in the future this attribute will return a dict withtype as key as AgentSet as value. Future behavior is available via RandomActivationByType._agents_by_type\n",
      "  agents = [agent for agent in self.schedule.agents_by_type[Non_corrupt_agent].values()]\n"
     ]
    },
    {
     "name": "stdout",
     "output_type": "stream",
     "text": [
      "Agent 2383 has eaten 4 sugar from sugar 1315\n",
      "Agent 2334 has eaten 4 sugar from sugar 1688\n",
      "Agent 2356 has eaten 4.0 sugar from sugar 60\n",
      "Agent 2319 has eaten 4 sugar from sugar 700\n",
      "Agent 2325 has eaten 4.0 sugar from sugar 161\n",
      "Agent 2350 has eaten 4 sugar from sugar 670\n",
      "Agent 2373 has eaten 4 sugar from sugar 1843\n",
      "Agent 2359 has eaten 4 sugar from sugar 1261\n",
      "Agent 2303 has eaten 4 sugar from sugar 462\n",
      "Agent 2336 has eaten 4 sugar from sugar 1910\n",
      "Agent 2321 has eaten 4.0 sugar from sugar 1584\n",
      "Agent 2322 has eaten 4 sugar from sugar 584\n",
      "Agent 2318 has eaten 3.0 sugar from sugar 167\n",
      "Agent 2324 has eaten 4 sugar from sugar 1174\n",
      "Agent 2308 has eaten 4 sugar from sugar 916\n",
      "Agent 2352 has eaten 4 sugar from sugar 2049\n",
      "Agent 2316 has eaten 4 sugar from sugar 302\n",
      "Agent 2380 has eaten 4 sugar from sugar 251\n",
      "Agent 2341 has eaten 4 sugar from sugar 2238\n",
      "Agent 2374 has eaten 4 sugar from sugar 1253\n",
      "Agent 2367 has eaten 4 sugar from sugar 1080\n",
      "Agent 2299 has eaten 4 sugar from sugar 514\n",
      "Agent 2370 has eaten 4 sugar from sugar 84\n",
      "Agent 2345 has eaten 4 sugar from sugar 94\n",
      "Agent 2386 has eaten 4 sugar from sugar 427\n",
      "Agent 2369 has eaten 4 sugar from sugar 2167\n",
      "Agent 2339 has eaten 4 sugar from sugar 442\n",
      "Agent 2354 has eaten 4 sugar from sugar 2095\n",
      "Agent 2297 has eaten 4 sugar from sugar 277\n",
      "Agent 2307 has eaten 4 sugar from sugar 1089\n",
      "Agent 2332 has eaten 4.0 sugar from sugar 44\n",
      "374\n"
     ]
    },
    {
     "name": "stderr",
     "output_type": "stream",
     "text": [
      "C:\\Users\\DELL\\AppData\\Local\\Temp\\ipykernel_484\\329254329.py:109: DeprecationWarning: Because of the shift to using AgentSet, in the future this attribute will return a dict withtype as key as AgentSet as value. Future behavior is available via RandomActivationByType._agents_by_type\n",
      "  for sugar_agent in self.schedule.agents_by_type[Sugar].values():\n",
      "C:\\Users\\DELL\\AppData\\Local\\Temp\\ipykernel_484\\329254329.py:101: DeprecationWarning: Because of the shift to using AgentSet, in the future this attribute will return a dict withtype as key as AgentSet as value. Future behavior is available via RandomActivationByType._agents_by_type\n",
      "  non_corrupt_agents_shuffle = list(self.schedule.agents_by_type[Non_corrupt_agent].values())\n",
      "C:\\Users\\DELL\\AppData\\Local\\Temp\\ipykernel_484\\329254329.py:91: DeprecationWarning: Because of the shift to using AgentSet, in the future this attribute will return a dict withtype as key as AgentSet as value. Future behavior is available via RandomActivationByType._agents_by_type\n",
      "  agents = [agent for agent in self.schedule.agents_by_type[Non_corrupt_agent].values()]\n"
     ]
    },
    {
     "name": "stdout",
     "output_type": "stream",
     "text": [
      "376\n"
     ]
    },
    {
     "name": "stderr",
     "output_type": "stream",
     "text": [
      "C:\\Users\\DELL\\AppData\\Local\\Temp\\ipykernel_484\\329254329.py:109: DeprecationWarning: Because of the shift to using AgentSet, in the future this attribute will return a dict withtype as key as AgentSet as value. Future behavior is available via RandomActivationByType._agents_by_type\n",
      "  for sugar_agent in self.schedule.agents_by_type[Sugar].values():\n",
      "C:\\Users\\DELL\\AppData\\Local\\Temp\\ipykernel_484\\329254329.py:101: DeprecationWarning: Because of the shift to using AgentSet, in the future this attribute will return a dict withtype as key as AgentSet as value. Future behavior is available via RandomActivationByType._agents_by_type\n",
      "  non_corrupt_agents_shuffle = list(self.schedule.agents_by_type[Non_corrupt_agent].values())\n",
      "C:\\Users\\DELL\\AppData\\Local\\Temp\\ipykernel_484\\329254329.py:91: DeprecationWarning: Because of the shift to using AgentSet, in the future this attribute will return a dict withtype as key as AgentSet as value. Future behavior is available via RandomActivationByType._agents_by_type\n",
      "  agents = [agent for agent in self.schedule.agents_by_type[Non_corrupt_agent].values()]\n"
     ]
    },
    {
     "name": "stdout",
     "output_type": "stream",
     "text": [
      "Agent 2345 has eaten 4 sugar from sugar 94\n",
      "Agent 2373 has eaten 4 sugar from sugar 1843\n",
      "Agent 2303 has eaten 4 sugar from sugar 462\n",
      "Agent 2380 has eaten 4 sugar from sugar 251\n",
      "Agent 2354 has eaten 4 sugar from sugar 2095\n",
      "Agent 2383 has eaten 4 sugar from sugar 1315\n",
      "Agent 2318 has eaten 3.0 sugar from sugar 167\n",
      "Agent 2359 has eaten 4 sugar from sugar 1261\n",
      "Agent 2386 has eaten 4 sugar from sugar 427\n",
      "Agent 2374 has eaten 4 sugar from sugar 1253\n",
      "Agent 2334 has eaten 4 sugar from sugar 1688\n",
      "Agent 2325 has eaten 4.0 sugar from sugar 161\n",
      "Agent 2341 has eaten 4 sugar from sugar 2238\n",
      "Agent 2308 has eaten 4 sugar from sugar 916\n",
      "Agent 2339 has eaten 4 sugar from sugar 442\n",
      "Agent 2350 has eaten 4 sugar from sugar 670\n",
      "Agent 2299 has eaten 4 sugar from sugar 514\n",
      "Agent 2316 has eaten 4 sugar from sugar 302\n",
      "Agent 2367 has eaten 4 sugar from sugar 1080\n",
      "Agent 2352 has eaten 4 sugar from sugar 2049\n",
      "Agent 2319 has eaten 4 sugar from sugar 700\n",
      "Agent 2369 has eaten 4 sugar from sugar 2167\n",
      "Agent 2370 has eaten 4 sugar from sugar 84\n",
      "Agent 2324 has eaten 4 sugar from sugar 1174\n",
      "Agent 2322 has eaten 4 sugar from sugar 584\n",
      "Agent 2297 has eaten 4 sugar from sugar 277\n",
      "Agent 2336 has eaten 4 sugar from sugar 1910\n",
      "Agent 2307 has eaten 4 sugar from sugar 1089\n",
      "Agent 2356 has eaten 4.0 sugar from sugar 60\n",
      "Agent 2321 has eaten 4.0 sugar from sugar 1584\n",
      "Agent 2332 has eaten 4.0 sugar from sugar 44\n",
      "378\n"
     ]
    },
    {
     "name": "stderr",
     "output_type": "stream",
     "text": [
      "C:\\Users\\DELL\\AppData\\Local\\Temp\\ipykernel_484\\329254329.py:109: DeprecationWarning: Because of the shift to using AgentSet, in the future this attribute will return a dict withtype as key as AgentSet as value. Future behavior is available via RandomActivationByType._agents_by_type\n",
      "  for sugar_agent in self.schedule.agents_by_type[Sugar].values():\n",
      "C:\\Users\\DELL\\AppData\\Local\\Temp\\ipykernel_484\\329254329.py:101: DeprecationWarning: Because of the shift to using AgentSet, in the future this attribute will return a dict withtype as key as AgentSet as value. Future behavior is available via RandomActivationByType._agents_by_type\n",
      "  non_corrupt_agents_shuffle = list(self.schedule.agents_by_type[Non_corrupt_agent].values())\n",
      "C:\\Users\\DELL\\AppData\\Local\\Temp\\ipykernel_484\\329254329.py:91: DeprecationWarning: Because of the shift to using AgentSet, in the future this attribute will return a dict withtype as key as AgentSet as value. Future behavior is available via RandomActivationByType._agents_by_type\n",
      "  agents = [agent for agent in self.schedule.agents_by_type[Non_corrupt_agent].values()]\n"
     ]
    },
    {
     "name": "stdout",
     "output_type": "stream",
     "text": [
      "380\n"
     ]
    },
    {
     "name": "stderr",
     "output_type": "stream",
     "text": [
      "C:\\Users\\DELL\\AppData\\Local\\Temp\\ipykernel_484\\329254329.py:109: DeprecationWarning: Because of the shift to using AgentSet, in the future this attribute will return a dict withtype as key as AgentSet as value. Future behavior is available via RandomActivationByType._agents_by_type\n",
      "  for sugar_agent in self.schedule.agents_by_type[Sugar].values():\n",
      "C:\\Users\\DELL\\AppData\\Local\\Temp\\ipykernel_484\\329254329.py:101: DeprecationWarning: Because of the shift to using AgentSet, in the future this attribute will return a dict withtype as key as AgentSet as value. Future behavior is available via RandomActivationByType._agents_by_type\n",
      "  non_corrupt_agents_shuffle = list(self.schedule.agents_by_type[Non_corrupt_agent].values())\n",
      "C:\\Users\\DELL\\AppData\\Local\\Temp\\ipykernel_484\\329254329.py:91: DeprecationWarning: Because of the shift to using AgentSet, in the future this attribute will return a dict withtype as key as AgentSet as value. Future behavior is available via RandomActivationByType._agents_by_type\n",
      "  agents = [agent for agent in self.schedule.agents_by_type[Non_corrupt_agent].values()]\n"
     ]
    },
    {
     "name": "stdout",
     "output_type": "stream",
     "text": [
      "Agent 2325 has eaten 4.0 sugar from sugar 161\n",
      "Agent 2322 has eaten 4 sugar from sugar 584\n",
      "Agent 2354 has eaten 4 sugar from sugar 2095\n",
      "Agent 2345 has eaten 4 sugar from sugar 94\n",
      "Agent 2297 has eaten 4 sugar from sugar 277\n",
      "Agent 2369 has eaten 4 sugar from sugar 2167\n",
      "Agent 2339 has eaten 4 sugar from sugar 442\n",
      "Agent 2380 has eaten 4 sugar from sugar 251\n",
      "Agent 2324 has eaten 4 sugar from sugar 1174\n",
      "Agent 2370 has eaten 4 sugar from sugar 84\n",
      "Agent 2356 has eaten 4.0 sugar from sugar 60\n",
      "Agent 2386 has eaten 4 sugar from sugar 427\n",
      "Agent 2367 has eaten 4 sugar from sugar 1080\n",
      "Agent 2341 has eaten 4 sugar from sugar 2238\n",
      "Agent 2374 has eaten 4 sugar from sugar 1253\n",
      "Agent 2303 has eaten 4 sugar from sugar 462\n",
      "Agent 2336 has eaten 4 sugar from sugar 1910\n",
      "Agent 2359 has eaten 4 sugar from sugar 1261\n",
      "Agent 2321 has eaten 4.0 sugar from sugar 1584\n",
      "Agent 2350 has eaten 4 sugar from sugar 670\n",
      "Agent 2308 has eaten 4 sugar from sugar 916\n",
      "Agent 2373 has eaten 4 sugar from sugar 1843\n",
      "Agent 2334 has eaten 4 sugar from sugar 1688\n",
      "Agent 2352 has eaten 4 sugar from sugar 2049\n",
      "Agent 2307 has eaten 4 sugar from sugar 1089\n",
      "Agent 2318 has eaten 3.0 sugar from sugar 167\n",
      "Agent 2316 has eaten 4 sugar from sugar 302\n",
      "Agent 2299 has eaten 4 sugar from sugar 514\n",
      "Agent 2319 has eaten 4 sugar from sugar 700\n",
      "Agent 2332 has eaten 4.0 sugar from sugar 44\n",
      "Agent 2383 has eaten 4 sugar from sugar 1315\n",
      "382\n"
     ]
    },
    {
     "name": "stderr",
     "output_type": "stream",
     "text": [
      "C:\\Users\\DELL\\AppData\\Local\\Temp\\ipykernel_484\\329254329.py:109: DeprecationWarning: Because of the shift to using AgentSet, in the future this attribute will return a dict withtype as key as AgentSet as value. Future behavior is available via RandomActivationByType._agents_by_type\n",
      "  for sugar_agent in self.schedule.agents_by_type[Sugar].values():\n",
      "C:\\Users\\DELL\\AppData\\Local\\Temp\\ipykernel_484\\329254329.py:101: DeprecationWarning: Because of the shift to using AgentSet, in the future this attribute will return a dict withtype as key as AgentSet as value. Future behavior is available via RandomActivationByType._agents_by_type\n",
      "  non_corrupt_agents_shuffle = list(self.schedule.agents_by_type[Non_corrupt_agent].values())\n",
      "C:\\Users\\DELL\\AppData\\Local\\Temp\\ipykernel_484\\329254329.py:91: DeprecationWarning: Because of the shift to using AgentSet, in the future this attribute will return a dict withtype as key as AgentSet as value. Future behavior is available via RandomActivationByType._agents_by_type\n",
      "  agents = [agent for agent in self.schedule.agents_by_type[Non_corrupt_agent].values()]\n"
     ]
    },
    {
     "name": "stdout",
     "output_type": "stream",
     "text": [
      "384\n"
     ]
    },
    {
     "name": "stderr",
     "output_type": "stream",
     "text": [
      "C:\\Users\\DELL\\AppData\\Local\\Temp\\ipykernel_484\\329254329.py:109: DeprecationWarning: Because of the shift to using AgentSet, in the future this attribute will return a dict withtype as key as AgentSet as value. Future behavior is available via RandomActivationByType._agents_by_type\n",
      "  for sugar_agent in self.schedule.agents_by_type[Sugar].values():\n",
      "C:\\Users\\DELL\\AppData\\Local\\Temp\\ipykernel_484\\329254329.py:101: DeprecationWarning: Because of the shift to using AgentSet, in the future this attribute will return a dict withtype as key as AgentSet as value. Future behavior is available via RandomActivationByType._agents_by_type\n",
      "  non_corrupt_agents_shuffle = list(self.schedule.agents_by_type[Non_corrupt_agent].values())\n",
      "C:\\Users\\DELL\\AppData\\Local\\Temp\\ipykernel_484\\329254329.py:91: DeprecationWarning: Because of the shift to using AgentSet, in the future this attribute will return a dict withtype as key as AgentSet as value. Future behavior is available via RandomActivationByType._agents_by_type\n",
      "  agents = [agent for agent in self.schedule.agents_by_type[Non_corrupt_agent].values()]\n"
     ]
    },
    {
     "name": "stdout",
     "output_type": "stream",
     "text": [
      "Agent 2354 has eaten 4 sugar from sugar 2095\n",
      "Agent 2334 has eaten 4 sugar from sugar 1688\n",
      "Agent 2373 has eaten 4 sugar from sugar 1843\n",
      "Agent 2352 has eaten 4 sugar from sugar 2049\n",
      "Agent 2303 has eaten 4 sugar from sugar 462\n",
      "Agent 2324 has eaten 4 sugar from sugar 1174\n",
      "Agent 2322 has eaten 4 sugar from sugar 584\n",
      "Agent 2350 has eaten 4 sugar from sugar 670\n",
      "Agent 2380 has eaten 4 sugar from sugar 251\n",
      "Agent 2369 has eaten 4 sugar from sugar 2167\n",
      "Agent 2345 has eaten 4 sugar from sugar 94\n",
      "Agent 2359 has eaten 4 sugar from sugar 1261\n",
      "Agent 2367 has eaten 4 sugar from sugar 1080\n",
      "Agent 2383 has eaten 4 sugar from sugar 1315\n",
      "Agent 2336 has eaten 4 sugar from sugar 1910\n",
      "Agent 2339 has eaten 4 sugar from sugar 442\n",
      "Agent 2319 has eaten 4 sugar from sugar 700\n",
      "Agent 2307 has eaten 4 sugar from sugar 1089\n",
      "Agent 2332 has eaten 4.0 sugar from sugar 44\n",
      "Agent 2318 has eaten 3.0 sugar from sugar 167\n",
      "Agent 2297 has eaten 4 sugar from sugar 277\n",
      "Agent 2321 has eaten 4.0 sugar from sugar 1584\n",
      "Agent 2356 has eaten 4.0 sugar from sugar 60\n",
      "Agent 2341 has eaten 4 sugar from sugar 2238\n",
      "Agent 2386 has eaten 4 sugar from sugar 427\n",
      "Agent 2370 has eaten 4 sugar from sugar 84\n",
      "Agent 2374 has eaten 4 sugar from sugar 1253\n",
      "Agent 2299 has eaten 4 sugar from sugar 514\n",
      "Agent 2316 has eaten 4 sugar from sugar 302\n",
      "Agent 2308 has eaten 4 sugar from sugar 916\n",
      "Agent 2325 has eaten 4.0 sugar from sugar 161\n",
      "386\n"
     ]
    },
    {
     "name": "stderr",
     "output_type": "stream",
     "text": [
      "C:\\Users\\DELL\\AppData\\Local\\Temp\\ipykernel_484\\329254329.py:109: DeprecationWarning: Because of the shift to using AgentSet, in the future this attribute will return a dict withtype as key as AgentSet as value. Future behavior is available via RandomActivationByType._agents_by_type\n",
      "  for sugar_agent in self.schedule.agents_by_type[Sugar].values():\n",
      "C:\\Users\\DELL\\AppData\\Local\\Temp\\ipykernel_484\\329254329.py:101: DeprecationWarning: Because of the shift to using AgentSet, in the future this attribute will return a dict withtype as key as AgentSet as value. Future behavior is available via RandomActivationByType._agents_by_type\n",
      "  non_corrupt_agents_shuffle = list(self.schedule.agents_by_type[Non_corrupt_agent].values())\n",
      "C:\\Users\\DELL\\AppData\\Local\\Temp\\ipykernel_484\\329254329.py:91: DeprecationWarning: Because of the shift to using AgentSet, in the future this attribute will return a dict withtype as key as AgentSet as value. Future behavior is available via RandomActivationByType._agents_by_type\n",
      "  agents = [agent for agent in self.schedule.agents_by_type[Non_corrupt_agent].values()]\n"
     ]
    },
    {
     "name": "stdout",
     "output_type": "stream",
     "text": [
      "388\n"
     ]
    },
    {
     "name": "stderr",
     "output_type": "stream",
     "text": [
      "C:\\Users\\DELL\\AppData\\Local\\Temp\\ipykernel_484\\329254329.py:109: DeprecationWarning: Because of the shift to using AgentSet, in the future this attribute will return a dict withtype as key as AgentSet as value. Future behavior is available via RandomActivationByType._agents_by_type\n",
      "  for sugar_agent in self.schedule.agents_by_type[Sugar].values():\n",
      "C:\\Users\\DELL\\AppData\\Local\\Temp\\ipykernel_484\\329254329.py:101: DeprecationWarning: Because of the shift to using AgentSet, in the future this attribute will return a dict withtype as key as AgentSet as value. Future behavior is available via RandomActivationByType._agents_by_type\n",
      "  non_corrupt_agents_shuffle = list(self.schedule.agents_by_type[Non_corrupt_agent].values())\n",
      "C:\\Users\\DELL\\AppData\\Local\\Temp\\ipykernel_484\\329254329.py:91: DeprecationWarning: Because of the shift to using AgentSet, in the future this attribute will return a dict withtype as key as AgentSet as value. Future behavior is available via RandomActivationByType._agents_by_type\n",
      "  agents = [agent for agent in self.schedule.agents_by_type[Non_corrupt_agent].values()]\n"
     ]
    },
    {
     "name": "stdout",
     "output_type": "stream",
     "text": [
      "Agent 2325 has eaten 4.0 sugar from sugar 161\n",
      "Agent 2374 has eaten 4 sugar from sugar 1253\n",
      "Agent 2316 has eaten 4 sugar from sugar 302\n",
      "Agent 2367 has eaten 4 sugar from sugar 1080\n",
      "Agent 2321 has eaten 4.0 sugar from sugar 1584\n",
      "Agent 2332 has eaten 4.0 sugar from sugar 44\n",
      "Agent 2297 has eaten 4 sugar from sugar 277\n",
      "Agent 2370 has eaten 4 sugar from sugar 84\n",
      "Agent 2350 has eaten 4 sugar from sugar 670\n",
      "Agent 2369 has eaten 4 sugar from sugar 2167\n",
      "Agent 2386 has eaten 4 sugar from sugar 427\n",
      "Agent 2336 has eaten 4 sugar from sugar 1910\n",
      "Agent 2299 has eaten 4 sugar from sugar 514\n",
      "Agent 2383 has eaten 4 sugar from sugar 1315\n",
      "Agent 2373 has eaten 4 sugar from sugar 1843\n",
      "Agent 2324 has eaten 4 sugar from sugar 1174\n",
      "Agent 2356 has eaten 4.0 sugar from sugar 60\n",
      "Agent 2319 has eaten 4 sugar from sugar 700\n",
      "Agent 2380 has eaten 4 sugar from sugar 251\n",
      "Agent 2354 has eaten 4 sugar from sugar 2095\n",
      "Agent 2345 has eaten 4 sugar from sugar 94\n",
      "Agent 2322 has eaten 4 sugar from sugar 584\n",
      "Agent 2341 has eaten 4 sugar from sugar 2238\n",
      "Agent 2308 has eaten 4 sugar from sugar 916\n",
      "Agent 2307 has eaten 4 sugar from sugar 1089\n",
      "Agent 2334 has eaten 4 sugar from sugar 1688\n",
      "Agent 2359 has eaten 4 sugar from sugar 1261\n",
      "Agent 2318 has eaten 3.0 sugar from sugar 167\n",
      "Agent 2352 has eaten 4 sugar from sugar 2049\n",
      "Agent 2339 has eaten 4 sugar from sugar 442\n",
      "Agent 2303 has eaten 4 sugar from sugar 462\n",
      "390\n"
     ]
    },
    {
     "name": "stderr",
     "output_type": "stream",
     "text": [
      "C:\\Users\\DELL\\AppData\\Local\\Temp\\ipykernel_484\\329254329.py:109: DeprecationWarning: Because of the shift to using AgentSet, in the future this attribute will return a dict withtype as key as AgentSet as value. Future behavior is available via RandomActivationByType._agents_by_type\n",
      "  for sugar_agent in self.schedule.agents_by_type[Sugar].values():\n",
      "C:\\Users\\DELL\\AppData\\Local\\Temp\\ipykernel_484\\329254329.py:101: DeprecationWarning: Because of the shift to using AgentSet, in the future this attribute will return a dict withtype as key as AgentSet as value. Future behavior is available via RandomActivationByType._agents_by_type\n",
      "  non_corrupt_agents_shuffle = list(self.schedule.agents_by_type[Non_corrupt_agent].values())\n",
      "C:\\Users\\DELL\\AppData\\Local\\Temp\\ipykernel_484\\329254329.py:91: DeprecationWarning: Because of the shift to using AgentSet, in the future this attribute will return a dict withtype as key as AgentSet as value. Future behavior is available via RandomActivationByType._agents_by_type\n",
      "  agents = [agent for agent in self.schedule.agents_by_type[Non_corrupt_agent].values()]\n"
     ]
    },
    {
     "name": "stdout",
     "output_type": "stream",
     "text": [
      "392\n"
     ]
    },
    {
     "name": "stderr",
     "output_type": "stream",
     "text": [
      "C:\\Users\\DELL\\AppData\\Local\\Temp\\ipykernel_484\\329254329.py:109: DeprecationWarning: Because of the shift to using AgentSet, in the future this attribute will return a dict withtype as key as AgentSet as value. Future behavior is available via RandomActivationByType._agents_by_type\n",
      "  for sugar_agent in self.schedule.agents_by_type[Sugar].values():\n",
      "C:\\Users\\DELL\\AppData\\Local\\Temp\\ipykernel_484\\329254329.py:101: DeprecationWarning: Because of the shift to using AgentSet, in the future this attribute will return a dict withtype as key as AgentSet as value. Future behavior is available via RandomActivationByType._agents_by_type\n",
      "  non_corrupt_agents_shuffle = list(self.schedule.agents_by_type[Non_corrupt_agent].values())\n",
      "C:\\Users\\DELL\\AppData\\Local\\Temp\\ipykernel_484\\329254329.py:91: DeprecationWarning: Because of the shift to using AgentSet, in the future this attribute will return a dict withtype as key as AgentSet as value. Future behavior is available via RandomActivationByType._agents_by_type\n",
      "  agents = [agent for agent in self.schedule.agents_by_type[Non_corrupt_agent].values()]\n"
     ]
    },
    {
     "name": "stdout",
     "output_type": "stream",
     "text": [
      "Agent 2354 has eaten 4 sugar from sugar 2095\n",
      "Agent 2345 has eaten 4 sugar from sugar 94\n",
      "Agent 2299 has eaten 4 sugar from sugar 514\n",
      "Agent 2316 has eaten 4 sugar from sugar 302\n",
      "Agent 2319 has eaten 4 sugar from sugar 700\n",
      "Agent 2386 has eaten 4 sugar from sugar 427\n",
      "Agent 2297 has eaten 4 sugar from sugar 277\n",
      "Agent 2303 has eaten 4 sugar from sugar 462\n",
      "Agent 2318 has eaten 3.0 sugar from sugar 167\n",
      "Agent 2356 has eaten 4.0 sugar from sugar 60\n",
      "Agent 2350 has eaten 4 sugar from sugar 670\n",
      "Agent 2370 has eaten 4 sugar from sugar 84\n",
      "Agent 2336 has eaten 4 sugar from sugar 1910\n",
      "Agent 2322 has eaten 4 sugar from sugar 584\n",
      "Agent 2325 has eaten 4.0 sugar from sugar 161\n",
      "Agent 2373 has eaten 4 sugar from sugar 1843\n",
      "Agent 2359 has eaten 4 sugar from sugar 1261\n",
      "Agent 2374 has eaten 4 sugar from sugar 1253\n",
      "Agent 2324 has eaten 4 sugar from sugar 1174\n",
      "Agent 2339 has eaten 4 sugar from sugar 442\n",
      "Agent 2307 has eaten 4 sugar from sugar 1089\n",
      "Agent 2321 has eaten 4.0 sugar from sugar 1584\n",
      "Agent 2367 has eaten 4 sugar from sugar 1080\n",
      "Agent 2308 has eaten 4 sugar from sugar 916\n",
      "Agent 2334 has eaten 4 sugar from sugar 1688\n",
      "Agent 2352 has eaten 4 sugar from sugar 2049\n",
      "Agent 2332 has eaten 4.0 sugar from sugar 44\n",
      "Agent 2341 has eaten 4 sugar from sugar 2238\n",
      "Agent 2383 has eaten 4 sugar from sugar 1315\n",
      "Agent 2380 has eaten 4 sugar from sugar 251\n",
      "Agent 2369 has eaten 4 sugar from sugar 2167\n",
      "394\n"
     ]
    },
    {
     "name": "stderr",
     "output_type": "stream",
     "text": [
      "C:\\Users\\DELL\\AppData\\Local\\Temp\\ipykernel_484\\329254329.py:109: DeprecationWarning: Because of the shift to using AgentSet, in the future this attribute will return a dict withtype as key as AgentSet as value. Future behavior is available via RandomActivationByType._agents_by_type\n",
      "  for sugar_agent in self.schedule.agents_by_type[Sugar].values():\n",
      "C:\\Users\\DELL\\AppData\\Local\\Temp\\ipykernel_484\\329254329.py:101: DeprecationWarning: Because of the shift to using AgentSet, in the future this attribute will return a dict withtype as key as AgentSet as value. Future behavior is available via RandomActivationByType._agents_by_type\n",
      "  non_corrupt_agents_shuffle = list(self.schedule.agents_by_type[Non_corrupt_agent].values())\n",
      "C:\\Users\\DELL\\AppData\\Local\\Temp\\ipykernel_484\\329254329.py:91: DeprecationWarning: Because of the shift to using AgentSet, in the future this attribute will return a dict withtype as key as AgentSet as value. Future behavior is available via RandomActivationByType._agents_by_type\n",
      "  agents = [agent for agent in self.schedule.agents_by_type[Non_corrupt_agent].values()]\n"
     ]
    },
    {
     "name": "stdout",
     "output_type": "stream",
     "text": [
      "396\n"
     ]
    },
    {
     "name": "stderr",
     "output_type": "stream",
     "text": [
      "C:\\Users\\DELL\\AppData\\Local\\Temp\\ipykernel_484\\329254329.py:109: DeprecationWarning: Because of the shift to using AgentSet, in the future this attribute will return a dict withtype as key as AgentSet as value. Future behavior is available via RandomActivationByType._agents_by_type\n",
      "  for sugar_agent in self.schedule.agents_by_type[Sugar].values():\n",
      "C:\\Users\\DELL\\AppData\\Local\\Temp\\ipykernel_484\\329254329.py:101: DeprecationWarning: Because of the shift to using AgentSet, in the future this attribute will return a dict withtype as key as AgentSet as value. Future behavior is available via RandomActivationByType._agents_by_type\n",
      "  non_corrupt_agents_shuffle = list(self.schedule.agents_by_type[Non_corrupt_agent].values())\n",
      "C:\\Users\\DELL\\AppData\\Local\\Temp\\ipykernel_484\\329254329.py:91: DeprecationWarning: Because of the shift to using AgentSet, in the future this attribute will return a dict withtype as key as AgentSet as value. Future behavior is available via RandomActivationByType._agents_by_type\n",
      "  agents = [agent for agent in self.schedule.agents_by_type[Non_corrupt_agent].values()]\n"
     ]
    },
    {
     "name": "stdout",
     "output_type": "stream",
     "text": [
      "Agent 2341 has eaten 4 sugar from sugar 2238\n",
      "Agent 2374 has eaten 4 sugar from sugar 1253\n",
      "Agent 2334 has eaten 4 sugar from sugar 1688\n",
      "Agent 2324 has eaten 4 sugar from sugar 1174\n",
      "Agent 2322 has eaten 4 sugar from sugar 584\n",
      "Agent 2336 has eaten 4 sugar from sugar 1910\n",
      "Agent 2386 has eaten 4 sugar from sugar 427\n",
      "Agent 2319 has eaten 4 sugar from sugar 700\n",
      "Agent 2373 has eaten 4 sugar from sugar 1843\n",
      "Agent 2316 has eaten 4 sugar from sugar 302\n",
      "Agent 2380 has eaten 4 sugar from sugar 251\n",
      "Agent 2356 has eaten 4.0 sugar from sugar 60\n",
      "Agent 2297 has eaten 4 sugar from sugar 277\n",
      "Agent 2370 has eaten 4 sugar from sugar 84\n",
      "Agent 2354 has eaten 4 sugar from sugar 2095\n",
      "Agent 2308 has eaten 4 sugar from sugar 916\n",
      "Agent 2321 has eaten 4.0 sugar from sugar 1584\n",
      "Agent 2345 has eaten 4 sugar from sugar 94\n",
      "Agent 2318 has eaten 3.0 sugar from sugar 167\n",
      "Agent 2325 has eaten 4.0 sugar from sugar 161\n",
      "Agent 2383 has eaten 4 sugar from sugar 1315\n",
      "Agent 2332 has eaten 4.0 sugar from sugar 44\n",
      "Agent 2352 has eaten 4 sugar from sugar 2049\n",
      "Agent 2303 has eaten 4 sugar from sugar 462\n",
      "Agent 2299 has eaten 4 sugar from sugar 514\n",
      "Agent 2339 has eaten 4 sugar from sugar 442\n",
      "Agent 2369 has eaten 4 sugar from sugar 2167\n",
      "Agent 2350 has eaten 4 sugar from sugar 670\n",
      "Agent 2367 has eaten 4 sugar from sugar 1080\n",
      "Agent 2359 has eaten 4 sugar from sugar 1261\n",
      "Agent 2307 has eaten 4 sugar from sugar 1089\n",
      "398\n"
     ]
    },
    {
     "name": "stderr",
     "output_type": "stream",
     "text": [
      "C:\\Users\\DELL\\AppData\\Local\\Temp\\ipykernel_484\\329254329.py:109: DeprecationWarning: Because of the shift to using AgentSet, in the future this attribute will return a dict withtype as key as AgentSet as value. Future behavior is available via RandomActivationByType._agents_by_type\n",
      "  for sugar_agent in self.schedule.agents_by_type[Sugar].values():\n",
      "C:\\Users\\DELL\\AppData\\Local\\Temp\\ipykernel_484\\329254329.py:101: DeprecationWarning: Because of the shift to using AgentSet, in the future this attribute will return a dict withtype as key as AgentSet as value. Future behavior is available via RandomActivationByType._agents_by_type\n",
      "  non_corrupt_agents_shuffle = list(self.schedule.agents_by_type[Non_corrupt_agent].values())\n",
      "C:\\Users\\DELL\\AppData\\Local\\Temp\\ipykernel_484\\329254329.py:91: DeprecationWarning: Because of the shift to using AgentSet, in the future this attribute will return a dict withtype as key as AgentSet as value. Future behavior is available via RandomActivationByType._agents_by_type\n",
      "  agents = [agent for agent in self.schedule.agents_by_type[Non_corrupt_agent].values()]\n"
     ]
    },
    {
     "name": "stdout",
     "output_type": "stream",
     "text": [
      "400\n"
     ]
    }
   ],
   "source": [
    "model1 = Model(seed=global_seed)\n",
    "model1.run_model(step_count = 200)"
   ]
  },
  {
   "cell_type": "code",
   "execution_count": 14,
   "id": "b6a91f1a-5946-4d15-b139-3213c67b7461",
   "metadata": {},
   "outputs": [],
   "source": [
    "# Check the unique steps available in the data\n",
    "agent_data = model1.datacollector.get_agent_vars_dataframe()\n",
    "model_data = model1.datacollector.get_model_vars_dataframe()\n",
    "#available_steps = agent_data.index.get_level_values('Step').unique()\n",
    "#print(\"Available steps:\", available_steps)"
   ]
  },
  {
   "cell_type": "markdown",
   "id": "c6a48c45-d3af-450d-af0a-47f1e5e36d89",
   "metadata": {},
   "source": [
    "# Plots"
   ]
  },
  {
   "cell_type": "code",
   "execution_count": 15,
   "id": "bbbb0253-eb31-4f57-9bb5-da78f072f325",
   "metadata": {},
   "outputs": [
    {
     "data": {
      "image/png": "[encoded data removed]",
      "text/plain": [
       "<Figure size 1000x600 with 1 Axes>"
      ]
     },
     "metadata": {},
     "output_type": "display_data"
    }
   ],
   "source": [
    "plt.figure(figsize=(10, 6))\n",
    "plt.plot(model_data[\"Step\"], model_data[\"Average Wealth\"], label=\"Average Wealth\", color=\"blue\")\n",
    "plt.xlabel(\"Step\")\n",
    "plt.ylabel(\"Average Wealth\")\n",
    "plt.title(\"Average Wealth of Corrupt Agents Over Time\")\n",
    "plt.legend()\n",
    "plt.grid(True)\n",
    "plt.show()"
   ]
  },
  {
   "cell_type": "markdown",
   "id": "8fdacb7a-d184-4b74-80bd-da38534f5c26",
   "metadata": {},
   "source": [
    "Survival Rate"
   ]
  },
  {
   "cell_type": "code",
   "execution_count": 16,
   "id": "ffb70051-d0a1-42b9-b97a-8c864cb332c1",
   "metadata": {},
   "outputs": [
    {
     "data": {
      "image/png": "[encoded data removed]",
      "text/plain": [
       "<Figure size 1000x600 with 1 Axes>"
      ]
     },
     "metadata": {},
     "output_type": "display_data"
    }
   ],
   "source": [
    "plt.figure(figsize=(10, 6))\n",
    "plt.plot(model_data[\"Step\"], model_data[\"Agents\"], label=\"Agents count\", color=\"blue\")\n",
    "plt.xlabel(\"Step\")\n",
    "plt.ylabel(\"Agents count\")\n",
    "plt.title(\"Survivial rate\")\n",
    "plt.legend()\n",
    "plt.grid(True)\n",
    "plt.show()"
   ]
  },
  {
   "cell_type": "markdown",
   "id": "07ac2777-b912-4ff7-9b8e-87f6fd28bb37",
   "metadata": {},
   "source": [
    "# Data collection\n",
    "\n",
    "# Retrieve the data collected by the DataCollector\n",
    "agent_data = model1.datacollector.get_agent_vars_dataframe()\n",
    "mean_data = agent_data.groupby(\"Step\").mean().reset_index()\n",
    "\n",
    "#100th step data\n",
    "step_100_data = agent_data.xs(100, level=\"Step\")\n",
    "\n",
    "#GroupBy bins in blocks of 100\n",
    "bins = range(0, 210, 10)\n",
    "step_100_data.loc[:, \"Eaten Bins\"] = pd.cut(step_100_data[\"Total Eaten\"], bins=bins, right=False)\n",
    "step_100_data.loc[:, \"Shared Bins\"] = pd.cut(step_100_data[\"Total Shared\"], bins=bins, right=False)\n",
    "\n",
    "grouped_eaten = step_100_data.groupby(\"Eaten Bins\")[\"Wealth\"].mean().reset_index()\n",
    "grouped_shared = step_100_data.groupby(\"Shared Bins\")[\"Wealth\"].mean().reset_index()\n",
    "\n",
    "# Extract Collection Efficiency and Wealth for step 100\n",
    "collection_efficiency = agent_data[\"Collection Efficiency\"]\n",
    "wealth = agent_data[\"Wealth\"]\n",
    "\n",
    "# Collection Efficiency vs Wealth\n",
    "plt.figure(figsize=(10, 6))\n",
    "sns.barplot(data=step_100_data, x=\"Collection Efficiency\", y=\"Wealth\")\n",
    "plt.title('Collection Efficiency vs Wealth at Step 100')\n",
    "plt.savefig(\"Plots/Non_corrupt/Wealth/efficiency.png\")\n",
    "\n",
    "# Consumption vs Wealth\n",
    "plt.figure(figsize=(10, 6))\n",
    "sns.barplot(data=step_100_data, x=\"Consumption\", y=\"Wealth\")\n",
    "plt.title('Consumption (Metabolism) vs Wealth at Step 100')\n",
    "plt.savefig(\"Plots/Non_corrupt/Wealth/consumption.png\")\n",
    "\n",
    "#Total eat\n",
    "plt.figure(figsize=(10, 6))\n",
    "sns.barplot(data=grouped_eaten, x=\"Eaten Bins\", y=\"Wealth\")\n",
    "plt.title('Wealth vs Total Eaten')\n",
    "plt.xlabel('Total Eaten')\n",
    "plt.ylabel('Mean Wealth')\n",
    "plt.xticks(rotation=45)\n",
    "plt.tight_layout()\n",
    "plt.savefig(\"Plots/Non_corrupt/Wealth/toteaten.png\")\n",
    "\n",
    "# Total Shared vs Wealth\n",
    "plt.figure(figsize=(10, 6))\n",
    "sns.barplot(data=grouped_shared, x=\"Shared Bins\", y=\"Wealth\")\n",
    "plt.title('Wealth vs Total Shared')\n",
    "plt.xlabel('Total Shared')\n",
    "plt.ylabel('Mean Wealth')\n",
    "plt.xticks(rotation=45)\n",
    "plt.tight_layout()\n",
    "plt.savefig(\"Plots/Non_corrupt/Wealth/totshared.png\")"
   ]
  },
  {
   "cell_type": "markdown",
   "id": "ec5a776b-9225-420b-8af4-3fb4c60786a2",
   "metadata": {},
   "source": [
    "agent_data.loc[:, \"Eaten Bins\"] = pd.cut(agent_data[\"Total Eaten\"], bins=bins, right=False)\n",
    "agent_data.loc[:, \"Shared Bins\"] = pd.cut(agent_data[\"Total Shared\"], bins=bins, right=False)\n",
    "\n",
    "grouped_eaten = agent_data.groupby(\"Eaten Bins\")[\"Survival\"].mean().reset_index()\n",
    "grouped_shared = agent_data.groupby(\"Shared Bins\")[\"Survival\"].mean().reset_index()\n",
    "\n",
    "# Collection Efficiency vs Wealth\n",
    "plt.figure(figsize=(10, 6))\n",
    "sns.barplot(data=agent_data, x=\"Collection Efficiency\", y=\"Survival\")\n",
    "plt.title('Collection Efficiency vs Survival')\n",
    "#plt.show()\n",
    "plt.savefig(\"Plots/Non_corrupt/Survival/corrupt_efficiency.png\")\n",
    "\n",
    "# Consumption vs Wealth\n",
    "plt.figure(figsize=(10, 6))\n",
    "sns.barplot(data=agent_data, x=\"Consumption\", y=\"Survival\")\n",
    "plt.title('Consumption (Metabolism) vs Survival')\n",
    "#plt.show()\n",
    "plt.savefig(\"Plots/Non_corrupt/Survival/corrupt_consumption.png\")\n",
    "\n",
    "#Total eat\n",
    "plt.figure(figsize=(10, 6))\n",
    "sns.barplot(data=grouped_eaten, x=\"Eaten Bins\", y=\"Survival\")\n",
    "plt.title('Survival vs Total Eaten')\n",
    "plt.xlabel('Total Eaten')\n",
    "plt.ylabel('Survivial')\n",
    "plt.xticks(rotation=45)\n",
    "plt.tight_layout()\n",
    "#plt.show()\n",
    "plt.savefig(\"Plots/Non_corrupt/Survival/corrupt_toteaten.png\")\n",
    "\n",
    "# Total Shared vs Wealth\n",
    "plt.figure(figsize=(10, 6))\n",
    "sns.barplot(data=grouped_shared, x=\"Shared Bins\", y=\"Survival\")\n",
    "plt.title('Survivla vs Total Shared')\n",
    "plt.xlabel('Total Shared')\n",
    "plt.ylabel('Survival')\n",
    "plt.xticks(rotation=45)\n",
    "plt.tight_layout()\n",
    "#plt.show()\n",
    "plt.savefig(\"Plots/Non_corrupt/Survival/corrupt_totshared.png\")"
   ]
  },
  {
   "cell_type": "code",
   "execution_count": 1,
   "id": "9fa8bb5b-4f52-457a-99eb-2bea8f22878c",
   "metadata": {},
   "outputs": [
    {
     "ename": "ImportError",
     "evalue": "cannot import name 'UserSettableParameter' from 'mesa.visualization.UserParam' (C:\\Users\\DELL\\anaconda3\\Lib\\site-packages\\mesa\\visualization\\UserParam.py)",
     "output_type": "error",
     "traceback": [
      "\u001b[1;31m---------------------------------------------------------------------------\u001b[0m",
      "\u001b[1;31mImportError\u001b[0m                               Traceback (most recent call last)",
      "Cell \u001b[1;32mIn[1], line 1\u001b[0m\n\u001b[1;32m----> 1\u001b[0m \u001b[38;5;28;01mfrom\u001b[39;00m \u001b[38;5;21;01mmesa\u001b[39;00m\u001b[38;5;21;01m.\u001b[39;00m\u001b[38;5;21;01mvisualization\u001b[39;00m\u001b[38;5;21;01m.\u001b[39;00m\u001b[38;5;21;01mUserParam\u001b[39;00m \u001b[38;5;28;01mimport\u001b[39;00m UserSettableParameter\n\u001b[0;32m      2\u001b[0m \u001b[38;5;66;03m# Portrayal function for visualization\u001b[39;00m\n\u001b[0;32m      3\u001b[0m \u001b[38;5;28;01mdef\u001b[39;00m \u001b[38;5;21magent_portrayal\u001b[39m(agent):\n",
      "\u001b[1;31mImportError\u001b[0m: cannot import name 'UserSettableParameter' from 'mesa.visualization.UserParam' (C:\\Users\\DELL\\anaconda3\\Lib\\site-packages\\mesa\\visualization\\UserParam.py)"
     ]
    }
   ],
   "source": [
    "from mesa.visualization.UserParam import UserSettableParameter\n",
    "# Portrayal function for visualization\n",
    "def agent_portrayal(agent):\n",
    "    portrayal = {\"Shape\": \"circle\",\n",
    "                 \"Filled\": \"true\",\n",
    "                 \"r\": 0.2}\n",
    "\n",
    "    if isinstance(agent, Sugar):\n",
    "        portrayal[\"Color\"] = \"green\"\n",
    "        portrayal[\"Layer\"] = 0\n",
    "        portrayal[\"r\"] = agent.curr_amount / 30  # Scale size based on sugar amount\n",
    "    elif isinstance(agent, Non_corrupt_agent):\n",
    "        portrayal[\"Color\"] = \"blue\"\n",
    "        portrayal[\"Layer\"] = 1\n",
    "        #portrayal[\"r\"] = agent.sugar_agent / 30  # Scale size based on agent's sugar\n",
    "        portrayal[\"text\"] = str(agent.sugar_agent)  # Display the unique_id as text\n",
    "        portrayal[\"text_color\"] = \"black\"  # Set the color of the text\n",
    "\n",
    "    return portrayal\n",
    "\n",
    "agent_count_element = AgentCountElement()\n",
    "average_wealth_element = AverageWealthElement()\n",
    "\n",
    "# CanvasGrid for visualization\n",
    "grid = CanvasGrid(agent_portrayal, 50, 50, 500, 500)\n",
    "\n",
    "# ChartModule for visualizing data\n",
    "chart = ChartModule([{\"Label\": \"Non_corrupt_agents\",\n",
    "                      \"Color\": \"Red\"},\n",
    "                     {\"Label\": \"Sugar\",\n",
    "                      \"Color\": \"Green\"}],\n",
    "                    data_collector_name='datacollector')\n",
    "\n",
    "# Setting up the server\n",
    "server = ModularServer(Model,\n",
    "                       [grid, agent_count_element, average_wealth_element],\n",
    "                       \"Sugar Model\",\n",
    "                       {\"X\": 50, \"Y\": 50, \"init_population\": 100, \"init_resource_min\": 25, \"init_resource_max\": 50,\n",
    "                        \"metabolism_min\": 1, \"metabolism_max\": 5, \"vision_min\": 1, \"vision_max\": 5, \"seed\": global_seed})\n",
    "\n",
    "# Launch the server\n",
    "server.port = 8522  # The default\n",
    "server.launch()"
   ]
  },
  {
   "cell_type": "code",
   "execution_count": null,
   "id": "63a38029-fc4d-470f-bc91-9e16764d4631",
   "metadata": {},
   "outputs": [],
   "source": []
  }
 ],
 "metadata": {
  "kernelspec": {
   "display_name": "Python 3 (ipykernel)",
   "language": "python",
   "name": "python3"
  },
  "language_info": {
   "codemirror_mode": {
    "name": "ipython",
    "version": 3
   },
   "file_extension": ".py",
   "mimetype": "text/x-python",
   "name": "python",
   "nbconvert_exporter": "python",
   "pygments_lexer": "ipython3",
   "version": "3.12.4"
  }
 },
 "nbformat": 4,
 "nbformat_minor": 5
}
