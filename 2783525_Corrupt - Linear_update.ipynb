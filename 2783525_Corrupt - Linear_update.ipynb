{
 "cells": [
  {
   "cell_type": "markdown",
   "id": "6fbd53d7",
   "metadata": {},
   "source": [
    "# Importing libraries"
   ]
  },
  {
   "cell_type": "code",
   "execution_count": 1,
   "id": "fd205617",
   "metadata": {},
   "outputs": [],
   "source": [
    "import mesa\n",
    "import numpy as np\n",
    "import matplotlib.pyplot as plt\n",
    "import seaborn as sns\n",
    "import math\n",
    "from mesa.visualization.modules import CanvasGrid, ChartModule\n",
    "from mesa.visualization.ModularVisualization import ModularServer\n",
    "from mesa.visualization.modules import TextElement\n",
    "from mesa.datacollection import DataCollector\n",
    "import pandas as pd\n",
    "import random"
   ]
  },
  {
   "cell_type": "code",
   "execution_count": 2,
   "id": "ee346652-af04-4d67-971b-422af0be4930",
   "metadata": {},
   "outputs": [],
   "source": [
    "#global seed\n",
    "# Set a global seed\n",
    "global_seed = 100\n",
    "random.seed(global_seed)\n",
    "np.random.seed(global_seed)"
   ]
  },
  {
   "cell_type": "code",
   "execution_count": 3,
   "id": "379b6fc1-7029-4cb7-9e90-8b0eee165e11",
   "metadata": {},
   "outputs": [],
   "source": [
    "class AgentCountElement(TextElement):\n",
    "    def __init__(self):\n",
    "        pass\n",
    "\n",
    "    def render(self, model):\n",
    "        corrupt_agents_count = model.schedule.get_type_count(Corrupt_agent)\n",
    "        sugar_agents_count = model.schedule.get_type_count(Sugar)\n",
    "        return f\"Corrupt Agents: {corrupt_agents_count} | Sugar Agents: {sugar_agents_count}\"\n",
    "\n",
    "class AverageWealthElement(TextElement):\n",
    "    def render(self, model):\n",
    "        # Calculate the average wealth of alive corrupt agents\n",
    "        corrupt_agents = [agent for agent in model.schedule.agents_by_type[Corrupt_agent].values()]\n",
    "        if corrupt_agents:\n",
    "            average_wealth = sum(agent.sugar_agent for agent in corrupt_agents) / len(corrupt_agents)\n",
    "        else:\n",
    "            average_wealth = 0\n",
    "        return f\"Average Wealth of Corrupt Agents: {average_wealth:.2f}\"\n"
   ]
  },
  {
   "cell_type": "code",
   "execution_count": 4,
   "id": "d0c280c5-c87f-4457-ab2b-94d10b09596d",
   "metadata": {},
   "outputs": [],
   "source": [
    "# Helper functions\n",
    "\n",
    "# Calculate the Euclidean distance between cells\n",
    "def distance(dist1, dist2):\n",
    "    x1, y1 = dist1\n",
    "    x2, y2 = dist2\n",
    "    dist_x = x1 - x2\n",
    "    dist_y = y1 - y2\n",
    "\n",
    "    dist = math.sqrt((dist_x ** 2) + (dist_y ** 2))\n",
    "    return dist"
   ]
  },
  {
   "cell_type": "code",
   "execution_count": 5,
   "id": "3b06c041",
   "metadata": {},
   "outputs": [],
   "source": [
    "#This is a class for sugar patches. Each sugar patch is treated as an agent\n",
    "class Sugar(mesa.Agent):\n",
    "    def __init__(self, unique_id, model, position, sugar_capacity):\n",
    "        super().__init__(unique_id, model)\n",
    "        self.position = position #position of sugar patche in the grid\n",
    "        self.curr_amount = sugar_capacity #the current amount of sugar in a patch. Can be reduced if an agent eats the sugar\n",
    "        self.sugar_capacity = sugar_capacity #maximum sugar for a patch\n",
    "        self.step_counter = 0  # Counter for steps\n",
    "\n",
    "    #The step function is going to add one of sugar per step until sugar is at its maximum capacity\n",
    "    def step(self):\n",
    "        self.curr_amount = min([self.sugar_capacity, self.curr_amount + 1])\n",
    "        #self.curr_amount = min([self.sugar_capacity, 10])\n",
    "        #print(self.unique_id, self.curr_amount, self.sugar_capacity)"
   ]
  },
  {
   "cell_type": "code",
   "execution_count": 6,
   "id": "a59895f7",
   "metadata": {},
   "outputs": [],
   "source": [
    "#Class for corrupt agents\n",
    "class Corrupt_agent(mesa.Agent):\n",
    "    def __init__(self, unique_id, model, position, moore = False, sugar_agent = 0, sugar_metabolism = 0, sugar_vision = 0):\n",
    "        super().__init__(unique_id, model)\n",
    "        self.position = position #position of sugar patch in the grid\n",
    "        self.moore = moore\n",
    "        self.sugar_agent = sugar_agent\n",
    "        self.sugar_metabolism = sugar_metabolism\n",
    "        self.sugar_vision = sugar_vision\n",
    "        self.shared_with_count = 0  # Counter for tracking sharing actions\n",
    "        self.share_amount = 0\n",
    "        self.steal_amount = 0 \n",
    "        self.share_total = 0\n",
    "        self.steal_total = 0 \n",
    "        self.eat_total = 0 \n",
    "        self.moved = False\n",
    "        self.dead = False\n",
    "        self.survival = 0\n",
    "\n",
    "    #determines if the neigbouring cell is a sugar patch\n",
    "    def is_sugar(self, position):\n",
    "        cell = self.model.grid.get_cell_list_contents(position) # Gets the contents of a cell in a given position\n",
    "        for agent in cell:\n",
    "            if type(agent) is Sugar: # referes to the sugar class\n",
    "                return agent\n",
    "            return None\n",
    "    \n",
    "    # Get Sugar amount in the next cell\n",
    "    def sugar_amount(self, position):\n",
    "        sugar = self.is_sugar(position)\n",
    "        if sugar:\n",
    "            return sugar.curr_amount\n",
    "        return 0\n",
    "\n",
    "    def get_neighbours(self, position):\n",
    "        '''\n",
    "        This is a helper function for share_with_neighbours()\n",
    "        '''\n",
    "        cell = self.model.grid.get_cell_list_contents(position) # Gets the contents of a cell in a given position \n",
    "        \n",
    "        for agent in cell:\n",
    "            if isinstance(agent, Corrupt_agent): #if cell has corrupt agent\n",
    "                return agent\n",
    "    \n",
    "    # the following function helps move() to determine if a cell has been occupied\n",
    "    def cell_occupied(self, position):\n",
    "        if position == self.position: # Agents are allowed to stay in the same position\n",
    "           return False #not occupied\n",
    "        # Now we cater for a situation in which a cell is occupied\n",
    "        cell = self.model.grid.get_cell_list_contents(position) # Gets the contents of a cell in a given position\n",
    "        for j in cell: #going through all neihgbourhoot cells\n",
    "            if isinstance(j, Corrupt_agent): #if cell has corrupt agent\n",
    "                return True\n",
    "        return False\n",
    "\n",
    "    # This function calculates welfares corrupt_agents\n",
    "    def calculate_welfare(self, sugar):\n",
    "        welfare = sugar/self.sugar_metabolism\n",
    "        return welfare\n",
    "\n",
    "    # This function calculates needs of corrupt_agents\n",
    "    def calculate_need(self):\n",
    "        need = self.sugar_agent/self.sugar_metabolism\n",
    "        return need\n",
    "    \n",
    "    # This function etermines whether an agent is starved or not\n",
    "    def starved(self):\n",
    "        return (self.sugar_agent <= 0)\n",
    "\n",
    "    def corrupt_share(self, other):\n",
    "        '''\n",
    "        This is a helper function for share_with_neighbours()\n",
    "        Enables agents to share with others\n",
    "        '''\n",
    "\n",
    "        # Share with agents with sugar greater than 0           \n",
    "        assert self.sugar_agent > 0\n",
    "        assert other.sugar_agent > 0\n",
    "\n",
    "        if self.sugar_agent > 10:\n",
    "            if abs(self.sugar_agent - other.sugar_agent) <= 10 and other != self: # If wealth of agents is in the same 10 point radius\n",
    "                self.share_amount = self.sugar_agent // 8 # we can share an 1/8 of our wealth\n",
    "                self.sugar_agent -= self.share_amount\n",
    "                other.sugar_agent += self.share_amount\n",
    "                self.shared_with_count = self.shared_with_count + 1\n",
    "                self.share_total += self.share_amount\n",
    "                print(f\"Agent {self.unique_id} with {self.sugar_agent} has shared {self.share_amount} with {other.unique_id} with {other.sugar_agent}\")\n",
    "                return\n",
    "        #need_self = self.calculate_need()\n",
    "        #need_other = other.calculate_need()\n",
    "        #print(need_self, need_other)\n",
    "       #     return\n",
    "\n",
    "    def steal(self, other):\n",
    "        '''\n",
    "        This is a helper function for steal_from_neighbours()\n",
    "        Enables agents to steal from others\n",
    "        '''\n",
    "        \n",
    "        if other != self:\n",
    "            self.steal_amount = min(other.sugar_agent // 8, 10)  # Steal up to 10 units or whatever the target has\n",
    "            #self.steal_amount = 7   \n",
    "            # Steal resources from the target\n",
    "            other.sugar_agent -= self.steal_amount\n",
    "            self.sugar_agent += self.steal_amount\n",
    "            self.steal_total += self.steal_amount\n",
    "            print(f\"Agent {self.unique_id} stole {self.steal_amount} resources from Agent {other.unique_id}.\")\n",
    "            return\n",
    "        \n",
    "    # This function moves agents in the grid\n",
    "    def move(self, exploration_prob=0.1):\n",
    "        '''\n",
    "        #1 Identify possible moves\n",
    "        #2 Determine move that maximizes welfare\n",
    "        #3 Find closest best option\n",
    "        #4 Move\n",
    "        '''\n",
    "    \n",
    "        #1 Identifying possible moves\n",
    "        neighborhood = [i\n",
    "                        for i in self.model.grid.get_neighborhood(self.position, self.moore, True, self.sugar_vision)\n",
    "                        if not self.cell_occupied(i)  # Ensure that multiple corrupt agents are not in the same cell\n",
    "                        ]\n",
    "    \n",
    "        # If the neighborhood is empty, return early\n",
    "        if not neighborhood:\n",
    "            return\n",
    "\n",
    "        #2 Randomly decide whether to explore\n",
    "        if self.random.random() < exploration_prob:\n",
    "            # Exploration: Choose a random position from the neighborhood\n",
    "            cell_final = [self.random.choice(neighborhood)]\n",
    "        else:\n",
    "            #3 Determine which neighbors provide maximum welfare\n",
    "            welfare = [self.calculate_welfare(self.sugar_agent + self.sugar_amount(position)) for position in neighborhood]\n",
    "            max_welfare = max(welfare)\n",
    "    \n",
    "            # Index of max welfare cells\n",
    "            cell_indices = [i for i in range(len(welfare))\n",
    "                            if math.isclose(welfare[i], max_welfare, rel_tol=1e-02)\n",
    "                            ]\n",
    "    \n",
    "            # Converting indexes to cell positions\n",
    "            cell_position = [neighborhood[i] for i in cell_indices]\n",
    "    \n",
    "            # Find the closest best option\n",
    "            shortest_dist = min(distance(self.position, position) for position in cell_position)\n",
    "            cell_final = [pos for pos in cell_position\n",
    "                          if math.isclose(distance(self.pos, pos), shortest_dist, rel_tol=1e-02)\n",
    "                          ]\n",
    "\n",
    "        # If no valid move is found (e.g., all welfare values are equal), explore randomly\n",
    "        if not cell_final or cell_final[0] == self.position:\n",
    "            # Choose a random position from the neighborhood to ensure the agent moves\n",
    "            cell_final = [self.random.choice(neighborhood)]\n",
    "    \n",
    "        self.random.shuffle(cell_final)  # Randomize choice if multiple equal options\n",
    "    \n",
    "        if cell_final[0] != self.position:\n",
    "            self.moved = True\n",
    "    \n",
    "        #4 Move agent\n",
    "        self.model.grid.move_agent(self, cell_final[0])\n",
    "    \n",
    "    #this function enables aents to cunsume sugar patches \n",
    "    def eat(self):\n",
    "        sugar_patch = self.is_sugar(self.position)\n",
    "        if sugar_patch:\n",
    "            self.sugar_agent += sugar_patch.curr_amount\n",
    "            self.eat_total += sugar_patch.curr_amount\n",
    "            print(f\"Agent {self.unique_id} has eaten {sugar_patch.curr_amount} sugar from sugar {sugar_patch.unique_id}\")\n",
    "            sugar_patch.curr_amount = 0\n",
    "\n",
    "    def metabolize(self):\n",
    "        self.sugar_agent -= self.sugar_metabolism\n",
    "\n",
    "    # This function kills off agents who have usedup all their sugar\n",
    "    def agent_die(self):\n",
    "        if self.dead == False:\n",
    "                self.survival+=1\n",
    "        if self.starved():\n",
    "            #print(self.unique_id, self.sugar_agent, self.model.schedule.get_type_count(Corrupt_agent))\n",
    "            self.model.grid.remove_agent(self)\n",
    "            self.model.schedule.remove(self)\n",
    "            self.model.dead_agents += 1  # Increment the dead agents counter in the model\n",
    "            self.dead = True\n",
    "            print(f\"Agent {self.unique_id} has died after {self.survival} steps\")\n",
    "            #print(self.unique_id, self.sugar_agent, self.model.schedule.get_type_count(Corrupt_agent))\n",
    "        #elif not self.starved():\n",
    "        #    print(self.unique_id, self.sugar_agent, self.sugar_vision, self.model.schedule.get_type_count(Corrupt_agent))\n",
    "        \n",
    "    #this is the function that corrupt agents will use to share resources\n",
    "    def share_with_neighbours(self):    \n",
    "        #Neighbors below help us create a list of agents we can share with\n",
    "        ##get_neighbours() is ahelper function\n",
    "        neighbors = [self.get_neighbours(position) for position in self.model.grid.get_neighborhood(self.position, self.moore, False, self.sugar_vision)\n",
    "                    if self.cell_occupied(position)\n",
    "                   ]\n",
    "\n",
    "        if len(neighbors) == 0:\n",
    "            return [],[] #return 2 empty lists if an agent doesn't have neighbors\n",
    "        \n",
    "        #iterate through neighbours and share (Favouritism)\n",
    "        for i in neighbors:\n",
    "            if i:\n",
    "                self.corrupt_share(i)\n",
    "\n",
    "    def steal_from_neighbours(self):\n",
    "        # Find agents within the vision range\n",
    "        target  = [self.get_neighbours(position) for position in self.model.grid.get_neighborhood(self.position, self.moore, False, self.sugar_vision)\n",
    "                    if self.cell_occupied(position)\n",
    "                   ]\n",
    "        for i in target:\n",
    "            if i:\n",
    "                # Randomly select a target from the list\n",
    "                #target = random.choice(potential_targets)\n",
    "                self.steal(i)    \n",
    "    "
   ]
  },
  {
   "cell_type": "code",
   "execution_count": 8,
   "id": "56d35ce0-1264-454c-afeb-70b65142f134",
   "metadata": {},
   "outputs": [],
   "source": [
    "#This class belongs to the main model, the engine of the project.\n",
    "class Model(mesa.Model):\n",
    "    def __init__(self, X = 50, Y = 50, init_population = 100, init_resource_min = 10, init_resource_max = 20, metabolism_min = 1, metabolism_max = 5, vision_min = 1, vision_max = 5, seed=None):\n",
    "        #grid-space width and height \n",
    "        self.X = X\n",
    "        self.Y = Y\n",
    "\n",
    "        # Set the global seed if provided\n",
    "        if seed is not None:\n",
    "            self.seed = seed\n",
    "            random.seed(self.seed)\n",
    "            np.random.seed(self.seed)\n",
    "\n",
    "        #initializing population attributes\n",
    "        self.init_population = init_population\n",
    "        self.init_resource_min = init_resource_min\n",
    "        self.init_resource_max = init_resource_max\n",
    "        self.metabolism_min = metabolism_min\n",
    "        self.metabolism_max = metabolism_max\n",
    "        self.vision_min = vision_min\n",
    "        self.vision_max = vision_max\n",
    "        self.running = True\n",
    "        self.dead_agents = 0\n",
    "        self.cycle = 0\n",
    "\n",
    "        #initiate mesa grid\n",
    "        self.grid = mesa.space.MultiGrid(self.X, self.Y, torus = False)\n",
    "        self.schedule = mesa.time.RandomActivationByType(self) #randomizes the sequence in which agents perform actions\n",
    "        sugar_distro = np.genfromtxt(\"random.txt\")   \n",
    "        #plt.imshow(sugar_distro, origin = \"lower\") #Shows the grid\n",
    "\n",
    "        # Initialize the DataCollector\n",
    "        self.datacollector = mesa.DataCollector(\n",
    "            model_reporters = {\n",
    "                \n",
    "                \"Step\": lambda model: model.schedule.steps,\n",
    "                \"Agents\": lambda model: model.schedule.get_type_count(Corrupt_agent),\n",
    "                \"Average Wealth\": lambda model: model.avg_wealth(),\n",
    "            },\n",
    "\n",
    "            agent_reporters = {\n",
    "                \"Unique ID\": lambda agent: agent.unique_id if isinstance(agent, Corrupt_agent) else 0,\n",
    "                \"Wealth\": lambda agent: agent.sugar_agent if isinstance(agent, Corrupt_agent) else 0,\n",
    "                \"Survival\": lambda agent: agent.survival if isinstance(agent, Corrupt_agent) else 0,\n",
    "                \"Collection Efficiency\": lambda agent: agent.sugar_vision if isinstance(agent, Corrupt_agent) else 0,\n",
    "                \"Consumption\": lambda agent: agent.sugar_metabolism if isinstance(agent, Corrupt_agent) else 0,\n",
    "                \"Share Amount\": lambda agent: agent.share_amount if isinstance(agent, Corrupt_agent) else 0,\n",
    "                \"Stolen Amount\": lambda agent: agent.steal_amount if isinstance(agent, Corrupt_agent) else 0,\n",
    "                \"Moved\": lambda agent: agent.moved if isinstance(agent, Corrupt_agent) else 0,\n",
    "                \"Total Stolen\": lambda agent: agent.steal_total if isinstance(agent, Corrupt_agent) else 0,\n",
    "                \"Total Shared\": lambda agent: agent.share_total if isinstance(agent, Corrupt_agent) else 0,\n",
    "                \"Total Eaten\": lambda agent: agent.eat_total if isinstance(agent, Corrupt_agent) else 0,\n",
    "            } \n",
    "        )\n",
    "        \n",
    "        #The for loop is used to create sugar agents in the grid\n",
    "        all_agent_id = 0\n",
    "        for _, (x,y) in self.grid.coord_iter():\n",
    "            max_sugar = sugar_distro[x,y] #getting sugar levels from the sugar distribution\n",
    "            if max_sugar > 0:\n",
    "                sugar_agent = Sugar(all_agent_id, self, (x,y), max_sugar) #creating an a sugar agent\n",
    "                self.grid.place_agent(sugar_agent, (x,y)) #places an agent in the grid wherever there is a sugar level greater than 0\n",
    "                self.schedule.add(sugar_agent)\n",
    "                #print(sugar_agent.unique_id, sugar_agent.position,sugar_agent.sugar_capacity)\n",
    "                all_agent_id = all_agent_id + 1\n",
    "        #for _, (x,y) in self.grid.coord_iter():\n",
    "        #    print(_, (x,y))\n",
    "\n",
    "        # For loop for creating corrupt agents\n",
    "        for each in range(self.init_population):\n",
    "            #placing the polulation at random x y coordinates in the grid\n",
    "            x = self.random.randrange(self.X)\n",
    "            y = self.random.randrange(self.Y)\n",
    "\n",
    "            #uniform distribution of initial resources, vision and metabolism for sugar agents\n",
    "            sugar_agent = int(self.random.uniform(self.init_resource_min, self.init_resource_max + 1))\n",
    "            sugar_metabolism = int(self.random.uniform(self.metabolism_min, self.metabolism_max + 1))\n",
    "            sugar_vision = int(self.random.uniform(self.vision_min, self.vision_max + 1))\n",
    "\n",
    "            #creating a corrupt agent\n",
    "            corrupt_agent = Corrupt_agent(all_agent_id, self, (x,y), moore = False, sugar_agent = sugar_agent, sugar_metabolism = sugar_metabolism, sugar_vision = sugar_vision)\n",
    "\n",
    "            #place agent in the grid\n",
    "            self.grid.place_agent(corrupt_agent, (x,y))\n",
    "            self.schedule.add(corrupt_agent)\n",
    "            #print(\"ID\", \"Position\", \"Initial Amount\", \"Metabolism\", \"Vision\")\n",
    "            #print(corrupt_agent.unique_id, corrupt_agent.position, corrupt_agent.sugar_agent, corrupt_agent.sugar_metabolism, corrupt_agent.sugar_vision)\n",
    "            all_agent_id = all_agent_id + 1\n",
    "\n",
    "    def avg_wealth(self):\n",
    "        \"\"\"Calculate the average wealth of all living corrupt agents.\"\"\"\n",
    "        agents = [agent for agent in self.schedule.agents_by_type[Corrupt_agent].values()]\n",
    "        if agents:\n",
    "            average_wealth = sum(agent.sugar_agent for agent in agents) / len(agents)\n",
    "        else:\n",
    "            average_wealth = 0\n",
    "        return average_wealth\n",
    "    \n",
    "    #Performing a linear search\n",
    "    def run_linear_search(self, step_count, steal_amount_range, increment=5):\n",
    "        \"\"\"\n",
    "        Perform a linear search over a range of `steal_amount` values.\n",
    "        Parameters:\n",
    "            - step_count: The number of steps to run the model for each `steal_amount`.\n",
    "            - steal_amount_range: The maximum value of `steal_amount` to search.\n",
    "            - increment: The step size for the linear search.\n",
    "        Returns:\n",
    "            - results: A list of tuples (steal_amount, dead_agents) representing the number of dead corrupt agents\n",
    "                       for each value of `steal_amount`.\n",
    "        \"\"\"\n",
    "        results = []\n",
    "        \n",
    "        for steal_amount in range(0, steal_amount_range + 1, increment):\n",
    "            # Reset dead agents counter\n",
    "            self.dead_agents = 0\n",
    "        \n",
    "            # Set steal_amount for all corrupt agents\n",
    "            for agent in self.schedule.agents_by_type[Corrupt_agent].values():\n",
    "                agent.steal_amount = steal_amount\n",
    "            \n",
    "            # Run the model for the given number of steps\n",
    "            self.run_model(step_count)\n",
    "            \n",
    "            # Record the number of dead corrupt agents\n",
    "            dead_agents = self.dead_agents\n",
    "            results.append((steal_amount, dead_agents))\n",
    "    \n",
    "            # Reset the model for the next iteration\n",
    "            self.reset_model()\n",
    "        return results    \n",
    "            \n",
    "    def reset_model(self):\n",
    "        #Reset the model to its initial state.\n",
    "        self.__init__(self.X, self.Y, self.init_population, self.init_resource_min, self.init_resource_max,\n",
    "                      self.metabolism_min, self.metabolism_max, self.vision_min, self.vision_max)\n",
    "    \n",
    "    # This is a helper function for the step function that randomizes the movement of agents (Which agent goes first) \n",
    "    def randomize_corrupt_agents(self):\n",
    "        corrupt_agents_shuffle = list(self.schedule.agents_by_type[Corrupt_agent].values())\n",
    "        self.random.shuffle(corrupt_agents_shuffle)\n",
    "        return corrupt_agents_shuffle\n",
    "        \n",
    "    # What the model does in each step    \n",
    "    def step(self):\n",
    "        self.schedule.step()\n",
    "        # Sugar patch steps\n",
    "        for sugar_agent in self.schedule.agents_by_type[Sugar].values():\n",
    "            sugar_agent.step()\n",
    "\n",
    "        # Corrupt Agents steps\n",
    "        corrupt_agents_shuffle = self.randomize_corrupt_agents()\n",
    "        for agent in corrupt_agents_shuffle:\n",
    "            agent.move()\n",
    "            agent.metabolize()\n",
    "            agent.agent_die()\n",
    "\n",
    "        # Case-like structure based on the cycle counter\n",
    "        if self.cycle == 0:\n",
    "            for agent in corrupt_agents_shuffle:\n",
    "                agent.eat()\n",
    "        elif self.cycle == 1:\n",
    "            corrupt_agents_shuffle = self.randomize_corrupt_agents() # Re-shuffle after agents have died\n",
    "            for agent in corrupt_agents_shuffle:  # Remaining agents after death\n",
    "                agent.share_with_neighbours()\n",
    "        elif self.cycle == 2:\n",
    "            corrupt = self.randomize_corrupt_agents() # Re-shuffle after agents have died\n",
    "            for agent in corrupt:\n",
    "                agent.steal_from_neighbours()\n",
    "\n",
    "        # Collect data and increment the cycle counter\n",
    "        self.datacollector.collect(self)\n",
    "        #self.schedule.steps += 1  # Important for data collector\n",
    "        \n",
    "        \n",
    "        # Update cycle (reset to 0 after 2 to create a loop)\n",
    "        self.cycle = (self.cycle + 1) % 3\n",
    "\n",
    "        \n",
    "    def run_model(self, step_count):\n",
    "        for i in range(step_count):\n",
    "            self.step() \n",
    "            print(self.schedule.steps)\n",
    "            agent_results = self.datacollector.get_agent_vars_dataframe()\n",
    "            agent_results_filtered = agent_results[agent_results[\"Unique ID\"] >= 2069]\n",
    "        \n",
    "            #print(agent_results_filtered)\n",
    "            if i == 99 or i == 199:\n",
    "                agent_results_filtered.to_csv(f\"Data/agent_results_{self.schedule.steps}.csv\")\n",
    "        \n",
    "        print(f\"Final number of dead corrupt agents: {self.dead_agents}\")"
   ]
  },
  {
   "cell_type": "code",
   "execution_count": 10,
   "id": "fc677795-3e9a-4033-91d9-1dc1e9c0d956",
   "metadata": {},
   "outputs": [
    {
     "name": "stderr",
     "output_type": "stream",
     "text": [
      "C:\\Users\\DELL\\AppData\\Local\\Temp\\ipykernel_13528\\4154255263.py:4: FutureWarning: The Mesa Model class was not initialized. In the future, you need to explicitly initialize the Model by calling super().__init__() on initialization.\n",
      "  super().__init__(unique_id, model)\n",
      "C:\\Users\\DELL\\AppData\\Local\\Temp\\ipykernel_13528\\3195471959.py:147: DeprecationWarning: Because of the shift to using AgentSet, in the future this attribute will return a dict withtype as key as AgentSet as value. Future behavior is available via RandomActivationByType._agents_by_type\n",
      "  for sugar_agent in self.schedule.agents_by_type[Sugar].values():\n",
      "C:\\Users\\DELL\\AppData\\Local\\Temp\\ipykernel_13528\\3195471959.py:139: DeprecationWarning: Because of the shift to using AgentSet, in the future this attribute will return a dict withtype as key as AgentSet as value. Future behavior is available via RandomActivationByType._agents_by_type\n",
      "  corrupt_agents_shuffle = list(self.schedule.agents_by_type[Corrupt_agent].values())\n",
      "C:\\Users\\DELL\\AppData\\Local\\Temp\\ipykernel_13528\\3195471959.py:92: DeprecationWarning: Because of the shift to using AgentSet, in the future this attribute will return a dict withtype as key as AgentSet as value. Future behavior is available via RandomActivationByType._agents_by_type\n",
      "  agents = [agent for agent in self.schedule.agents_by_type[Corrupt_agent].values()]\n",
      "C:\\Users\\DELL\\AppData\\Local\\Temp\\ipykernel_13528\\3195471959.py:147: DeprecationWarning: Because of the shift to using AgentSet, in the future this attribute will return a dict withtype as key as AgentSet as value. Future behavior is available via RandomActivationByType._agents_by_type\n",
      "  for sugar_agent in self.schedule.agents_by_type[Sugar].values():\n",
      "C:\\Users\\DELL\\AppData\\Local\\Temp\\ipykernel_13528\\3195471959.py:139: DeprecationWarning: Because of the shift to using AgentSet, in the future this attribute will return a dict withtype as key as AgentSet as value. Future behavior is available via RandomActivationByType._agents_by_type\n",
      "  corrupt_agents_shuffle = list(self.schedule.agents_by_type[Corrupt_agent].values())\n",
      "C:\\Users\\DELL\\AppData\\Local\\Temp\\ipykernel_13528\\3195471959.py:92: DeprecationWarning: Because of the shift to using AgentSet, in the future this attribute will return a dict withtype as key as AgentSet as value. Future behavior is available via RandomActivationByType._agents_by_type\n",
      "  agents = [agent for agent in self.schedule.agents_by_type[Corrupt_agent].values()]\n",
      "C:\\Users\\DELL\\AppData\\Local\\Temp\\ipykernel_13528\\3195471959.py:147: DeprecationWarning: Because of the shift to using AgentSet, in the future this attribute will return a dict withtype as key as AgentSet as value. Future behavior is available via RandomActivationByType._agents_by_type\n",
      "  for sugar_agent in self.schedule.agents_by_type[Sugar].values():\n",
      "C:\\Users\\DELL\\AppData\\Local\\Temp\\ipykernel_13528\\3195471959.py:139: DeprecationWarning: Because of the shift to using AgentSet, in the future this attribute will return a dict withtype as key as AgentSet as value. Future behavior is available via RandomActivationByType._agents_by_type\n",
      "  corrupt_agents_shuffle = list(self.schedule.agents_by_type[Corrupt_agent].values())\n",
      "C:\\Users\\DELL\\AppData\\Local\\Temp\\ipykernel_13528\\3195471959.py:92: DeprecationWarning: Because of the shift to using AgentSet, in the future this attribute will return a dict withtype as key as AgentSet as value. Future behavior is available via RandomActivationByType._agents_by_type\n",
      "  agents = [agent for agent in self.schedule.agents_by_type[Corrupt_agent].values()]\n"
     ]
    },
    {
     "name": "stdout",
     "output_type": "stream",
     "text": [
      "Agent 2323 has eaten 6.0 sugar from sugar 620\n",
      "Agent 2312 has eaten 4.0 sugar from sugar 175\n",
      "Agent 2345 has eaten 9.0 sugar from sugar 94\n",
      "Agent 2383 has eaten 8.0 sugar from sugar 1315\n",
      "Agent 2375 has eaten 8.0 sugar from sugar 2159\n",
      "Agent 2348 has eaten 3.0 sugar from sugar 1504\n",
      "Agent 2359 has eaten 9.0 sugar from sugar 1261\n",
      "Agent 2324 has eaten 5.0 sugar from sugar 1174\n",
      "Agent 2331 has eaten 9.0 sugar from sugar 1615\n",
      "Agent 2318 has eaten 3.0 sugar from sugar 167\n",
      "Agent 2298 has eaten 8.0 sugar from sugar 615\n",
      "Agent 2338 has eaten 8.0 sugar from sugar 235\n",
      "Agent 2346 has eaten 7.0 sugar from sugar 1417\n",
      "Agent 2295 has eaten 7.0 sugar from sugar 441\n",
      "Agent 2377 has eaten 8.0 sugar from sugar 2208\n",
      "Agent 2297 has eaten 8.0 sugar from sugar 277\n",
      "Agent 2364 has eaten 2.0 sugar from sugar 969\n",
      "Agent 2307 has eaten 10.0 sugar from sugar 1089\n",
      "Agent 2354 has eaten 9.0 sugar from sugar 2095\n",
      "Agent 2368 has eaten 5.0 sugar from sugar 1470\n",
      "Agent 2322 has eaten 7.0 sugar from sugar 584\n",
      "Agent 2342 has eaten 1.0 sugar from sugar 2196\n",
      "Agent 2362 has eaten 7.0 sugar from sugar 332\n",
      "Agent 2387 has eaten 5.0 sugar from sugar 1165\n",
      "Agent 2321 has eaten 4.0 sugar from sugar 1584\n",
      "Agent 2336 has eaten 9.0 sugar from sugar 1910\n",
      "Agent 2315 has eaten 1.0 sugar from sugar 365\n",
      "Agent 2373 has eaten 6.0 sugar from sugar 1843\n",
      "Agent 2344 has eaten 4.0 sugar from sugar 845\n",
      "Agent 2365 has eaten 3.0 sugar from sugar 206\n",
      "Agent 2380 has eaten 7.0 sugar from sugar 251\n",
      "Agent 2301 has eaten 9.0 sugar from sugar 1119\n",
      "Agent 2327 has eaten 1.0 sugar from sugar 40\n",
      "Agent 2356 has eaten 4.0 sugar from sugar 60\n",
      "Agent 2335 has eaten 4.0 sugar from sugar 2169\n",
      "Agent 2299 has eaten 9.0 sugar from sugar 514\n",
      "Agent 2367 has eaten 9.0 sugar from sugar 1080\n",
      "Agent 2296 has eaten 2.0 sugar from sugar 2135\n",
      "Agent 2352 has eaten 7.0 sugar from sugar 2049\n",
      "Agent 2358 has eaten 2.0 sugar from sugar 261\n",
      "Agent 2355 has eaten 4.0 sugar from sugar 794\n",
      "Agent 2343 has eaten 9.0 sugar from sugar 1443\n",
      "Agent 2361 has eaten 7.0 sugar from sugar 1527\n",
      "Agent 2308 has eaten 7.0 sugar from sugar 916\n",
      "Agent 2304 has eaten 10.0 sugar from sugar 1867\n",
      "Agent 2300 has eaten 2.0 sugar from sugar 619\n",
      "Agent 2319 has eaten 9.0 sugar from sugar 700\n",
      "Agent 2320 has eaten 3.0 sugar from sugar 338\n",
      "Agent 2353 has eaten 3.0 sugar from sugar 1002\n",
      "Agent 2369 has eaten 10.0 sugar from sugar 2167\n",
      "Agent 2303 has eaten 5.0 sugar from sugar 462\n",
      "Agent 2370 has eaten 7.0 sugar from sugar 84\n",
      "Agent 2313 has eaten 10.0 sugar from sugar 635\n",
      "Agent 2333 has eaten 6.0 sugar from sugar 2139\n",
      "Agent 2385 has eaten 9.0 sugar from sugar 1462\n",
      "Agent 2384 has eaten 5.0 sugar from sugar 1335\n",
      "Agent 2376 has eaten 3.0 sugar from sugar 822\n",
      "Agent 2314 has eaten 9.0 sugar from sugar 1340\n",
      "Agent 2363 has eaten 1.0 sugar from sugar 1969\n",
      "Agent 2329 has eaten 10.0 sugar from sugar 2008\n",
      "Agent 2340 has eaten 1.0 sugar from sugar 311\n",
      "Agent 2391 has eaten 4.0 sugar from sugar 355\n",
      "Agent 2306 has eaten 5.0 sugar from sugar 872\n",
      "Agent 2374 has eaten 8.0 sugar from sugar 1253\n",
      "Agent 2339 has eaten 5.0 sugar from sugar 442\n",
      "Agent 2337 has eaten 7.0 sugar from sugar 162\n",
      "Agent 2381 has eaten 9.0 sugar from sugar 116\n",
      "Agent 2388 has eaten 8.0 sugar from sugar 1668\n",
      "Agent 2378 has eaten 1.0 sugar from sugar 1465\n",
      "Agent 2305 has eaten 8.0 sugar from sugar 1765\n",
      "Agent 2357 has eaten 7.0 sugar from sugar 1940\n",
      "Agent 2394 has eaten 7.0 sugar from sugar 1559\n",
      "Agent 2350 has eaten 5.0 sugar from sugar 670\n",
      "Agent 2310 has eaten 1.0 sugar from sugar 1719\n",
      "Agent 2309 has eaten 7.0 sugar from sugar 2113\n",
      "Agent 2325 has eaten 4.0 sugar from sugar 161\n",
      "Agent 2371 has eaten 1.0 sugar from sugar 992\n",
      "Agent 2382 has eaten 3.0 sugar from sugar 1265\n",
      "Agent 2360 has eaten 1.0 sugar from sugar 1183\n",
      "Agent 2372 has eaten 8.0 sugar from sugar 2042\n",
      "Agent 2390 has eaten 6.0 sugar from sugar 1133\n",
      "Agent 2332 has eaten 4.0 sugar from sugar 44\n",
      "Agent 2386 has eaten 5.0 sugar from sugar 427\n",
      "Agent 2379 has eaten 4.0 sugar from sugar 2234\n",
      "Agent 2341 has eaten 9.0 sugar from sugar 2238\n",
      "Agent 2316 has eaten 10.0 sugar from sugar 302\n",
      "Agent 2392 has eaten 3.0 sugar from sugar 2164\n",
      "Agent 2334 has eaten 9.0 sugar from sugar 1688\n",
      "Agent 2393 has eaten 2.0 sugar from sugar 54\n",
      "1\n",
      "Agent 2390 with 11.0 has shared 1.0 with 2360 with 12.0\n",
      "Agent 2346 with 16.0 has shared 2.0 with 2385 with 18.0\n",
      "Agent 2354 with 14.0 has shared 1.0 with 2333 with 9.0\n",
      "Agent 2381 with 14.0 has shared 2.0 with 2325 with 24.0\n",
      "Agent 2381 with 13.0 has shared 1.0 with 2365 with 6.0\n",
      "Agent 2381 with 12.0 has shared 1.0 with 2337 with 20.0\n",
      "Agent 2360 with 11.0 has shared 1.0 with 2390 with 12.0\n",
      "Agent 2325 with 21.0 has shared 3.0 with 2337 with 23.0\n",
      "Agent 2314 with 18.0 has shared 2.0 with 2374 with 16.0\n",
      "Agent 2377 with 14.0 has shared 2.0 with 2375 with 20.0\n",
      "Agent 2336 with 16.0 has shared 2.0 with 2372 with 21.0\n",
      "Agent 2375 with 18.0 has shared 2.0 with 2377 with 16.0\n",
      "Agent 2331 with 11.0 has shared 1.0 with 2361 with 12.0\n",
      "Agent 2345 with 17.0 has shared 2.0 with 2326 with 16.0\n",
      "Agent 2382 with 12.0 has shared 1.0 with 2347 with 6.0\n",
      "Agent 2309 with 10.0 has shared 1.0 with 2377 with 17.0\n",
      "Agent 2353 with 12.0 has shared 1.0 with 2376 with 8.0\n",
      "Agent 2297 with 19.0 has shared 2.0 with 2332 with 15.0\n",
      "Agent 2297 with 17.0 has shared 2.0 with 2315 with 17.0\n",
      "Agent 2369 with 21.0 has shared 2.0 with 2349 with 17.0\n",
      "Agent 2355 with 14.0 has shared 1.0 with 2299 with 18.0\n",
      "Agent 2355 with 13.0 has shared 1.0 with 2319 with 19.0\n",
      "Agent 2355 with 12.0 has shared 1.0 with 2351 with 15.0\n",
      "Agent 2359 with 15.0 has shared 2.0 with 2301 with 22.0\n",
      "Agent 2359 with 14.0 has shared 1.0 with 2347 with 7.0\n",
      "Agent 2312 with 12.0 has shared 1.0 with 2370 with 22.0\n",
      "Agent 2304 with 14.0 has shared 1.0 with 2329 with 13.0\n",
      "Agent 2349 with 15.0 has shared 2.0 with 2392 with 9.0\n",
      "Agent 2349 with 14.0 has shared 1.0 with 2335 with 9.0\n",
      "Agent 2300 with 14.0 has shared 2.0 with 2350 with 25.0\n",
      "Agent 2305 with 15.0 has shared 2.0 with 2336 with 18.0\n",
      "Agent 2387 with 12.0 has shared 1.0 with 2301 with 23.0\n",
      "Agent 2387 with 11.0 has shared 1.0 with 2359 with 15.0\n",
      "Agent 2339 with 13.0 has shared 1.0 with 2295 with 15.0\n",
      "Agent 2316 with 22.0 has shared 3.0 with 2337 with 26.0\n",
      "Agent 2316 with 20.0 has shared 2.0 with 2380 with 23.0\n",
      "Agent 2308 with 15.0 has shared 2.0 with 2306 with 17.0\n",
      "Agent 2308 with 14.0 has shared 1.0 with 2353 with 13.0\n",
      "Agent 2308 with 13.0 has shared 1.0 with 2376 with 9.0\n",
      "Agent 2329 with 12.0 has shared 1.0 with 2333 with 10.0\n",
      "Agent 2329 with 11.0 has shared 1.0 with 2354 with 15.0\n",
      "Agent 2315 with 15.0 has shared 2.0 with 2297 with 19.0\n",
      "Agent 2319 with 17.0 has shared 2.0 with 2299 with 20.0\n",
      "Agent 2319 with 15.0 has shared 2.0 with 2355 with 14.0\n",
      "2\n",
      "Agent 2393 has died after 3 steps\n",
      "Agent 2363 has died after 3 steps\n",
      "Agent 2320 has died after 3 steps\n",
      "Agent 2358 has died after 3 steps\n",
      "Agent 2302 has died after 3 steps\n",
      "Agent 2310 has died after 3 steps\n",
      "Agent 2342 has died after 3 steps\n",
      "Agent 2379 stole 0.0 resources from Agent 2333.\n",
      "Agent 2304 stole 2.0 resources from Agent 2372.\n",
      "Agent 2330 stole 2.0 resources from Agent 2345.\n",
      "Agent 2330 stole 1.0 resources from Agent 2326.\n",
      "Agent 2330 stole 1.0 resources from Agent 2338.\n",
      "Agent 2390 stole 2.0 resources from Agent 2367.\n",
      "Agent 2390 stole 3.0 resources from Agent 2383.\n",
      "Agent 2368 stole 0.0 resources from Agent 2394.\n",
      "Agent 2376 stole 2.0 resources from Agent 2313.\n",
      "Agent 2376 stole 1.0 resources from Agent 2306.\n",
      "Agent 2376 stole 1.0 resources from Agent 2353.\n",
      "Agent 2303 stole 0 resources from Agent 2311.\n",
      "Agent 2380 stole 0.0 resources from Agent 2365.\n",
      "Agent 2394 stole 1.0 resources from Agent 2368.\n",
      "Agent 2394 stole 1.0 resources from Agent 2378.\n",
      "Agent 2335 stole 2.0 resources from Agent 2369.\n",
      "Agent 2335 stole 1.0 resources from Agent 2349.\n",
      "Agent 2377 stole 0.0 resources from Agent 2309.\n",
      "Agent 2299 stole 1.0 resources from Agent 2355.\n",
      "Agent 2365 stole 2.0 resources from Agent 2337.\n",
      "Agent 2365 stole 2.0 resources from Agent 2380.\n",
      "Agent 2331 stole 1.0 resources from Agent 2361.\n",
      "Agent 2370 stole 0.0 resources from Agent 2327.\n",
      "Agent 2370 stole 0.0 resources from Agent 2312.\n",
      "Agent 2296 stole 1.0 resources from Agent 2372.\n",
      "Agent 2384 stole 1.0 resources from Agent 2368.\n",
      "Agent 2384 stole 1.0 resources from Agent 2378.\n",
      "Agent 2314 stole 1.0 resources from Agent 2374.\n",
      "Agent 2381 stole 0.0 resources from Agent 2365.\n",
      "Agent 2381 stole 2.0 resources from Agent 2318.\n",
      "Agent 2381 stole 2.0 resources from Agent 2337.\n",
      "Agent 2381 stole 2.0 resources from Agent 2325.\n",
      "Agent 2354 stole 0.0 resources from Agent 2329.\n",
      "Agent 2312 stole 0.0 resources from Agent 2327.\n",
      "Agent 2350 stole 0.0 resources from Agent 2323.\n",
      "Agent 2350 stole 1 resources from Agent 2389.\n",
      "Agent 2316 stole 2.0 resources from Agent 2337.\n",
      "Agent 2316 stole 2.0 resources from Agent 2325.\n",
      "Agent 2316 stole 1.0 resources from Agent 2381.\n",
      "Agent 2316 stole 1.0 resources from Agent 2300.\n",
      "Agent 2359 stole 2.0 resources from Agent 2301.\n",
      "Agent 2359 stole 0.0 resources from Agent 2347.\n",
      "Agent 2388 stole 1.0 resources from Agent 2361.\n",
      "Agent 2319 stole 1.0 resources from Agent 2355.\n",
      "Agent 2339 stole 1.0 resources from Agent 2295.\n",
      "Agent 2382 stole 2.0 resources from Agent 2324.\n",
      "Agent 2382 stole 1.0 resources from Agent 2359.\n",
      "Agent 2382 stole 0.0 resources from Agent 2347.\n",
      "Agent 2333 stole 3.0 resources from Agent 2352.\n",
      "Agent 2333 stole 0.0 resources from Agent 2329.\n",
      "Agent 2333 stole 1.0 resources from Agent 2354.\n",
      "Agent 2341 stole 0.0 resources from Agent 2379.\n",
      "Agent 2325 stole 0.0 resources from Agent 2365.\n",
      "Agent 2325 stole 2.0 resources from Agent 2337.\n",
      "Agent 2366 stole 1.0 resources from Agent 2346.\n",
      "Agent 2366 stole 0.0 resources from Agent 2348.\n",
      "Agent 2306 stole 1.0 resources from Agent 2308.\n",
      "Agent 2300 stole 3.0 resources from Agent 2350.\n",
      "Agent 2300 stole 0.0 resources from Agent 2323.\n",
      "Agent 2308 stole 1.0 resources from Agent 2313.\n",
      "Agent 2308 stole 1.0 resources from Agent 2376.\n",
      "Agent 2308 stole 1.0 resources from Agent 2306.\n",
      "Agent 2308 stole 1.0 resources from Agent 2353.\n",
      "Agent 2355 stole 1.0 resources from Agent 2319.\n",
      "Agent 2355 stole 1.0 resources from Agent 2344.\n",
      "Agent 2355 stole 1.0 resources from Agent 2351.\n",
      "Agent 2317 stole 1.0 resources from Agent 2304.\n",
      "Agent 2327 stole 2.0 resources from Agent 2370.\n",
      "Agent 2327 stole 1.0 resources from Agent 2332.\n",
      "Agent 2327 stole 0.0 resources from Agent 2312.\n",
      "Agent 2329 stole 1.0 resources from Agent 2304.\n",
      "Agent 2329 stole 2.0 resources from Agent 2317.\n",
      "Agent 2329 stole 1.0 resources from Agent 2354.\n",
      "Agent 2375 stole 1.0 resources from Agent 2377.\n",
      "Agent 2375 stole 0.0 resources from Agent 2309.\n",
      "Agent 2309 stole 1.0 resources from Agent 2375.\n",
      "Agent 2309 stole 1.0 resources from Agent 2377.\n",
      "Agent 2324 stole 1.0 resources from Agent 2382.\n",
      "Agent 2326 stole 1.0 resources from Agent 2345.\n",
      "Agent 2371 stole 1.0 resources from Agent 2390.\n",
      "Agent 2295 stole 1.0 resources from Agent 2339.\n",
      "Agent 2295 stole 2.0 resources from Agent 2350.\n",
      "3\n",
      "Agent 2388 has died after 4 steps\n",
      "Agent 2366 has died after 4 steps\n",
      "Agent 2379 has died after 4 steps\n",
      "Agent 2340 has died after 4 steps\n",
      "Agent 2298 has died after 4 steps\n",
      "Agent 2348 has died after 4 steps\n",
      "Agent 2296 has died after 4 steps\n",
      "Agent 2328 has died after 4 steps\n",
      "Agent 2347 has died after 4 steps\n",
      "Agent 2323 has died after 4 steps\n",
      "Agent 2343 has died after 4 steps\n",
      "Agent 2338 has eaten 6 sugar from sugar 235\n",
      "Agent 2336 has eaten 6 sugar from sugar 1910\n",
      "Agent 2345 has eaten 6 sugar from sugar 94\n",
      "Agent 2386 has eaten 5.0 sugar from sugar 427\n",
      "Agent 2382 has eaten 3.0 sugar from sugar 1265\n",
      "Agent 2388 has eaten 6 sugar from sugar 1668\n",
      "Agent 2359 has eaten 6 sugar from sugar 1261\n",
      "Agent 2319 has eaten 6 sugar from sugar 700\n",
      "Agent 2381 has eaten 6 sugar from sugar 116\n",
      "Agent 2364 has eaten 2.0 sugar from sugar 969\n",
      "Agent 2387 has eaten 5.0 sugar from sugar 1165\n",
      "Agent 2346 has eaten 6 sugar from sugar 1417\n",
      "Agent 2362 has eaten 6 sugar from sugar 332\n",
      "Agent 2356 has eaten 4.0 sugar from sugar 60\n",
      "Agent 2371 has eaten 1.0 sugar from sugar 992\n",
      "Agent 2379 has eaten 4.0 sugar from sugar 2234\n",
      "Agent 2340 has eaten 1.0 sugar from sugar 311\n",
      "Agent 2309 has eaten 6 sugar from sugar 2113\n",
      "Agent 2298 has eaten 6 sugar from sugar 615\n",
      "Agent 2307 has eaten 6 sugar from sugar 1089\n",
      "Agent 2353 has eaten 3.0 sugar from sugar 1002\n",
      "Agent 2334 has eaten 6 sugar from sugar 1688\n",
      "Agent 2308 has eaten 6 sugar from sugar 916\n",
      "Agent 2300 has eaten 2.0 sugar from sugar 619\n",
      "Agent 2357 has eaten 6 sugar from sugar 1940\n",
      "Agent 2337 has eaten 6 sugar from sugar 162\n",
      "Agent 2380 has eaten 6 sugar from sugar 251\n",
      "Agent 2355 has eaten 4.0 sugar from sugar 794\n",
      "Agent 2315 has eaten 1.0 sugar from sugar 365\n",
      "Agent 2316 has eaten 6 sugar from sugar 302\n",
      "Agent 2304 has eaten 6 sugar from sugar 1867\n",
      "Agent 2390 has eaten 6.0 sugar from sugar 1133\n",
      "Agent 2348 has eaten 3.0 sugar from sugar 1504\n",
      "Agent 2350 has eaten 5.0 sugar from sugar 670\n",
      "Agent 2296 has eaten 2.0 sugar from sugar 2135\n",
      "Agent 2324 has eaten 5.0 sugar from sugar 1174\n",
      "Agent 2333 has eaten 6.0 sugar from sugar 2139\n",
      "Agent 2322 has eaten 6 sugar from sugar 584\n",
      "Agent 2372 has eaten 6 sugar from sugar 2042\n",
      "Agent 2373 has eaten 6.0 sugar from sugar 1843\n",
      "Agent 2312 has eaten 4.0 sugar from sugar 175\n",
      "Agent 2394 has eaten 6 sugar from sugar 1559\n",
      "Agent 2369 has eaten 6 sugar from sugar 2167\n",
      "Agent 2332 has eaten 4.0 sugar from sugar 44\n",
      "Agent 2318 has eaten 3.0 sugar from sugar 167\n",
      "Agent 2313 has eaten 6 sugar from sugar 635\n",
      "Agent 2301 has eaten 6 sugar from sugar 1119\n",
      "Agent 2367 has eaten 6 sugar from sugar 1080\n",
      "Agent 2325 has eaten 4.0 sugar from sugar 161\n",
      "Agent 2303 has eaten 5.0 sugar from sugar 462\n",
      "Agent 2370 has eaten 6 sugar from sugar 84\n",
      "Agent 2299 has eaten 6 sugar from sugar 514\n",
      "Agent 2321 has eaten 4.0 sugar from sugar 1584\n",
      "Agent 2295 has eaten 6 sugar from sugar 441\n",
      "Agent 2383 has eaten 6 sugar from sugar 1315\n",
      "Agent 2327 has eaten 1.0 sugar from sugar 40\n",
      "Agent 2385 has eaten 6 sugar from sugar 1462\n",
      "Agent 2329 has eaten 6 sugar from sugar 2008\n",
      "Agent 2352 has eaten 6 sugar from sugar 2049\n",
      "Agent 2375 has eaten 6 sugar from sugar 2159\n",
      "Agent 2323 has eaten 6.0 sugar from sugar 620\n",
      "Agent 2361 has eaten 6 sugar from sugar 1527\n",
      "Agent 2365 has eaten 3.0 sugar from sugar 206\n",
      "Agent 2376 has eaten 3.0 sugar from sugar 822\n",
      "Agent 2384 has eaten 5.0 sugar from sugar 1335\n",
      "Agent 2335 has eaten 4.0 sugar from sugar 2169\n",
      "Agent 2306 has eaten 5.0 sugar from sugar 872\n",
      "Agent 2331 has eaten 6 sugar from sugar 1615\n",
      "Agent 2354 has eaten 6 sugar from sugar 2095\n",
      "Agent 2344 has eaten 4.0 sugar from sugar 845\n",
      "Agent 2341 has eaten 6 sugar from sugar 2238\n",
      "Agent 2305 has eaten 6 sugar from sugar 1765\n",
      "Agent 2377 has eaten 6 sugar from sugar 2208\n",
      "Agent 2392 has eaten 3.0 sugar from sugar 2164\n",
      "Agent 2378 has eaten 1.0 sugar from sugar 1465\n",
      "Agent 2374 has eaten 6 sugar from sugar 1253\n",
      "Agent 2368 has eaten 5.0 sugar from sugar 1470\n",
      "Agent 2339 has eaten 5.0 sugar from sugar 442\n",
      "Agent 2391 has eaten 4.0 sugar from sugar 355\n",
      "Agent 2343 has eaten 6 sugar from sugar 1443\n",
      "Agent 2360 has eaten 1.0 sugar from sugar 1183\n",
      "Agent 2314 has eaten 6 sugar from sugar 1340\n",
      "Agent 2297 has eaten 6 sugar from sugar 277\n",
      "4\n",
      "Agent 2330 has died after 5 steps\n",
      "Agent 2311 has died after 5 steps\n",
      "Agent 2376 has died after 5 steps\n",
      "Agent 2295 with 10.0 has shared 1.0 with 2339 with 16.0\n"
     ]
    },
    {
     "name": "stderr",
     "output_type": "stream",
     "text": [
      "C:\\Users\\DELL\\AppData\\Local\\Temp\\ipykernel_13528\\3195471959.py:147: DeprecationWarning: Because of the shift to using AgentSet, in the future this attribute will return a dict withtype as key as AgentSet as value. Future behavior is available via RandomActivationByType._agents_by_type\n",
      "  for sugar_agent in self.schedule.agents_by_type[Sugar].values():\n",
      "C:\\Users\\DELL\\AppData\\Local\\Temp\\ipykernel_13528\\3195471959.py:139: DeprecationWarning: Because of the shift to using AgentSet, in the future this attribute will return a dict withtype as key as AgentSet as value. Future behavior is available via RandomActivationByType._agents_by_type\n",
      "  corrupt_agents_shuffle = list(self.schedule.agents_by_type[Corrupt_agent].values())\n",
      "C:\\Users\\DELL\\AppData\\Local\\Temp\\ipykernel_13528\\3195471959.py:92: DeprecationWarning: Because of the shift to using AgentSet, in the future this attribute will return a dict withtype as key as AgentSet as value. Future behavior is available via RandomActivationByType._agents_by_type\n",
      "  agents = [agent for agent in self.schedule.agents_by_type[Corrupt_agent].values()]\n",
      "C:\\Users\\DELL\\AppData\\Local\\Temp\\ipykernel_13528\\3195471959.py:147: DeprecationWarning: Because of the shift to using AgentSet, in the future this attribute will return a dict withtype as key as AgentSet as value. Future behavior is available via RandomActivationByType._agents_by_type\n",
      "  for sugar_agent in self.schedule.agents_by_type[Sugar].values():\n",
      "C:\\Users\\DELL\\AppData\\Local\\Temp\\ipykernel_13528\\3195471959.py:139: DeprecationWarning: Because of the shift to using AgentSet, in the future this attribute will return a dict withtype as key as AgentSet as value. Future behavior is available via RandomActivationByType._agents_by_type\n",
      "  corrupt_agents_shuffle = list(self.schedule.agents_by_type[Corrupt_agent].values())\n",
      "C:\\Users\\DELL\\AppData\\Local\\Temp\\ipykernel_13528\\3195471959.py:92: DeprecationWarning: Because of the shift to using AgentSet, in the future this attribute will return a dict withtype as key as AgentSet as value. Future behavior is available via RandomActivationByType._agents_by_type\n",
      "  agents = [agent for agent in self.schedule.agents_by_type[Corrupt_agent].values()]\n",
      "C:\\Users\\DELL\\AppData\\Local\\Temp\\ipykernel_13528\\3195471959.py:147: DeprecationWarning: Because of the shift to using AgentSet, in the future this attribute will return a dict withtype as key as AgentSet as value. Future behavior is available via RandomActivationByType._agents_by_type\n",
      "  for sugar_agent in self.schedule.agents_by_type[Sugar].values():\n",
      "C:\\Users\\DELL\\AppData\\Local\\Temp\\ipykernel_13528\\3195471959.py:139: DeprecationWarning: Because of the shift to using AgentSet, in the future this attribute will return a dict withtype as key as AgentSet as value. Future behavior is available via RandomActivationByType._agents_by_type\n",
      "  corrupt_agents_shuffle = list(self.schedule.agents_by_type[Corrupt_agent].values())\n",
      "C:\\Users\\DELL\\AppData\\Local\\Temp\\ipykernel_13528\\3195471959.py:92: DeprecationWarning: Because of the shift to using AgentSet, in the future this attribute will return a dict withtype as key as AgentSet as value. Future behavior is available via RandomActivationByType._agents_by_type\n",
      "  agents = [agent for agent in self.schedule.agents_by_type[Corrupt_agent].values()]\n"
     ]
    },
    {
     "name": "stdout",
     "output_type": "stream",
     "text": [
      "Agent 2316 with 26.0 has shared 3.0 with 2380 with 27.0\n",
      "Agent 2359 with 14.0 has shared 2.0 with 2301 with 17.0\n",
      "Agent 2319 with 16.0 has shared 2.0 with 2299 with 23.0\n",
      "Agent 2314 with 14.0 has shared 2.0 with 2374 with 17.0\n",
      "Agent 2308 with 14.0 has shared 2.0 with 2313 with 13.0\n",
      "Agent 2308 with 13.0 has shared 1.0 with 2306 with 13.0\n",
      "Agent 2339 with 14.0 has shared 2.0 with 2316 with 28.0\n",
      "Agent 2339 with 13.0 has shared 1.0 with 2295 with 11.0\n",
      "Agent 2332 with 11.0 has shared 1.0 with 2297 with 23.0\n",
      "Agent 2325 with 18.0 has shared 2.0 with 2337 with 17.0\n",
      "Agent 2325 with 16.0 has shared 2.0 with 2380 with 29.0\n",
      "Agent 2297 with 21.0 has shared 2.0 with 2315 with 15.0\n",
      "Agent 2381 with 13.0 has shared 1.0 with 2325 with 17.0\n",
      "Agent 2381 with 12.0 has shared 1.0 with 2337 with 18.0\n",
      "5\n",
      "Agent 2364 has died after 6 steps\n",
      "Agent 2387 has died after 6 steps\n",
      "Agent 2353 has died after 6 steps\n",
      "Agent 2335 has died after 6 steps\n",
      "Agent 2309 has died after 6 steps\n",
      "Agent 2392 has died after 6 steps\n",
      "Agent 2389 has died after 6 steps\n",
      "Agent 2333 has died after 6 steps\n",
      "Agent 2384 has died after 6 steps\n",
      "Agent 2365 has died after 6 steps\n",
      "Agent 2312 has died after 6 steps\n",
      "Agent 2391 has died after 6 steps\n",
      "Agent 2371 stole 0.0 resources from Agent 2390.\n",
      "Agent 2383 stole 1.0 resources from Agent 2360.\n",
      "Agent 2352 stole 0.0 resources from Agent 2329.\n",
      "Agent 2381 stole 2.0 resources from Agent 2318.\n",
      "Agent 2381 stole 1.0 resources from Agent 2337.\n",
      "Agent 2381 stole 2.0 resources from Agent 2325.\n",
      "Agent 2304 stole 2.0 resources from Agent 2336.\n",
      "Agent 2304 stole 1.0 resources from Agent 2372.\n",
      "Agent 2355 stole 1.0 resources from Agent 2319.\n",
      "Agent 2355 stole 0.0 resources from Agent 2344.\n",
      "Agent 2295 stole 1.0 resources from Agent 2339.\n",
      "Agent 2354 stole 0.0 resources from Agent 2329.\n",
      "Agent 2354 stole 3.0 resources from Agent 2352.\n",
      "Agent 2316 stole 1.0 resources from Agent 2337.\n",
      "Agent 2316 stole 3.0 resources from Agent 2380.\n",
      "Agent 2316 stole 1.0 resources from Agent 2325.\n",
      "Agent 2316 stole 1.0 resources from Agent 2381.\n",
      "Agent 2316 stole 1.0 resources from Agent 2295.\n",
      "Agent 2346 stole 0.0 resources from Agent 2385.\n",
      "Agent 2315 stole 2.0 resources from Agent 2297.\n",
      "Agent 2359 stole 1.0 resources from Agent 2301.\n",
      "Agent 2359 stole 2.0 resources from Agent 2324.\n",
      "Agent 2375 stole 0.0 resources from Agent 2377.\n",
      "Agent 2362 stole 2.0 resources from Agent 2299.\n",
      "Agent 2349 stole 2.0 resources from Agent 2369.\n",
      "Agent 2339 stole 0.0 resources from Agent 2295.\n",
      "Agent 2339 stole 2.0 resources from Agent 2350.\n",
      "Agent 2329 stole 1.0 resources from Agent 2354.\n",
      "Agent 2329 stole 2.0 resources from Agent 2352.\n",
      "Agent 2327 stole 1.0 resources from Agent 2332.\n",
      "Agent 2319 stole 1.0 resources from Agent 2355.\n",
      "Agent 2369 stole 1.0 resources from Agent 2349.\n",
      "Agent 2382 stole 2.0 resources from Agent 2324.\n",
      "Agent 2300 stole 4.0 resources from Agent 2316.\n",
      "Agent 2300 stole 2.0 resources from Agent 2350.\n",
      "Agent 2325 stole 1.0 resources from Agent 2337.\n",
      "Agent 2325 stole 3.0 resources from Agent 2380.\n",
      "Agent 2361 stole 1.0 resources from Agent 2359.\n",
      "Agent 2390 stole 0.0 resources from Agent 2371.\n",
      "Agent 2390 stole 2.0 resources from Agent 2367.\n",
      "Agent 2390 stole 0.0 resources from Agent 2360.\n",
      "Agent 2326 stole 2.0 resources from Agent 2345.\n",
      "Agent 2299 stole 1.0 resources from Agent 2362.\n",
      "Agent 2308 stole 1.0 resources from Agent 2313.\n",
      "Agent 2308 stole 1.0 resources from Agent 2306.\n",
      "Agent 2336 stole 0.0 resources from Agent 2372.\n",
      "Agent 2314 stole 1.0 resources from Agent 2374.\n",
      "Agent 2331 stole 0.0 resources from Agent 2361.\n",
      "Agent 2378 stole 0.0 resources from Agent 2394.\n",
      "Agent 2394 stole 0.0 resources from Agent 2368.\n",
      "6\n",
      "Agent 2375 has died after 7 steps\n",
      "Agent 2371 has died after 7 steps\n",
      "Agent 2385 has died after 7 steps\n",
      "Agent 2344 has died after 7 steps\n",
      "Agent 2331 has died after 7 steps\n",
      "Agent 2382 has died after 7 steps\n",
      "Agent 2394 has died after 7 steps\n",
      "Agent 2375 has eaten 6 sugar from sugar 2159\n",
      "Agent 2371 has eaten 1.0 sugar from sugar 992\n",
      "Agent 2372 has eaten 6 sugar from sugar 2042\n",
      "Agent 2385 has eaten 6 sugar from sugar 1462\n",
      "Agent 2354 has eaten 6 sugar from sugar 2095\n",
      "Agent 2360 has eaten 1.0 sugar from sugar 1183\n",
      "Agent 2337 has eaten 6 sugar from sugar 162\n",
      "Agent 2313 has eaten 6 sugar from sugar 635\n",
      "Agent 2377 has eaten 6 sugar from sugar 2208\n",
      "Agent 2338 has eaten 6 sugar from sugar 235\n",
      "Agent 2390 has eaten 6.0 sugar from sugar 1133\n",
      "Agent 2321 has eaten 4.0 sugar from sugar 1584\n",
      "Agent 2345 has eaten 6 sugar from sugar 94\n",
      "Agent 2319 has eaten 6 sugar from sugar 700\n",
      "Agent 2316 has eaten 6 sugar from sugar 302\n",
      "Agent 2325 has eaten 4.0 sugar from sugar 161\n",
      "Agent 2346 has eaten 6 sugar from sugar 1417\n",
      "Agent 2297 has eaten 6 sugar from sugar 277\n",
      "Agent 2344 has eaten 4.0 sugar from sugar 845\n",
      "Agent 2356 has eaten 4.0 sugar from sugar 60\n",
      "Agent 2304 has eaten 6 sugar from sugar 1867\n",
      "Agent 2367 has eaten 6 sugar from sugar 1080\n",
      "Agent 2355 has eaten 4.0 sugar from sugar 794\n",
      "Agent 2359 has eaten 6 sugar from sugar 1261\n",
      "Agent 2331 has eaten 6 sugar from sugar 1615\n",
      "Agent 2380 has eaten 6 sugar from sugar 251\n",
      "Agent 2382 has eaten 3.0 sugar from sugar 1265\n",
      "Agent 2299 has eaten 6 sugar from sugar 514\n",
      "Agent 2339 has eaten 5.0 sugar from sugar 442\n",
      "Agent 2322 has eaten 6 sugar from sugar 584\n",
      "Agent 2300 has eaten 2.0 sugar from sugar 619\n",
      "Agent 2314 has eaten 6 sugar from sugar 1340\n",
      "Agent 2329 has eaten 6 sugar from sugar 2008\n",
      "Agent 2315 has eaten 1.0 sugar from sugar 365\n",
      "Agent 2370 has eaten 6 sugar from sugar 84\n",
      "Agent 2301 has eaten 6 sugar from sugar 1119\n",
      "Agent 2334 has eaten 6 sugar from sugar 1688\n",
      "Agent 2303 has eaten 5.0 sugar from sugar 462\n",
      "Agent 2378 has eaten 1.0 sugar from sugar 1465\n",
      "Agent 2295 has eaten 6 sugar from sugar 441\n",
      "Agent 2368 has eaten 5.0 sugar from sugar 1470\n",
      "Agent 2307 has eaten 6 sugar from sugar 1089\n",
      "Agent 2357 has eaten 6 sugar from sugar 1940\n",
      "Agent 2308 has eaten 6 sugar from sugar 916\n",
      "Agent 2394 has eaten 6 sugar from sugar 1559\n",
      "Agent 2341 has eaten 6 sugar from sugar 2238\n",
      "Agent 2381 has eaten 6 sugar from sugar 116\n",
      "Agent 2350 has eaten 5.0 sugar from sugar 670\n",
      "Agent 2361 has eaten 6 sugar from sugar 1527\n",
      "Agent 2362 has eaten 6 sugar from sugar 332\n",
      "Agent 2386 has eaten 5.0 sugar from sugar 427\n",
      "Agent 2352 has eaten 6 sugar from sugar 2049\n",
      "Agent 2324 has eaten 5.0 sugar from sugar 1174\n",
      "Agent 2332 has eaten 4.0 sugar from sugar 44\n",
      "Agent 2373 has eaten 6.0 sugar from sugar 1843\n",
      "Agent 2336 has eaten 6 sugar from sugar 1910\n",
      "Agent 2306 has eaten 5.0 sugar from sugar 872\n",
      "Agent 2369 has eaten 6 sugar from sugar 2167\n",
      "Agent 2327 has eaten 1.0 sugar from sugar 40\n",
      "Agent 2374 has eaten 6 sugar from sugar 1253\n",
      "Agent 2305 has eaten 6 sugar from sugar 1765\n",
      "Agent 2383 has eaten 6 sugar from sugar 1315\n",
      "Agent 2318 has eaten 3.0 sugar from sugar 167\n",
      "7\n"
     ]
    },
    {
     "name": "stderr",
     "output_type": "stream",
     "text": [
      "C:\\Users\\DELL\\AppData\\Local\\Temp\\ipykernel_13528\\3195471959.py:147: DeprecationWarning: Because of the shift to using AgentSet, in the future this attribute will return a dict withtype as key as AgentSet as value. Future behavior is available via RandomActivationByType._agents_by_type\n",
      "  for sugar_agent in self.schedule.agents_by_type[Sugar].values():\n",
      "C:\\Users\\DELL\\AppData\\Local\\Temp\\ipykernel_13528\\3195471959.py:139: DeprecationWarning: Because of the shift to using AgentSet, in the future this attribute will return a dict withtype as key as AgentSet as value. Future behavior is available via RandomActivationByType._agents_by_type\n",
      "  corrupt_agents_shuffle = list(self.schedule.agents_by_type[Corrupt_agent].values())\n",
      "C:\\Users\\DELL\\AppData\\Local\\Temp\\ipykernel_13528\\3195471959.py:92: DeprecationWarning: Because of the shift to using AgentSet, in the future this attribute will return a dict withtype as key as AgentSet as value. Future behavior is available via RandomActivationByType._agents_by_type\n",
      "  agents = [agent for agent in self.schedule.agents_by_type[Corrupt_agent].values()]\n",
      "C:\\Users\\DELL\\AppData\\Local\\Temp\\ipykernel_13528\\3195471959.py:147: DeprecationWarning: Because of the shift to using AgentSet, in the future this attribute will return a dict withtype as key as AgentSet as value. Future behavior is available via RandomActivationByType._agents_by_type\n",
      "  for sugar_agent in self.schedule.agents_by_type[Sugar].values():\n",
      "C:\\Users\\DELL\\AppData\\Local\\Temp\\ipykernel_13528\\3195471959.py:139: DeprecationWarning: Because of the shift to using AgentSet, in the future this attribute will return a dict withtype as key as AgentSet as value. Future behavior is available via RandomActivationByType._agents_by_type\n",
      "  corrupt_agents_shuffle = list(self.schedule.agents_by_type[Corrupt_agent].values())\n",
      "C:\\Users\\DELL\\AppData\\Local\\Temp\\ipykernel_13528\\3195471959.py:92: DeprecationWarning: Because of the shift to using AgentSet, in the future this attribute will return a dict withtype as key as AgentSet as value. Future behavior is available via RandomActivationByType._agents_by_type\n",
      "  agents = [agent for agent in self.schedule.agents_by_type[Corrupt_agent].values()]\n",
      "C:\\Users\\DELL\\AppData\\Local\\Temp\\ipykernel_13528\\3195471959.py:147: DeprecationWarning: Because of the shift to using AgentSet, in the future this attribute will return a dict withtype as key as AgentSet as value. Future behavior is available via RandomActivationByType._agents_by_type\n",
      "  for sugar_agent in self.schedule.agents_by_type[Sugar].values():\n",
      "C:\\Users\\DELL\\AppData\\Local\\Temp\\ipykernel_13528\\3195471959.py:139: DeprecationWarning: Because of the shift to using AgentSet, in the future this attribute will return a dict withtype as key as AgentSet as value. Future behavior is available via RandomActivationByType._agents_by_type\n",
      "  corrupt_agents_shuffle = list(self.schedule.agents_by_type[Corrupt_agent].values())\n",
      "C:\\Users\\DELL\\AppData\\Local\\Temp\\ipykernel_13528\\3195471959.py:92: DeprecationWarning: Because of the shift to using AgentSet, in the future this attribute will return a dict withtype as key as AgentSet as value. Future behavior is available via RandomActivationByType._agents_by_type\n",
      "  agents = [agent for agent in self.schedule.agents_by_type[Corrupt_agent].values()]\n"
     ]
    },
    {
     "name": "stdout",
     "output_type": "stream",
     "text": [
      "Agent 2326 has died after 8 steps\n",
      "Agent 2316 with 30.0 has shared 4.0 with 2380 with 30.0\n",
      "Agent 2315 with 14.0 has shared 1.0 with 2297 with 23.0\n",
      "Agent 2314 with 11.0 has shared 1.0 with 2374 with 17.0\n",
      "Agent 2359 with 14.0 has shared 2.0 with 2301 with 12.0\n",
      "Agent 2325 with 17.0 has shared 2.0 with 2337 with 14.0\n",
      "Agent 2304 with 10.0 has shared 1.0 with 2317 with 12.0\n",
      "Agent 2297 with 21.0 has shared 2.0 with 2315 with 16.0\n",
      "Agent 2381 with 12.0 has shared 1.0 with 2337 with 15.0\n",
      "Agent 2381 with 11.0 has shared 1.0 with 2325 with 18.0\n",
      "Agent 2308 with 14.0 has shared 1.0 with 2306 with 9.0\n",
      "8\n",
      "Agent 2346 has died after 9 steps\n",
      "Agent 2377 has died after 9 steps\n",
      "Agent 2378 has died after 9 steps\n",
      "Agent 2327 has died after 9 steps\n",
      "Agent 2368 has died after 9 steps\n",
      "Agent 2305 has died after 9 steps\n",
      "Agent 2359 stole 1.0 resources from Agent 2301.\n",
      "Agent 2381 stole 1.0 resources from Agent 2337.\n",
      "Agent 2381 stole 2.0 resources from Agent 2325.\n",
      "Agent 2390 stole 0.0 resources from Agent 2360.\n",
      "Agent 2314 stole 1.0 resources from Agent 2374.\n",
      "Agent 2355 stole 2.0 resources from Agent 2319.\n",
      "Agent 2354 stole 0.0 resources from Agent 2329.\n",
      "Agent 2354 stole 2.0 resources from Agent 2352.\n",
      "Agent 2352 stole 0.0 resources from Agent 2329.\n",
      "Agent 2318 stole 1.0 resources from Agent 2381.\n",
      "Agent 2304 stole 2.0 resources from Agent 2336.\n",
      "Agent 2304 stole 0.0 resources from Agent 2372.\n",
      "Agent 2383 stole 0.0 resources from Agent 2390.\n",
      "Agent 2361 stole 1.0 resources from Agent 2359.\n",
      "Agent 2295 stole 3.0 resources from Agent 2316.\n",
      "Agent 2308 stole 0.0 resources from Agent 2306.\n",
      "Agent 2339 stole 3.0 resources from Agent 2316.\n",
      "Agent 2299 stole 0.0 resources from Agent 2355.\n",
      "Agent 2319 stole 0.0 resources from Agent 2355.\n",
      "Agent 2300 stole 2.0 resources from Agent 2350.\n",
      "Agent 2315 stole 2.0 resources from Agent 2297.\n",
      "Agent 2316 stole 1.0 resources from Agent 2337.\n",
      "Agent 2316 stole 1.0 resources from Agent 2325.\n",
      "Agent 2316 stole 0.0 resources from Agent 2295.\n",
      "Agent 2316 stole 0.0 resources from Agent 2300.\n",
      "Agent 2329 stole 1.0 resources from Agent 2304.\n",
      "Agent 2329 stole 1.0 resources from Agent 2317.\n",
      "Agent 2329 stole 0.0 resources from Agent 2372.\n",
      "Agent 2329 stole 2.0 resources from Agent 2352.\n",
      "Agent 2329 stole 1.0 resources from Agent 2354.\n",
      "Agent 2297 stole 2.0 resources from Agent 2315.\n",
      "Agent 2380 stole 1.0 resources from Agent 2325.\n",
      "9\n",
      "Agent 2390 has died after 10 steps\n",
      "Agent 2372 has died after 10 steps\n",
      "Agent 2295 has died after 10 steps\n",
      "Agent 2313 has died after 10 steps\n",
      "Agent 2361 has died after 10 steps\n",
      "Agent 2338 has died after 10 steps\n",
      "Agent 2374 has eaten 6 sugar from sugar 1253\n",
      "Agent 2303 has eaten 5.0 sugar from sugar 462\n",
      "Agent 2308 has eaten 6 sugar from sugar 916\n",
      "Agent 2362 has eaten 6 sugar from sugar 332\n",
      "Agent 2336 has eaten 6 sugar from sugar 1910\n",
      "Agent 2360 has eaten 1.0 sugar from sugar 1183\n",
      "Agent 2381 has eaten 6 sugar from sugar 116\n",
      "Agent 2315 has eaten 1.0 sugar from sugar 365\n",
      "Agent 2316 has eaten 6 sugar from sugar 302\n",
      "Agent 2307 has eaten 6 sugar from sugar 1089\n",
      "Agent 2357 has eaten 6 sugar from sugar 1940\n",
      "Agent 2334 has eaten 6 sugar from sugar 1688\n",
      "Agent 2318 has eaten 3.0 sugar from sugar 167\n",
      "Agent 2380 has eaten 6 sugar from sugar 251\n",
      "Agent 2345 has eaten 6 sugar from sugar 94\n",
      "Agent 2369 has eaten 6 sugar from sugar 2167\n",
      "Agent 2337 has eaten 6 sugar from sugar 162\n",
      "Agent 2299 has eaten 6 sugar from sugar 514\n",
      "Agent 2339 has eaten 5.0 sugar from sugar 442\n",
      "Agent 2373 has eaten 6.0 sugar from sugar 1843\n",
      "Agent 2390 has eaten 6.0 sugar from sugar 1133\n",
      "Agent 2301 has eaten 6 sugar from sugar 1119\n",
      "Agent 2352 has eaten 6 sugar from sugar 2049\n",
      "Agent 2367 has eaten 6 sugar from sugar 1080\n",
      "Agent 2300 has eaten 2.0 sugar from sugar 619\n",
      "Agent 2325 has eaten 4.0 sugar from sugar 161\n",
      "Agent 2314 has eaten 6 sugar from sugar 1340\n",
      "Agent 2329 has eaten 6 sugar from sugar 2008\n",
      "Agent 2354 has eaten 6 sugar from sugar 2095\n",
      "Agent 2372 has eaten 6 sugar from sugar 2042\n",
      "Agent 2350 has eaten 5.0 sugar from sugar 670\n",
      "Agent 2295 has eaten 6 sugar from sugar 441\n",
      "Agent 2306 has eaten 5.0 sugar from sugar 872\n",
      "Agent 2359 has eaten 6 sugar from sugar 1261\n",
      "Agent 2355 has eaten 4.0 sugar from sugar 794\n",
      "Agent 2313 has eaten 6 sugar from sugar 635\n",
      "Agent 2370 has eaten 6 sugar from sugar 84\n",
      "Agent 2341 has eaten 6 sugar from sugar 2238\n",
      "Agent 2332 has eaten 4.0 sugar from sugar 44\n",
      "Agent 2383 has eaten 6 sugar from sugar 1315\n",
      "Agent 2361 has eaten 6 sugar from sugar 1527\n",
      "Agent 2304 has eaten 6 sugar from sugar 1867\n",
      "Agent 2356 has eaten 4.0 sugar from sugar 60\n",
      "Agent 2338 has eaten 6 sugar from sugar 235\n",
      "Agent 2297 has eaten 6 sugar from sugar 277\n",
      "Agent 2386 has eaten 5.0 sugar from sugar 427\n",
      "Agent 2321 has eaten 4.0 sugar from sugar 1584\n",
      "Agent 2319 has eaten 6 sugar from sugar 700\n",
      "Agent 2324 has eaten 5.0 sugar from sugar 1174\n",
      "Agent 2322 has eaten 6 sugar from sugar 584\n",
      "10\n"
     ]
    },
    {
     "name": "stderr",
     "output_type": "stream",
     "text": [
      "C:\\Users\\DELL\\AppData\\Local\\Temp\\ipykernel_13528\\3195471959.py:147: DeprecationWarning: Because of the shift to using AgentSet, in the future this attribute will return a dict withtype as key as AgentSet as value. Future behavior is available via RandomActivationByType._agents_by_type\n",
      "  for sugar_agent in self.schedule.agents_by_type[Sugar].values():\n",
      "C:\\Users\\DELL\\AppData\\Local\\Temp\\ipykernel_13528\\3195471959.py:139: DeprecationWarning: Because of the shift to using AgentSet, in the future this attribute will return a dict withtype as key as AgentSet as value. Future behavior is available via RandomActivationByType._agents_by_type\n",
      "  corrupt_agents_shuffle = list(self.schedule.agents_by_type[Corrupt_agent].values())\n",
      "C:\\Users\\DELL\\AppData\\Local\\Temp\\ipykernel_13528\\3195471959.py:92: DeprecationWarning: Because of the shift to using AgentSet, in the future this attribute will return a dict withtype as key as AgentSet as value. Future behavior is available via RandomActivationByType._agents_by_type\n",
      "  agents = [agent for agent in self.schedule.agents_by_type[Corrupt_agent].values()]\n",
      "C:\\Users\\DELL\\AppData\\Local\\Temp\\ipykernel_13528\\3195471959.py:147: DeprecationWarning: Because of the shift to using AgentSet, in the future this attribute will return a dict withtype as key as AgentSet as value. Future behavior is available via RandomActivationByType._agents_by_type\n",
      "  for sugar_agent in self.schedule.agents_by_type[Sugar].values():\n",
      "C:\\Users\\DELL\\AppData\\Local\\Temp\\ipykernel_13528\\3195471959.py:139: DeprecationWarning: Because of the shift to using AgentSet, in the future this attribute will return a dict withtype as key as AgentSet as value. Future behavior is available via RandomActivationByType._agents_by_type\n",
      "  corrupt_agents_shuffle = list(self.schedule.agents_by_type[Corrupt_agent].values())\n",
      "C:\\Users\\DELL\\AppData\\Local\\Temp\\ipykernel_13528\\3195471959.py:92: DeprecationWarning: Because of the shift to using AgentSet, in the future this attribute will return a dict withtype as key as AgentSet as value. Future behavior is available via RandomActivationByType._agents_by_type\n",
      "  agents = [agent for agent in self.schedule.agents_by_type[Corrupt_agent].values()]\n",
      "C:\\Users\\DELL\\AppData\\Local\\Temp\\ipykernel_13528\\3195471959.py:147: DeprecationWarning: Because of the shift to using AgentSet, in the future this attribute will return a dict withtype as key as AgentSet as value. Future behavior is available via RandomActivationByType._agents_by_type\n",
      "  for sugar_agent in self.schedule.agents_by_type[Sugar].values():\n",
      "C:\\Users\\DELL\\AppData\\Local\\Temp\\ipykernel_13528\\3195471959.py:139: DeprecationWarning: Because of the shift to using AgentSet, in the future this attribute will return a dict withtype as key as AgentSet as value. Future behavior is available via RandomActivationByType._agents_by_type\n",
      "  corrupt_agents_shuffle = list(self.schedule.agents_by_type[Corrupt_agent].values())\n",
      "C:\\Users\\DELL\\AppData\\Local\\Temp\\ipykernel_13528\\3195471959.py:92: DeprecationWarning: Because of the shift to using AgentSet, in the future this attribute will return a dict withtype as key as AgentSet as value. Future behavior is available via RandomActivationByType._agents_by_type\n",
      "  agents = [agent for agent in self.schedule.agents_by_type[Corrupt_agent].values()]\n"
     ]
    },
    {
     "name": "stdout",
     "output_type": "stream",
     "text": [
      "Agent 2319 with 18.0 has shared 2.0 with 2299 with 24.0\n",
      "Agent 2380 with 30.0 has shared 4.0 with 2316 with 33.0\n",
      "Agent 2354 with 14.0 has shared 2.0 with 2352 with 24.0\n",
      "Agent 2325 with 14.0 has shared 1.0 with 2337 with 11.0\n",
      "Agent 2308 with 13.0 has shared 1.0 with 2306 with 6.0\n",
      "Agent 2315 with 13.0 has shared 1.0 with 2297 with 25.0\n",
      "Agent 2359 with 13.0 has shared 1.0 with 2301 with 6.0\n",
      "Agent 2352 with 21.0 has shared 3.0 with 2354 with 17.0\n",
      "Agent 2337 with 10.0 has shared 1.0 with 2381 with 11.0\n",
      "11\n",
      "Agent 2355 has died after 12 steps\n",
      "Agent 2300 has died after 12 steps\n",
      "Agent 2315 stole 3.0 resources from Agent 2297.\n",
      "Agent 2350 stole 2.0 resources from Agent 2339.\n",
      "Agent 2329 stole 0.0 resources from Agent 2317.\n",
      "Agent 2329 stole 1.0 resources from Agent 2354.\n",
      "Agent 2329 stole 2.0 resources from Agent 2352.\n",
      "Agent 2380 stole 1.0 resources from Agent 2325.\n",
      "Agent 2297 stole 1.0 resources from Agent 2315.\n",
      "Agent 2359 stole 0.0 resources from Agent 2301.\n",
      "Agent 2359 stole 2.0 resources from Agent 2324.\n",
      "Agent 2349 stole 3.0 resources from Agent 2369.\n",
      "Agent 2354 stole 2.0 resources from Agent 2352.\n",
      "Agent 2325 stole 1.0 resources from Agent 2381.\n",
      "Agent 2325 stole 3.0 resources from Agent 2380.\n",
      "Agent 2325 stole 0.0 resources from Agent 2337.\n",
      "Agent 2316 stole 0.0 resources from Agent 2337.\n",
      "Agent 2316 stole 2.0 resources from Agent 2325.\n",
      "Agent 2369 stole 0.0 resources from Agent 2349.\n",
      "Agent 2306 stole 1.0 resources from Agent 2308.\n",
      "Agent 2374 stole 0.0 resources from Agent 2314.\n",
      "Agent 2381 stole 2.0 resources from Agent 2318.\n",
      "Agent 2381 stole 0.0 resources from Agent 2337.\n",
      "Agent 2381 stole 1.0 resources from Agent 2325.\n",
      "Agent 2381 stole 4.0 resources from Agent 2316.\n",
      "Agent 2314 stole 1.0 resources from Agent 2374.\n",
      "12\n"
     ]
    },
    {
     "name": "stderr",
     "output_type": "stream",
     "text": [
      "C:\\Users\\DELL\\AppData\\Local\\Temp\\ipykernel_13528\\3195471959.py:147: DeprecationWarning: Because of the shift to using AgentSet, in the future this attribute will return a dict withtype as key as AgentSet as value. Future behavior is available via RandomActivationByType._agents_by_type\n",
      "  for sugar_agent in self.schedule.agents_by_type[Sugar].values():\n",
      "C:\\Users\\DELL\\AppData\\Local\\Temp\\ipykernel_13528\\3195471959.py:139: DeprecationWarning: Because of the shift to using AgentSet, in the future this attribute will return a dict withtype as key as AgentSet as value. Future behavior is available via RandomActivationByType._agents_by_type\n",
      "  corrupt_agents_shuffle = list(self.schedule.agents_by_type[Corrupt_agent].values())\n",
      "C:\\Users\\DELL\\AppData\\Local\\Temp\\ipykernel_13528\\3195471959.py:92: DeprecationWarning: Because of the shift to using AgentSet, in the future this attribute will return a dict withtype as key as AgentSet as value. Future behavior is available via RandomActivationByType._agents_by_type\n",
      "  agents = [agent for agent in self.schedule.agents_by_type[Corrupt_agent].values()]\n",
      "C:\\Users\\DELL\\AppData\\Local\\Temp\\ipykernel_13528\\3195471959.py:147: DeprecationWarning: Because of the shift to using AgentSet, in the future this attribute will return a dict withtype as key as AgentSet as value. Future behavior is available via RandomActivationByType._agents_by_type\n",
      "  for sugar_agent in self.schedule.agents_by_type[Sugar].values():\n",
      "C:\\Users\\DELL\\AppData\\Local\\Temp\\ipykernel_13528\\3195471959.py:139: DeprecationWarning: Because of the shift to using AgentSet, in the future this attribute will return a dict withtype as key as AgentSet as value. Future behavior is available via RandomActivationByType._agents_by_type\n",
      "  corrupt_agents_shuffle = list(self.schedule.agents_by_type[Corrupt_agent].values())\n",
      "C:\\Users\\DELL\\AppData\\Local\\Temp\\ipykernel_13528\\3195471959.py:92: DeprecationWarning: Because of the shift to using AgentSet, in the future this attribute will return a dict withtype as key as AgentSet as value. Future behavior is available via RandomActivationByType._agents_by_type\n",
      "  agents = [agent for agent in self.schedule.agents_by_type[Corrupt_agent].values()]\n"
     ]
    },
    {
     "name": "stdout",
     "output_type": "stream",
     "text": [
      "Agent 2329 has died after 13 steps\n",
      "Agent 2301 has died after 13 steps\n",
      "Agent 2350 has eaten 5.0 sugar from sugar 670\n",
      "Agent 2304 has eaten 6 sugar from sugar 1867\n",
      "Agent 2380 has eaten 6 sugar from sugar 251\n",
      "Agent 2370 has eaten 6 sugar from sugar 84\n",
      "Agent 2321 has eaten 4.0 sugar from sugar 1584\n",
      "Agent 2360 has eaten 1.0 sugar from sugar 1183\n",
      "Agent 2373 has eaten 6.0 sugar from sugar 1843\n",
      "Agent 2374 has eaten 6 sugar from sugar 1253\n",
      "Agent 2324 has eaten 5.0 sugar from sugar 1174\n",
      "Agent 2359 has eaten 6 sugar from sugar 1261\n",
      "Agent 2352 has eaten 6 sugar from sugar 2049\n",
      "Agent 2337 has eaten 6 sugar from sugar 162\n",
      "Agent 2354 has eaten 6 sugar from sugar 2095\n",
      "Agent 2299 has eaten 6 sugar from sugar 514\n",
      "Agent 2307 has eaten 6 sugar from sugar 1089\n",
      "Agent 2306 has eaten 5.0 sugar from sugar 872\n",
      "Agent 2316 has eaten 6 sugar from sugar 302\n",
      "Agent 2381 has eaten 6 sugar from sugar 116\n",
      "Agent 2369 has eaten 6 sugar from sugar 2167\n",
      "Agent 2356 has eaten 4.0 sugar from sugar 60\n",
      "Agent 2329 has eaten 6 sugar from sugar 2008\n",
      "Agent 2332 has eaten 4.0 sugar from sugar 44\n",
      "Agent 2336 has eaten 6 sugar from sugar 1910\n",
      "Agent 2301 has eaten 6 sugar from sugar 1119\n",
      "Agent 2303 has eaten 5.0 sugar from sugar 462\n",
      "Agent 2297 has eaten 6 sugar from sugar 277\n",
      "Agent 2367 has eaten 6 sugar from sugar 1080\n",
      "Agent 2314 has eaten 6 sugar from sugar 1340\n",
      "Agent 2362 has eaten 6 sugar from sugar 332\n",
      "Agent 2318 has eaten 3.0 sugar from sugar 167\n",
      "Agent 2386 has eaten 5.0 sugar from sugar 427\n",
      "Agent 2383 has eaten 6 sugar from sugar 1315\n",
      "Agent 2341 has eaten 6 sugar from sugar 2238\n",
      "Agent 2308 has eaten 6 sugar from sugar 916\n",
      "Agent 2322 has eaten 6 sugar from sugar 584\n",
      "Agent 2325 has eaten 4.0 sugar from sugar 161\n",
      "Agent 2345 has eaten 6 sugar from sugar 94\n",
      "Agent 2357 has eaten 6 sugar from sugar 1940\n",
      "Agent 2339 has eaten 5.0 sugar from sugar 442\n",
      "Agent 2319 has eaten 6 sugar from sugar 700\n",
      "Agent 2334 has eaten 6 sugar from sugar 1688\n",
      "Agent 2315 has eaten 1.0 sugar from sugar 365\n",
      "13\n",
      "Agent 2318 with 14.0 has shared 1.0 with 2381 with 15.0\n",
      "Agent 2352 with 18.0 has shared 2.0 with 2354 with 20.0\n",
      "Agent 2381 with 14.0 has shared 1.0 with 2337 with 8.0\n",
      "Agent 2381 with 13.0 has shared 1.0 with 2325 with 16.0\n",
      "Agent 2325 with 14.0 has shared 2.0 with 2337 with 10.0\n",
      "Agent 2308 with 11.0 has shared 1.0 with 2306 with 4.0\n",
      "Agent 2319 with 19.0 has shared 2.0 with 2299 with 26.0\n",
      "14\n"
     ]
    },
    {
     "name": "stderr",
     "output_type": "stream",
     "text": [
      "C:\\Users\\DELL\\AppData\\Local\\Temp\\ipykernel_13528\\3195471959.py:147: DeprecationWarning: Because of the shift to using AgentSet, in the future this attribute will return a dict withtype as key as AgentSet as value. Future behavior is available via RandomActivationByType._agents_by_type\n",
      "  for sugar_agent in self.schedule.agents_by_type[Sugar].values():\n",
      "C:\\Users\\DELL\\AppData\\Local\\Temp\\ipykernel_13528\\3195471959.py:139: DeprecationWarning: Because of the shift to using AgentSet, in the future this attribute will return a dict withtype as key as AgentSet as value. Future behavior is available via RandomActivationByType._agents_by_type\n",
      "  corrupt_agents_shuffle = list(self.schedule.agents_by_type[Corrupt_agent].values())\n",
      "C:\\Users\\DELL\\AppData\\Local\\Temp\\ipykernel_13528\\3195471959.py:92: DeprecationWarning: Because of the shift to using AgentSet, in the future this attribute will return a dict withtype as key as AgentSet as value. Future behavior is available via RandomActivationByType._agents_by_type\n",
      "  agents = [agent for agent in self.schedule.agents_by_type[Corrupt_agent].values()]\n",
      "C:\\Users\\DELL\\AppData\\Local\\Temp\\ipykernel_13528\\3195471959.py:147: DeprecationWarning: Because of the shift to using AgentSet, in the future this attribute will return a dict withtype as key as AgentSet as value. Future behavior is available via RandomActivationByType._agents_by_type\n",
      "  for sugar_agent in self.schedule.agents_by_type[Sugar].values():\n",
      "C:\\Users\\DELL\\AppData\\Local\\Temp\\ipykernel_13528\\3195471959.py:139: DeprecationWarning: Because of the shift to using AgentSet, in the future this attribute will return a dict withtype as key as AgentSet as value. Future behavior is available via RandomActivationByType._agents_by_type\n",
      "  corrupt_agents_shuffle = list(self.schedule.agents_by_type[Corrupt_agent].values())\n",
      "C:\\Users\\DELL\\AppData\\Local\\Temp\\ipykernel_13528\\3195471959.py:92: DeprecationWarning: Because of the shift to using AgentSet, in the future this attribute will return a dict withtype as key as AgentSet as value. Future behavior is available via RandomActivationByType._agents_by_type\n",
      "  agents = [agent for agent in self.schedule.agents_by_type[Corrupt_agent].values()]\n"
     ]
    },
    {
     "name": "stdout",
     "output_type": "stream",
     "text": [
      "Agent 2297 stole 1.0 resources from Agent 2315.\n",
      "Agent 2354 stole 2.0 resources from Agent 2352.\n",
      "Agent 2308 stole 0.0 resources from Agent 2306.\n",
      "Agent 2381 stole 1.0 resources from Agent 2325.\n",
      "Agent 2381 stole 0.0 resources from Agent 2337.\n",
      "Agent 2383 stole 0.0 resources from Agent 2360.\n",
      "Agent 2339 stole 3.0 resources from Agent 2350.\n",
      "Agent 2316 stole 1.0 resources from Agent 2325.\n",
      "Agent 2316 stole 0.0 resources from Agent 2337.\n",
      "Agent 2316 stole 1.0 resources from Agent 2381.\n",
      "Agent 2316 stole 2.0 resources from Agent 2339.\n",
      "Agent 2314 stole 1.0 resources from Agent 2374.\n",
      "Agent 2352 stole 2.0 resources from Agent 2354.\n",
      "Agent 2315 stole 3.0 resources from Agent 2297.\n",
      "Agent 2325 stole 0.0 resources from Agent 2337.\n",
      "Agent 2325 stole 1.0 resources from Agent 2381.\n",
      "Agent 2325 stole 4.0 resources from Agent 2316.\n",
      "Agent 2299 stole 0.0 resources from Agent 2362.\n",
      "Agent 2380 stole 4.0 resources from Agent 2316.\n",
      "15\n",
      "Agent 2332 has died after 16 steps\n",
      "Agent 2304 has died after 16 steps\n",
      "Agent 2360 has died after 16 steps\n",
      "Agent 2306 has died after 16 steps\n",
      "Agent 2351 has died after 16 steps\n",
      "Agent 2297 has eaten 6 sugar from sugar 277\n",
      "Agent 2362 has eaten 6 sugar from sugar 332\n",
      "Agent 2332 has eaten 4.0 sugar from sugar 44\n",
      "Agent 2321 has eaten 4.0 sugar from sugar 1584\n",
      "Agent 2356 has eaten 4.0 sugar from sugar 60\n",
      "Agent 2380 has eaten 6 sugar from sugar 251\n",
      "Agent 2315 has eaten 1.0 sugar from sugar 365\n",
      "Agent 2345 has eaten 6 sugar from sugar 94\n",
      "Agent 2369 has eaten 6 sugar from sugar 2167\n",
      "Agent 2322 has eaten 6 sugar from sugar 584\n",
      "Agent 2341 has eaten 6 sugar from sugar 2238\n",
      "Agent 2304 has eaten 6 sugar from sugar 1867\n",
      "Agent 2367 has eaten 6 sugar from sugar 1080\n",
      "Agent 2319 has eaten 6 sugar from sugar 700\n",
      "Agent 2352 has eaten 6 sugar from sugar 2049\n",
      "Agent 2360 has eaten 1.0 sugar from sugar 1183\n",
      "Agent 2334 has eaten 6 sugar from sugar 1688\n",
      "Agent 2324 has eaten 5.0 sugar from sugar 1174\n",
      "Agent 2374 has eaten 6 sugar from sugar 1253\n",
      "Agent 2325 has eaten 4.0 sugar from sugar 161\n",
      "Agent 2383 has eaten 6 sugar from sugar 1315\n",
      "Agent 2337 has eaten 6 sugar from sugar 162\n",
      "Agent 2381 has eaten 6 sugar from sugar 116\n",
      "Agent 2350 has eaten 5.0 sugar from sugar 670\n",
      "Agent 2339 has eaten 5.0 sugar from sugar 442\n",
      "Agent 2373 has eaten 6.0 sugar from sugar 1843\n",
      "Agent 2306 has eaten 5.0 sugar from sugar 872\n",
      "Agent 2354 has eaten 6 sugar from sugar 2095\n",
      "Agent 2307 has eaten 6 sugar from sugar 1089\n",
      "Agent 2357 has eaten 6 sugar from sugar 1940\n",
      "Agent 2316 has eaten 6 sugar from sugar 302\n",
      "Agent 2314 has eaten 6 sugar from sugar 1340\n",
      "Agent 2336 has eaten 6 sugar from sugar 1910\n",
      "Agent 2370 has eaten 6 sugar from sugar 84\n",
      "Agent 2359 has eaten 6 sugar from sugar 1261\n",
      "Agent 2386 has eaten 5.0 sugar from sugar 427\n",
      "Agent 2303 has eaten 5.0 sugar from sugar 462\n",
      "Agent 2318 has eaten 3.0 sugar from sugar 167\n",
      "Agent 2308 has eaten 6 sugar from sugar 916\n",
      "Agent 2299 has eaten 6 sugar from sugar 514\n",
      "16\n"
     ]
    },
    {
     "name": "stderr",
     "output_type": "stream",
     "text": [
      "C:\\Users\\DELL\\AppData\\Local\\Temp\\ipykernel_13528\\3195471959.py:147: DeprecationWarning: Because of the shift to using AgentSet, in the future this attribute will return a dict withtype as key as AgentSet as value. Future behavior is available via RandomActivationByType._agents_by_type\n",
      "  for sugar_agent in self.schedule.agents_by_type[Sugar].values():\n",
      "C:\\Users\\DELL\\AppData\\Local\\Temp\\ipykernel_13528\\3195471959.py:139: DeprecationWarning: Because of the shift to using AgentSet, in the future this attribute will return a dict withtype as key as AgentSet as value. Future behavior is available via RandomActivationByType._agents_by_type\n",
      "  corrupt_agents_shuffle = list(self.schedule.agents_by_type[Corrupt_agent].values())\n",
      "C:\\Users\\DELL\\AppData\\Local\\Temp\\ipykernel_13528\\3195471959.py:92: DeprecationWarning: Because of the shift to using AgentSet, in the future this attribute will return a dict withtype as key as AgentSet as value. Future behavior is available via RandomActivationByType._agents_by_type\n",
      "  agents = [agent for agent in self.schedule.agents_by_type[Corrupt_agent].values()]\n",
      "C:\\Users\\DELL\\AppData\\Local\\Temp\\ipykernel_13528\\3195471959.py:147: DeprecationWarning: Because of the shift to using AgentSet, in the future this attribute will return a dict withtype as key as AgentSet as value. Future behavior is available via RandomActivationByType._agents_by_type\n",
      "  for sugar_agent in self.schedule.agents_by_type[Sugar].values():\n",
      "C:\\Users\\DELL\\AppData\\Local\\Temp\\ipykernel_13528\\3195471959.py:139: DeprecationWarning: Because of the shift to using AgentSet, in the future this attribute will return a dict withtype as key as AgentSet as value. Future behavior is available via RandomActivationByType._agents_by_type\n",
      "  corrupt_agents_shuffle = list(self.schedule.agents_by_type[Corrupt_agent].values())\n",
      "C:\\Users\\DELL\\AppData\\Local\\Temp\\ipykernel_13528\\3195471959.py:92: DeprecationWarning: Because of the shift to using AgentSet, in the future this attribute will return a dict withtype as key as AgentSet as value. Future behavior is available via RandomActivationByType._agents_by_type\n",
      "  agents = [agent for agent in self.schedule.agents_by_type[Corrupt_agent].values()]\n"
     ]
    },
    {
     "name": "stdout",
     "output_type": "stream",
     "text": [
      "Agent 2352 with 19.0 has shared 2.0 with 2354 with 22.0\n",
      "Agent 2325 with 16.0 has shared 2.0 with 2381 with 11.0\n",
      "Agent 2325 with 14.0 has shared 2.0 with 2337 with 9.0\n",
      "Agent 2316 with 29.0 has shared 4.0 with 2380 with 42.0\n",
      "Agent 2359 with 14.0 has shared 1.0 with 2324 with 26.0\n",
      "Agent 2354 with 20.0 has shared 2.0 with 2352 with 21.0\n",
      "Agent 2381 with 10.0 has shared 1.0 with 2337 with 10.0\n",
      "17\n",
      "Agent 2349 stole 3.0 resources from Agent 2369.\n",
      "Agent 2314 stole 1.0 resources from Agent 2374.\n",
      "Agent 2297 stole 1.0 resources from Agent 2315.\n",
      "Agent 2315 stole 3.0 resources from Agent 2297.\n",
      "Agent 2325 stole 0.0 resources from Agent 2381.\n",
      "Agent 2325 stole 5.0 resources from Agent 2380.\n",
      "Agent 2325 stole 0.0 resources from Agent 2337.\n",
      "Agent 2369 stole 0.0 resources from Agent 2349.\n",
      "Agent 2381 stole 4.0 resources from Agent 2380.\n",
      "Agent 2381 stole 0.0 resources from Agent 2337.\n",
      "Agent 2354 stole 2.0 resources from Agent 2352.\n",
      "Agent 2359 stole 3.0 resources from Agent 2324.\n",
      "Agent 2316 stole 0.0 resources from Agent 2337.\n",
      "Agent 2316 stole 2.0 resources from Agent 2325.\n",
      "18\n"
     ]
    },
    {
     "name": "stderr",
     "output_type": "stream",
     "text": [
      "C:\\Users\\DELL\\AppData\\Local\\Temp\\ipykernel_13528\\3195471959.py:147: DeprecationWarning: Because of the shift to using AgentSet, in the future this attribute will return a dict withtype as key as AgentSet as value. Future behavior is available via RandomActivationByType._agents_by_type\n",
      "  for sugar_agent in self.schedule.agents_by_type[Sugar].values():\n",
      "C:\\Users\\DELL\\AppData\\Local\\Temp\\ipykernel_13528\\3195471959.py:139: DeprecationWarning: Because of the shift to using AgentSet, in the future this attribute will return a dict withtype as key as AgentSet as value. Future behavior is available via RandomActivationByType._agents_by_type\n",
      "  corrupt_agents_shuffle = list(self.schedule.agents_by_type[Corrupt_agent].values())\n",
      "C:\\Users\\DELL\\AppData\\Local\\Temp\\ipykernel_13528\\3195471959.py:92: DeprecationWarning: Because of the shift to using AgentSet, in the future this attribute will return a dict withtype as key as AgentSet as value. Future behavior is available via RandomActivationByType._agents_by_type\n",
      "  agents = [agent for agent in self.schedule.agents_by_type[Corrupt_agent].values()]\n",
      "C:\\Users\\DELL\\AppData\\Local\\Temp\\ipykernel_13528\\3195471959.py:147: DeprecationWarning: Because of the shift to using AgentSet, in the future this attribute will return a dict withtype as key as AgentSet as value. Future behavior is available via RandomActivationByType._agents_by_type\n",
      "  for sugar_agent in self.schedule.agents_by_type[Sugar].values():\n",
      "C:\\Users\\DELL\\AppData\\Local\\Temp\\ipykernel_13528\\3195471959.py:139: DeprecationWarning: Because of the shift to using AgentSet, in the future this attribute will return a dict withtype as key as AgentSet as value. Future behavior is available via RandomActivationByType._agents_by_type\n",
      "  corrupt_agents_shuffle = list(self.schedule.agents_by_type[Corrupt_agent].values())\n",
      "C:\\Users\\DELL\\AppData\\Local\\Temp\\ipykernel_13528\\3195471959.py:92: DeprecationWarning: Because of the shift to using AgentSet, in the future this attribute will return a dict withtype as key as AgentSet as value. Future behavior is available via RandomActivationByType._agents_by_type\n",
      "  agents = [agent for agent in self.schedule.agents_by_type[Corrupt_agent].values()]\n"
     ]
    },
    {
     "name": "stdout",
     "output_type": "stream",
     "text": [
      "Agent 2317 has died after 19 steps\n",
      "Agent 2357 has died after 19 steps\n",
      "Agent 2362 has died after 19 steps\n",
      "Agent 2314 has died after 19 steps\n",
      "Agent 2381 has eaten 6 sugar from sugar 116\n",
      "Agent 2297 has eaten 6 sugar from sugar 277\n",
      "Agent 2383 has eaten 6 sugar from sugar 1315\n",
      "Agent 2373 has eaten 6.0 sugar from sugar 1843\n",
      "Agent 2352 has eaten 6 sugar from sugar 2049\n",
      "Agent 2315 has eaten 1.0 sugar from sugar 365\n",
      "Agent 2337 has eaten 6 sugar from sugar 162\n",
      "Agent 2354 has eaten 6 sugar from sugar 2095\n",
      "Agent 2318 has eaten 3.0 sugar from sugar 167\n",
      "Agent 2336 has eaten 6 sugar from sugar 1910\n",
      "Agent 2386 has eaten 5.0 sugar from sugar 427\n",
      "Agent 2316 has eaten 6 sugar from sugar 302\n",
      "Agent 2321 has eaten 4.0 sugar from sugar 1584\n",
      "Agent 2324 has eaten 5.0 sugar from sugar 1174\n",
      "Agent 2319 has eaten 6 sugar from sugar 700\n",
      "Agent 2341 has eaten 6 sugar from sugar 2238\n",
      "Agent 2370 has eaten 6 sugar from sugar 84\n",
      "Agent 2322 has eaten 6 sugar from sugar 584\n",
      "Agent 2374 has eaten 6 sugar from sugar 1253\n",
      "Agent 2303 has eaten 5.0 sugar from sugar 462\n",
      "Agent 2356 has eaten 4.0 sugar from sugar 60\n",
      "Agent 2308 has eaten 6 sugar from sugar 916\n",
      "Agent 2307 has eaten 6 sugar from sugar 1089\n",
      "Agent 2350 has eaten 5.0 sugar from sugar 670\n",
      "Agent 2367 has eaten 6 sugar from sugar 1080\n",
      "Agent 2345 has eaten 6 sugar from sugar 94\n",
      "Agent 2299 has eaten 6 sugar from sugar 514\n",
      "Agent 2357 has eaten 6 sugar from sugar 1940\n",
      "Agent 2380 has eaten 6 sugar from sugar 251\n",
      "Agent 2325 has eaten 4.0 sugar from sugar 161\n",
      "Agent 2339 has eaten 5.0 sugar from sugar 442\n",
      "Agent 2334 has eaten 6 sugar from sugar 1688\n",
      "Agent 2362 has eaten 6 sugar from sugar 332\n",
      "Agent 2359 has eaten 6 sugar from sugar 1261\n",
      "Agent 2314 has eaten 6 sugar from sugar 1340\n",
      "Agent 2369 has eaten 6 sugar from sugar 2167\n",
      "19\n",
      "Agent 2325 with 16.0 has shared 2.0 with 2381 with 13.0\n",
      "Agent 2316 with 30.0 has shared 4.0 with 2380 with 40.0\n",
      "Agent 2354 with 20.0 has shared 2.0 with 2352 with 24.0\n",
      "Agent 2381 with 12.0 has shared 1.0 with 2337 with 8.0\n",
      "Agent 2381 with 11.0 has shared 1.0 with 2318 with 15.0\n",
      "20\n"
     ]
    },
    {
     "name": "stderr",
     "output_type": "stream",
     "text": [
      "C:\\Users\\DELL\\AppData\\Local\\Temp\\ipykernel_13528\\3195471959.py:147: DeprecationWarning: Because of the shift to using AgentSet, in the future this attribute will return a dict withtype as key as AgentSet as value. Future behavior is available via RandomActivationByType._agents_by_type\n",
      "  for sugar_agent in self.schedule.agents_by_type[Sugar].values():\n",
      "C:\\Users\\DELL\\AppData\\Local\\Temp\\ipykernel_13528\\3195471959.py:139: DeprecationWarning: Because of the shift to using AgentSet, in the future this attribute will return a dict withtype as key as AgentSet as value. Future behavior is available via RandomActivationByType._agents_by_type\n",
      "  corrupt_agents_shuffle = list(self.schedule.agents_by_type[Corrupt_agent].values())\n",
      "C:\\Users\\DELL\\AppData\\Local\\Temp\\ipykernel_13528\\3195471959.py:92: DeprecationWarning: Because of the shift to using AgentSet, in the future this attribute will return a dict withtype as key as AgentSet as value. Future behavior is available via RandomActivationByType._agents_by_type\n",
      "  agents = [agent for agent in self.schedule.agents_by_type[Corrupt_agent].values()]\n",
      "C:\\Users\\DELL\\AppData\\Local\\Temp\\ipykernel_13528\\3195471959.py:147: DeprecationWarning: Because of the shift to using AgentSet, in the future this attribute will return a dict withtype as key as AgentSet as value. Future behavior is available via RandomActivationByType._agents_by_type\n",
      "  for sugar_agent in self.schedule.agents_by_type[Sugar].values():\n",
      "C:\\Users\\DELL\\AppData\\Local\\Temp\\ipykernel_13528\\3195471959.py:139: DeprecationWarning: Because of the shift to using AgentSet, in the future this attribute will return a dict withtype as key as AgentSet as value. Future behavior is available via RandomActivationByType._agents_by_type\n",
      "  corrupt_agents_shuffle = list(self.schedule.agents_by_type[Corrupt_agent].values())\n",
      "C:\\Users\\DELL\\AppData\\Local\\Temp\\ipykernel_13528\\3195471959.py:92: DeprecationWarning: Because of the shift to using AgentSet, in the future this attribute will return a dict withtype as key as AgentSet as value. Future behavior is available via RandomActivationByType._agents_by_type\n",
      "  agents = [agent for agent in self.schedule.agents_by_type[Corrupt_agent].values()]\n"
     ]
    },
    {
     "name": "stdout",
     "output_type": "stream",
     "text": [
      "Agent 2319 stole 3.0 resources from Agent 2299.\n",
      "Agent 2337 stole 1.0 resources from Agent 2381.\n",
      "Agent 2325 stole 0.0 resources from Agent 2381.\n",
      "Agent 2325 stole 0.0 resources from Agent 2337.\n",
      "Agent 2325 stole 4.0 resources from Agent 2380.\n",
      "Agent 2325 stole 3.0 resources from Agent 2316.\n",
      "Agent 2315 stole 3.0 resources from Agent 2297.\n",
      "Agent 2352 stole 2.0 resources from Agent 2354.\n",
      "Agent 2316 stole 0.0 resources from Agent 2381.\n",
      "Agent 2316 stole 0.0 resources from Agent 2337.\n",
      "Agent 2316 stole 4.0 resources from Agent 2380.\n",
      "Agent 2316 stole 2.0 resources from Agent 2325.\n",
      "Agent 2380 stole 4.0 resources from Agent 2316.\n",
      "Agent 2381 stole 0.0 resources from Agent 2337.\n",
      "Agent 2381 stole 4.0 resources from Agent 2380.\n",
      "Agent 2381 stole 3.0 resources from Agent 2316.\n",
      "Agent 2381 stole 2.0 resources from Agent 2325.\n",
      "Agent 2297 stole 1.0 resources from Agent 2315.\n",
      "Agent 2359 stole 3.0 resources from Agent 2324.\n",
      "21\n",
      "Agent 2321 has died after 22 steps\n",
      "Agent 2349 has died after 22 steps\n",
      "Agent 2367 has eaten 6 sugar from sugar 1080\n",
      "Agent 2374 has eaten 6 sugar from sugar 1253\n",
      "Agent 2345 has eaten 6 sugar from sugar 94\n",
      "Agent 2352 has eaten 6 sugar from sugar 2049\n",
      "Agent 2354 has eaten 6 sugar from sugar 2095\n",
      "Agent 2303 has eaten 5.0 sugar from sugar 462\n",
      "Agent 2336 has eaten 6 sugar from sugar 1910\n",
      "Agent 2315 has eaten 1.0 sugar from sugar 365\n",
      "Agent 2337 has eaten 6 sugar from sugar 162\n",
      "Agent 2322 has eaten 6 sugar from sugar 584\n",
      "Agent 2319 has eaten 6 sugar from sugar 700\n",
      "Agent 2297 has eaten 6 sugar from sugar 277\n",
      "Agent 2369 has eaten 6 sugar from sugar 2167\n",
      "Agent 2299 has eaten 6 sugar from sugar 514\n",
      "Agent 2324 has eaten 5.0 sugar from sugar 1174\n",
      "Agent 2373 has eaten 6.0 sugar from sugar 1843\n",
      "Agent 2350 has eaten 5.0 sugar from sugar 670\n",
      "Agent 2321 has eaten 4.0 sugar from sugar 1584\n",
      "Agent 2341 has eaten 6 sugar from sugar 2238\n",
      "Agent 2334 has eaten 6 sugar from sugar 1688\n",
      "Agent 2308 has eaten 6 sugar from sugar 916\n",
      "Agent 2325 has eaten 4.0 sugar from sugar 161\n",
      "Agent 2370 has eaten 6 sugar from sugar 84\n",
      "Agent 2359 has eaten 6 sugar from sugar 1261\n",
      "Agent 2381 has eaten 6 sugar from sugar 116\n",
      "Agent 2386 has eaten 5.0 sugar from sugar 427\n",
      "Agent 2383 has eaten 6 sugar from sugar 1315\n",
      "Agent 2380 has eaten 6 sugar from sugar 251\n",
      "Agent 2339 has eaten 5.0 sugar from sugar 442\n",
      "Agent 2307 has eaten 6 sugar from sugar 1089\n",
      "Agent 2316 has eaten 6 sugar from sugar 302\n",
      "Agent 2356 has eaten 4.0 sugar from sugar 60\n",
      "Agent 2318 has eaten 3.0 sugar from sugar 167\n",
      "22\n"
     ]
    },
    {
     "name": "stderr",
     "output_type": "stream",
     "text": [
      "C:\\Users\\DELL\\AppData\\Local\\Temp\\ipykernel_13528\\3195471959.py:147: DeprecationWarning: Because of the shift to using AgentSet, in the future this attribute will return a dict withtype as key as AgentSet as value. Future behavior is available via RandomActivationByType._agents_by_type\n",
      "  for sugar_agent in self.schedule.agents_by_type[Sugar].values():\n",
      "C:\\Users\\DELL\\AppData\\Local\\Temp\\ipykernel_13528\\3195471959.py:139: DeprecationWarning: Because of the shift to using AgentSet, in the future this attribute will return a dict withtype as key as AgentSet as value. Future behavior is available via RandomActivationByType._agents_by_type\n",
      "  corrupt_agents_shuffle = list(self.schedule.agents_by_type[Corrupt_agent].values())\n",
      "C:\\Users\\DELL\\AppData\\Local\\Temp\\ipykernel_13528\\3195471959.py:92: DeprecationWarning: Because of the shift to using AgentSet, in the future this attribute will return a dict withtype as key as AgentSet as value. Future behavior is available via RandomActivationByType._agents_by_type\n",
      "  agents = [agent for agent in self.schedule.agents_by_type[Corrupt_agent].values()]\n"
     ]
    },
    {
     "name": "stdout",
     "output_type": "stream",
     "text": [
      "Agent 2299 with 21.0 has shared 2.0 with 2319 with 33.0\n",
      "Agent 2381 with 14.0 has shared 2.0 with 2318 with 17.0\n",
      "Agent 2381 with 13.0 has shared 1.0 with 2325 with 21.0\n",
      "Agent 2381 with 12.0 has shared 1.0 with 2337 with 7.0\n",
      "23\n"
     ]
    },
    {
     "name": "stderr",
     "output_type": "stream",
     "text": [
      "C:\\Users\\DELL\\AppData\\Local\\Temp\\ipykernel_13528\\3195471959.py:147: DeprecationWarning: Because of the shift to using AgentSet, in the future this attribute will return a dict withtype as key as AgentSet as value. Future behavior is available via RandomActivationByType._agents_by_type\n",
      "  for sugar_agent in self.schedule.agents_by_type[Sugar].values():\n",
      "C:\\Users\\DELL\\AppData\\Local\\Temp\\ipykernel_13528\\3195471959.py:139: DeprecationWarning: Because of the shift to using AgentSet, in the future this attribute will return a dict withtype as key as AgentSet as value. Future behavior is available via RandomActivationByType._agents_by_type\n",
      "  corrupt_agents_shuffle = list(self.schedule.agents_by_type[Corrupt_agent].values())\n",
      "C:\\Users\\DELL\\AppData\\Local\\Temp\\ipykernel_13528\\3195471959.py:92: DeprecationWarning: Because of the shift to using AgentSet, in the future this attribute will return a dict withtype as key as AgentSet as value. Future behavior is available via RandomActivationByType._agents_by_type\n",
      "  agents = [agent for agent in self.schedule.agents_by_type[Corrupt_agent].values()]\n",
      "C:\\Users\\DELL\\AppData\\Local\\Temp\\ipykernel_13528\\3195471959.py:147: DeprecationWarning: Because of the shift to using AgentSet, in the future this attribute will return a dict withtype as key as AgentSet as value. Future behavior is available via RandomActivationByType._agents_by_type\n",
      "  for sugar_agent in self.schedule.agents_by_type[Sugar].values():\n",
      "C:\\Users\\DELL\\AppData\\Local\\Temp\\ipykernel_13528\\3195471959.py:139: DeprecationWarning: Because of the shift to using AgentSet, in the future this attribute will return a dict withtype as key as AgentSet as value. Future behavior is available via RandomActivationByType._agents_by_type\n",
      "  corrupt_agents_shuffle = list(self.schedule.agents_by_type[Corrupt_agent].values())\n",
      "C:\\Users\\DELL\\AppData\\Local\\Temp\\ipykernel_13528\\3195471959.py:92: DeprecationWarning: Because of the shift to using AgentSet, in the future this attribute will return a dict withtype as key as AgentSet as value. Future behavior is available via RandomActivationByType._agents_by_type\n",
      "  agents = [agent for agent in self.schedule.agents_by_type[Corrupt_agent].values()]\n"
     ]
    },
    {
     "name": "stdout",
     "output_type": "stream",
     "text": [
      "Agent 2319 stole 2.0 resources from Agent 2299.\n",
      "Agent 2315 stole 3.0 resources from Agent 2297.\n",
      "Agent 2325 stole 0.0 resources from Agent 2337.\n",
      "Agent 2325 stole 4.0 resources from Agent 2380.\n",
      "Agent 2359 stole 2.0 resources from Agent 2324.\n",
      "Agent 2297 stole 1.0 resources from Agent 2315.\n",
      "Agent 2339 stole 3.0 resources from Agent 2316.\n",
      "Agent 2337 stole 1.0 resources from Agent 2381.\n",
      "Agent 2352 stole 2.0 resources from Agent 2354.\n",
      "Agent 2381 stole 3.0 resources from Agent 2325.\n",
      "Agent 2381 stole 0.0 resources from Agent 2337.\n",
      "Agent 2316 stole 1.0 resources from Agent 2381.\n",
      "Agent 2316 stole 0.0 resources from Agent 2337.\n",
      "Agent 2316 stole 3.0 resources from Agent 2380.\n",
      "24\n",
      "Agent 2318 has eaten 3.0 sugar from sugar 167\n",
      "Agent 2303 has eaten 5.0 sugar from sugar 462\n",
      "Agent 2334 has eaten 6 sugar from sugar 1688\n",
      "Agent 2370 has eaten 6 sugar from sugar 84\n",
      "Agent 2352 has eaten 6 sugar from sugar 2049\n",
      "Agent 2336 has eaten 6 sugar from sugar 1910\n",
      "Agent 2383 has eaten 6 sugar from sugar 1315\n",
      "Agent 2324 has eaten 5.0 sugar from sugar 1174\n",
      "Agent 2374 has eaten 6 sugar from sugar 1253\n",
      "Agent 2369 has eaten 6 sugar from sugar 2167\n",
      "Agent 2350 has eaten 5.0 sugar from sugar 670\n",
      "Agent 2345 has eaten 6 sugar from sugar 94\n",
      "Agent 2381 has eaten 6 sugar from sugar 116\n",
      "Agent 2322 has eaten 6 sugar from sugar 584\n",
      "Agent 2299 has eaten 6 sugar from sugar 514\n",
      "Agent 2380 has eaten 6 sugar from sugar 251\n",
      "Agent 2315 has eaten 1.0 sugar from sugar 365\n",
      "Agent 2373 has eaten 6.0 sugar from sugar 1843\n",
      "Agent 2316 has eaten 6 sugar from sugar 302\n",
      "Agent 2297 has eaten 6 sugar from sugar 277\n",
      "Agent 2367 has eaten 6 sugar from sugar 1080\n",
      "Agent 2308 has eaten 6 sugar from sugar 916\n",
      "Agent 2307 has eaten 6 sugar from sugar 1089\n",
      "Agent 2319 has eaten 6 sugar from sugar 700\n",
      "Agent 2386 has eaten 5.0 sugar from sugar 427\n",
      "Agent 2354 has eaten 6 sugar from sugar 2095\n",
      "Agent 2339 has eaten 5.0 sugar from sugar 442\n",
      "Agent 2325 has eaten 4.0 sugar from sugar 161\n",
      "Agent 2359 has eaten 6 sugar from sugar 1261\n",
      "Agent 2356 has eaten 4.0 sugar from sugar 60\n",
      "Agent 2341 has eaten 6 sugar from sugar 2238\n",
      "Agent 2337 has eaten 6 sugar from sugar 162\n",
      "25\n"
     ]
    },
    {
     "name": "stderr",
     "output_type": "stream",
     "text": [
      "C:\\Users\\DELL\\AppData\\Local\\Temp\\ipykernel_13528\\3195471959.py:147: DeprecationWarning: Because of the shift to using AgentSet, in the future this attribute will return a dict withtype as key as AgentSet as value. Future behavior is available via RandomActivationByType._agents_by_type\n",
      "  for sugar_agent in self.schedule.agents_by_type[Sugar].values():\n",
      "C:\\Users\\DELL\\AppData\\Local\\Temp\\ipykernel_13528\\3195471959.py:139: DeprecationWarning: Because of the shift to using AgentSet, in the future this attribute will return a dict withtype as key as AgentSet as value. Future behavior is available via RandomActivationByType._agents_by_type\n",
      "  corrupt_agents_shuffle = list(self.schedule.agents_by_type[Corrupt_agent].values())\n",
      "C:\\Users\\DELL\\AppData\\Local\\Temp\\ipykernel_13528\\3195471959.py:92: DeprecationWarning: Because of the shift to using AgentSet, in the future this attribute will return a dict withtype as key as AgentSet as value. Future behavior is available via RandomActivationByType._agents_by_type\n",
      "  agents = [agent for agent in self.schedule.agents_by_type[Corrupt_agent].values()]\n",
      "C:\\Users\\DELL\\AppData\\Local\\Temp\\ipykernel_13528\\3195471959.py:147: DeprecationWarning: Because of the shift to using AgentSet, in the future this attribute will return a dict withtype as key as AgentSet as value. Future behavior is available via RandomActivationByType._agents_by_type\n",
      "  for sugar_agent in self.schedule.agents_by_type[Sugar].values():\n",
      "C:\\Users\\DELL\\AppData\\Local\\Temp\\ipykernel_13528\\3195471959.py:139: DeprecationWarning: Because of the shift to using AgentSet, in the future this attribute will return a dict withtype as key as AgentSet as value. Future behavior is available via RandomActivationByType._agents_by_type\n",
      "  corrupt_agents_shuffle = list(self.schedule.agents_by_type[Corrupt_agent].values())\n",
      "C:\\Users\\DELL\\AppData\\Local\\Temp\\ipykernel_13528\\3195471959.py:92: DeprecationWarning: Because of the shift to using AgentSet, in the future this attribute will return a dict withtype as key as AgentSet as value. Future behavior is available via RandomActivationByType._agents_by_type\n",
      "  agents = [agent for agent in self.schedule.agents_by_type[Corrupt_agent].values()]\n"
     ]
    },
    {
     "name": "stdout",
     "output_type": "stream",
     "text": [
      "Agent 2316 with 29.0 has shared 4.0 with 2325 with 27.0\n",
      "Agent 2325 with 24.0 has shared 3.0 with 2316 with 32.0\n",
      "26\n",
      "Agent 2325 stole 0.0 resources from Agent 2337.\n",
      "Agent 2297 stole 1.0 resources from Agent 2315.\n",
      "Agent 2299 stole 4.0 resources from Agent 2319.\n",
      "Agent 2316 stole 2.0 resources from Agent 2325.\n",
      "Agent 2316 stole 0.0 resources from Agent 2337.\n",
      "Agent 2316 stole 3.0 resources from Agent 2380.\n",
      "Agent 2359 stole 2.0 resources from Agent 2324.\n",
      "Agent 2381 stole 2.0 resources from Agent 2325.\n",
      "Agent 2381 stole 2.0 resources from Agent 2318.\n",
      "Agent 2381 stole 0.0 resources from Agent 2337.\n",
      "27\n"
     ]
    },
    {
     "name": "stderr",
     "output_type": "stream",
     "text": [
      "C:\\Users\\DELL\\AppData\\Local\\Temp\\ipykernel_13528\\3195471959.py:147: DeprecationWarning: Because of the shift to using AgentSet, in the future this attribute will return a dict withtype as key as AgentSet as value. Future behavior is available via RandomActivationByType._agents_by_type\n",
      "  for sugar_agent in self.schedule.agents_by_type[Sugar].values():\n",
      "C:\\Users\\DELL\\AppData\\Local\\Temp\\ipykernel_13528\\3195471959.py:139: DeprecationWarning: Because of the shift to using AgentSet, in the future this attribute will return a dict withtype as key as AgentSet as value. Future behavior is available via RandomActivationByType._agents_by_type\n",
      "  corrupt_agents_shuffle = list(self.schedule.agents_by_type[Corrupt_agent].values())\n",
      "C:\\Users\\DELL\\AppData\\Local\\Temp\\ipykernel_13528\\3195471959.py:92: DeprecationWarning: Because of the shift to using AgentSet, in the future this attribute will return a dict withtype as key as AgentSet as value. Future behavior is available via RandomActivationByType._agents_by_type\n",
      "  agents = [agent for agent in self.schedule.agents_by_type[Corrupt_agent].values()]\n"
     ]
    },
    {
     "name": "stdout",
     "output_type": "stream",
     "text": [
      "Agent 2337 has died after 28 steps\n",
      "Agent 2386 has eaten 5.0 sugar from sugar 427\n",
      "Agent 2369 has eaten 6 sugar from sugar 2167\n",
      "Agent 2319 has eaten 6 sugar from sugar 700\n",
      "Agent 2373 has eaten 6.0 sugar from sugar 1843\n",
      "Agent 2297 has eaten 6 sugar from sugar 277\n",
      "Agent 2380 has eaten 6 sugar from sugar 251\n",
      "Agent 2308 has eaten 6 sugar from sugar 916\n",
      "Agent 2299 has eaten 6 sugar from sugar 514\n",
      "Agent 2381 has eaten 6 sugar from sugar 116\n",
      "Agent 2374 has eaten 6 sugar from sugar 1253\n",
      "Agent 2318 has eaten 3.0 sugar from sugar 167\n",
      "Agent 2356 has eaten 4.0 sugar from sugar 60\n",
      "Agent 2322 has eaten 6 sugar from sugar 584\n",
      "Agent 2345 has eaten 6 sugar from sugar 94\n",
      "Agent 2315 has eaten 1.0 sugar from sugar 365\n",
      "Agent 2341 has eaten 6 sugar from sugar 2238\n",
      "Agent 2336 has eaten 6 sugar from sugar 1910\n",
      "Agent 2303 has eaten 5.0 sugar from sugar 462\n",
      "Agent 2352 has eaten 6 sugar from sugar 2049\n",
      "Agent 2325 has eaten 4.0 sugar from sugar 161\n",
      "Agent 2337 has eaten 6 sugar from sugar 162\n",
      "Agent 2383 has eaten 6 sugar from sugar 1315\n",
      "Agent 2354 has eaten 6 sugar from sugar 2095\n",
      "Agent 2339 has eaten 5.0 sugar from sugar 442\n",
      "Agent 2334 has eaten 6 sugar from sugar 1688\n",
      "Agent 2350 has eaten 5.0 sugar from sugar 670\n",
      "Agent 2359 has eaten 6 sugar from sugar 1261\n",
      "Agent 2324 has eaten 5.0 sugar from sugar 1174\n",
      "Agent 2307 has eaten 6 sugar from sugar 1089\n",
      "Agent 2370 has eaten 6 sugar from sugar 84\n",
      "Agent 2367 has eaten 6 sugar from sugar 1080\n",
      "Agent 2316 has eaten 6 sugar from sugar 302\n",
      "28\n"
     ]
    },
    {
     "name": "stderr",
     "output_type": "stream",
     "text": [
      "C:\\Users\\DELL\\AppData\\Local\\Temp\\ipykernel_13528\\3195471959.py:147: DeprecationWarning: Because of the shift to using AgentSet, in the future this attribute will return a dict withtype as key as AgentSet as value. Future behavior is available via RandomActivationByType._agents_by_type\n",
      "  for sugar_agent in self.schedule.agents_by_type[Sugar].values():\n",
      "C:\\Users\\DELL\\AppData\\Local\\Temp\\ipykernel_13528\\3195471959.py:139: DeprecationWarning: Because of the shift to using AgentSet, in the future this attribute will return a dict withtype as key as AgentSet as value. Future behavior is available via RandomActivationByType._agents_by_type\n",
      "  corrupt_agents_shuffle = list(self.schedule.agents_by_type[Corrupt_agent].values())\n",
      "C:\\Users\\DELL\\AppData\\Local\\Temp\\ipykernel_13528\\3195471959.py:92: DeprecationWarning: Because of the shift to using AgentSet, in the future this attribute will return a dict withtype as key as AgentSet as value. Future behavior is available via RandomActivationByType._agents_by_type\n",
      "  agents = [agent for agent in self.schedule.agents_by_type[Corrupt_agent].values()]\n"
     ]
    },
    {
     "name": "stdout",
     "output_type": "stream",
     "text": [
      "Agent 2380 with 28.0 has shared 3.0 with 2325 with 24.0\n",
      "Agent 2381 with 10.0 has shared 1.0 with 2318 with 16.0\n",
      "Agent 2325 with 21.0 has shared 3.0 with 2380 with 31.0\n",
      "29\n"
     ]
    },
    {
     "name": "stderr",
     "output_type": "stream",
     "text": [
      "C:\\Users\\DELL\\AppData\\Local\\Temp\\ipykernel_13528\\3195471959.py:147: DeprecationWarning: Because of the shift to using AgentSet, in the future this attribute will return a dict withtype as key as AgentSet as value. Future behavior is available via RandomActivationByType._agents_by_type\n",
      "  for sugar_agent in self.schedule.agents_by_type[Sugar].values():\n",
      "C:\\Users\\DELL\\AppData\\Local\\Temp\\ipykernel_13528\\3195471959.py:139: DeprecationWarning: Because of the shift to using AgentSet, in the future this attribute will return a dict withtype as key as AgentSet as value. Future behavior is available via RandomActivationByType._agents_by_type\n",
      "  corrupt_agents_shuffle = list(self.schedule.agents_by_type[Corrupt_agent].values())\n",
      "C:\\Users\\DELL\\AppData\\Local\\Temp\\ipykernel_13528\\3195471959.py:92: DeprecationWarning: Because of the shift to using AgentSet, in the future this attribute will return a dict withtype as key as AgentSet as value. Future behavior is available via RandomActivationByType._agents_by_type\n",
      "  agents = [agent for agent in self.schedule.agents_by_type[Corrupt_agent].values()]\n",
      "C:\\Users\\DELL\\AppData\\Local\\Temp\\ipykernel_13528\\3195471959.py:147: DeprecationWarning: Because of the shift to using AgentSet, in the future this attribute will return a dict withtype as key as AgentSet as value. Future behavior is available via RandomActivationByType._agents_by_type\n",
      "  for sugar_agent in self.schedule.agents_by_type[Sugar].values():\n",
      "C:\\Users\\DELL\\AppData\\Local\\Temp\\ipykernel_13528\\3195471959.py:139: DeprecationWarning: Because of the shift to using AgentSet, in the future this attribute will return a dict withtype as key as AgentSet as value. Future behavior is available via RandomActivationByType._agents_by_type\n",
      "  corrupt_agents_shuffle = list(self.schedule.agents_by_type[Corrupt_agent].values())\n",
      "C:\\Users\\DELL\\AppData\\Local\\Temp\\ipykernel_13528\\3195471959.py:92: DeprecationWarning: Because of the shift to using AgentSet, in the future this attribute will return a dict withtype as key as AgentSet as value. Future behavior is available via RandomActivationByType._agents_by_type\n",
      "  agents = [agent for agent in self.schedule.agents_by_type[Corrupt_agent].values()]\n"
     ]
    },
    {
     "name": "stdout",
     "output_type": "stream",
     "text": [
      "Agent 2354 stole 4.0 resources from Agent 2352.\n",
      "Agent 2325 stole 0.0 resources from Agent 2381.\n",
      "Agent 2325 stole 3.0 resources from Agent 2380.\n",
      "Agent 2319 stole 2.0 resources from Agent 2299.\n",
      "Agent 2381 stole 3.0 resources from Agent 2380.\n",
      "Agent 2380 stole 4.0 resources from Agent 2316.\n",
      "Agent 2316 stole 3.0 resources from Agent 2380.\n",
      "Agent 2316 stole 2.0 resources from Agent 2325.\n",
      "Agent 2297 stole 1.0 resources from Agent 2315.\n",
      "30\n",
      "Agent 2303 has eaten 5.0 sugar from sugar 462\n",
      "Agent 2334 has eaten 6 sugar from sugar 1688\n",
      "Agent 2373 has eaten 6.0 sugar from sugar 1843\n",
      "Agent 2352 has eaten 6 sugar from sugar 2049\n",
      "Agent 2308 has eaten 6 sugar from sugar 916\n",
      "Agent 2369 has eaten 6 sugar from sugar 2167\n",
      "Agent 2350 has eaten 5.0 sugar from sugar 670\n",
      "Agent 2374 has eaten 6 sugar from sugar 1253\n",
      "Agent 2381 has eaten 6 sugar from sugar 116\n",
      "Agent 2322 has eaten 6 sugar from sugar 584\n",
      "Agent 2359 has eaten 6 sugar from sugar 1261\n",
      "Agent 2341 has eaten 6 sugar from sugar 2238\n",
      "Agent 2319 has eaten 6 sugar from sugar 700\n",
      "Agent 2339 has eaten 5.0 sugar from sugar 442\n",
      "Agent 2325 has eaten 4.0 sugar from sugar 161\n",
      "Agent 2316 has eaten 6 sugar from sugar 302\n",
      "Agent 2307 has eaten 6 sugar from sugar 1089\n",
      "Agent 2380 has eaten 6 sugar from sugar 251\n",
      "Agent 2386 has eaten 5.0 sugar from sugar 427\n",
      "Agent 2315 has eaten 1.0 sugar from sugar 365\n",
      "Agent 2356 has eaten 4.0 sugar from sugar 60\n",
      "Agent 2354 has eaten 6 sugar from sugar 2095\n",
      "Agent 2345 has eaten 6 sugar from sugar 94\n",
      "Agent 2324 has eaten 5.0 sugar from sugar 1174\n",
      "Agent 2367 has eaten 6 sugar from sugar 1080\n",
      "Agent 2299 has eaten 6 sugar from sugar 514\n",
      "Agent 2370 has eaten 6 sugar from sugar 84\n",
      "Agent 2297 has eaten 6 sugar from sugar 277\n",
      "Agent 2336 has eaten 6 sugar from sugar 1910\n",
      "Agent 2383 has eaten 6 sugar from sugar 1315\n",
      "Agent 2318 has eaten 3.0 sugar from sugar 167\n",
      "31\n"
     ]
    },
    {
     "name": "stderr",
     "output_type": "stream",
     "text": [
      "C:\\Users\\DELL\\AppData\\Local\\Temp\\ipykernel_13528\\3195471959.py:147: DeprecationWarning: Because of the shift to using AgentSet, in the future this attribute will return a dict withtype as key as AgentSet as value. Future behavior is available via RandomActivationByType._agents_by_type\n",
      "  for sugar_agent in self.schedule.agents_by_type[Sugar].values():\n",
      "C:\\Users\\DELL\\AppData\\Local\\Temp\\ipykernel_13528\\3195471959.py:139: DeprecationWarning: Because of the shift to using AgentSet, in the future this attribute will return a dict withtype as key as AgentSet as value. Future behavior is available via RandomActivationByType._agents_by_type\n",
      "  corrupt_agents_shuffle = list(self.schedule.agents_by_type[Corrupt_agent].values())\n",
      "C:\\Users\\DELL\\AppData\\Local\\Temp\\ipykernel_13528\\3195471959.py:92: DeprecationWarning: Because of the shift to using AgentSet, in the future this attribute will return a dict withtype as key as AgentSet as value. Future behavior is available via RandomActivationByType._agents_by_type\n",
      "  agents = [agent for agent in self.schedule.agents_by_type[Corrupt_agent].values()]\n"
     ]
    },
    {
     "name": "stdout",
     "output_type": "stream",
     "text": [
      "Agent 2325 with 21.0 has shared 2.0 with 2380 with 31.0\n",
      "Agent 2339 with 33.0 has shared 4.0 with 2350 with 38.0\n",
      "32\n"
     ]
    },
    {
     "name": "stderr",
     "output_type": "stream",
     "text": [
      "C:\\Users\\DELL\\AppData\\Local\\Temp\\ipykernel_13528\\3195471959.py:147: DeprecationWarning: Because of the shift to using AgentSet, in the future this attribute will return a dict withtype as key as AgentSet as value. Future behavior is available via RandomActivationByType._agents_by_type\n",
      "  for sugar_agent in self.schedule.agents_by_type[Sugar].values():\n",
      "C:\\Users\\DELL\\AppData\\Local\\Temp\\ipykernel_13528\\3195471959.py:139: DeprecationWarning: Because of the shift to using AgentSet, in the future this attribute will return a dict withtype as key as AgentSet as value. Future behavior is available via RandomActivationByType._agents_by_type\n",
      "  corrupt_agents_shuffle = list(self.schedule.agents_by_type[Corrupt_agent].values())\n",
      "C:\\Users\\DELL\\AppData\\Local\\Temp\\ipykernel_13528\\3195471959.py:92: DeprecationWarning: Because of the shift to using AgentSet, in the future this attribute will return a dict withtype as key as AgentSet as value. Future behavior is available via RandomActivationByType._agents_by_type\n",
      "  agents = [agent for agent in self.schedule.agents_by_type[Corrupt_agent].values()]\n"
     ]
    },
    {
     "name": "stdout",
     "output_type": "stream",
     "text": [
      "Agent 2359 stole 3.0 resources from Agent 2324.\n",
      "Agent 2316 stole 2.0 resources from Agent 2325.\n",
      "Agent 2316 stole 0.0 resources from Agent 2381.\n",
      "Agent 2354 stole 4.0 resources from Agent 2352.\n",
      "Agent 2325 stole 5.0 resources from Agent 2316.\n",
      "Agent 2381 stole 2.0 resources from Agent 2325.\n",
      "Agent 2380 stole 5.0 resources from Agent 2316.\n",
      "Agent 2297 stole 0.0 resources from Agent 2315.\n",
      "33\n"
     ]
    },
    {
     "name": "stderr",
     "output_type": "stream",
     "text": [
      "C:\\Users\\DELL\\AppData\\Local\\Temp\\ipykernel_13528\\3195471959.py:147: DeprecationWarning: Because of the shift to using AgentSet, in the future this attribute will return a dict withtype as key as AgentSet as value. Future behavior is available via RandomActivationByType._agents_by_type\n",
      "  for sugar_agent in self.schedule.agents_by_type[Sugar].values():\n",
      "C:\\Users\\DELL\\AppData\\Local\\Temp\\ipykernel_13528\\3195471959.py:139: DeprecationWarning: Because of the shift to using AgentSet, in the future this attribute will return a dict withtype as key as AgentSet as value. Future behavior is available via RandomActivationByType._agents_by_type\n",
      "  corrupt_agents_shuffle = list(self.schedule.agents_by_type[Corrupt_agent].values())\n",
      "C:\\Users\\DELL\\AppData\\Local\\Temp\\ipykernel_13528\\3195471959.py:92: DeprecationWarning: Because of the shift to using AgentSet, in the future this attribute will return a dict withtype as key as AgentSet as value. Future behavior is available via RandomActivationByType._agents_by_type\n",
      "  agents = [agent for agent in self.schedule.agents_by_type[Corrupt_agent].values()]\n"
     ]
    },
    {
     "name": "stdout",
     "output_type": "stream",
     "text": [
      "Agent 2303 has eaten 5.0 sugar from sugar 462\n",
      "Agent 2315 has eaten 1.0 sugar from sugar 365\n",
      "Agent 2297 has eaten 6 sugar from sugar 277\n",
      "Agent 2324 has eaten 5.0 sugar from sugar 1174\n",
      "Agent 2299 has eaten 6 sugar from sugar 514\n",
      "Agent 2359 has eaten 6 sugar from sugar 1261\n",
      "Agent 2308 has eaten 6 sugar from sugar 916\n",
      "Agent 2339 has eaten 5.0 sugar from sugar 442\n",
      "Agent 2374 has eaten 6 sugar from sugar 1253\n",
      "Agent 2354 has eaten 6 sugar from sugar 2095\n",
      "Agent 2341 has eaten 6 sugar from sugar 2238\n",
      "Agent 2356 has eaten 4.0 sugar from sugar 60\n",
      "Agent 2345 has eaten 6 sugar from sugar 94\n",
      "Agent 2350 has eaten 5.0 sugar from sugar 670\n",
      "Agent 2373 has eaten 6.0 sugar from sugar 1843\n",
      "Agent 2352 has eaten 6 sugar from sugar 2049\n",
      "Agent 2334 has eaten 6 sugar from sugar 1688\n",
      "Agent 2325 has eaten 4.0 sugar from sugar 161\n",
      "Agent 2383 has eaten 6 sugar from sugar 1315\n",
      "Agent 2322 has eaten 6 sugar from sugar 584\n",
      "Agent 2370 has eaten 6 sugar from sugar 84\n",
      "Agent 2369 has eaten 6 sugar from sugar 2167\n",
      "Agent 2386 has eaten 5.0 sugar from sugar 427\n",
      "Agent 2367 has eaten 6 sugar from sugar 1080\n",
      "Agent 2307 has eaten 6 sugar from sugar 1089\n",
      "Agent 2316 has eaten 6 sugar from sugar 302\n",
      "Agent 2319 has eaten 6 sugar from sugar 700\n",
      "Agent 2381 has eaten 6 sugar from sugar 116\n",
      "Agent 2336 has eaten 6 sugar from sugar 1910\n",
      "Agent 2380 has eaten 6 sugar from sugar 251\n",
      "Agent 2318 has eaten 3.0 sugar from sugar 167\n",
      "34\n"
     ]
    },
    {
     "name": "stderr",
     "output_type": "stream",
     "text": [
      "C:\\Users\\DELL\\AppData\\Local\\Temp\\ipykernel_13528\\3195471959.py:147: DeprecationWarning: Because of the shift to using AgentSet, in the future this attribute will return a dict withtype as key as AgentSet as value. Future behavior is available via RandomActivationByType._agents_by_type\n",
      "  for sugar_agent in self.schedule.agents_by_type[Sugar].values():\n",
      "C:\\Users\\DELL\\AppData\\Local\\Temp\\ipykernel_13528\\3195471959.py:139: DeprecationWarning: Because of the shift to using AgentSet, in the future this attribute will return a dict withtype as key as AgentSet as value. Future behavior is available via RandomActivationByType._agents_by_type\n",
      "  corrupt_agents_shuffle = list(self.schedule.agents_by_type[Corrupt_agent].values())\n",
      "C:\\Users\\DELL\\AppData\\Local\\Temp\\ipykernel_13528\\3195471959.py:92: DeprecationWarning: Because of the shift to using AgentSet, in the future this attribute will return a dict withtype as key as AgentSet as value. Future behavior is available via RandomActivationByType._agents_by_type\n",
      "  agents = [agent for agent in self.schedule.agents_by_type[Corrupt_agent].values()]\n"
     ]
    },
    {
     "name": "stdout",
     "output_type": "stream",
     "text": [
      "Agent 2359 with 24.0 has shared 3.0 with 2324 with 28.0\n",
      "Agent 2316 with 35.0 has shared 4.0 with 2380 with 43.0\n",
      "35\n"
     ]
    },
    {
     "name": "stderr",
     "output_type": "stream",
     "text": [
      "C:\\Users\\DELL\\AppData\\Local\\Temp\\ipykernel_13528\\3195471959.py:147: DeprecationWarning: Because of the shift to using AgentSet, in the future this attribute will return a dict withtype as key as AgentSet as value. Future behavior is available via RandomActivationByType._agents_by_type\n",
      "  for sugar_agent in self.schedule.agents_by_type[Sugar].values():\n",
      "C:\\Users\\DELL\\AppData\\Local\\Temp\\ipykernel_13528\\3195471959.py:139: DeprecationWarning: Because of the shift to using AgentSet, in the future this attribute will return a dict withtype as key as AgentSet as value. Future behavior is available via RandomActivationByType._agents_by_type\n",
      "  corrupt_agents_shuffle = list(self.schedule.agents_by_type[Corrupt_agent].values())\n",
      "C:\\Users\\DELL\\AppData\\Local\\Temp\\ipykernel_13528\\3195471959.py:92: DeprecationWarning: Because of the shift to using AgentSet, in the future this attribute will return a dict withtype as key as AgentSet as value. Future behavior is available via RandomActivationByType._agents_by_type\n",
      "  agents = [agent for agent in self.schedule.agents_by_type[Corrupt_agent].values()]\n"
     ]
    },
    {
     "name": "stdout",
     "output_type": "stream",
     "text": [
      "Agent 2316 stole 2.0 resources from Agent 2325.\n",
      "Agent 2316 stole 5.0 resources from Agent 2380.\n",
      "Agent 2316 stole 4.0 resources from Agent 2339.\n",
      "Agent 2339 stole 5.0 resources from Agent 2316.\n",
      "Agent 2315 stole 5.0 resources from Agent 2297.\n",
      "Agent 2381 stole 2.0 resources from Agent 2325.\n",
      "Agent 2381 stole 1.0 resources from Agent 2318.\n",
      "Agent 2297 stole 1.0 resources from Agent 2315.\n",
      "36\n"
     ]
    },
    {
     "name": "stderr",
     "output_type": "stream",
     "text": [
      "C:\\Users\\DELL\\AppData\\Local\\Temp\\ipykernel_13528\\3195471959.py:147: DeprecationWarning: Because of the shift to using AgentSet, in the future this attribute will return a dict withtype as key as AgentSet as value. Future behavior is available via RandomActivationByType._agents_by_type\n",
      "  for sugar_agent in self.schedule.agents_by_type[Sugar].values():\n",
      "C:\\Users\\DELL\\AppData\\Local\\Temp\\ipykernel_13528\\3195471959.py:139: DeprecationWarning: Because of the shift to using AgentSet, in the future this attribute will return a dict withtype as key as AgentSet as value. Future behavior is available via RandomActivationByType._agents_by_type\n",
      "  corrupt_agents_shuffle = list(self.schedule.agents_by_type[Corrupt_agent].values())\n",
      "C:\\Users\\DELL\\AppData\\Local\\Temp\\ipykernel_13528\\3195471959.py:92: DeprecationWarning: Because of the shift to using AgentSet, in the future this attribute will return a dict withtype as key as AgentSet as value. Future behavior is available via RandomActivationByType._agents_by_type\n",
      "  agents = [agent for agent in self.schedule.agents_by_type[Corrupt_agent].values()]\n"
     ]
    },
    {
     "name": "stdout",
     "output_type": "stream",
     "text": [
      "Agent 2297 has eaten 6 sugar from sugar 277\n",
      "Agent 2350 has eaten 5.0 sugar from sugar 670\n",
      "Agent 2370 has eaten 6 sugar from sugar 84\n",
      "Agent 2373 has eaten 6.0 sugar from sugar 1843\n",
      "Agent 2299 has eaten 6 sugar from sugar 514\n",
      "Agent 2374 has eaten 6 sugar from sugar 1253\n",
      "Agent 2324 has eaten 5.0 sugar from sugar 1174\n",
      "Agent 2339 has eaten 5.0 sugar from sugar 442\n",
      "Agent 2307 has eaten 6 sugar from sugar 1089\n",
      "Agent 2334 has eaten 6 sugar from sugar 1688\n",
      "Agent 2303 has eaten 5.0 sugar from sugar 462\n",
      "Agent 2319 has eaten 6 sugar from sugar 700\n",
      "Agent 2341 has eaten 6 sugar from sugar 2238\n",
      "Agent 2318 has eaten 3.0 sugar from sugar 167\n",
      "Agent 2336 has eaten 6 sugar from sugar 1910\n",
      "Agent 2380 has eaten 6 sugar from sugar 251\n",
      "Agent 2381 has eaten 6 sugar from sugar 116\n",
      "Agent 2356 has eaten 4.0 sugar from sugar 60\n",
      "Agent 2354 has eaten 6 sugar from sugar 2095\n",
      "Agent 2359 has eaten 6 sugar from sugar 1261\n",
      "Agent 2325 has eaten 4.0 sugar from sugar 161\n",
      "Agent 2345 has eaten 6 sugar from sugar 94\n",
      "Agent 2322 has eaten 6 sugar from sugar 584\n",
      "Agent 2352 has eaten 6 sugar from sugar 2049\n",
      "Agent 2386 has eaten 5.0 sugar from sugar 427\n",
      "Agent 2383 has eaten 6 sugar from sugar 1315\n",
      "Agent 2367 has eaten 6 sugar from sugar 1080\n",
      "Agent 2308 has eaten 6 sugar from sugar 916\n",
      "Agent 2316 has eaten 6 sugar from sugar 302\n",
      "Agent 2315 has eaten 1.0 sugar from sugar 365\n",
      "Agent 2369 has eaten 6 sugar from sugar 2167\n",
      "37\n"
     ]
    },
    {
     "name": "stderr",
     "output_type": "stream",
     "text": [
      "C:\\Users\\DELL\\AppData\\Local\\Temp\\ipykernel_13528\\3195471959.py:147: DeprecationWarning: Because of the shift to using AgentSet, in the future this attribute will return a dict withtype as key as AgentSet as value. Future behavior is available via RandomActivationByType._agents_by_type\n",
      "  for sugar_agent in self.schedule.agents_by_type[Sugar].values():\n",
      "C:\\Users\\DELL\\AppData\\Local\\Temp\\ipykernel_13528\\3195471959.py:139: DeprecationWarning: Because of the shift to using AgentSet, in the future this attribute will return a dict withtype as key as AgentSet as value. Future behavior is available via RandomActivationByType._agents_by_type\n",
      "  corrupt_agents_shuffle = list(self.schedule.agents_by_type[Corrupt_agent].values())\n",
      "C:\\Users\\DELL\\AppData\\Local\\Temp\\ipykernel_13528\\3195471959.py:92: DeprecationWarning: Because of the shift to using AgentSet, in the future this attribute will return a dict withtype as key as AgentSet as value. Future behavior is available via RandomActivationByType._agents_by_type\n",
      "  agents = [agent for agent in self.schedule.agents_by_type[Corrupt_agent].values()]\n"
     ]
    },
    {
     "name": "stdout",
     "output_type": "stream",
     "text": [
      "Agent 2359 with 21.0 has shared 3.0 with 2324 with 33.0\n",
      "Agent 2339 with 34.0 has shared 4.0 with 2316 with 48.0\n",
      "38\n"
     ]
    },
    {
     "name": "stderr",
     "output_type": "stream",
     "text": [
      "C:\\Users\\DELL\\AppData\\Local\\Temp\\ipykernel_13528\\3195471959.py:147: DeprecationWarning: Because of the shift to using AgentSet, in the future this attribute will return a dict withtype as key as AgentSet as value. Future behavior is available via RandomActivationByType._agents_by_type\n",
      "  for sugar_agent in self.schedule.agents_by_type[Sugar].values():\n",
      "C:\\Users\\DELL\\AppData\\Local\\Temp\\ipykernel_13528\\3195471959.py:139: DeprecationWarning: Because of the shift to using AgentSet, in the future this attribute will return a dict withtype as key as AgentSet as value. Future behavior is available via RandomActivationByType._agents_by_type\n",
      "  corrupt_agents_shuffle = list(self.schedule.agents_by_type[Corrupt_agent].values())\n",
      "C:\\Users\\DELL\\AppData\\Local\\Temp\\ipykernel_13528\\3195471959.py:92: DeprecationWarning: Because of the shift to using AgentSet, in the future this attribute will return a dict withtype as key as AgentSet as value. Future behavior is available via RandomActivationByType._agents_by_type\n",
      "  agents = [agent for agent in self.schedule.agents_by_type[Corrupt_agent].values()]\n"
     ]
    },
    {
     "name": "stdout",
     "output_type": "stream",
     "text": [
      "Agent 2315 stole 4.0 resources from Agent 2297.\n",
      "Agent 2359 stole 4.0 resources from Agent 2324.\n",
      "Agent 2352 stole 2.0 resources from Agent 2354.\n",
      "Agent 2354 stole 4.0 resources from Agent 2352.\n",
      "Agent 2297 stole 1.0 resources from Agent 2315.\n",
      "Agent 2316 stole 5.0 resources from Agent 2380.\n",
      "Agent 2316 stole 4.0 resources from Agent 2339.\n",
      "Agent 2381 stole 2.0 resources from Agent 2325.\n",
      "Agent 2381 stole 4.0 resources from Agent 2380.\n",
      "Agent 2325 stole 3.0 resources from Agent 2380.\n",
      "39\n"
     ]
    },
    {
     "name": "stderr",
     "output_type": "stream",
     "text": [
      "C:\\Users\\DELL\\AppData\\Local\\Temp\\ipykernel_13528\\3195471959.py:147: DeprecationWarning: Because of the shift to using AgentSet, in the future this attribute will return a dict withtype as key as AgentSet as value. Future behavior is available via RandomActivationByType._agents_by_type\n",
      "  for sugar_agent in self.schedule.agents_by_type[Sugar].values():\n",
      "C:\\Users\\DELL\\AppData\\Local\\Temp\\ipykernel_13528\\3195471959.py:139: DeprecationWarning: Because of the shift to using AgentSet, in the future this attribute will return a dict withtype as key as AgentSet as value. Future behavior is available via RandomActivationByType._agents_by_type\n",
      "  corrupt_agents_shuffle = list(self.schedule.agents_by_type[Corrupt_agent].values())\n",
      "C:\\Users\\DELL\\AppData\\Local\\Temp\\ipykernel_13528\\3195471959.py:92: DeprecationWarning: Because of the shift to using AgentSet, in the future this attribute will return a dict withtype as key as AgentSet as value. Future behavior is available via RandomActivationByType._agents_by_type\n",
      "  agents = [agent for agent in self.schedule.agents_by_type[Corrupt_agent].values()]\n"
     ]
    },
    {
     "name": "stdout",
     "output_type": "stream",
     "text": [
      "Agent 2299 has eaten 6 sugar from sugar 514\n",
      "Agent 2316 has eaten 6 sugar from sugar 302\n",
      "Agent 2386 has eaten 5.0 sugar from sugar 427\n",
      "Agent 2322 has eaten 6 sugar from sugar 584\n",
      "Agent 2319 has eaten 6 sugar from sugar 700\n",
      "Agent 2318 has eaten 3.0 sugar from sugar 167\n",
      "Agent 2324 has eaten 5.0 sugar from sugar 1174\n",
      "Agent 2334 has eaten 6 sugar from sugar 1688\n",
      "Agent 2352 has eaten 6 sugar from sugar 2049\n",
      "Agent 2325 has eaten 4.0 sugar from sugar 161\n",
      "Agent 2359 has eaten 6 sugar from sugar 1261\n",
      "Agent 2339 has eaten 5.0 sugar from sugar 442\n",
      "Agent 2315 has eaten 1.0 sugar from sugar 365\n",
      "Agent 2374 has eaten 6 sugar from sugar 1253\n",
      "Agent 2354 has eaten 6 sugar from sugar 2095\n",
      "Agent 2341 has eaten 6 sugar from sugar 2238\n",
      "Agent 2369 has eaten 6 sugar from sugar 2167\n",
      "Agent 2308 has eaten 6 sugar from sugar 916\n",
      "Agent 2303 has eaten 5.0 sugar from sugar 462\n",
      "Agent 2380 has eaten 6 sugar from sugar 251\n",
      "Agent 2383 has eaten 6 sugar from sugar 1315\n",
      "Agent 2350 has eaten 5.0 sugar from sugar 670\n",
      "Agent 2356 has eaten 4.0 sugar from sugar 60\n",
      "Agent 2373 has eaten 6.0 sugar from sugar 1843\n",
      "Agent 2381 has eaten 6 sugar from sugar 116\n",
      "Agent 2336 has eaten 6 sugar from sugar 1910\n",
      "Agent 2307 has eaten 6 sugar from sugar 1089\n",
      "Agent 2297 has eaten 6 sugar from sugar 277\n",
      "Agent 2367 has eaten 6 sugar from sugar 1080\n",
      "Agent 2345 has eaten 6 sugar from sugar 94\n",
      "Agent 2370 has eaten 6 sugar from sugar 84\n",
      "40\n"
     ]
    },
    {
     "name": "stderr",
     "output_type": "stream",
     "text": [
      "C:\\Users\\DELL\\AppData\\Local\\Temp\\ipykernel_13528\\3195471959.py:147: DeprecationWarning: Because of the shift to using AgentSet, in the future this attribute will return a dict withtype as key as AgentSet as value. Future behavior is available via RandomActivationByType._agents_by_type\n",
      "  for sugar_agent in self.schedule.agents_by_type[Sugar].values():\n",
      "C:\\Users\\DELL\\AppData\\Local\\Temp\\ipykernel_13528\\3195471959.py:139: DeprecationWarning: Because of the shift to using AgentSet, in the future this attribute will return a dict withtype as key as AgentSet as value. Future behavior is available via RandomActivationByType._agents_by_type\n",
      "  corrupt_agents_shuffle = list(self.schedule.agents_by_type[Corrupt_agent].values())\n",
      "C:\\Users\\DELL\\AppData\\Local\\Temp\\ipykernel_13528\\3195471959.py:92: DeprecationWarning: Because of the shift to using AgentSet, in the future this attribute will return a dict withtype as key as AgentSet as value. Future behavior is available via RandomActivationByType._agents_by_type\n",
      "  agents = [agent for agent in self.schedule.agents_by_type[Corrupt_agent].values()]\n"
     ]
    },
    {
     "name": "stdout",
     "output_type": "stream",
     "text": [
      "Agent 2381 with 11.0 has shared 1.0 with 2325 with 23.0\n",
      "41\n"
     ]
    },
    {
     "name": "stderr",
     "output_type": "stream",
     "text": [
      "C:\\Users\\DELL\\AppData\\Local\\Temp\\ipykernel_13528\\3195471959.py:147: DeprecationWarning: Because of the shift to using AgentSet, in the future this attribute will return a dict withtype as key as AgentSet as value. Future behavior is available via RandomActivationByType._agents_by_type\n",
      "  for sugar_agent in self.schedule.agents_by_type[Sugar].values():\n",
      "C:\\Users\\DELL\\AppData\\Local\\Temp\\ipykernel_13528\\3195471959.py:139: DeprecationWarning: Because of the shift to using AgentSet, in the future this attribute will return a dict withtype as key as AgentSet as value. Future behavior is available via RandomActivationByType._agents_by_type\n",
      "  corrupt_agents_shuffle = list(self.schedule.agents_by_type[Corrupt_agent].values())\n",
      "C:\\Users\\DELL\\AppData\\Local\\Temp\\ipykernel_13528\\3195471959.py:92: DeprecationWarning: Because of the shift to using AgentSet, in the future this attribute will return a dict withtype as key as AgentSet as value. Future behavior is available via RandomActivationByType._agents_by_type\n",
      "  agents = [agent for agent in self.schedule.agents_by_type[Corrupt_agent].values()]\n"
     ]
    },
    {
     "name": "stdout",
     "output_type": "stream",
     "text": [
      "Agent 2325 stole 3.0 resources from Agent 2380.\n",
      "Agent 2316 stole 3.0 resources from Agent 2325.\n",
      "Agent 2380 stole 2.0 resources from Agent 2325.\n",
      "Agent 2315 stole 4.0 resources from Agent 2297.\n",
      "Agent 2352 stole 3.0 resources from Agent 2354.\n",
      "Agent 2381 stole 1.0 resources from Agent 2318.\n",
      "Agent 2381 stole 2.0 resources from Agent 2325.\n",
      "Agent 2297 stole 1.0 resources from Agent 2315.\n",
      "42\n"
     ]
    },
    {
     "name": "stderr",
     "output_type": "stream",
     "text": [
      "C:\\Users\\DELL\\AppData\\Local\\Temp\\ipykernel_13528\\3195471959.py:147: DeprecationWarning: Because of the shift to using AgentSet, in the future this attribute will return a dict withtype as key as AgentSet as value. Future behavior is available via RandomActivationByType._agents_by_type\n",
      "  for sugar_agent in self.schedule.agents_by_type[Sugar].values():\n",
      "C:\\Users\\DELL\\AppData\\Local\\Temp\\ipykernel_13528\\3195471959.py:139: DeprecationWarning: Because of the shift to using AgentSet, in the future this attribute will return a dict withtype as key as AgentSet as value. Future behavior is available via RandomActivationByType._agents_by_type\n",
      "  corrupt_agents_shuffle = list(self.schedule.agents_by_type[Corrupt_agent].values())\n",
      "C:\\Users\\DELL\\AppData\\Local\\Temp\\ipykernel_13528\\3195471959.py:92: DeprecationWarning: Because of the shift to using AgentSet, in the future this attribute will return a dict withtype as key as AgentSet as value. Future behavior is available via RandomActivationByType._agents_by_type\n",
      "  agents = [agent for agent in self.schedule.agents_by_type[Corrupt_agent].values()]\n"
     ]
    },
    {
     "name": "stdout",
     "output_type": "stream",
     "text": [
      "Agent 2381 has eaten 6 sugar from sugar 116\n",
      "Agent 2325 has eaten 4.0 sugar from sugar 161\n",
      "Agent 2354 has eaten 6 sugar from sugar 2095\n",
      "Agent 2336 has eaten 6 sugar from sugar 1910\n",
      "Agent 2307 has eaten 6 sugar from sugar 1089\n",
      "Agent 2352 has eaten 6 sugar from sugar 2049\n",
      "Agent 2303 has eaten 5.0 sugar from sugar 462\n",
      "Agent 2319 has eaten 6 sugar from sugar 700\n",
      "Agent 2334 has eaten 6 sugar from sugar 1688\n",
      "Agent 2367 has eaten 6 sugar from sugar 1080\n",
      "Agent 2324 has eaten 5.0 sugar from sugar 1174\n",
      "Agent 2339 has eaten 5.0 sugar from sugar 442\n",
      "Agent 2356 has eaten 4.0 sugar from sugar 60\n",
      "Agent 2359 has eaten 6 sugar from sugar 1261\n",
      "Agent 2345 has eaten 6 sugar from sugar 94\n",
      "Agent 2383 has eaten 6 sugar from sugar 1315\n",
      "Agent 2299 has eaten 6 sugar from sugar 514\n",
      "Agent 2350 has eaten 5.0 sugar from sugar 670\n",
      "Agent 2316 has eaten 6 sugar from sugar 302\n",
      "Agent 2322 has eaten 6 sugar from sugar 584\n",
      "Agent 2297 has eaten 6 sugar from sugar 277\n",
      "Agent 2308 has eaten 6 sugar from sugar 916\n",
      "Agent 2315 has eaten 1.0 sugar from sugar 365\n",
      "Agent 2370 has eaten 6 sugar from sugar 84\n",
      "Agent 2386 has eaten 5.0 sugar from sugar 427\n",
      "Agent 2380 has eaten 6 sugar from sugar 251\n",
      "Agent 2374 has eaten 6 sugar from sugar 1253\n",
      "Agent 2341 has eaten 6 sugar from sugar 2238\n",
      "Agent 2369 has eaten 6 sugar from sugar 2167\n",
      "Agent 2373 has eaten 6.0 sugar from sugar 1843\n",
      "Agent 2318 has eaten 3.0 sugar from sugar 167\n",
      "43\n"
     ]
    },
    {
     "name": "stderr",
     "output_type": "stream",
     "text": [
      "C:\\Users\\DELL\\AppData\\Local\\Temp\\ipykernel_13528\\3195471959.py:147: DeprecationWarning: Because of the shift to using AgentSet, in the future this attribute will return a dict withtype as key as AgentSet as value. Future behavior is available via RandomActivationByType._agents_by_type\n",
      "  for sugar_agent in self.schedule.agents_by_type[Sugar].values():\n",
      "C:\\Users\\DELL\\AppData\\Local\\Temp\\ipykernel_13528\\3195471959.py:139: DeprecationWarning: Because of the shift to using AgentSet, in the future this attribute will return a dict withtype as key as AgentSet as value. Future behavior is available via RandomActivationByType._agents_by_type\n",
      "  corrupt_agents_shuffle = list(self.schedule.agents_by_type[Corrupt_agent].values())\n",
      "C:\\Users\\DELL\\AppData\\Local\\Temp\\ipykernel_13528\\3195471959.py:92: DeprecationWarning: Because of the shift to using AgentSet, in the future this attribute will return a dict withtype as key as AgentSet as value. Future behavior is available via RandomActivationByType._agents_by_type\n",
      "  agents = [agent for agent in self.schedule.agents_by_type[Corrupt_agent].values()]\n"
     ]
    },
    {
     "name": "stdout",
     "output_type": "stream",
     "text": [
      "Agent 2381 with 10.0 has shared 1.0 with 2325 with 21.0\n",
      "44\n"
     ]
    },
    {
     "name": "stderr",
     "output_type": "stream",
     "text": [
      "C:\\Users\\DELL\\AppData\\Local\\Temp\\ipykernel_13528\\3195471959.py:147: DeprecationWarning: Because of the shift to using AgentSet, in the future this attribute will return a dict withtype as key as AgentSet as value. Future behavior is available via RandomActivationByType._agents_by_type\n",
      "  for sugar_agent in self.schedule.agents_by_type[Sugar].values():\n",
      "C:\\Users\\DELL\\AppData\\Local\\Temp\\ipykernel_13528\\3195471959.py:139: DeprecationWarning: Because of the shift to using AgentSet, in the future this attribute will return a dict withtype as key as AgentSet as value. Future behavior is available via RandomActivationByType._agents_by_type\n",
      "  corrupt_agents_shuffle = list(self.schedule.agents_by_type[Corrupt_agent].values())\n",
      "C:\\Users\\DELL\\AppData\\Local\\Temp\\ipykernel_13528\\3195471959.py:92: DeprecationWarning: Because of the shift to using AgentSet, in the future this attribute will return a dict withtype as key as AgentSet as value. Future behavior is available via RandomActivationByType._agents_by_type\n",
      "  agents = [agent for agent in self.schedule.agents_by_type[Corrupt_agent].values()]\n"
     ]
    },
    {
     "name": "stdout",
     "output_type": "stream",
     "text": [
      "Agent 2315 stole 4.0 resources from Agent 2297.\n",
      "Agent 2325 stole 4.0 resources from Agent 2380.\n",
      "Agent 2325 stole 8.0 resources from Agent 2316.\n",
      "Agent 2381 stole 4.0 resources from Agent 2325.\n",
      "Agent 2381 stole 1.0 resources from Agent 2318.\n",
      "Agent 2381 stole 3.0 resources from Agent 2380.\n",
      "Agent 2381 stole 7.0 resources from Agent 2316.\n",
      "Agent 2316 stole 4.0 resources from Agent 2339.\n",
      "45\n"
     ]
    },
    {
     "name": "stderr",
     "output_type": "stream",
     "text": [
      "C:\\Users\\DELL\\AppData\\Local\\Temp\\ipykernel_13528\\3195471959.py:147: DeprecationWarning: Because of the shift to using AgentSet, in the future this attribute will return a dict withtype as key as AgentSet as value. Future behavior is available via RandomActivationByType._agents_by_type\n",
      "  for sugar_agent in self.schedule.agents_by_type[Sugar].values():\n",
      "C:\\Users\\DELL\\AppData\\Local\\Temp\\ipykernel_13528\\3195471959.py:139: DeprecationWarning: Because of the shift to using AgentSet, in the future this attribute will return a dict withtype as key as AgentSet as value. Future behavior is available via RandomActivationByType._agents_by_type\n",
      "  corrupt_agents_shuffle = list(self.schedule.agents_by_type[Corrupt_agent].values())\n",
      "C:\\Users\\DELL\\AppData\\Local\\Temp\\ipykernel_13528\\3195471959.py:92: DeprecationWarning: Because of the shift to using AgentSet, in the future this attribute will return a dict withtype as key as AgentSet as value. Future behavior is available via RandomActivationByType._agents_by_type\n",
      "  agents = [agent for agent in self.schedule.agents_by_type[Corrupt_agent].values()]\n"
     ]
    },
    {
     "name": "stdout",
     "output_type": "stream",
     "text": [
      "Agent 2325 has eaten 4.0 sugar from sugar 161\n",
      "Agent 2341 has eaten 6 sugar from sugar 2238\n",
      "Agent 2318 has eaten 3.0 sugar from sugar 167\n",
      "Agent 2339 has eaten 5.0 sugar from sugar 442\n",
      "Agent 2381 has eaten 6 sugar from sugar 116\n",
      "Agent 2334 has eaten 6 sugar from sugar 1688\n",
      "Agent 2369 has eaten 6 sugar from sugar 2167\n",
      "Agent 2383 has eaten 6 sugar from sugar 1315\n",
      "Agent 2345 has eaten 6 sugar from sugar 94\n",
      "Agent 2316 has eaten 6 sugar from sugar 302\n",
      "Agent 2299 has eaten 6 sugar from sugar 514\n",
      "Agent 2356 has eaten 4.0 sugar from sugar 60\n",
      "Agent 2308 has eaten 6 sugar from sugar 916\n",
      "Agent 2336 has eaten 6 sugar from sugar 1910\n",
      "Agent 2386 has eaten 5.0 sugar from sugar 427\n",
      "Agent 2297 has eaten 6 sugar from sugar 277\n",
      "Agent 2303 has eaten 5.0 sugar from sugar 462\n",
      "Agent 2354 has eaten 6 sugar from sugar 2095\n",
      "Agent 2380 has eaten 6 sugar from sugar 251\n",
      "Agent 2373 has eaten 6.0 sugar from sugar 1843\n",
      "Agent 2319 has eaten 6 sugar from sugar 700\n",
      "Agent 2315 has eaten 1.0 sugar from sugar 365\n",
      "Agent 2352 has eaten 6 sugar from sugar 2049\n",
      "Agent 2367 has eaten 6 sugar from sugar 1080\n",
      "Agent 2322 has eaten 6 sugar from sugar 584\n",
      "Agent 2370 has eaten 6 sugar from sugar 84\n",
      "Agent 2374 has eaten 6 sugar from sugar 1253\n",
      "Agent 2307 has eaten 6 sugar from sugar 1089\n",
      "Agent 2359 has eaten 6 sugar from sugar 1261\n",
      "Agent 2324 has eaten 5.0 sugar from sugar 1174\n",
      "Agent 2350 has eaten 5.0 sugar from sugar 670\n",
      "46\n"
     ]
    },
    {
     "name": "stderr",
     "output_type": "stream",
     "text": [
      "C:\\Users\\DELL\\AppData\\Local\\Temp\\ipykernel_13528\\3195471959.py:147: DeprecationWarning: Because of the shift to using AgentSet, in the future this attribute will return a dict withtype as key as AgentSet as value. Future behavior is available via RandomActivationByType._agents_by_type\n",
      "  for sugar_agent in self.schedule.agents_by_type[Sugar].values():\n",
      "C:\\Users\\DELL\\AppData\\Local\\Temp\\ipykernel_13528\\3195471959.py:139: DeprecationWarning: Because of the shift to using AgentSet, in the future this attribute will return a dict withtype as key as AgentSet as value. Future behavior is available via RandomActivationByType._agents_by_type\n",
      "  corrupt_agents_shuffle = list(self.schedule.agents_by_type[Corrupt_agent].values())\n",
      "C:\\Users\\DELL\\AppData\\Local\\Temp\\ipykernel_13528\\3195471959.py:92: DeprecationWarning: Because of the shift to using AgentSet, in the future this attribute will return a dict withtype as key as AgentSet as value. Future behavior is available via RandomActivationByType._agents_by_type\n",
      "  agents = [agent for agent in self.schedule.agents_by_type[Corrupt_agent].values()]\n"
     ]
    },
    {
     "name": "stdout",
     "output_type": "stream",
     "text": [
      "Agent 2325 with 27.0 has shared 3.0 with 2381 with 25.0\n",
      "Agent 2381 with 22.0 has shared 3.0 with 2325 with 30.0\n",
      "47\n"
     ]
    },
    {
     "name": "stderr",
     "output_type": "stream",
     "text": [
      "C:\\Users\\DELL\\AppData\\Local\\Temp\\ipykernel_13528\\3195471959.py:147: DeprecationWarning: Because of the shift to using AgentSet, in the future this attribute will return a dict withtype as key as AgentSet as value. Future behavior is available via RandomActivationByType._agents_by_type\n",
      "  for sugar_agent in self.schedule.agents_by_type[Sugar].values():\n",
      "C:\\Users\\DELL\\AppData\\Local\\Temp\\ipykernel_13528\\3195471959.py:139: DeprecationWarning: Because of the shift to using AgentSet, in the future this attribute will return a dict withtype as key as AgentSet as value. Future behavior is available via RandomActivationByType._agents_by_type\n",
      "  corrupt_agents_shuffle = list(self.schedule.agents_by_type[Corrupt_agent].values())\n",
      "C:\\Users\\DELL\\AppData\\Local\\Temp\\ipykernel_13528\\3195471959.py:92: DeprecationWarning: Because of the shift to using AgentSet, in the future this attribute will return a dict withtype as key as AgentSet as value. Future behavior is available via RandomActivationByType._agents_by_type\n",
      "  agents = [agent for agent in self.schedule.agents_by_type[Corrupt_agent].values()]\n"
     ]
    },
    {
     "name": "stdout",
     "output_type": "stream",
     "text": [
      "Agent 2381 stole 7.0 resources from Agent 2316.\n",
      "Agent 2297 stole 1.0 resources from Agent 2315.\n",
      "Agent 2354 stole 5.0 resources from Agent 2352.\n",
      "Agent 2299 stole 7.0 resources from Agent 2319.\n",
      "Agent 2316 stole 3.0 resources from Agent 2380.\n",
      "Agent 2316 stole 3.0 resources from Agent 2325.\n",
      "48\n"
     ]
    },
    {
     "name": "stderr",
     "output_type": "stream",
     "text": [
      "C:\\Users\\DELL\\AppData\\Local\\Temp\\ipykernel_13528\\3195471959.py:147: DeprecationWarning: Because of the shift to using AgentSet, in the future this attribute will return a dict withtype as key as AgentSet as value. Future behavior is available via RandomActivationByType._agents_by_type\n",
      "  for sugar_agent in self.schedule.agents_by_type[Sugar].values():\n",
      "C:\\Users\\DELL\\AppData\\Local\\Temp\\ipykernel_13528\\3195471959.py:139: DeprecationWarning: Because of the shift to using AgentSet, in the future this attribute will return a dict withtype as key as AgentSet as value. Future behavior is available via RandomActivationByType._agents_by_type\n",
      "  corrupt_agents_shuffle = list(self.schedule.agents_by_type[Corrupt_agent].values())\n",
      "C:\\Users\\DELL\\AppData\\Local\\Temp\\ipykernel_13528\\3195471959.py:92: DeprecationWarning: Because of the shift to using AgentSet, in the future this attribute will return a dict withtype as key as AgentSet as value. Future behavior is available via RandomActivationByType._agents_by_type\n",
      "  agents = [agent for agent in self.schedule.agents_by_type[Corrupt_agent].values()]\n"
     ]
    },
    {
     "name": "stdout",
     "output_type": "stream",
     "text": [
      "Agent 2339 has eaten 5.0 sugar from sugar 442\n",
      "Agent 2325 has eaten 4.0 sugar from sugar 161\n",
      "Agent 2373 has eaten 6.0 sugar from sugar 1843\n",
      "Agent 2319 has eaten 6 sugar from sugar 700\n",
      "Agent 2356 has eaten 4.0 sugar from sugar 60\n",
      "Agent 2354 has eaten 6 sugar from sugar 2095\n",
      "Agent 2299 has eaten 6 sugar from sugar 514\n",
      "Agent 2381 has eaten 6 sugar from sugar 116\n",
      "Agent 2383 has eaten 6 sugar from sugar 1315\n",
      "Agent 2370 has eaten 6 sugar from sugar 84\n",
      "Agent 2352 has eaten 6 sugar from sugar 2049\n",
      "Agent 2350 has eaten 5.0 sugar from sugar 670\n",
      "Agent 2303 has eaten 5.0 sugar from sugar 462\n",
      "Agent 2336 has eaten 6 sugar from sugar 1910\n",
      "Agent 2367 has eaten 6 sugar from sugar 1080\n",
      "Agent 2324 has eaten 5.0 sugar from sugar 1174\n",
      "Agent 2374 has eaten 6 sugar from sugar 1253\n",
      "Agent 2297 has eaten 6 sugar from sugar 277\n",
      "Agent 2318 has eaten 3.0 sugar from sugar 167\n",
      "Agent 2345 has eaten 6 sugar from sugar 94\n",
      "Agent 2359 has eaten 6 sugar from sugar 1261\n",
      "Agent 2380 has eaten 6 sugar from sugar 251\n",
      "Agent 2316 has eaten 6 sugar from sugar 302\n",
      "Agent 2369 has eaten 6 sugar from sugar 2167\n",
      "Agent 2334 has eaten 6 sugar from sugar 1688\n",
      "Agent 2315 has eaten 1.0 sugar from sugar 365\n",
      "Agent 2307 has eaten 6 sugar from sugar 1089\n",
      "Agent 2308 has eaten 6 sugar from sugar 916\n",
      "Agent 2386 has eaten 5.0 sugar from sugar 427\n",
      "Agent 2322 has eaten 6 sugar from sugar 584\n",
      "Agent 2341 has eaten 6 sugar from sugar 2238\n",
      "49\n"
     ]
    },
    {
     "name": "stderr",
     "output_type": "stream",
     "text": [
      "C:\\Users\\DELL\\AppData\\Local\\Temp\\ipykernel_13528\\3195471959.py:147: DeprecationWarning: Because of the shift to using AgentSet, in the future this attribute will return a dict withtype as key as AgentSet as value. Future behavior is available via RandomActivationByType._agents_by_type\n",
      "  for sugar_agent in self.schedule.agents_by_type[Sugar].values():\n",
      "C:\\Users\\DELL\\AppData\\Local\\Temp\\ipykernel_13528\\3195471959.py:139: DeprecationWarning: Because of the shift to using AgentSet, in the future this attribute will return a dict withtype as key as AgentSet as value. Future behavior is available via RandomActivationByType._agents_by_type\n",
      "  corrupt_agents_shuffle = list(self.schedule.agents_by_type[Corrupt_agent].values())\n",
      "C:\\Users\\DELL\\AppData\\Local\\Temp\\ipykernel_13528\\3195471959.py:92: DeprecationWarning: Because of the shift to using AgentSet, in the future this attribute will return a dict withtype as key as AgentSet as value. Future behavior is available via RandomActivationByType._agents_by_type\n",
      "  agents = [agent for agent in self.schedule.agents_by_type[Corrupt_agent].values()]\n"
     ]
    },
    {
     "name": "stdout",
     "output_type": "stream",
     "text": [
      "Agent 2381 with 23.0 has shared 3.0 with 2325 with 31.0\n",
      "Agent 2325 with 28.0 has shared 3.0 with 2381 with 26.0\n",
      "50\n"
     ]
    },
    {
     "name": "stderr",
     "output_type": "stream",
     "text": [
      "C:\\Users\\DELL\\AppData\\Local\\Temp\\ipykernel_13528\\3195471959.py:147: DeprecationWarning: Because of the shift to using AgentSet, in the future this attribute will return a dict withtype as key as AgentSet as value. Future behavior is available via RandomActivationByType._agents_by_type\n",
      "  for sugar_agent in self.schedule.agents_by_type[Sugar].values():\n",
      "C:\\Users\\DELL\\AppData\\Local\\Temp\\ipykernel_13528\\3195471959.py:139: DeprecationWarning: Because of the shift to using AgentSet, in the future this attribute will return a dict withtype as key as AgentSet as value. Future behavior is available via RandomActivationByType._agents_by_type\n",
      "  corrupt_agents_shuffle = list(self.schedule.agents_by_type[Corrupt_agent].values())\n",
      "C:\\Users\\DELL\\AppData\\Local\\Temp\\ipykernel_13528\\3195471959.py:92: DeprecationWarning: Because of the shift to using AgentSet, in the future this attribute will return a dict withtype as key as AgentSet as value. Future behavior is available via RandomActivationByType._agents_by_type\n",
      "  agents = [agent for agent in self.schedule.agents_by_type[Corrupt_agent].values()]\n"
     ]
    },
    {
     "name": "stdout",
     "output_type": "stream",
     "text": [
      "Agent 2354 stole 5.0 resources from Agent 2352.\n",
      "Agent 2381 stole 3.0 resources from Agent 2325.\n",
      "Agent 2381 stole 3.0 resources from Agent 2380.\n",
      "Agent 2339 stole 6.0 resources from Agent 2350.\n",
      "Agent 2380 stole 7.0 resources from Agent 2316.\n",
      "Agent 2325 stole 4.0 resources from Agent 2380.\n",
      "Agent 2325 stole 6.0 resources from Agent 2316.\n",
      "Agent 2297 stole 0.0 resources from Agent 2315.\n",
      "51\n"
     ]
    },
    {
     "name": "stderr",
     "output_type": "stream",
     "text": [
      "C:\\Users\\DELL\\AppData\\Local\\Temp\\ipykernel_13528\\3195471959.py:147: DeprecationWarning: Because of the shift to using AgentSet, in the future this attribute will return a dict withtype as key as AgentSet as value. Future behavior is available via RandomActivationByType._agents_by_type\n",
      "  for sugar_agent in self.schedule.agents_by_type[Sugar].values():\n",
      "C:\\Users\\DELL\\AppData\\Local\\Temp\\ipykernel_13528\\3195471959.py:139: DeprecationWarning: Because of the shift to using AgentSet, in the future this attribute will return a dict withtype as key as AgentSet as value. Future behavior is available via RandomActivationByType._agents_by_type\n",
      "  corrupt_agents_shuffle = list(self.schedule.agents_by_type[Corrupt_agent].values())\n",
      "C:\\Users\\DELL\\AppData\\Local\\Temp\\ipykernel_13528\\3195471959.py:92: DeprecationWarning: Because of the shift to using AgentSet, in the future this attribute will return a dict withtype as key as AgentSet as value. Future behavior is available via RandomActivationByType._agents_by_type\n",
      "  agents = [agent for agent in self.schedule.agents_by_type[Corrupt_agent].values()]\n"
     ]
    },
    {
     "name": "stdout",
     "output_type": "stream",
     "text": [
      "Agent 2386 has died after 52 steps\n",
      "Agent 2359 has eaten 6 sugar from sugar 1261\n",
      "Agent 2307 has eaten 6 sugar from sugar 1089\n",
      "Agent 2318 has eaten 3.0 sugar from sugar 167\n",
      "Agent 2356 has eaten 4.0 sugar from sugar 60\n",
      "Agent 2380 has eaten 6 sugar from sugar 251\n",
      "Agent 2325 has eaten 4.0 sugar from sugar 161\n",
      "Agent 2316 has eaten 6 sugar from sugar 302\n",
      "Agent 2297 has eaten 6 sugar from sugar 277\n",
      "Agent 2345 has eaten 6 sugar from sugar 94\n",
      "Agent 2350 has eaten 5.0 sugar from sugar 670\n",
      "Agent 2299 has eaten 6 sugar from sugar 514\n",
      "Agent 2381 has eaten 6 sugar from sugar 116\n",
      "Agent 2308 has eaten 6 sugar from sugar 916\n",
      "Agent 2339 has eaten 5.0 sugar from sugar 442\n",
      "Agent 2369 has eaten 6 sugar from sugar 2167\n",
      "Agent 2334 has eaten 6 sugar from sugar 1688\n",
      "Agent 2315 has eaten 1.0 sugar from sugar 365\n",
      "Agent 2341 has eaten 6 sugar from sugar 2238\n",
      "Agent 2386 has eaten 5.0 sugar from sugar 427\n",
      "Agent 2367 has eaten 6 sugar from sugar 1080\n",
      "Agent 2352 has eaten 6 sugar from sugar 2049\n",
      "Agent 2374 has eaten 6 sugar from sugar 1253\n",
      "Agent 2322 has eaten 6 sugar from sugar 584\n",
      "Agent 2383 has eaten 6 sugar from sugar 1315\n",
      "Agent 2373 has eaten 6.0 sugar from sugar 1843\n",
      "Agent 2336 has eaten 6 sugar from sugar 1910\n",
      "Agent 2370 has eaten 6 sugar from sugar 84\n",
      "Agent 2324 has eaten 5.0 sugar from sugar 1174\n",
      "Agent 2303 has eaten 5.0 sugar from sugar 462\n",
      "Agent 2319 has eaten 6 sugar from sugar 700\n",
      "Agent 2354 has eaten 6 sugar from sugar 2095\n",
      "52\n"
     ]
    },
    {
     "name": "stderr",
     "output_type": "stream",
     "text": [
      "C:\\Users\\DELL\\AppData\\Local\\Temp\\ipykernel_13528\\3195471959.py:147: DeprecationWarning: Because of the shift to using AgentSet, in the future this attribute will return a dict withtype as key as AgentSet as value. Future behavior is available via RandomActivationByType._agents_by_type\n",
      "  for sugar_agent in self.schedule.agents_by_type[Sugar].values():\n",
      "C:\\Users\\DELL\\AppData\\Local\\Temp\\ipykernel_13528\\3195471959.py:139: DeprecationWarning: Because of the shift to using AgentSet, in the future this attribute will return a dict withtype as key as AgentSet as value. Future behavior is available via RandomActivationByType._agents_by_type\n",
      "  corrupt_agents_shuffle = list(self.schedule.agents_by_type[Corrupt_agent].values())\n",
      "C:\\Users\\DELL\\AppData\\Local\\Temp\\ipykernel_13528\\3195471959.py:92: DeprecationWarning: Because of the shift to using AgentSet, in the future this attribute will return a dict withtype as key as AgentSet as value. Future behavior is available via RandomActivationByType._agents_by_type\n",
      "  agents = [agent for agent in self.schedule.agents_by_type[Corrupt_agent].values()]\n"
     ]
    },
    {
     "name": "stdout",
     "output_type": "stream",
     "text": [
      "Agent 2381 with 26.0 has shared 3.0 with 2325 with 39.0\n",
      "53\n"
     ]
    },
    {
     "name": "stderr",
     "output_type": "stream",
     "text": [
      "C:\\Users\\DELL\\AppData\\Local\\Temp\\ipykernel_13528\\3195471959.py:147: DeprecationWarning: Because of the shift to using AgentSet, in the future this attribute will return a dict withtype as key as AgentSet as value. Future behavior is available via RandomActivationByType._agents_by_type\n",
      "  for sugar_agent in self.schedule.agents_by_type[Sugar].values():\n",
      "C:\\Users\\DELL\\AppData\\Local\\Temp\\ipykernel_13528\\3195471959.py:139: DeprecationWarning: Because of the shift to using AgentSet, in the future this attribute will return a dict withtype as key as AgentSet as value. Future behavior is available via RandomActivationByType._agents_by_type\n",
      "  corrupt_agents_shuffle = list(self.schedule.agents_by_type[Corrupt_agent].values())\n",
      "C:\\Users\\DELL\\AppData\\Local\\Temp\\ipykernel_13528\\3195471959.py:92: DeprecationWarning: Because of the shift to using AgentSet, in the future this attribute will return a dict withtype as key as AgentSet as value. Future behavior is available via RandomActivationByType._agents_by_type\n",
      "  agents = [agent for agent in self.schedule.agents_by_type[Corrupt_agent].values()]\n"
     ]
    },
    {
     "name": "stdout",
     "output_type": "stream",
     "text": [
      "Agent 2315 stole 5.0 resources from Agent 2297.\n",
      "Agent 2316 stole 2.0 resources from Agent 2381.\n",
      "Agent 2316 stole 4.0 resources from Agent 2325.\n",
      "Agent 2316 stole 5.0 resources from Agent 2339.\n",
      "Agent 2319 stole 3.0 resources from Agent 2299.\n",
      "Agent 2381 stole 1.0 resources from Agent 2318.\n",
      "Agent 2381 stole 4.0 resources from Agent 2325.\n",
      "Agent 2325 stole 3.0 resources from Agent 2381.\n",
      "54\n"
     ]
    },
    {
     "name": "stderr",
     "output_type": "stream",
     "text": [
      "C:\\Users\\DELL\\AppData\\Local\\Temp\\ipykernel_13528\\3195471959.py:147: DeprecationWarning: Because of the shift to using AgentSet, in the future this attribute will return a dict withtype as key as AgentSet as value. Future behavior is available via RandomActivationByType._agents_by_type\n",
      "  for sugar_agent in self.schedule.agents_by_type[Sugar].values():\n",
      "C:\\Users\\DELL\\AppData\\Local\\Temp\\ipykernel_13528\\3195471959.py:139: DeprecationWarning: Because of the shift to using AgentSet, in the future this attribute will return a dict withtype as key as AgentSet as value. Future behavior is available via RandomActivationByType._agents_by_type\n",
      "  corrupt_agents_shuffle = list(self.schedule.agents_by_type[Corrupt_agent].values())\n",
      "C:\\Users\\DELL\\AppData\\Local\\Temp\\ipykernel_13528\\3195471959.py:92: DeprecationWarning: Because of the shift to using AgentSet, in the future this attribute will return a dict withtype as key as AgentSet as value. Future behavior is available via RandomActivationByType._agents_by_type\n",
      "  agents = [agent for agent in self.schedule.agents_by_type[Corrupt_agent].values()]\n"
     ]
    },
    {
     "name": "stdout",
     "output_type": "stream",
     "text": [
      "Agent 2303 has died after 55 steps\n",
      "Agent 2324 has eaten 5.0 sugar from sugar 1174\n",
      "Agent 2316 has eaten 6 sugar from sugar 302\n",
      "Agent 2339 has eaten 5.0 sugar from sugar 442\n",
      "Agent 2336 has eaten 6 sugar from sugar 1910\n",
      "Agent 2303 has eaten 5.0 sugar from sugar 462\n",
      "Agent 2356 has eaten 4.0 sugar from sugar 60\n",
      "Agent 2383 has eaten 6 sugar from sugar 1315\n",
      "Agent 2354 has eaten 6 sugar from sugar 2095\n",
      "Agent 2352 has eaten 6 sugar from sugar 2049\n",
      "Agent 2325 has eaten 4.0 sugar from sugar 161\n",
      "Agent 2318 has eaten 3.0 sugar from sugar 167\n",
      "Agent 2350 has eaten 5.0 sugar from sugar 670\n",
      "Agent 2319 has eaten 6 sugar from sugar 700\n",
      "Agent 2308 has eaten 6 sugar from sugar 916\n",
      "Agent 2307 has eaten 6 sugar from sugar 1089\n",
      "Agent 2322 has eaten 6 sugar from sugar 584\n",
      "Agent 2370 has eaten 6 sugar from sugar 84\n",
      "Agent 2299 has eaten 6 sugar from sugar 514\n",
      "Agent 2369 has eaten 6 sugar from sugar 2167\n",
      "Agent 2334 has eaten 6 sugar from sugar 1688\n",
      "Agent 2367 has eaten 6 sugar from sugar 1080\n",
      "Agent 2315 has eaten 1.0 sugar from sugar 365\n",
      "Agent 2345 has eaten 6 sugar from sugar 94\n",
      "Agent 2374 has eaten 6 sugar from sugar 1253\n",
      "Agent 2359 has eaten 6 sugar from sugar 1261\n",
      "Agent 2381 has eaten 6 sugar from sugar 116\n",
      "Agent 2373 has eaten 6.0 sugar from sugar 1843\n",
      "Agent 2380 has eaten 6 sugar from sugar 251\n",
      "Agent 2341 has eaten 6 sugar from sugar 2238\n",
      "Agent 2297 has eaten 6 sugar from sugar 277\n",
      "55\n"
     ]
    },
    {
     "name": "stderr",
     "output_type": "stream",
     "text": [
      "C:\\Users\\DELL\\AppData\\Local\\Temp\\ipykernel_13528\\3195471959.py:147: DeprecationWarning: Because of the shift to using AgentSet, in the future this attribute will return a dict withtype as key as AgentSet as value. Future behavior is available via RandomActivationByType._agents_by_type\n",
      "  for sugar_agent in self.schedule.agents_by_type[Sugar].values():\n",
      "C:\\Users\\DELL\\AppData\\Local\\Temp\\ipykernel_13528\\3195471959.py:139: DeprecationWarning: Because of the shift to using AgentSet, in the future this attribute will return a dict withtype as key as AgentSet as value. Future behavior is available via RandomActivationByType._agents_by_type\n",
      "  corrupt_agents_shuffle = list(self.schedule.agents_by_type[Corrupt_agent].values())\n",
      "C:\\Users\\DELL\\AppData\\Local\\Temp\\ipykernel_13528\\3195471959.py:92: DeprecationWarning: Because of the shift to using AgentSet, in the future this attribute will return a dict withtype as key as AgentSet as value. Future behavior is available via RandomActivationByType._agents_by_type\n",
      "  agents = [agent for agent in self.schedule.agents_by_type[Corrupt_agent].values()]\n"
     ]
    },
    {
     "name": "stdout",
     "output_type": "stream",
     "text": [
      "Agent 2380 with 32.0 has shared 4.0 with 2325 with 39.0\n",
      "Agent 2325 with 35.0 has shared 4.0 with 2380 with 36.0\n",
      "56\n"
     ]
    },
    {
     "name": "stderr",
     "output_type": "stream",
     "text": [
      "C:\\Users\\DELL\\AppData\\Local\\Temp\\ipykernel_13528\\3195471959.py:147: DeprecationWarning: Because of the shift to using AgentSet, in the future this attribute will return a dict withtype as key as AgentSet as value. Future behavior is available via RandomActivationByType._agents_by_type\n",
      "  for sugar_agent in self.schedule.agents_by_type[Sugar].values():\n",
      "C:\\Users\\DELL\\AppData\\Local\\Temp\\ipykernel_13528\\3195471959.py:139: DeprecationWarning: Because of the shift to using AgentSet, in the future this attribute will return a dict withtype as key as AgentSet as value. Future behavior is available via RandomActivationByType._agents_by_type\n",
      "  corrupt_agents_shuffle = list(self.schedule.agents_by_type[Corrupt_agent].values())\n",
      "C:\\Users\\DELL\\AppData\\Local\\Temp\\ipykernel_13528\\3195471959.py:92: DeprecationWarning: Because of the shift to using AgentSet, in the future this attribute will return a dict withtype as key as AgentSet as value. Future behavior is available via RandomActivationByType._agents_by_type\n",
      "  agents = [agent for agent in self.schedule.agents_by_type[Corrupt_agent].values()]\n"
     ]
    },
    {
     "name": "stdout",
     "output_type": "stream",
     "text": [
      "Agent 2297 stole 1.0 resources from Agent 2315.\n",
      "Agent 2325 stole 4.0 resources from Agent 2380.\n",
      "Agent 2325 stole 2.0 resources from Agent 2381.\n",
      "Agent 2325 stole 7.0 resources from Agent 2316.\n",
      "Agent 2316 stole 3.0 resources from Agent 2380.\n",
      "Agent 2316 stole 2.0 resources from Agent 2381.\n",
      "Agent 2381 stole 5.0 resources from Agent 2325.\n",
      "Agent 2381 stole 1.0 resources from Agent 2318.\n",
      "Agent 2381 stole 3.0 resources from Agent 2380.\n",
      "Agent 2380 stole 7.0 resources from Agent 2316.\n",
      "57\n"
     ]
    },
    {
     "name": "stderr",
     "output_type": "stream",
     "text": [
      "C:\\Users\\DELL\\AppData\\Local\\Temp\\ipykernel_13528\\3195471959.py:147: DeprecationWarning: Because of the shift to using AgentSet, in the future this attribute will return a dict withtype as key as AgentSet as value. Future behavior is available via RandomActivationByType._agents_by_type\n",
      "  for sugar_agent in self.schedule.agents_by_type[Sugar].values():\n",
      "C:\\Users\\DELL\\AppData\\Local\\Temp\\ipykernel_13528\\3195471959.py:139: DeprecationWarning: Because of the shift to using AgentSet, in the future this attribute will return a dict withtype as key as AgentSet as value. Future behavior is available via RandomActivationByType._agents_by_type\n",
      "  corrupt_agents_shuffle = list(self.schedule.agents_by_type[Corrupt_agent].values())\n",
      "C:\\Users\\DELL\\AppData\\Local\\Temp\\ipykernel_13528\\3195471959.py:92: DeprecationWarning: Because of the shift to using AgentSet, in the future this attribute will return a dict withtype as key as AgentSet as value. Future behavior is available via RandomActivationByType._agents_by_type\n",
      "  agents = [agent for agent in self.schedule.agents_by_type[Corrupt_agent].values()]\n"
     ]
    },
    {
     "name": "stdout",
     "output_type": "stream",
     "text": [
      "Agent 2308 has eaten 6 sugar from sugar 916\n",
      "Agent 2359 has eaten 6 sugar from sugar 1261\n",
      "Agent 2373 has eaten 6.0 sugar from sugar 1843\n",
      "Agent 2336 has eaten 6 sugar from sugar 1910\n",
      "Agent 2356 has eaten 4.0 sugar from sugar 60\n",
      "Agent 2325 has eaten 4.0 sugar from sugar 161\n",
      "Agent 2354 has eaten 6 sugar from sugar 2095\n",
      "Agent 2339 has eaten 5.0 sugar from sugar 442\n",
      "Agent 2315 has eaten 1.0 sugar from sugar 365\n",
      "Agent 2383 has eaten 6 sugar from sugar 1315\n",
      "Agent 2350 has eaten 5.0 sugar from sugar 670\n",
      "Agent 2297 has eaten 6 sugar from sugar 277\n",
      "Agent 2369 has eaten 6 sugar from sugar 2167\n",
      "Agent 2299 has eaten 6 sugar from sugar 514\n",
      "Agent 2318 has eaten 3.0 sugar from sugar 167\n",
      "Agent 2352 has eaten 6 sugar from sugar 2049\n",
      "Agent 2319 has eaten 6 sugar from sugar 700\n",
      "Agent 2341 has eaten 6 sugar from sugar 2238\n",
      "Agent 2370 has eaten 6 sugar from sugar 84\n",
      "Agent 2374 has eaten 6 sugar from sugar 1253\n",
      "Agent 2334 has eaten 6 sugar from sugar 1688\n",
      "Agent 2380 has eaten 6 sugar from sugar 251\n",
      "Agent 2316 has eaten 6 sugar from sugar 302\n",
      "Agent 2381 has eaten 6 sugar from sugar 116\n",
      "Agent 2322 has eaten 6 sugar from sugar 584\n",
      "Agent 2307 has eaten 6 sugar from sugar 1089\n",
      "Agent 2324 has eaten 5.0 sugar from sugar 1174\n",
      "Agent 2367 has eaten 6 sugar from sugar 1080\n",
      "Agent 2345 has eaten 6 sugar from sugar 94\n",
      "58\n"
     ]
    },
    {
     "name": "stderr",
     "output_type": "stream",
     "text": [
      "C:\\Users\\DELL\\AppData\\Local\\Temp\\ipykernel_13528\\3195471959.py:147: DeprecationWarning: Because of the shift to using AgentSet, in the future this attribute will return a dict withtype as key as AgentSet as value. Future behavior is available via RandomActivationByType._agents_by_type\n",
      "  for sugar_agent in self.schedule.agents_by_type[Sugar].values():\n",
      "C:\\Users\\DELL\\AppData\\Local\\Temp\\ipykernel_13528\\3195471959.py:139: DeprecationWarning: Because of the shift to using AgentSet, in the future this attribute will return a dict withtype as key as AgentSet as value. Future behavior is available via RandomActivationByType._agents_by_type\n",
      "  corrupt_agents_shuffle = list(self.schedule.agents_by_type[Corrupt_agent].values())\n",
      "C:\\Users\\DELL\\AppData\\Local\\Temp\\ipykernel_13528\\3195471959.py:92: DeprecationWarning: Because of the shift to using AgentSet, in the future this attribute will return a dict withtype as key as AgentSet as value. Future behavior is available via RandomActivationByType._agents_by_type\n",
      "  agents = [agent for agent in self.schedule.agents_by_type[Corrupt_agent].values()]\n"
     ]
    },
    {
     "name": "stdout",
     "output_type": "stream",
     "text": [
      "Agent 2325 with 39.0 has shared 5.0 with 2380 with 41.0\n",
      "59\n"
     ]
    },
    {
     "name": "stderr",
     "output_type": "stream",
     "text": [
      "C:\\Users\\DELL\\AppData\\Local\\Temp\\ipykernel_13528\\3195471959.py:147: DeprecationWarning: Because of the shift to using AgentSet, in the future this attribute will return a dict withtype as key as AgentSet as value. Future behavior is available via RandomActivationByType._agents_by_type\n",
      "  for sugar_agent in self.schedule.agents_by_type[Sugar].values():\n",
      "C:\\Users\\DELL\\AppData\\Local\\Temp\\ipykernel_13528\\3195471959.py:139: DeprecationWarning: Because of the shift to using AgentSet, in the future this attribute will return a dict withtype as key as AgentSet as value. Future behavior is available via RandomActivationByType._agents_by_type\n",
      "  corrupt_agents_shuffle = list(self.schedule.agents_by_type[Corrupt_agent].values())\n",
      "C:\\Users\\DELL\\AppData\\Local\\Temp\\ipykernel_13528\\3195471959.py:92: DeprecationWarning: Because of the shift to using AgentSet, in the future this attribute will return a dict withtype as key as AgentSet as value. Future behavior is available via RandomActivationByType._agents_by_type\n",
      "  agents = [agent for agent in self.schedule.agents_by_type[Corrupt_agent].values()]\n"
     ]
    },
    {
     "name": "stdout",
     "output_type": "stream",
     "text": [
      "Agent 2352 stole 3.0 resources from Agent 2354.\n",
      "Agent 2380 stole 7.0 resources from Agent 2316.\n",
      "Agent 2381 stole 5.0 resources from Agent 2380.\n",
      "Agent 2381 stole 4.0 resources from Agent 2325.\n",
      "Agent 2381 stole 1.0 resources from Agent 2318.\n",
      "Agent 2381 stole 6.0 resources from Agent 2316.\n",
      "Agent 2315 stole 5.0 resources from Agent 2297.\n",
      "Agent 2325 stole 4.0 resources from Agent 2381.\n",
      "Agent 2325 stole 5.0 resources from Agent 2380.\n",
      "Agent 2325 stole 5.0 resources from Agent 2316.\n",
      "Agent 2319 stole 2.0 resources from Agent 2299.\n",
      "Agent 2316 stole 6.0 resources from Agent 2325.\n",
      "Agent 2297 stole 1.0 resources from Agent 2315.\n",
      "60\n"
     ]
    },
    {
     "name": "stderr",
     "output_type": "stream",
     "text": [
      "C:\\Users\\DELL\\AppData\\Local\\Temp\\ipykernel_13528\\3195471959.py:147: DeprecationWarning: Because of the shift to using AgentSet, in the future this attribute will return a dict withtype as key as AgentSet as value. Future behavior is available via RandomActivationByType._agents_by_type\n",
      "  for sugar_agent in self.schedule.agents_by_type[Sugar].values():\n",
      "C:\\Users\\DELL\\AppData\\Local\\Temp\\ipykernel_13528\\3195471959.py:139: DeprecationWarning: Because of the shift to using AgentSet, in the future this attribute will return a dict withtype as key as AgentSet as value. Future behavior is available via RandomActivationByType._agents_by_type\n",
      "  corrupt_agents_shuffle = list(self.schedule.agents_by_type[Corrupt_agent].values())\n",
      "C:\\Users\\DELL\\AppData\\Local\\Temp\\ipykernel_13528\\3195471959.py:92: DeprecationWarning: Because of the shift to using AgentSet, in the future this attribute will return a dict withtype as key as AgentSet as value. Future behavior is available via RandomActivationByType._agents_by_type\n",
      "  agents = [agent for agent in self.schedule.agents_by_type[Corrupt_agent].values()]\n"
     ]
    },
    {
     "name": "stdout",
     "output_type": "stream",
     "text": [
      "Agent 2315 has eaten 1.0 sugar from sugar 365\n",
      "Agent 2373 has eaten 6.0 sugar from sugar 1843\n",
      "Agent 2308 has eaten 6 sugar from sugar 916\n",
      "Agent 2367 has eaten 6 sugar from sugar 1080\n",
      "Agent 2369 has eaten 6 sugar from sugar 2167\n",
      "Agent 2380 has eaten 6 sugar from sugar 251\n",
      "Agent 2370 has eaten 6 sugar from sugar 84\n",
      "Agent 2325 has eaten 4.0 sugar from sugar 161\n",
      "Agent 2374 has eaten 6 sugar from sugar 1253\n",
      "Agent 2339 has eaten 5.0 sugar from sugar 442\n",
      "Agent 2319 has eaten 6 sugar from sugar 700\n",
      "Agent 2345 has eaten 6 sugar from sugar 94\n",
      "Agent 2307 has eaten 6 sugar from sugar 1089\n",
      "Agent 2354 has eaten 6 sugar from sugar 2095\n",
      "Agent 2359 has eaten 6 sugar from sugar 1261\n",
      "Agent 2318 has eaten 3.0 sugar from sugar 167\n",
      "Agent 2297 has eaten 6 sugar from sugar 277\n",
      "Agent 2334 has eaten 6 sugar from sugar 1688\n",
      "Agent 2356 has eaten 4.0 sugar from sugar 60\n",
      "Agent 2336 has eaten 6 sugar from sugar 1910\n",
      "Agent 2352 has eaten 6 sugar from sugar 2049\n",
      "Agent 2299 has eaten 6 sugar from sugar 514\n",
      "Agent 2341 has eaten 6 sugar from sugar 2238\n",
      "Agent 2316 has eaten 6 sugar from sugar 302\n",
      "Agent 2383 has eaten 6 sugar from sugar 1315\n",
      "Agent 2322 has eaten 6 sugar from sugar 584\n",
      "Agent 2381 has eaten 6 sugar from sugar 116\n",
      "Agent 2324 has eaten 5.0 sugar from sugar 1174\n",
      "Agent 2350 has eaten 5.0 sugar from sugar 670\n",
      "61\n"
     ]
    },
    {
     "name": "stderr",
     "output_type": "stream",
     "text": [
      "C:\\Users\\DELL\\AppData\\Local\\Temp\\ipykernel_13528\\3195471959.py:147: DeprecationWarning: Because of the shift to using AgentSet, in the future this attribute will return a dict withtype as key as AgentSet as value. Future behavior is available via RandomActivationByType._agents_by_type\n",
      "  for sugar_agent in self.schedule.agents_by_type[Sugar].values():\n",
      "C:\\Users\\DELL\\AppData\\Local\\Temp\\ipykernel_13528\\3195471959.py:139: DeprecationWarning: Because of the shift to using AgentSet, in the future this attribute will return a dict withtype as key as AgentSet as value. Future behavior is available via RandomActivationByType._agents_by_type\n",
      "  corrupt_agents_shuffle = list(self.schedule.agents_by_type[Corrupt_agent].values())\n",
      "C:\\Users\\DELL\\AppData\\Local\\Temp\\ipykernel_13528\\3195471959.py:92: DeprecationWarning: Because of the shift to using AgentSet, in the future this attribute will return a dict withtype as key as AgentSet as value. Future behavior is available via RandomActivationByType._agents_by_type\n",
      "  agents = [agent for agent in self.schedule.agents_by_type[Corrupt_agent].values()]\n"
     ]
    },
    {
     "name": "stdout",
     "output_type": "stream",
     "text": [
      "Agent 2339 with 38.0 has shared 5.0 with 2350 with 57.0\n",
      "Agent 2381 with 30.0 has shared 4.0 with 2325 with 48.0\n",
      "Agent 2380 with 36.0 has shared 5.0 with 2325 with 53.0\n",
      "62\n"
     ]
    },
    {
     "name": "stderr",
     "output_type": "stream",
     "text": [
      "C:\\Users\\DELL\\AppData\\Local\\Temp\\ipykernel_13528\\3195471959.py:147: DeprecationWarning: Because of the shift to using AgentSet, in the future this attribute will return a dict withtype as key as AgentSet as value. Future behavior is available via RandomActivationByType._agents_by_type\n",
      "  for sugar_agent in self.schedule.agents_by_type[Sugar].values():\n",
      "C:\\Users\\DELL\\AppData\\Local\\Temp\\ipykernel_13528\\3195471959.py:139: DeprecationWarning: Because of the shift to using AgentSet, in the future this attribute will return a dict withtype as key as AgentSet as value. Future behavior is available via RandomActivationByType._agents_by_type\n",
      "  corrupt_agents_shuffle = list(self.schedule.agents_by_type[Corrupt_agent].values())\n",
      "C:\\Users\\DELL\\AppData\\Local\\Temp\\ipykernel_13528\\3195471959.py:92: DeprecationWarning: Because of the shift to using AgentSet, in the future this attribute will return a dict withtype as key as AgentSet as value. Future behavior is available via RandomActivationByType._agents_by_type\n",
      "  agents = [agent for agent in self.schedule.agents_by_type[Corrupt_agent].values()]\n"
     ]
    },
    {
     "name": "stdout",
     "output_type": "stream",
     "text": [
      "Agent 2315 stole 5.0 resources from Agent 2297.\n",
      "Agent 2359 stole 5.0 resources from Agent 2324.\n",
      "Agent 2381 stole 1.0 resources from Agent 2318.\n",
      "Agent 2381 stole 6.0 resources from Agent 2325.\n",
      "Agent 2381 stole 6.0 resources from Agent 2316.\n",
      "Agent 2316 stole 5.0 resources from Agent 2381.\n",
      "Agent 2316 stole 5.0 resources from Agent 2325.\n",
      "Agent 2316 stole 4.0 resources from Agent 2380.\n",
      "Agent 2380 stole 5.0 resources from Agent 2325.\n",
      "Agent 2354 stole 6.0 resources from Agent 2352.\n",
      "63\n"
     ]
    },
    {
     "name": "stderr",
     "output_type": "stream",
     "text": [
      "C:\\Users\\DELL\\AppData\\Local\\Temp\\ipykernel_13528\\3195471959.py:147: DeprecationWarning: Because of the shift to using AgentSet, in the future this attribute will return a dict withtype as key as AgentSet as value. Future behavior is available via RandomActivationByType._agents_by_type\n",
      "  for sugar_agent in self.schedule.agents_by_type[Sugar].values():\n",
      "C:\\Users\\DELL\\AppData\\Local\\Temp\\ipykernel_13528\\3195471959.py:139: DeprecationWarning: Because of the shift to using AgentSet, in the future this attribute will return a dict withtype as key as AgentSet as value. Future behavior is available via RandomActivationByType._agents_by_type\n",
      "  corrupt_agents_shuffle = list(self.schedule.agents_by_type[Corrupt_agent].values())\n",
      "C:\\Users\\DELL\\AppData\\Local\\Temp\\ipykernel_13528\\3195471959.py:92: DeprecationWarning: Because of the shift to using AgentSet, in the future this attribute will return a dict withtype as key as AgentSet as value. Future behavior is available via RandomActivationByType._agents_by_type\n",
      "  agents = [agent for agent in self.schedule.agents_by_type[Corrupt_agent].values()]\n"
     ]
    },
    {
     "name": "stdout",
     "output_type": "stream",
     "text": [
      "Agent 2350 has eaten 5.0 sugar from sugar 670\n",
      "Agent 2339 has eaten 5.0 sugar from sugar 442\n",
      "Agent 2373 has eaten 6.0 sugar from sugar 1843\n",
      "Agent 2359 has eaten 6 sugar from sugar 1261\n",
      "Agent 2322 has eaten 6 sugar from sugar 584\n",
      "Agent 2381 has eaten 6 sugar from sugar 116\n",
      "Agent 2380 has eaten 6 sugar from sugar 251\n",
      "Agent 2367 has eaten 6 sugar from sugar 1080\n",
      "Agent 2316 has eaten 6 sugar from sugar 302\n",
      "Agent 2299 has eaten 6 sugar from sugar 514\n",
      "Agent 2319 has eaten 6 sugar from sugar 700\n",
      "Agent 2307 has eaten 6 sugar from sugar 1089\n",
      "Agent 2370 has eaten 6 sugar from sugar 84\n",
      "Agent 2325 has eaten 4.0 sugar from sugar 161\n",
      "Agent 2336 has eaten 6 sugar from sugar 1910\n",
      "Agent 2324 has eaten 5.0 sugar from sugar 1174\n",
      "Agent 2345 has eaten 6 sugar from sugar 94\n",
      "Agent 2297 has eaten 6 sugar from sugar 277\n",
      "Agent 2315 has eaten 1.0 sugar from sugar 365\n",
      "Agent 2352 has eaten 6 sugar from sugar 2049\n",
      "Agent 2308 has eaten 6 sugar from sugar 916\n",
      "Agent 2334 has eaten 6 sugar from sugar 1688\n",
      "Agent 2354 has eaten 6 sugar from sugar 2095\n",
      "Agent 2341 has eaten 6 sugar from sugar 2238\n",
      "Agent 2374 has eaten 6 sugar from sugar 1253\n",
      "Agent 2383 has eaten 6 sugar from sugar 1315\n",
      "Agent 2356 has eaten 4.0 sugar from sugar 60\n",
      "Agent 2318 has eaten 3.0 sugar from sugar 167\n",
      "Agent 2369 has eaten 6 sugar from sugar 2167\n",
      "64\n"
     ]
    },
    {
     "name": "stderr",
     "output_type": "stream",
     "text": [
      "C:\\Users\\DELL\\AppData\\Local\\Temp\\ipykernel_13528\\3195471959.py:147: DeprecationWarning: Because of the shift to using AgentSet, in the future this attribute will return a dict withtype as key as AgentSet as value. Future behavior is available via RandomActivationByType._agents_by_type\n",
      "  for sugar_agent in self.schedule.agents_by_type[Sugar].values():\n",
      "C:\\Users\\DELL\\AppData\\Local\\Temp\\ipykernel_13528\\3195471959.py:139: DeprecationWarning: Because of the shift to using AgentSet, in the future this attribute will return a dict withtype as key as AgentSet as value. Future behavior is available via RandomActivationByType._agents_by_type\n",
      "  corrupt_agents_shuffle = list(self.schedule.agents_by_type[Corrupt_agent].values())\n",
      "C:\\Users\\DELL\\AppData\\Local\\Temp\\ipykernel_13528\\3195471959.py:92: DeprecationWarning: Because of the shift to using AgentSet, in the future this attribute will return a dict withtype as key as AgentSet as value. Future behavior is available via RandomActivationByType._agents_by_type\n",
      "  agents = [agent for agent in self.schedule.agents_by_type[Corrupt_agent].values()]\n"
     ]
    },
    {
     "name": "stdout",
     "output_type": "stream",
     "text": [
      "Agent 2380 with 35.0 has shared 5.0 with 2381 with 40.0\n",
      "Agent 2381 with 35.0 has shared 5.0 with 2325 with 43.0\n",
      "Agent 2381 with 31.0 has shared 4.0 with 2380 with 39.0\n",
      "Agent 2325 with 38.0 has shared 5.0 with 2380 with 44.0\n",
      "65\n"
     ]
    },
    {
     "name": "stderr",
     "output_type": "stream",
     "text": [
      "C:\\Users\\DELL\\AppData\\Local\\Temp\\ipykernel_13528\\3195471959.py:147: DeprecationWarning: Because of the shift to using AgentSet, in the future this attribute will return a dict withtype as key as AgentSet as value. Future behavior is available via RandomActivationByType._agents_by_type\n",
      "  for sugar_agent in self.schedule.agents_by_type[Sugar].values():\n",
      "C:\\Users\\DELL\\AppData\\Local\\Temp\\ipykernel_13528\\3195471959.py:139: DeprecationWarning: Because of the shift to using AgentSet, in the future this attribute will return a dict withtype as key as AgentSet as value. Future behavior is available via RandomActivationByType._agents_by_type\n",
      "  corrupt_agents_shuffle = list(self.schedule.agents_by_type[Corrupt_agent].values())\n",
      "C:\\Users\\DELL\\AppData\\Local\\Temp\\ipykernel_13528\\3195471959.py:92: DeprecationWarning: Because of the shift to using AgentSet, in the future this attribute will return a dict withtype as key as AgentSet as value. Future behavior is available via RandomActivationByType._agents_by_type\n",
      "  agents = [agent for agent in self.schedule.agents_by_type[Corrupt_agent].values()]\n"
     ]
    },
    {
     "name": "stdout",
     "output_type": "stream",
     "text": [
      "Agent 2316 stole 4.0 resources from Agent 2325.\n",
      "Agent 2315 stole 5.0 resources from Agent 2297.\n",
      "Agent 2297 stole 1.0 resources from Agent 2315.\n",
      "Agent 2380 stole 4.0 resources from Agent 2325.\n",
      "Agent 2325 stole 3.0 resources from Agent 2381.\n",
      "Agent 2325 stole 5.0 resources from Agent 2380.\n",
      "Agent 2325 stole 7.0 resources from Agent 2316.\n",
      "Agent 2381 stole 1.0 resources from Agent 2318.\n",
      "Agent 2381 stole 5.0 resources from Agent 2380.\n",
      "Agent 2381 stole 7.0 resources from Agent 2316.\n",
      "66\n"
     ]
    },
    {
     "name": "stderr",
     "output_type": "stream",
     "text": [
      "C:\\Users\\DELL\\AppData\\Local\\Temp\\ipykernel_13528\\3195471959.py:147: DeprecationWarning: Because of the shift to using AgentSet, in the future this attribute will return a dict withtype as key as AgentSet as value. Future behavior is available via RandomActivationByType._agents_by_type\n",
      "  for sugar_agent in self.schedule.agents_by_type[Sugar].values():\n",
      "C:\\Users\\DELL\\AppData\\Local\\Temp\\ipykernel_13528\\3195471959.py:139: DeprecationWarning: Because of the shift to using AgentSet, in the future this attribute will return a dict withtype as key as AgentSet as value. Future behavior is available via RandomActivationByType._agents_by_type\n",
      "  corrupt_agents_shuffle = list(self.schedule.agents_by_type[Corrupt_agent].values())\n",
      "C:\\Users\\DELL\\AppData\\Local\\Temp\\ipykernel_13528\\3195471959.py:92: DeprecationWarning: Because of the shift to using AgentSet, in the future this attribute will return a dict withtype as key as AgentSet as value. Future behavior is available via RandomActivationByType._agents_by_type\n",
      "  agents = [agent for agent in self.schedule.agents_by_type[Corrupt_agent].values()]\n"
     ]
    },
    {
     "name": "stdout",
     "output_type": "stream",
     "text": [
      "Agent 2341 has eaten 6 sugar from sugar 2238\n",
      "Agent 2352 has eaten 6 sugar from sugar 2049\n",
      "Agent 2325 has eaten 4.0 sugar from sugar 161\n",
      "Agent 2299 has eaten 6 sugar from sugar 514\n",
      "Agent 2374 has eaten 6 sugar from sugar 1253\n",
      "Agent 2383 has eaten 6 sugar from sugar 1315\n",
      "Agent 2307 has eaten 6 sugar from sugar 1089\n",
      "Agent 2370 has eaten 6 sugar from sugar 84\n",
      "Agent 2350 has eaten 5.0 sugar from sugar 670\n",
      "Agent 2373 has eaten 6.0 sugar from sugar 1843\n",
      "Agent 2324 has eaten 5.0 sugar from sugar 1174\n",
      "Agent 2336 has eaten 6 sugar from sugar 1910\n",
      "Agent 2322 has eaten 6 sugar from sugar 584\n",
      "Agent 2308 has eaten 6 sugar from sugar 916\n",
      "Agent 2354 has eaten 6 sugar from sugar 2095\n",
      "Agent 2345 has eaten 6 sugar from sugar 94\n",
      "Agent 2367 has eaten 6 sugar from sugar 1080\n",
      "Agent 2381 has eaten 6 sugar from sugar 116\n",
      "Agent 2359 has eaten 6 sugar from sugar 1261\n",
      "Agent 2339 has eaten 5.0 sugar from sugar 442\n",
      "Agent 2315 has eaten 1.0 sugar from sugar 365\n",
      "Agent 2318 has eaten 3.0 sugar from sugar 167\n",
      "Agent 2369 has eaten 6 sugar from sugar 2167\n",
      "Agent 2356 has eaten 4.0 sugar from sugar 60\n",
      "Agent 2380 has eaten 6 sugar from sugar 251\n",
      "Agent 2319 has eaten 6 sugar from sugar 700\n",
      "Agent 2297 has eaten 6 sugar from sugar 277\n",
      "Agent 2334 has eaten 6 sugar from sugar 1688\n",
      "Agent 2316 has eaten 6 sugar from sugar 302\n",
      "67\n"
     ]
    },
    {
     "name": "stderr",
     "output_type": "stream",
     "text": [
      "C:\\Users\\DELL\\AppData\\Local\\Temp\\ipykernel_13528\\3195471959.py:147: DeprecationWarning: Because of the shift to using AgentSet, in the future this attribute will return a dict withtype as key as AgentSet as value. Future behavior is available via RandomActivationByType._agents_by_type\n",
      "  for sugar_agent in self.schedule.agents_by_type[Sugar].values():\n",
      "C:\\Users\\DELL\\AppData\\Local\\Temp\\ipykernel_13528\\3195471959.py:139: DeprecationWarning: Because of the shift to using AgentSet, in the future this attribute will return a dict withtype as key as AgentSet as value. Future behavior is available via RandomActivationByType._agents_by_type\n",
      "  corrupt_agents_shuffle = list(self.schedule.agents_by_type[Corrupt_agent].values())\n",
      "C:\\Users\\DELL\\AppData\\Local\\Temp\\ipykernel_13528\\3195471959.py:92: DeprecationWarning: Because of the shift to using AgentSet, in the future this attribute will return a dict withtype as key as AgentSet as value. Future behavior is available via RandomActivationByType._agents_by_type\n",
      "  agents = [agent for agent in self.schedule.agents_by_type[Corrupt_agent].values()]\n"
     ]
    },
    {
     "name": "stdout",
     "output_type": "stream",
     "text": [
      "Agent 2381 with 34.0 has shared 4.0 with 2325 with 50.0\n",
      "Agent 2316 with 47.0 has shared 6.0 with 2325 with 56.0\n",
      "Agent 2380 with 36.0 has shared 5.0 with 2381 with 39.0\n",
      "68\n"
     ]
    },
    {
     "name": "stderr",
     "output_type": "stream",
     "text": [
      "C:\\Users\\DELL\\AppData\\Local\\Temp\\ipykernel_13528\\3195471959.py:147: DeprecationWarning: Because of the shift to using AgentSet, in the future this attribute will return a dict withtype as key as AgentSet as value. Future behavior is available via RandomActivationByType._agents_by_type\n",
      "  for sugar_agent in self.schedule.agents_by_type[Sugar].values():\n",
      "C:\\Users\\DELL\\AppData\\Local\\Temp\\ipykernel_13528\\3195471959.py:139: DeprecationWarning: Because of the shift to using AgentSet, in the future this attribute will return a dict withtype as key as AgentSet as value. Future behavior is available via RandomActivationByType._agents_by_type\n",
      "  corrupt_agents_shuffle = list(self.schedule.agents_by_type[Corrupt_agent].values())\n",
      "C:\\Users\\DELL\\AppData\\Local\\Temp\\ipykernel_13528\\3195471959.py:92: DeprecationWarning: Because of the shift to using AgentSet, in the future this attribute will return a dict withtype as key as AgentSet as value. Future behavior is available via RandomActivationByType._agents_by_type\n",
      "  agents = [agent for agent in self.schedule.agents_by_type[Corrupt_agent].values()]\n"
     ]
    },
    {
     "name": "stdout",
     "output_type": "stream",
     "text": [
      "Agent 2325 stole 4.0 resources from Agent 2380.\n",
      "Agent 2315 stole 5.0 resources from Agent 2297.\n",
      "Agent 2381 stole 7.0 resources from Agent 2325.\n",
      "Agent 2381 stole 3.0 resources from Agent 2380.\n",
      "Agent 2381 stole 5.0 resources from Agent 2316.\n",
      "Agent 2359 stole 5.0 resources from Agent 2324.\n",
      "Agent 2316 stole 6.0 resources from Agent 2325.\n",
      "Agent 2316 stole 3.0 resources from Agent 2380.\n",
      "69\n"
     ]
    },
    {
     "name": "stderr",
     "output_type": "stream",
     "text": [
      "C:\\Users\\DELL\\AppData\\Local\\Temp\\ipykernel_13528\\3195471959.py:147: DeprecationWarning: Because of the shift to using AgentSet, in the future this attribute will return a dict withtype as key as AgentSet as value. Future behavior is available via RandomActivationByType._agents_by_type\n",
      "  for sugar_agent in self.schedule.agents_by_type[Sugar].values():\n",
      "C:\\Users\\DELL\\AppData\\Local\\Temp\\ipykernel_13528\\3195471959.py:139: DeprecationWarning: Because of the shift to using AgentSet, in the future this attribute will return a dict withtype as key as AgentSet as value. Future behavior is available via RandomActivationByType._agents_by_type\n",
      "  corrupt_agents_shuffle = list(self.schedule.agents_by_type[Corrupt_agent].values())\n",
      "C:\\Users\\DELL\\AppData\\Local\\Temp\\ipykernel_13528\\3195471959.py:92: DeprecationWarning: Because of the shift to using AgentSet, in the future this attribute will return a dict withtype as key as AgentSet as value. Future behavior is available via RandomActivationByType._agents_by_type\n",
      "  agents = [agent for agent in self.schedule.agents_by_type[Corrupt_agent].values()]\n"
     ]
    },
    {
     "name": "stdout",
     "output_type": "stream",
     "text": [
      "Agent 2367 has eaten 6 sugar from sugar 1080\n",
      "Agent 2350 has eaten 5.0 sugar from sugar 670\n",
      "Agent 2324 has eaten 5.0 sugar from sugar 1174\n",
      "Agent 2352 has eaten 6 sugar from sugar 2049\n",
      "Agent 2297 has eaten 6 sugar from sugar 277\n",
      "Agent 2370 has eaten 6 sugar from sugar 84\n",
      "Agent 2339 has eaten 5.0 sugar from sugar 442\n",
      "Agent 2318 has eaten 3.0 sugar from sugar 167\n",
      "Agent 2380 has eaten 6 sugar from sugar 251\n",
      "Agent 2341 has eaten 6 sugar from sugar 2238\n",
      "Agent 2315 has eaten 1.0 sugar from sugar 365\n",
      "Agent 2316 has eaten 6 sugar from sugar 302\n",
      "Agent 2374 has eaten 6 sugar from sugar 1253\n",
      "Agent 2336 has eaten 6 sugar from sugar 1910\n",
      "Agent 2299 has eaten 6 sugar from sugar 514\n",
      "Agent 2359 has eaten 6 sugar from sugar 1261\n",
      "Agent 2308 has eaten 6 sugar from sugar 916\n",
      "Agent 2369 has eaten 6 sugar from sugar 2167\n",
      "Agent 2334 has eaten 6 sugar from sugar 1688\n",
      "Agent 2307 has eaten 6 sugar from sugar 1089\n",
      "Agent 2383 has eaten 6 sugar from sugar 1315\n",
      "Agent 2325 has eaten 4.0 sugar from sugar 161\n",
      "Agent 2381 has eaten 6 sugar from sugar 116\n",
      "Agent 2354 has eaten 6 sugar from sugar 2095\n",
      "Agent 2319 has eaten 6 sugar from sugar 700\n",
      "Agent 2322 has eaten 6 sugar from sugar 584\n",
      "Agent 2373 has eaten 6.0 sugar from sugar 1843\n",
      "Agent 2356 has eaten 4.0 sugar from sugar 60\n",
      "Agent 2345 has eaten 6 sugar from sugar 94\n",
      "70\n"
     ]
    },
    {
     "name": "stderr",
     "output_type": "stream",
     "text": [
      "C:\\Users\\DELL\\AppData\\Local\\Temp\\ipykernel_13528\\3195471959.py:147: DeprecationWarning: Because of the shift to using AgentSet, in the future this attribute will return a dict withtype as key as AgentSet as value. Future behavior is available via RandomActivationByType._agents_by_type\n",
      "  for sugar_agent in self.schedule.agents_by_type[Sugar].values():\n",
      "C:\\Users\\DELL\\AppData\\Local\\Temp\\ipykernel_13528\\3195471959.py:139: DeprecationWarning: Because of the shift to using AgentSet, in the future this attribute will return a dict withtype as key as AgentSet as value. Future behavior is available via RandomActivationByType._agents_by_type\n",
      "  corrupt_agents_shuffle = list(self.schedule.agents_by_type[Corrupt_agent].values())\n",
      "C:\\Users\\DELL\\AppData\\Local\\Temp\\ipykernel_13528\\3195471959.py:92: DeprecationWarning: Because of the shift to using AgentSet, in the future this attribute will return a dict withtype as key as AgentSet as value. Future behavior is available via RandomActivationByType._agents_by_type\n",
      "  agents = [agent for agent in self.schedule.agents_by_type[Corrupt_agent].values()]\n"
     ]
    },
    {
     "name": "stdout",
     "output_type": "stream",
     "text": [
      "Agent 2325 with 42.0 has shared 6.0 with 2381 with 57.0\n",
      "Agent 2381 with 50.0 has shared 7.0 with 2316 with 61.0\n",
      "71\n"
     ]
    },
    {
     "name": "stderr",
     "output_type": "stream",
     "text": [
      "C:\\Users\\DELL\\AppData\\Local\\Temp\\ipykernel_13528\\3195471959.py:147: DeprecationWarning: Because of the shift to using AgentSet, in the future this attribute will return a dict withtype as key as AgentSet as value. Future behavior is available via RandomActivationByType._agents_by_type\n",
      "  for sugar_agent in self.schedule.agents_by_type[Sugar].values():\n",
      "C:\\Users\\DELL\\AppData\\Local\\Temp\\ipykernel_13528\\3195471959.py:139: DeprecationWarning: Because of the shift to using AgentSet, in the future this attribute will return a dict withtype as key as AgentSet as value. Future behavior is available via RandomActivationByType._agents_by_type\n",
      "  corrupt_agents_shuffle = list(self.schedule.agents_by_type[Corrupt_agent].values())\n",
      "C:\\Users\\DELL\\AppData\\Local\\Temp\\ipykernel_13528\\3195471959.py:92: DeprecationWarning: Because of the shift to using AgentSet, in the future this attribute will return a dict withtype as key as AgentSet as value. Future behavior is available via RandomActivationByType._agents_by_type\n",
      "  agents = [agent for agent in self.schedule.agents_by_type[Corrupt_agent].values()]\n"
     ]
    },
    {
     "name": "stdout",
     "output_type": "stream",
     "text": [
      "Agent 2315 stole 5.0 resources from Agent 2297.\n",
      "Agent 2381 stole 5.0 resources from Agent 2325.\n",
      "Agent 2381 stole 0.0 resources from Agent 2318.\n",
      "Agent 2297 stole 2.0 resources from Agent 2315.\n",
      "Agent 2325 stole 3.0 resources from Agent 2380.\n",
      "Agent 2325 stole 6.0 resources from Agent 2381.\n",
      "Agent 2319 stole 2.0 resources from Agent 2299.\n",
      "Agent 2380 stole 5.0 resources from Agent 2381.\n",
      "Agent 2352 stole 4.0 resources from Agent 2354.\n",
      "Agent 2354 stole 7.0 resources from Agent 2352.\n",
      "72\n"
     ]
    },
    {
     "name": "stderr",
     "output_type": "stream",
     "text": [
      "C:\\Users\\DELL\\AppData\\Local\\Temp\\ipykernel_13528\\3195471959.py:147: DeprecationWarning: Because of the shift to using AgentSet, in the future this attribute will return a dict withtype as key as AgentSet as value. Future behavior is available via RandomActivationByType._agents_by_type\n",
      "  for sugar_agent in self.schedule.agents_by_type[Sugar].values():\n",
      "C:\\Users\\DELL\\AppData\\Local\\Temp\\ipykernel_13528\\3195471959.py:139: DeprecationWarning: Because of the shift to using AgentSet, in the future this attribute will return a dict withtype as key as AgentSet as value. Future behavior is available via RandomActivationByType._agents_by_type\n",
      "  corrupt_agents_shuffle = list(self.schedule.agents_by_type[Corrupt_agent].values())\n",
      "C:\\Users\\DELL\\AppData\\Local\\Temp\\ipykernel_13528\\3195471959.py:92: DeprecationWarning: Because of the shift to using AgentSet, in the future this attribute will return a dict withtype as key as AgentSet as value. Future behavior is available via RandomActivationByType._agents_by_type\n",
      "  agents = [agent for agent in self.schedule.agents_by_type[Corrupt_agent].values()]\n"
     ]
    },
    {
     "name": "stdout",
     "output_type": "stream",
     "text": [
      "Agent 2319 has eaten 6 sugar from sugar 700\n",
      "Agent 2325 has eaten 4.0 sugar from sugar 161\n",
      "Agent 2341 has eaten 6 sugar from sugar 2238\n",
      "Agent 2297 has eaten 6 sugar from sugar 277\n",
      "Agent 2315 has eaten 1.0 sugar from sugar 365\n",
      "Agent 2316 has eaten 6 sugar from sugar 302\n",
      "Agent 2354 has eaten 6 sugar from sugar 2095\n",
      "Agent 2369 has eaten 6 sugar from sugar 2167\n",
      "Agent 2370 has eaten 6 sugar from sugar 84\n",
      "Agent 2383 has eaten 6 sugar from sugar 1315\n",
      "Agent 2373 has eaten 6.0 sugar from sugar 1843\n",
      "Agent 2334 has eaten 6 sugar from sugar 1688\n",
      "Agent 2324 has eaten 5.0 sugar from sugar 1174\n",
      "Agent 2381 has eaten 6 sugar from sugar 116\n",
      "Agent 2339 has eaten 5.0 sugar from sugar 442\n",
      "Agent 2356 has eaten 4.0 sugar from sugar 60\n",
      "Agent 2374 has eaten 6 sugar from sugar 1253\n",
      "Agent 2350 has eaten 5.0 sugar from sugar 670\n",
      "Agent 2380 has eaten 6 sugar from sugar 251\n",
      "Agent 2352 has eaten 6 sugar from sugar 2049\n",
      "Agent 2345 has eaten 6 sugar from sugar 94\n",
      "Agent 2307 has eaten 6 sugar from sugar 1089\n",
      "Agent 2322 has eaten 6 sugar from sugar 584\n",
      "Agent 2367 has eaten 6 sugar from sugar 1080\n",
      "Agent 2336 has eaten 6 sugar from sugar 1910\n",
      "Agent 2299 has eaten 6 sugar from sugar 514\n",
      "Agent 2308 has eaten 6 sugar from sugar 916\n",
      "Agent 2359 has eaten 6 sugar from sugar 1261\n",
      "Agent 2318 has eaten 3.0 sugar from sugar 167\n",
      "73\n"
     ]
    },
    {
     "name": "stderr",
     "output_type": "stream",
     "text": [
      "C:\\Users\\DELL\\AppData\\Local\\Temp\\ipykernel_13528\\3195471959.py:147: DeprecationWarning: Because of the shift to using AgentSet, in the future this attribute will return a dict withtype as key as AgentSet as value. Future behavior is available via RandomActivationByType._agents_by_type\n",
      "  for sugar_agent in self.schedule.agents_by_type[Sugar].values():\n",
      "C:\\Users\\DELL\\AppData\\Local\\Temp\\ipykernel_13528\\3195471959.py:139: DeprecationWarning: Because of the shift to using AgentSet, in the future this attribute will return a dict withtype as key as AgentSet as value. Future behavior is available via RandomActivationByType._agents_by_type\n",
      "  corrupt_agents_shuffle = list(self.schedule.agents_by_type[Corrupt_agent].values())\n",
      "C:\\Users\\DELL\\AppData\\Local\\Temp\\ipykernel_13528\\3195471959.py:92: DeprecationWarning: Because of the shift to using AgentSet, in the future this attribute will return a dict withtype as key as AgentSet as value. Future behavior is available via RandomActivationByType._agents_by_type\n",
      "  agents = [agent for agent in self.schedule.agents_by_type[Corrupt_agent].values()]\n"
     ]
    },
    {
     "name": "stdout",
     "output_type": "stream",
     "text": [
      "Agent 2325 with 42.0 has shared 5.0 with 2381 with 46.0\n",
      "Agent 2325 with 37.0 has shared 5.0 with 2380 with 39.0\n",
      "Agent 2381 with 41.0 has shared 5.0 with 2380 with 44.0\n",
      "Agent 2381 with 36.0 has shared 5.0 with 2325 with 42.0\n",
      "74\n"
     ]
    },
    {
     "name": "stderr",
     "output_type": "stream",
     "text": [
      "C:\\Users\\DELL\\AppData\\Local\\Temp\\ipykernel_13528\\3195471959.py:147: DeprecationWarning: Because of the shift to using AgentSet, in the future this attribute will return a dict withtype as key as AgentSet as value. Future behavior is available via RandomActivationByType._agents_by_type\n",
      "  for sugar_agent in self.schedule.agents_by_type[Sugar].values():\n",
      "C:\\Users\\DELL\\AppData\\Local\\Temp\\ipykernel_13528\\3195471959.py:139: DeprecationWarning: Because of the shift to using AgentSet, in the future this attribute will return a dict withtype as key as AgentSet as value. Future behavior is available via RandomActivationByType._agents_by_type\n",
      "  corrupt_agents_shuffle = list(self.schedule.agents_by_type[Corrupt_agent].values())\n",
      "C:\\Users\\DELL\\AppData\\Local\\Temp\\ipykernel_13528\\3195471959.py:92: DeprecationWarning: Because of the shift to using AgentSet, in the future this attribute will return a dict withtype as key as AgentSet as value. Future behavior is available via RandomActivationByType._agents_by_type\n",
      "  agents = [agent for agent in self.schedule.agents_by_type[Corrupt_agent].values()]\n"
     ]
    },
    {
     "name": "stdout",
     "output_type": "stream",
     "text": [
      "Agent 2350 stole 5.0 resources from Agent 2339.\n",
      "Agent 2354 stole 7.0 resources from Agent 2352.\n",
      "Agent 2380 stole 5.0 resources from Agent 2325.\n",
      "Agent 2380 stole 4.0 resources from Agent 2381.\n",
      "Agent 2299 stole 10.0 resources from Agent 2319.\n",
      "Agent 2316 stole 4.0 resources from Agent 2325.\n",
      "Agent 2316 stole 3.0 resources from Agent 2381.\n",
      "Agent 2316 stole 6.0 resources from Agent 2380.\n",
      "Agent 2381 stole 0.0 resources from Agent 2318.\n",
      "Agent 2381 stole 4.0 resources from Agent 2325.\n",
      "Agent 2381 stole 9.0 resources from Agent 2316.\n",
      "Agent 2324 stole 4.0 resources from Agent 2359.\n",
      "Agent 2359 stole 5.0 resources from Agent 2324.\n",
      "Agent 2325 stole 4.0 resources from Agent 2381.\n",
      "Agent 2315 stole 5.0 resources from Agent 2297.\n",
      "75\n"
     ]
    },
    {
     "name": "stderr",
     "output_type": "stream",
     "text": [
      "C:\\Users\\DELL\\AppData\\Local\\Temp\\ipykernel_13528\\3195471959.py:147: DeprecationWarning: Because of the shift to using AgentSet, in the future this attribute will return a dict withtype as key as AgentSet as value. Future behavior is available via RandomActivationByType._agents_by_type\n",
      "  for sugar_agent in self.schedule.agents_by_type[Sugar].values():\n",
      "C:\\Users\\DELL\\AppData\\Local\\Temp\\ipykernel_13528\\3195471959.py:139: DeprecationWarning: Because of the shift to using AgentSet, in the future this attribute will return a dict withtype as key as AgentSet as value. Future behavior is available via RandomActivationByType._agents_by_type\n",
      "  corrupt_agents_shuffle = list(self.schedule.agents_by_type[Corrupt_agent].values())\n",
      "C:\\Users\\DELL\\AppData\\Local\\Temp\\ipykernel_13528\\3195471959.py:92: DeprecationWarning: Because of the shift to using AgentSet, in the future this attribute will return a dict withtype as key as AgentSet as value. Future behavior is available via RandomActivationByType._agents_by_type\n",
      "  agents = [agent for agent in self.schedule.agents_by_type[Corrupt_agent].values()]\n"
     ]
    },
    {
     "name": "stdout",
     "output_type": "stream",
     "text": [
      "Agent 2319 has eaten 6 sugar from sugar 700\n",
      "Agent 2370 has eaten 6 sugar from sugar 84\n",
      "Agent 2374 has eaten 6 sugar from sugar 1253\n",
      "Agent 2324 has eaten 5.0 sugar from sugar 1174\n",
      "Agent 2380 has eaten 6 sugar from sugar 251\n",
      "Agent 2341 has eaten 6 sugar from sugar 2238\n",
      "Agent 2381 has eaten 6 sugar from sugar 116\n",
      "Agent 2352 has eaten 6 sugar from sugar 2049\n",
      "Agent 2383 has eaten 6 sugar from sugar 1315\n",
      "Agent 2336 has eaten 6 sugar from sugar 1910\n",
      "Agent 2322 has eaten 6 sugar from sugar 584\n",
      "Agent 2339 has eaten 5.0 sugar from sugar 442\n",
      "Agent 2325 has eaten 4.0 sugar from sugar 161\n",
      "Agent 2334 has eaten 6 sugar from sugar 1688\n",
      "Agent 2359 has eaten 6 sugar from sugar 1261\n",
      "Agent 2373 has eaten 6.0 sugar from sugar 1843\n",
      "Agent 2318 has eaten 3.0 sugar from sugar 167\n",
      "Agent 2367 has eaten 6 sugar from sugar 1080\n",
      "Agent 2354 has eaten 6 sugar from sugar 2095\n",
      "Agent 2369 has eaten 6 sugar from sugar 2167\n",
      "Agent 2316 has eaten 6 sugar from sugar 302\n",
      "Agent 2345 has eaten 6 sugar from sugar 94\n",
      "Agent 2350 has eaten 5.0 sugar from sugar 670\n",
      "Agent 2315 has eaten 1.0 sugar from sugar 365\n",
      "Agent 2299 has eaten 6 sugar from sugar 514\n",
      "Agent 2297 has eaten 6 sugar from sugar 277\n",
      "Agent 2308 has eaten 6 sugar from sugar 916\n",
      "Agent 2356 has eaten 4.0 sugar from sugar 60\n",
      "Agent 2307 has eaten 6 sugar from sugar 1089\n",
      "76\n"
     ]
    },
    {
     "name": "stderr",
     "output_type": "stream",
     "text": [
      "C:\\Users\\DELL\\AppData\\Local\\Temp\\ipykernel_13528\\3195471959.py:147: DeprecationWarning: Because of the shift to using AgentSet, in the future this attribute will return a dict withtype as key as AgentSet as value. Future behavior is available via RandomActivationByType._agents_by_type\n",
      "  for sugar_agent in self.schedule.agents_by_type[Sugar].values():\n",
      "C:\\Users\\DELL\\AppData\\Local\\Temp\\ipykernel_13528\\3195471959.py:139: DeprecationWarning: Because of the shift to using AgentSet, in the future this attribute will return a dict withtype as key as AgentSet as value. Future behavior is available via RandomActivationByType._agents_by_type\n",
      "  corrupt_agents_shuffle = list(self.schedule.agents_by_type[Corrupt_agent].values())\n",
      "C:\\Users\\DELL\\AppData\\Local\\Temp\\ipykernel_13528\\3195471959.py:92: DeprecationWarning: Because of the shift to using AgentSet, in the future this attribute will return a dict withtype as key as AgentSet as value. Future behavior is available via RandomActivationByType._agents_by_type\n",
      "  agents = [agent for agent in self.schedule.agents_by_type[Corrupt_agent].values()]\n"
     ]
    },
    {
     "name": "stdout",
     "output_type": "stream",
     "text": [
      "Agent 2381 with 31.0 has shared 4.0 with 2325 with 38.0\n",
      "Agent 2325 with 34.0 has shared 4.0 with 2381 with 35.0\n",
      "Agent 2354 with 41.0 has shared 5.0 with 2352 with 60.0\n",
      "77\n"
     ]
    },
    {
     "name": "stderr",
     "output_type": "stream",
     "text": [
      "C:\\Users\\DELL\\AppData\\Local\\Temp\\ipykernel_13528\\3195471959.py:147: DeprecationWarning: Because of the shift to using AgentSet, in the future this attribute will return a dict withtype as key as AgentSet as value. Future behavior is available via RandomActivationByType._agents_by_type\n",
      "  for sugar_agent in self.schedule.agents_by_type[Sugar].values():\n",
      "C:\\Users\\DELL\\AppData\\Local\\Temp\\ipykernel_13528\\3195471959.py:139: DeprecationWarning: Because of the shift to using AgentSet, in the future this attribute will return a dict withtype as key as AgentSet as value. Future behavior is available via RandomActivationByType._agents_by_type\n",
      "  corrupt_agents_shuffle = list(self.schedule.agents_by_type[Corrupt_agent].values())\n",
      "C:\\Users\\DELL\\AppData\\Local\\Temp\\ipykernel_13528\\3195471959.py:92: DeprecationWarning: Because of the shift to using AgentSet, in the future this attribute will return a dict withtype as key as AgentSet as value. Future behavior is available via RandomActivationByType._agents_by_type\n",
      "  agents = [agent for agent in self.schedule.agents_by_type[Corrupt_agent].values()]\n"
     ]
    },
    {
     "name": "stdout",
     "output_type": "stream",
     "text": [
      "Agent 2352 stole 4.0 resources from Agent 2354.\n",
      "Agent 2381 stole 4.0 resources from Agent 2325.\n",
      "Agent 2381 stole 0.0 resources from Agent 2318.\n",
      "Agent 2325 stole 4.0 resources from Agent 2381.\n",
      "Agent 2315 stole 4.0 resources from Agent 2297.\n",
      "Agent 2339 stole 8.0 resources from Agent 2316.\n",
      "Agent 2297 stole 2.0 resources from Agent 2315.\n",
      "78\n"
     ]
    },
    {
     "name": "stderr",
     "output_type": "stream",
     "text": [
      "C:\\Users\\DELL\\AppData\\Local\\Temp\\ipykernel_13528\\3195471959.py:147: DeprecationWarning: Because of the shift to using AgentSet, in the future this attribute will return a dict withtype as key as AgentSet as value. Future behavior is available via RandomActivationByType._agents_by_type\n",
      "  for sugar_agent in self.schedule.agents_by_type[Sugar].values():\n",
      "C:\\Users\\DELL\\AppData\\Local\\Temp\\ipykernel_13528\\3195471959.py:139: DeprecationWarning: Because of the shift to using AgentSet, in the future this attribute will return a dict withtype as key as AgentSet as value. Future behavior is available via RandomActivationByType._agents_by_type\n",
      "  corrupt_agents_shuffle = list(self.schedule.agents_by_type[Corrupt_agent].values())\n",
      "C:\\Users\\DELL\\AppData\\Local\\Temp\\ipykernel_13528\\3195471959.py:92: DeprecationWarning: Because of the shift to using AgentSet, in the future this attribute will return a dict withtype as key as AgentSet as value. Future behavior is available via RandomActivationByType._agents_by_type\n",
      "  agents = [agent for agent in self.schedule.agents_by_type[Corrupt_agent].values()]\n"
     ]
    },
    {
     "name": "stdout",
     "output_type": "stream",
     "text": [
      "Agent 2374 has eaten 6 sugar from sugar 1253\n",
      "Agent 2369 has eaten 6 sugar from sugar 2167\n",
      "Agent 2367 has eaten 6 sugar from sugar 1080\n",
      "Agent 2315 has eaten 1.0 sugar from sugar 365\n",
      "Agent 2373 has eaten 6.0 sugar from sugar 1843\n",
      "Agent 2297 has eaten 6 sugar from sugar 277\n",
      "Agent 2324 has eaten 5.0 sugar from sugar 1174\n",
      "Agent 2308 has eaten 6 sugar from sugar 916\n",
      "Agent 2299 has eaten 6 sugar from sugar 514\n",
      "Agent 2336 has eaten 6 sugar from sugar 1910\n",
      "Agent 2319 has eaten 6 sugar from sugar 700\n",
      "Agent 2352 has eaten 6 sugar from sugar 2049\n",
      "Agent 2359 has eaten 6 sugar from sugar 1261\n",
      "Agent 2370 has eaten 6 sugar from sugar 84\n",
      "Agent 2322 has eaten 6 sugar from sugar 584\n",
      "Agent 2341 has eaten 6 sugar from sugar 2238\n",
      "Agent 2345 has eaten 6 sugar from sugar 94\n",
      "Agent 2325 has eaten 4.0 sugar from sugar 161\n",
      "Agent 2354 has eaten 6 sugar from sugar 2095\n",
      "Agent 2318 has eaten 3.0 sugar from sugar 167\n",
      "Agent 2307 has eaten 6 sugar from sugar 1089\n",
      "Agent 2350 has eaten 5.0 sugar from sugar 670\n",
      "Agent 2383 has eaten 6 sugar from sugar 1315\n",
      "Agent 2316 has eaten 6 sugar from sugar 302\n",
      "Agent 2380 has eaten 6 sugar from sugar 251\n",
      "Agent 2381 has eaten 6 sugar from sugar 116\n",
      "Agent 2356 has eaten 4.0 sugar from sugar 60\n",
      "Agent 2334 has eaten 6 sugar from sugar 1688\n",
      "Agent 2339 has eaten 5.0 sugar from sugar 442\n",
      "79\n"
     ]
    },
    {
     "name": "stderr",
     "output_type": "stream",
     "text": [
      "C:\\Users\\DELL\\AppData\\Local\\Temp\\ipykernel_13528\\3195471959.py:147: DeprecationWarning: Because of the shift to using AgentSet, in the future this attribute will return a dict withtype as key as AgentSet as value. Future behavior is available via RandomActivationByType._agents_by_type\n",
      "  for sugar_agent in self.schedule.agents_by_type[Sugar].values():\n",
      "C:\\Users\\DELL\\AppData\\Local\\Temp\\ipykernel_13528\\3195471959.py:139: DeprecationWarning: Because of the shift to using AgentSet, in the future this attribute will return a dict withtype as key as AgentSet as value. Future behavior is available via RandomActivationByType._agents_by_type\n",
      "  corrupt_agents_shuffle = list(self.schedule.agents_by_type[Corrupt_agent].values())\n",
      "C:\\Users\\DELL\\AppData\\Local\\Temp\\ipykernel_13528\\3195471959.py:92: DeprecationWarning: Because of the shift to using AgentSet, in the future this attribute will return a dict withtype as key as AgentSet as value. Future behavior is available via RandomActivationByType._agents_by_type\n",
      "  agents = [agent for agent in self.schedule.agents_by_type[Corrupt_agent].values()]\n"
     ]
    },
    {
     "name": "stdout",
     "output_type": "stream",
     "text": [
      "Agent 2381 with 28.0 has shared 4.0 with 2325 with 39.0\n",
      "Agent 2359 with 32.0 has shared 4.0 with 2324 with 50.0\n",
      "80\n"
     ]
    },
    {
     "name": "stderr",
     "output_type": "stream",
     "text": [
      "C:\\Users\\DELL\\AppData\\Local\\Temp\\ipykernel_13528\\3195471959.py:147: DeprecationWarning: Because of the shift to using AgentSet, in the future this attribute will return a dict withtype as key as AgentSet as value. Future behavior is available via RandomActivationByType._agents_by_type\n",
      "  for sugar_agent in self.schedule.agents_by_type[Sugar].values():\n",
      "C:\\Users\\DELL\\AppData\\Local\\Temp\\ipykernel_13528\\3195471959.py:139: DeprecationWarning: Because of the shift to using AgentSet, in the future this attribute will return a dict withtype as key as AgentSet as value. Future behavior is available via RandomActivationByType._agents_by_type\n",
      "  corrupt_agents_shuffle = list(self.schedule.agents_by_type[Corrupt_agent].values())\n",
      "C:\\Users\\DELL\\AppData\\Local\\Temp\\ipykernel_13528\\3195471959.py:92: DeprecationWarning: Because of the shift to using AgentSet, in the future this attribute will return a dict withtype as key as AgentSet as value. Future behavior is available via RandomActivationByType._agents_by_type\n",
      "  agents = [agent for agent in self.schedule.agents_by_type[Corrupt_agent].values()]\n"
     ]
    },
    {
     "name": "stdout",
     "output_type": "stream",
     "text": [
      "Agent 2297 stole 2.0 resources from Agent 2315.\n",
      "Agent 2299 stole 9.0 resources from Agent 2319.\n",
      "Agent 2325 stole 8.0 resources from Agent 2316.\n",
      "Agent 2325 stole 3.0 resources from Agent 2381.\n",
      "Agent 2381 stole 6.0 resources from Agent 2325.\n",
      "Agent 2381 stole 7.0 resources from Agent 2316.\n",
      "Agent 2316 stole 5.0 resources from Agent 2325.\n",
      "Agent 2316 stole 4.0 resources from Agent 2381.\n",
      "81\n"
     ]
    },
    {
     "name": "stderr",
     "output_type": "stream",
     "text": [
      "C:\\Users\\DELL\\AppData\\Local\\Temp\\ipykernel_13528\\3195471959.py:147: DeprecationWarning: Because of the shift to using AgentSet, in the future this attribute will return a dict withtype as key as AgentSet as value. Future behavior is available via RandomActivationByType._agents_by_type\n",
      "  for sugar_agent in self.schedule.agents_by_type[Sugar].values():\n",
      "C:\\Users\\DELL\\AppData\\Local\\Temp\\ipykernel_13528\\3195471959.py:139: DeprecationWarning: Because of the shift to using AgentSet, in the future this attribute will return a dict withtype as key as AgentSet as value. Future behavior is available via RandomActivationByType._agents_by_type\n",
      "  corrupt_agents_shuffle = list(self.schedule.agents_by_type[Corrupt_agent].values())\n",
      "C:\\Users\\DELL\\AppData\\Local\\Temp\\ipykernel_13528\\3195471959.py:92: DeprecationWarning: Because of the shift to using AgentSet, in the future this attribute will return a dict withtype as key as AgentSet as value. Future behavior is available via RandomActivationByType._agents_by_type\n",
      "  agents = [agent for agent in self.schedule.agents_by_type[Corrupt_agent].values()]\n"
     ]
    },
    {
     "name": "stdout",
     "output_type": "stream",
     "text": [
      "Agent 2315 has eaten 1.0 sugar from sugar 365\n",
      "Agent 2381 has eaten 6 sugar from sugar 116\n",
      "Agent 2297 has eaten 6 sugar from sugar 277\n",
      "Agent 2319 has eaten 6 sugar from sugar 700\n",
      "Agent 2373 has eaten 6.0 sugar from sugar 1843\n",
      "Agent 2350 has eaten 5.0 sugar from sugar 670\n",
      "Agent 2380 has eaten 6 sugar from sugar 251\n",
      "Agent 2354 has eaten 6 sugar from sugar 2095\n",
      "Agent 2370 has eaten 6 sugar from sugar 84\n",
      "Agent 2336 has eaten 6 sugar from sugar 1910\n",
      "Agent 2307 has eaten 6 sugar from sugar 1089\n",
      "Agent 2359 has eaten 6 sugar from sugar 1261\n",
      "Agent 2299 has eaten 6 sugar from sugar 514\n",
      "Agent 2308 has eaten 6 sugar from sugar 916\n",
      "Agent 2324 has eaten 5.0 sugar from sugar 1174\n",
      "Agent 2352 has eaten 6 sugar from sugar 2049\n",
      "Agent 2334 has eaten 6 sugar from sugar 1688\n",
      "Agent 2339 has eaten 5.0 sugar from sugar 442\n",
      "Agent 2367 has eaten 6 sugar from sugar 1080\n",
      "Agent 2318 has eaten 3.0 sugar from sugar 167\n",
      "Agent 2345 has eaten 6 sugar from sugar 94\n",
      "Agent 2325 has eaten 4.0 sugar from sugar 161\n",
      "Agent 2383 has eaten 6 sugar from sugar 1315\n",
      "Agent 2322 has eaten 6 sugar from sugar 584\n",
      "Agent 2341 has eaten 6 sugar from sugar 2238\n",
      "Agent 2374 has eaten 6 sugar from sugar 1253\n",
      "Agent 2356 has eaten 4.0 sugar from sugar 60\n",
      "Agent 2369 has eaten 6 sugar from sugar 2167\n",
      "Agent 2316 has eaten 6 sugar from sugar 302\n",
      "82\n"
     ]
    },
    {
     "name": "stderr",
     "output_type": "stream",
     "text": [
      "C:\\Users\\DELL\\AppData\\Local\\Temp\\ipykernel_13528\\3195471959.py:147: DeprecationWarning: Because of the shift to using AgentSet, in the future this attribute will return a dict withtype as key as AgentSet as value. Future behavior is available via RandomActivationByType._agents_by_type\n",
      "  for sugar_agent in self.schedule.agents_by_type[Sugar].values():\n",
      "C:\\Users\\DELL\\AppData\\Local\\Temp\\ipykernel_13528\\3195471959.py:139: DeprecationWarning: Because of the shift to using AgentSet, in the future this attribute will return a dict withtype as key as AgentSet as value. Future behavior is available via RandomActivationByType._agents_by_type\n",
      "  corrupt_agents_shuffle = list(self.schedule.agents_by_type[Corrupt_agent].values())\n",
      "C:\\Users\\DELL\\AppData\\Local\\Temp\\ipykernel_13528\\3195471959.py:92: DeprecationWarning: Because of the shift to using AgentSet, in the future this attribute will return a dict withtype as key as AgentSet as value. Future behavior is available via RandomActivationByType._agents_by_type\n",
      "  agents = [agent for agent in self.schedule.agents_by_type[Corrupt_agent].values()]\n"
     ]
    },
    {
     "name": "stdout",
     "output_type": "stream",
     "text": [
      "Agent 2316 with 56.0 has shared 7.0 with 2380 with 63.0\n",
      "Agent 2316 with 49.0 has shared 7.0 with 2339 with 62.0\n",
      "Agent 2381 with 28.0 has shared 3.0 with 2325 with 43.0\n",
      "83\n"
     ]
    },
    {
     "name": "stderr",
     "output_type": "stream",
     "text": [
      "C:\\Users\\DELL\\AppData\\Local\\Temp\\ipykernel_13528\\3195471959.py:147: DeprecationWarning: Because of the shift to using AgentSet, in the future this attribute will return a dict withtype as key as AgentSet as value. Future behavior is available via RandomActivationByType._agents_by_type\n",
      "  for sugar_agent in self.schedule.agents_by_type[Sugar].values():\n",
      "C:\\Users\\DELL\\AppData\\Local\\Temp\\ipykernel_13528\\3195471959.py:139: DeprecationWarning: Because of the shift to using AgentSet, in the future this attribute will return a dict withtype as key as AgentSet as value. Future behavior is available via RandomActivationByType._agents_by_type\n",
      "  corrupt_agents_shuffle = list(self.schedule.agents_by_type[Corrupt_agent].values())\n",
      "C:\\Users\\DELL\\AppData\\Local\\Temp\\ipykernel_13528\\3195471959.py:92: DeprecationWarning: Because of the shift to using AgentSet, in the future this attribute will return a dict withtype as key as AgentSet as value. Future behavior is available via RandomActivationByType._agents_by_type\n",
      "  agents = [agent for agent in self.schedule.agents_by_type[Corrupt_agent].values()]\n"
     ]
    },
    {
     "name": "stdout",
     "output_type": "stream",
     "text": [
      "Agent 2299 stole 9.0 resources from Agent 2319.\n",
      "Agent 2354 stole 8.0 resources from Agent 2352.\n",
      "Agent 2315 stole 5.0 resources from Agent 2297.\n",
      "Agent 2316 stole 5.0 resources from Agent 2325.\n",
      "Agent 2316 stole 7.0 resources from Agent 2380.\n",
      "Agent 2381 stole 4.0 resources from Agent 2325.\n",
      "Agent 2380 stole 7.0 resources from Agent 2316.\n",
      "Agent 2319 stole 5.0 resources from Agent 2299.\n",
      "84\n"
     ]
    },
    {
     "name": "stderr",
     "output_type": "stream",
     "text": [
      "C:\\Users\\DELL\\AppData\\Local\\Temp\\ipykernel_13528\\3195471959.py:147: DeprecationWarning: Because of the shift to using AgentSet, in the future this attribute will return a dict withtype as key as AgentSet as value. Future behavior is available via RandomActivationByType._agents_by_type\n",
      "  for sugar_agent in self.schedule.agents_by_type[Sugar].values():\n",
      "C:\\Users\\DELL\\AppData\\Local\\Temp\\ipykernel_13528\\3195471959.py:139: DeprecationWarning: Because of the shift to using AgentSet, in the future this attribute will return a dict withtype as key as AgentSet as value. Future behavior is available via RandomActivationByType._agents_by_type\n",
      "  corrupt_agents_shuffle = list(self.schedule.agents_by_type[Corrupt_agent].values())\n",
      "C:\\Users\\DELL\\AppData\\Local\\Temp\\ipykernel_13528\\3195471959.py:92: DeprecationWarning: Because of the shift to using AgentSet, in the future this attribute will return a dict withtype as key as AgentSet as value. Future behavior is available via RandomActivationByType._agents_by_type\n",
      "  agents = [agent for agent in self.schedule.agents_by_type[Corrupt_agent].values()]\n"
     ]
    },
    {
     "name": "stdout",
     "output_type": "stream",
     "text": [
      "Agent 2380 has eaten 6 sugar from sugar 251\n",
      "Agent 2359 has eaten 6 sugar from sugar 1261\n",
      "Agent 2322 has eaten 6 sugar from sugar 584\n",
      "Agent 2367 has eaten 6 sugar from sugar 1080\n",
      "Agent 2319 has eaten 6 sugar from sugar 700\n",
      "Agent 2370 has eaten 6 sugar from sugar 84\n",
      "Agent 2307 has eaten 6 sugar from sugar 1089\n",
      "Agent 2350 has eaten 5.0 sugar from sugar 670\n",
      "Agent 2325 has eaten 4.0 sugar from sugar 161\n",
      "Agent 2354 has eaten 6 sugar from sugar 2095\n",
      "Agent 2352 has eaten 6 sugar from sugar 2049\n",
      "Agent 2334 has eaten 6 sugar from sugar 1688\n",
      "Agent 2318 has eaten 3.0 sugar from sugar 167\n",
      "Agent 2339 has eaten 5.0 sugar from sugar 442\n",
      "Agent 2315 has eaten 1.0 sugar from sugar 365\n",
      "Agent 2299 has eaten 6 sugar from sugar 514\n",
      "Agent 2297 has eaten 6 sugar from sugar 277\n",
      "Agent 2341 has eaten 6 sugar from sugar 2238\n",
      "Agent 2383 has eaten 6 sugar from sugar 1315\n",
      "Agent 2369 has eaten 6 sugar from sugar 2167\n",
      "Agent 2381 has eaten 6 sugar from sugar 116\n",
      "Agent 2373 has eaten 6.0 sugar from sugar 1843\n",
      "Agent 2308 has eaten 6 sugar from sugar 916\n",
      "Agent 2324 has eaten 5.0 sugar from sugar 1174\n",
      "Agent 2316 has eaten 6 sugar from sugar 302\n",
      "Agent 2336 has eaten 6 sugar from sugar 1910\n",
      "Agent 2356 has eaten 4.0 sugar from sugar 60\n",
      "Agent 2374 has eaten 6 sugar from sugar 1253\n",
      "Agent 2345 has eaten 6 sugar from sugar 94\n",
      "85\n"
     ]
    },
    {
     "name": "stderr",
     "output_type": "stream",
     "text": [
      "C:\\Users\\DELL\\AppData\\Local\\Temp\\ipykernel_13528\\3195471959.py:147: DeprecationWarning: Because of the shift to using AgentSet, in the future this attribute will return a dict withtype as key as AgentSet as value. Future behavior is available via RandomActivationByType._agents_by_type\n",
      "  for sugar_agent in self.schedule.agents_by_type[Sugar].values():\n",
      "C:\\Users\\DELL\\AppData\\Local\\Temp\\ipykernel_13528\\3195471959.py:139: DeprecationWarning: Because of the shift to using AgentSet, in the future this attribute will return a dict withtype as key as AgentSet as value. Future behavior is available via RandomActivationByType._agents_by_type\n",
      "  corrupt_agents_shuffle = list(self.schedule.agents_by_type[Corrupt_agent].values())\n",
      "C:\\Users\\DELL\\AppData\\Local\\Temp\\ipykernel_13528\\3195471959.py:92: DeprecationWarning: Because of the shift to using AgentSet, in the future this attribute will return a dict withtype as key as AgentSet as value. Future behavior is available via RandomActivationByType._agents_by_type\n",
      "  agents = [agent for agent in self.schedule.agents_by_type[Corrupt_agent].values()]\n"
     ]
    },
    {
     "name": "stdout",
     "output_type": "stream",
     "text": [
      "Agent 2381 with 26.0 has shared 3.0 with 2325 with 38.0\n",
      "86\n"
     ]
    },
    {
     "name": "stderr",
     "output_type": "stream",
     "text": [
      "C:\\Users\\DELL\\AppData\\Local\\Temp\\ipykernel_13528\\3195471959.py:147: DeprecationWarning: Because of the shift to using AgentSet, in the future this attribute will return a dict withtype as key as AgentSet as value. Future behavior is available via RandomActivationByType._agents_by_type\n",
      "  for sugar_agent in self.schedule.agents_by_type[Sugar].values():\n",
      "C:\\Users\\DELL\\AppData\\Local\\Temp\\ipykernel_13528\\3195471959.py:139: DeprecationWarning: Because of the shift to using AgentSet, in the future this attribute will return a dict withtype as key as AgentSet as value. Future behavior is available via RandomActivationByType._agents_by_type\n",
      "  corrupt_agents_shuffle = list(self.schedule.agents_by_type[Corrupt_agent].values())\n",
      "C:\\Users\\DELL\\AppData\\Local\\Temp\\ipykernel_13528\\3195471959.py:92: DeprecationWarning: Because of the shift to using AgentSet, in the future this attribute will return a dict withtype as key as AgentSet as value. Future behavior is available via RandomActivationByType._agents_by_type\n",
      "  agents = [agent for agent in self.schedule.agents_by_type[Corrupt_agent].values()]\n"
     ]
    },
    {
     "name": "stdout",
     "output_type": "stream",
     "text": [
      "Agent 2380 stole 4.0 resources from Agent 2325.\n",
      "Agent 2380 stole 2.0 resources from Agent 2381.\n",
      "Agent 2381 stole 4.0 resources from Agent 2325.\n",
      "Agent 2316 stole 3.0 resources from Agent 2381.\n",
      "Agent 2316 stole 7.0 resources from Agent 2339.\n",
      "Agent 2325 stole 2.0 resources from Agent 2381.\n",
      "Agent 2319 stole 5.0 resources from Agent 2299.\n",
      "Agent 2297 stole 2.0 resources from Agent 2315.\n",
      "Agent 2359 stole 6.0 resources from Agent 2324.\n",
      "87\n"
     ]
    },
    {
     "name": "stderr",
     "output_type": "stream",
     "text": [
      "C:\\Users\\DELL\\AppData\\Local\\Temp\\ipykernel_13528\\3195471959.py:147: DeprecationWarning: Because of the shift to using AgentSet, in the future this attribute will return a dict withtype as key as AgentSet as value. Future behavior is available via RandomActivationByType._agents_by_type\n",
      "  for sugar_agent in self.schedule.agents_by_type[Sugar].values():\n",
      "C:\\Users\\DELL\\AppData\\Local\\Temp\\ipykernel_13528\\3195471959.py:139: DeprecationWarning: Because of the shift to using AgentSet, in the future this attribute will return a dict withtype as key as AgentSet as value. Future behavior is available via RandomActivationByType._agents_by_type\n",
      "  corrupt_agents_shuffle = list(self.schedule.agents_by_type[Corrupt_agent].values())\n",
      "C:\\Users\\DELL\\AppData\\Local\\Temp\\ipykernel_13528\\3195471959.py:92: DeprecationWarning: Because of the shift to using AgentSet, in the future this attribute will return a dict withtype as key as AgentSet as value. Future behavior is available via RandomActivationByType._agents_by_type\n",
      "  agents = [agent for agent in self.schedule.agents_by_type[Corrupt_agent].values()]\n"
     ]
    },
    {
     "name": "stdout",
     "output_type": "stream",
     "text": [
      "Agent 2369 has eaten 6 sugar from sugar 2167\n",
      "Agent 2352 has eaten 6 sugar from sugar 2049\n",
      "Agent 2297 has eaten 6 sugar from sugar 277\n",
      "Agent 2308 has eaten 6 sugar from sugar 916\n",
      "Agent 2315 has eaten 1.0 sugar from sugar 365\n",
      "Agent 2381 has eaten 6 sugar from sugar 116\n",
      "Agent 2374 has eaten 6 sugar from sugar 1253\n",
      "Agent 2322 has eaten 6 sugar from sugar 584\n",
      "Agent 2383 has eaten 6 sugar from sugar 1315\n",
      "Agent 2319 has eaten 6 sugar from sugar 700\n",
      "Agent 2307 has eaten 6 sugar from sugar 1089\n",
      "Agent 2325 has eaten 4.0 sugar from sugar 161\n",
      "Agent 2318 has eaten 3.0 sugar from sugar 167\n",
      "Agent 2373 has eaten 6.0 sugar from sugar 1843\n",
      "Agent 2299 has eaten 6 sugar from sugar 514\n",
      "Agent 2380 has eaten 6 sugar from sugar 251\n",
      "Agent 2324 has eaten 5.0 sugar from sugar 1174\n",
      "Agent 2370 has eaten 6 sugar from sugar 84\n",
      "Agent 2334 has eaten 6 sugar from sugar 1688\n",
      "Agent 2367 has eaten 6 sugar from sugar 1080\n",
      "Agent 2354 has eaten 6 sugar from sugar 2095\n",
      "Agent 2359 has eaten 6 sugar from sugar 1261\n",
      "Agent 2341 has eaten 6 sugar from sugar 2238\n",
      "Agent 2350 has eaten 5.0 sugar from sugar 670\n",
      "Agent 2316 has eaten 6 sugar from sugar 302\n",
      "Agent 2339 has eaten 5.0 sugar from sugar 442\n",
      "Agent 2356 has eaten 4.0 sugar from sugar 60\n",
      "Agent 2345 has eaten 6 sugar from sugar 94\n",
      "Agent 2336 has eaten 6 sugar from sugar 1910\n",
      "88\n"
     ]
    },
    {
     "name": "stderr",
     "output_type": "stream",
     "text": [
      "C:\\Users\\DELL\\AppData\\Local\\Temp\\ipykernel_13528\\3195471959.py:147: DeprecationWarning: Because of the shift to using AgentSet, in the future this attribute will return a dict withtype as key as AgentSet as value. Future behavior is available via RandomActivationByType._agents_by_type\n",
      "  for sugar_agent in self.schedule.agents_by_type[Sugar].values():\n",
      "C:\\Users\\DELL\\AppData\\Local\\Temp\\ipykernel_13528\\3195471959.py:139: DeprecationWarning: Because of the shift to using AgentSet, in the future this attribute will return a dict withtype as key as AgentSet as value. Future behavior is available via RandomActivationByType._agents_by_type\n",
      "  corrupt_agents_shuffle = list(self.schedule.agents_by_type[Corrupt_agent].values())\n",
      "C:\\Users\\DELL\\AppData\\Local\\Temp\\ipykernel_13528\\3195471959.py:92: DeprecationWarning: Because of the shift to using AgentSet, in the future this attribute will return a dict withtype as key as AgentSet as value. Future behavior is available via RandomActivationByType._agents_by_type\n",
      "  agents = [agent for agent in self.schedule.agents_by_type[Corrupt_agent].values()]\n"
     ]
    },
    {
     "name": "stdout",
     "output_type": "stream",
     "text": [
      "89\n"
     ]
    },
    {
     "name": "stderr",
     "output_type": "stream",
     "text": [
      "C:\\Users\\DELL\\AppData\\Local\\Temp\\ipykernel_13528\\3195471959.py:147: DeprecationWarning: Because of the shift to using AgentSet, in the future this attribute will return a dict withtype as key as AgentSet as value. Future behavior is available via RandomActivationByType._agents_by_type\n",
      "  for sugar_agent in self.schedule.agents_by_type[Sugar].values():\n",
      "C:\\Users\\DELL\\AppData\\Local\\Temp\\ipykernel_13528\\3195471959.py:139: DeprecationWarning: Because of the shift to using AgentSet, in the future this attribute will return a dict withtype as key as AgentSet as value. Future behavior is available via RandomActivationByType._agents_by_type\n",
      "  corrupt_agents_shuffle = list(self.schedule.agents_by_type[Corrupt_agent].values())\n",
      "C:\\Users\\DELL\\AppData\\Local\\Temp\\ipykernel_13528\\3195471959.py:92: DeprecationWarning: Because of the shift to using AgentSet, in the future this attribute will return a dict withtype as key as AgentSet as value. Future behavior is available via RandomActivationByType._agents_by_type\n",
      "  agents = [agent for agent in self.schedule.agents_by_type[Corrupt_agent].values()]\n"
     ]
    },
    {
     "name": "stdout",
     "output_type": "stream",
     "text": [
      "Agent 2299 stole 10.0 resources from Agent 2319.\n",
      "Agent 2381 stole 4.0 resources from Agent 2325.\n",
      "Agent 2380 stole 3.0 resources from Agent 2325.\n",
      "Agent 2380 stole 2.0 resources from Agent 2381.\n",
      "Agent 2316 stole 2.0 resources from Agent 2381.\n",
      "Agent 2352 stole 5.0 resources from Agent 2354.\n",
      "Agent 2297 stole 1.0 resources from Agent 2315.\n",
      "Agent 2325 stole 2.0 resources from Agent 2381.\n",
      "Agent 2339 stole 8.0 resources from Agent 2316.\n",
      "Agent 2339 stole 9.0 resources from Agent 2350.\n",
      "Agent 2354 stole 9.0 resources from Agent 2352.\n",
      "90\n"
     ]
    },
    {
     "name": "stderr",
     "output_type": "stream",
     "text": [
      "C:\\Users\\DELL\\AppData\\Local\\Temp\\ipykernel_13528\\3195471959.py:147: DeprecationWarning: Because of the shift to using AgentSet, in the future this attribute will return a dict withtype as key as AgentSet as value. Future behavior is available via RandomActivationByType._agents_by_type\n",
      "  for sugar_agent in self.schedule.agents_by_type[Sugar].values():\n",
      "C:\\Users\\DELL\\AppData\\Local\\Temp\\ipykernel_13528\\3195471959.py:139: DeprecationWarning: Because of the shift to using AgentSet, in the future this attribute will return a dict withtype as key as AgentSet as value. Future behavior is available via RandomActivationByType._agents_by_type\n",
      "  corrupt_agents_shuffle = list(self.schedule.agents_by_type[Corrupt_agent].values())\n",
      "C:\\Users\\DELL\\AppData\\Local\\Temp\\ipykernel_13528\\3195471959.py:92: DeprecationWarning: Because of the shift to using AgentSet, in the future this attribute will return a dict withtype as key as AgentSet as value. Future behavior is available via RandomActivationByType._agents_by_type\n",
      "  agents = [agent for agent in self.schedule.agents_by_type[Corrupt_agent].values()]\n"
     ]
    },
    {
     "name": "stdout",
     "output_type": "stream",
     "text": [
      "Agent 2316 has eaten 6 sugar from sugar 302\n",
      "Agent 2374 has eaten 6 sugar from sugar 1253\n",
      "Agent 2359 has eaten 6 sugar from sugar 1261\n",
      "Agent 2318 has eaten 3.0 sugar from sugar 167\n",
      "Agent 2380 has eaten 6 sugar from sugar 251\n",
      "Agent 2336 has eaten 6 sugar from sugar 1910\n",
      "Agent 2350 has eaten 5.0 sugar from sugar 670\n",
      "Agent 2334 has eaten 6 sugar from sugar 1688\n",
      "Agent 2339 has eaten 5.0 sugar from sugar 442\n",
      "Agent 2373 has eaten 6.0 sugar from sugar 1843\n",
      "Agent 2381 has eaten 6 sugar from sugar 116\n",
      "Agent 2341 has eaten 6 sugar from sugar 2238\n",
      "Agent 2325 has eaten 4.0 sugar from sugar 161\n",
      "Agent 2297 has eaten 6 sugar from sugar 277\n",
      "Agent 2307 has eaten 6 sugar from sugar 1089\n",
      "Agent 2315 has eaten 1.0 sugar from sugar 365\n",
      "Agent 2345 has eaten 6 sugar from sugar 94\n",
      "Agent 2367 has eaten 6 sugar from sugar 1080\n",
      "Agent 2369 has eaten 6 sugar from sugar 2167\n",
      "Agent 2356 has eaten 4.0 sugar from sugar 60\n",
      "Agent 2383 has eaten 6 sugar from sugar 1315\n",
      "Agent 2354 has eaten 6 sugar from sugar 2095\n",
      "Agent 2324 has eaten 5.0 sugar from sugar 1174\n",
      "Agent 2299 has eaten 6 sugar from sugar 514\n",
      "Agent 2322 has eaten 6 sugar from sugar 584\n",
      "Agent 2308 has eaten 6 sugar from sugar 916\n",
      "Agent 2370 has eaten 6 sugar from sugar 84\n",
      "Agent 2319 has eaten 6 sugar from sugar 700\n",
      "Agent 2352 has eaten 6 sugar from sugar 2049\n",
      "91\n"
     ]
    },
    {
     "name": "stderr",
     "output_type": "stream",
     "text": [
      "C:\\Users\\DELL\\AppData\\Local\\Temp\\ipykernel_13528\\3195471959.py:147: DeprecationWarning: Because of the shift to using AgentSet, in the future this attribute will return a dict withtype as key as AgentSet as value. Future behavior is available via RandomActivationByType._agents_by_type\n",
      "  for sugar_agent in self.schedule.agents_by_type[Sugar].values():\n",
      "C:\\Users\\DELL\\AppData\\Local\\Temp\\ipykernel_13528\\3195471959.py:139: DeprecationWarning: Because of the shift to using AgentSet, in the future this attribute will return a dict withtype as key as AgentSet as value. Future behavior is available via RandomActivationByType._agents_by_type\n",
      "  corrupt_agents_shuffle = list(self.schedule.agents_by_type[Corrupt_agent].values())\n",
      "C:\\Users\\DELL\\AppData\\Local\\Temp\\ipykernel_13528\\3195471959.py:92: DeprecationWarning: Because of the shift to using AgentSet, in the future this attribute will return a dict withtype as key as AgentSet as value. Future behavior is available via RandomActivationByType._agents_by_type\n",
      "  agents = [agent for agent in self.schedule.agents_by_type[Corrupt_agent].values()]\n"
     ]
    },
    {
     "name": "stdout",
     "output_type": "stream",
     "text": [
      "92\n"
     ]
    },
    {
     "name": "stderr",
     "output_type": "stream",
     "text": [
      "C:\\Users\\DELL\\AppData\\Local\\Temp\\ipykernel_13528\\3195471959.py:147: DeprecationWarning: Because of the shift to using AgentSet, in the future this attribute will return a dict withtype as key as AgentSet as value. Future behavior is available via RandomActivationByType._agents_by_type\n",
      "  for sugar_agent in self.schedule.agents_by_type[Sugar].values():\n",
      "C:\\Users\\DELL\\AppData\\Local\\Temp\\ipykernel_13528\\3195471959.py:139: DeprecationWarning: Because of the shift to using AgentSet, in the future this attribute will return a dict withtype as key as AgentSet as value. Future behavior is available via RandomActivationByType._agents_by_type\n",
      "  corrupt_agents_shuffle = list(self.schedule.agents_by_type[Corrupt_agent].values())\n",
      "C:\\Users\\DELL\\AppData\\Local\\Temp\\ipykernel_13528\\3195471959.py:92: DeprecationWarning: Because of the shift to using AgentSet, in the future this attribute will return a dict withtype as key as AgentSet as value. Future behavior is available via RandomActivationByType._agents_by_type\n",
      "  agents = [agent for agent in self.schedule.agents_by_type[Corrupt_agent].values()]\n"
     ]
    },
    {
     "name": "stdout",
     "output_type": "stream",
     "text": [
      "Agent 2354 stole 8.0 resources from Agent 2352.\n",
      "Agent 2325 stole 10.0 resources from Agent 2380.\n",
      "Agent 2325 stole 8.0 resources from Agent 2316.\n",
      "Agent 2297 stole 1.0 resources from Agent 2315.\n",
      "Agent 2319 stole 5.0 resources from Agent 2299.\n",
      "Agent 2315 stole 6.0 resources from Agent 2297.\n",
      "Agent 2316 stole 5.0 resources from Agent 2325.\n",
      "Agent 2381 stole 9.0 resources from Agent 2380.\n",
      "Agent 2381 stole 0.0 resources from Agent 2318.\n",
      "Agent 2381 stole 7.0 resources from Agent 2316.\n",
      "Agent 2381 stole 5.0 resources from Agent 2325.\n",
      "93\n"
     ]
    },
    {
     "name": "stderr",
     "output_type": "stream",
     "text": [
      "C:\\Users\\DELL\\AppData\\Local\\Temp\\ipykernel_13528\\3195471959.py:147: DeprecationWarning: Because of the shift to using AgentSet, in the future this attribute will return a dict withtype as key as AgentSet as value. Future behavior is available via RandomActivationByType._agents_by_type\n",
      "  for sugar_agent in self.schedule.agents_by_type[Sugar].values():\n",
      "C:\\Users\\DELL\\AppData\\Local\\Temp\\ipykernel_13528\\3195471959.py:139: DeprecationWarning: Because of the shift to using AgentSet, in the future this attribute will return a dict withtype as key as AgentSet as value. Future behavior is available via RandomActivationByType._agents_by_type\n",
      "  corrupt_agents_shuffle = list(self.schedule.agents_by_type[Corrupt_agent].values())\n",
      "C:\\Users\\DELL\\AppData\\Local\\Temp\\ipykernel_13528\\3195471959.py:92: DeprecationWarning: Because of the shift to using AgentSet, in the future this attribute will return a dict withtype as key as AgentSet as value. Future behavior is available via RandomActivationByType._agents_by_type\n",
      "  agents = [agent for agent in self.schedule.agents_by_type[Corrupt_agent].values()]\n"
     ]
    },
    {
     "name": "stdout",
     "output_type": "stream",
     "text": [
      "Agent 2356 has eaten 4.0 sugar from sugar 60\n",
      "Agent 2341 has eaten 6 sugar from sugar 2238\n",
      "Agent 2370 has eaten 6 sugar from sugar 84\n",
      "Agent 2359 has eaten 6 sugar from sugar 1261\n",
      "Agent 2381 has eaten 6 sugar from sugar 116\n",
      "Agent 2297 has eaten 6 sugar from sugar 277\n",
      "Agent 2352 has eaten 6 sugar from sugar 2049\n",
      "Agent 2316 has eaten 6 sugar from sugar 302\n",
      "Agent 2334 has eaten 6 sugar from sugar 1688\n",
      "Agent 2308 has eaten 6 sugar from sugar 916\n",
      "Agent 2380 has eaten 6 sugar from sugar 251\n",
      "Agent 2299 has eaten 6 sugar from sugar 514\n",
      "Agent 2345 has eaten 6 sugar from sugar 94\n",
      "Agent 2354 has eaten 6 sugar from sugar 2095\n",
      "Agent 2369 has eaten 6 sugar from sugar 2167\n",
      "Agent 2350 has eaten 5.0 sugar from sugar 670\n",
      "Agent 2319 has eaten 6 sugar from sugar 700\n",
      "Agent 2373 has eaten 6.0 sugar from sugar 1843\n",
      "Agent 2367 has eaten 6 sugar from sugar 1080\n",
      "Agent 2322 has eaten 6 sugar from sugar 584\n",
      "Agent 2315 has eaten 1.0 sugar from sugar 365\n",
      "Agent 2318 has eaten 3.0 sugar from sugar 167\n",
      "Agent 2324 has eaten 5.0 sugar from sugar 1174\n",
      "Agent 2325 has eaten 4.0 sugar from sugar 161\n",
      "Agent 2336 has eaten 6 sugar from sugar 1910\n",
      "Agent 2339 has eaten 5.0 sugar from sugar 442\n",
      "Agent 2383 has eaten 6 sugar from sugar 1315\n",
      "Agent 2374 has eaten 6 sugar from sugar 1253\n",
      "Agent 2307 has eaten 6 sugar from sugar 1089\n",
      "94\n"
     ]
    },
    {
     "name": "stderr",
     "output_type": "stream",
     "text": [
      "C:\\Users\\DELL\\AppData\\Local\\Temp\\ipykernel_13528\\3195471959.py:147: DeprecationWarning: Because of the shift to using AgentSet, in the future this attribute will return a dict withtype as key as AgentSet as value. Future behavior is available via RandomActivationByType._agents_by_type\n",
      "  for sugar_agent in self.schedule.agents_by_type[Sugar].values():\n",
      "C:\\Users\\DELL\\AppData\\Local\\Temp\\ipykernel_13528\\3195471959.py:139: DeprecationWarning: Because of the shift to using AgentSet, in the future this attribute will return a dict withtype as key as AgentSet as value. Future behavior is available via RandomActivationByType._agents_by_type\n",
      "  corrupt_agents_shuffle = list(self.schedule.agents_by_type[Corrupt_agent].values())\n",
      "C:\\Users\\DELL\\AppData\\Local\\Temp\\ipykernel_13528\\3195471959.py:92: DeprecationWarning: Because of the shift to using AgentSet, in the future this attribute will return a dict withtype as key as AgentSet as value. Future behavior is available via RandomActivationByType._agents_by_type\n",
      "  agents = [agent for agent in self.schedule.agents_by_type[Corrupt_agent].values()]\n"
     ]
    },
    {
     "name": "stdout",
     "output_type": "stream",
     "text": [
      "Agent 2381 with 29.0 has shared 4.0 with 2325 with 42.0\n",
      "Agent 2352 with 55.0 has shared 7.0 with 2354 with 64.0\n",
      "95\n"
     ]
    },
    {
     "name": "stderr",
     "output_type": "stream",
     "text": [
      "C:\\Users\\DELL\\AppData\\Local\\Temp\\ipykernel_13528\\3195471959.py:147: DeprecationWarning: Because of the shift to using AgentSet, in the future this attribute will return a dict withtype as key as AgentSet as value. Future behavior is available via RandomActivationByType._agents_by_type\n",
      "  for sugar_agent in self.schedule.agents_by_type[Sugar].values():\n",
      "C:\\Users\\DELL\\AppData\\Local\\Temp\\ipykernel_13528\\3195471959.py:139: DeprecationWarning: Because of the shift to using AgentSet, in the future this attribute will return a dict withtype as key as AgentSet as value. Future behavior is available via RandomActivationByType._agents_by_type\n",
      "  corrupt_agents_shuffle = list(self.schedule.agents_by_type[Corrupt_agent].values())\n",
      "C:\\Users\\DELL\\AppData\\Local\\Temp\\ipykernel_13528\\3195471959.py:92: DeprecationWarning: Because of the shift to using AgentSet, in the future this attribute will return a dict withtype as key as AgentSet as value. Future behavior is available via RandomActivationByType._agents_by_type\n",
      "  agents = [agent for agent in self.schedule.agents_by_type[Corrupt_agent].values()]\n"
     ]
    },
    {
     "name": "stdout",
     "output_type": "stream",
     "text": [
      "Agent 2381 stole 5.0 resources from Agent 2325.\n",
      "Agent 2381 stole 0.0 resources from Agent 2318.\n",
      "Agent 2354 stole 6.0 resources from Agent 2352.\n",
      "Agent 2297 stole 1.0 resources from Agent 2315.\n",
      "Agent 2380 stole 7.0 resources from Agent 2316.\n",
      "Agent 2316 stole 9.0 resources from Agent 2339.\n",
      "Agent 2325 stole 9.0 resources from Agent 2380.\n",
      "Agent 2325 stole 7.0 resources from Agent 2316.\n",
      "96\n"
     ]
    },
    {
     "name": "stderr",
     "output_type": "stream",
     "text": [
      "C:\\Users\\DELL\\AppData\\Local\\Temp\\ipykernel_13528\\3195471959.py:147: DeprecationWarning: Because of the shift to using AgentSet, in the future this attribute will return a dict withtype as key as AgentSet as value. Future behavior is available via RandomActivationByType._agents_by_type\n",
      "  for sugar_agent in self.schedule.agents_by_type[Sugar].values():\n",
      "C:\\Users\\DELL\\AppData\\Local\\Temp\\ipykernel_13528\\3195471959.py:139: DeprecationWarning: Because of the shift to using AgentSet, in the future this attribute will return a dict withtype as key as AgentSet as value. Future behavior is available via RandomActivationByType._agents_by_type\n",
      "  corrupt_agents_shuffle = list(self.schedule.agents_by_type[Corrupt_agent].values())\n",
      "C:\\Users\\DELL\\AppData\\Local\\Temp\\ipykernel_13528\\3195471959.py:92: DeprecationWarning: Because of the shift to using AgentSet, in the future this attribute will return a dict withtype as key as AgentSet as value. Future behavior is available via RandomActivationByType._agents_by_type\n",
      "  agents = [agent for agent in self.schedule.agents_by_type[Corrupt_agent].values()]\n"
     ]
    },
    {
     "name": "stdout",
     "output_type": "stream",
     "text": [
      "Agent 2318 has eaten 3.0 sugar from sugar 167\n",
      "Agent 2299 has eaten 6 sugar from sugar 514\n",
      "Agent 2350 has eaten 5.0 sugar from sugar 670\n",
      "Agent 2322 has eaten 6 sugar from sugar 584\n",
      "Agent 2308 has eaten 6 sugar from sugar 916\n",
      "Agent 2352 has eaten 6 sugar from sugar 2049\n",
      "Agent 2345 has eaten 6 sugar from sugar 94\n",
      "Agent 2356 has eaten 4.0 sugar from sugar 60\n",
      "Agent 2373 has eaten 6.0 sugar from sugar 1843\n",
      "Agent 2307 has eaten 6 sugar from sugar 1089\n",
      "Agent 2354 has eaten 6 sugar from sugar 2095\n",
      "Agent 2383 has eaten 6 sugar from sugar 1315\n",
      "Agent 2341 has eaten 6 sugar from sugar 2238\n",
      "Agent 2380 has eaten 6 sugar from sugar 251\n",
      "Agent 2381 has eaten 6 sugar from sugar 116\n",
      "Agent 2319 has eaten 6 sugar from sugar 700\n",
      "Agent 2297 has eaten 6 sugar from sugar 277\n",
      "Agent 2334 has eaten 6 sugar from sugar 1688\n",
      "Agent 2324 has eaten 5.0 sugar from sugar 1174\n",
      "Agent 2316 has eaten 6 sugar from sugar 302\n",
      "Agent 2370 has eaten 6 sugar from sugar 84\n",
      "Agent 2359 has eaten 6 sugar from sugar 1261\n",
      "Agent 2367 has eaten 6 sugar from sugar 1080\n",
      "Agent 2374 has eaten 6 sugar from sugar 1253\n",
      "Agent 2369 has eaten 6 sugar from sugar 2167\n",
      "Agent 2325 has eaten 4.0 sugar from sugar 161\n",
      "Agent 2336 has eaten 6 sugar from sugar 1910\n",
      "Agent 2339 has eaten 5.0 sugar from sugar 442\n",
      "Agent 2315 has eaten 1.0 sugar from sugar 365\n",
      "97\n"
     ]
    },
    {
     "name": "stderr",
     "output_type": "stream",
     "text": [
      "C:\\Users\\DELL\\AppData\\Local\\Temp\\ipykernel_13528\\3195471959.py:147: DeprecationWarning: Because of the shift to using AgentSet, in the future this attribute will return a dict withtype as key as AgentSet as value. Future behavior is available via RandomActivationByType._agents_by_type\n",
      "  for sugar_agent in self.schedule.agents_by_type[Sugar].values():\n",
      "C:\\Users\\DELL\\AppData\\Local\\Temp\\ipykernel_13528\\3195471959.py:139: DeprecationWarning: Because of the shift to using AgentSet, in the future this attribute will return a dict withtype as key as AgentSet as value. Future behavior is available via RandomActivationByType._agents_by_type\n",
      "  corrupt_agents_shuffle = list(self.schedule.agents_by_type[Corrupt_agent].values())\n",
      "C:\\Users\\DELL\\AppData\\Local\\Temp\\ipykernel_13528\\3195471959.py:92: DeprecationWarning: Because of the shift to using AgentSet, in the future this attribute will return a dict withtype as key as AgentSet as value. Future behavior is available via RandomActivationByType._agents_by_type\n",
      "  agents = [agent for agent in self.schedule.agents_by_type[Corrupt_agent].values()]\n"
     ]
    },
    {
     "name": "stdout",
     "output_type": "stream",
     "text": [
      "Agent 2380 with 60.0 has shared 8.0 with 2316 with 66.0\n",
      "98\n"
     ]
    },
    {
     "name": "stderr",
     "output_type": "stream",
     "text": [
      "C:\\Users\\DELL\\AppData\\Local\\Temp\\ipykernel_13528\\3195471959.py:147: DeprecationWarning: Because of the shift to using AgentSet, in the future this attribute will return a dict withtype as key as AgentSet as value. Future behavior is available via RandomActivationByType._agents_by_type\n",
      "  for sugar_agent in self.schedule.agents_by_type[Sugar].values():\n",
      "C:\\Users\\DELL\\AppData\\Local\\Temp\\ipykernel_13528\\3195471959.py:139: DeprecationWarning: Because of the shift to using AgentSet, in the future this attribute will return a dict withtype as key as AgentSet as value. Future behavior is available via RandomActivationByType._agents_by_type\n",
      "  corrupt_agents_shuffle = list(self.schedule.agents_by_type[Corrupt_agent].values())\n",
      "C:\\Users\\DELL\\AppData\\Local\\Temp\\ipykernel_13528\\3195471959.py:92: DeprecationWarning: Because of the shift to using AgentSet, in the future this attribute will return a dict withtype as key as AgentSet as value. Future behavior is available via RandomActivationByType._agents_by_type\n",
      "  agents = [agent for agent in self.schedule.agents_by_type[Corrupt_agent].values()]\n"
     ]
    },
    {
     "name": "stdout",
     "output_type": "stream",
     "text": [
      "Agent 2352 stole 8.0 resources from Agent 2354.\n",
      "Agent 2325 stole 7.0 resources from Agent 2380.\n",
      "Agent 2325 stole 8.0 resources from Agent 2316.\n",
      "Agent 2381 stole 8.0 resources from Agent 2325.\n",
      "Agent 2381 stole 0.0 resources from Agent 2318.\n",
      "Agent 2316 stole 6.0 resources from Agent 2380.\n",
      "Agent 2354 stole 7.0 resources from Agent 2352.\n",
      "99\n"
     ]
    },
    {
     "name": "stderr",
     "output_type": "stream",
     "text": [
      "C:\\Users\\DELL\\AppData\\Local\\Temp\\ipykernel_13528\\3195471959.py:147: DeprecationWarning: Because of the shift to using AgentSet, in the future this attribute will return a dict withtype as key as AgentSet as value. Future behavior is available via RandomActivationByType._agents_by_type\n",
      "  for sugar_agent in self.schedule.agents_by_type[Sugar].values():\n",
      "C:\\Users\\DELL\\AppData\\Local\\Temp\\ipykernel_13528\\3195471959.py:139: DeprecationWarning: Because of the shift to using AgentSet, in the future this attribute will return a dict withtype as key as AgentSet as value. Future behavior is available via RandomActivationByType._agents_by_type\n",
      "  corrupt_agents_shuffle = list(self.schedule.agents_by_type[Corrupt_agent].values())\n",
      "C:\\Users\\DELL\\AppData\\Local\\Temp\\ipykernel_13528\\3195471959.py:92: DeprecationWarning: Because of the shift to using AgentSet, in the future this attribute will return a dict withtype as key as AgentSet as value. Future behavior is available via RandomActivationByType._agents_by_type\n",
      "  agents = [agent for agent in self.schedule.agents_by_type[Corrupt_agent].values()]\n"
     ]
    },
    {
     "name": "stdout",
     "output_type": "stream",
     "text": [
      "Agent 2308 has eaten 6 sugar from sugar 916\n",
      "Agent 2369 has eaten 6 sugar from sugar 2167\n",
      "Agent 2359 has eaten 6 sugar from sugar 1261\n",
      "Agent 2325 has eaten 4.0 sugar from sugar 161\n",
      "Agent 2370 has eaten 6 sugar from sugar 84\n",
      "Agent 2324 has eaten 5.0 sugar from sugar 1174\n",
      "Agent 2356 has eaten 4.0 sugar from sugar 60\n",
      "Agent 2352 has eaten 6 sugar from sugar 2049\n",
      "Agent 2367 has eaten 6 sugar from sugar 1080\n",
      "Agent 2373 has eaten 6.0 sugar from sugar 1843\n",
      "Agent 2322 has eaten 6 sugar from sugar 584\n",
      "Agent 2380 has eaten 6 sugar from sugar 251\n",
      "Agent 2318 has eaten 3.0 sugar from sugar 167\n",
      "Agent 2299 has eaten 6 sugar from sugar 514\n",
      "Agent 2341 has eaten 6 sugar from sugar 2238\n",
      "Agent 2319 has eaten 6 sugar from sugar 700\n",
      "Agent 2316 has eaten 6 sugar from sugar 302\n",
      "Agent 2383 has eaten 6 sugar from sugar 1315\n",
      "Agent 2315 has eaten 1.0 sugar from sugar 365\n",
      "Agent 2339 has eaten 5.0 sugar from sugar 442\n",
      "Agent 2334 has eaten 6 sugar from sugar 1688\n",
      "Agent 2381 has eaten 6 sugar from sugar 116\n",
      "Agent 2374 has eaten 6 sugar from sugar 1253\n",
      "Agent 2307 has eaten 6 sugar from sugar 1089\n",
      "Agent 2297 has eaten 6 sugar from sugar 277\n",
      "Agent 2354 has eaten 6 sugar from sugar 2095\n",
      "Agent 2350 has eaten 5.0 sugar from sugar 670\n",
      "Agent 2345 has eaten 6 sugar from sugar 94\n",
      "Agent 2336 has eaten 6 sugar from sugar 1910\n",
      "100\n"
     ]
    },
    {
     "name": "stderr",
     "output_type": "stream",
     "text": [
      "C:\\Users\\DELL\\AppData\\Local\\Temp\\ipykernel_13528\\3195471959.py:147: DeprecationWarning: Because of the shift to using AgentSet, in the future this attribute will return a dict withtype as key as AgentSet as value. Future behavior is available via RandomActivationByType._agents_by_type\n",
      "  for sugar_agent in self.schedule.agents_by_type[Sugar].values():\n",
      "C:\\Users\\DELL\\AppData\\Local\\Temp\\ipykernel_13528\\3195471959.py:139: DeprecationWarning: Because of the shift to using AgentSet, in the future this attribute will return a dict withtype as key as AgentSet as value. Future behavior is available via RandomActivationByType._agents_by_type\n",
      "  corrupt_agents_shuffle = list(self.schedule.agents_by_type[Corrupt_agent].values())\n",
      "C:\\Users\\DELL\\AppData\\Local\\Temp\\ipykernel_13528\\3195471959.py:92: DeprecationWarning: Because of the shift to using AgentSet, in the future this attribute will return a dict withtype as key as AgentSet as value. Future behavior is available via RandomActivationByType._agents_by_type\n",
      "  agents = [agent for agent in self.schedule.agents_by_type[Corrupt_agent].values()]\n"
     ]
    },
    {
     "name": "stdout",
     "output_type": "stream",
     "text": [
      "Agent 2316 with 59.0 has shared 8.0 with 2339 with 83.0\n",
      "Agent 2380 with 44.0 has shared 6.0 with 2316 with 65.0\n",
      "101\n"
     ]
    },
    {
     "name": "stderr",
     "output_type": "stream",
     "text": [
      "C:\\Users\\DELL\\AppData\\Local\\Temp\\ipykernel_13528\\3195471959.py:147: DeprecationWarning: Because of the shift to using AgentSet, in the future this attribute will return a dict withtype as key as AgentSet as value. Future behavior is available via RandomActivationByType._agents_by_type\n",
      "  for sugar_agent in self.schedule.agents_by_type[Sugar].values():\n",
      "C:\\Users\\DELL\\AppData\\Local\\Temp\\ipykernel_13528\\3195471959.py:139: DeprecationWarning: Because of the shift to using AgentSet, in the future this attribute will return a dict withtype as key as AgentSet as value. Future behavior is available via RandomActivationByType._agents_by_type\n",
      "  corrupt_agents_shuffle = list(self.schedule.agents_by_type[Corrupt_agent].values())\n",
      "C:\\Users\\DELL\\AppData\\Local\\Temp\\ipykernel_13528\\3195471959.py:92: DeprecationWarning: Because of the shift to using AgentSet, in the future this attribute will return a dict withtype as key as AgentSet as value. Future behavior is available via RandomActivationByType._agents_by_type\n",
      "  agents = [agent for agent in self.schedule.agents_by_type[Corrupt_agent].values()]\n"
     ]
    },
    {
     "name": "stdout",
     "output_type": "stream",
     "text": [
      "Agent 2325 stole 5.0 resources from Agent 2380.\n",
      "Agent 2325 stole 8.0 resources from Agent 2316.\n",
      "Agent 2297 stole 1.0 resources from Agent 2315.\n",
      "Agent 2319 stole 5.0 resources from Agent 2299.\n",
      "Agent 2354 stole 6.0 resources from Agent 2352.\n",
      "Agent 2381 stole 9.0 resources from Agent 2325.\n",
      "Agent 2381 stole 4.0 resources from Agent 2380.\n",
      "Agent 2381 stole 7.0 resources from Agent 2316.\n",
      "Agent 2318 stole 6.0 resources from Agent 2381.\n",
      "102\n"
     ]
    },
    {
     "name": "stderr",
     "output_type": "stream",
     "text": [
      "C:\\Users\\DELL\\AppData\\Local\\Temp\\ipykernel_13528\\3195471959.py:147: DeprecationWarning: Because of the shift to using AgentSet, in the future this attribute will return a dict withtype as key as AgentSet as value. Future behavior is available via RandomActivationByType._agents_by_type\n",
      "  for sugar_agent in self.schedule.agents_by_type[Sugar].values():\n",
      "C:\\Users\\DELL\\AppData\\Local\\Temp\\ipykernel_13528\\3195471959.py:139: DeprecationWarning: Because of the shift to using AgentSet, in the future this attribute will return a dict withtype as key as AgentSet as value. Future behavior is available via RandomActivationByType._agents_by_type\n",
      "  corrupt_agents_shuffle = list(self.schedule.agents_by_type[Corrupt_agent].values())\n",
      "C:\\Users\\DELL\\AppData\\Local\\Temp\\ipykernel_13528\\3195471959.py:92: DeprecationWarning: Because of the shift to using AgentSet, in the future this attribute will return a dict withtype as key as AgentSet as value. Future behavior is available via RandomActivationByType._agents_by_type\n",
      "  agents = [agent for agent in self.schedule.agents_by_type[Corrupt_agent].values()]\n"
     ]
    },
    {
     "name": "stdout",
     "output_type": "stream",
     "text": [
      "Agent 2318 has eaten 3.0 sugar from sugar 167\n",
      "Agent 2345 has eaten 6 sugar from sugar 94\n",
      "Agent 2369 has eaten 6 sugar from sugar 2167\n",
      "Agent 2341 has eaten 6 sugar from sugar 2238\n",
      "Agent 2307 has eaten 6 sugar from sugar 1089\n",
      "Agent 2319 has eaten 6 sugar from sugar 700\n",
      "Agent 2339 has eaten 5.0 sugar from sugar 442\n",
      "Agent 2381 has eaten 6 sugar from sugar 116\n",
      "Agent 2325 has eaten 4.0 sugar from sugar 161\n",
      "Agent 2380 has eaten 6 sugar from sugar 251\n",
      "Agent 2299 has eaten 6 sugar from sugar 514\n",
      "Agent 2367 has eaten 6 sugar from sugar 1080\n",
      "Agent 2324 has eaten 5.0 sugar from sugar 1174\n",
      "Agent 2350 has eaten 5.0 sugar from sugar 670\n",
      "Agent 2354 has eaten 6 sugar from sugar 2095\n",
      "Agent 2297 has eaten 6 sugar from sugar 277\n",
      "Agent 2370 has eaten 6 sugar from sugar 84\n",
      "Agent 2308 has eaten 6 sugar from sugar 916\n",
      "Agent 2373 has eaten 6.0 sugar from sugar 1843\n",
      "Agent 2316 has eaten 6 sugar from sugar 302\n",
      "Agent 2359 has eaten 6 sugar from sugar 1261\n",
      "Agent 2374 has eaten 6 sugar from sugar 1253\n",
      "Agent 2322 has eaten 6 sugar from sugar 584\n",
      "Agent 2315 has eaten 1.0 sugar from sugar 365\n",
      "Agent 2334 has eaten 6 sugar from sugar 1688\n",
      "Agent 2383 has eaten 6 sugar from sugar 1315\n",
      "Agent 2356 has eaten 4.0 sugar from sugar 60\n",
      "Agent 2352 has eaten 6 sugar from sugar 2049\n",
      "Agent 2336 has eaten 6 sugar from sugar 1910\n",
      "103\n"
     ]
    },
    {
     "name": "stderr",
     "output_type": "stream",
     "text": [
      "C:\\Users\\DELL\\AppData\\Local\\Temp\\ipykernel_13528\\3195471959.py:147: DeprecationWarning: Because of the shift to using AgentSet, in the future this attribute will return a dict withtype as key as AgentSet as value. Future behavior is available via RandomActivationByType._agents_by_type\n",
      "  for sugar_agent in self.schedule.agents_by_type[Sugar].values():\n",
      "C:\\Users\\DELL\\AppData\\Local\\Temp\\ipykernel_13528\\3195471959.py:139: DeprecationWarning: Because of the shift to using AgentSet, in the future this attribute will return a dict withtype as key as AgentSet as value. Future behavior is available via RandomActivationByType._agents_by_type\n",
      "  corrupt_agents_shuffle = list(self.schedule.agents_by_type[Corrupt_agent].values())\n",
      "C:\\Users\\DELL\\AppData\\Local\\Temp\\ipykernel_13528\\3195471959.py:92: DeprecationWarning: Because of the shift to using AgentSet, in the future this attribute will return a dict withtype as key as AgentSet as value. Future behavior is available via RandomActivationByType._agents_by_type\n",
      "  agents = [agent for agent in self.schedule.agents_by_type[Corrupt_agent].values()]\n"
     ]
    },
    {
     "name": "stdout",
     "output_type": "stream",
     "text": [
      "Agent 2381 with 42.0 has shared 5.0 with 2316 with 58.0\n",
      "Agent 2381 with 37.0 has shared 5.0 with 2380 with 43.0\n",
      "Agent 2325 with 59.0 has shared 8.0 with 2316 with 66.0\n",
      "104\n"
     ]
    },
    {
     "name": "stderr",
     "output_type": "stream",
     "text": [
      "C:\\Users\\DELL\\AppData\\Local\\Temp\\ipykernel_13528\\3195471959.py:147: DeprecationWarning: Because of the shift to using AgentSet, in the future this attribute will return a dict withtype as key as AgentSet as value. Future behavior is available via RandomActivationByType._agents_by_type\n",
      "  for sugar_agent in self.schedule.agents_by_type[Sugar].values():\n",
      "C:\\Users\\DELL\\AppData\\Local\\Temp\\ipykernel_13528\\3195471959.py:139: DeprecationWarning: Because of the shift to using AgentSet, in the future this attribute will return a dict withtype as key as AgentSet as value. Future behavior is available via RandomActivationByType._agents_by_type\n",
      "  corrupt_agents_shuffle = list(self.schedule.agents_by_type[Corrupt_agent].values())\n",
      "C:\\Users\\DELL\\AppData\\Local\\Temp\\ipykernel_13528\\3195471959.py:92: DeprecationWarning: Because of the shift to using AgentSet, in the future this attribute will return a dict withtype as key as AgentSet as value. Future behavior is available via RandomActivationByType._agents_by_type\n",
      "  agents = [agent for agent in self.schedule.agents_by_type[Corrupt_agent].values()]\n"
     ]
    },
    {
     "name": "stdout",
     "output_type": "stream",
     "text": [
      "Agent 2352 stole 9.0 resources from Agent 2354.\n",
      "Agent 2315 stole 7.0 resources from Agent 2297.\n",
      "Agent 2297 stole 1.0 resources from Agent 2315.\n",
      "Agent 2381 stole 7.0 resources from Agent 2325.\n",
      "Agent 2381 stole 8.0 resources from Agent 2316.\n",
      "Agent 2325 stole 6.0 resources from Agent 2381.\n",
      "Agent 2325 stole 5.0 resources from Agent 2380.\n",
      "Agent 2325 stole 7.0 resources from Agent 2316.\n",
      "Agent 2354 stole 7.0 resources from Agent 2352.\n",
      "Agent 2316 stole 8.0 resources from Agent 2325.\n",
      "105\n"
     ]
    },
    {
     "name": "stderr",
     "output_type": "stream",
     "text": [
      "C:\\Users\\DELL\\AppData\\Local\\Temp\\ipykernel_13528\\3195471959.py:147: DeprecationWarning: Because of the shift to using AgentSet, in the future this attribute will return a dict withtype as key as AgentSet as value. Future behavior is available via RandomActivationByType._agents_by_type\n",
      "  for sugar_agent in self.schedule.agents_by_type[Sugar].values():\n",
      "C:\\Users\\DELL\\AppData\\Local\\Temp\\ipykernel_13528\\3195471959.py:139: DeprecationWarning: Because of the shift to using AgentSet, in the future this attribute will return a dict withtype as key as AgentSet as value. Future behavior is available via RandomActivationByType._agents_by_type\n",
      "  corrupt_agents_shuffle = list(self.schedule.agents_by_type[Corrupt_agent].values())\n",
      "C:\\Users\\DELL\\AppData\\Local\\Temp\\ipykernel_13528\\3195471959.py:92: DeprecationWarning: Because of the shift to using AgentSet, in the future this attribute will return a dict withtype as key as AgentSet as value. Future behavior is available via RandomActivationByType._agents_by_type\n",
      "  agents = [agent for agent in self.schedule.agents_by_type[Corrupt_agent].values()]\n"
     ]
    },
    {
     "name": "stdout",
     "output_type": "stream",
     "text": [
      "Agent 2325 has eaten 4.0 sugar from sugar 161\n",
      "Agent 2380 has eaten 6 sugar from sugar 251\n",
      "Agent 2374 has eaten 6 sugar from sugar 1253\n",
      "Agent 2370 has eaten 6 sugar from sugar 84\n",
      "Agent 2322 has eaten 6 sugar from sugar 584\n",
      "Agent 2336 has eaten 6 sugar from sugar 1910\n",
      "Agent 2324 has eaten 5.0 sugar from sugar 1174\n",
      "Agent 2341 has eaten 6 sugar from sugar 2238\n",
      "Agent 2356 has eaten 4.0 sugar from sugar 60\n",
      "Agent 2334 has eaten 6 sugar from sugar 1688\n",
      "Agent 2308 has eaten 6 sugar from sugar 916\n",
      "Agent 2369 has eaten 6 sugar from sugar 2167\n",
      "Agent 2297 has eaten 6 sugar from sugar 277\n",
      "Agent 2350 has eaten 5.0 sugar from sugar 670\n",
      "Agent 2381 has eaten 6 sugar from sugar 116\n",
      "Agent 2307 has eaten 6 sugar from sugar 1089\n",
      "Agent 2359 has eaten 6 sugar from sugar 1261\n",
      "Agent 2315 has eaten 1.0 sugar from sugar 365\n",
      "Agent 2316 has eaten 6 sugar from sugar 302\n",
      "Agent 2383 has eaten 6 sugar from sugar 1315\n",
      "Agent 2339 has eaten 5.0 sugar from sugar 442\n",
      "Agent 2373 has eaten 6.0 sugar from sugar 1843\n",
      "Agent 2318 has eaten 3.0 sugar from sugar 167\n",
      "Agent 2299 has eaten 6 sugar from sugar 514\n",
      "Agent 2367 has eaten 6 sugar from sugar 1080\n",
      "Agent 2319 has eaten 6 sugar from sugar 700\n",
      "Agent 2345 has eaten 6 sugar from sugar 94\n",
      "Agent 2354 has eaten 6 sugar from sugar 2095\n",
      "Agent 2352 has eaten 6 sugar from sugar 2049\n",
      "106\n"
     ]
    },
    {
     "name": "stderr",
     "output_type": "stream",
     "text": [
      "C:\\Users\\DELL\\AppData\\Local\\Temp\\ipykernel_13528\\3195471959.py:147: DeprecationWarning: Because of the shift to using AgentSet, in the future this attribute will return a dict withtype as key as AgentSet as value. Future behavior is available via RandomActivationByType._agents_by_type\n",
      "  for sugar_agent in self.schedule.agents_by_type[Sugar].values():\n",
      "C:\\Users\\DELL\\AppData\\Local\\Temp\\ipykernel_13528\\3195471959.py:139: DeprecationWarning: Because of the shift to using AgentSet, in the future this attribute will return a dict withtype as key as AgentSet as value. Future behavior is available via RandomActivationByType._agents_by_type\n",
      "  corrupt_agents_shuffle = list(self.schedule.agents_by_type[Corrupt_agent].values())\n",
      "C:\\Users\\DELL\\AppData\\Local\\Temp\\ipykernel_13528\\3195471959.py:92: DeprecationWarning: Because of the shift to using AgentSet, in the future this attribute will return a dict withtype as key as AgentSet as value. Future behavior is available via RandomActivationByType._agents_by_type\n",
      "  agents = [agent for agent in self.schedule.agents_by_type[Corrupt_agent].values()]\n"
     ]
    },
    {
     "name": "stdout",
     "output_type": "stream",
     "text": [
      "Agent 2316 with 55.0 has shared 7.0 with 2325 with 70.0\n",
      "107\n"
     ]
    },
    {
     "name": "stderr",
     "output_type": "stream",
     "text": [
      "C:\\Users\\DELL\\AppData\\Local\\Temp\\ipykernel_13528\\3195471959.py:147: DeprecationWarning: Because of the shift to using AgentSet, in the future this attribute will return a dict withtype as key as AgentSet as value. Future behavior is available via RandomActivationByType._agents_by_type\n",
      "  for sugar_agent in self.schedule.agents_by_type[Sugar].values():\n",
      "C:\\Users\\DELL\\AppData\\Local\\Temp\\ipykernel_13528\\3195471959.py:139: DeprecationWarning: Because of the shift to using AgentSet, in the future this attribute will return a dict withtype as key as AgentSet as value. Future behavior is available via RandomActivationByType._agents_by_type\n",
      "  corrupt_agents_shuffle = list(self.schedule.agents_by_type[Corrupt_agent].values())\n",
      "C:\\Users\\DELL\\AppData\\Local\\Temp\\ipykernel_13528\\3195471959.py:92: DeprecationWarning: Because of the shift to using AgentSet, in the future this attribute will return a dict withtype as key as AgentSet as value. Future behavior is available via RandomActivationByType._agents_by_type\n",
      "  agents = [agent for agent in self.schedule.agents_by_type[Corrupt_agent].values()]\n"
     ]
    },
    {
     "name": "stdout",
     "output_type": "stream",
     "text": [
      "Agent 2319 stole 4.0 resources from Agent 2299.\n",
      "Agent 2380 stole 6.0 resources from Agent 2316.\n",
      "Agent 2297 stole 1.0 resources from Agent 2315.\n",
      "Agent 2381 stole 8.0 resources from Agent 2325.\n",
      "Agent 2381 stole 6.0 resources from Agent 2316.\n",
      "Agent 2316 stole 5.0 resources from Agent 2380.\n",
      "Agent 2325 stole 6.0 resources from Agent 2381.\n",
      "Agent 2325 stole 5.0 resources from Agent 2316.\n",
      "Agent 2352 stole 8.0 resources from Agent 2354.\n",
      "Agent 2359 stole 7.0 resources from Agent 2324.\n",
      "108\n"
     ]
    },
    {
     "name": "stderr",
     "output_type": "stream",
     "text": [
      "C:\\Users\\DELL\\AppData\\Local\\Temp\\ipykernel_13528\\3195471959.py:147: DeprecationWarning: Because of the shift to using AgentSet, in the future this attribute will return a dict withtype as key as AgentSet as value. Future behavior is available via RandomActivationByType._agents_by_type\n",
      "  for sugar_agent in self.schedule.agents_by_type[Sugar].values():\n",
      "C:\\Users\\DELL\\AppData\\Local\\Temp\\ipykernel_13528\\3195471959.py:139: DeprecationWarning: Because of the shift to using AgentSet, in the future this attribute will return a dict withtype as key as AgentSet as value. Future behavior is available via RandomActivationByType._agents_by_type\n",
      "  corrupt_agents_shuffle = list(self.schedule.agents_by_type[Corrupt_agent].values())\n",
      "C:\\Users\\DELL\\AppData\\Local\\Temp\\ipykernel_13528\\3195471959.py:92: DeprecationWarning: Because of the shift to using AgentSet, in the future this attribute will return a dict withtype as key as AgentSet as value. Future behavior is available via RandomActivationByType._agents_by_type\n",
      "  agents = [agent for agent in self.schedule.agents_by_type[Corrupt_agent].values()]\n"
     ]
    },
    {
     "name": "stdout",
     "output_type": "stream",
     "text": [
      "Agent 2325 has eaten 4.0 sugar from sugar 161\n",
      "Agent 2316 has eaten 6 sugar from sugar 302\n",
      "Agent 2373 has eaten 6.0 sugar from sugar 1843\n",
      "Agent 2383 has eaten 6 sugar from sugar 1315\n",
      "Agent 2336 has eaten 6 sugar from sugar 1910\n",
      "Agent 2370 has eaten 6 sugar from sugar 84\n",
      "Agent 2359 has eaten 6 sugar from sugar 1261\n",
      "Agent 2352 has eaten 6 sugar from sugar 2049\n",
      "Agent 2299 has eaten 6 sugar from sugar 514\n",
      "Agent 2324 has eaten 5.0 sugar from sugar 1174\n",
      "Agent 2369 has eaten 6 sugar from sugar 2167\n",
      "Agent 2322 has eaten 6 sugar from sugar 584\n",
      "Agent 2307 has eaten 6 sugar from sugar 1089\n",
      "Agent 2367 has eaten 6 sugar from sugar 1080\n",
      "Agent 2318 has eaten 3.0 sugar from sugar 167\n",
      "Agent 2345 has eaten 6 sugar from sugar 94\n",
      "Agent 2380 has eaten 6 sugar from sugar 251\n",
      "Agent 2319 has eaten 6 sugar from sugar 700\n",
      "Agent 2297 has eaten 6 sugar from sugar 277\n",
      "Agent 2374 has eaten 6 sugar from sugar 1253\n",
      "Agent 2356 has eaten 4.0 sugar from sugar 60\n",
      "Agent 2308 has eaten 6 sugar from sugar 916\n",
      "Agent 2339 has eaten 5.0 sugar from sugar 442\n",
      "Agent 2354 has eaten 6 sugar from sugar 2095\n",
      "Agent 2381 has eaten 6 sugar from sugar 116\n",
      "Agent 2350 has eaten 5.0 sugar from sugar 670\n",
      "Agent 2315 has eaten 1.0 sugar from sugar 365\n",
      "Agent 2341 has eaten 6 sugar from sugar 2238\n",
      "Agent 2334 has eaten 6 sugar from sugar 1688\n",
      "109\n"
     ]
    },
    {
     "name": "stderr",
     "output_type": "stream",
     "text": [
      "C:\\Users\\DELL\\AppData\\Local\\Temp\\ipykernel_13528\\3195471959.py:147: DeprecationWarning: Because of the shift to using AgentSet, in the future this attribute will return a dict withtype as key as AgentSet as value. Future behavior is available via RandomActivationByType._agents_by_type\n",
      "  for sugar_agent in self.schedule.agents_by_type[Sugar].values():\n",
      "C:\\Users\\DELL\\AppData\\Local\\Temp\\ipykernel_13528\\3195471959.py:139: DeprecationWarning: Because of the shift to using AgentSet, in the future this attribute will return a dict withtype as key as AgentSet as value. Future behavior is available via RandomActivationByType._agents_by_type\n",
      "  corrupt_agents_shuffle = list(self.schedule.agents_by_type[Corrupt_agent].values())\n",
      "C:\\Users\\DELL\\AppData\\Local\\Temp\\ipykernel_13528\\3195471959.py:92: DeprecationWarning: Because of the shift to using AgentSet, in the future this attribute will return a dict withtype as key as AgentSet as value. Future behavior is available via RandomActivationByType._agents_by_type\n",
      "  agents = [agent for agent in self.schedule.agents_by_type[Corrupt_agent].values()]\n"
     ]
    },
    {
     "name": "stdout",
     "output_type": "stream",
     "text": [
      "Agent 2380 with 40.0 has shared 5.0 with 2316 with 51.0\n",
      "110\n"
     ]
    },
    {
     "name": "stderr",
     "output_type": "stream",
     "text": [
      "C:\\Users\\DELL\\AppData\\Local\\Temp\\ipykernel_13528\\3195471959.py:147: DeprecationWarning: Because of the shift to using AgentSet, in the future this attribute will return a dict withtype as key as AgentSet as value. Future behavior is available via RandomActivationByType._agents_by_type\n",
      "  for sugar_agent in self.schedule.agents_by_type[Sugar].values():\n",
      "C:\\Users\\DELL\\AppData\\Local\\Temp\\ipykernel_13528\\3195471959.py:139: DeprecationWarning: Because of the shift to using AgentSet, in the future this attribute will return a dict withtype as key as AgentSet as value. Future behavior is available via RandomActivationByType._agents_by_type\n",
      "  corrupt_agents_shuffle = list(self.schedule.agents_by_type[Corrupt_agent].values())\n",
      "C:\\Users\\DELL\\AppData\\Local\\Temp\\ipykernel_13528\\3195471959.py:92: DeprecationWarning: Because of the shift to using AgentSet, in the future this attribute will return a dict withtype as key as AgentSet as value. Future behavior is available via RandomActivationByType._agents_by_type\n",
      "  agents = [agent for agent in self.schedule.agents_by_type[Corrupt_agent].values()]\n"
     ]
    },
    {
     "name": "stdout",
     "output_type": "stream",
     "text": [
      "Agent 2325 stole 5.0 resources from Agent 2381.\n",
      "Agent 2325 stole 6.0 resources from Agent 2316.\n",
      "Agent 2381 stole 5.0 resources from Agent 2316.\n",
      "Agent 2381 stole 10.0 resources from Agent 2325.\n",
      "Agent 2354 stole 8.0 resources from Agent 2352.\n",
      "Agent 2380 stole 4.0 resources from Agent 2316.\n",
      "Agent 2359 stole 7.0 resources from Agent 2324.\n",
      "Agent 2297 stole 0.0 resources from Agent 2315.\n",
      "Agent 2315 stole 7.0 resources from Agent 2297.\n",
      "Agent 2316 stole 9.0 resources from Agent 2325.\n",
      "Agent 2316 stole 5.0 resources from Agent 2380.\n",
      "111\n"
     ]
    },
    {
     "name": "stderr",
     "output_type": "stream",
     "text": [
      "C:\\Users\\DELL\\AppData\\Local\\Temp\\ipykernel_13528\\3195471959.py:147: DeprecationWarning: Because of the shift to using AgentSet, in the future this attribute will return a dict withtype as key as AgentSet as value. Future behavior is available via RandomActivationByType._agents_by_type\n",
      "  for sugar_agent in self.schedule.agents_by_type[Sugar].values():\n",
      "C:\\Users\\DELL\\AppData\\Local\\Temp\\ipykernel_13528\\3195471959.py:139: DeprecationWarning: Because of the shift to using AgentSet, in the future this attribute will return a dict withtype as key as AgentSet as value. Future behavior is available via RandomActivationByType._agents_by_type\n",
      "  corrupt_agents_shuffle = list(self.schedule.agents_by_type[Corrupt_agent].values())\n",
      "C:\\Users\\DELL\\AppData\\Local\\Temp\\ipykernel_13528\\3195471959.py:92: DeprecationWarning: Because of the shift to using AgentSet, in the future this attribute will return a dict withtype as key as AgentSet as value. Future behavior is available via RandomActivationByType._agents_by_type\n",
      "  agents = [agent for agent in self.schedule.agents_by_type[Corrupt_agent].values()]\n"
     ]
    },
    {
     "name": "stdout",
     "output_type": "stream",
     "text": [
      "Agent 2367 has eaten 6 sugar from sugar 1080\n",
      "Agent 2339 has eaten 5.0 sugar from sugar 442\n",
      "Agent 2354 has eaten 6 sugar from sugar 2095\n",
      "Agent 2322 has eaten 6 sugar from sugar 584\n",
      "Agent 2350 has eaten 5.0 sugar from sugar 670\n",
      "Agent 2318 has eaten 3.0 sugar from sugar 167\n",
      "Agent 2383 has eaten 6 sugar from sugar 1315\n",
      "Agent 2316 has eaten 6 sugar from sugar 302\n",
      "Agent 2299 has eaten 6 sugar from sugar 514\n",
      "Agent 2356 has eaten 4.0 sugar from sugar 60\n",
      "Agent 2352 has eaten 6 sugar from sugar 2049\n",
      "Agent 2374 has eaten 6 sugar from sugar 1253\n",
      "Agent 2341 has eaten 6 sugar from sugar 2238\n",
      "Agent 2369 has eaten 6 sugar from sugar 2167\n",
      "Agent 2373 has eaten 6.0 sugar from sugar 1843\n",
      "Agent 2325 has eaten 4.0 sugar from sugar 161\n",
      "Agent 2319 has eaten 6 sugar from sugar 700\n",
      "Agent 2345 has eaten 6 sugar from sugar 94\n",
      "Agent 2334 has eaten 6 sugar from sugar 1688\n",
      "Agent 2315 has eaten 1.0 sugar from sugar 365\n",
      "Agent 2380 has eaten 6 sugar from sugar 251\n",
      "Agent 2324 has eaten 5.0 sugar from sugar 1174\n",
      "Agent 2307 has eaten 6 sugar from sugar 1089\n",
      "Agent 2381 has eaten 6 sugar from sugar 116\n",
      "Agent 2370 has eaten 6 sugar from sugar 84\n",
      "Agent 2297 has eaten 6 sugar from sugar 277\n",
      "Agent 2359 has eaten 6 sugar from sugar 1261\n",
      "Agent 2336 has eaten 6 sugar from sugar 1910\n",
      "Agent 2308 has eaten 6 sugar from sugar 916\n",
      "112\n"
     ]
    },
    {
     "name": "stderr",
     "output_type": "stream",
     "text": [
      "C:\\Users\\DELL\\AppData\\Local\\Temp\\ipykernel_13528\\3195471959.py:147: DeprecationWarning: Because of the shift to using AgentSet, in the future this attribute will return a dict withtype as key as AgentSet as value. Future behavior is available via RandomActivationByType._agents_by_type\n",
      "  for sugar_agent in self.schedule.agents_by_type[Sugar].values():\n",
      "C:\\Users\\DELL\\AppData\\Local\\Temp\\ipykernel_13528\\3195471959.py:139: DeprecationWarning: Because of the shift to using AgentSet, in the future this attribute will return a dict withtype as key as AgentSet as value. Future behavior is available via RandomActivationByType._agents_by_type\n",
      "  corrupt_agents_shuffle = list(self.schedule.agents_by_type[Corrupt_agent].values())\n",
      "C:\\Users\\DELL\\AppData\\Local\\Temp\\ipykernel_13528\\3195471959.py:92: DeprecationWarning: Because of the shift to using AgentSet, in the future this attribute will return a dict withtype as key as AgentSet as value. Future behavior is available via RandomActivationByType._agents_by_type\n",
      "  agents = [agent for agent in self.schedule.agents_by_type[Corrupt_agent].values()]\n"
     ]
    },
    {
     "name": "stdout",
     "output_type": "stream",
     "text": [
      "Agent 2354 with 64.0 has shared 9.0 with 2352 with 73.0\n",
      "113\n"
     ]
    },
    {
     "name": "stderr",
     "output_type": "stream",
     "text": [
      "C:\\Users\\DELL\\AppData\\Local\\Temp\\ipykernel_13528\\3195471959.py:147: DeprecationWarning: Because of the shift to using AgentSet, in the future this attribute will return a dict withtype as key as AgentSet as value. Future behavior is available via RandomActivationByType._agents_by_type\n",
      "  for sugar_agent in self.schedule.agents_by_type[Sugar].values():\n",
      "C:\\Users\\DELL\\AppData\\Local\\Temp\\ipykernel_13528\\3195471959.py:139: DeprecationWarning: Because of the shift to using AgentSet, in the future this attribute will return a dict withtype as key as AgentSet as value. Future behavior is available via RandomActivationByType._agents_by_type\n",
      "  corrupt_agents_shuffle = list(self.schedule.agents_by_type[Corrupt_agent].values())\n",
      "C:\\Users\\DELL\\AppData\\Local\\Temp\\ipykernel_13528\\3195471959.py:92: DeprecationWarning: Because of the shift to using AgentSet, in the future this attribute will return a dict withtype as key as AgentSet as value. Future behavior is available via RandomActivationByType._agents_by_type\n",
      "  agents = [agent for agent in self.schedule.agents_by_type[Corrupt_agent].values()]\n"
     ]
    },
    {
     "name": "stdout",
     "output_type": "stream",
     "text": [
      "Agent 2316 stole 6.0 resources from Agent 2381.\n",
      "Agent 2316 stole 8.0 resources from Agent 2325.\n",
      "Agent 2352 stole 7.0 resources from Agent 2354.\n",
      "Agent 2381 stole 5.0 resources from Agent 2380.\n",
      "Agent 2381 stole 7.0 resources from Agent 2325.\n",
      "Agent 2325 stole 4.0 resources from Agent 2380.\n",
      "Agent 2325 stole 7.0 resources from Agent 2381.\n",
      "114\n"
     ]
    },
    {
     "name": "stderr",
     "output_type": "stream",
     "text": [
      "C:\\Users\\DELL\\AppData\\Local\\Temp\\ipykernel_13528\\3195471959.py:147: DeprecationWarning: Because of the shift to using AgentSet, in the future this attribute will return a dict withtype as key as AgentSet as value. Future behavior is available via RandomActivationByType._agents_by_type\n",
      "  for sugar_agent in self.schedule.agents_by_type[Sugar].values():\n",
      "C:\\Users\\DELL\\AppData\\Local\\Temp\\ipykernel_13528\\3195471959.py:139: DeprecationWarning: Because of the shift to using AgentSet, in the future this attribute will return a dict withtype as key as AgentSet as value. Future behavior is available via RandomActivationByType._agents_by_type\n",
      "  corrupt_agents_shuffle = list(self.schedule.agents_by_type[Corrupt_agent].values())\n",
      "C:\\Users\\DELL\\AppData\\Local\\Temp\\ipykernel_13528\\3195471959.py:92: DeprecationWarning: Because of the shift to using AgentSet, in the future this attribute will return a dict withtype as key as AgentSet as value. Future behavior is available via RandomActivationByType._agents_by_type\n",
      "  agents = [agent for agent in self.schedule.agents_by_type[Corrupt_agent].values()]\n"
     ]
    },
    {
     "name": "stdout",
     "output_type": "stream",
     "text": [
      "Agent 2297 has eaten 6 sugar from sugar 277\n",
      "Agent 2322 has eaten 6 sugar from sugar 584\n",
      "Agent 2352 has eaten 6 sugar from sugar 2049\n",
      "Agent 2369 has eaten 6 sugar from sugar 2167\n",
      "Agent 2370 has eaten 6 sugar from sugar 84\n",
      "Agent 2325 has eaten 4.0 sugar from sugar 161\n",
      "Agent 2356 has eaten 4.0 sugar from sugar 60\n",
      "Agent 2324 has eaten 5.0 sugar from sugar 1174\n",
      "Agent 2380 has eaten 6 sugar from sugar 251\n",
      "Agent 2336 has eaten 6 sugar from sugar 1910\n",
      "Agent 2345 has eaten 6 sugar from sugar 94\n",
      "Agent 2334 has eaten 6 sugar from sugar 1688\n",
      "Agent 2318 has eaten 3.0 sugar from sugar 167\n",
      "Agent 2299 has eaten 6 sugar from sugar 514\n",
      "Agent 2308 has eaten 6 sugar from sugar 916\n",
      "Agent 2307 has eaten 6 sugar from sugar 1089\n",
      "Agent 2316 has eaten 6 sugar from sugar 302\n",
      "Agent 2315 has eaten 1.0 sugar from sugar 365\n",
      "Agent 2350 has eaten 5.0 sugar from sugar 670\n",
      "Agent 2374 has eaten 6 sugar from sugar 1253\n",
      "Agent 2367 has eaten 6 sugar from sugar 1080\n",
      "Agent 2381 has eaten 6 sugar from sugar 116\n",
      "Agent 2359 has eaten 6 sugar from sugar 1261\n",
      "Agent 2383 has eaten 6 sugar from sugar 1315\n",
      "Agent 2341 has eaten 6 sugar from sugar 2238\n",
      "Agent 2339 has eaten 5.0 sugar from sugar 442\n",
      "Agent 2373 has eaten 6.0 sugar from sugar 1843\n",
      "Agent 2354 has eaten 6 sugar from sugar 2095\n",
      "Agent 2319 has eaten 6 sugar from sugar 700\n",
      "115\n"
     ]
    },
    {
     "name": "stderr",
     "output_type": "stream",
     "text": [
      "C:\\Users\\DELL\\AppData\\Local\\Temp\\ipykernel_13528\\3195471959.py:147: DeprecationWarning: Because of the shift to using AgentSet, in the future this attribute will return a dict withtype as key as AgentSet as value. Future behavior is available via RandomActivationByType._agents_by_type\n",
      "  for sugar_agent in self.schedule.agents_by_type[Sugar].values():\n",
      "C:\\Users\\DELL\\AppData\\Local\\Temp\\ipykernel_13528\\3195471959.py:139: DeprecationWarning: Because of the shift to using AgentSet, in the future this attribute will return a dict withtype as key as AgentSet as value. Future behavior is available via RandomActivationByType._agents_by_type\n",
      "  corrupt_agents_shuffle = list(self.schedule.agents_by_type[Corrupt_agent].values())\n",
      "C:\\Users\\DELL\\AppData\\Local\\Temp\\ipykernel_13528\\3195471959.py:92: DeprecationWarning: Because of the shift to using AgentSet, in the future this attribute will return a dict withtype as key as AgentSet as value. Future behavior is available via RandomActivationByType._agents_by_type\n",
      "  agents = [agent for agent in self.schedule.agents_by_type[Corrupt_agent].values()]\n"
     ]
    },
    {
     "name": "stdout",
     "output_type": "stream",
     "text": [
      "Agent 2316 with 62.0 has shared 8.0 with 2325 with 72.0\n",
      "Agent 2359 with 46.0 has shared 6.0 with 2324 with 60.0\n",
      "116\n"
     ]
    },
    {
     "name": "stderr",
     "output_type": "stream",
     "text": [
      "C:\\Users\\DELL\\AppData\\Local\\Temp\\ipykernel_13528\\3195471959.py:147: DeprecationWarning: Because of the shift to using AgentSet, in the future this attribute will return a dict withtype as key as AgentSet as value. Future behavior is available via RandomActivationByType._agents_by_type\n",
      "  for sugar_agent in self.schedule.agents_by_type[Sugar].values():\n",
      "C:\\Users\\DELL\\AppData\\Local\\Temp\\ipykernel_13528\\3195471959.py:139: DeprecationWarning: Because of the shift to using AgentSet, in the future this attribute will return a dict withtype as key as AgentSet as value. Future behavior is available via RandomActivationByType._agents_by_type\n",
      "  corrupt_agents_shuffle = list(self.schedule.agents_by_type[Corrupt_agent].values())\n",
      "C:\\Users\\DELL\\AppData\\Local\\Temp\\ipykernel_13528\\3195471959.py:92: DeprecationWarning: Because of the shift to using AgentSet, in the future this attribute will return a dict withtype as key as AgentSet as value. Future behavior is available via RandomActivationByType._agents_by_type\n",
      "  agents = [agent for agent in self.schedule.agents_by_type[Corrupt_agent].values()]\n"
     ]
    },
    {
     "name": "stdout",
     "output_type": "stream",
     "text": [
      "Agent 2319 stole 4.0 resources from Agent 2299.\n",
      "Agent 2381 stole 8.0 resources from Agent 2325.\n",
      "Agent 2325 stole 7.0 resources from Agent 2381.\n",
      "Agent 2316 stole 8.0 resources from Agent 2325.\n",
      "Agent 2316 stole 4.0 resources from Agent 2380.\n",
      "Agent 2354 stole 10.0 resources from Agent 2352.\n",
      "117\n"
     ]
    },
    {
     "name": "stderr",
     "output_type": "stream",
     "text": [
      "C:\\Users\\DELL\\AppData\\Local\\Temp\\ipykernel_13528\\3195471959.py:147: DeprecationWarning: Because of the shift to using AgentSet, in the future this attribute will return a dict withtype as key as AgentSet as value. Future behavior is available via RandomActivationByType._agents_by_type\n",
      "  for sugar_agent in self.schedule.agents_by_type[Sugar].values():\n",
      "C:\\Users\\DELL\\AppData\\Local\\Temp\\ipykernel_13528\\3195471959.py:139: DeprecationWarning: Because of the shift to using AgentSet, in the future this attribute will return a dict withtype as key as AgentSet as value. Future behavior is available via RandomActivationByType._agents_by_type\n",
      "  corrupt_agents_shuffle = list(self.schedule.agents_by_type[Corrupt_agent].values())\n",
      "C:\\Users\\DELL\\AppData\\Local\\Temp\\ipykernel_13528\\3195471959.py:92: DeprecationWarning: Because of the shift to using AgentSet, in the future this attribute will return a dict withtype as key as AgentSet as value. Future behavior is available via RandomActivationByType._agents_by_type\n",
      "  agents = [agent for agent in self.schedule.agents_by_type[Corrupt_agent].values()]\n"
     ]
    },
    {
     "name": "stdout",
     "output_type": "stream",
     "text": [
      "Agent 2334 has eaten 6 sugar from sugar 1688\n",
      "Agent 2373 has eaten 6.0 sugar from sugar 1843\n",
      "Agent 2356 has eaten 4.0 sugar from sugar 60\n",
      "Agent 2316 has eaten 6 sugar from sugar 302\n",
      "Agent 2318 has eaten 3.0 sugar from sugar 167\n",
      "Agent 2345 has eaten 6 sugar from sugar 94\n",
      "Agent 2307 has eaten 6 sugar from sugar 1089\n",
      "Agent 2370 has eaten 6 sugar from sugar 84\n",
      "Agent 2381 has eaten 6 sugar from sugar 116\n",
      "Agent 2299 has eaten 6 sugar from sugar 514\n",
      "Agent 2319 has eaten 6 sugar from sugar 700\n",
      "Agent 2374 has eaten 6 sugar from sugar 1253\n",
      "Agent 2367 has eaten 6 sugar from sugar 1080\n",
      "Agent 2308 has eaten 6 sugar from sugar 916\n",
      "Agent 2336 has eaten 6 sugar from sugar 1910\n",
      "Agent 2350 has eaten 5.0 sugar from sugar 670\n",
      "Agent 2380 has eaten 6 sugar from sugar 251\n",
      "Agent 2339 has eaten 5.0 sugar from sugar 442\n",
      "Agent 2354 has eaten 6 sugar from sugar 2095\n",
      "Agent 2383 has eaten 6 sugar from sugar 1315\n",
      "Agent 2352 has eaten 6 sugar from sugar 2049\n",
      "Agent 2325 has eaten 4.0 sugar from sugar 161\n",
      "Agent 2324 has eaten 5.0 sugar from sugar 1174\n",
      "Agent 2297 has eaten 6 sugar from sugar 277\n",
      "Agent 2315 has eaten 1.0 sugar from sugar 365\n",
      "Agent 2322 has eaten 6 sugar from sugar 584\n",
      "Agent 2369 has eaten 6 sugar from sugar 2167\n",
      "Agent 2341 has eaten 6 sugar from sugar 2238\n",
      "Agent 2359 has eaten 6 sugar from sugar 1261\n",
      "118\n"
     ]
    },
    {
     "name": "stderr",
     "output_type": "stream",
     "text": [
      "C:\\Users\\DELL\\AppData\\Local\\Temp\\ipykernel_13528\\3195471959.py:147: DeprecationWarning: Because of the shift to using AgentSet, in the future this attribute will return a dict withtype as key as AgentSet as value. Future behavior is available via RandomActivationByType._agents_by_type\n",
      "  for sugar_agent in self.schedule.agents_by_type[Sugar].values():\n",
      "C:\\Users\\DELL\\AppData\\Local\\Temp\\ipykernel_13528\\3195471959.py:139: DeprecationWarning: Because of the shift to using AgentSet, in the future this attribute will return a dict withtype as key as AgentSet as value. Future behavior is available via RandomActivationByType._agents_by_type\n",
      "  corrupt_agents_shuffle = list(self.schedule.agents_by_type[Corrupt_agent].values())\n",
      "C:\\Users\\DELL\\AppData\\Local\\Temp\\ipykernel_13528\\3195471959.py:92: DeprecationWarning: Because of the shift to using AgentSet, in the future this attribute will return a dict withtype as key as AgentSet as value. Future behavior is available via RandomActivationByType._agents_by_type\n",
      "  agents = [agent for agent in self.schedule.agents_by_type[Corrupt_agent].values()]\n"
     ]
    },
    {
     "name": "stdout",
     "output_type": "stream",
     "text": [
      "Agent 2354 with 59.0 has shared 8.0 with 2352 with 84.0\n",
      "119\n"
     ]
    },
    {
     "name": "stderr",
     "output_type": "stream",
     "text": [
      "C:\\Users\\DELL\\AppData\\Local\\Temp\\ipykernel_13528\\3195471959.py:147: DeprecationWarning: Because of the shift to using AgentSet, in the future this attribute will return a dict withtype as key as AgentSet as value. Future behavior is available via RandomActivationByType._agents_by_type\n",
      "  for sugar_agent in self.schedule.agents_by_type[Sugar].values():\n",
      "C:\\Users\\DELL\\AppData\\Local\\Temp\\ipykernel_13528\\3195471959.py:139: DeprecationWarning: Because of the shift to using AgentSet, in the future this attribute will return a dict withtype as key as AgentSet as value. Future behavior is available via RandomActivationByType._agents_by_type\n",
      "  corrupt_agents_shuffle = list(self.schedule.agents_by_type[Corrupt_agent].values())\n",
      "C:\\Users\\DELL\\AppData\\Local\\Temp\\ipykernel_13528\\3195471959.py:92: DeprecationWarning: Because of the shift to using AgentSet, in the future this attribute will return a dict withtype as key as AgentSet as value. Future behavior is available via RandomActivationByType._agents_by_type\n",
      "  agents = [agent for agent in self.schedule.agents_by_type[Corrupt_agent].values()]\n"
     ]
    },
    {
     "name": "stdout",
     "output_type": "stream",
     "text": [
      "Agent 2297 stole 1.0 resources from Agent 2315.\n",
      "Agent 2315 stole 8.0 resources from Agent 2297.\n",
      "Agent 2325 stole 4.0 resources from Agent 2380.\n",
      "Agent 2325 stole 9.0 resources from Agent 2316.\n",
      "Agent 2354 stole 10.0 resources from Agent 2352.\n",
      "Agent 2381 stole 9.0 resources from Agent 2325.\n",
      "Agent 2381 stole 8.0 resources from Agent 2316.\n",
      "Agent 2359 stole 7.0 resources from Agent 2324.\n",
      "120\n"
     ]
    },
    {
     "name": "stderr",
     "output_type": "stream",
     "text": [
      "C:\\Users\\DELL\\AppData\\Local\\Temp\\ipykernel_13528\\3195471959.py:147: DeprecationWarning: Because of the shift to using AgentSet, in the future this attribute will return a dict withtype as key as AgentSet as value. Future behavior is available via RandomActivationByType._agents_by_type\n",
      "  for sugar_agent in self.schedule.agents_by_type[Sugar].values():\n",
      "C:\\Users\\DELL\\AppData\\Local\\Temp\\ipykernel_13528\\3195471959.py:139: DeprecationWarning: Because of the shift to using AgentSet, in the future this attribute will return a dict withtype as key as AgentSet as value. Future behavior is available via RandomActivationByType._agents_by_type\n",
      "  corrupt_agents_shuffle = list(self.schedule.agents_by_type[Corrupt_agent].values())\n",
      "C:\\Users\\DELL\\AppData\\Local\\Temp\\ipykernel_13528\\3195471959.py:92: DeprecationWarning: Because of the shift to using AgentSet, in the future this attribute will return a dict withtype as key as AgentSet as value. Future behavior is available via RandomActivationByType._agents_by_type\n",
      "  agents = [agent for agent in self.schedule.agents_by_type[Corrupt_agent].values()]\n"
     ]
    },
    {
     "name": "stdout",
     "output_type": "stream",
     "text": [
      "Agent 2324 has eaten 5.0 sugar from sugar 1174\n",
      "Agent 2374 has eaten 6 sugar from sugar 1253\n",
      "Agent 2308 has eaten 6 sugar from sugar 916\n",
      "Agent 2315 has eaten 1.0 sugar from sugar 365\n",
      "Agent 2297 has eaten 6 sugar from sugar 277\n",
      "Agent 2339 has eaten 5.0 sugar from sugar 442\n",
      "Agent 2354 has eaten 6 sugar from sugar 2095\n",
      "Agent 2322 has eaten 6 sugar from sugar 584\n",
      "Agent 2345 has eaten 6 sugar from sugar 94\n",
      "Agent 2352 has eaten 6 sugar from sugar 2049\n",
      "Agent 2350 has eaten 5.0 sugar from sugar 670\n",
      "Agent 2370 has eaten 6 sugar from sugar 84\n",
      "Agent 2383 has eaten 6 sugar from sugar 1315\n",
      "Agent 2373 has eaten 6.0 sugar from sugar 1843\n",
      "Agent 2367 has eaten 6 sugar from sugar 1080\n",
      "Agent 2334 has eaten 6 sugar from sugar 1688\n",
      "Agent 2299 has eaten 6 sugar from sugar 514\n",
      "Agent 2336 has eaten 6 sugar from sugar 1910\n",
      "Agent 2380 has eaten 6 sugar from sugar 251\n",
      "Agent 2341 has eaten 6 sugar from sugar 2238\n",
      "Agent 2325 has eaten 4.0 sugar from sugar 161\n",
      "Agent 2318 has eaten 3.0 sugar from sugar 167\n",
      "Agent 2316 has eaten 6 sugar from sugar 302\n",
      "Agent 2369 has eaten 6 sugar from sugar 2167\n",
      "Agent 2307 has eaten 6 sugar from sugar 1089\n",
      "Agent 2359 has eaten 6 sugar from sugar 1261\n",
      "Agent 2381 has eaten 6 sugar from sugar 116\n",
      "Agent 2319 has eaten 6 sugar from sugar 700\n",
      "Agent 2356 has eaten 4.0 sugar from sugar 60\n",
      "121\n"
     ]
    },
    {
     "name": "stderr",
     "output_type": "stream",
     "text": [
      "C:\\Users\\DELL\\AppData\\Local\\Temp\\ipykernel_13528\\3195471959.py:147: DeprecationWarning: Because of the shift to using AgentSet, in the future this attribute will return a dict withtype as key as AgentSet as value. Future behavior is available via RandomActivationByType._agents_by_type\n",
      "  for sugar_agent in self.schedule.agents_by_type[Sugar].values():\n",
      "C:\\Users\\DELL\\AppData\\Local\\Temp\\ipykernel_13528\\3195471959.py:139: DeprecationWarning: Because of the shift to using AgentSet, in the future this attribute will return a dict withtype as key as AgentSet as value. Future behavior is available via RandomActivationByType._agents_by_type\n",
      "  corrupt_agents_shuffle = list(self.schedule.agents_by_type[Corrupt_agent].values())\n",
      "C:\\Users\\DELL\\AppData\\Local\\Temp\\ipykernel_13528\\3195471959.py:92: DeprecationWarning: Because of the shift to using AgentSet, in the future this attribute will return a dict withtype as key as AgentSet as value. Future behavior is available via RandomActivationByType._agents_by_type\n",
      "  agents = [agent for agent in self.schedule.agents_by_type[Corrupt_agent].values()]\n"
     ]
    },
    {
     "name": "stdout",
     "output_type": "stream",
     "text": [
      "Agent 2339 with 85.0 has shared 12.0 with 2350 with 105.0\n",
      "Agent 2325 with 61.0 has shared 8.0 with 2316 with 71.0\n",
      "Agent 2325 with 54.0 has shared 7.0 with 2381 with 70.0\n",
      "Agent 2352 with 68.0 has shared 9.0 with 2354 with 78.0\n",
      "Agent 2316 with 63.0 has shared 8.0 with 2381 with 78.0\n",
      "122\n"
     ]
    },
    {
     "name": "stderr",
     "output_type": "stream",
     "text": [
      "C:\\Users\\DELL\\AppData\\Local\\Temp\\ipykernel_13528\\3195471959.py:147: DeprecationWarning: Because of the shift to using AgentSet, in the future this attribute will return a dict withtype as key as AgentSet as value. Future behavior is available via RandomActivationByType._agents_by_type\n",
      "  for sugar_agent in self.schedule.agents_by_type[Sugar].values():\n",
      "C:\\Users\\DELL\\AppData\\Local\\Temp\\ipykernel_13528\\3195471959.py:139: DeprecationWarning: Because of the shift to using AgentSet, in the future this attribute will return a dict withtype as key as AgentSet as value. Future behavior is available via RandomActivationByType._agents_by_type\n",
      "  corrupt_agents_shuffle = list(self.schedule.agents_by_type[Corrupt_agent].values())\n",
      "C:\\Users\\DELL\\AppData\\Local\\Temp\\ipykernel_13528\\3195471959.py:92: DeprecationWarning: Because of the shift to using AgentSet, in the future this attribute will return a dict withtype as key as AgentSet as value. Future behavior is available via RandomActivationByType._agents_by_type\n",
      "  agents = [agent for agent in self.schedule.agents_by_type[Corrupt_agent].values()]\n"
     ]
    },
    {
     "name": "stdout",
     "output_type": "stream",
     "text": [
      "Agent 2315 stole 7.0 resources from Agent 2297.\n",
      "Agent 2354 stole 8.0 resources from Agent 2352.\n",
      "Agent 2381 stole 4.0 resources from Agent 2380.\n",
      "Agent 2381 stole 6.0 resources from Agent 2325.\n",
      "Agent 2325 stole 3.0 resources from Agent 2380.\n",
      "Agent 2325 stole 10.0 resources from Agent 2381.\n",
      "Agent 2316 stole 7.0 resources from Agent 2325.\n",
      "Agent 2297 stole 2.0 resources from Agent 2315.\n",
      "123\n"
     ]
    },
    {
     "name": "stderr",
     "output_type": "stream",
     "text": [
      "C:\\Users\\DELL\\AppData\\Local\\Temp\\ipykernel_13528\\3195471959.py:147: DeprecationWarning: Because of the shift to using AgentSet, in the future this attribute will return a dict withtype as key as AgentSet as value. Future behavior is available via RandomActivationByType._agents_by_type\n",
      "  for sugar_agent in self.schedule.agents_by_type[Sugar].values():\n",
      "C:\\Users\\DELL\\AppData\\Local\\Temp\\ipykernel_13528\\3195471959.py:139: DeprecationWarning: Because of the shift to using AgentSet, in the future this attribute will return a dict withtype as key as AgentSet as value. Future behavior is available via RandomActivationByType._agents_by_type\n",
      "  corrupt_agents_shuffle = list(self.schedule.agents_by_type[Corrupt_agent].values())\n",
      "C:\\Users\\DELL\\AppData\\Local\\Temp\\ipykernel_13528\\3195471959.py:92: DeprecationWarning: Because of the shift to using AgentSet, in the future this attribute will return a dict withtype as key as AgentSet as value. Future behavior is available via RandomActivationByType._agents_by_type\n",
      "  agents = [agent for agent in self.schedule.agents_by_type[Corrupt_agent].values()]\n"
     ]
    },
    {
     "name": "stdout",
     "output_type": "stream",
     "text": [
      "Agent 2352 has eaten 6 sugar from sugar 2049\n",
      "Agent 2350 has eaten 5.0 sugar from sugar 670\n",
      "Agent 2370 has eaten 6 sugar from sugar 84\n",
      "Agent 2324 has eaten 5.0 sugar from sugar 1174\n",
      "Agent 2319 has eaten 6 sugar from sugar 700\n",
      "Agent 2325 has eaten 4.0 sugar from sugar 161\n",
      "Agent 2299 has eaten 6 sugar from sugar 514\n",
      "Agent 2307 has eaten 6 sugar from sugar 1089\n",
      "Agent 2345 has eaten 6 sugar from sugar 94\n",
      "Agent 2339 has eaten 5.0 sugar from sugar 442\n",
      "Agent 2336 has eaten 6 sugar from sugar 1910\n",
      "Agent 2322 has eaten 6 sugar from sugar 584\n",
      "Agent 2356 has eaten 4.0 sugar from sugar 60\n",
      "Agent 2374 has eaten 6 sugar from sugar 1253\n",
      "Agent 2359 has eaten 6 sugar from sugar 1261\n",
      "Agent 2367 has eaten 6 sugar from sugar 1080\n",
      "Agent 2369 has eaten 6 sugar from sugar 2167\n",
      "Agent 2383 has eaten 6 sugar from sugar 1315\n",
      "Agent 2297 has eaten 6 sugar from sugar 277\n",
      "Agent 2308 has eaten 6 sugar from sugar 916\n",
      "Agent 2341 has eaten 6 sugar from sugar 2238\n",
      "Agent 2318 has eaten 3.0 sugar from sugar 167\n",
      "Agent 2354 has eaten 6 sugar from sugar 2095\n",
      "Agent 2380 has eaten 6 sugar from sugar 251\n",
      "Agent 2373 has eaten 6.0 sugar from sugar 1843\n",
      "Agent 2316 has eaten 6 sugar from sugar 302\n",
      "Agent 2334 has eaten 6 sugar from sugar 1688\n",
      "Agent 2315 has eaten 1.0 sugar from sugar 365\n",
      "Agent 2381 has eaten 6 sugar from sugar 116\n",
      "124\n"
     ]
    },
    {
     "name": "stderr",
     "output_type": "stream",
     "text": [
      "C:\\Users\\DELL\\AppData\\Local\\Temp\\ipykernel_13528\\3195471959.py:147: DeprecationWarning: Because of the shift to using AgentSet, in the future this attribute will return a dict withtype as key as AgentSet as value. Future behavior is available via RandomActivationByType._agents_by_type\n",
      "  for sugar_agent in self.schedule.agents_by_type[Sugar].values():\n",
      "C:\\Users\\DELL\\AppData\\Local\\Temp\\ipykernel_13528\\3195471959.py:139: DeprecationWarning: Because of the shift to using AgentSet, in the future this attribute will return a dict withtype as key as AgentSet as value. Future behavior is available via RandomActivationByType._agents_by_type\n",
      "  corrupt_agents_shuffle = list(self.schedule.agents_by_type[Corrupt_agent].values())\n",
      "C:\\Users\\DELL\\AppData\\Local\\Temp\\ipykernel_13528\\3195471959.py:92: DeprecationWarning: Because of the shift to using AgentSet, in the future this attribute will return a dict withtype as key as AgentSet as value. Future behavior is available via RandomActivationByType._agents_by_type\n",
      "  agents = [agent for agent in self.schedule.agents_by_type[Corrupt_agent].values()]\n"
     ]
    },
    {
     "name": "stdout",
     "output_type": "stream",
     "text": [
      "Agent 2381 with 66.0 has shared 9.0 with 2316 with 82.0\n",
      "125\n"
     ]
    },
    {
     "name": "stderr",
     "output_type": "stream",
     "text": [
      "C:\\Users\\DELL\\AppData\\Local\\Temp\\ipykernel_13528\\3195471959.py:147: DeprecationWarning: Because of the shift to using AgentSet, in the future this attribute will return a dict withtype as key as AgentSet as value. Future behavior is available via RandomActivationByType._agents_by_type\n",
      "  for sugar_agent in self.schedule.agents_by_type[Sugar].values():\n",
      "C:\\Users\\DELL\\AppData\\Local\\Temp\\ipykernel_13528\\3195471959.py:139: DeprecationWarning: Because of the shift to using AgentSet, in the future this attribute will return a dict withtype as key as AgentSet as value. Future behavior is available via RandomActivationByType._agents_by_type\n",
      "  corrupt_agents_shuffle = list(self.schedule.agents_by_type[Corrupt_agent].values())\n",
      "C:\\Users\\DELL\\AppData\\Local\\Temp\\ipykernel_13528\\3195471959.py:92: DeprecationWarning: Because of the shift to using AgentSet, in the future this attribute will return a dict withtype as key as AgentSet as value. Future behavior is available via RandomActivationByType._agents_by_type\n",
      "  agents = [agent for agent in self.schedule.agents_by_type[Corrupt_agent].values()]\n"
     ]
    },
    {
     "name": "stdout",
     "output_type": "stream",
     "text": [
      "Agent 2315 stole 7.0 resources from Agent 2297.\n",
      "Agent 2325 stole 10.0 resources from Agent 2316.\n",
      "Agent 2380 stole 8.0 resources from Agent 2325.\n",
      "Agent 2354 stole 7.0 resources from Agent 2352.\n",
      "Agent 2381 stole 7.0 resources from Agent 2325.\n",
      "Agent 2381 stole 1.0 resources from Agent 2318.\n",
      "Agent 2381 stole 8.0 resources from Agent 2316.\n",
      "Agent 2297 stole 2.0 resources from Agent 2315.\n",
      "126\n"
     ]
    },
    {
     "name": "stderr",
     "output_type": "stream",
     "text": [
      "C:\\Users\\DELL\\AppData\\Local\\Temp\\ipykernel_13528\\3195471959.py:147: DeprecationWarning: Because of the shift to using AgentSet, in the future this attribute will return a dict withtype as key as AgentSet as value. Future behavior is available via RandomActivationByType._agents_by_type\n",
      "  for sugar_agent in self.schedule.agents_by_type[Sugar].values():\n",
      "C:\\Users\\DELL\\AppData\\Local\\Temp\\ipykernel_13528\\3195471959.py:139: DeprecationWarning: Because of the shift to using AgentSet, in the future this attribute will return a dict withtype as key as AgentSet as value. Future behavior is available via RandomActivationByType._agents_by_type\n",
      "  corrupt_agents_shuffle = list(self.schedule.agents_by_type[Corrupt_agent].values())\n",
      "C:\\Users\\DELL\\AppData\\Local\\Temp\\ipykernel_13528\\3195471959.py:92: DeprecationWarning: Because of the shift to using AgentSet, in the future this attribute will return a dict withtype as key as AgentSet as value. Future behavior is available via RandomActivationByType._agents_by_type\n",
      "  agents = [agent for agent in self.schedule.agents_by_type[Corrupt_agent].values()]\n"
     ]
    },
    {
     "name": "stdout",
     "output_type": "stream",
     "text": [
      "Agent 2359 has eaten 6 sugar from sugar 1261\n",
      "Agent 2299 has eaten 6 sugar from sugar 514\n",
      "Agent 2350 has eaten 5.0 sugar from sugar 670\n",
      "Agent 2339 has eaten 5.0 sugar from sugar 442\n",
      "Agent 2322 has eaten 6 sugar from sugar 584\n",
      "Agent 2369 has eaten 6 sugar from sugar 2167\n",
      "Agent 2334 has eaten 6 sugar from sugar 1688\n",
      "Agent 2381 has eaten 6 sugar from sugar 116\n",
      "Agent 2356 has eaten 4.0 sugar from sugar 60\n",
      "Agent 2383 has eaten 6 sugar from sugar 1315\n",
      "Agent 2370 has eaten 6 sugar from sugar 84\n",
      "Agent 2318 has eaten 3.0 sugar from sugar 167\n",
      "Agent 2345 has eaten 6 sugar from sugar 94\n",
      "Agent 2336 has eaten 6 sugar from sugar 1910\n",
      "Agent 2352 has eaten 6 sugar from sugar 2049\n",
      "Agent 2316 has eaten 6 sugar from sugar 302\n",
      "Agent 2324 has eaten 5.0 sugar from sugar 1174\n",
      "Agent 2374 has eaten 6 sugar from sugar 1253\n",
      "Agent 2308 has eaten 6 sugar from sugar 916\n",
      "Agent 2319 has eaten 6 sugar from sugar 700\n",
      "Agent 2315 has eaten 1.0 sugar from sugar 365\n",
      "Agent 2373 has eaten 6.0 sugar from sugar 1843\n",
      "Agent 2297 has eaten 6 sugar from sugar 277\n",
      "Agent 2354 has eaten 6 sugar from sugar 2095\n",
      "Agent 2367 has eaten 6 sugar from sugar 1080\n",
      "Agent 2325 has eaten 4.0 sugar from sugar 161\n",
      "Agent 2307 has eaten 6 sugar from sugar 1089\n",
      "Agent 2380 has eaten 6 sugar from sugar 251\n",
      "Agent 2341 has eaten 6 sugar from sugar 2238\n",
      "127\n"
     ]
    },
    {
     "name": "stderr",
     "output_type": "stream",
     "text": [
      "C:\\Users\\DELL\\AppData\\Local\\Temp\\ipykernel_13528\\3195471959.py:147: DeprecationWarning: Because of the shift to using AgentSet, in the future this attribute will return a dict withtype as key as AgentSet as value. Future behavior is available via RandomActivationByType._agents_by_type\n",
      "  for sugar_agent in self.schedule.agents_by_type[Sugar].values():\n",
      "C:\\Users\\DELL\\AppData\\Local\\Temp\\ipykernel_13528\\3195471959.py:139: DeprecationWarning: Because of the shift to using AgentSet, in the future this attribute will return a dict withtype as key as AgentSet as value. Future behavior is available via RandomActivationByType._agents_by_type\n",
      "  corrupt_agents_shuffle = list(self.schedule.agents_by_type[Corrupt_agent].values())\n",
      "C:\\Users\\DELL\\AppData\\Local\\Temp\\ipykernel_13528\\3195471959.py:92: DeprecationWarning: Because of the shift to using AgentSet, in the future this attribute will return a dict withtype as key as AgentSet as value. Future behavior is available via RandomActivationByType._agents_by_type\n",
      "  agents = [agent for agent in self.schedule.agents_by_type[Corrupt_agent].values()]\n"
     ]
    },
    {
     "name": "stdout",
     "output_type": "stream",
     "text": [
      "128\n"
     ]
    },
    {
     "name": "stderr",
     "output_type": "stream",
     "text": [
      "C:\\Users\\DELL\\AppData\\Local\\Temp\\ipykernel_13528\\3195471959.py:147: DeprecationWarning: Because of the shift to using AgentSet, in the future this attribute will return a dict withtype as key as AgentSet as value. Future behavior is available via RandomActivationByType._agents_by_type\n",
      "  for sugar_agent in self.schedule.agents_by_type[Sugar].values():\n",
      "C:\\Users\\DELL\\AppData\\Local\\Temp\\ipykernel_13528\\3195471959.py:139: DeprecationWarning: Because of the shift to using AgentSet, in the future this attribute will return a dict withtype as key as AgentSet as value. Future behavior is available via RandomActivationByType._agents_by_type\n",
      "  corrupt_agents_shuffle = list(self.schedule.agents_by_type[Corrupt_agent].values())\n",
      "C:\\Users\\DELL\\AppData\\Local\\Temp\\ipykernel_13528\\3195471959.py:92: DeprecationWarning: Because of the shift to using AgentSet, in the future this attribute will return a dict withtype as key as AgentSet as value. Future behavior is available via RandomActivationByType._agents_by_type\n",
      "  agents = [agent for agent in self.schedule.agents_by_type[Corrupt_agent].values()]\n"
     ]
    },
    {
     "name": "stdout",
     "output_type": "stream",
     "text": [
      "Agent 2297 stole 2.0 resources from Agent 2315.\n",
      "Agent 2354 stole 7.0 resources from Agent 2352.\n",
      "Agent 2316 stole 6.0 resources from Agent 2325.\n",
      "Agent 2381 stole 5.0 resources from Agent 2380.\n",
      "Agent 2381 stole 9.0 resources from Agent 2316.\n",
      "Agent 2381 stole 5.0 resources from Agent 2325.\n",
      "Agent 2380 stole 4.0 resources from Agent 2325.\n",
      "Agent 2325 stole 10 resources from Agent 2381.\n",
      "Agent 2325 stole 4.0 resources from Agent 2380.\n",
      "Agent 2325 stole 7.0 resources from Agent 2316.\n",
      "129\n"
     ]
    },
    {
     "name": "stderr",
     "output_type": "stream",
     "text": [
      "C:\\Users\\DELL\\AppData\\Local\\Temp\\ipykernel_13528\\3195471959.py:147: DeprecationWarning: Because of the shift to using AgentSet, in the future this attribute will return a dict withtype as key as AgentSet as value. Future behavior is available via RandomActivationByType._agents_by_type\n",
      "  for sugar_agent in self.schedule.agents_by_type[Sugar].values():\n",
      "C:\\Users\\DELL\\AppData\\Local\\Temp\\ipykernel_13528\\3195471959.py:139: DeprecationWarning: Because of the shift to using AgentSet, in the future this attribute will return a dict withtype as key as AgentSet as value. Future behavior is available via RandomActivationByType._agents_by_type\n",
      "  corrupt_agents_shuffle = list(self.schedule.agents_by_type[Corrupt_agent].values())\n",
      "C:\\Users\\DELL\\AppData\\Local\\Temp\\ipykernel_13528\\3195471959.py:92: DeprecationWarning: Because of the shift to using AgentSet, in the future this attribute will return a dict withtype as key as AgentSet as value. Future behavior is available via RandomActivationByType._agents_by_type\n",
      "  agents = [agent for agent in self.schedule.agents_by_type[Corrupt_agent].values()]\n"
     ]
    },
    {
     "name": "stdout",
     "output_type": "stream",
     "text": [
      "Agent 2334 has eaten 6 sugar from sugar 1688\n",
      "Agent 2307 has eaten 6 sugar from sugar 1089\n",
      "Agent 2356 has eaten 4.0 sugar from sugar 60\n",
      "Agent 2359 has eaten 6 sugar from sugar 1261\n",
      "Agent 2354 has eaten 6 sugar from sugar 2095\n",
      "Agent 2339 has eaten 5.0 sugar from sugar 442\n",
      "Agent 2336 has eaten 6 sugar from sugar 1910\n",
      "Agent 2316 has eaten 6 sugar from sugar 302\n",
      "Agent 2373 has eaten 6.0 sugar from sugar 1843\n",
      "Agent 2380 has eaten 6 sugar from sugar 251\n",
      "Agent 2383 has eaten 6 sugar from sugar 1315\n",
      "Agent 2324 has eaten 5.0 sugar from sugar 1174\n",
      "Agent 2299 has eaten 6 sugar from sugar 514\n",
      "Agent 2367 has eaten 6 sugar from sugar 1080\n",
      "Agent 2318 has eaten 3.0 sugar from sugar 167\n",
      "Agent 2341 has eaten 6 sugar from sugar 2238\n",
      "Agent 2352 has eaten 6 sugar from sugar 2049\n",
      "Agent 2297 has eaten 6 sugar from sugar 277\n",
      "Agent 2308 has eaten 6 sugar from sugar 916\n",
      "Agent 2350 has eaten 5.0 sugar from sugar 670\n",
      "Agent 2369 has eaten 6 sugar from sugar 2167\n",
      "Agent 2315 has eaten 1.0 sugar from sugar 365\n",
      "Agent 2322 has eaten 6 sugar from sugar 584\n",
      "Agent 2381 has eaten 6 sugar from sugar 116\n",
      "Agent 2325 has eaten 4.0 sugar from sugar 161\n",
      "Agent 2319 has eaten 6 sugar from sugar 700\n",
      "Agent 2345 has eaten 6 sugar from sugar 94\n",
      "Agent 2370 has eaten 6 sugar from sugar 84\n",
      "Agent 2374 has eaten 6 sugar from sugar 1253\n",
      "130\n"
     ]
    },
    {
     "name": "stderr",
     "output_type": "stream",
     "text": [
      "C:\\Users\\DELL\\AppData\\Local\\Temp\\ipykernel_13528\\3195471959.py:147: DeprecationWarning: Because of the shift to using AgentSet, in the future this attribute will return a dict withtype as key as AgentSet as value. Future behavior is available via RandomActivationByType._agents_by_type\n",
      "  for sugar_agent in self.schedule.agents_by_type[Sugar].values():\n",
      "C:\\Users\\DELL\\AppData\\Local\\Temp\\ipykernel_13528\\3195471959.py:139: DeprecationWarning: Because of the shift to using AgentSet, in the future this attribute will return a dict withtype as key as AgentSet as value. Future behavior is available via RandomActivationByType._agents_by_type\n",
      "  corrupt_agents_shuffle = list(self.schedule.agents_by_type[Corrupt_agent].values())\n",
      "C:\\Users\\DELL\\AppData\\Local\\Temp\\ipykernel_13528\\3195471959.py:92: DeprecationWarning: Because of the shift to using AgentSet, in the future this attribute will return a dict withtype as key as AgentSet as value. Future behavior is available via RandomActivationByType._agents_by_type\n",
      "  agents = [agent for agent in self.schedule.agents_by_type[Corrupt_agent].values()]\n"
     ]
    },
    {
     "name": "stdout",
     "output_type": "stream",
     "text": [
      "Agent 2316 with 53.0 has shared 7.0 with 2325 with 65.0\n",
      "131\n"
     ]
    },
    {
     "name": "stderr",
     "output_type": "stream",
     "text": [
      "C:\\Users\\DELL\\AppData\\Local\\Temp\\ipykernel_13528\\3195471959.py:147: DeprecationWarning: Because of the shift to using AgentSet, in the future this attribute will return a dict withtype as key as AgentSet as value. Future behavior is available via RandomActivationByType._agents_by_type\n",
      "  for sugar_agent in self.schedule.agents_by_type[Sugar].values():\n",
      "C:\\Users\\DELL\\AppData\\Local\\Temp\\ipykernel_13528\\3195471959.py:139: DeprecationWarning: Because of the shift to using AgentSet, in the future this attribute will return a dict withtype as key as AgentSet as value. Future behavior is available via RandomActivationByType._agents_by_type\n",
      "  corrupt_agents_shuffle = list(self.schedule.agents_by_type[Corrupt_agent].values())\n",
      "C:\\Users\\DELL\\AppData\\Local\\Temp\\ipykernel_13528\\3195471959.py:92: DeprecationWarning: Because of the shift to using AgentSet, in the future this attribute will return a dict withtype as key as AgentSet as value. Future behavior is available via RandomActivationByType._agents_by_type\n",
      "  agents = [agent for agent in self.schedule.agents_by_type[Corrupt_agent].values()]\n"
     ]
    },
    {
     "name": "stdout",
     "output_type": "stream",
     "text": [
      "Agent 2325 stole 10.0 resources from Agent 2381.\n",
      "Agent 2325 stole 4.0 resources from Agent 2380.\n",
      "Agent 2325 stole 6.0 resources from Agent 2316.\n",
      "Agent 2324 stole 6.0 resources from Agent 2359.\n",
      "Agent 2297 stole 1.0 resources from Agent 2315.\n",
      "Agent 2316 stole 10.0 resources from Agent 2325.\n",
      "Agent 2381 stole 4.0 resources from Agent 2380.\n",
      "Agent 2381 stole 7.0 resources from Agent 2316.\n",
      "Agent 2381 stole 9.0 resources from Agent 2325.\n",
      "Agent 2354 stole 6.0 resources from Agent 2352.\n",
      "132\n"
     ]
    },
    {
     "name": "stderr",
     "output_type": "stream",
     "text": [
      "C:\\Users\\DELL\\AppData\\Local\\Temp\\ipykernel_13528\\3195471959.py:147: DeprecationWarning: Because of the shift to using AgentSet, in the future this attribute will return a dict withtype as key as AgentSet as value. Future behavior is available via RandomActivationByType._agents_by_type\n",
      "  for sugar_agent in self.schedule.agents_by_type[Sugar].values():\n",
      "C:\\Users\\DELL\\AppData\\Local\\Temp\\ipykernel_13528\\3195471959.py:139: DeprecationWarning: Because of the shift to using AgentSet, in the future this attribute will return a dict withtype as key as AgentSet as value. Future behavior is available via RandomActivationByType._agents_by_type\n",
      "  corrupt_agents_shuffle = list(self.schedule.agents_by_type[Corrupt_agent].values())\n",
      "C:\\Users\\DELL\\AppData\\Local\\Temp\\ipykernel_13528\\3195471959.py:92: DeprecationWarning: Because of the shift to using AgentSet, in the future this attribute will return a dict withtype as key as AgentSet as value. Future behavior is available via RandomActivationByType._agents_by_type\n",
      "  agents = [agent for agent in self.schedule.agents_by_type[Corrupt_agent].values()]\n"
     ]
    },
    {
     "name": "stdout",
     "output_type": "stream",
     "text": [
      "Agent 2308 has eaten 6 sugar from sugar 916\n",
      "Agent 2367 has eaten 6 sugar from sugar 1080\n",
      "Agent 2383 has eaten 6 sugar from sugar 1315\n",
      "Agent 2325 has eaten 4.0 sugar from sugar 161\n",
      "Agent 2345 has eaten 6 sugar from sugar 94\n",
      "Agent 2350 has eaten 5.0 sugar from sugar 670\n",
      "Agent 2380 has eaten 6 sugar from sugar 251\n",
      "Agent 2299 has eaten 6 sugar from sugar 514\n",
      "Agent 2336 has eaten 6 sugar from sugar 1910\n",
      "Agent 2354 has eaten 6 sugar from sugar 2095\n",
      "Agent 2381 has eaten 6 sugar from sugar 116\n",
      "Agent 2374 has eaten 6 sugar from sugar 1253\n",
      "Agent 2352 has eaten 6 sugar from sugar 2049\n",
      "Agent 2324 has eaten 5.0 sugar from sugar 1174\n",
      "Agent 2307 has eaten 6 sugar from sugar 1089\n",
      "Agent 2359 has eaten 6 sugar from sugar 1261\n",
      "Agent 2370 has eaten 6 sugar from sugar 84\n",
      "Agent 2334 has eaten 6 sugar from sugar 1688\n",
      "Agent 2369 has eaten 6 sugar from sugar 2167\n",
      "Agent 2297 has eaten 6 sugar from sugar 277\n",
      "Agent 2318 has eaten 3.0 sugar from sugar 167\n",
      "Agent 2319 has eaten 6 sugar from sugar 700\n",
      "Agent 2373 has eaten 6.0 sugar from sugar 1843\n",
      "Agent 2356 has eaten 4.0 sugar from sugar 60\n",
      "Agent 2322 has eaten 6 sugar from sugar 584\n",
      "Agent 2316 has eaten 6 sugar from sugar 302\n",
      "Agent 2339 has eaten 5.0 sugar from sugar 442\n",
      "Agent 2315 has eaten 1.0 sugar from sugar 365\n",
      "Agent 2341 has eaten 6 sugar from sugar 2238\n",
      "133\n"
     ]
    },
    {
     "name": "stderr",
     "output_type": "stream",
     "text": [
      "C:\\Users\\DELL\\AppData\\Local\\Temp\\ipykernel_13528\\3195471959.py:147: DeprecationWarning: Because of the shift to using AgentSet, in the future this attribute will return a dict withtype as key as AgentSet as value. Future behavior is available via RandomActivationByType._agents_by_type\n",
      "  for sugar_agent in self.schedule.agents_by_type[Sugar].values():\n",
      "C:\\Users\\DELL\\AppData\\Local\\Temp\\ipykernel_13528\\3195471959.py:139: DeprecationWarning: Because of the shift to using AgentSet, in the future this attribute will return a dict withtype as key as AgentSet as value. Future behavior is available via RandomActivationByType._agents_by_type\n",
      "  corrupt_agents_shuffle = list(self.schedule.agents_by_type[Corrupt_agent].values())\n",
      "C:\\Users\\DELL\\AppData\\Local\\Temp\\ipykernel_13528\\3195471959.py:92: DeprecationWarning: Because of the shift to using AgentSet, in the future this attribute will return a dict withtype as key as AgentSet as value. Future behavior is available via RandomActivationByType._agents_by_type\n",
      "  agents = [agent for agent in self.schedule.agents_by_type[Corrupt_agent].values()]\n"
     ]
    },
    {
     "name": "stdout",
     "output_type": "stream",
     "text": [
      "134\n"
     ]
    },
    {
     "name": "stderr",
     "output_type": "stream",
     "text": [
      "C:\\Users\\DELL\\AppData\\Local\\Temp\\ipykernel_13528\\3195471959.py:147: DeprecationWarning: Because of the shift to using AgentSet, in the future this attribute will return a dict withtype as key as AgentSet as value. Future behavior is available via RandomActivationByType._agents_by_type\n",
      "  for sugar_agent in self.schedule.agents_by_type[Sugar].values():\n",
      "C:\\Users\\DELL\\AppData\\Local\\Temp\\ipykernel_13528\\3195471959.py:139: DeprecationWarning: Because of the shift to using AgentSet, in the future this attribute will return a dict withtype as key as AgentSet as value. Future behavior is available via RandomActivationByType._agents_by_type\n",
      "  corrupt_agents_shuffle = list(self.schedule.agents_by_type[Corrupt_agent].values())\n",
      "C:\\Users\\DELL\\AppData\\Local\\Temp\\ipykernel_13528\\3195471959.py:92: DeprecationWarning: Because of the shift to using AgentSet, in the future this attribute will return a dict withtype as key as AgentSet as value. Future behavior is available via RandomActivationByType._agents_by_type\n",
      "  agents = [agent for agent in self.schedule.agents_by_type[Corrupt_agent].values()]\n"
     ]
    },
    {
     "name": "stdout",
     "output_type": "stream",
     "text": [
      "Agent 2354 stole 6.0 resources from Agent 2352.\n",
      "Agent 2381 stole 6.0 resources from Agent 2316.\n",
      "Agent 2381 stole 1.0 resources from Agent 2318.\n",
      "Agent 2381 stole 8.0 resources from Agent 2325.\n",
      "Agent 2381 stole 4.0 resources from Agent 2380.\n",
      "Agent 2297 stole 1.0 resources from Agent 2315.\n",
      "Agent 2325 stole 5.0 resources from Agent 2316.\n",
      "Agent 2325 stole 3.0 resources from Agent 2380.\n",
      "Agent 2316 stole 3.0 resources from Agent 2380.\n",
      "Agent 2315 stole 8.0 resources from Agent 2297.\n",
      "135\n"
     ]
    },
    {
     "name": "stderr",
     "output_type": "stream",
     "text": [
      "C:\\Users\\DELL\\AppData\\Local\\Temp\\ipykernel_13528\\3195471959.py:147: DeprecationWarning: Because of the shift to using AgentSet, in the future this attribute will return a dict withtype as key as AgentSet as value. Future behavior is available via RandomActivationByType._agents_by_type\n",
      "  for sugar_agent in self.schedule.agents_by_type[Sugar].values():\n",
      "C:\\Users\\DELL\\AppData\\Local\\Temp\\ipykernel_13528\\3195471959.py:139: DeprecationWarning: Because of the shift to using AgentSet, in the future this attribute will return a dict withtype as key as AgentSet as value. Future behavior is available via RandomActivationByType._agents_by_type\n",
      "  corrupt_agents_shuffle = list(self.schedule.agents_by_type[Corrupt_agent].values())\n",
      "C:\\Users\\DELL\\AppData\\Local\\Temp\\ipykernel_13528\\3195471959.py:92: DeprecationWarning: Because of the shift to using AgentSet, in the future this attribute will return a dict withtype as key as AgentSet as value. Future behavior is available via RandomActivationByType._agents_by_type\n",
      "  agents = [agent for agent in self.schedule.agents_by_type[Corrupt_agent].values()]\n"
     ]
    },
    {
     "name": "stdout",
     "output_type": "stream",
     "text": [
      "Agent 2345 has eaten 6 sugar from sugar 94\n",
      "Agent 2319 has eaten 6 sugar from sugar 700\n",
      "Agent 2339 has eaten 5.0 sugar from sugar 442\n",
      "Agent 2359 has eaten 6 sugar from sugar 1261\n",
      "Agent 2336 has eaten 6 sugar from sugar 1910\n",
      "Agent 2383 has eaten 6 sugar from sugar 1315\n",
      "Agent 2315 has eaten 1.0 sugar from sugar 365\n",
      "Agent 2299 has eaten 6 sugar from sugar 514\n",
      "Agent 2356 has eaten 4.0 sugar from sugar 60\n",
      "Agent 2316 has eaten 6 sugar from sugar 302\n",
      "Agent 2352 has eaten 6 sugar from sugar 2049\n",
      "Agent 2374 has eaten 6 sugar from sugar 1253\n",
      "Agent 2334 has eaten 6 sugar from sugar 1688\n",
      "Agent 2381 has eaten 6 sugar from sugar 116\n",
      "Agent 2380 has eaten 6 sugar from sugar 251\n",
      "Agent 2373 has eaten 6.0 sugar from sugar 1843\n",
      "Agent 2350 has eaten 5.0 sugar from sugar 670\n",
      "Agent 2325 has eaten 4.0 sugar from sugar 161\n",
      "Agent 2367 has eaten 6 sugar from sugar 1080\n",
      "Agent 2307 has eaten 6 sugar from sugar 1089\n",
      "Agent 2318 has eaten 3.0 sugar from sugar 167\n",
      "Agent 2324 has eaten 5.0 sugar from sugar 1174\n",
      "Agent 2341 has eaten 6 sugar from sugar 2238\n",
      "Agent 2297 has eaten 6 sugar from sugar 277\n",
      "Agent 2308 has eaten 6 sugar from sugar 916\n",
      "Agent 2354 has eaten 6 sugar from sugar 2095\n",
      "Agent 2369 has eaten 6 sugar from sugar 2167\n",
      "Agent 2322 has eaten 6 sugar from sugar 584\n",
      "Agent 2370 has eaten 6 sugar from sugar 84\n",
      "136\n"
     ]
    },
    {
     "name": "stderr",
     "output_type": "stream",
     "text": [
      "C:\\Users\\DELL\\AppData\\Local\\Temp\\ipykernel_13528\\3195471959.py:147: DeprecationWarning: Because of the shift to using AgentSet, in the future this attribute will return a dict withtype as key as AgentSet as value. Future behavior is available via RandomActivationByType._agents_by_type\n",
      "  for sugar_agent in self.schedule.agents_by_type[Sugar].values():\n",
      "C:\\Users\\DELL\\AppData\\Local\\Temp\\ipykernel_13528\\3195471959.py:139: DeprecationWarning: Because of the shift to using AgentSet, in the future this attribute will return a dict withtype as key as AgentSet as value. Future behavior is available via RandomActivationByType._agents_by_type\n",
      "  corrupt_agents_shuffle = list(self.schedule.agents_by_type[Corrupt_agent].values())\n",
      "C:\\Users\\DELL\\AppData\\Local\\Temp\\ipykernel_13528\\3195471959.py:92: DeprecationWarning: Because of the shift to using AgentSet, in the future this attribute will return a dict withtype as key as AgentSet as value. Future behavior is available via RandomActivationByType._agents_by_type\n",
      "  agents = [agent for agent in self.schedule.agents_by_type[Corrupt_agent].values()]\n"
     ]
    },
    {
     "name": "stdout",
     "output_type": "stream",
     "text": [
      "137\n"
     ]
    },
    {
     "name": "stderr",
     "output_type": "stream",
     "text": [
      "C:\\Users\\DELL\\AppData\\Local\\Temp\\ipykernel_13528\\3195471959.py:147: DeprecationWarning: Because of the shift to using AgentSet, in the future this attribute will return a dict withtype as key as AgentSet as value. Future behavior is available via RandomActivationByType._agents_by_type\n",
      "  for sugar_agent in self.schedule.agents_by_type[Sugar].values():\n",
      "C:\\Users\\DELL\\AppData\\Local\\Temp\\ipykernel_13528\\3195471959.py:139: DeprecationWarning: Because of the shift to using AgentSet, in the future this attribute will return a dict withtype as key as AgentSet as value. Future behavior is available via RandomActivationByType._agents_by_type\n",
      "  corrupt_agents_shuffle = list(self.schedule.agents_by_type[Corrupt_agent].values())\n",
      "C:\\Users\\DELL\\AppData\\Local\\Temp\\ipykernel_13528\\3195471959.py:92: DeprecationWarning: Because of the shift to using AgentSet, in the future this attribute will return a dict withtype as key as AgentSet as value. Future behavior is available via RandomActivationByType._agents_by_type\n",
      "  agents = [agent for agent in self.schedule.agents_by_type[Corrupt_agent].values()]\n"
     ]
    },
    {
     "name": "stdout",
     "output_type": "stream",
     "text": [
      "Agent 2381 stole 8.0 resources from Agent 2325.\n",
      "Agent 2381 stole 1.0 resources from Agent 2318.\n",
      "Agent 2316 stole 10 resources from Agent 2381.\n",
      "Agent 2297 stole 2.0 resources from Agent 2315.\n",
      "Agent 2325 stole 10 resources from Agent 2381.\n",
      "Agent 2354 stole 6.0 resources from Agent 2352.\n",
      "Agent 2380 stole 10 resources from Agent 2381.\n",
      "Agent 2380 stole 7.0 resources from Agent 2316.\n",
      "Agent 2319 stole 3.0 resources from Agent 2299.\n",
      "138\n"
     ]
    },
    {
     "name": "stderr",
     "output_type": "stream",
     "text": [
      "C:\\Users\\DELL\\AppData\\Local\\Temp\\ipykernel_13528\\3195471959.py:147: DeprecationWarning: Because of the shift to using AgentSet, in the future this attribute will return a dict withtype as key as AgentSet as value. Future behavior is available via RandomActivationByType._agents_by_type\n",
      "  for sugar_agent in self.schedule.agents_by_type[Sugar].values():\n",
      "C:\\Users\\DELL\\AppData\\Local\\Temp\\ipykernel_13528\\3195471959.py:139: DeprecationWarning: Because of the shift to using AgentSet, in the future this attribute will return a dict withtype as key as AgentSet as value. Future behavior is available via RandomActivationByType._agents_by_type\n",
      "  corrupt_agents_shuffle = list(self.schedule.agents_by_type[Corrupt_agent].values())\n",
      "C:\\Users\\DELL\\AppData\\Local\\Temp\\ipykernel_13528\\3195471959.py:92: DeprecationWarning: Because of the shift to using AgentSet, in the future this attribute will return a dict withtype as key as AgentSet as value. Future behavior is available via RandomActivationByType._agents_by_type\n",
      "  agents = [agent for agent in self.schedule.agents_by_type[Corrupt_agent].values()]\n"
     ]
    },
    {
     "name": "stdout",
     "output_type": "stream",
     "text": [
      "Agent 2359 has eaten 6 sugar from sugar 1261\n",
      "Agent 2299 has eaten 6 sugar from sugar 514\n",
      "Agent 2336 has eaten 6 sugar from sugar 1910\n",
      "Agent 2352 has eaten 6 sugar from sugar 2049\n",
      "Agent 2325 has eaten 4.0 sugar from sugar 161\n",
      "Agent 2315 has eaten 1.0 sugar from sugar 365\n",
      "Agent 2381 has eaten 6 sugar from sugar 116\n",
      "Agent 2350 has eaten 5.0 sugar from sugar 670\n",
      "Agent 2354 has eaten 6 sugar from sugar 2095\n",
      "Agent 2383 has eaten 6 sugar from sugar 1315\n",
      "Agent 2307 has eaten 6 sugar from sugar 1089\n",
      "Agent 2369 has eaten 6 sugar from sugar 2167\n",
      "Agent 2297 has eaten 6 sugar from sugar 277\n",
      "Agent 2370 has eaten 6 sugar from sugar 84\n",
      "Agent 2367 has eaten 6 sugar from sugar 1080\n",
      "Agent 2319 has eaten 6 sugar from sugar 700\n",
      "Agent 2316 has eaten 6 sugar from sugar 302\n",
      "Agent 2324 has eaten 5.0 sugar from sugar 1174\n",
      "Agent 2322 has eaten 6 sugar from sugar 584\n",
      "Agent 2380 has eaten 6 sugar from sugar 251\n",
      "Agent 2341 has eaten 6 sugar from sugar 2238\n",
      "Agent 2374 has eaten 6 sugar from sugar 1253\n",
      "Agent 2308 has eaten 6 sugar from sugar 916\n",
      "Agent 2345 has eaten 6 sugar from sugar 94\n",
      "Agent 2356 has eaten 4.0 sugar from sugar 60\n",
      "Agent 2373 has eaten 6.0 sugar from sugar 1843\n",
      "Agent 2339 has eaten 5.0 sugar from sugar 442\n",
      "Agent 2334 has eaten 6 sugar from sugar 1688\n",
      "Agent 2318 has eaten 3.0 sugar from sugar 167\n",
      "139\n"
     ]
    },
    {
     "name": "stderr",
     "output_type": "stream",
     "text": [
      "C:\\Users\\DELL\\AppData\\Local\\Temp\\ipykernel_13528\\3195471959.py:147: DeprecationWarning: Because of the shift to using AgentSet, in the future this attribute will return a dict withtype as key as AgentSet as value. Future behavior is available via RandomActivationByType._agents_by_type\n",
      "  for sugar_agent in self.schedule.agents_by_type[Sugar].values():\n",
      "C:\\Users\\DELL\\AppData\\Local\\Temp\\ipykernel_13528\\3195471959.py:139: DeprecationWarning: Because of the shift to using AgentSet, in the future this attribute will return a dict withtype as key as AgentSet as value. Future behavior is available via RandomActivationByType._agents_by_type\n",
      "  corrupt_agents_shuffle = list(self.schedule.agents_by_type[Corrupt_agent].values())\n",
      "C:\\Users\\DELL\\AppData\\Local\\Temp\\ipykernel_13528\\3195471959.py:92: DeprecationWarning: Because of the shift to using AgentSet, in the future this attribute will return a dict withtype as key as AgentSet as value. Future behavior is available via RandomActivationByType._agents_by_type\n",
      "  agents = [agent for agent in self.schedule.agents_by_type[Corrupt_agent].values()]\n"
     ]
    },
    {
     "name": "stdout",
     "output_type": "stream",
     "text": [
      "Agent 2316 with 48.0 has shared 6.0 with 2380 with 53.0\n",
      "140\n"
     ]
    },
    {
     "name": "stderr",
     "output_type": "stream",
     "text": [
      "C:\\Users\\DELL\\AppData\\Local\\Temp\\ipykernel_13528\\3195471959.py:147: DeprecationWarning: Because of the shift to using AgentSet, in the future this attribute will return a dict withtype as key as AgentSet as value. Future behavior is available via RandomActivationByType._agents_by_type\n",
      "  for sugar_agent in self.schedule.agents_by_type[Sugar].values():\n",
      "C:\\Users\\DELL\\AppData\\Local\\Temp\\ipykernel_13528\\3195471959.py:139: DeprecationWarning: Because of the shift to using AgentSet, in the future this attribute will return a dict withtype as key as AgentSet as value. Future behavior is available via RandomActivationByType._agents_by_type\n",
      "  corrupt_agents_shuffle = list(self.schedule.agents_by_type[Corrupt_agent].values())\n",
      "C:\\Users\\DELL\\AppData\\Local\\Temp\\ipykernel_13528\\3195471959.py:92: DeprecationWarning: Because of the shift to using AgentSet, in the future this attribute will return a dict withtype as key as AgentSet as value. Future behavior is available via RandomActivationByType._agents_by_type\n",
      "  agents = [agent for agent in self.schedule.agents_by_type[Corrupt_agent].values()]\n"
     ]
    },
    {
     "name": "stdout",
     "output_type": "stream",
     "text": [
      "Agent 2359 stole 9.0 resources from Agent 2324.\n",
      "Agent 2316 stole 8.0 resources from Agent 2325.\n",
      "Agent 2316 stole 10.0 resources from Agent 2381.\n",
      "Agent 2325 stole 8.0 resources from Agent 2316.\n",
      "Agent 2325 stole 8.0 resources from Agent 2381.\n",
      "Agent 2297 stole 1.0 resources from Agent 2315.\n",
      "Agent 2381 stole 7.0 resources from Agent 2316.\n",
      "Agent 2381 stole 9.0 resources from Agent 2325.\n",
      "Agent 2381 stole 1.0 resources from Agent 2318.\n",
      "141\n"
     ]
    },
    {
     "name": "stderr",
     "output_type": "stream",
     "text": [
      "C:\\Users\\DELL\\AppData\\Local\\Temp\\ipykernel_13528\\3195471959.py:147: DeprecationWarning: Because of the shift to using AgentSet, in the future this attribute will return a dict withtype as key as AgentSet as value. Future behavior is available via RandomActivationByType._agents_by_type\n",
      "  for sugar_agent in self.schedule.agents_by_type[Sugar].values():\n",
      "C:\\Users\\DELL\\AppData\\Local\\Temp\\ipykernel_13528\\3195471959.py:139: DeprecationWarning: Because of the shift to using AgentSet, in the future this attribute will return a dict withtype as key as AgentSet as value. Future behavior is available via RandomActivationByType._agents_by_type\n",
      "  corrupt_agents_shuffle = list(self.schedule.agents_by_type[Corrupt_agent].values())\n",
      "C:\\Users\\DELL\\AppData\\Local\\Temp\\ipykernel_13528\\3195471959.py:92: DeprecationWarning: Because of the shift to using AgentSet, in the future this attribute will return a dict withtype as key as AgentSet as value. Future behavior is available via RandomActivationByType._agents_by_type\n",
      "  agents = [agent for agent in self.schedule.agents_by_type[Corrupt_agent].values()]\n"
     ]
    },
    {
     "name": "stdout",
     "output_type": "stream",
     "text": [
      "Agent 2383 has eaten 6 sugar from sugar 1315\n",
      "Agent 2374 has eaten 6 sugar from sugar 1253\n",
      "Agent 2352 has eaten 6 sugar from sugar 2049\n",
      "Agent 2324 has eaten 5.0 sugar from sugar 1174\n",
      "Agent 2369 has eaten 6 sugar from sugar 2167\n",
      "Agent 2345 has eaten 6 sugar from sugar 94\n",
      "Agent 2319 has eaten 6 sugar from sugar 700\n",
      "Agent 2350 has eaten 5.0 sugar from sugar 670\n",
      "Agent 2370 has eaten 6 sugar from sugar 84\n",
      "Agent 2359 has eaten 6 sugar from sugar 1261\n",
      "Agent 2318 has eaten 3.0 sugar from sugar 167\n",
      "Agent 2339 has eaten 5.0 sugar from sugar 442\n",
      "Agent 2356 has eaten 4.0 sugar from sugar 60\n",
      "Agent 2380 has eaten 6 sugar from sugar 251\n",
      "Agent 2341 has eaten 6 sugar from sugar 2238\n",
      "Agent 2322 has eaten 6 sugar from sugar 584\n",
      "Agent 2373 has eaten 6.0 sugar from sugar 1843\n",
      "Agent 2325 has eaten 4.0 sugar from sugar 161\n",
      "Agent 2334 has eaten 6 sugar from sugar 1688\n",
      "Agent 2381 has eaten 6 sugar from sugar 116\n",
      "Agent 2315 has eaten 1.0 sugar from sugar 365\n",
      "Agent 2354 has eaten 6 sugar from sugar 2095\n",
      "Agent 2307 has eaten 6 sugar from sugar 1089\n",
      "Agent 2297 has eaten 6 sugar from sugar 277\n",
      "Agent 2367 has eaten 6 sugar from sugar 1080\n",
      "Agent 2308 has eaten 6 sugar from sugar 916\n",
      "Agent 2336 has eaten 6 sugar from sugar 1910\n",
      "Agent 2299 has eaten 6 sugar from sugar 514\n",
      "Agent 2316 has eaten 6 sugar from sugar 302\n",
      "142\n"
     ]
    },
    {
     "name": "stderr",
     "output_type": "stream",
     "text": [
      "C:\\Users\\DELL\\AppData\\Local\\Temp\\ipykernel_13528\\3195471959.py:147: DeprecationWarning: Because of the shift to using AgentSet, in the future this attribute will return a dict withtype as key as AgentSet as value. Future behavior is available via RandomActivationByType._agents_by_type\n",
      "  for sugar_agent in self.schedule.agents_by_type[Sugar].values():\n",
      "C:\\Users\\DELL\\AppData\\Local\\Temp\\ipykernel_13528\\3195471959.py:139: DeprecationWarning: Because of the shift to using AgentSet, in the future this attribute will return a dict withtype as key as AgentSet as value. Future behavior is available via RandomActivationByType._agents_by_type\n",
      "  corrupt_agents_shuffle = list(self.schedule.agents_by_type[Corrupt_agent].values())\n",
      "C:\\Users\\DELL\\AppData\\Local\\Temp\\ipykernel_13528\\3195471959.py:92: DeprecationWarning: Because of the shift to using AgentSet, in the future this attribute will return a dict withtype as key as AgentSet as value. Future behavior is available via RandomActivationByType._agents_by_type\n",
      "  agents = [agent for agent in self.schedule.agents_by_type[Corrupt_agent].values()]\n"
     ]
    },
    {
     "name": "stdout",
     "output_type": "stream",
     "text": [
      "Agent 2381 with 70.0 has shared 10.0 with 2325 with 81.0\n",
      "143\n"
     ]
    },
    {
     "name": "stderr",
     "output_type": "stream",
     "text": [
      "C:\\Users\\DELL\\AppData\\Local\\Temp\\ipykernel_13528\\3195471959.py:147: DeprecationWarning: Because of the shift to using AgentSet, in the future this attribute will return a dict withtype as key as AgentSet as value. Future behavior is available via RandomActivationByType._agents_by_type\n",
      "  for sugar_agent in self.schedule.agents_by_type[Sugar].values():\n",
      "C:\\Users\\DELL\\AppData\\Local\\Temp\\ipykernel_13528\\3195471959.py:139: DeprecationWarning: Because of the shift to using AgentSet, in the future this attribute will return a dict withtype as key as AgentSet as value. Future behavior is available via RandomActivationByType._agents_by_type\n",
      "  corrupt_agents_shuffle = list(self.schedule.agents_by_type[Corrupt_agent].values())\n",
      "C:\\Users\\DELL\\AppData\\Local\\Temp\\ipykernel_13528\\3195471959.py:92: DeprecationWarning: Because of the shift to using AgentSet, in the future this attribute will return a dict withtype as key as AgentSet as value. Future behavior is available via RandomActivationByType._agents_by_type\n",
      "  agents = [agent for agent in self.schedule.agents_by_type[Corrupt_agent].values()]\n"
     ]
    },
    {
     "name": "stdout",
     "output_type": "stream",
     "text": [
      "Agent 2325 stole 6.0 resources from Agent 2380.\n",
      "Agent 2325 stole 8.0 resources from Agent 2381.\n",
      "Agent 2325 stole 6.0 resources from Agent 2316.\n",
      "Agent 2354 stole 6.0 resources from Agent 2352.\n",
      "Agent 2319 stole 3.0 resources from Agent 2299.\n",
      "Agent 2315 stole 8.0 resources from Agent 2297.\n",
      "Agent 2381 stole 10 resources from Agent 2325.\n",
      "Agent 2297 stole 2.0 resources from Agent 2315.\n",
      "Agent 2316 stole 10 resources from Agent 2325.\n",
      "Agent 2316 stole 8.0 resources from Agent 2381.\n",
      "144\n"
     ]
    },
    {
     "name": "stderr",
     "output_type": "stream",
     "text": [
      "C:\\Users\\DELL\\AppData\\Local\\Temp\\ipykernel_13528\\3195471959.py:147: DeprecationWarning: Because of the shift to using AgentSet, in the future this attribute will return a dict withtype as key as AgentSet as value. Future behavior is available via RandomActivationByType._agents_by_type\n",
      "  for sugar_agent in self.schedule.agents_by_type[Sugar].values():\n",
      "C:\\Users\\DELL\\AppData\\Local\\Temp\\ipykernel_13528\\3195471959.py:139: DeprecationWarning: Because of the shift to using AgentSet, in the future this attribute will return a dict withtype as key as AgentSet as value. Future behavior is available via RandomActivationByType._agents_by_type\n",
      "  corrupt_agents_shuffle = list(self.schedule.agents_by_type[Corrupt_agent].values())\n",
      "C:\\Users\\DELL\\AppData\\Local\\Temp\\ipykernel_13528\\3195471959.py:92: DeprecationWarning: Because of the shift to using AgentSet, in the future this attribute will return a dict withtype as key as AgentSet as value. Future behavior is available via RandomActivationByType._agents_by_type\n",
      "  agents = [agent for agent in self.schedule.agents_by_type[Corrupt_agent].values()]\n"
     ]
    },
    {
     "name": "stdout",
     "output_type": "stream",
     "text": [
      "Agent 2383 has eaten 6 sugar from sugar 1315\n",
      "Agent 2370 has eaten 6 sugar from sugar 84\n",
      "Agent 2380 has eaten 6 sugar from sugar 251\n",
      "Agent 2341 has eaten 6 sugar from sugar 2238\n",
      "Agent 2318 has eaten 3.0 sugar from sugar 167\n",
      "Agent 2315 has eaten 1.0 sugar from sugar 365\n",
      "Agent 2299 has eaten 6 sugar from sugar 514\n",
      "Agent 2322 has eaten 6 sugar from sugar 584\n",
      "Agent 2319 has eaten 6 sugar from sugar 700\n",
      "Agent 2334 has eaten 6 sugar from sugar 1688\n",
      "Agent 2316 has eaten 6 sugar from sugar 302\n",
      "Agent 2336 has eaten 6 sugar from sugar 1910\n",
      "Agent 2350 has eaten 5.0 sugar from sugar 670\n",
      "Agent 2325 has eaten 4.0 sugar from sugar 161\n",
      "Agent 2374 has eaten 6 sugar from sugar 1253\n",
      "Agent 2324 has eaten 5.0 sugar from sugar 1174\n",
      "Agent 2359 has eaten 6 sugar from sugar 1261\n",
      "Agent 2339 has eaten 5.0 sugar from sugar 442\n",
      "Agent 2356 has eaten 4.0 sugar from sugar 60\n",
      "Agent 2345 has eaten 6 sugar from sugar 94\n",
      "Agent 2373 has eaten 6.0 sugar from sugar 1843\n",
      "Agent 2381 has eaten 6 sugar from sugar 116\n",
      "Agent 2367 has eaten 6 sugar from sugar 1080\n",
      "Agent 2369 has eaten 6 sugar from sugar 2167\n",
      "Agent 2308 has eaten 6 sugar from sugar 916\n",
      "Agent 2307 has eaten 6 sugar from sugar 1089\n",
      "Agent 2354 has eaten 6 sugar from sugar 2095\n",
      "Agent 2352 has eaten 6 sugar from sugar 2049\n",
      "Agent 2297 has eaten 6 sugar from sugar 277\n",
      "145\n"
     ]
    },
    {
     "name": "stderr",
     "output_type": "stream",
     "text": [
      "C:\\Users\\DELL\\AppData\\Local\\Temp\\ipykernel_13528\\3195471959.py:147: DeprecationWarning: Because of the shift to using AgentSet, in the future this attribute will return a dict withtype as key as AgentSet as value. Future behavior is available via RandomActivationByType._agents_by_type\n",
      "  for sugar_agent in self.schedule.agents_by_type[Sugar].values():\n",
      "C:\\Users\\DELL\\AppData\\Local\\Temp\\ipykernel_13528\\3195471959.py:139: DeprecationWarning: Because of the shift to using AgentSet, in the future this attribute will return a dict withtype as key as AgentSet as value. Future behavior is available via RandomActivationByType._agents_by_type\n",
      "  corrupt_agents_shuffle = list(self.schedule.agents_by_type[Corrupt_agent].values())\n",
      "C:\\Users\\DELL\\AppData\\Local\\Temp\\ipykernel_13528\\3195471959.py:92: DeprecationWarning: Because of the shift to using AgentSet, in the future this attribute will return a dict withtype as key as AgentSet as value. Future behavior is available via RandomActivationByType._agents_by_type\n",
      "  agents = [agent for agent in self.schedule.agents_by_type[Corrupt_agent].values()]\n"
     ]
    },
    {
     "name": "stdout",
     "output_type": "stream",
     "text": [
      "146\n"
     ]
    },
    {
     "name": "stderr",
     "output_type": "stream",
     "text": [
      "C:\\Users\\DELL\\AppData\\Local\\Temp\\ipykernel_13528\\3195471959.py:147: DeprecationWarning: Because of the shift to using AgentSet, in the future this attribute will return a dict withtype as key as AgentSet as value. Future behavior is available via RandomActivationByType._agents_by_type\n",
      "  for sugar_agent in self.schedule.agents_by_type[Sugar].values():\n",
      "C:\\Users\\DELL\\AppData\\Local\\Temp\\ipykernel_13528\\3195471959.py:139: DeprecationWarning: Because of the shift to using AgentSet, in the future this attribute will return a dict withtype as key as AgentSet as value. Future behavior is available via RandomActivationByType._agents_by_type\n",
      "  corrupt_agents_shuffle = list(self.schedule.agents_by_type[Corrupt_agent].values())\n",
      "C:\\Users\\DELL\\AppData\\Local\\Temp\\ipykernel_13528\\3195471959.py:92: DeprecationWarning: Because of the shift to using AgentSet, in the future this attribute will return a dict withtype as key as AgentSet as value. Future behavior is available via RandomActivationByType._agents_by_type\n",
      "  agents = [agent for agent in self.schedule.agents_by_type[Corrupt_agent].values()]\n"
     ]
    },
    {
     "name": "stdout",
     "output_type": "stream",
     "text": [
      "Agent 2352 stole 10 resources from Agent 2354.\n",
      "Agent 2381 stole 10.0 resources from Agent 2325.\n",
      "Agent 2316 stole 8.0 resources from Agent 2325.\n",
      "Agent 2316 stole 8.0 resources from Agent 2381.\n",
      "Agent 2297 stole 1.0 resources from Agent 2315.\n",
      "Agent 2325 stole 7.0 resources from Agent 2381.\n",
      "147\n"
     ]
    },
    {
     "name": "stderr",
     "output_type": "stream",
     "text": [
      "C:\\Users\\DELL\\AppData\\Local\\Temp\\ipykernel_13528\\3195471959.py:147: DeprecationWarning: Because of the shift to using AgentSet, in the future this attribute will return a dict withtype as key as AgentSet as value. Future behavior is available via RandomActivationByType._agents_by_type\n",
      "  for sugar_agent in self.schedule.agents_by_type[Sugar].values():\n",
      "C:\\Users\\DELL\\AppData\\Local\\Temp\\ipykernel_13528\\3195471959.py:139: DeprecationWarning: Because of the shift to using AgentSet, in the future this attribute will return a dict withtype as key as AgentSet as value. Future behavior is available via RandomActivationByType._agents_by_type\n",
      "  corrupt_agents_shuffle = list(self.schedule.agents_by_type[Corrupt_agent].values())\n",
      "C:\\Users\\DELL\\AppData\\Local\\Temp\\ipykernel_13528\\3195471959.py:92: DeprecationWarning: Because of the shift to using AgentSet, in the future this attribute will return a dict withtype as key as AgentSet as value. Future behavior is available via RandomActivationByType._agents_by_type\n",
      "  agents = [agent for agent in self.schedule.agents_by_type[Corrupt_agent].values()]\n"
     ]
    },
    {
     "name": "stdout",
     "output_type": "stream",
     "text": [
      "Agent 2307 has eaten 6 sugar from sugar 1089\n",
      "Agent 2367 has eaten 6 sugar from sugar 1080\n",
      "Agent 2319 has eaten 6 sugar from sugar 700\n",
      "Agent 2336 has eaten 6 sugar from sugar 1910\n",
      "Agent 2380 has eaten 6 sugar from sugar 251\n",
      "Agent 2374 has eaten 6 sugar from sugar 1253\n",
      "Agent 2373 has eaten 6.0 sugar from sugar 1843\n",
      "Agent 2297 has eaten 6 sugar from sugar 277\n",
      "Agent 2299 has eaten 6 sugar from sugar 514\n",
      "Agent 2316 has eaten 6 sugar from sugar 302\n",
      "Agent 2370 has eaten 6 sugar from sugar 84\n",
      "Agent 2325 has eaten 4.0 sugar from sugar 161\n",
      "Agent 2381 has eaten 6 sugar from sugar 116\n",
      "Agent 2369 has eaten 6 sugar from sugar 2167\n",
      "Agent 2356 has eaten 4.0 sugar from sugar 60\n",
      "Agent 2339 has eaten 5.0 sugar from sugar 442\n",
      "Agent 2350 has eaten 5.0 sugar from sugar 670\n",
      "Agent 2383 has eaten 6 sugar from sugar 1315\n",
      "Agent 2359 has eaten 6 sugar from sugar 1261\n",
      "Agent 2341 has eaten 6 sugar from sugar 2238\n",
      "Agent 2334 has eaten 6 sugar from sugar 1688\n",
      "Agent 2352 has eaten 6 sugar from sugar 2049\n",
      "Agent 2322 has eaten 6 sugar from sugar 584\n",
      "Agent 2354 has eaten 6 sugar from sugar 2095\n",
      "Agent 2345 has eaten 6 sugar from sugar 94\n",
      "Agent 2318 has eaten 3.0 sugar from sugar 167\n",
      "Agent 2324 has eaten 5.0 sugar from sugar 1174\n",
      "Agent 2308 has eaten 6 sugar from sugar 916\n",
      "Agent 2315 has eaten 1.0 sugar from sugar 365\n",
      "148\n"
     ]
    },
    {
     "name": "stderr",
     "output_type": "stream",
     "text": [
      "C:\\Users\\DELL\\AppData\\Local\\Temp\\ipykernel_13528\\3195471959.py:147: DeprecationWarning: Because of the shift to using AgentSet, in the future this attribute will return a dict withtype as key as AgentSet as value. Future behavior is available via RandomActivationByType._agents_by_type\n",
      "  for sugar_agent in self.schedule.agents_by_type[Sugar].values():\n",
      "C:\\Users\\DELL\\AppData\\Local\\Temp\\ipykernel_13528\\3195471959.py:139: DeprecationWarning: Because of the shift to using AgentSet, in the future this attribute will return a dict withtype as key as AgentSet as value. Future behavior is available via RandomActivationByType._agents_by_type\n",
      "  corrupt_agents_shuffle = list(self.schedule.agents_by_type[Corrupt_agent].values())\n",
      "C:\\Users\\DELL\\AppData\\Local\\Temp\\ipykernel_13528\\3195471959.py:92: DeprecationWarning: Because of the shift to using AgentSet, in the future this attribute will return a dict withtype as key as AgentSet as value. Future behavior is available via RandomActivationByType._agents_by_type\n",
      "  agents = [agent for agent in self.schedule.agents_by_type[Corrupt_agent].values()]\n"
     ]
    },
    {
     "name": "stdout",
     "output_type": "stream",
     "text": [
      "149\n"
     ]
    },
    {
     "name": "stderr",
     "output_type": "stream",
     "text": [
      "C:\\Users\\DELL\\AppData\\Local\\Temp\\ipykernel_13528\\3195471959.py:147: DeprecationWarning: Because of the shift to using AgentSet, in the future this attribute will return a dict withtype as key as AgentSet as value. Future behavior is available via RandomActivationByType._agents_by_type\n",
      "  for sugar_agent in self.schedule.agents_by_type[Sugar].values():\n",
      "C:\\Users\\DELL\\AppData\\Local\\Temp\\ipykernel_13528\\3195471959.py:139: DeprecationWarning: Because of the shift to using AgentSet, in the future this attribute will return a dict withtype as key as AgentSet as value. Future behavior is available via RandomActivationByType._agents_by_type\n",
      "  corrupt_agents_shuffle = list(self.schedule.agents_by_type[Corrupt_agent].values())\n",
      "C:\\Users\\DELL\\AppData\\Local\\Temp\\ipykernel_13528\\3195471959.py:92: DeprecationWarning: Because of the shift to using AgentSet, in the future this attribute will return a dict withtype as key as AgentSet as value. Future behavior is available via RandomActivationByType._agents_by_type\n",
      "  agents = [agent for agent in self.schedule.agents_by_type[Corrupt_agent].values()]\n"
     ]
    },
    {
     "name": "stdout",
     "output_type": "stream",
     "text": [
      "Agent 2381 stole 8.0 resources from Agent 2325.\n",
      "Agent 2354 stole 7.0 resources from Agent 2352.\n",
      "Agent 2297 stole 1.0 resources from Agent 2315.\n",
      "Agent 2316 stole 7.0 resources from Agent 2325.\n",
      "Agent 2319 stole 2.0 resources from Agent 2299.\n",
      "150\n"
     ]
    },
    {
     "name": "stderr",
     "output_type": "stream",
     "text": [
      "C:\\Users\\DELL\\AppData\\Local\\Temp\\ipykernel_13528\\3195471959.py:147: DeprecationWarning: Because of the shift to using AgentSet, in the future this attribute will return a dict withtype as key as AgentSet as value. Future behavior is available via RandomActivationByType._agents_by_type\n",
      "  for sugar_agent in self.schedule.agents_by_type[Sugar].values():\n",
      "C:\\Users\\DELL\\AppData\\Local\\Temp\\ipykernel_13528\\3195471959.py:139: DeprecationWarning: Because of the shift to using AgentSet, in the future this attribute will return a dict withtype as key as AgentSet as value. Future behavior is available via RandomActivationByType._agents_by_type\n",
      "  corrupt_agents_shuffle = list(self.schedule.agents_by_type[Corrupt_agent].values())\n",
      "C:\\Users\\DELL\\AppData\\Local\\Temp\\ipykernel_13528\\3195471959.py:92: DeprecationWarning: Because of the shift to using AgentSet, in the future this attribute will return a dict withtype as key as AgentSet as value. Future behavior is available via RandomActivationByType._agents_by_type\n",
      "  agents = [agent for agent in self.schedule.agents_by_type[Corrupt_agent].values()]\n"
     ]
    },
    {
     "name": "stdout",
     "output_type": "stream",
     "text": [
      "Agent 2369 has eaten 6 sugar from sugar 2167\n",
      "Agent 2322 has eaten 6 sugar from sugar 584\n",
      "Agent 2359 has eaten 6 sugar from sugar 1261\n",
      "Agent 2370 has eaten 6 sugar from sugar 84\n",
      "Agent 2367 has eaten 6 sugar from sugar 1080\n",
      "Agent 2339 has eaten 5.0 sugar from sugar 442\n",
      "Agent 2345 has eaten 6 sugar from sugar 94\n",
      "Agent 2352 has eaten 6 sugar from sugar 2049\n",
      "Agent 2319 has eaten 6 sugar from sugar 700\n",
      "Agent 2299 has eaten 6 sugar from sugar 514\n",
      "Agent 2316 has eaten 6 sugar from sugar 302\n",
      "Agent 2354 has eaten 6 sugar from sugar 2095\n",
      "Agent 2350 has eaten 5.0 sugar from sugar 670\n",
      "Agent 2315 has eaten 1.0 sugar from sugar 365\n",
      "Agent 2373 has eaten 6.0 sugar from sugar 1843\n",
      "Agent 2336 has eaten 6 sugar from sugar 1910\n",
      "Agent 2341 has eaten 6 sugar from sugar 2238\n",
      "Agent 2318 has eaten 3.0 sugar from sugar 167\n",
      "Agent 2307 has eaten 6 sugar from sugar 1089\n",
      "Agent 2383 has eaten 6 sugar from sugar 1315\n",
      "Agent 2308 has eaten 6 sugar from sugar 916\n",
      "Agent 2380 has eaten 6 sugar from sugar 251\n",
      "Agent 2325 has eaten 4.0 sugar from sugar 161\n",
      "Agent 2374 has eaten 6 sugar from sugar 1253\n",
      "Agent 2324 has eaten 5.0 sugar from sugar 1174\n",
      "Agent 2381 has eaten 6 sugar from sugar 116\n",
      "Agent 2334 has eaten 6 sugar from sugar 1688\n",
      "Agent 2297 has eaten 6 sugar from sugar 277\n",
      "Agent 2356 has eaten 4.0 sugar from sugar 60\n",
      "151\n"
     ]
    },
    {
     "name": "stderr",
     "output_type": "stream",
     "text": [
      "C:\\Users\\DELL\\AppData\\Local\\Temp\\ipykernel_13528\\3195471959.py:147: DeprecationWarning: Because of the shift to using AgentSet, in the future this attribute will return a dict withtype as key as AgentSet as value. Future behavior is available via RandomActivationByType._agents_by_type\n",
      "  for sugar_agent in self.schedule.agents_by_type[Sugar].values():\n",
      "C:\\Users\\DELL\\AppData\\Local\\Temp\\ipykernel_13528\\3195471959.py:139: DeprecationWarning: Because of the shift to using AgentSet, in the future this attribute will return a dict withtype as key as AgentSet as value. Future behavior is available via RandomActivationByType._agents_by_type\n",
      "  corrupt_agents_shuffle = list(self.schedule.agents_by_type[Corrupt_agent].values())\n",
      "C:\\Users\\DELL\\AppData\\Local\\Temp\\ipykernel_13528\\3195471959.py:92: DeprecationWarning: Because of the shift to using AgentSet, in the future this attribute will return a dict withtype as key as AgentSet as value. Future behavior is available via RandomActivationByType._agents_by_type\n",
      "  agents = [agent for agent in self.schedule.agents_by_type[Corrupt_agent].values()]\n"
     ]
    },
    {
     "name": "stdout",
     "output_type": "stream",
     "text": [
      "Agent 2381 with 51.0 has shared 7.0 with 2325 with 65.0\n",
      "152\n"
     ]
    },
    {
     "name": "stderr",
     "output_type": "stream",
     "text": [
      "C:\\Users\\DELL\\AppData\\Local\\Temp\\ipykernel_13528\\3195471959.py:147: DeprecationWarning: Because of the shift to using AgentSet, in the future this attribute will return a dict withtype as key as AgentSet as value. Future behavior is available via RandomActivationByType._agents_by_type\n",
      "  for sugar_agent in self.schedule.agents_by_type[Sugar].values():\n",
      "C:\\Users\\DELL\\AppData\\Local\\Temp\\ipykernel_13528\\3195471959.py:139: DeprecationWarning: Because of the shift to using AgentSet, in the future this attribute will return a dict withtype as key as AgentSet as value. Future behavior is available via RandomActivationByType._agents_by_type\n",
      "  corrupt_agents_shuffle = list(self.schedule.agents_by_type[Corrupt_agent].values())\n",
      "C:\\Users\\DELL\\AppData\\Local\\Temp\\ipykernel_13528\\3195471959.py:92: DeprecationWarning: Because of the shift to using AgentSet, in the future this attribute will return a dict withtype as key as AgentSet as value. Future behavior is available via RandomActivationByType._agents_by_type\n",
      "  agents = [agent for agent in self.schedule.agents_by_type[Corrupt_agent].values()]\n"
     ]
    },
    {
     "name": "stdout",
     "output_type": "stream",
     "text": [
      "Agent 2325 stole 7.0 resources from Agent 2380.\n",
      "Agent 2325 stole 6.0 resources from Agent 2381.\n",
      "Agent 2381 stole 9.0 resources from Agent 2325.\n",
      "Agent 2381 stole 6.0 resources from Agent 2380.\n",
      "Agent 2297 stole 1.0 resources from Agent 2315.\n",
      "Agent 2315 stole 9.0 resources from Agent 2297.\n",
      "Agent 2316 stole 5.0 resources from Agent 2380.\n",
      "Agent 2316 stole 7.0 resources from Agent 2381.\n",
      "153\n"
     ]
    },
    {
     "name": "stderr",
     "output_type": "stream",
     "text": [
      "C:\\Users\\DELL\\AppData\\Local\\Temp\\ipykernel_13528\\3195471959.py:147: DeprecationWarning: Because of the shift to using AgentSet, in the future this attribute will return a dict withtype as key as AgentSet as value. Future behavior is available via RandomActivationByType._agents_by_type\n",
      "  for sugar_agent in self.schedule.agents_by_type[Sugar].values():\n",
      "C:\\Users\\DELL\\AppData\\Local\\Temp\\ipykernel_13528\\3195471959.py:139: DeprecationWarning: Because of the shift to using AgentSet, in the future this attribute will return a dict withtype as key as AgentSet as value. Future behavior is available via RandomActivationByType._agents_by_type\n",
      "  corrupt_agents_shuffle = list(self.schedule.agents_by_type[Corrupt_agent].values())\n",
      "C:\\Users\\DELL\\AppData\\Local\\Temp\\ipykernel_13528\\3195471959.py:92: DeprecationWarning: Because of the shift to using AgentSet, in the future this attribute will return a dict withtype as key as AgentSet as value. Future behavior is available via RandomActivationByType._agents_by_type\n",
      "  agents = [agent for agent in self.schedule.agents_by_type[Corrupt_agent].values()]\n"
     ]
    },
    {
     "name": "stdout",
     "output_type": "stream",
     "text": [
      "Agent 2352 has eaten 6 sugar from sugar 2049\n",
      "Agent 2318 has eaten 3.0 sugar from sugar 167\n",
      "Agent 2319 has eaten 6 sugar from sugar 700\n",
      "Agent 2350 has eaten 5.0 sugar from sugar 670\n",
      "Agent 2325 has eaten 4.0 sugar from sugar 161\n",
      "Agent 2380 has eaten 6 sugar from sugar 251\n",
      "Agent 2374 has eaten 6 sugar from sugar 1253\n",
      "Agent 2299 has eaten 6 sugar from sugar 514\n",
      "Agent 2316 has eaten 6 sugar from sugar 302\n",
      "Agent 2367 has eaten 6 sugar from sugar 1080\n",
      "Agent 2359 has eaten 6 sugar from sugar 1261\n",
      "Agent 2334 has eaten 6 sugar from sugar 1688\n",
      "Agent 2339 has eaten 5.0 sugar from sugar 442\n",
      "Agent 2370 has eaten 6 sugar from sugar 84\n",
      "Agent 2369 has eaten 6 sugar from sugar 2167\n",
      "Agent 2373 has eaten 6.0 sugar from sugar 1843\n",
      "Agent 2356 has eaten 4.0 sugar from sugar 60\n",
      "Agent 2324 has eaten 5.0 sugar from sugar 1174\n",
      "Agent 2297 has eaten 6 sugar from sugar 277\n",
      "Agent 2345 has eaten 6 sugar from sugar 94\n",
      "Agent 2354 has eaten 6 sugar from sugar 2095\n",
      "Agent 2315 has eaten 1.0 sugar from sugar 365\n",
      "Agent 2308 has eaten 6 sugar from sugar 916\n",
      "Agent 2336 has eaten 6 sugar from sugar 1910\n",
      "Agent 2381 has eaten 6 sugar from sugar 116\n",
      "Agent 2307 has eaten 6 sugar from sugar 1089\n",
      "Agent 2383 has eaten 6 sugar from sugar 1315\n",
      "Agent 2322 has eaten 6 sugar from sugar 584\n",
      "Agent 2341 has eaten 6 sugar from sugar 2238\n",
      "154\n"
     ]
    },
    {
     "name": "stderr",
     "output_type": "stream",
     "text": [
      "C:\\Users\\DELL\\AppData\\Local\\Temp\\ipykernel_13528\\3195471959.py:147: DeprecationWarning: Because of the shift to using AgentSet, in the future this attribute will return a dict withtype as key as AgentSet as value. Future behavior is available via RandomActivationByType._agents_by_type\n",
      "  for sugar_agent in self.schedule.agents_by_type[Sugar].values():\n",
      "C:\\Users\\DELL\\AppData\\Local\\Temp\\ipykernel_13528\\3195471959.py:139: DeprecationWarning: Because of the shift to using AgentSet, in the future this attribute will return a dict withtype as key as AgentSet as value. Future behavior is available via RandomActivationByType._agents_by_type\n",
      "  corrupt_agents_shuffle = list(self.schedule.agents_by_type[Corrupt_agent].values())\n",
      "C:\\Users\\DELL\\AppData\\Local\\Temp\\ipykernel_13528\\3195471959.py:92: DeprecationWarning: Because of the shift to using AgentSet, in the future this attribute will return a dict withtype as key as AgentSet as value. Future behavior is available via RandomActivationByType._agents_by_type\n",
      "  agents = [agent for agent in self.schedule.agents_by_type[Corrupt_agent].values()]\n"
     ]
    },
    {
     "name": "stdout",
     "output_type": "stream",
     "text": [
      "Agent 2316 with 99.0 has shared 14.0 with 2339 with 121.0\n",
      "Agent 2339 with 106.0 has shared 15.0 with 2350 with 142.0\n",
      "155\n"
     ]
    },
    {
     "name": "stderr",
     "output_type": "stream",
     "text": [
      "C:\\Users\\DELL\\AppData\\Local\\Temp\\ipykernel_13528\\3195471959.py:147: DeprecationWarning: Because of the shift to using AgentSet, in the future this attribute will return a dict withtype as key as AgentSet as value. Future behavior is available via RandomActivationByType._agents_by_type\n",
      "  for sugar_agent in self.schedule.agents_by_type[Sugar].values():\n",
      "C:\\Users\\DELL\\AppData\\Local\\Temp\\ipykernel_13528\\3195471959.py:139: DeprecationWarning: Because of the shift to using AgentSet, in the future this attribute will return a dict withtype as key as AgentSet as value. Future behavior is available via RandomActivationByType._agents_by_type\n",
      "  corrupt_agents_shuffle = list(self.schedule.agents_by_type[Corrupt_agent].values())\n",
      "C:\\Users\\DELL\\AppData\\Local\\Temp\\ipykernel_13528\\3195471959.py:92: DeprecationWarning: Because of the shift to using AgentSet, in the future this attribute will return a dict withtype as key as AgentSet as value. Future behavior is available via RandomActivationByType._agents_by_type\n",
      "  agents = [agent for agent in self.schedule.agents_by_type[Corrupt_agent].values()]\n"
     ]
    },
    {
     "name": "stdout",
     "output_type": "stream",
     "text": [
      "Agent 2316 stole 5.0 resources from Agent 2380.\n",
      "Agent 2316 stole 8.0 resources from Agent 2325.\n",
      "Agent 2381 stole 4.0 resources from Agent 2380.\n",
      "Agent 2354 stole 7.0 resources from Agent 2352.\n",
      "Agent 2380 stole 7.0 resources from Agent 2325.\n",
      "Agent 2315 stole 8.0 resources from Agent 2297.\n",
      "Agent 2325 stole 6.0 resources from Agent 2381.\n",
      "Agent 2325 stole 5.0 resources from Agent 2380.\n",
      "156\n"
     ]
    },
    {
     "name": "stderr",
     "output_type": "stream",
     "text": [
      "C:\\Users\\DELL\\AppData\\Local\\Temp\\ipykernel_13528\\3195471959.py:147: DeprecationWarning: Because of the shift to using AgentSet, in the future this attribute will return a dict withtype as key as AgentSet as value. Future behavior is available via RandomActivationByType._agents_by_type\n",
      "  for sugar_agent in self.schedule.agents_by_type[Sugar].values():\n",
      "C:\\Users\\DELL\\AppData\\Local\\Temp\\ipykernel_13528\\3195471959.py:139: DeprecationWarning: Because of the shift to using AgentSet, in the future this attribute will return a dict withtype as key as AgentSet as value. Future behavior is available via RandomActivationByType._agents_by_type\n",
      "  corrupt_agents_shuffle = list(self.schedule.agents_by_type[Corrupt_agent].values())\n",
      "C:\\Users\\DELL\\AppData\\Local\\Temp\\ipykernel_13528\\3195471959.py:92: DeprecationWarning: Because of the shift to using AgentSet, in the future this attribute will return a dict withtype as key as AgentSet as value. Future behavior is available via RandomActivationByType._agents_by_type\n",
      "  agents = [agent for agent in self.schedule.agents_by_type[Corrupt_agent].values()]\n"
     ]
    },
    {
     "name": "stdout",
     "output_type": "stream",
     "text": [
      "Agent 2297 has eaten 6 sugar from sugar 277\n",
      "Agent 2367 has eaten 6 sugar from sugar 1080\n",
      "Agent 2318 has eaten 3.0 sugar from sugar 167\n",
      "Agent 2319 has eaten 6 sugar from sugar 700\n",
      "Agent 2350 has eaten 5.0 sugar from sugar 670\n",
      "Agent 2356 has eaten 4.0 sugar from sugar 60\n",
      "Agent 2341 has eaten 6 sugar from sugar 2238\n",
      "Agent 2336 has eaten 6 sugar from sugar 1910\n",
      "Agent 2374 has eaten 6 sugar from sugar 1253\n",
      "Agent 2324 has eaten 5.0 sugar from sugar 1174\n",
      "Agent 2345 has eaten 6 sugar from sugar 94\n",
      "Agent 2381 has eaten 6 sugar from sugar 116\n",
      "Agent 2339 has eaten 5.0 sugar from sugar 442\n",
      "Agent 2322 has eaten 6 sugar from sugar 584\n",
      "Agent 2315 has eaten 1.0 sugar from sugar 365\n",
      "Agent 2373 has eaten 6.0 sugar from sugar 1843\n",
      "Agent 2359 has eaten 6 sugar from sugar 1261\n",
      "Agent 2308 has eaten 6 sugar from sugar 916\n",
      "Agent 2334 has eaten 6 sugar from sugar 1688\n",
      "Agent 2352 has eaten 6 sugar from sugar 2049\n",
      "Agent 2307 has eaten 6 sugar from sugar 1089\n",
      "Agent 2299 has eaten 6 sugar from sugar 514\n",
      "Agent 2370 has eaten 6 sugar from sugar 84\n",
      "Agent 2316 has eaten 6 sugar from sugar 302\n",
      "Agent 2325 has eaten 4.0 sugar from sugar 161\n",
      "Agent 2354 has eaten 6 sugar from sugar 2095\n",
      "Agent 2369 has eaten 6 sugar from sugar 2167\n",
      "Agent 2383 has eaten 6 sugar from sugar 1315\n",
      "Agent 2380 has eaten 6 sugar from sugar 251\n",
      "157\n"
     ]
    },
    {
     "name": "stderr",
     "output_type": "stream",
     "text": [
      "C:\\Users\\DELL\\AppData\\Local\\Temp\\ipykernel_13528\\3195471959.py:147: DeprecationWarning: Because of the shift to using AgentSet, in the future this attribute will return a dict withtype as key as AgentSet as value. Future behavior is available via RandomActivationByType._agents_by_type\n",
      "  for sugar_agent in self.schedule.agents_by_type[Sugar].values():\n",
      "C:\\Users\\DELL\\AppData\\Local\\Temp\\ipykernel_13528\\3195471959.py:139: DeprecationWarning: Because of the shift to using AgentSet, in the future this attribute will return a dict withtype as key as AgentSet as value. Future behavior is available via RandomActivationByType._agents_by_type\n",
      "  corrupt_agents_shuffle = list(self.schedule.agents_by_type[Corrupt_agent].values())\n",
      "C:\\Users\\DELL\\AppData\\Local\\Temp\\ipykernel_13528\\3195471959.py:92: DeprecationWarning: Because of the shift to using AgentSet, in the future this attribute will return a dict withtype as key as AgentSet as value. Future behavior is available via RandomActivationByType._agents_by_type\n",
      "  agents = [agent for agent in self.schedule.agents_by_type[Corrupt_agent].values()]\n"
     ]
    },
    {
     "name": "stdout",
     "output_type": "stream",
     "text": [
      "158\n"
     ]
    },
    {
     "name": "stderr",
     "output_type": "stream",
     "text": [
      "C:\\Users\\DELL\\AppData\\Local\\Temp\\ipykernel_13528\\3195471959.py:147: DeprecationWarning: Because of the shift to using AgentSet, in the future this attribute will return a dict withtype as key as AgentSet as value. Future behavior is available via RandomActivationByType._agents_by_type\n",
      "  for sugar_agent in self.schedule.agents_by_type[Sugar].values():\n",
      "C:\\Users\\DELL\\AppData\\Local\\Temp\\ipykernel_13528\\3195471959.py:139: DeprecationWarning: Because of the shift to using AgentSet, in the future this attribute will return a dict withtype as key as AgentSet as value. Future behavior is available via RandomActivationByType._agents_by_type\n",
      "  corrupt_agents_shuffle = list(self.schedule.agents_by_type[Corrupt_agent].values())\n",
      "C:\\Users\\DELL\\AppData\\Local\\Temp\\ipykernel_13528\\3195471959.py:92: DeprecationWarning: Because of the shift to using AgentSet, in the future this attribute will return a dict withtype as key as AgentSet as value. Future behavior is available via RandomActivationByType._agents_by_type\n",
      "  agents = [agent for agent in self.schedule.agents_by_type[Corrupt_agent].values()]\n"
     ]
    },
    {
     "name": "stdout",
     "output_type": "stream",
     "text": [
      "Agent 2297 stole 2.0 resources from Agent 2315.\n",
      "Agent 2325 stole 5.0 resources from Agent 2381.\n",
      "Agent 2325 stole 4.0 resources from Agent 2380.\n",
      "Agent 2354 stole 6.0 resources from Agent 2352.\n",
      "Agent 2316 stole 9.0 resources from Agent 2325.\n",
      "Agent 2316 stole 4.0 resources from Agent 2381.\n",
      "Agent 2316 stole 4.0 resources from Agent 2380.\n",
      "Agent 2352 stole 10 resources from Agent 2354.\n",
      "Agent 2381 stole 1.0 resources from Agent 2318.\n",
      "159\n"
     ]
    },
    {
     "name": "stderr",
     "output_type": "stream",
     "text": [
      "C:\\Users\\DELL\\AppData\\Local\\Temp\\ipykernel_13528\\3195471959.py:147: DeprecationWarning: Because of the shift to using AgentSet, in the future this attribute will return a dict withtype as key as AgentSet as value. Future behavior is available via RandomActivationByType._agents_by_type\n",
      "  for sugar_agent in self.schedule.agents_by_type[Sugar].values():\n",
      "C:\\Users\\DELL\\AppData\\Local\\Temp\\ipykernel_13528\\3195471959.py:139: DeprecationWarning: Because of the shift to using AgentSet, in the future this attribute will return a dict withtype as key as AgentSet as value. Future behavior is available via RandomActivationByType._agents_by_type\n",
      "  corrupt_agents_shuffle = list(self.schedule.agents_by_type[Corrupt_agent].values())\n",
      "C:\\Users\\DELL\\AppData\\Local\\Temp\\ipykernel_13528\\3195471959.py:92: DeprecationWarning: Because of the shift to using AgentSet, in the future this attribute will return a dict withtype as key as AgentSet as value. Future behavior is available via RandomActivationByType._agents_by_type\n",
      "  agents = [agent for agent in self.schedule.agents_by_type[Corrupt_agent].values()]\n"
     ]
    },
    {
     "name": "stdout",
     "output_type": "stream",
     "text": [
      "Agent 2308 has eaten 6 sugar from sugar 916\n",
      "Agent 2356 has eaten 4.0 sugar from sugar 60\n",
      "Agent 2354 has eaten 6 sugar from sugar 2095\n",
      "Agent 2322 has eaten 6 sugar from sugar 584\n",
      "Agent 2307 has eaten 6 sugar from sugar 1089\n",
      "Agent 2334 has eaten 6 sugar from sugar 1688\n",
      "Agent 2339 has eaten 5.0 sugar from sugar 442\n",
      "Agent 2325 has eaten 4.0 sugar from sugar 161\n",
      "Agent 2369 has eaten 6 sugar from sugar 2167\n",
      "Agent 2297 has eaten 6 sugar from sugar 277\n",
      "Agent 2352 has eaten 6 sugar from sugar 2049\n",
      "Agent 2336 has eaten 6 sugar from sugar 1910\n",
      "Agent 2345 has eaten 6 sugar from sugar 94\n",
      "Agent 2367 has eaten 6 sugar from sugar 1080\n",
      "Agent 2316 has eaten 6 sugar from sugar 302\n",
      "Agent 2359 has eaten 6 sugar from sugar 1261\n",
      "Agent 2373 has eaten 6.0 sugar from sugar 1843\n",
      "Agent 2350 has eaten 5.0 sugar from sugar 670\n",
      "Agent 2381 has eaten 6 sugar from sugar 116\n",
      "Agent 2374 has eaten 6 sugar from sugar 1253\n",
      "Agent 2383 has eaten 6 sugar from sugar 1315\n",
      "Agent 2341 has eaten 6 sugar from sugar 2238\n",
      "Agent 2370 has eaten 6 sugar from sugar 84\n",
      "Agent 2319 has eaten 6 sugar from sugar 700\n",
      "Agent 2299 has eaten 6 sugar from sugar 514\n",
      "Agent 2315 has eaten 1.0 sugar from sugar 365\n",
      "Agent 2318 has eaten 3.0 sugar from sugar 167\n",
      "Agent 2324 has eaten 5.0 sugar from sugar 1174\n",
      "Agent 2380 has eaten 6 sugar from sugar 251\n",
      "160\n"
     ]
    },
    {
     "name": "stderr",
     "output_type": "stream",
     "text": [
      "C:\\Users\\DELL\\AppData\\Local\\Temp\\ipykernel_13528\\3195471959.py:147: DeprecationWarning: Because of the shift to using AgentSet, in the future this attribute will return a dict withtype as key as AgentSet as value. Future behavior is available via RandomActivationByType._agents_by_type\n",
      "  for sugar_agent in self.schedule.agents_by_type[Sugar].values():\n",
      "C:\\Users\\DELL\\AppData\\Local\\Temp\\ipykernel_13528\\3195471959.py:139: DeprecationWarning: Because of the shift to using AgentSet, in the future this attribute will return a dict withtype as key as AgentSet as value. Future behavior is available via RandomActivationByType._agents_by_type\n",
      "  corrupt_agents_shuffle = list(self.schedule.agents_by_type[Corrupt_agent].values())\n",
      "C:\\Users\\DELL\\AppData\\Local\\Temp\\ipykernel_13528\\3195471959.py:92: DeprecationWarning: Because of the shift to using AgentSet, in the future this attribute will return a dict withtype as key as AgentSet as value. Future behavior is available via RandomActivationByType._agents_by_type\n",
      "  agents = [agent for agent in self.schedule.agents_by_type[Corrupt_agent].values()]\n"
     ]
    },
    {
     "name": "stdout",
     "output_type": "stream",
     "text": [
      "161\n"
     ]
    },
    {
     "name": "stderr",
     "output_type": "stream",
     "text": [
      "C:\\Users\\DELL\\AppData\\Local\\Temp\\ipykernel_13528\\3195471959.py:147: DeprecationWarning: Because of the shift to using AgentSet, in the future this attribute will return a dict withtype as key as AgentSet as value. Future behavior is available via RandomActivationByType._agents_by_type\n",
      "  for sugar_agent in self.schedule.agents_by_type[Sugar].values():\n",
      "C:\\Users\\DELL\\AppData\\Local\\Temp\\ipykernel_13528\\3195471959.py:139: DeprecationWarning: Because of the shift to using AgentSet, in the future this attribute will return a dict withtype as key as AgentSet as value. Future behavior is available via RandomActivationByType._agents_by_type\n",
      "  corrupt_agents_shuffle = list(self.schedule.agents_by_type[Corrupt_agent].values())\n",
      "C:\\Users\\DELL\\AppData\\Local\\Temp\\ipykernel_13528\\3195471959.py:92: DeprecationWarning: Because of the shift to using AgentSet, in the future this attribute will return a dict withtype as key as AgentSet as value. Future behavior is available via RandomActivationByType._agents_by_type\n",
      "  agents = [agent for agent in self.schedule.agents_by_type[Corrupt_agent].values()]\n"
     ]
    },
    {
     "name": "stdout",
     "output_type": "stream",
     "text": [
      "Agent 2325 stole 10 resources from Agent 2316.\n",
      "Agent 2315 stole 8.0 resources from Agent 2297.\n",
      "Agent 2316 stole 9.0 resources from Agent 2325.\n",
      "Agent 2316 stole 3.0 resources from Agent 2381.\n",
      "Agent 2316 stole 10 resources from Agent 2339.\n",
      "Agent 2381 stole 10 resources from Agent 2316.\n",
      "Agent 2381 stole 8.0 resources from Agent 2325.\n",
      "Agent 2297 stole 3.0 resources from Agent 2315.\n",
      "162\n"
     ]
    },
    {
     "name": "stderr",
     "output_type": "stream",
     "text": [
      "C:\\Users\\DELL\\AppData\\Local\\Temp\\ipykernel_13528\\3195471959.py:147: DeprecationWarning: Because of the shift to using AgentSet, in the future this attribute will return a dict withtype as key as AgentSet as value. Future behavior is available via RandomActivationByType._agents_by_type\n",
      "  for sugar_agent in self.schedule.agents_by_type[Sugar].values():\n",
      "C:\\Users\\DELL\\AppData\\Local\\Temp\\ipykernel_13528\\3195471959.py:139: DeprecationWarning: Because of the shift to using AgentSet, in the future this attribute will return a dict withtype as key as AgentSet as value. Future behavior is available via RandomActivationByType._agents_by_type\n",
      "  corrupt_agents_shuffle = list(self.schedule.agents_by_type[Corrupt_agent].values())\n",
      "C:\\Users\\DELL\\AppData\\Local\\Temp\\ipykernel_13528\\3195471959.py:92: DeprecationWarning: Because of the shift to using AgentSet, in the future this attribute will return a dict withtype as key as AgentSet as value. Future behavior is available via RandomActivationByType._agents_by_type\n",
      "  agents = [agent for agent in self.schedule.agents_by_type[Corrupt_agent].values()]\n"
     ]
    },
    {
     "name": "stdout",
     "output_type": "stream",
     "text": [
      "Agent 2322 has eaten 6 sugar from sugar 584\n",
      "Agent 2318 has eaten 3.0 sugar from sugar 167\n",
      "Agent 2370 has eaten 6 sugar from sugar 84\n",
      "Agent 2299 has eaten 6 sugar from sugar 514\n",
      "Agent 2380 has eaten 6 sugar from sugar 251\n",
      "Agent 2297 has eaten 6 sugar from sugar 277\n",
      "Agent 2369 has eaten 6 sugar from sugar 2167\n",
      "Agent 2316 has eaten 6 sugar from sugar 302\n",
      "Agent 2356 has eaten 4.0 sugar from sugar 60\n",
      "Agent 2339 has eaten 5.0 sugar from sugar 442\n",
      "Agent 2359 has eaten 6 sugar from sugar 1261\n",
      "Agent 2374 has eaten 6 sugar from sugar 1253\n",
      "Agent 2350 has eaten 5.0 sugar from sugar 670\n",
      "Agent 2336 has eaten 6 sugar from sugar 1910\n",
      "Agent 2307 has eaten 6 sugar from sugar 1089\n",
      "Agent 2325 has eaten 4.0 sugar from sugar 161\n",
      "Agent 2373 has eaten 6.0 sugar from sugar 1843\n",
      "Agent 2383 has eaten 6 sugar from sugar 1315\n",
      "Agent 2315 has eaten 1.0 sugar from sugar 365\n",
      "Agent 2308 has eaten 6 sugar from sugar 916\n",
      "Agent 2352 has eaten 6 sugar from sugar 2049\n",
      "Agent 2334 has eaten 6 sugar from sugar 1688\n",
      "Agent 2341 has eaten 6 sugar from sugar 2238\n",
      "Agent 2354 has eaten 6 sugar from sugar 2095\n",
      "Agent 2324 has eaten 5.0 sugar from sugar 1174\n",
      "Agent 2367 has eaten 6 sugar from sugar 1080\n",
      "Agent 2345 has eaten 6 sugar from sugar 94\n",
      "Agent 2319 has eaten 6 sugar from sugar 700\n",
      "Agent 2381 has eaten 6 sugar from sugar 116\n",
      "163\n"
     ]
    },
    {
     "name": "stderr",
     "output_type": "stream",
     "text": [
      "C:\\Users\\DELL\\AppData\\Local\\Temp\\ipykernel_13528\\3195471959.py:147: DeprecationWarning: Because of the shift to using AgentSet, in the future this attribute will return a dict withtype as key as AgentSet as value. Future behavior is available via RandomActivationByType._agents_by_type\n",
      "  for sugar_agent in self.schedule.agents_by_type[Sugar].values():\n",
      "C:\\Users\\DELL\\AppData\\Local\\Temp\\ipykernel_13528\\3195471959.py:139: DeprecationWarning: Because of the shift to using AgentSet, in the future this attribute will return a dict withtype as key as AgentSet as value. Future behavior is available via RandomActivationByType._agents_by_type\n",
      "  corrupt_agents_shuffle = list(self.schedule.agents_by_type[Corrupt_agent].values())\n",
      "C:\\Users\\DELL\\AppData\\Local\\Temp\\ipykernel_13528\\3195471959.py:92: DeprecationWarning: Because of the shift to using AgentSet, in the future this attribute will return a dict withtype as key as AgentSet as value. Future behavior is available via RandomActivationByType._agents_by_type\n",
      "  agents = [agent for agent in self.schedule.agents_by_type[Corrupt_agent].values()]\n"
     ]
    },
    {
     "name": "stdout",
     "output_type": "stream",
     "text": [
      "164\n"
     ]
    },
    {
     "name": "stderr",
     "output_type": "stream",
     "text": [
      "C:\\Users\\DELL\\AppData\\Local\\Temp\\ipykernel_13528\\3195471959.py:147: DeprecationWarning: Because of the shift to using AgentSet, in the future this attribute will return a dict withtype as key as AgentSet as value. Future behavior is available via RandomActivationByType._agents_by_type\n",
      "  for sugar_agent in self.schedule.agents_by_type[Sugar].values():\n",
      "C:\\Users\\DELL\\AppData\\Local\\Temp\\ipykernel_13528\\3195471959.py:139: DeprecationWarning: Because of the shift to using AgentSet, in the future this attribute will return a dict withtype as key as AgentSet as value. Future behavior is available via RandomActivationByType._agents_by_type\n",
      "  corrupt_agents_shuffle = list(self.schedule.agents_by_type[Corrupt_agent].values())\n",
      "C:\\Users\\DELL\\AppData\\Local\\Temp\\ipykernel_13528\\3195471959.py:92: DeprecationWarning: Because of the shift to using AgentSet, in the future this attribute will return a dict withtype as key as AgentSet as value. Future behavior is available via RandomActivationByType._agents_by_type\n",
      "  agents = [agent for agent in self.schedule.agents_by_type[Corrupt_agent].values()]\n"
     ]
    },
    {
     "name": "stdout",
     "output_type": "stream",
     "text": [
      "Agent 2381 stole 7.0 resources from Agent 2325.\n",
      "Agent 2381 stole 10 resources from Agent 2316.\n",
      "Agent 2316 stole 10 resources from Agent 2339.\n",
      "Agent 2359 stole 10.0 resources from Agent 2324.\n",
      "Agent 2297 stole 2.0 resources from Agent 2315.\n",
      "Agent 2325 stole 10 resources from Agent 2316.\n",
      "165\n"
     ]
    },
    {
     "name": "stderr",
     "output_type": "stream",
     "text": [
      "C:\\Users\\DELL\\AppData\\Local\\Temp\\ipykernel_13528\\3195471959.py:147: DeprecationWarning: Because of the shift to using AgentSet, in the future this attribute will return a dict withtype as key as AgentSet as value. Future behavior is available via RandomActivationByType._agents_by_type\n",
      "  for sugar_agent in self.schedule.agents_by_type[Sugar].values():\n",
      "C:\\Users\\DELL\\AppData\\Local\\Temp\\ipykernel_13528\\3195471959.py:139: DeprecationWarning: Because of the shift to using AgentSet, in the future this attribute will return a dict withtype as key as AgentSet as value. Future behavior is available via RandomActivationByType._agents_by_type\n",
      "  corrupt_agents_shuffle = list(self.schedule.agents_by_type[Corrupt_agent].values())\n",
      "C:\\Users\\DELL\\AppData\\Local\\Temp\\ipykernel_13528\\3195471959.py:92: DeprecationWarning: Because of the shift to using AgentSet, in the future this attribute will return a dict withtype as key as AgentSet as value. Future behavior is available via RandomActivationByType._agents_by_type\n",
      "  agents = [agent for agent in self.schedule.agents_by_type[Corrupt_agent].values()]\n"
     ]
    },
    {
     "name": "stdout",
     "output_type": "stream",
     "text": [
      "Agent 2297 has eaten 6 sugar from sugar 277\n",
      "Agent 2334 has eaten 6 sugar from sugar 1688\n",
      "Agent 2352 has eaten 6 sugar from sugar 2049\n",
      "Agent 2359 has eaten 6 sugar from sugar 1261\n",
      "Agent 2325 has eaten 4.0 sugar from sugar 161\n",
      "Agent 2380 has eaten 6 sugar from sugar 251\n",
      "Agent 2374 has eaten 6 sugar from sugar 1253\n",
      "Agent 2336 has eaten 6 sugar from sugar 1910\n",
      "Agent 2307 has eaten 6 sugar from sugar 1089\n",
      "Agent 2341 has eaten 6 sugar from sugar 2238\n",
      "Agent 2308 has eaten 6 sugar from sugar 916\n",
      "Agent 2345 has eaten 6 sugar from sugar 94\n",
      "Agent 2373 has eaten 6.0 sugar from sugar 1843\n",
      "Agent 2350 has eaten 5.0 sugar from sugar 670\n",
      "Agent 2315 has eaten 1.0 sugar from sugar 365\n",
      "Agent 2369 has eaten 6 sugar from sugar 2167\n",
      "Agent 2381 has eaten 6 sugar from sugar 116\n",
      "Agent 2324 has eaten 5.0 sugar from sugar 1174\n",
      "Agent 2370 has eaten 6 sugar from sugar 84\n",
      "Agent 2299 has eaten 6 sugar from sugar 514\n",
      "Agent 2318 has eaten 3.0 sugar from sugar 167\n",
      "Agent 2316 has eaten 6 sugar from sugar 302\n",
      "Agent 2354 has eaten 6 sugar from sugar 2095\n",
      "Agent 2319 has eaten 6 sugar from sugar 700\n",
      "Agent 2383 has eaten 6 sugar from sugar 1315\n",
      "Agent 2356 has eaten 4.0 sugar from sugar 60\n",
      "Agent 2339 has eaten 5.0 sugar from sugar 442\n",
      "Agent 2367 has eaten 6 sugar from sugar 1080\n",
      "Agent 2322 has eaten 6 sugar from sugar 584\n",
      "166\n"
     ]
    },
    {
     "name": "stderr",
     "output_type": "stream",
     "text": [
      "C:\\Users\\DELL\\AppData\\Local\\Temp\\ipykernel_13528\\3195471959.py:147: DeprecationWarning: Because of the shift to using AgentSet, in the future this attribute will return a dict withtype as key as AgentSet as value. Future behavior is available via RandomActivationByType._agents_by_type\n",
      "  for sugar_agent in self.schedule.agents_by_type[Sugar].values():\n",
      "C:\\Users\\DELL\\AppData\\Local\\Temp\\ipykernel_13528\\3195471959.py:139: DeprecationWarning: Because of the shift to using AgentSet, in the future this attribute will return a dict withtype as key as AgentSet as value. Future behavior is available via RandomActivationByType._agents_by_type\n",
      "  corrupt_agents_shuffle = list(self.schedule.agents_by_type[Corrupt_agent].values())\n",
      "C:\\Users\\DELL\\AppData\\Local\\Temp\\ipykernel_13528\\3195471959.py:92: DeprecationWarning: Because of the shift to using AgentSet, in the future this attribute will return a dict withtype as key as AgentSet as value. Future behavior is available via RandomActivationByType._agents_by_type\n",
      "  agents = [agent for agent in self.schedule.agents_by_type[Corrupt_agent].values()]\n"
     ]
    },
    {
     "name": "stdout",
     "output_type": "stream",
     "text": [
      "Agent 2381 with 53.0 has shared 7.0 with 2325 with 73.0\n",
      "167\n"
     ]
    },
    {
     "name": "stderr",
     "output_type": "stream",
     "text": [
      "C:\\Users\\DELL\\AppData\\Local\\Temp\\ipykernel_13528\\3195471959.py:147: DeprecationWarning: Because of the shift to using AgentSet, in the future this attribute will return a dict withtype as key as AgentSet as value. Future behavior is available via RandomActivationByType._agents_by_type\n",
      "  for sugar_agent in self.schedule.agents_by_type[Sugar].values():\n",
      "C:\\Users\\DELL\\AppData\\Local\\Temp\\ipykernel_13528\\3195471959.py:139: DeprecationWarning: Because of the shift to using AgentSet, in the future this attribute will return a dict withtype as key as AgentSet as value. Future behavior is available via RandomActivationByType._agents_by_type\n",
      "  corrupt_agents_shuffle = list(self.schedule.agents_by_type[Corrupt_agent].values())\n",
      "C:\\Users\\DELL\\AppData\\Local\\Temp\\ipykernel_13528\\3195471959.py:92: DeprecationWarning: Because of the shift to using AgentSet, in the future this attribute will return a dict withtype as key as AgentSet as value. Future behavior is available via RandomActivationByType._agents_by_type\n",
      "  agents = [agent for agent in self.schedule.agents_by_type[Corrupt_agent].values()]\n"
     ]
    },
    {
     "name": "stdout",
     "output_type": "stream",
     "text": [
      "Agent 2315 stole 9.0 resources from Agent 2297.\n",
      "Agent 2381 stole 1.0 resources from Agent 2318.\n",
      "Agent 2316 stole 5.0 resources from Agent 2380.\n",
      "Agent 2316 stole 9.0 resources from Agent 2325.\n",
      "Agent 2316 stole 10 resources from Agent 2339.\n",
      "Agent 2339 stole 10 resources from Agent 2350.\n",
      "Agent 2297 stole 3.0 resources from Agent 2315.\n",
      "Agent 2380 stole 7.0 resources from Agent 2325.\n",
      "Agent 2354 stole 8.0 resources from Agent 2352.\n",
      "168\n"
     ]
    },
    {
     "name": "stderr",
     "output_type": "stream",
     "text": [
      "C:\\Users\\DELL\\AppData\\Local\\Temp\\ipykernel_13528\\3195471959.py:147: DeprecationWarning: Because of the shift to using AgentSet, in the future this attribute will return a dict withtype as key as AgentSet as value. Future behavior is available via RandomActivationByType._agents_by_type\n",
      "  for sugar_agent in self.schedule.agents_by_type[Sugar].values():\n",
      "C:\\Users\\DELL\\AppData\\Local\\Temp\\ipykernel_13528\\3195471959.py:139: DeprecationWarning: Because of the shift to using AgentSet, in the future this attribute will return a dict withtype as key as AgentSet as value. Future behavior is available via RandomActivationByType._agents_by_type\n",
      "  corrupt_agents_shuffle = list(self.schedule.agents_by_type[Corrupt_agent].values())\n",
      "C:\\Users\\DELL\\AppData\\Local\\Temp\\ipykernel_13528\\3195471959.py:92: DeprecationWarning: Because of the shift to using AgentSet, in the future this attribute will return a dict withtype as key as AgentSet as value. Future behavior is available via RandomActivationByType._agents_by_type\n",
      "  agents = [agent for agent in self.schedule.agents_by_type[Corrupt_agent].values()]\n"
     ]
    },
    {
     "name": "stdout",
     "output_type": "stream",
     "text": [
      "Agent 2383 has eaten 6 sugar from sugar 1315\n",
      "Agent 2352 has eaten 6 sugar from sugar 2049\n",
      "Agent 2350 has eaten 5.0 sugar from sugar 670\n",
      "Agent 2356 has eaten 4.0 sugar from sugar 60\n",
      "Agent 2297 has eaten 6 sugar from sugar 277\n",
      "Agent 2322 has eaten 6 sugar from sugar 584\n",
      "Agent 2345 has eaten 6 sugar from sugar 94\n",
      "Agent 2380 has eaten 6 sugar from sugar 251\n",
      "Agent 2334 has eaten 6 sugar from sugar 1688\n",
      "Agent 2359 has eaten 6 sugar from sugar 1261\n",
      "Agent 2324 has eaten 5.0 sugar from sugar 1174\n",
      "Agent 2308 has eaten 6 sugar from sugar 916\n",
      "Agent 2315 has eaten 1.0 sugar from sugar 365\n",
      "Agent 2381 has eaten 6 sugar from sugar 116\n",
      "Agent 2316 has eaten 6 sugar from sugar 302\n",
      "Agent 2318 has eaten 3.0 sugar from sugar 167\n",
      "Agent 2341 has eaten 6 sugar from sugar 2238\n",
      "Agent 2370 has eaten 6 sugar from sugar 84\n",
      "Agent 2367 has eaten 6 sugar from sugar 1080\n",
      "Agent 2374 has eaten 6 sugar from sugar 1253\n",
      "Agent 2339 has eaten 5.0 sugar from sugar 442\n",
      "Agent 2354 has eaten 6 sugar from sugar 2095\n",
      "Agent 2369 has eaten 6 sugar from sugar 2167\n",
      "Agent 2336 has eaten 6 sugar from sugar 1910\n",
      "Agent 2319 has eaten 6 sugar from sugar 700\n",
      "Agent 2373 has eaten 6.0 sugar from sugar 1843\n",
      "Agent 2307 has eaten 6 sugar from sugar 1089\n",
      "Agent 2299 has eaten 6 sugar from sugar 514\n",
      "Agent 2325 has eaten 4.0 sugar from sugar 161\n",
      "169\n"
     ]
    },
    {
     "name": "stderr",
     "output_type": "stream",
     "text": [
      "C:\\Users\\DELL\\AppData\\Local\\Temp\\ipykernel_13528\\3195471959.py:147: DeprecationWarning: Because of the shift to using AgentSet, in the future this attribute will return a dict withtype as key as AgentSet as value. Future behavior is available via RandomActivationByType._agents_by_type\n",
      "  for sugar_agent in self.schedule.agents_by_type[Sugar].values():\n",
      "C:\\Users\\DELL\\AppData\\Local\\Temp\\ipykernel_13528\\3195471959.py:139: DeprecationWarning: Because of the shift to using AgentSet, in the future this attribute will return a dict withtype as key as AgentSet as value. Future behavior is available via RandomActivationByType._agents_by_type\n",
      "  corrupt_agents_shuffle = list(self.schedule.agents_by_type[Corrupt_agent].values())\n",
      "C:\\Users\\DELL\\AppData\\Local\\Temp\\ipykernel_13528\\3195471959.py:92: DeprecationWarning: Because of the shift to using AgentSet, in the future this attribute will return a dict withtype as key as AgentSet as value. Future behavior is available via RandomActivationByType._agents_by_type\n",
      "  agents = [agent for agent in self.schedule.agents_by_type[Corrupt_agent].values()]\n"
     ]
    },
    {
     "name": "stdout",
     "output_type": "stream",
     "text": [
      "Agent 2381 with 45.0 has shared 6.0 with 2380 with 52.0\n",
      "170\n"
     ]
    },
    {
     "name": "stderr",
     "output_type": "stream",
     "text": [
      "C:\\Users\\DELL\\AppData\\Local\\Temp\\ipykernel_13528\\3195471959.py:147: DeprecationWarning: Because of the shift to using AgentSet, in the future this attribute will return a dict withtype as key as AgentSet as value. Future behavior is available via RandomActivationByType._agents_by_type\n",
      "  for sugar_agent in self.schedule.agents_by_type[Sugar].values():\n",
      "C:\\Users\\DELL\\AppData\\Local\\Temp\\ipykernel_13528\\3195471959.py:139: DeprecationWarning: Because of the shift to using AgentSet, in the future this attribute will return a dict withtype as key as AgentSet as value. Future behavior is available via RandomActivationByType._agents_by_type\n",
      "  corrupt_agents_shuffle = list(self.schedule.agents_by_type[Corrupt_agent].values())\n",
      "C:\\Users\\DELL\\AppData\\Local\\Temp\\ipykernel_13528\\3195471959.py:92: DeprecationWarning: Because of the shift to using AgentSet, in the future this attribute will return a dict withtype as key as AgentSet as value. Future behavior is available via RandomActivationByType._agents_by_type\n",
      "  agents = [agent for agent in self.schedule.agents_by_type[Corrupt_agent].values()]\n"
     ]
    },
    {
     "name": "stdout",
     "output_type": "stream",
     "text": [
      "Agent 2325 stole 10 resources from Agent 2316.\n",
      "Agent 2297 stole 2.0 resources from Agent 2315.\n",
      "Agent 2316 stole 5.0 resources from Agent 2381.\n",
      "Agent 2316 stole 6.0 resources from Agent 2380.\n",
      "Agent 2380 stole 10 resources from Agent 2316.\n",
      "Agent 2381 stole 8.0 resources from Agent 2325.\n",
      "Agent 2381 stole 0.0 resources from Agent 2318.\n",
      "Agent 2381 stole 10 resources from Agent 2316.\n",
      "171\n"
     ]
    },
    {
     "name": "stderr",
     "output_type": "stream",
     "text": [
      "C:\\Users\\DELL\\AppData\\Local\\Temp\\ipykernel_13528\\3195471959.py:147: DeprecationWarning: Because of the shift to using AgentSet, in the future this attribute will return a dict withtype as key as AgentSet as value. Future behavior is available via RandomActivationByType._agents_by_type\n",
      "  for sugar_agent in self.schedule.agents_by_type[Sugar].values():\n",
      "C:\\Users\\DELL\\AppData\\Local\\Temp\\ipykernel_13528\\3195471959.py:139: DeprecationWarning: Because of the shift to using AgentSet, in the future this attribute will return a dict withtype as key as AgentSet as value. Future behavior is available via RandomActivationByType._agents_by_type\n",
      "  corrupt_agents_shuffle = list(self.schedule.agents_by_type[Corrupt_agent].values())\n",
      "C:\\Users\\DELL\\AppData\\Local\\Temp\\ipykernel_13528\\3195471959.py:92: DeprecationWarning: Because of the shift to using AgentSet, in the future this attribute will return a dict withtype as key as AgentSet as value. Future behavior is available via RandomActivationByType._agents_by_type\n",
      "  agents = [agent for agent in self.schedule.agents_by_type[Corrupt_agent].values()]\n"
     ]
    },
    {
     "name": "stdout",
     "output_type": "stream",
     "text": [
      "Agent 2356 has eaten 4.0 sugar from sugar 60\n",
      "Agent 2322 has eaten 6 sugar from sugar 584\n",
      "Agent 2373 has eaten 6.0 sugar from sugar 1843\n",
      "Agent 2359 has eaten 6 sugar from sugar 1261\n",
      "Agent 2324 has eaten 5.0 sugar from sugar 1174\n",
      "Agent 2383 has eaten 6 sugar from sugar 1315\n",
      "Agent 2339 has eaten 5.0 sugar from sugar 442\n",
      "Agent 2352 has eaten 6 sugar from sugar 2049\n",
      "Agent 2370 has eaten 6 sugar from sugar 84\n",
      "Agent 2334 has eaten 6 sugar from sugar 1688\n",
      "Agent 2354 has eaten 6 sugar from sugar 2095\n",
      "Agent 2316 has eaten 6 sugar from sugar 302\n",
      "Agent 2336 has eaten 6 sugar from sugar 1910\n",
      "Agent 2380 has eaten 6 sugar from sugar 251\n",
      "Agent 2369 has eaten 6 sugar from sugar 2167\n",
      "Agent 2319 has eaten 6 sugar from sugar 700\n",
      "Agent 2367 has eaten 6 sugar from sugar 1080\n",
      "Agent 2307 has eaten 6 sugar from sugar 1089\n",
      "Agent 2318 has eaten 3.0 sugar from sugar 167\n",
      "Agent 2374 has eaten 6 sugar from sugar 1253\n",
      "Agent 2299 has eaten 6 sugar from sugar 514\n",
      "Agent 2315 has eaten 1.0 sugar from sugar 365\n",
      "Agent 2297 has eaten 6 sugar from sugar 277\n",
      "Agent 2350 has eaten 5.0 sugar from sugar 670\n",
      "Agent 2308 has eaten 6 sugar from sugar 916\n",
      "Agent 2325 has eaten 4.0 sugar from sugar 161\n",
      "Agent 2381 has eaten 6 sugar from sugar 116\n",
      "Agent 2341 has eaten 6 sugar from sugar 2238\n",
      "Agent 2345 has eaten 6 sugar from sugar 94\n",
      "172\n"
     ]
    },
    {
     "name": "stderr",
     "output_type": "stream",
     "text": [
      "C:\\Users\\DELL\\AppData\\Local\\Temp\\ipykernel_13528\\3195471959.py:147: DeprecationWarning: Because of the shift to using AgentSet, in the future this attribute will return a dict withtype as key as AgentSet as value. Future behavior is available via RandomActivationByType._agents_by_type\n",
      "  for sugar_agent in self.schedule.agents_by_type[Sugar].values():\n",
      "C:\\Users\\DELL\\AppData\\Local\\Temp\\ipykernel_13528\\3195471959.py:139: DeprecationWarning: Because of the shift to using AgentSet, in the future this attribute will return a dict withtype as key as AgentSet as value. Future behavior is available via RandomActivationByType._agents_by_type\n",
      "  corrupt_agents_shuffle = list(self.schedule.agents_by_type[Corrupt_agent].values())\n",
      "C:\\Users\\DELL\\AppData\\Local\\Temp\\ipykernel_13528\\3195471959.py:92: DeprecationWarning: Because of the shift to using AgentSet, in the future this attribute will return a dict withtype as key as AgentSet as value. Future behavior is available via RandomActivationByType._agents_by_type\n",
      "  agents = [agent for agent in self.schedule.agents_by_type[Corrupt_agent].values()]\n"
     ]
    },
    {
     "name": "stdout",
     "output_type": "stream",
     "text": [
      "Agent 2381 with 49.0 has shared 6.0 with 2325 with 67.0\n",
      "173\n"
     ]
    },
    {
     "name": "stderr",
     "output_type": "stream",
     "text": [
      "C:\\Users\\DELL\\AppData\\Local\\Temp\\ipykernel_13528\\3195471959.py:147: DeprecationWarning: Because of the shift to using AgentSet, in the future this attribute will return a dict withtype as key as AgentSet as value. Future behavior is available via RandomActivationByType._agents_by_type\n",
      "  for sugar_agent in self.schedule.agents_by_type[Sugar].values():\n",
      "C:\\Users\\DELL\\AppData\\Local\\Temp\\ipykernel_13528\\3195471959.py:139: DeprecationWarning: Because of the shift to using AgentSet, in the future this attribute will return a dict withtype as key as AgentSet as value. Future behavior is available via RandomActivationByType._agents_by_type\n",
      "  corrupt_agents_shuffle = list(self.schedule.agents_by_type[Corrupt_agent].values())\n",
      "C:\\Users\\DELL\\AppData\\Local\\Temp\\ipykernel_13528\\3195471959.py:92: DeprecationWarning: Because of the shift to using AgentSet, in the future this attribute will return a dict withtype as key as AgentSet as value. Future behavior is available via RandomActivationByType._agents_by_type\n",
      "  agents = [agent for agent in self.schedule.agents_by_type[Corrupt_agent].values()]\n"
     ]
    },
    {
     "name": "stdout",
     "output_type": "stream",
     "text": [
      "Agent 2325 stole 7.0 resources from Agent 2380.\n",
      "Agent 2381 stole 9.0 resources from Agent 2325.\n",
      "Agent 2381 stole 6.0 resources from Agent 2380.\n",
      "Agent 2299 stole 10 resources from Agent 2319.\n",
      "Agent 2316 stole 10 resources from Agent 2339.\n",
      "Agent 2315 stole 9.0 resources from Agent 2297.\n",
      "Agent 2359 stole 9.0 resources from Agent 2324.\n",
      "174\n"
     ]
    },
    {
     "name": "stderr",
     "output_type": "stream",
     "text": [
      "C:\\Users\\DELL\\AppData\\Local\\Temp\\ipykernel_13528\\3195471959.py:147: DeprecationWarning: Because of the shift to using AgentSet, in the future this attribute will return a dict withtype as key as AgentSet as value. Future behavior is available via RandomActivationByType._agents_by_type\n",
      "  for sugar_agent in self.schedule.agents_by_type[Sugar].values():\n",
      "C:\\Users\\DELL\\AppData\\Local\\Temp\\ipykernel_13528\\3195471959.py:139: DeprecationWarning: Because of the shift to using AgentSet, in the future this attribute will return a dict withtype as key as AgentSet as value. Future behavior is available via RandomActivationByType._agents_by_type\n",
      "  corrupt_agents_shuffle = list(self.schedule.agents_by_type[Corrupt_agent].values())\n",
      "C:\\Users\\DELL\\AppData\\Local\\Temp\\ipykernel_13528\\3195471959.py:92: DeprecationWarning: Because of the shift to using AgentSet, in the future this attribute will return a dict withtype as key as AgentSet as value. Future behavior is available via RandomActivationByType._agents_by_type\n",
      "  agents = [agent for agent in self.schedule.agents_by_type[Corrupt_agent].values()]\n"
     ]
    },
    {
     "name": "stdout",
     "output_type": "stream",
     "text": [
      "Agent 2334 has eaten 6 sugar from sugar 1688\n",
      "Agent 2322 has eaten 6 sugar from sugar 584\n",
      "Agent 2352 has eaten 6 sugar from sugar 2049\n",
      "Agent 2299 has eaten 6 sugar from sugar 514\n",
      "Agent 2307 has eaten 6 sugar from sugar 1089\n",
      "Agent 2367 has eaten 6 sugar from sugar 1080\n",
      "Agent 2336 has eaten 6 sugar from sugar 1910\n",
      "Agent 2308 has eaten 6 sugar from sugar 916\n",
      "Agent 2381 has eaten 6 sugar from sugar 116\n",
      "Agent 2316 has eaten 6 sugar from sugar 302\n",
      "Agent 2356 has eaten 4.0 sugar from sugar 60\n",
      "Agent 2374 has eaten 6 sugar from sugar 1253\n",
      "Agent 2380 has eaten 6 sugar from sugar 251\n",
      "Agent 2383 has eaten 6 sugar from sugar 1315\n",
      "Agent 2373 has eaten 6.0 sugar from sugar 1843\n",
      "Agent 2315 has eaten 1.0 sugar from sugar 365\n",
      "Agent 2370 has eaten 6 sugar from sugar 84\n",
      "Agent 2354 has eaten 6 sugar from sugar 2095\n",
      "Agent 2339 has eaten 5.0 sugar from sugar 442\n",
      "Agent 2325 has eaten 4.0 sugar from sugar 161\n",
      "Agent 2319 has eaten 6 sugar from sugar 700\n",
      "Agent 2369 has eaten 6 sugar from sugar 2167\n",
      "Agent 2359 has eaten 6 sugar from sugar 1261\n",
      "Agent 2324 has eaten 5.0 sugar from sugar 1174\n",
      "Agent 2318 has eaten 3.0 sugar from sugar 167\n",
      "Agent 2297 has eaten 6 sugar from sugar 277\n",
      "Agent 2345 has eaten 6 sugar from sugar 94\n",
      "Agent 2350 has eaten 5.0 sugar from sugar 670\n",
      "Agent 2341 has eaten 6 sugar from sugar 2238\n",
      "175\n"
     ]
    },
    {
     "name": "stderr",
     "output_type": "stream",
     "text": [
      "C:\\Users\\DELL\\AppData\\Local\\Temp\\ipykernel_13528\\3195471959.py:147: DeprecationWarning: Because of the shift to using AgentSet, in the future this attribute will return a dict withtype as key as AgentSet as value. Future behavior is available via RandomActivationByType._agents_by_type\n",
      "  for sugar_agent in self.schedule.agents_by_type[Sugar].values():\n",
      "C:\\Users\\DELL\\AppData\\Local\\Temp\\ipykernel_13528\\3195471959.py:139: DeprecationWarning: Because of the shift to using AgentSet, in the future this attribute will return a dict withtype as key as AgentSet as value. Future behavior is available via RandomActivationByType._agents_by_type\n",
      "  corrupt_agents_shuffle = list(self.schedule.agents_by_type[Corrupt_agent].values())\n",
      "C:\\Users\\DELL\\AppData\\Local\\Temp\\ipykernel_13528\\3195471959.py:92: DeprecationWarning: Because of the shift to using AgentSet, in the future this attribute will return a dict withtype as key as AgentSet as value. Future behavior is available via RandomActivationByType._agents_by_type\n",
      "  agents = [agent for agent in self.schedule.agents_by_type[Corrupt_agent].values()]\n"
     ]
    },
    {
     "name": "stdout",
     "output_type": "stream",
     "text": [
      "176\n"
     ]
    },
    {
     "name": "stderr",
     "output_type": "stream",
     "text": [
      "C:\\Users\\DELL\\AppData\\Local\\Temp\\ipykernel_13528\\3195471959.py:147: DeprecationWarning: Because of the shift to using AgentSet, in the future this attribute will return a dict withtype as key as AgentSet as value. Future behavior is available via RandomActivationByType._agents_by_type\n",
      "  for sugar_agent in self.schedule.agents_by_type[Sugar].values():\n",
      "C:\\Users\\DELL\\AppData\\Local\\Temp\\ipykernel_13528\\3195471959.py:139: DeprecationWarning: Because of the shift to using AgentSet, in the future this attribute will return a dict withtype as key as AgentSet as value. Future behavior is available via RandomActivationByType._agents_by_type\n",
      "  corrupt_agents_shuffle = list(self.schedule.agents_by_type[Corrupt_agent].values())\n",
      "C:\\Users\\DELL\\AppData\\Local\\Temp\\ipykernel_13528\\3195471959.py:92: DeprecationWarning: Because of the shift to using AgentSet, in the future this attribute will return a dict withtype as key as AgentSet as value. Future behavior is available via RandomActivationByType._agents_by_type\n",
      "  agents = [agent for agent in self.schedule.agents_by_type[Corrupt_agent].values()]\n"
     ]
    },
    {
     "name": "stdout",
     "output_type": "stream",
     "text": [
      "Agent 2316 stole 7.0 resources from Agent 2381.\n",
      "Agent 2316 stole 6.0 resources from Agent 2380.\n",
      "Agent 2352 stole 10 resources from Agent 2354.\n",
      "Agent 2299 stole 10 resources from Agent 2319.\n",
      "Agent 2325 stole 6.0 resources from Agent 2381.\n",
      "Agent 2354 stole 9.0 resources from Agent 2352.\n",
      "Agent 2381 stole 8.0 resources from Agent 2325.\n",
      "177\n"
     ]
    },
    {
     "name": "stderr",
     "output_type": "stream",
     "text": [
      "C:\\Users\\DELL\\AppData\\Local\\Temp\\ipykernel_13528\\3195471959.py:147: DeprecationWarning: Because of the shift to using AgentSet, in the future this attribute will return a dict withtype as key as AgentSet as value. Future behavior is available via RandomActivationByType._agents_by_type\n",
      "  for sugar_agent in self.schedule.agents_by_type[Sugar].values():\n",
      "C:\\Users\\DELL\\AppData\\Local\\Temp\\ipykernel_13528\\3195471959.py:139: DeprecationWarning: Because of the shift to using AgentSet, in the future this attribute will return a dict withtype as key as AgentSet as value. Future behavior is available via RandomActivationByType._agents_by_type\n",
      "  corrupt_agents_shuffle = list(self.schedule.agents_by_type[Corrupt_agent].values())\n",
      "C:\\Users\\DELL\\AppData\\Local\\Temp\\ipykernel_13528\\3195471959.py:92: DeprecationWarning: Because of the shift to using AgentSet, in the future this attribute will return a dict withtype as key as AgentSet as value. Future behavior is available via RandomActivationByType._agents_by_type\n",
      "  agents = [agent for agent in self.schedule.agents_by_type[Corrupt_agent].values()]\n"
     ]
    },
    {
     "name": "stdout",
     "output_type": "stream",
     "text": [
      "Agent 2336 has eaten 6 sugar from sugar 1910\n",
      "Agent 2318 has eaten 3.0 sugar from sugar 167\n",
      "Agent 2297 has eaten 6 sugar from sugar 277\n",
      "Agent 2324 has eaten 5.0 sugar from sugar 1174\n",
      "Agent 2307 has eaten 6 sugar from sugar 1089\n",
      "Agent 2359 has eaten 6 sugar from sugar 1261\n",
      "Agent 2370 has eaten 6 sugar from sugar 84\n",
      "Agent 2381 has eaten 6 sugar from sugar 116\n",
      "Agent 2341 has eaten 6 sugar from sugar 2238\n",
      "Agent 2319 has eaten 6 sugar from sugar 700\n",
      "Agent 2380 has eaten 6 sugar from sugar 251\n",
      "Agent 2354 has eaten 6 sugar from sugar 2095\n",
      "Agent 2367 has eaten 6 sugar from sugar 1080\n",
      "Agent 2316 has eaten 6 sugar from sugar 302\n",
      "Agent 2369 has eaten 6 sugar from sugar 2167\n",
      "Agent 2356 has eaten 4.0 sugar from sugar 60\n",
      "Agent 2334 has eaten 6 sugar from sugar 1688\n",
      "Agent 2308 has eaten 6 sugar from sugar 916\n",
      "Agent 2352 has eaten 6 sugar from sugar 2049\n",
      "Agent 2383 has eaten 6 sugar from sugar 1315\n",
      "Agent 2373 has eaten 6.0 sugar from sugar 1843\n",
      "Agent 2345 has eaten 6 sugar from sugar 94\n",
      "Agent 2299 has eaten 6 sugar from sugar 514\n",
      "Agent 2350 has eaten 5.0 sugar from sugar 670\n",
      "Agent 2374 has eaten 6 sugar from sugar 1253\n",
      "Agent 2322 has eaten 6 sugar from sugar 584\n",
      "Agent 2325 has eaten 4.0 sugar from sugar 161\n",
      "Agent 2315 has eaten 1.0 sugar from sugar 365\n",
      "Agent 2339 has eaten 5.0 sugar from sugar 442\n",
      "178\n"
     ]
    },
    {
     "name": "stderr",
     "output_type": "stream",
     "text": [
      "C:\\Users\\DELL\\AppData\\Local\\Temp\\ipykernel_13528\\3195471959.py:147: DeprecationWarning: Because of the shift to using AgentSet, in the future this attribute will return a dict withtype as key as AgentSet as value. Future behavior is available via RandomActivationByType._agents_by_type\n",
      "  for sugar_agent in self.schedule.agents_by_type[Sugar].values():\n",
      "C:\\Users\\DELL\\AppData\\Local\\Temp\\ipykernel_13528\\3195471959.py:139: DeprecationWarning: Because of the shift to using AgentSet, in the future this attribute will return a dict withtype as key as AgentSet as value. Future behavior is available via RandomActivationByType._agents_by_type\n",
      "  corrupt_agents_shuffle = list(self.schedule.agents_by_type[Corrupt_agent].values())\n",
      "C:\\Users\\DELL\\AppData\\Local\\Temp\\ipykernel_13528\\3195471959.py:92: DeprecationWarning: Because of the shift to using AgentSet, in the future this attribute will return a dict withtype as key as AgentSet as value. Future behavior is available via RandomActivationByType._agents_by_type\n",
      "  agents = [agent for agent in self.schedule.agents_by_type[Corrupt_agent].values()]\n"
     ]
    },
    {
     "name": "stdout",
     "output_type": "stream",
     "text": [
      "179\n"
     ]
    },
    {
     "name": "stderr",
     "output_type": "stream",
     "text": [
      "C:\\Users\\DELL\\AppData\\Local\\Temp\\ipykernel_13528\\3195471959.py:147: DeprecationWarning: Because of the shift to using AgentSet, in the future this attribute will return a dict withtype as key as AgentSet as value. Future behavior is available via RandomActivationByType._agents_by_type\n",
      "  for sugar_agent in self.schedule.agents_by_type[Sugar].values():\n",
      "C:\\Users\\DELL\\AppData\\Local\\Temp\\ipykernel_13528\\3195471959.py:139: DeprecationWarning: Because of the shift to using AgentSet, in the future this attribute will return a dict withtype as key as AgentSet as value. Future behavior is available via RandomActivationByType._agents_by_type\n",
      "  corrupt_agents_shuffle = list(self.schedule.agents_by_type[Corrupt_agent].values())\n",
      "C:\\Users\\DELL\\AppData\\Local\\Temp\\ipykernel_13528\\3195471959.py:92: DeprecationWarning: Because of the shift to using AgentSet, in the future this attribute will return a dict withtype as key as AgentSet as value. Future behavior is available via RandomActivationByType._agents_by_type\n",
      "  agents = [agent for agent in self.schedule.agents_by_type[Corrupt_agent].values()]\n"
     ]
    },
    {
     "name": "stdout",
     "output_type": "stream",
     "text": [
      "Agent 2381 stole 0.0 resources from Agent 2318.\n",
      "Agent 2381 stole 8.0 resources from Agent 2325.\n",
      "Agent 2354 stole 8.0 resources from Agent 2352.\n",
      "Agent 2316 stole 7.0 resources from Agent 2381.\n",
      "Agent 2316 stole 10 resources from Agent 2339.\n",
      "Agent 2316 stole 5.0 resources from Agent 2380.\n",
      "Agent 2380 stole 6.0 resources from Agent 2381.\n",
      "Agent 2319 stole 5.0 resources from Agent 2299.\n",
      "Agent 2325 stole 5.0 resources from Agent 2381.\n",
      "180\n"
     ]
    },
    {
     "name": "stderr",
     "output_type": "stream",
     "text": [
      "C:\\Users\\DELL\\AppData\\Local\\Temp\\ipykernel_13528\\3195471959.py:147: DeprecationWarning: Because of the shift to using AgentSet, in the future this attribute will return a dict withtype as key as AgentSet as value. Future behavior is available via RandomActivationByType._agents_by_type\n",
      "  for sugar_agent in self.schedule.agents_by_type[Sugar].values():\n",
      "C:\\Users\\DELL\\AppData\\Local\\Temp\\ipykernel_13528\\3195471959.py:139: DeprecationWarning: Because of the shift to using AgentSet, in the future this attribute will return a dict withtype as key as AgentSet as value. Future behavior is available via RandomActivationByType._agents_by_type\n",
      "  corrupt_agents_shuffle = list(self.schedule.agents_by_type[Corrupt_agent].values())\n",
      "C:\\Users\\DELL\\AppData\\Local\\Temp\\ipykernel_13528\\3195471959.py:92: DeprecationWarning: Because of the shift to using AgentSet, in the future this attribute will return a dict withtype as key as AgentSet as value. Future behavior is available via RandomActivationByType._agents_by_type\n",
      "  agents = [agent for agent in self.schedule.agents_by_type[Corrupt_agent].values()]\n"
     ]
    },
    {
     "name": "stdout",
     "output_type": "stream",
     "text": [
      "Agent 2367 has eaten 6 sugar from sugar 1080\n",
      "Agent 2315 has eaten 1.0 sugar from sugar 365\n",
      "Agent 2356 has eaten 4.0 sugar from sugar 60\n",
      "Agent 2334 has eaten 6 sugar from sugar 1688\n",
      "Agent 2374 has eaten 6 sugar from sugar 1253\n",
      "Agent 2307 has eaten 6 sugar from sugar 1089\n",
      "Agent 2319 has eaten 6 sugar from sugar 700\n",
      "Agent 2336 has eaten 6 sugar from sugar 1910\n",
      "Agent 2352 has eaten 6 sugar from sugar 2049\n",
      "Agent 2359 has eaten 6 sugar from sugar 1261\n",
      "Agent 2318 has eaten 3.0 sugar from sugar 167\n",
      "Agent 2345 has eaten 6 sugar from sugar 94\n",
      "Agent 2299 has eaten 6 sugar from sugar 514\n",
      "Agent 2370 has eaten 6 sugar from sugar 84\n",
      "Agent 2322 has eaten 6 sugar from sugar 584\n",
      "Agent 2369 has eaten 6 sugar from sugar 2167\n",
      "Agent 2350 has eaten 5.0 sugar from sugar 670\n",
      "Agent 2324 has eaten 5.0 sugar from sugar 1174\n",
      "Agent 2354 has eaten 6 sugar from sugar 2095\n",
      "Agent 2316 has eaten 6 sugar from sugar 302\n",
      "Agent 2383 has eaten 6 sugar from sugar 1315\n",
      "Agent 2381 has eaten 6 sugar from sugar 116\n",
      "Agent 2297 has eaten 6 sugar from sugar 277\n",
      "Agent 2325 has eaten 4.0 sugar from sugar 161\n",
      "Agent 2308 has eaten 6 sugar from sugar 916\n",
      "Agent 2341 has eaten 6 sugar from sugar 2238\n",
      "Agent 2373 has eaten 6.0 sugar from sugar 1843\n",
      "Agent 2380 has eaten 6 sugar from sugar 251\n",
      "Agent 2339 has eaten 5.0 sugar from sugar 442\n",
      "181\n"
     ]
    },
    {
     "name": "stderr",
     "output_type": "stream",
     "text": [
      "C:\\Users\\DELL\\AppData\\Local\\Temp\\ipykernel_13528\\3195471959.py:147: DeprecationWarning: Because of the shift to using AgentSet, in the future this attribute will return a dict withtype as key as AgentSet as value. Future behavior is available via RandomActivationByType._agents_by_type\n",
      "  for sugar_agent in self.schedule.agents_by_type[Sugar].values():\n",
      "C:\\Users\\DELL\\AppData\\Local\\Temp\\ipykernel_13528\\3195471959.py:139: DeprecationWarning: Because of the shift to using AgentSet, in the future this attribute will return a dict withtype as key as AgentSet as value. Future behavior is available via RandomActivationByType._agents_by_type\n",
      "  corrupt_agents_shuffle = list(self.schedule.agents_by_type[Corrupt_agent].values())\n",
      "C:\\Users\\DELL\\AppData\\Local\\Temp\\ipykernel_13528\\3195471959.py:92: DeprecationWarning: Because of the shift to using AgentSet, in the future this attribute will return a dict withtype as key as AgentSet as value. Future behavior is available via RandomActivationByType._agents_by_type\n",
      "  agents = [agent for agent in self.schedule.agents_by_type[Corrupt_agent].values()]\n"
     ]
    },
    {
     "name": "stdout",
     "output_type": "stream",
     "text": [
      "182\n"
     ]
    },
    {
     "name": "stderr",
     "output_type": "stream",
     "text": [
      "C:\\Users\\DELL\\AppData\\Local\\Temp\\ipykernel_13528\\3195471959.py:147: DeprecationWarning: Because of the shift to using AgentSet, in the future this attribute will return a dict withtype as key as AgentSet as value. Future behavior is available via RandomActivationByType._agents_by_type\n",
      "  for sugar_agent in self.schedule.agents_by_type[Sugar].values():\n",
      "C:\\Users\\DELL\\AppData\\Local\\Temp\\ipykernel_13528\\3195471959.py:139: DeprecationWarning: Because of the shift to using AgentSet, in the future this attribute will return a dict withtype as key as AgentSet as value. Future behavior is available via RandomActivationByType._agents_by_type\n",
      "  corrupt_agents_shuffle = list(self.schedule.agents_by_type[Corrupt_agent].values())\n",
      "C:\\Users\\DELL\\AppData\\Local\\Temp\\ipykernel_13528\\3195471959.py:92: DeprecationWarning: Because of the shift to using AgentSet, in the future this attribute will return a dict withtype as key as AgentSet as value. Future behavior is available via RandomActivationByType._agents_by_type\n",
      "  agents = [agent for agent in self.schedule.agents_by_type[Corrupt_agent].values()]\n"
     ]
    },
    {
     "name": "stdout",
     "output_type": "stream",
     "text": [
      "Agent 2299 stole 10 resources from Agent 2319.\n",
      "Agent 2354 stole 8.0 resources from Agent 2352.\n",
      "Agent 2297 stole 2.0 resources from Agent 2315.\n",
      "Agent 2325 stole 6.0 resources from Agent 2380.\n",
      "Agent 2325 stole 4.0 resources from Agent 2381.\n",
      "Agent 2316 stole 9.0 resources from Agent 2325.\n",
      "Agent 2316 stole 4.0 resources from Agent 2381.\n",
      "Agent 2381 stole 0.0 resources from Agent 2318.\n",
      "Agent 2381 stole 7.0 resources from Agent 2325.\n",
      "183\n"
     ]
    },
    {
     "name": "stderr",
     "output_type": "stream",
     "text": [
      "C:\\Users\\DELL\\AppData\\Local\\Temp\\ipykernel_13528\\3195471959.py:147: DeprecationWarning: Because of the shift to using AgentSet, in the future this attribute will return a dict withtype as key as AgentSet as value. Future behavior is available via RandomActivationByType._agents_by_type\n",
      "  for sugar_agent in self.schedule.agents_by_type[Sugar].values():\n",
      "C:\\Users\\DELL\\AppData\\Local\\Temp\\ipykernel_13528\\3195471959.py:139: DeprecationWarning: Because of the shift to using AgentSet, in the future this attribute will return a dict withtype as key as AgentSet as value. Future behavior is available via RandomActivationByType._agents_by_type\n",
      "  corrupt_agents_shuffle = list(self.schedule.agents_by_type[Corrupt_agent].values())\n",
      "C:\\Users\\DELL\\AppData\\Local\\Temp\\ipykernel_13528\\3195471959.py:92: DeprecationWarning: Because of the shift to using AgentSet, in the future this attribute will return a dict withtype as key as AgentSet as value. Future behavior is available via RandomActivationByType._agents_by_type\n",
      "  agents = [agent for agent in self.schedule.agents_by_type[Corrupt_agent].values()]\n"
     ]
    },
    {
     "name": "stdout",
     "output_type": "stream",
     "text": [
      "Agent 2370 has eaten 6 sugar from sugar 84\n",
      "Agent 2374 has eaten 6 sugar from sugar 1253\n",
      "Agent 2297 has eaten 6 sugar from sugar 277\n",
      "Agent 2369 has eaten 6 sugar from sugar 2167\n",
      "Agent 2318 has eaten 3.0 sugar from sugar 167\n",
      "Agent 2383 has eaten 6 sugar from sugar 1315\n",
      "Agent 2315 has eaten 1.0 sugar from sugar 365\n",
      "Agent 2373 has eaten 6.0 sugar from sugar 1843\n",
      "Agent 2352 has eaten 6 sugar from sugar 2049\n",
      "Agent 2336 has eaten 6 sugar from sugar 1910\n",
      "Agent 2350 has eaten 5.0 sugar from sugar 670\n",
      "Agent 2334 has eaten 6 sugar from sugar 1688\n",
      "Agent 2324 has eaten 5.0 sugar from sugar 1174\n",
      "Agent 2319 has eaten 6 sugar from sugar 700\n",
      "Agent 2381 has eaten 6 sugar from sugar 116\n",
      "Agent 2308 has eaten 6 sugar from sugar 916\n",
      "Agent 2367 has eaten 6 sugar from sugar 1080\n",
      "Agent 2299 has eaten 6 sugar from sugar 514\n",
      "Agent 2307 has eaten 6 sugar from sugar 1089\n",
      "Agent 2380 has eaten 6 sugar from sugar 251\n",
      "Agent 2325 has eaten 4.0 sugar from sugar 161\n",
      "Agent 2354 has eaten 6 sugar from sugar 2095\n",
      "Agent 2359 has eaten 6 sugar from sugar 1261\n",
      "Agent 2316 has eaten 6 sugar from sugar 302\n",
      "Agent 2339 has eaten 5.0 sugar from sugar 442\n",
      "Agent 2356 has eaten 4.0 sugar from sugar 60\n",
      "Agent 2345 has eaten 6 sugar from sugar 94\n",
      "Agent 2341 has eaten 6 sugar from sugar 2238\n",
      "Agent 2322 has eaten 6 sugar from sugar 584\n",
      "184\n"
     ]
    },
    {
     "name": "stderr",
     "output_type": "stream",
     "text": [
      "C:\\Users\\DELL\\AppData\\Local\\Temp\\ipykernel_13528\\3195471959.py:147: DeprecationWarning: Because of the shift to using AgentSet, in the future this attribute will return a dict withtype as key as AgentSet as value. Future behavior is available via RandomActivationByType._agents_by_type\n",
      "  for sugar_agent in self.schedule.agents_by_type[Sugar].values():\n",
      "C:\\Users\\DELL\\AppData\\Local\\Temp\\ipykernel_13528\\3195471959.py:139: DeprecationWarning: Because of the shift to using AgentSet, in the future this attribute will return a dict withtype as key as AgentSet as value. Future behavior is available via RandomActivationByType._agents_by_type\n",
      "  corrupt_agents_shuffle = list(self.schedule.agents_by_type[Corrupt_agent].values())\n",
      "C:\\Users\\DELL\\AppData\\Local\\Temp\\ipykernel_13528\\3195471959.py:92: DeprecationWarning: Because of the shift to using AgentSet, in the future this attribute will return a dict withtype as key as AgentSet as value. Future behavior is available via RandomActivationByType._agents_by_type\n",
      "  agents = [agent for agent in self.schedule.agents_by_type[Corrupt_agent].values()]\n"
     ]
    },
    {
     "name": "stdout",
     "output_type": "stream",
     "text": [
      "Agent 2359 with 66.0 has shared 9.0 with 2324 with 86.0\n",
      "185\n"
     ]
    },
    {
     "name": "stderr",
     "output_type": "stream",
     "text": [
      "C:\\Users\\DELL\\AppData\\Local\\Temp\\ipykernel_13528\\3195471959.py:147: DeprecationWarning: Because of the shift to using AgentSet, in the future this attribute will return a dict withtype as key as AgentSet as value. Future behavior is available via RandomActivationByType._agents_by_type\n",
      "  for sugar_agent in self.schedule.agents_by_type[Sugar].values():\n",
      "C:\\Users\\DELL\\AppData\\Local\\Temp\\ipykernel_13528\\3195471959.py:139: DeprecationWarning: Because of the shift to using AgentSet, in the future this attribute will return a dict withtype as key as AgentSet as value. Future behavior is available via RandomActivationByType._agents_by_type\n",
      "  corrupt_agents_shuffle = list(self.schedule.agents_by_type[Corrupt_agent].values())\n",
      "C:\\Users\\DELL\\AppData\\Local\\Temp\\ipykernel_13528\\3195471959.py:92: DeprecationWarning: Because of the shift to using AgentSet, in the future this attribute will return a dict withtype as key as AgentSet as value. Future behavior is available via RandomActivationByType._agents_by_type\n",
      "  agents = [agent for agent in self.schedule.agents_by_type[Corrupt_agent].values()]\n"
     ]
    },
    {
     "name": "stdout",
     "output_type": "stream",
     "text": [
      "Agent 2319 stole 5.0 resources from Agent 2299.\n",
      "Agent 2315 stole 10.0 resources from Agent 2297.\n",
      "Agent 2381 stole 7.0 resources from Agent 2325.\n",
      "Agent 2381 stole 10 resources from Agent 2316.\n",
      "Agent 2381 stole 0.0 resources from Agent 2318.\n",
      "Agent 2381 stole 5.0 resources from Agent 2380.\n",
      "Agent 2297 stole 3.0 resources from Agent 2315.\n",
      "Agent 2325 stole 10 resources from Agent 2316.\n",
      "Agent 2325 stole 6.0 resources from Agent 2381.\n",
      "Agent 2325 stole 5.0 resources from Agent 2380.\n",
      "Agent 2316 stole 8.0 resources from Agent 2325.\n",
      "Agent 2316 stole 6.0 resources from Agent 2381.\n",
      "Agent 2316 stole 4.0 resources from Agent 2380.\n",
      "Agent 2316 stole 10.0 resources from Agent 2339.\n",
      "186\n"
     ]
    },
    {
     "name": "stderr",
     "output_type": "stream",
     "text": [
      "C:\\Users\\DELL\\AppData\\Local\\Temp\\ipykernel_13528\\3195471959.py:147: DeprecationWarning: Because of the shift to using AgentSet, in the future this attribute will return a dict withtype as key as AgentSet as value. Future behavior is available via RandomActivationByType._agents_by_type\n",
      "  for sugar_agent in self.schedule.agents_by_type[Sugar].values():\n",
      "C:\\Users\\DELL\\AppData\\Local\\Temp\\ipykernel_13528\\3195471959.py:139: DeprecationWarning: Because of the shift to using AgentSet, in the future this attribute will return a dict withtype as key as AgentSet as value. Future behavior is available via RandomActivationByType._agents_by_type\n",
      "  corrupt_agents_shuffle = list(self.schedule.agents_by_type[Corrupt_agent].values())\n",
      "C:\\Users\\DELL\\AppData\\Local\\Temp\\ipykernel_13528\\3195471959.py:92: DeprecationWarning: Because of the shift to using AgentSet, in the future this attribute will return a dict withtype as key as AgentSet as value. Future behavior is available via RandomActivationByType._agents_by_type\n",
      "  agents = [agent for agent in self.schedule.agents_by_type[Corrupt_agent].values()]\n"
     ]
    },
    {
     "name": "stdout",
     "output_type": "stream",
     "text": [
      "Agent 2336 has eaten 6 sugar from sugar 1910\n",
      "Agent 2318 has eaten 3.0 sugar from sugar 167\n",
      "Agent 2350 has eaten 5.0 sugar from sugar 670\n",
      "Agent 2319 has eaten 6 sugar from sugar 700\n",
      "Agent 2316 has eaten 6 sugar from sugar 302\n",
      "Agent 2299 has eaten 6 sugar from sugar 514\n",
      "Agent 2356 has eaten 4.0 sugar from sugar 60\n",
      "Agent 2369 has eaten 6 sugar from sugar 2167\n",
      "Agent 2359 has eaten 6 sugar from sugar 1261\n",
      "Agent 2324 has eaten 5.0 sugar from sugar 1174\n",
      "Agent 2339 has eaten 5.0 sugar from sugar 442\n",
      "Agent 2307 has eaten 6 sugar from sugar 1089\n",
      "Agent 2380 has eaten 6 sugar from sugar 251\n",
      "Agent 2352 has eaten 6 sugar from sugar 2049\n",
      "Agent 2373 has eaten 6.0 sugar from sugar 1843\n",
      "Agent 2297 has eaten 6 sugar from sugar 277\n",
      "Agent 2370 has eaten 6 sugar from sugar 84\n",
      "Agent 2341 has eaten 6 sugar from sugar 2238\n",
      "Agent 2315 has eaten 1.0 sugar from sugar 365\n",
      "Agent 2325 has eaten 4.0 sugar from sugar 161\n",
      "Agent 2308 has eaten 6 sugar from sugar 916\n",
      "Agent 2345 has eaten 6 sugar from sugar 94\n",
      "Agent 2354 has eaten 6 sugar from sugar 2095\n",
      "Agent 2381 has eaten 6 sugar from sugar 116\n",
      "Agent 2367 has eaten 6 sugar from sugar 1080\n",
      "Agent 2383 has eaten 6 sugar from sugar 1315\n",
      "Agent 2374 has eaten 6 sugar from sugar 1253\n",
      "Agent 2334 has eaten 6 sugar from sugar 1688\n",
      "Agent 2322 has eaten 6 sugar from sugar 584\n",
      "187\n"
     ]
    },
    {
     "name": "stderr",
     "output_type": "stream",
     "text": [
      "C:\\Users\\DELL\\AppData\\Local\\Temp\\ipykernel_13528\\3195471959.py:147: DeprecationWarning: Because of the shift to using AgentSet, in the future this attribute will return a dict withtype as key as AgentSet as value. Future behavior is available via RandomActivationByType._agents_by_type\n",
      "  for sugar_agent in self.schedule.agents_by_type[Sugar].values():\n",
      "C:\\Users\\DELL\\AppData\\Local\\Temp\\ipykernel_13528\\3195471959.py:139: DeprecationWarning: Because of the shift to using AgentSet, in the future this attribute will return a dict withtype as key as AgentSet as value. Future behavior is available via RandomActivationByType._agents_by_type\n",
      "  corrupt_agents_shuffle = list(self.schedule.agents_by_type[Corrupt_agent].values())\n",
      "C:\\Users\\DELL\\AppData\\Local\\Temp\\ipykernel_13528\\3195471959.py:92: DeprecationWarning: Because of the shift to using AgentSet, in the future this attribute will return a dict withtype as key as AgentSet as value. Future behavior is available via RandomActivationByType._agents_by_type\n",
      "  agents = [agent for agent in self.schedule.agents_by_type[Corrupt_agent].values()]\n"
     ]
    },
    {
     "name": "stdout",
     "output_type": "stream",
     "text": [
      "Agent 2381 with 38.0 has shared 5.0 with 2380 with 41.0\n",
      "188\n"
     ]
    },
    {
     "name": "stderr",
     "output_type": "stream",
     "text": [
      "C:\\Users\\DELL\\AppData\\Local\\Temp\\ipykernel_13528\\3195471959.py:147: DeprecationWarning: Because of the shift to using AgentSet, in the future this attribute will return a dict withtype as key as AgentSet as value. Future behavior is available via RandomActivationByType._agents_by_type\n",
      "  for sugar_agent in self.schedule.agents_by_type[Sugar].values():\n",
      "C:\\Users\\DELL\\AppData\\Local\\Temp\\ipykernel_13528\\3195471959.py:139: DeprecationWarning: Because of the shift to using AgentSet, in the future this attribute will return a dict withtype as key as AgentSet as value. Future behavior is available via RandomActivationByType._agents_by_type\n",
      "  corrupt_agents_shuffle = list(self.schedule.agents_by_type[Corrupt_agent].values())\n",
      "C:\\Users\\DELL\\AppData\\Local\\Temp\\ipykernel_13528\\3195471959.py:92: DeprecationWarning: Because of the shift to using AgentSet, in the future this attribute will return a dict withtype as key as AgentSet as value. Future behavior is available via RandomActivationByType._agents_by_type\n",
      "  agents = [agent for agent in self.schedule.agents_by_type[Corrupt_agent].values()]\n"
     ]
    },
    {
     "name": "stdout",
     "output_type": "stream",
     "text": [
      "Agent 2325 stole 4.0 resources from Agent 2381.\n",
      "Agent 2380 stole 8.0 resources from Agent 2325.\n",
      "Agent 2381 stole 7.0 resources from Agent 2325.\n",
      "Agent 2359 stole 10.0 resources from Agent 2324.\n",
      "Agent 2319 stole 5.0 resources from Agent 2299.\n",
      "Agent 2297 stole 2.0 resources from Agent 2315.\n",
      "Agent 2316 stole 4.0 resources from Agent 2381.\n",
      "189\n"
     ]
    },
    {
     "name": "stderr",
     "output_type": "stream",
     "text": [
      "C:\\Users\\DELL\\AppData\\Local\\Temp\\ipykernel_13528\\3195471959.py:147: DeprecationWarning: Because of the shift to using AgentSet, in the future this attribute will return a dict withtype as key as AgentSet as value. Future behavior is available via RandomActivationByType._agents_by_type\n",
      "  for sugar_agent in self.schedule.agents_by_type[Sugar].values():\n",
      "C:\\Users\\DELL\\AppData\\Local\\Temp\\ipykernel_13528\\3195471959.py:139: DeprecationWarning: Because of the shift to using AgentSet, in the future this attribute will return a dict withtype as key as AgentSet as value. Future behavior is available via RandomActivationByType._agents_by_type\n",
      "  corrupt_agents_shuffle = list(self.schedule.agents_by_type[Corrupt_agent].values())\n",
      "C:\\Users\\DELL\\AppData\\Local\\Temp\\ipykernel_13528\\3195471959.py:92: DeprecationWarning: Because of the shift to using AgentSet, in the future this attribute will return a dict withtype as key as AgentSet as value. Future behavior is available via RandomActivationByType._agents_by_type\n",
      "  agents = [agent for agent in self.schedule.agents_by_type[Corrupt_agent].values()]\n"
     ]
    },
    {
     "name": "stdout",
     "output_type": "stream",
     "text": [
      "Agent 2316 has eaten 6 sugar from sugar 302\n",
      "Agent 2334 has eaten 6 sugar from sugar 1688\n",
      "Agent 2345 has eaten 6 sugar from sugar 94\n",
      "Agent 2324 has eaten 5.0 sugar from sugar 1174\n",
      "Agent 2380 has eaten 6 sugar from sugar 251\n",
      "Agent 2308 has eaten 6 sugar from sugar 916\n",
      "Agent 2336 has eaten 6 sugar from sugar 1910\n",
      "Agent 2341 has eaten 6 sugar from sugar 2238\n",
      "Agent 2352 has eaten 6 sugar from sugar 2049\n",
      "Agent 2373 has eaten 6.0 sugar from sugar 1843\n",
      "Agent 2359 has eaten 6 sugar from sugar 1261\n",
      "Agent 2356 has eaten 4.0 sugar from sugar 60\n",
      "Agent 2325 has eaten 4.0 sugar from sugar 161\n",
      "Agent 2369 has eaten 6 sugar from sugar 2167\n",
      "Agent 2339 has eaten 5.0 sugar from sugar 442\n",
      "Agent 2297 has eaten 6 sugar from sugar 277\n",
      "Agent 2350 has eaten 5.0 sugar from sugar 670\n",
      "Agent 2367 has eaten 6 sugar from sugar 1080\n",
      "Agent 2319 has eaten 6 sugar from sugar 700\n",
      "Agent 2381 has eaten 6 sugar from sugar 116\n",
      "Agent 2370 has eaten 6 sugar from sugar 84\n",
      "Agent 2383 has eaten 6 sugar from sugar 1315\n",
      "Agent 2374 has eaten 6 sugar from sugar 1253\n",
      "Agent 2354 has eaten 6 sugar from sugar 2095\n",
      "Agent 2322 has eaten 6 sugar from sugar 584\n",
      "Agent 2315 has eaten 1.0 sugar from sugar 365\n",
      "Agent 2307 has eaten 6 sugar from sugar 1089\n",
      "Agent 2299 has eaten 6 sugar from sugar 514\n",
      "Agent 2318 has eaten 3.0 sugar from sugar 167\n",
      "190\n"
     ]
    },
    {
     "name": "stderr",
     "output_type": "stream",
     "text": [
      "C:\\Users\\DELL\\AppData\\Local\\Temp\\ipykernel_13528\\3195471959.py:147: DeprecationWarning: Because of the shift to using AgentSet, in the future this attribute will return a dict withtype as key as AgentSet as value. Future behavior is available via RandomActivationByType._agents_by_type\n",
      "  for sugar_agent in self.schedule.agents_by_type[Sugar].values():\n",
      "C:\\Users\\DELL\\AppData\\Local\\Temp\\ipykernel_13528\\3195471959.py:139: DeprecationWarning: Because of the shift to using AgentSet, in the future this attribute will return a dict withtype as key as AgentSet as value. Future behavior is available via RandomActivationByType._agents_by_type\n",
      "  corrupt_agents_shuffle = list(self.schedule.agents_by_type[Corrupt_agent].values())\n",
      "C:\\Users\\DELL\\AppData\\Local\\Temp\\ipykernel_13528\\3195471959.py:92: DeprecationWarning: Because of the shift to using AgentSet, in the future this attribute will return a dict withtype as key as AgentSet as value. Future behavior is available via RandomActivationByType._agents_by_type\n",
      "  agents = [agent for agent in self.schedule.agents_by_type[Corrupt_agent].values()]\n"
     ]
    },
    {
     "name": "stdout",
     "output_type": "stream",
     "text": [
      "Agent 2325 with 49.0 has shared 6.0 with 2380 with 58.0\n",
      "191\n"
     ]
    },
    {
     "name": "stderr",
     "output_type": "stream",
     "text": [
      "C:\\Users\\DELL\\AppData\\Local\\Temp\\ipykernel_13528\\3195471959.py:147: DeprecationWarning: Because of the shift to using AgentSet, in the future this attribute will return a dict withtype as key as AgentSet as value. Future behavior is available via RandomActivationByType._agents_by_type\n",
      "  for sugar_agent in self.schedule.agents_by_type[Sugar].values():\n",
      "C:\\Users\\DELL\\AppData\\Local\\Temp\\ipykernel_13528\\3195471959.py:139: DeprecationWarning: Because of the shift to using AgentSet, in the future this attribute will return a dict withtype as key as AgentSet as value. Future behavior is available via RandomActivationByType._agents_by_type\n",
      "  corrupt_agents_shuffle = list(self.schedule.agents_by_type[Corrupt_agent].values())\n",
      "C:\\Users\\DELL\\AppData\\Local\\Temp\\ipykernel_13528\\3195471959.py:92: DeprecationWarning: Because of the shift to using AgentSet, in the future this attribute will return a dict withtype as key as AgentSet as value. Future behavior is available via RandomActivationByType._agents_by_type\n",
      "  agents = [agent for agent in self.schedule.agents_by_type[Corrupt_agent].values()]\n"
     ]
    },
    {
     "name": "stdout",
     "output_type": "stream",
     "text": [
      "Agent 2354 stole 8.0 resources from Agent 2352.\n",
      "Agent 2319 stole 4.0 resources from Agent 2299.\n",
      "Agent 2316 stole 3.0 resources from Agent 2381.\n",
      "Agent 2325 stole 10 resources from Agent 2316.\n",
      "Agent 2325 stole 3.0 resources from Agent 2381.\n",
      "Agent 2352 stole 10 resources from Agent 2354.\n",
      "Agent 2381 stole 7.0 resources from Agent 2325.\n",
      "Agent 2381 stole 10 resources from Agent 2316.\n",
      "Agent 2297 stole 1.0 resources from Agent 2315.\n",
      "192\n"
     ]
    },
    {
     "name": "stderr",
     "output_type": "stream",
     "text": [
      "C:\\Users\\DELL\\AppData\\Local\\Temp\\ipykernel_13528\\3195471959.py:147: DeprecationWarning: Because of the shift to using AgentSet, in the future this attribute will return a dict withtype as key as AgentSet as value. Future behavior is available via RandomActivationByType._agents_by_type\n",
      "  for sugar_agent in self.schedule.agents_by_type[Sugar].values():\n",
      "C:\\Users\\DELL\\AppData\\Local\\Temp\\ipykernel_13528\\3195471959.py:139: DeprecationWarning: Because of the shift to using AgentSet, in the future this attribute will return a dict withtype as key as AgentSet as value. Future behavior is available via RandomActivationByType._agents_by_type\n",
      "  corrupt_agents_shuffle = list(self.schedule.agents_by_type[Corrupt_agent].values())\n",
      "C:\\Users\\DELL\\AppData\\Local\\Temp\\ipykernel_13528\\3195471959.py:92: DeprecationWarning: Because of the shift to using AgentSet, in the future this attribute will return a dict withtype as key as AgentSet as value. Future behavior is available via RandomActivationByType._agents_by_type\n",
      "  agents = [agent for agent in self.schedule.agents_by_type[Corrupt_agent].values()]\n"
     ]
    },
    {
     "name": "stdout",
     "output_type": "stream",
     "text": [
      "Agent 2345 has eaten 6 sugar from sugar 94\n",
      "Agent 2325 has eaten 4.0 sugar from sugar 161\n",
      "Agent 2383 has eaten 6 sugar from sugar 1315\n",
      "Agent 2359 has eaten 6 sugar from sugar 1261\n",
      "Agent 2324 has eaten 5.0 sugar from sugar 1174\n",
      "Agent 2322 has eaten 6 sugar from sugar 584\n",
      "Agent 2370 has eaten 6 sugar from sugar 84\n",
      "Agent 2369 has eaten 6 sugar from sugar 2167\n",
      "Agent 2319 has eaten 6 sugar from sugar 700\n",
      "Agent 2374 has eaten 6 sugar from sugar 1253\n",
      "Agent 2350 has eaten 5.0 sugar from sugar 670\n",
      "Agent 2297 has eaten 6 sugar from sugar 277\n",
      "Agent 2381 has eaten 6 sugar from sugar 116\n",
      "Agent 2307 has eaten 6 sugar from sugar 1089\n",
      "Agent 2334 has eaten 6 sugar from sugar 1688\n",
      "Agent 2315 has eaten 1.0 sugar from sugar 365\n",
      "Agent 2352 has eaten 6 sugar from sugar 2049\n",
      "Agent 2316 has eaten 6 sugar from sugar 302\n",
      "Agent 2336 has eaten 6 sugar from sugar 1910\n",
      "Agent 2380 has eaten 6 sugar from sugar 251\n",
      "Agent 2318 has eaten 3.0 sugar from sugar 167\n",
      "Agent 2367 has eaten 6 sugar from sugar 1080\n",
      "Agent 2354 has eaten 6 sugar from sugar 2095\n",
      "Agent 2356 has eaten 4.0 sugar from sugar 60\n",
      "Agent 2339 has eaten 5.0 sugar from sugar 442\n",
      "Agent 2373 has eaten 6.0 sugar from sugar 1843\n",
      "Agent 2299 has eaten 6 sugar from sugar 514\n",
      "Agent 2341 has eaten 6 sugar from sugar 2238\n",
      "Agent 2308 has eaten 6 sugar from sugar 916\n",
      "193\n"
     ]
    },
    {
     "name": "stderr",
     "output_type": "stream",
     "text": [
      "C:\\Users\\DELL\\AppData\\Local\\Temp\\ipykernel_13528\\3195471959.py:147: DeprecationWarning: Because of the shift to using AgentSet, in the future this attribute will return a dict withtype as key as AgentSet as value. Future behavior is available via RandomActivationByType._agents_by_type\n",
      "  for sugar_agent in self.schedule.agents_by_type[Sugar].values():\n",
      "C:\\Users\\DELL\\AppData\\Local\\Temp\\ipykernel_13528\\3195471959.py:139: DeprecationWarning: Because of the shift to using AgentSet, in the future this attribute will return a dict withtype as key as AgentSet as value. Future behavior is available via RandomActivationByType._agents_by_type\n",
      "  corrupt_agents_shuffle = list(self.schedule.agents_by_type[Corrupt_agent].values())\n",
      "C:\\Users\\DELL\\AppData\\Local\\Temp\\ipykernel_13528\\3195471959.py:92: DeprecationWarning: Because of the shift to using AgentSet, in the future this attribute will return a dict withtype as key as AgentSet as value. Future behavior is available via RandomActivationByType._agents_by_type\n",
      "  agents = [agent for agent in self.schedule.agents_by_type[Corrupt_agent].values()]\n"
     ]
    },
    {
     "name": "stdout",
     "output_type": "stream",
     "text": [
      "Agent 2325 with 49.0 has shared 7.0 with 2380 with 68.0\n",
      "194\n"
     ]
    },
    {
     "name": "stderr",
     "output_type": "stream",
     "text": [
      "C:\\Users\\DELL\\AppData\\Local\\Temp\\ipykernel_13528\\3195471959.py:147: DeprecationWarning: Because of the shift to using AgentSet, in the future this attribute will return a dict withtype as key as AgentSet as value. Future behavior is available via RandomActivationByType._agents_by_type\n",
      "  for sugar_agent in self.schedule.agents_by_type[Sugar].values():\n",
      "C:\\Users\\DELL\\AppData\\Local\\Temp\\ipykernel_13528\\3195471959.py:139: DeprecationWarning: Because of the shift to using AgentSet, in the future this attribute will return a dict withtype as key as AgentSet as value. Future behavior is available via RandomActivationByType._agents_by_type\n",
      "  corrupt_agents_shuffle = list(self.schedule.agents_by_type[Corrupt_agent].values())\n",
      "C:\\Users\\DELL\\AppData\\Local\\Temp\\ipykernel_13528\\3195471959.py:92: DeprecationWarning: Because of the shift to using AgentSet, in the future this attribute will return a dict withtype as key as AgentSet as value. Future behavior is available via RandomActivationByType._agents_by_type\n",
      "  agents = [agent for agent in self.schedule.agents_by_type[Corrupt_agent].values()]\n"
     ]
    },
    {
     "name": "stdout",
     "output_type": "stream",
     "text": [
      "Agent 2381 stole 6.0 resources from Agent 2325.\n",
      "Agent 2381 stole 0.0 resources from Agent 2318.\n",
      "Agent 2352 stole 10 resources from Agent 2354.\n",
      "Agent 2315 stole 10.0 resources from Agent 2297.\n",
      "Agent 2297 stole 2.0 resources from Agent 2315.\n",
      "Agent 2316 stole 5.0 resources from Agent 2325.\n",
      "195\n"
     ]
    },
    {
     "name": "stderr",
     "output_type": "stream",
     "text": [
      "C:\\Users\\DELL\\AppData\\Local\\Temp\\ipykernel_13528\\3195471959.py:147: DeprecationWarning: Because of the shift to using AgentSet, in the future this attribute will return a dict withtype as key as AgentSet as value. Future behavior is available via RandomActivationByType._agents_by_type\n",
      "  for sugar_agent in self.schedule.agents_by_type[Sugar].values():\n",
      "C:\\Users\\DELL\\AppData\\Local\\Temp\\ipykernel_13528\\3195471959.py:139: DeprecationWarning: Because of the shift to using AgentSet, in the future this attribute will return a dict withtype as key as AgentSet as value. Future behavior is available via RandomActivationByType._agents_by_type\n",
      "  corrupt_agents_shuffle = list(self.schedule.agents_by_type[Corrupt_agent].values())\n",
      "C:\\Users\\DELL\\AppData\\Local\\Temp\\ipykernel_13528\\3195471959.py:92: DeprecationWarning: Because of the shift to using AgentSet, in the future this attribute will return a dict withtype as key as AgentSet as value. Future behavior is available via RandomActivationByType._agents_by_type\n",
      "  agents = [agent for agent in self.schedule.agents_by_type[Corrupt_agent].values()]\n"
     ]
    },
    {
     "name": "stdout",
     "output_type": "stream",
     "text": [
      "Agent 2318 has eaten 3.0 sugar from sugar 167\n",
      "Agent 2319 has eaten 6 sugar from sugar 700\n",
      "Agent 2341 has eaten 6 sugar from sugar 2238\n",
      "Agent 2370 has eaten 6 sugar from sugar 84\n",
      "Agent 2297 has eaten 6 sugar from sugar 277\n",
      "Agent 2345 has eaten 6 sugar from sugar 94\n",
      "Agent 2334 has eaten 6 sugar from sugar 1688\n",
      "Agent 2325 has eaten 4.0 sugar from sugar 161\n",
      "Agent 2374 has eaten 6 sugar from sugar 1253\n",
      "Agent 2336 has eaten 6 sugar from sugar 1910\n",
      "Agent 2367 has eaten 6 sugar from sugar 1080\n",
      "Agent 2315 has eaten 1.0 sugar from sugar 365\n",
      "Agent 2383 has eaten 6 sugar from sugar 1315\n",
      "Agent 2339 has eaten 5.0 sugar from sugar 442\n",
      "Agent 2359 has eaten 6 sugar from sugar 1261\n",
      "Agent 2299 has eaten 6 sugar from sugar 514\n",
      "Agent 2356 has eaten 4.0 sugar from sugar 60\n",
      "Agent 2307 has eaten 6 sugar from sugar 1089\n",
      "Agent 2350 has eaten 5.0 sugar from sugar 670\n",
      "Agent 2369 has eaten 6 sugar from sugar 2167\n",
      "Agent 2352 has eaten 6 sugar from sugar 2049\n",
      "Agent 2381 has eaten 6 sugar from sugar 116\n",
      "Agent 2316 has eaten 6 sugar from sugar 302\n",
      "Agent 2380 has eaten 6 sugar from sugar 251\n",
      "Agent 2373 has eaten 6.0 sugar from sugar 1843\n",
      "Agent 2308 has eaten 6 sugar from sugar 916\n",
      "Agent 2324 has eaten 5.0 sugar from sugar 1174\n",
      "Agent 2354 has eaten 6 sugar from sugar 2095\n",
      "Agent 2322 has eaten 6 sugar from sugar 584\n",
      "196\n"
     ]
    },
    {
     "name": "stderr",
     "output_type": "stream",
     "text": [
      "C:\\Users\\DELL\\AppData\\Local\\Temp\\ipykernel_13528\\3195471959.py:147: DeprecationWarning: Because of the shift to using AgentSet, in the future this attribute will return a dict withtype as key as AgentSet as value. Future behavior is available via RandomActivationByType._agents_by_type\n",
      "  for sugar_agent in self.schedule.agents_by_type[Sugar].values():\n",
      "C:\\Users\\DELL\\AppData\\Local\\Temp\\ipykernel_13528\\3195471959.py:139: DeprecationWarning: Because of the shift to using AgentSet, in the future this attribute will return a dict withtype as key as AgentSet as value. Future behavior is available via RandomActivationByType._agents_by_type\n",
      "  corrupt_agents_shuffle = list(self.schedule.agents_by_type[Corrupt_agent].values())\n",
      "C:\\Users\\DELL\\AppData\\Local\\Temp\\ipykernel_13528\\3195471959.py:92: DeprecationWarning: Because of the shift to using AgentSet, in the future this attribute will return a dict withtype as key as AgentSet as value. Future behavior is available via RandomActivationByType._agents_by_type\n",
      "  agents = [agent for agent in self.schedule.agents_by_type[Corrupt_agent].values()]\n"
     ]
    },
    {
     "name": "stdout",
     "output_type": "stream",
     "text": [
      "Agent 2381 with 40.0 has shared 5.0 with 2325 with 44.0\n",
      "197\n"
     ]
    },
    {
     "name": "stderr",
     "output_type": "stream",
     "text": [
      "C:\\Users\\DELL\\AppData\\Local\\Temp\\ipykernel_13528\\3195471959.py:147: DeprecationWarning: Because of the shift to using AgentSet, in the future this attribute will return a dict withtype as key as AgentSet as value. Future behavior is available via RandomActivationByType._agents_by_type\n",
      "  for sugar_agent in self.schedule.agents_by_type[Sugar].values():\n",
      "C:\\Users\\DELL\\AppData\\Local\\Temp\\ipykernel_13528\\3195471959.py:139: DeprecationWarning: Because of the shift to using AgentSet, in the future this attribute will return a dict withtype as key as AgentSet as value. Future behavior is available via RandomActivationByType._agents_by_type\n",
      "  corrupt_agents_shuffle = list(self.schedule.agents_by_type[Corrupt_agent].values())\n",
      "C:\\Users\\DELL\\AppData\\Local\\Temp\\ipykernel_13528\\3195471959.py:92: DeprecationWarning: Because of the shift to using AgentSet, in the future this attribute will return a dict withtype as key as AgentSet as value. Future behavior is available via RandomActivationByType._agents_by_type\n",
      "  agents = [agent for agent in self.schedule.agents_by_type[Corrupt_agent].values()]\n"
     ]
    },
    {
     "name": "stdout",
     "output_type": "stream",
     "text": [
      "Agent 2315 stole 10.0 resources from Agent 2297.\n",
      "Agent 2352 stole 10 resources from Agent 2354.\n",
      "Agent 2381 stole 5.0 resources from Agent 2325.\n",
      "Agent 2381 stole 0.0 resources from Agent 2318.\n",
      "Agent 2381 stole 10 resources from Agent 2316.\n",
      "Agent 2316 stole 6.0 resources from Agent 2381.\n",
      "Agent 2316 stole 8.0 resources from Agent 2380.\n",
      "Agent 2325 stole 5.0 resources from Agent 2381.\n",
      "Agent 2325 stole 7.0 resources from Agent 2380.\n",
      "198\n"
     ]
    },
    {
     "name": "stderr",
     "output_type": "stream",
     "text": [
      "C:\\Users\\DELL\\AppData\\Local\\Temp\\ipykernel_13528\\3195471959.py:147: DeprecationWarning: Because of the shift to using AgentSet, in the future this attribute will return a dict withtype as key as AgentSet as value. Future behavior is available via RandomActivationByType._agents_by_type\n",
      "  for sugar_agent in self.schedule.agents_by_type[Sugar].values():\n",
      "C:\\Users\\DELL\\AppData\\Local\\Temp\\ipykernel_13528\\3195471959.py:139: DeprecationWarning: Because of the shift to using AgentSet, in the future this attribute will return a dict withtype as key as AgentSet as value. Future behavior is available via RandomActivationByType._agents_by_type\n",
      "  corrupt_agents_shuffle = list(self.schedule.agents_by_type[Corrupt_agent].values())\n",
      "C:\\Users\\DELL\\AppData\\Local\\Temp\\ipykernel_13528\\3195471959.py:92: DeprecationWarning: Because of the shift to using AgentSet, in the future this attribute will return a dict withtype as key as AgentSet as value. Future behavior is available via RandomActivationByType._agents_by_type\n",
      "  agents = [agent for agent in self.schedule.agents_by_type[Corrupt_agent].values()]\n"
     ]
    },
    {
     "name": "stdout",
     "output_type": "stream",
     "text": [
      "Agent 2367 has eaten 6 sugar from sugar 1080\n",
      "Agent 2380 has eaten 6 sugar from sugar 251\n",
      "Agent 2297 has eaten 6 sugar from sugar 277\n",
      "Agent 2319 has eaten 6 sugar from sugar 700\n",
      "Agent 2318 has eaten 3.0 sugar from sugar 167\n",
      "Agent 2334 has eaten 6 sugar from sugar 1688\n",
      "Agent 2354 has eaten 6 sugar from sugar 2095\n",
      "Agent 2356 has eaten 4.0 sugar from sugar 60\n",
      "Agent 2345 has eaten 6 sugar from sugar 94\n",
      "Agent 2359 has eaten 6 sugar from sugar 1261\n",
      "Agent 2370 has eaten 6 sugar from sugar 84\n",
      "Agent 2325 has eaten 4.0 sugar from sugar 161\n",
      "Agent 2336 has eaten 6 sugar from sugar 1910\n",
      "Agent 2369 has eaten 6 sugar from sugar 2167\n",
      "Agent 2315 has eaten 1.0 sugar from sugar 365\n",
      "Agent 2324 has eaten 5.0 sugar from sugar 1174\n",
      "Agent 2383 has eaten 6 sugar from sugar 1315\n",
      "Agent 2374 has eaten 6 sugar from sugar 1253\n",
      "Agent 2341 has eaten 6 sugar from sugar 2238\n",
      "Agent 2373 has eaten 6.0 sugar from sugar 1843\n",
      "Agent 2381 has eaten 6 sugar from sugar 116\n",
      "Agent 2316 has eaten 6 sugar from sugar 302\n",
      "Agent 2339 has eaten 5.0 sugar from sugar 442\n",
      "Agent 2299 has eaten 6 sugar from sugar 514\n",
      "Agent 2308 has eaten 6 sugar from sugar 916\n",
      "Agent 2307 has eaten 6 sugar from sugar 1089\n",
      "Agent 2352 has eaten 6 sugar from sugar 2049\n",
      "Agent 2350 has eaten 5.0 sugar from sugar 670\n",
      "Agent 2322 has eaten 6 sugar from sugar 584\n",
      "199\n"
     ]
    },
    {
     "name": "stderr",
     "output_type": "stream",
     "text": [
      "C:\\Users\\DELL\\AppData\\Local\\Temp\\ipykernel_13528\\3195471959.py:147: DeprecationWarning: Because of the shift to using AgentSet, in the future this attribute will return a dict withtype as key as AgentSet as value. Future behavior is available via RandomActivationByType._agents_by_type\n",
      "  for sugar_agent in self.schedule.agents_by_type[Sugar].values():\n",
      "C:\\Users\\DELL\\AppData\\Local\\Temp\\ipykernel_13528\\3195471959.py:139: DeprecationWarning: Because of the shift to using AgentSet, in the future this attribute will return a dict withtype as key as AgentSet as value. Future behavior is available via RandomActivationByType._agents_by_type\n",
      "  corrupt_agents_shuffle = list(self.schedule.agents_by_type[Corrupt_agent].values())\n",
      "C:\\Users\\DELL\\AppData\\Local\\Temp\\ipykernel_13528\\3195471959.py:92: DeprecationWarning: Because of the shift to using AgentSet, in the future this attribute will return a dict withtype as key as AgentSet as value. Future behavior is available via RandomActivationByType._agents_by_type\n",
      "  agents = [agent for agent in self.schedule.agents_by_type[Corrupt_agent].values()]\n"
     ]
    },
    {
     "name": "stdout",
     "output_type": "stream",
     "text": [
      "200\n",
      "Final number of dead corrupt agents: 71\n"
     ]
    }
   ],
   "source": [
    "model1 = Model(seed=global_seed)\n",
    "results = model1.run_model(200)"
   ]
  },
  {
   "cell_type": "code",
   "execution_count": 15,
   "id": "de321211",
   "metadata": {},
   "outputs": [],
   "source": [
    "# Check the unique steps available in the data\n",
    "agent_data = model1.datacollector.get_agent_vars_dataframe()\n",
    "model_data = model1.datacollector.get_model_vars_dataframe()\n",
    "#available_steps = agent_data.index.get_level_values('Step').unique()\n",
    "#print(\"Available steps:\", available_steps)\n",
    "#print(agent_data[[\"Wealth\"]])"
   ]
  },
  {
   "cell_type": "markdown",
   "id": "cc06ce55",
   "metadata": {},
   "source": [
    "# Plots"
   ]
  },
  {
   "cell_type": "markdown",
   "id": "c77702fe-d984-4709-a2a5-c8e6ea40df45",
   "metadata": {},
   "source": [
    "Average wealth"
   ]
  },
  {
   "cell_type": "code",
   "execution_count": 16,
   "id": "4d7fbfc0-bfc3-4560-bc17-5d9b721e3f96",
   "metadata": {},
   "outputs": [
    {
     "data": {
      "image/png": "[encoded data removed]",
      "text/plain": [
       "<Figure size 1000x600 with 1 Axes>"
      ]
     },
     "metadata": {},
     "output_type": "display_data"
    }
   ],
   "source": [
    "plt.figure(figsize=(10, 6))\n",
    "plt.plot(model_data[\"Step\"], model_data[\"Average Wealth\"], label=\"Average Wealth\", color=\"blue\")\n",
    "plt.xlabel(\"Step\")\n",
    "plt.ylabel(\"Average Wealth\")\n",
    "plt.title(\"Average Wealth\")\n",
    "plt.legend()\n",
    "plt.grid(True)\n",
    "plt.show()"
   ]
  },
  {
   "cell_type": "markdown",
   "id": "01dd159b-74e1-4439-8f58-748d5f3a0a42",
   "metadata": {},
   "source": [
    "Survival plots"
   ]
  },
  {
   "cell_type": "code",
   "execution_count": 17,
   "id": "55af2022-4961-4dbd-a33f-3b006fdd83bb",
   "metadata": {},
   "outputs": [
    {
     "data": {
      "image/png": "[encoded data removed]",
      "text/plain": [
       "<Figure size 1000x600 with 1 Axes>"
      ]
     },
     "metadata": {},
     "output_type": "display_data"
    }
   ],
   "source": [
    "plt.figure(figsize=(10, 6))\n",
    "plt.plot(model_data[\"Step\"], model_data[\"Agents\"], label=\"Agents Count\", color=\"red\")\n",
    "plt.xlabel(\"Step\")\n",
    "plt.ylabel(\"Agents Count\")\n",
    "plt.title(\"Survival Rate\")\n",
    "plt.legend()\n",
    "plt.grid(True)\n",
    "plt.show()"
   ]
  },
  {
   "cell_type": "markdown",
   "id": "2430fb59-7a23-482a-8ff3-e9c883232ce9",
   "metadata": {
    "scrolled": true
   },
   "source": [
    "results = model1.run_linear_search(step_count=100, steal_amount_range=10, increment=1)\n",
    "for steal_amount, dead_agents in results:\n",
    "    print(f\"Steal Amount: {steal_amount}, Dead Corrupt Agents: {dead_agents}\")\n",
    "#results = model1.run_model(100)"
   ]
  },
  {
   "cell_type": "markdown",
   "id": "805e4b61-4b28-437d-bdd6-4417942b0407",
   "metadata": {},
   "source": [
    "Wealth Plots"
   ]
  },
  {
   "cell_type": "code",
   "execution_count": null,
   "id": "53f454c9-f14e-44a5-afb5-47ac2cd10f9c",
   "metadata": {},
   "outputs": [],
   "source": []
  },
  {
   "cell_type": "markdown",
   "id": "a4f32418-5f9d-430d-83ac-b5f7392e43db",
   "metadata": {},
   "source": [
    "# Data collection\n",
    "\n",
    "# Retrieve the data collected by the DataCollector\n",
    "agent_data = model1.datacollector.get_agent_vars_dataframe()\n",
    "mean_data = agent_data.groupby(\"Step\").mean().reset_index()\n",
    "\n",
    "#100th step data\n",
    "step_100_data = agent_data.xs(100, level=\"Step\")\n",
    "\n",
    "#GroupBy bins in blocks of 100\n",
    "bins = range(0, 210, 10)\n",
    "step_100_data.loc[:, \"Stolen Bins\"] = pd.cut(step_100_data[\"Total Stolen\"], bins=bins, right=False)\n",
    "step_100_data.loc[:, \"Eaten Bins\"] = pd.cut(step_100_data[\"Total Eaten\"], bins=bins, right=False)\n",
    "step_100_data.loc[:, \"Shared Bins\"] = pd.cut(step_100_data[\"Total Shared\"], bins=bins, right=False)\n",
    "\n",
    "grouped_stolen = step_100_data.groupby(\"Stolen Bins\")[\"Wealth\"].mean().reset_index()\n",
    "grouped_eaten = step_100_data.groupby(\"Eaten Bins\")[\"Wealth\"].mean().reset_index()\n",
    "grouped_shared = step_100_data.groupby(\"Shared Bins\")[\"Wealth\"].mean().reset_index()\n",
    "\n",
    "# Collection Efficiency vs Wealth\n",
    "plt.figure(figsize=(10, 6))\n",
    "sns.barplot(data=step_100_data, x=\"Collection Efficiency\", y=\"Wealth\")\n",
    "plt.title('Collection Efficiency vs Wealth at Step 100')\n",
    "#plt.show()\n",
    "plt.savefig(\"Plots/corrupt_efficiency.png\")\n",
    "\n",
    "# Consumption vs Wealth\n",
    "plt.figure(figsize=(10, 6))\n",
    "sns.barplot(data=step_100_data, x=\"Consumption\", y=\"Wealth\")\n",
    "plt.title('Consumption (Metabolism) vs Wealth at Step 100')\n",
    "#plt.show()\n",
    "plt.savefig(\"Plots/corrupt_consumption.png\")\n",
    "\n",
    "#Total Stolen vs Wealth\n",
    "plt.figure(figsize=(10, 6))\n",
    "sns.barplot(data=grouped_stolen, x=\"Stolen Bins\", y=\"Wealth\")\n",
    "plt.title('Wealth vs Total Stolen')\n",
    "plt.xlabel('Range Stolen')\n",
    "plt.ylabel('Mean Wealth')\n",
    "plt.xticks(rotation=45)\n",
    "plt.tight_layout()\n",
    "#plt.show()\n",
    "plt.savefig(\"Plots/corrupt_totstolen.png\")\n",
    "\n",
    "#Total eat\n",
    "plt.figure(figsize=(10, 6))\n",
    "sns.barplot(data=grouped_eaten, x=\"Eaten Bins\", y=\"Wealth\")\n",
    "plt.title('Wealth vs Total Eaten')\n",
    "plt.xlabel('Total Eaten')\n",
    "plt.ylabel('Mean Wealth')\n",
    "plt.xticks(rotation=45)\n",
    "plt.tight_layout()\n",
    "#plt.show()\n",
    "plt.savefig(\"Plots/corrupt_toteaten.png\")\n",
    "\n",
    "# Total Shared vs Wealth\n",
    "plt.figure(figsize=(10, 6))\n",
    "sns.barplot(data=grouped_shared, x=\"Shared Bins\", y=\"Wealth\")\n",
    "plt.title('Wealth vs Total Shared')\n",
    "plt.xlabel('Total Shared')\n",
    "plt.ylabel('Mean Wealth')\n",
    "plt.xticks(rotation=45)\n",
    "plt.tight_layout()\n",
    "#plt.show()\n",
    "plt.savefig(\"Plots/corrupt_totshared.png\")"
   ]
  },
  {
   "cell_type": "markdown",
   "id": "365a736a-171a-4d6a-b1ec-af3607855c09",
   "metadata": {},
   "source": [
    "Survival plots"
   ]
  },
  {
   "cell_type": "markdown",
   "id": "af86ccb9-4212-4711-9bca-3253b30ae83a",
   "metadata": {},
   "source": [
    "\n",
    "agent_data.loc[:, \"Stolen Bins\"] = pd.cut(agent_data[\"Total Stolen\"], bins=bins, right=False)\n",
    "agent_data.loc[:, \"Eaten Bins\"] = pd.cut(agent_data[\"Total Eaten\"], bins=bins, right=False)\n",
    "agent_data.loc[:, \"Shared Bins\"] = pd.cut(agent_data[\"Total Shared\"], bins=bins, right=False)\n",
    "\n",
    "grouped_stolen = agent_data.groupby(\"Stolen Bins\")[\"Survival\"].mean().reset_index()\n",
    "grouped_eaten = agent_data.groupby(\"Eaten Bins\")[\"Survival\"].mean().reset_index()\n",
    "grouped_shared = agent_data.groupby(\"Shared Bins\")[\"Survival\"].mean().reset_index()\n",
    "\n",
    "# Collection Efficiency vs Wealth\n",
    "plt.figure(figsize=(10, 6))\n",
    "sns.barplot(data=agent_data, x=\"Collection Efficiency\", y=\"Survival\")\n",
    "plt.title('Collection Efficiency vs Survival')\n",
    "#plt.show()\n",
    "plt.savefig(\"Plots/Corrupt/Survival/corrupt_efficiency.png\")\n",
    "\n",
    "# Consumption vs Wealth\n",
    "plt.figure(figsize=(10, 6))\n",
    "sns.barplot(data=agent_data, x=\"Consumption\", y=\"Survival\")\n",
    "plt.title('Consumption (Metabolism) vs Survival')\n",
    "#plt.show()\n",
    "plt.savefig(\"Plots/Corrupt/Survival/corrupt_consumption.png\")\n",
    "\n",
    "#Total Stolen vs Wealth\n",
    "plt.figure(figsize=(10, 6))\n",
    "sns.barplot(data=grouped_stolen, x=\"Stolen Bins\", y=\"Survival\")\n",
    "plt.title('Survival vs Total Stolen')\n",
    "plt.xlabel('Range Stolen')\n",
    "plt.ylabel('Survival')\n",
    "plt.xticks(rotation=45)\n",
    "plt.tight_layout()\n",
    "#plt.show()\n",
    "plt.savefig(\"Plots/Corrupt/Survival/corrupt_totstolen.png\")\n",
    "\n",
    "#Total eat\n",
    "plt.figure(figsize=(10, 6))\n",
    "sns.barplot(data=grouped_eaten, x=\"Eaten Bins\", y=\"Survival\")\n",
    "plt.title('Survival vs Total Eaten')\n",
    "plt.xlabel('Total Eaten')\n",
    "plt.ylabel('Survivial')\n",
    "plt.xticks(rotation=45)\n",
    "plt.tight_layout()\n",
    "#plt.show()\n",
    "plt.savefig(\"Plots/Corrupt/Survival/corrupt_toteaten.png\")\n",
    "\n",
    "# Total Shared vs Wealth\n",
    "plt.figure(figsize=(10, 6))\n",
    "sns.barplot(data=grouped_shared, x=\"Shared Bins\", y=\"Survival\")\n",
    "plt.title('Survivla vs Total Shared')\n",
    "plt.xlabel('Total Shared')\n",
    "plt.ylabel('Survival')\n",
    "plt.xticks(rotation=45)\n",
    "plt.tight_layout()\n",
    "#plt.show()\n",
    "plt.savefig(\"Plots/Corrupt/Survival/corrupt_totshared.png\")"
   ]
  },
  {
   "cell_type": "code",
   "execution_count": 11,
   "id": "01c0f9de",
   "metadata": {},
   "outputs": [
    {
     "name": "stdout",
     "output_type": "stream",
     "text": [
      "Available steps: Index([  1,   2,   3,   4,   5,   6,   7,   8,   9,  10,\n",
      "       ...\n",
      "       191, 192, 193, 194, 195, 196, 197, 198, 199, 200],\n",
      "      dtype='int64', name='Step', length=200)\n"
     ]
    }
   ],
   "source": [
    "# Check the unique steps available in the data\n",
    "agent_data = model1.datacollector.get_agent_vars_dataframe()\n",
    "available_steps = agent_data.index.get_level_values('Step').unique()\n",
    "print(\"Available steps:\", available_steps)\n"
   ]
  },
  {
   "cell_type": "code",
   "execution_count": 12,
   "id": "0537f8fc-0dfa-489d-ae8a-ccf5eef8abd5",
   "metadata": {},
   "outputs": [
    {
     "name": "stdout",
     "output_type": "stream",
     "text": [
      "Interface starting at http://127.0.0.1:8521\n"
     ]
    },
    {
     "name": "stderr",
     "output_type": "stream",
     "text": [
      "C:\\Users\\DELL\\AppData\\Local\\Temp\\ipykernel_10904\\4154255263.py:4: FutureWarning: The Mesa Model class was not initialized. In the future, you need to explicitly initialize the Model by calling super().__init__() on initialization.\n",
      "  super().__init__(unique_id, model)\n"
     ]
    },
    {
     "ename": "AssertionError",
     "evalue": "",
     "output_type": "error",
     "traceback": [
      "\u001b[1;31m---------------------------------------------------------------------------\u001b[0m",
      "\u001b[1;31mAssertionError\u001b[0m                            Traceback (most recent call last)",
      "Cell \u001b[1;32mIn[12], line 41\u001b[0m\n\u001b[0;32m     39\u001b[0m \u001b[38;5;66;03m# Launch the server\u001b[39;00m\n\u001b[0;32m     40\u001b[0m server\u001b[38;5;241m.\u001b[39mport \u001b[38;5;241m=\u001b[39m \u001b[38;5;241m8521\u001b[39m  \u001b[38;5;66;03m# The default\u001b[39;00m\n\u001b[1;32m---> 41\u001b[0m server\u001b[38;5;241m.\u001b[39mlaunch()\n",
      "File \u001b[1;32m~\\anaconda3\\Lib\\site-packages\\mesa_viz_tornado\\ModularVisualization.py:407\u001b[0m, in \u001b[0;36mModularServer.launch\u001b[1;34m(self, port, open_browser)\u001b[0m\n\u001b[0;32m    405\u001b[0m tornado\u001b[38;5;241m.\u001b[39mautoreload\u001b[38;5;241m.\u001b[39mstart()\n\u001b[0;32m    406\u001b[0m \u001b[38;5;28;01mtry\u001b[39;00m:\n\u001b[1;32m--> 407\u001b[0m     tornado\u001b[38;5;241m.\u001b[39mioloop\u001b[38;5;241m.\u001b[39mIOLoop\u001b[38;5;241m.\u001b[39mcurrent()\u001b[38;5;241m.\u001b[39mstart()\n\u001b[0;32m    408\u001b[0m \u001b[38;5;28;01mexcept\u001b[39;00m \u001b[38;5;167;01mKeyboardInterrupt\u001b[39;00m:\n\u001b[0;32m    409\u001b[0m     tornado\u001b[38;5;241m.\u001b[39mioloop\u001b[38;5;241m.\u001b[39mIOLoop\u001b[38;5;241m.\u001b[39mcurrent()\u001b[38;5;241m.\u001b[39mstop()\n",
      "File \u001b[1;32m~\\anaconda3\\Lib\\site-packages\\tornado\\platform\\asyncio.py:205\u001b[0m, in \u001b[0;36mBaseAsyncIOLoop.start\u001b[1;34m(self)\u001b[0m\n\u001b[0;32m    204\u001b[0m \u001b[38;5;28;01mdef\u001b[39;00m \u001b[38;5;21mstart\u001b[39m(\u001b[38;5;28mself\u001b[39m) \u001b[38;5;241m-\u001b[39m\u001b[38;5;241m>\u001b[39m \u001b[38;5;28;01mNone\u001b[39;00m:\n\u001b[1;32m--> 205\u001b[0m     \u001b[38;5;28mself\u001b[39m\u001b[38;5;241m.\u001b[39masyncio_loop\u001b[38;5;241m.\u001b[39mrun_forever()\n",
      "File \u001b[1;32m~\\anaconda3\\Lib\\asyncio\\windows_events.py:320\u001b[0m, in \u001b[0;36mProactorEventLoop.run_forever\u001b[1;34m(self)\u001b[0m\n\u001b[0;32m    318\u001b[0m \u001b[38;5;28;01mdef\u001b[39;00m \u001b[38;5;21mrun_forever\u001b[39m(\u001b[38;5;28mself\u001b[39m):\n\u001b[0;32m    319\u001b[0m     \u001b[38;5;28;01mtry\u001b[39;00m:\n\u001b[1;32m--> 320\u001b[0m         \u001b[38;5;28;01massert\u001b[39;00m \u001b[38;5;28mself\u001b[39m\u001b[38;5;241m.\u001b[39m_self_reading_future \u001b[38;5;129;01mis\u001b[39;00m \u001b[38;5;28;01mNone\u001b[39;00m\n\u001b[0;32m    321\u001b[0m         \u001b[38;5;28mself\u001b[39m\u001b[38;5;241m.\u001b[39mcall_soon(\u001b[38;5;28mself\u001b[39m\u001b[38;5;241m.\u001b[39m_loop_self_reading)\n\u001b[0;32m    322\u001b[0m         \u001b[38;5;28msuper\u001b[39m()\u001b[38;5;241m.\u001b[39mrun_forever()\n",
      "\u001b[1;31mAssertionError\u001b[0m: "
     ]
    },
    {
     "name": "stdout",
     "output_type": "stream",
     "text": [
      "Socket opened!\n",
      "{\"type\":\"reset\"}\n"
     ]
    },
    {
     "name": "stderr",
     "output_type": "stream",
     "text": [
      "C:\\Users\\DELL\\AppData\\Local\\Temp\\ipykernel_10904\\1091004614.py:13: DeprecationWarning: Because of the shift to using AgentSet, in the future this attribute will return a dict withtype as key as AgentSet as value. Future behavior is available via RandomActivationByType._agents_by_type\n"
     ]
    }
   ],
   "source": [
    "# Portrayal function for visualization\n",
    "def agent_portrayal(agent):\n",
    "    portrayal = {\"Shape\": \"circle\",\n",
    "                 \"Filled\": \"true\",\n",
    "                 \"r\": 0.2}\n",
    "\n",
    "    if isinstance(agent, Sugar):\n",
    "        portrayal[\"Color\"] = \"green\"\n",
    "        portrayal[\"Layer\"] = 0\n",
    "        portrayal[\"r\"] = agent.curr_amount / 30  # Scale size based on sugar amount\n",
    "    elif isinstance(agent, Corrupt_agent):\n",
    "        portrayal[\"Color\"] = \"red\"\n",
    "        portrayal[\"Layer\"] = 1\n",
    "        #portrayal[\"r\"] = agent.sugar_agent / 30  # Scale size based on agent's sugar\n",
    "        portrayal[\"text\"] = str(agent.sugar_agent)  # Display the unique_id as text\n",
    "        portrayal[\"text_color\"] = \"black\"  # Set the color of the text\n",
    "\n",
    "    return portrayal\n",
    "\n",
    "agent_count_element = AgentCountElement()\n",
    "average_wealth_element = AverageWealthElement()\n",
    "\n",
    "# CanvasGrid for visualization\n",
    "grid = CanvasGrid(agent_portrayal, 50, 50, 500, 500)\n",
    "\n",
    "# ChartModule for visualizing data\n",
    "chart = ChartModule([{\"Label\": \"Share amount\",\n",
    "                      \"Color\": \"Blue\"},\n",
    "                     {\"Label\": \"Stolen Amount\",\n",
    "                      \"Color\": \"Red\"}],\n",
    "                    data_collector_name='datacollector')\n",
    "\n",
    "# Setting up the server\n",
    "server = ModularServer(Model,\n",
    "                       [grid, agent_count_element, average_wealth_element],\n",
    "                       \"Sugar Model\",\n",
    "                       {\"X\": 50, \"Y\": 50, \"init_population\": 100, \"init_resource_min\": 25, \"init_resource_max\": 50,\n",
    "                        \"metabolism_min\": 1, \"metabolism_max\": 5, \"vision_min\": 1, \"vision_max\": 5, \"seed\": global_seed})\n",
    "# Launch the server\n",
    "server.port = 8521  # The default\n",
    "server.launch()"
   ]
  },
  {
   "cell_type": "code",
   "execution_count": null,
   "id": "e4eff880-7ab2-4e8c-be20-524e0b6f217a",
   "metadata": {},
   "outputs": [],
   "source": []
  }
 ],
 "metadata": {
  "kernelspec": {
   "display_name": "Python 3 (ipykernel)",
   "language": "python",
   "name": "python3"
  },
  "language_info": {
   "codemirror_mode": {
    "name": "ipython",
    "version": 3
   },
   "file_extension": ".py",
   "mimetype": "text/x-python",
   "name": "python",
   "nbconvert_exporter": "python",
   "pygments_lexer": "ipython3",
   "version": "3.12.4"
  }
 },
 "nbformat": 4,
 "nbformat_minor": 5
}
